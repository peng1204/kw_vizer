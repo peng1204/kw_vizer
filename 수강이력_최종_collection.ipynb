{
 "cells": [
  {
   "cell_type": "code",
   "execution_count": 1,
   "id": "9aace1e3-cd79-418e-a21a-69b20c01311e",
   "metadata": {
    "scrolled": true
   },
   "outputs": [
    {
     "name": "stdout",
     "output_type": "stream",
     "text": [
      "Requirement already satisfied: langchain in c:\\users\\문선장\\appdata\\local\\programs\\python\\python313\\lib\\site-packages (0.3.23)\n",
      "Requirement already satisfied: langchain-community in c:\\users\\문선장\\appdata\\local\\programs\\python\\python313\\lib\\site-packages (0.3.21)\n",
      "Collecting langchain_openai\n",
      "  Downloading langchain_openai-0.3.16-py3-none-any.whl.metadata (2.3 kB)\n",
      "Requirement already satisfied: langchain_text_splitters in c:\\users\\문선장\\appdata\\local\\programs\\python\\python313\\lib\\site-packages (0.3.8)\n",
      "Collecting sentence_transformers\n",
      "  Using cached sentence_transformers-4.1.0-py3-none-any.whl.metadata (13 kB)\n",
      "Collecting pypdfium2\n",
      "  Downloading pypdfium2-4.30.1-py3-none-win_amd64.whl.metadata (48 kB)\n",
      "Requirement already satisfied: langchain-core<1.0.0,>=0.3.51 in c:\\users\\문선장\\appdata\\local\\programs\\python\\python313\\lib\\site-packages (from langchain) (0.3.51)\n",
      "Requirement already satisfied: langsmith<0.4,>=0.1.17 in c:\\users\\문선장\\appdata\\local\\programs\\python\\python313\\lib\\site-packages (from langchain) (0.3.30)\n",
      "Requirement already satisfied: pydantic<3.0.0,>=2.7.4 in c:\\users\\문선장\\appdata\\local\\programs\\python\\python313\\lib\\site-packages (from langchain) (2.11.3)\n",
      "Requirement already satisfied: SQLAlchemy<3,>=1.4 in c:\\users\\문선장\\appdata\\local\\programs\\python\\python313\\lib\\site-packages (from langchain) (2.0.40)\n",
      "Requirement already satisfied: requests<3,>=2 in c:\\users\\문선장\\appdata\\local\\programs\\python\\python313\\lib\\site-packages (from langchain) (2.32.3)\n",
      "Requirement already satisfied: PyYAML>=5.3 in c:\\users\\문선장\\appdata\\local\\programs\\python\\python313\\lib\\site-packages (from langchain) (6.0.2)\n",
      "Requirement already satisfied: aiohttp<4.0.0,>=3.8.3 in c:\\users\\문선장\\appdata\\local\\programs\\python\\python313\\lib\\site-packages (from langchain-community) (3.11.16)\n",
      "Requirement already satisfied: tenacity!=8.4.0,<10,>=8.1.0 in c:\\users\\문선장\\appdata\\local\\programs\\python\\python313\\lib\\site-packages (from langchain-community) (9.1.2)\n",
      "Requirement already satisfied: dataclasses-json<0.7,>=0.5.7 in c:\\users\\문선장\\appdata\\local\\programs\\python\\python313\\lib\\site-packages (from langchain-community) (0.6.7)\n",
      "Requirement already satisfied: pydantic-settings<3.0.0,>=2.4.0 in c:\\users\\문선장\\appdata\\local\\programs\\python\\python313\\lib\\site-packages (from langchain-community) (2.8.1)\n",
      "Requirement already satisfied: httpx-sse<1.0.0,>=0.4.0 in c:\\users\\문선장\\appdata\\local\\programs\\python\\python313\\lib\\site-packages (from langchain-community) (0.4.0)\n",
      "Requirement already satisfied: numpy<3,>=1.26.2 in c:\\users\\문선장\\appdata\\local\\programs\\python\\python313\\lib\\site-packages (from langchain-community) (2.2.4)\n",
      "Collecting langchain-core<1.0.0,>=0.3.51 (from langchain)\n",
      "  Downloading langchain_core-0.3.58-py3-none-any.whl.metadata (5.9 kB)\n",
      "Requirement already satisfied: openai<2.0.0,>=1.68.2 in c:\\users\\문선장\\appdata\\local\\programs\\python\\python313\\lib\\site-packages (from langchain_openai) (1.73.0)\n",
      "Requirement already satisfied: tiktoken<1,>=0.7 in c:\\users\\문선장\\appdata\\local\\programs\\python\\python313\\lib\\site-packages (from langchain_openai) (0.9.0)\n",
      "Collecting transformers<5.0.0,>=4.41.0 (from sentence_transformers)\n",
      "  Using cached transformers-4.51.3-py3-none-any.whl.metadata (38 kB)\n",
      "Requirement already satisfied: tqdm in c:\\users\\문선장\\appdata\\local\\programs\\python\\python313\\lib\\site-packages (from sentence_transformers) (4.67.1)\n",
      "Collecting torch>=1.11.0 (from sentence_transformers)\n",
      "  Using cached torch-2.7.0-cp313-cp313-win_amd64.whl.metadata (29 kB)\n",
      "Collecting scikit-learn (from sentence_transformers)\n",
      "  Using cached scikit_learn-1.6.1-cp313-cp313-win_amd64.whl.metadata (15 kB)\n",
      "Collecting scipy (from sentence_transformers)\n",
      "  Using cached scipy-1.15.2-cp313-cp313-win_amd64.whl.metadata (60 kB)\n",
      "Requirement already satisfied: huggingface-hub>=0.20.0 in c:\\users\\문선장\\appdata\\local\\programs\\python\\python313\\lib\\site-packages (from sentence_transformers) (0.30.2)\n",
      "Requirement already satisfied: Pillow in c:\\users\\문선장\\appdata\\local\\programs\\python\\python313\\lib\\site-packages (from sentence_transformers) (11.2.1)\n",
      "Requirement already satisfied: typing_extensions>=4.5.0 in c:\\users\\문선장\\appdata\\local\\programs\\python\\python313\\lib\\site-packages (from sentence_transformers) (4.13.0)\n",
      "Requirement already satisfied: aiohappyeyeballs>=2.3.0 in c:\\users\\문선장\\appdata\\local\\programs\\python\\python313\\lib\\site-packages (from aiohttp<4.0.0,>=3.8.3->langchain-community) (2.6.1)\n",
      "Requirement already satisfied: aiosignal>=1.1.2 in c:\\users\\문선장\\appdata\\local\\programs\\python\\python313\\lib\\site-packages (from aiohttp<4.0.0,>=3.8.3->langchain-community) (1.3.2)\n",
      "Requirement already satisfied: attrs>=17.3.0 in c:\\users\\문선장\\appdata\\local\\programs\\python\\python313\\lib\\site-packages (from aiohttp<4.0.0,>=3.8.3->langchain-community) (25.3.0)\n",
      "Requirement already satisfied: frozenlist>=1.1.1 in c:\\users\\문선장\\appdata\\local\\programs\\python\\python313\\lib\\site-packages (from aiohttp<4.0.0,>=3.8.3->langchain-community) (1.5.0)\n",
      "Requirement already satisfied: multidict<7.0,>=4.5 in c:\\users\\문선장\\appdata\\local\\programs\\python\\python313\\lib\\site-packages (from aiohttp<4.0.0,>=3.8.3->langchain-community) (6.4.3)\n",
      "Requirement already satisfied: propcache>=0.2.0 in c:\\users\\문선장\\appdata\\local\\programs\\python\\python313\\lib\\site-packages (from aiohttp<4.0.0,>=3.8.3->langchain-community) (0.3.1)\n",
      "Requirement already satisfied: yarl<2.0,>=1.17.0 in c:\\users\\문선장\\appdata\\local\\programs\\python\\python313\\lib\\site-packages (from aiohttp<4.0.0,>=3.8.3->langchain-community) (1.19.0)\n",
      "Requirement already satisfied: marshmallow<4.0.0,>=3.18.0 in c:\\users\\문선장\\appdata\\local\\programs\\python\\python313\\lib\\site-packages (from dataclasses-json<0.7,>=0.5.7->langchain-community) (3.26.1)\n",
      "Requirement already satisfied: typing-inspect<1,>=0.4.0 in c:\\users\\문선장\\appdata\\local\\programs\\python\\python313\\lib\\site-packages (from dataclasses-json<0.7,>=0.5.7->langchain-community) (0.9.0)\n",
      "Requirement already satisfied: filelock in c:\\users\\문선장\\appdata\\local\\programs\\python\\python313\\lib\\site-packages (from huggingface-hub>=0.20.0->sentence_transformers) (3.18.0)\n",
      "Requirement already satisfied: fsspec>=2023.5.0 in c:\\users\\문선장\\appdata\\local\\programs\\python\\python313\\lib\\site-packages (from huggingface-hub>=0.20.0->sentence_transformers) (2025.3.2)\n",
      "Requirement already satisfied: packaging>=20.9 in c:\\users\\문선장\\appdata\\local\\programs\\python\\python313\\lib\\site-packages (from huggingface-hub>=0.20.0->sentence_transformers) (24.2)\n",
      "Requirement already satisfied: jsonpatch<2.0,>=1.33 in c:\\users\\문선장\\appdata\\local\\programs\\python\\python313\\lib\\site-packages (from langchain-core<1.0.0,>=0.3.51->langchain) (1.33)\n",
      "Requirement already satisfied: httpx<1,>=0.23.0 in c:\\users\\문선장\\appdata\\local\\programs\\python\\python313\\lib\\site-packages (from langsmith<0.4,>=0.1.17->langchain) (0.28.1)\n",
      "Requirement already satisfied: orjson<4.0.0,>=3.9.14 in c:\\users\\문선장\\appdata\\local\\programs\\python\\python313\\lib\\site-packages (from langsmith<0.4,>=0.1.17->langchain) (3.10.16)\n",
      "Requirement already satisfied: requests-toolbelt<2.0.0,>=1.0.0 in c:\\users\\문선장\\appdata\\local\\programs\\python\\python313\\lib\\site-packages (from langsmith<0.4,>=0.1.17->langchain) (1.0.0)\n",
      "Requirement already satisfied: zstandard<0.24.0,>=0.23.0 in c:\\users\\문선장\\appdata\\local\\programs\\python\\python313\\lib\\site-packages (from langsmith<0.4,>=0.1.17->langchain) (0.23.0)\n",
      "Requirement already satisfied: anyio<5,>=3.5.0 in c:\\users\\문선장\\appdata\\local\\programs\\python\\python313\\lib\\site-packages (from openai<2.0.0,>=1.68.2->langchain_openai) (4.9.0)\n",
      "Requirement already satisfied: distro<2,>=1.7.0 in c:\\users\\문선장\\appdata\\local\\programs\\python\\python313\\lib\\site-packages (from openai<2.0.0,>=1.68.2->langchain_openai) (1.9.0)\n",
      "Requirement already satisfied: jiter<1,>=0.4.0 in c:\\users\\문선장\\appdata\\local\\programs\\python\\python313\\lib\\site-packages (from openai<2.0.0,>=1.68.2->langchain_openai) (0.9.0)\n",
      "Requirement already satisfied: sniffio in c:\\users\\문선장\\appdata\\local\\programs\\python\\python313\\lib\\site-packages (from openai<2.0.0,>=1.68.2->langchain_openai) (1.3.1)\n",
      "Requirement already satisfied: annotated-types>=0.6.0 in c:\\users\\문선장\\appdata\\local\\programs\\python\\python313\\lib\\site-packages (from pydantic<3.0.0,>=2.7.4->langchain) (0.7.0)\n",
      "Requirement already satisfied: pydantic-core==2.33.1 in c:\\users\\문선장\\appdata\\local\\programs\\python\\python313\\lib\\site-packages (from pydantic<3.0.0,>=2.7.4->langchain) (2.33.1)\n",
      "Requirement already satisfied: typing-inspection>=0.4.0 in c:\\users\\문선장\\appdata\\local\\programs\\python\\python313\\lib\\site-packages (from pydantic<3.0.0,>=2.7.4->langchain) (0.4.0)\n",
      "Requirement already satisfied: python-dotenv>=0.21.0 in c:\\users\\문선장\\appdata\\local\\programs\\python\\python313\\lib\\site-packages (from pydantic-settings<3.0.0,>=2.4.0->langchain-community) (1.1.0)\n",
      "Requirement already satisfied: charset-normalizer<4,>=2 in c:\\users\\문선장\\appdata\\local\\programs\\python\\python313\\lib\\site-packages (from requests<3,>=2->langchain) (3.4.1)\n",
      "Requirement already satisfied: idna<4,>=2.5 in c:\\users\\문선장\\appdata\\local\\programs\\python\\python313\\lib\\site-packages (from requests<3,>=2->langchain) (3.10)\n",
      "Requirement already satisfied: urllib3<3,>=1.21.1 in c:\\users\\문선장\\appdata\\local\\programs\\python\\python313\\lib\\site-packages (from requests<3,>=2->langchain) (2.3.0)\n",
      "Requirement already satisfied: certifi>=2017.4.17 in c:\\users\\문선장\\appdata\\local\\programs\\python\\python313\\lib\\site-packages (from requests<3,>=2->langchain) (2025.1.31)\n",
      "Requirement already satisfied: greenlet>=1 in c:\\users\\문선장\\appdata\\local\\programs\\python\\python313\\lib\\site-packages (from SQLAlchemy<3,>=1.4->langchain) (3.1.1)\n",
      "Requirement already satisfied: regex>=2022.1.18 in c:\\users\\문선장\\appdata\\local\\programs\\python\\python313\\lib\\site-packages (from tiktoken<1,>=0.7->langchain_openai) (2024.11.6)\n",
      "Requirement already satisfied: sympy>=1.13.3 in c:\\users\\문선장\\appdata\\local\\programs\\python\\python313\\lib\\site-packages (from torch>=1.11.0->sentence_transformers) (1.13.3)\n",
      "Collecting networkx (from torch>=1.11.0->sentence_transformers)\n",
      "  Using cached networkx-3.4.2-py3-none-any.whl.metadata (6.3 kB)\n",
      "Requirement already satisfied: jinja2 in c:\\users\\문선장\\appdata\\local\\programs\\python\\python313\\lib\\site-packages (from torch>=1.11.0->sentence_transformers) (3.1.6)\n",
      "Requirement already satisfied: setuptools in c:\\users\\문선장\\appdata\\local\\programs\\python\\python313\\lib\\site-packages (from torch>=1.11.0->sentence_transformers) (78.1.0)\n",
      "Requirement already satisfied: colorama in c:\\users\\문선장\\appdata\\local\\programs\\python\\python313\\lib\\site-packages (from tqdm->sentence_transformers) (0.4.6)\n",
      "Requirement already satisfied: tokenizers<0.22,>=0.21 in c:\\users\\문선장\\appdata\\local\\programs\\python\\python313\\lib\\site-packages (from transformers<5.0.0,>=4.41.0->sentence_transformers) (0.21.1)\n",
      "Collecting safetensors>=0.4.3 (from transformers<5.0.0,>=4.41.0->sentence_transformers)\n",
      "  Using cached safetensors-0.5.3-cp38-abi3-win_amd64.whl.metadata (3.9 kB)\n",
      "Collecting joblib>=1.2.0 (from scikit-learn->sentence_transformers)\n",
      "  Downloading joblib-1.5.0-py3-none-any.whl.metadata (5.6 kB)\n",
      "Collecting threadpoolctl>=3.1.0 (from scikit-learn->sentence_transformers)\n",
      "  Using cached threadpoolctl-3.6.0-py3-none-any.whl.metadata (13 kB)\n",
      "Requirement already satisfied: httpcore==1.* in c:\\users\\문선장\\appdata\\local\\programs\\python\\python313\\lib\\site-packages (from httpx<1,>=0.23.0->langsmith<0.4,>=0.1.17->langchain) (1.0.7)\n",
      "Requirement already satisfied: h11<0.15,>=0.13 in c:\\users\\문선장\\appdata\\local\\programs\\python\\python313\\lib\\site-packages (from httpcore==1.*->httpx<1,>=0.23.0->langsmith<0.4,>=0.1.17->langchain) (0.14.0)\n",
      "Requirement already satisfied: jsonpointer>=1.9 in c:\\users\\문선장\\appdata\\local\\programs\\python\\python313\\lib\\site-packages (from jsonpatch<2.0,>=1.33->langchain-core<1.0.0,>=0.3.51->langchain) (3.0.0)\n",
      "Requirement already satisfied: mpmath<1.4,>=1.1.0 in c:\\users\\문선장\\appdata\\local\\programs\\python\\python313\\lib\\site-packages (from sympy>=1.13.3->torch>=1.11.0->sentence_transformers) (1.3.0)\n",
      "Requirement already satisfied: mypy-extensions>=0.3.0 in c:\\users\\문선장\\appdata\\local\\programs\\python\\python313\\lib\\site-packages (from typing-inspect<1,>=0.4.0->dataclasses-json<0.7,>=0.5.7->langchain-community) (1.0.0)\n",
      "Requirement already satisfied: MarkupSafe>=2.0 in c:\\users\\문선장\\appdata\\local\\programs\\python\\python313\\lib\\site-packages (from jinja2->torch>=1.11.0->sentence_transformers) (3.0.2)\n",
      "Downloading langchain_openai-0.3.16-py3-none-any.whl (62 kB)\n",
      "Using cached sentence_transformers-4.1.0-py3-none-any.whl (345 kB)\n",
      "Downloading pypdfium2-4.30.1-py3-none-win_amd64.whl (3.0 MB)\n",
      "   ---------------------------------------- 0.0/3.0 MB ? eta -:--:--\n",
      "   ----------------- ---------------------- 1.3/3.0 MB 7.5 MB/s eta 0:00:01\n",
      "   ----------------------------------- ---- 2.6/3.0 MB 6.8 MB/s eta 0:00:01\n",
      "   ---------------------------------------- 3.0/3.0 MB 6.5 MB/s eta 0:00:00\n",
      "Downloading langchain_core-0.3.58-py3-none-any.whl (437 kB)\n",
      "Using cached torch-2.7.0-cp313-cp313-win_amd64.whl (212.5 MB)\n",
      "Using cached transformers-4.51.3-py3-none-any.whl (10.4 MB)\n",
      "Using cached scikit_learn-1.6.1-cp313-cp313-win_amd64.whl (11.1 MB)\n",
      "Using cached scipy-1.15.2-cp313-cp313-win_amd64.whl (41.0 MB)\n",
      "Downloading joblib-1.5.0-py3-none-any.whl (307 kB)\n",
      "Using cached safetensors-0.5.3-cp38-abi3-win_amd64.whl (308 kB)\n",
      "Using cached threadpoolctl-3.6.0-py3-none-any.whl (18 kB)\n",
      "Using cached networkx-3.4.2-py3-none-any.whl (1.7 MB)\n",
      "Installing collected packages: threadpoolctl, scipy, safetensors, pypdfium2, networkx, joblib, torch, scikit-learn, transformers, langchain-core, sentence_transformers, langchain_openai\n",
      "  Attempting uninstall: langchain-core\n",
      "    Found existing installation: langchain-core 0.3.51\n",
      "    Uninstalling langchain-core-0.3.51:\n",
      "      Successfully uninstalled langchain-core-0.3.51\n",
      "Successfully installed joblib-1.5.0 langchain-core-0.3.58 langchain_openai-0.3.16 networkx-3.4.2 pypdfium2-4.30.1 safetensors-0.5.3 scikit-learn-1.6.1 scipy-1.15.2 sentence_transformers-4.1.0 threadpoolctl-3.6.0 torch-2.7.0 transformers-4.51.3\n",
      "Note: you may need to restart the kernel to use updated packages.\n"
     ]
    },
    {
     "name": "stderr",
     "output_type": "stream",
     "text": [
      "\n",
      "[notice] A new release of pip is available: 25.0.1 -> 25.1.1\n",
      "[notice] To update, run: python.exe -m pip install --upgrade pip\n"
     ]
    }
   ],
   "source": [
    "pip install langchain langchain-community langchain_openai langchain_text_splitters sentence_transformers pypdfium2"
   ]
  },
  {
   "cell_type": "code",
   "execution_count": 9,
   "id": "99357f5f-8500-42ff-bc53-99684e3b4bf8",
   "metadata": {
    "scrolled": true
   },
   "outputs": [
    {
     "name": "stdout",
     "output_type": "stream",
     "text": [
      "Requirement already satisfied: chromadb in c:\\users\\문선장\\appdata\\local\\programs\\python\\python313\\lib\\site-packages (1.0.4)\n",
      "Requirement already satisfied: build>=1.0.3 in c:\\users\\문선장\\appdata\\local\\programs\\python\\python313\\lib\\site-packages (from chromadb) (1.2.2.post1)\n",
      "Requirement already satisfied: pydantic>=1.9 in c:\\users\\문선장\\appdata\\local\\programs\\python\\python313\\lib\\site-packages (from chromadb) (2.11.3)\n",
      "Requirement already satisfied: chroma-hnswlib==0.7.6 in c:\\users\\문선장\\appdata\\local\\programs\\python\\python313\\lib\\site-packages (from chromadb) (0.7.6)\n",
      "Requirement already satisfied: fastapi==0.115.9 in c:\\users\\문선장\\appdata\\local\\programs\\python\\python313\\lib\\site-packages (from chromadb) (0.115.9)\n",
      "Requirement already satisfied: uvicorn>=0.18.3 in c:\\users\\문선장\\appdata\\local\\programs\\python\\python313\\lib\\site-packages (from uvicorn[standard]>=0.18.3->chromadb) (0.34.1)\n",
      "Requirement already satisfied: numpy>=1.22.5 in c:\\users\\문선장\\appdata\\local\\programs\\python\\python313\\lib\\site-packages (from chromadb) (2.2.4)\n",
      "Requirement already satisfied: posthog>=2.4.0 in c:\\users\\문선장\\appdata\\local\\programs\\python\\python313\\lib\\site-packages (from chromadb) (3.24.1)\n",
      "Requirement already satisfied: typing-extensions>=4.5.0 in c:\\users\\문선장\\appdata\\local\\programs\\python\\python313\\lib\\site-packages (from chromadb) (4.13.0)\n",
      "Requirement already satisfied: onnxruntime>=1.14.1 in c:\\users\\문선장\\appdata\\local\\programs\\python\\python313\\lib\\site-packages (from chromadb) (1.21.0)\n",
      "Requirement already satisfied: opentelemetry-api>=1.2.0 in c:\\users\\문선장\\appdata\\local\\programs\\python\\python313\\lib\\site-packages (from chromadb) (1.32.0)\n",
      "Requirement already satisfied: opentelemetry-exporter-otlp-proto-grpc>=1.2.0 in c:\\users\\문선장\\appdata\\local\\programs\\python\\python313\\lib\\site-packages (from chromadb) (1.32.0)\n",
      "Requirement already satisfied: opentelemetry-instrumentation-fastapi>=0.41b0 in c:\\users\\문선장\\appdata\\local\\programs\\python\\python313\\lib\\site-packages (from chromadb) (0.53b0)\n",
      "Requirement already satisfied: opentelemetry-sdk>=1.2.0 in c:\\users\\문선장\\appdata\\local\\programs\\python\\python313\\lib\\site-packages (from chromadb) (1.32.0)\n",
      "Requirement already satisfied: tokenizers>=0.13.2 in c:\\users\\문선장\\appdata\\local\\programs\\python\\python313\\lib\\site-packages (from chromadb) (0.21.1)\n",
      "Requirement already satisfied: pypika>=0.48.9 in c:\\users\\문선장\\appdata\\local\\programs\\python\\python313\\lib\\site-packages (from chromadb) (0.48.9)\n",
      "Requirement already satisfied: tqdm>=4.65.0 in c:\\users\\문선장\\appdata\\local\\programs\\python\\python313\\lib\\site-packages (from chromadb) (4.67.1)\n",
      "Requirement already satisfied: overrides>=7.3.1 in c:\\users\\문선장\\appdata\\local\\programs\\python\\python313\\lib\\site-packages (from chromadb) (7.7.0)\n",
      "Requirement already satisfied: importlib-resources in c:\\users\\문선장\\appdata\\local\\programs\\python\\python313\\lib\\site-packages (from chromadb) (6.5.2)\n",
      "Requirement already satisfied: grpcio>=1.58.0 in c:\\users\\문선장\\appdata\\local\\programs\\python\\python313\\lib\\site-packages (from chromadb) (1.71.0)\n",
      "Requirement already satisfied: bcrypt>=4.0.1 in c:\\users\\문선장\\appdata\\local\\programs\\python\\python313\\lib\\site-packages (from chromadb) (4.3.0)\n",
      "Requirement already satisfied: typer>=0.9.0 in c:\\users\\문선장\\appdata\\local\\programs\\python\\python313\\lib\\site-packages (from chromadb) (0.15.2)\n",
      "Requirement already satisfied: kubernetes>=28.1.0 in c:\\users\\문선장\\appdata\\local\\programs\\python\\python313\\lib\\site-packages (from chromadb) (32.0.1)\n",
      "Requirement already satisfied: tenacity>=8.2.3 in c:\\users\\문선장\\appdata\\local\\programs\\python\\python313\\lib\\site-packages (from chromadb) (9.1.2)\n",
      "Requirement already satisfied: pyyaml>=6.0.0 in c:\\users\\문선장\\appdata\\local\\programs\\python\\python313\\lib\\site-packages (from chromadb) (6.0.2)\n",
      "Requirement already satisfied: mmh3>=4.0.1 in c:\\users\\문선장\\appdata\\local\\programs\\python\\python313\\lib\\site-packages (from chromadb) (5.1.0)\n",
      "Requirement already satisfied: orjson>=3.9.12 in c:\\users\\문선장\\appdata\\local\\programs\\python\\python313\\lib\\site-packages (from chromadb) (3.10.16)\n",
      "Requirement already satisfied: httpx>=0.27.0 in c:\\users\\문선장\\appdata\\local\\programs\\python\\python313\\lib\\site-packages (from chromadb) (0.28.1)\n",
      "Requirement already satisfied: rich>=10.11.0 in c:\\users\\문선장\\appdata\\local\\programs\\python\\python313\\lib\\site-packages (from chromadb) (14.0.0)\n",
      "Requirement already satisfied: jsonschema>=4.19.0 in c:\\users\\문선장\\appdata\\local\\programs\\python\\python313\\lib\\site-packages (from chromadb) (4.23.0)\n",
      "Requirement already satisfied: starlette<0.46.0,>=0.40.0 in c:\\users\\문선장\\appdata\\local\\programs\\python\\python313\\lib\\site-packages (from fastapi==0.115.9->chromadb) (0.45.3)\n",
      "Requirement already satisfied: packaging>=19.1 in c:\\users\\문선장\\appdata\\local\\programs\\python\\python313\\lib\\site-packages (from build>=1.0.3->chromadb) (24.2)\n",
      "Requirement already satisfied: pyproject_hooks in c:\\users\\문선장\\appdata\\local\\programs\\python\\python313\\lib\\site-packages (from build>=1.0.3->chromadb) (1.2.0)\n",
      "Requirement already satisfied: colorama in c:\\users\\문선장\\appdata\\local\\programs\\python\\python313\\lib\\site-packages (from build>=1.0.3->chromadb) (0.4.6)\n",
      "Requirement already satisfied: anyio in c:\\users\\문선장\\appdata\\local\\programs\\python\\python313\\lib\\site-packages (from httpx>=0.27.0->chromadb) (4.9.0)\n",
      "Requirement already satisfied: certifi in c:\\users\\문선장\\appdata\\local\\programs\\python\\python313\\lib\\site-packages (from httpx>=0.27.0->chromadb) (2025.1.31)\n",
      "Requirement already satisfied: httpcore==1.* in c:\\users\\문선장\\appdata\\local\\programs\\python\\python313\\lib\\site-packages (from httpx>=0.27.0->chromadb) (1.0.7)\n",
      "Requirement already satisfied: idna in c:\\users\\문선장\\appdata\\local\\programs\\python\\python313\\lib\\site-packages (from httpx>=0.27.0->chromadb) (3.10)\n",
      "Requirement already satisfied: h11<0.15,>=0.13 in c:\\users\\문선장\\appdata\\local\\programs\\python\\python313\\lib\\site-packages (from httpcore==1.*->httpx>=0.27.0->chromadb) (0.14.0)\n",
      "Requirement already satisfied: attrs>=22.2.0 in c:\\users\\문선장\\appdata\\local\\programs\\python\\python313\\lib\\site-packages (from jsonschema>=4.19.0->chromadb) (25.3.0)\n",
      "Requirement already satisfied: jsonschema-specifications>=2023.03.6 in c:\\users\\문선장\\appdata\\local\\programs\\python\\python313\\lib\\site-packages (from jsonschema>=4.19.0->chromadb) (2024.10.1)\n",
      "Requirement already satisfied: referencing>=0.28.4 in c:\\users\\문선장\\appdata\\local\\programs\\python\\python313\\lib\\site-packages (from jsonschema>=4.19.0->chromadb) (0.36.2)\n",
      "Requirement already satisfied: rpds-py>=0.7.1 in c:\\users\\문선장\\appdata\\local\\programs\\python\\python313\\lib\\site-packages (from jsonschema>=4.19.0->chromadb) (0.24.0)\n",
      "Requirement already satisfied: six>=1.9.0 in c:\\users\\문선장\\appdata\\local\\programs\\python\\python313\\lib\\site-packages (from kubernetes>=28.1.0->chromadb) (1.17.0)\n",
      "Requirement already satisfied: python-dateutil>=2.5.3 in c:\\users\\문선장\\appdata\\local\\programs\\python\\python313\\lib\\site-packages (from kubernetes>=28.1.0->chromadb) (2.9.0.post0)\n",
      "Requirement already satisfied: google-auth>=1.0.1 in c:\\users\\문선장\\appdata\\local\\programs\\python\\python313\\lib\\site-packages (from kubernetes>=28.1.0->chromadb) (2.38.0)\n",
      "Requirement already satisfied: websocket-client!=0.40.0,!=0.41.*,!=0.42.*,>=0.32.0 in c:\\users\\문선장\\appdata\\local\\programs\\python\\python313\\lib\\site-packages (from kubernetes>=28.1.0->chromadb) (1.8.0)\n",
      "Requirement already satisfied: requests in c:\\users\\문선장\\appdata\\local\\programs\\python\\python313\\lib\\site-packages (from kubernetes>=28.1.0->chromadb) (2.32.3)\n",
      "Requirement already satisfied: requests-oauthlib in c:\\users\\문선장\\appdata\\local\\programs\\python\\python313\\lib\\site-packages (from kubernetes>=28.1.0->chromadb) (2.0.0)\n",
      "Requirement already satisfied: oauthlib>=3.2.2 in c:\\users\\문선장\\appdata\\local\\programs\\python\\python313\\lib\\site-packages (from kubernetes>=28.1.0->chromadb) (3.2.2)\n",
      "Requirement already satisfied: urllib3>=1.24.2 in c:\\users\\문선장\\appdata\\local\\programs\\python\\python313\\lib\\site-packages (from kubernetes>=28.1.0->chromadb) (2.3.0)\n",
      "Requirement already satisfied: durationpy>=0.7 in c:\\users\\문선장\\appdata\\local\\programs\\python\\python313\\lib\\site-packages (from kubernetes>=28.1.0->chromadb) (0.9)\n",
      "Requirement already satisfied: coloredlogs in c:\\users\\문선장\\appdata\\local\\programs\\python\\python313\\lib\\site-packages (from onnxruntime>=1.14.1->chromadb) (15.0.1)\n",
      "Requirement already satisfied: flatbuffers in c:\\users\\문선장\\appdata\\local\\programs\\python\\python313\\lib\\site-packages (from onnxruntime>=1.14.1->chromadb) (25.2.10)\n",
      "Requirement already satisfied: protobuf in c:\\users\\문선장\\appdata\\local\\programs\\python\\python313\\lib\\site-packages (from onnxruntime>=1.14.1->chromadb) (5.29.4)\n",
      "Requirement already satisfied: sympy in c:\\users\\문선장\\appdata\\local\\programs\\python\\python313\\lib\\site-packages (from onnxruntime>=1.14.1->chromadb) (1.13.3)\n",
      "Requirement already satisfied: deprecated>=1.2.6 in c:\\users\\문선장\\appdata\\local\\programs\\python\\python313\\lib\\site-packages (from opentelemetry-api>=1.2.0->chromadb) (1.2.18)\n",
      "Requirement already satisfied: importlib-metadata<8.7.0,>=6.0 in c:\\users\\문선장\\appdata\\local\\programs\\python\\python313\\lib\\site-packages (from opentelemetry-api>=1.2.0->chromadb) (8.6.1)\n",
      "Requirement already satisfied: googleapis-common-protos~=1.52 in c:\\users\\문선장\\appdata\\local\\programs\\python\\python313\\lib\\site-packages (from opentelemetry-exporter-otlp-proto-grpc>=1.2.0->chromadb) (1.70.0)\n",
      "Requirement already satisfied: opentelemetry-exporter-otlp-proto-common==1.32.0 in c:\\users\\문선장\\appdata\\local\\programs\\python\\python313\\lib\\site-packages (from opentelemetry-exporter-otlp-proto-grpc>=1.2.0->chromadb) (1.32.0)\n",
      "Requirement already satisfied: opentelemetry-proto==1.32.0 in c:\\users\\문선장\\appdata\\local\\programs\\python\\python313\\lib\\site-packages (from opentelemetry-exporter-otlp-proto-grpc>=1.2.0->chromadb) (1.32.0)\n",
      "Requirement already satisfied: opentelemetry-instrumentation-asgi==0.53b0 in c:\\users\\문선장\\appdata\\local\\programs\\python\\python313\\lib\\site-packages (from opentelemetry-instrumentation-fastapi>=0.41b0->chromadb) (0.53b0)\n",
      "Requirement already satisfied: opentelemetry-instrumentation==0.53b0 in c:\\users\\문선장\\appdata\\local\\programs\\python\\python313\\lib\\site-packages (from opentelemetry-instrumentation-fastapi>=0.41b0->chromadb) (0.53b0)\n",
      "Requirement already satisfied: opentelemetry-semantic-conventions==0.53b0 in c:\\users\\문선장\\appdata\\local\\programs\\python\\python313\\lib\\site-packages (from opentelemetry-instrumentation-fastapi>=0.41b0->chromadb) (0.53b0)\n",
      "Requirement already satisfied: opentelemetry-util-http==0.53b0 in c:\\users\\문선장\\appdata\\local\\programs\\python\\python313\\lib\\site-packages (from opentelemetry-instrumentation-fastapi>=0.41b0->chromadb) (0.53b0)\n",
      "Requirement already satisfied: wrapt<2.0.0,>=1.0.0 in c:\\users\\문선장\\appdata\\local\\programs\\python\\python313\\lib\\site-packages (from opentelemetry-instrumentation==0.53b0->opentelemetry-instrumentation-fastapi>=0.41b0->chromadb) (1.17.2)\n",
      "Requirement already satisfied: asgiref~=3.0 in c:\\users\\문선장\\appdata\\local\\programs\\python\\python313\\lib\\site-packages (from opentelemetry-instrumentation-asgi==0.53b0->opentelemetry-instrumentation-fastapi>=0.41b0->chromadb) (3.8.1)\n",
      "Requirement already satisfied: monotonic>=1.5 in c:\\users\\문선장\\appdata\\local\\programs\\python\\python313\\lib\\site-packages (from posthog>=2.4.0->chromadb) (1.6)\n",
      "Requirement already satisfied: backoff>=1.10.0 in c:\\users\\문선장\\appdata\\local\\programs\\python\\python313\\lib\\site-packages (from posthog>=2.4.0->chromadb) (2.2.1)\n",
      "Requirement already satisfied: distro>=1.5.0 in c:\\users\\문선장\\appdata\\local\\programs\\python\\python313\\lib\\site-packages (from posthog>=2.4.0->chromadb) (1.9.0)\n",
      "Requirement already satisfied: annotated-types>=0.6.0 in c:\\users\\문선장\\appdata\\local\\programs\\python\\python313\\lib\\site-packages (from pydantic>=1.9->chromadb) (0.7.0)\n",
      "Requirement already satisfied: pydantic-core==2.33.1 in c:\\users\\문선장\\appdata\\local\\programs\\python\\python313\\lib\\site-packages (from pydantic>=1.9->chromadb) (2.33.1)\n",
      "Requirement already satisfied: typing-inspection>=0.4.0 in c:\\users\\문선장\\appdata\\local\\programs\\python\\python313\\lib\\site-packages (from pydantic>=1.9->chromadb) (0.4.0)\n",
      "Requirement already satisfied: markdown-it-py>=2.2.0 in c:\\users\\문선장\\appdata\\local\\programs\\python\\python313\\lib\\site-packages (from rich>=10.11.0->chromadb) (3.0.0)\n",
      "Requirement already satisfied: pygments<3.0.0,>=2.13.0 in c:\\users\\문선장\\appdata\\local\\programs\\python\\python313\\lib\\site-packages (from rich>=10.11.0->chromadb) (2.19.1)\n",
      "Requirement already satisfied: huggingface-hub<1.0,>=0.16.4 in c:\\users\\문선장\\appdata\\local\\programs\\python\\python313\\lib\\site-packages (from tokenizers>=0.13.2->chromadb) (0.30.2)\n",
      "Requirement already satisfied: click>=8.0.0 in c:\\users\\문선장\\appdata\\local\\programs\\python\\python313\\lib\\site-packages (from typer>=0.9.0->chromadb) (8.1.8)\n",
      "Requirement already satisfied: shellingham>=1.3.0 in c:\\users\\문선장\\appdata\\local\\programs\\python\\python313\\lib\\site-packages (from typer>=0.9.0->chromadb) (1.5.4)\n",
      "Requirement already satisfied: httptools>=0.6.3 in c:\\users\\문선장\\appdata\\local\\programs\\python\\python313\\lib\\site-packages (from uvicorn[standard]>=0.18.3->chromadb) (0.6.4)\n",
      "Requirement already satisfied: python-dotenv>=0.13 in c:\\users\\문선장\\appdata\\local\\programs\\python\\python313\\lib\\site-packages (from uvicorn[standard]>=0.18.3->chromadb) (1.1.0)\n",
      "Requirement already satisfied: watchfiles>=0.13 in c:\\users\\문선장\\appdata\\local\\programs\\python\\python313\\lib\\site-packages (from uvicorn[standard]>=0.18.3->chromadb) (1.0.5)\n",
      "Requirement already satisfied: websockets>=10.4 in c:\\users\\문선장\\appdata\\local\\programs\\python\\python313\\lib\\site-packages (from uvicorn[standard]>=0.18.3->chromadb) (15.0.1)\n",
      "Requirement already satisfied: cachetools<6.0,>=2.0.0 in c:\\users\\문선장\\appdata\\local\\programs\\python\\python313\\lib\\site-packages (from google-auth>=1.0.1->kubernetes>=28.1.0->chromadb) (5.5.2)\n",
      "Requirement already satisfied: pyasn1-modules>=0.2.1 in c:\\users\\문선장\\appdata\\local\\programs\\python\\python313\\lib\\site-packages (from google-auth>=1.0.1->kubernetes>=28.1.0->chromadb) (0.4.2)\n",
      "Requirement already satisfied: rsa<5,>=3.1.4 in c:\\users\\문선장\\appdata\\local\\programs\\python\\python313\\lib\\site-packages (from google-auth>=1.0.1->kubernetes>=28.1.0->chromadb) (4.9)\n",
      "Requirement already satisfied: filelock in c:\\users\\문선장\\appdata\\local\\programs\\python\\python313\\lib\\site-packages (from huggingface-hub<1.0,>=0.16.4->tokenizers>=0.13.2->chromadb) (3.18.0)\n",
      "Requirement already satisfied: fsspec>=2023.5.0 in c:\\users\\문선장\\appdata\\local\\programs\\python\\python313\\lib\\site-packages (from huggingface-hub<1.0,>=0.16.4->tokenizers>=0.13.2->chromadb) (2025.3.2)\n",
      "Requirement already satisfied: zipp>=3.20 in c:\\users\\문선장\\appdata\\local\\programs\\python\\python313\\lib\\site-packages (from importlib-metadata<8.7.0,>=6.0->opentelemetry-api>=1.2.0->chromadb) (3.21.0)\n",
      "Requirement already satisfied: mdurl~=0.1 in c:\\users\\문선장\\appdata\\local\\programs\\python\\python313\\lib\\site-packages (from markdown-it-py>=2.2.0->rich>=10.11.0->chromadb) (0.1.2)\n",
      "Requirement already satisfied: charset-normalizer<4,>=2 in c:\\users\\문선장\\appdata\\local\\programs\\python\\python313\\lib\\site-packages (from requests->kubernetes>=28.1.0->chromadb) (3.4.1)\n",
      "Requirement already satisfied: sniffio>=1.1 in c:\\users\\문선장\\appdata\\local\\programs\\python\\python313\\lib\\site-packages (from anyio->httpx>=0.27.0->chromadb) (1.3.1)\n",
      "Requirement already satisfied: humanfriendly>=9.1 in c:\\users\\문선장\\appdata\\local\\programs\\python\\python313\\lib\\site-packages (from coloredlogs->onnxruntime>=1.14.1->chromadb) (10.0)\n",
      "Requirement already satisfied: mpmath<1.4,>=1.1.0 in c:\\users\\문선장\\appdata\\local\\programs\\python\\python313\\lib\\site-packages (from sympy->onnxruntime>=1.14.1->chromadb) (1.3.0)\n",
      "Requirement already satisfied: pyreadline3 in c:\\users\\문선장\\appdata\\local\\programs\\python\\python313\\lib\\site-packages (from humanfriendly>=9.1->coloredlogs->onnxruntime>=1.14.1->chromadb) (3.5.4)\n",
      "Requirement already satisfied: pyasn1<0.7.0,>=0.6.1 in c:\\users\\문선장\\appdata\\local\\programs\\python\\python313\\lib\\site-packages (from pyasn1-modules>=0.2.1->google-auth>=1.0.1->kubernetes>=28.1.0->chromadb) (0.6.1)\n"
     ]
    },
    {
     "name": "stderr",
     "output_type": "stream",
     "text": [
      "\n",
      "[notice] A new release of pip is available: 25.0.1 -> 25.1.1\n",
      "[notice] To update, run: python.exe -m pip install --upgrade pip\n"
     ]
    },
    {
     "name": "stdout",
     "output_type": "stream",
     "text": [
      "Requirement already satisfied: langchain in c:\\users\\문선장\\appdata\\local\\programs\\python\\python313\\lib\\site-packages (0.3.23)\n",
      "Requirement already satisfied: langchain-openai in c:\\users\\문선장\\appdata\\local\\programs\\python\\python313\\lib\\site-packages (0.3.16)\n",
      "Requirement already satisfied: langchain-core<1.0.0,>=0.3.51 in c:\\users\\문선장\\appdata\\local\\programs\\python\\python313\\lib\\site-packages (from langchain) (0.3.58)\n",
      "Requirement already satisfied: langchain-text-splitters<1.0.0,>=0.3.8 in c:\\users\\문선장\\appdata\\local\\programs\\python\\python313\\lib\\site-packages (from langchain) (0.3.8)\n",
      "Requirement already satisfied: langsmith<0.4,>=0.1.17 in c:\\users\\문선장\\appdata\\local\\programs\\python\\python313\\lib\\site-packages (from langchain) (0.3.30)\n",
      "Requirement already satisfied: pydantic<3.0.0,>=2.7.4 in c:\\users\\문선장\\appdata\\local\\programs\\python\\python313\\lib\\site-packages (from langchain) (2.11.3)\n",
      "Requirement already satisfied: SQLAlchemy<3,>=1.4 in c:\\users\\문선장\\appdata\\local\\programs\\python\\python313\\lib\\site-packages (from langchain) (2.0.40)\n",
      "Requirement already satisfied: requests<3,>=2 in c:\\users\\문선장\\appdata\\local\\programs\\python\\python313\\lib\\site-packages (from langchain) (2.32.3)\n",
      "Requirement already satisfied: PyYAML>=5.3 in c:\\users\\문선장\\appdata\\local\\programs\\python\\python313\\lib\\site-packages (from langchain) (6.0.2)\n",
      "Requirement already satisfied: openai<2.0.0,>=1.68.2 in c:\\users\\문선장\\appdata\\local\\programs\\python\\python313\\lib\\site-packages (from langchain-openai) (1.73.0)\n",
      "Requirement already satisfied: tiktoken<1,>=0.7 in c:\\users\\문선장\\appdata\\local\\programs\\python\\python313\\lib\\site-packages (from langchain-openai) (0.9.0)\n",
      "Requirement already satisfied: tenacity!=8.4.0,<10.0.0,>=8.1.0 in c:\\users\\문선장\\appdata\\local\\programs\\python\\python313\\lib\\site-packages (from langchain-core<1.0.0,>=0.3.51->langchain) (9.1.2)\n",
      "Requirement already satisfied: jsonpatch<2.0,>=1.33 in c:\\users\\문선장\\appdata\\local\\programs\\python\\python313\\lib\\site-packages (from langchain-core<1.0.0,>=0.3.51->langchain) (1.33)\n",
      "Requirement already satisfied: packaging<25,>=23.2 in c:\\users\\문선장\\appdata\\local\\programs\\python\\python313\\lib\\site-packages (from langchain-core<1.0.0,>=0.3.51->langchain) (24.2)\n",
      "Requirement already satisfied: typing-extensions>=4.7 in c:\\users\\문선장\\appdata\\local\\programs\\python\\python313\\lib\\site-packages (from langchain-core<1.0.0,>=0.3.51->langchain) (4.13.0)\n",
      "Requirement already satisfied: httpx<1,>=0.23.0 in c:\\users\\문선장\\appdata\\local\\programs\\python\\python313\\lib\\site-packages (from langsmith<0.4,>=0.1.17->langchain) (0.28.1)\n",
      "Requirement already satisfied: orjson<4.0.0,>=3.9.14 in c:\\users\\문선장\\appdata\\local\\programs\\python\\python313\\lib\\site-packages (from langsmith<0.4,>=0.1.17->langchain) (3.10.16)\n",
      "Requirement already satisfied: requests-toolbelt<2.0.0,>=1.0.0 in c:\\users\\문선장\\appdata\\local\\programs\\python\\python313\\lib\\site-packages (from langsmith<0.4,>=0.1.17->langchain) (1.0.0)\n",
      "Requirement already satisfied: zstandard<0.24.0,>=0.23.0 in c:\\users\\문선장\\appdata\\local\\programs\\python\\python313\\lib\\site-packages (from langsmith<0.4,>=0.1.17->langchain) (0.23.0)\n",
      "Requirement already satisfied: anyio<5,>=3.5.0 in c:\\users\\문선장\\appdata\\local\\programs\\python\\python313\\lib\\site-packages (from openai<2.0.0,>=1.68.2->langchain-openai) (4.9.0)\n",
      "Requirement already satisfied: distro<2,>=1.7.0 in c:\\users\\문선장\\appdata\\local\\programs\\python\\python313\\lib\\site-packages (from openai<2.0.0,>=1.68.2->langchain-openai) (1.9.0)\n",
      "Requirement already satisfied: jiter<1,>=0.4.0 in c:\\users\\문선장\\appdata\\local\\programs\\python\\python313\\lib\\site-packages (from openai<2.0.0,>=1.68.2->langchain-openai) (0.9.0)\n",
      "Requirement already satisfied: sniffio in c:\\users\\문선장\\appdata\\local\\programs\\python\\python313\\lib\\site-packages (from openai<2.0.0,>=1.68.2->langchain-openai) (1.3.1)\n",
      "Requirement already satisfied: tqdm>4 in c:\\users\\문선장\\appdata\\local\\programs\\python\\python313\\lib\\site-packages (from openai<2.0.0,>=1.68.2->langchain-openai) (4.67.1)\n",
      "Requirement already satisfied: annotated-types>=0.6.0 in c:\\users\\문선장\\appdata\\local\\programs\\python\\python313\\lib\\site-packages (from pydantic<3.0.0,>=2.7.4->langchain) (0.7.0)\n",
      "Requirement already satisfied: pydantic-core==2.33.1 in c:\\users\\문선장\\appdata\\local\\programs\\python\\python313\\lib\\site-packages (from pydantic<3.0.0,>=2.7.4->langchain) (2.33.1)\n",
      "Requirement already satisfied: typing-inspection>=0.4.0 in c:\\users\\문선장\\appdata\\local\\programs\\python\\python313\\lib\\site-packages (from pydantic<3.0.0,>=2.7.4->langchain) (0.4.0)\n",
      "Requirement already satisfied: charset-normalizer<4,>=2 in c:\\users\\문선장\\appdata\\local\\programs\\python\\python313\\lib\\site-packages (from requests<3,>=2->langchain) (3.4.1)\n",
      "Requirement already satisfied: idna<4,>=2.5 in c:\\users\\문선장\\appdata\\local\\programs\\python\\python313\\lib\\site-packages (from requests<3,>=2->langchain) (3.10)\n",
      "Requirement already satisfied: urllib3<3,>=1.21.1 in c:\\users\\문선장\\appdata\\local\\programs\\python\\python313\\lib\\site-packages (from requests<3,>=2->langchain) (2.3.0)\n",
      "Requirement already satisfied: certifi>=2017.4.17 in c:\\users\\문선장\\appdata\\local\\programs\\python\\python313\\lib\\site-packages (from requests<3,>=2->langchain) (2025.1.31)\n",
      "Requirement already satisfied: greenlet>=1 in c:\\users\\문선장\\appdata\\local\\programs\\python\\python313\\lib\\site-packages (from SQLAlchemy<3,>=1.4->langchain) (3.1.1)\n",
      "Requirement already satisfied: regex>=2022.1.18 in c:\\users\\문선장\\appdata\\local\\programs\\python\\python313\\lib\\site-packages (from tiktoken<1,>=0.7->langchain-openai) (2024.11.6)\n",
      "Requirement already satisfied: httpcore==1.* in c:\\users\\문선장\\appdata\\local\\programs\\python\\python313\\lib\\site-packages (from httpx<1,>=0.23.0->langsmith<0.4,>=0.1.17->langchain) (1.0.7)\n",
      "Requirement already satisfied: h11<0.15,>=0.13 in c:\\users\\문선장\\appdata\\local\\programs\\python\\python313\\lib\\site-packages (from httpcore==1.*->httpx<1,>=0.23.0->langsmith<0.4,>=0.1.17->langchain) (0.14.0)\n",
      "Requirement already satisfied: jsonpointer>=1.9 in c:\\users\\문선장\\appdata\\local\\programs\\python\\python313\\lib\\site-packages (from jsonpatch<2.0,>=1.33->langchain-core<1.0.0,>=0.3.51->langchain) (3.0.0)\n",
      "Requirement already satisfied: colorama in c:\\users\\문선장\\appdata\\local\\programs\\python\\python313\\lib\\site-packages (from tqdm>4->openai<2.0.0,>=1.68.2->langchain-openai) (0.4.6)\n"
     ]
    },
    {
     "name": "stderr",
     "output_type": "stream",
     "text": [
      "\n",
      "[notice] A new release of pip is available: 25.0.1 -> 25.1.1\n",
      "[notice] To update, run: python.exe -m pip install --upgrade pip\n"
     ]
    }
   ],
   "source": [
    "!pip install chromadb\n",
    "!pip install langchain langchain-openai"
   ]
  },
  {
   "cell_type": "code",
   "execution_count": 13,
   "id": "15c51c67-6905-431a-b78b-4ab9267f2616",
   "metadata": {
    "scrolled": true
   },
   "outputs": [
    {
     "name": "stdout",
     "output_type": "stream",
     "text": [
      "Collecting langchain-chroma\n",
      "  Using cached langchain_chroma-0.2.3-py3-none-any.whl.metadata (1.1 kB)\n",
      "Requirement already satisfied: langchain-core>=0.3.52 in c:\\users\\문선장\\appdata\\local\\programs\\python\\python313\\lib\\site-packages (from langchain-chroma) (0.3.58)\n",
      "Requirement already satisfied: numpy>=2.1.0 in c:\\users\\문선장\\appdata\\local\\programs\\python\\python313\\lib\\site-packages (from langchain-chroma) (2.2.4)\n",
      "Collecting chromadb!=0.5.10,!=0.5.11,!=0.5.12,!=0.5.4,!=0.5.5,!=0.5.7,!=0.5.9,<0.7.0,>=0.4.0 (from langchain-chroma)\n",
      "  Using cached chromadb-0.6.3-py3-none-any.whl.metadata (6.8 kB)\n",
      "Requirement already satisfied: build>=1.0.3 in c:\\users\\문선장\\appdata\\local\\programs\\python\\python313\\lib\\site-packages (from chromadb!=0.5.10,!=0.5.11,!=0.5.12,!=0.5.4,!=0.5.5,!=0.5.7,!=0.5.9,<0.7.0,>=0.4.0->langchain-chroma) (1.2.2.post1)\n",
      "Requirement already satisfied: pydantic>=1.9 in c:\\users\\문선장\\appdata\\local\\programs\\python\\python313\\lib\\site-packages (from chromadb!=0.5.10,!=0.5.11,!=0.5.12,!=0.5.4,!=0.5.5,!=0.5.7,!=0.5.9,<0.7.0,>=0.4.0->langchain-chroma) (2.11.3)\n",
      "Requirement already satisfied: chroma-hnswlib==0.7.6 in c:\\users\\문선장\\appdata\\local\\programs\\python\\python313\\lib\\site-packages (from chromadb!=0.5.10,!=0.5.11,!=0.5.12,!=0.5.4,!=0.5.5,!=0.5.7,!=0.5.9,<0.7.0,>=0.4.0->langchain-chroma) (0.7.6)\n",
      "Requirement already satisfied: fastapi>=0.95.2 in c:\\users\\문선장\\appdata\\local\\programs\\python\\python313\\lib\\site-packages (from chromadb!=0.5.10,!=0.5.11,!=0.5.12,!=0.5.4,!=0.5.5,!=0.5.7,!=0.5.9,<0.7.0,>=0.4.0->langchain-chroma) (0.115.9)\n",
      "Requirement already satisfied: uvicorn>=0.18.3 in c:\\users\\문선장\\appdata\\local\\programs\\python\\python313\\lib\\site-packages (from uvicorn[standard]>=0.18.3->chromadb!=0.5.10,!=0.5.11,!=0.5.12,!=0.5.4,!=0.5.5,!=0.5.7,!=0.5.9,<0.7.0,>=0.4.0->langchain-chroma) (0.34.1)\n",
      "Requirement already satisfied: posthog>=2.4.0 in c:\\users\\문선장\\appdata\\local\\programs\\python\\python313\\lib\\site-packages (from chromadb!=0.5.10,!=0.5.11,!=0.5.12,!=0.5.4,!=0.5.5,!=0.5.7,!=0.5.9,<0.7.0,>=0.4.0->langchain-chroma) (3.24.1)\n",
      "Requirement already satisfied: typing_extensions>=4.5.0 in c:\\users\\문선장\\appdata\\local\\programs\\python\\python313\\lib\\site-packages (from chromadb!=0.5.10,!=0.5.11,!=0.5.12,!=0.5.4,!=0.5.5,!=0.5.7,!=0.5.9,<0.7.0,>=0.4.0->langchain-chroma) (4.13.0)\n",
      "Requirement already satisfied: onnxruntime>=1.14.1 in c:\\users\\문선장\\appdata\\local\\programs\\python\\python313\\lib\\site-packages (from chromadb!=0.5.10,!=0.5.11,!=0.5.12,!=0.5.4,!=0.5.5,!=0.5.7,!=0.5.9,<0.7.0,>=0.4.0->langchain-chroma) (1.21.0)\n",
      "Requirement already satisfied: opentelemetry-api>=1.2.0 in c:\\users\\문선장\\appdata\\local\\programs\\python\\python313\\lib\\site-packages (from chromadb!=0.5.10,!=0.5.11,!=0.5.12,!=0.5.4,!=0.5.5,!=0.5.7,!=0.5.9,<0.7.0,>=0.4.0->langchain-chroma) (1.32.0)\n",
      "Requirement already satisfied: opentelemetry-exporter-otlp-proto-grpc>=1.2.0 in c:\\users\\문선장\\appdata\\local\\programs\\python\\python313\\lib\\site-packages (from chromadb!=0.5.10,!=0.5.11,!=0.5.12,!=0.5.4,!=0.5.5,!=0.5.7,!=0.5.9,<0.7.0,>=0.4.0->langchain-chroma) (1.32.0)\n",
      "Requirement already satisfied: opentelemetry-instrumentation-fastapi>=0.41b0 in c:\\users\\문선장\\appdata\\local\\programs\\python\\python313\\lib\\site-packages (from chromadb!=0.5.10,!=0.5.11,!=0.5.12,!=0.5.4,!=0.5.5,!=0.5.7,!=0.5.9,<0.7.0,>=0.4.0->langchain-chroma) (0.53b0)\n",
      "Requirement already satisfied: opentelemetry-sdk>=1.2.0 in c:\\users\\문선장\\appdata\\local\\programs\\python\\python313\\lib\\site-packages (from chromadb!=0.5.10,!=0.5.11,!=0.5.12,!=0.5.4,!=0.5.5,!=0.5.7,!=0.5.9,<0.7.0,>=0.4.0->langchain-chroma) (1.32.0)\n",
      "Requirement already satisfied: tokenizers>=0.13.2 in c:\\users\\문선장\\appdata\\local\\programs\\python\\python313\\lib\\site-packages (from chromadb!=0.5.10,!=0.5.11,!=0.5.12,!=0.5.4,!=0.5.5,!=0.5.7,!=0.5.9,<0.7.0,>=0.4.0->langchain-chroma) (0.21.1)\n",
      "Requirement already satisfied: pypika>=0.48.9 in c:\\users\\문선장\\appdata\\local\\programs\\python\\python313\\lib\\site-packages (from chromadb!=0.5.10,!=0.5.11,!=0.5.12,!=0.5.4,!=0.5.5,!=0.5.7,!=0.5.9,<0.7.0,>=0.4.0->langchain-chroma) (0.48.9)\n",
      "Requirement already satisfied: tqdm>=4.65.0 in c:\\users\\문선장\\appdata\\local\\programs\\python\\python313\\lib\\site-packages (from chromadb!=0.5.10,!=0.5.11,!=0.5.12,!=0.5.4,!=0.5.5,!=0.5.7,!=0.5.9,<0.7.0,>=0.4.0->langchain-chroma) (4.67.1)\n",
      "Requirement already satisfied: overrides>=7.3.1 in c:\\users\\문선장\\appdata\\local\\programs\\python\\python313\\lib\\site-packages (from chromadb!=0.5.10,!=0.5.11,!=0.5.12,!=0.5.4,!=0.5.5,!=0.5.7,!=0.5.9,<0.7.0,>=0.4.0->langchain-chroma) (7.7.0)\n",
      "Requirement already satisfied: importlib-resources in c:\\users\\문선장\\appdata\\local\\programs\\python\\python313\\lib\\site-packages (from chromadb!=0.5.10,!=0.5.11,!=0.5.12,!=0.5.4,!=0.5.5,!=0.5.7,!=0.5.9,<0.7.0,>=0.4.0->langchain-chroma) (6.5.2)\n",
      "Requirement already satisfied: grpcio>=1.58.0 in c:\\users\\문선장\\appdata\\local\\programs\\python\\python313\\lib\\site-packages (from chromadb!=0.5.10,!=0.5.11,!=0.5.12,!=0.5.4,!=0.5.5,!=0.5.7,!=0.5.9,<0.7.0,>=0.4.0->langchain-chroma) (1.71.0)\n",
      "Requirement already satisfied: bcrypt>=4.0.1 in c:\\users\\문선장\\appdata\\local\\programs\\python\\python313\\lib\\site-packages (from chromadb!=0.5.10,!=0.5.11,!=0.5.12,!=0.5.4,!=0.5.5,!=0.5.7,!=0.5.9,<0.7.0,>=0.4.0->langchain-chroma) (4.3.0)\n",
      "Requirement already satisfied: typer>=0.9.0 in c:\\users\\문선장\\appdata\\local\\programs\\python\\python313\\lib\\site-packages (from chromadb!=0.5.10,!=0.5.11,!=0.5.12,!=0.5.4,!=0.5.5,!=0.5.7,!=0.5.9,<0.7.0,>=0.4.0->langchain-chroma) (0.15.2)\n",
      "Requirement already satisfied: kubernetes>=28.1.0 in c:\\users\\문선장\\appdata\\local\\programs\\python\\python313\\lib\\site-packages (from chromadb!=0.5.10,!=0.5.11,!=0.5.12,!=0.5.4,!=0.5.5,!=0.5.7,!=0.5.9,<0.7.0,>=0.4.0->langchain-chroma) (32.0.1)\n",
      "Requirement already satisfied: tenacity>=8.2.3 in c:\\users\\문선장\\appdata\\local\\programs\\python\\python313\\lib\\site-packages (from chromadb!=0.5.10,!=0.5.11,!=0.5.12,!=0.5.4,!=0.5.5,!=0.5.7,!=0.5.9,<0.7.0,>=0.4.0->langchain-chroma) (9.1.2)\n",
      "Requirement already satisfied: PyYAML>=6.0.0 in c:\\users\\문선장\\appdata\\local\\programs\\python\\python313\\lib\\site-packages (from chromadb!=0.5.10,!=0.5.11,!=0.5.12,!=0.5.4,!=0.5.5,!=0.5.7,!=0.5.9,<0.7.0,>=0.4.0->langchain-chroma) (6.0.2)\n",
      "Requirement already satisfied: mmh3>=4.0.1 in c:\\users\\문선장\\appdata\\local\\programs\\python\\python313\\lib\\site-packages (from chromadb!=0.5.10,!=0.5.11,!=0.5.12,!=0.5.4,!=0.5.5,!=0.5.7,!=0.5.9,<0.7.0,>=0.4.0->langchain-chroma) (5.1.0)\n",
      "Requirement already satisfied: orjson>=3.9.12 in c:\\users\\문선장\\appdata\\local\\programs\\python\\python313\\lib\\site-packages (from chromadb!=0.5.10,!=0.5.11,!=0.5.12,!=0.5.4,!=0.5.5,!=0.5.7,!=0.5.9,<0.7.0,>=0.4.0->langchain-chroma) (3.10.16)\n",
      "Requirement already satisfied: httpx>=0.27.0 in c:\\users\\문선장\\appdata\\local\\programs\\python\\python313\\lib\\site-packages (from chromadb!=0.5.10,!=0.5.11,!=0.5.12,!=0.5.4,!=0.5.5,!=0.5.7,!=0.5.9,<0.7.0,>=0.4.0->langchain-chroma) (0.28.1)\n",
      "Requirement already satisfied: rich>=10.11.0 in c:\\users\\문선장\\appdata\\local\\programs\\python\\python313\\lib\\site-packages (from chromadb!=0.5.10,!=0.5.11,!=0.5.12,!=0.5.4,!=0.5.5,!=0.5.7,!=0.5.9,<0.7.0,>=0.4.0->langchain-chroma) (14.0.0)\n",
      "Requirement already satisfied: langsmith<0.4,>=0.1.125 in c:\\users\\문선장\\appdata\\local\\programs\\python\\python313\\lib\\site-packages (from langchain-core>=0.3.52->langchain-chroma) (0.3.30)\n",
      "Requirement already satisfied: jsonpatch<2.0,>=1.33 in c:\\users\\문선장\\appdata\\local\\programs\\python\\python313\\lib\\site-packages (from langchain-core>=0.3.52->langchain-chroma) (1.33)\n",
      "Requirement already satisfied: packaging<25,>=23.2 in c:\\users\\문선장\\appdata\\local\\programs\\python\\python313\\lib\\site-packages (from langchain-core>=0.3.52->langchain-chroma) (24.2)\n",
      "Requirement already satisfied: pyproject_hooks in c:\\users\\문선장\\appdata\\local\\programs\\python\\python313\\lib\\site-packages (from build>=1.0.3->chromadb!=0.5.10,!=0.5.11,!=0.5.12,!=0.5.4,!=0.5.5,!=0.5.7,!=0.5.9,<0.7.0,>=0.4.0->langchain-chroma) (1.2.0)\n",
      "Requirement already satisfied: colorama in c:\\users\\문선장\\appdata\\local\\programs\\python\\python313\\lib\\site-packages (from build>=1.0.3->chromadb!=0.5.10,!=0.5.11,!=0.5.12,!=0.5.4,!=0.5.5,!=0.5.7,!=0.5.9,<0.7.0,>=0.4.0->langchain-chroma) (0.4.6)\n",
      "Requirement already satisfied: starlette<0.46.0,>=0.40.0 in c:\\users\\문선장\\appdata\\local\\programs\\python\\python313\\lib\\site-packages (from fastapi>=0.95.2->chromadb!=0.5.10,!=0.5.11,!=0.5.12,!=0.5.4,!=0.5.5,!=0.5.7,!=0.5.9,<0.7.0,>=0.4.0->langchain-chroma) (0.45.3)\n",
      "Requirement already satisfied: anyio in c:\\users\\문선장\\appdata\\local\\programs\\python\\python313\\lib\\site-packages (from httpx>=0.27.0->chromadb!=0.5.10,!=0.5.11,!=0.5.12,!=0.5.4,!=0.5.5,!=0.5.7,!=0.5.9,<0.7.0,>=0.4.0->langchain-chroma) (4.9.0)\n",
      "Requirement already satisfied: certifi in c:\\users\\문선장\\appdata\\local\\programs\\python\\python313\\lib\\site-packages (from httpx>=0.27.0->chromadb!=0.5.10,!=0.5.11,!=0.5.12,!=0.5.4,!=0.5.5,!=0.5.7,!=0.5.9,<0.7.0,>=0.4.0->langchain-chroma) (2025.1.31)\n",
      "Requirement already satisfied: httpcore==1.* in c:\\users\\문선장\\appdata\\local\\programs\\python\\python313\\lib\\site-packages (from httpx>=0.27.0->chromadb!=0.5.10,!=0.5.11,!=0.5.12,!=0.5.4,!=0.5.5,!=0.5.7,!=0.5.9,<0.7.0,>=0.4.0->langchain-chroma) (1.0.7)\n",
      "Requirement already satisfied: idna in c:\\users\\문선장\\appdata\\local\\programs\\python\\python313\\lib\\site-packages (from httpx>=0.27.0->chromadb!=0.5.10,!=0.5.11,!=0.5.12,!=0.5.4,!=0.5.5,!=0.5.7,!=0.5.9,<0.7.0,>=0.4.0->langchain-chroma) (3.10)\n",
      "Requirement already satisfied: h11<0.15,>=0.13 in c:\\users\\문선장\\appdata\\local\\programs\\python\\python313\\lib\\site-packages (from httpcore==1.*->httpx>=0.27.0->chromadb!=0.5.10,!=0.5.11,!=0.5.12,!=0.5.4,!=0.5.5,!=0.5.7,!=0.5.9,<0.7.0,>=0.4.0->langchain-chroma) (0.14.0)\n",
      "Requirement already satisfied: jsonpointer>=1.9 in c:\\users\\문선장\\appdata\\local\\programs\\python\\python313\\lib\\site-packages (from jsonpatch<2.0,>=1.33->langchain-core>=0.3.52->langchain-chroma) (3.0.0)\n",
      "Requirement already satisfied: six>=1.9.0 in c:\\users\\문선장\\appdata\\local\\programs\\python\\python313\\lib\\site-packages (from kubernetes>=28.1.0->chromadb!=0.5.10,!=0.5.11,!=0.5.12,!=0.5.4,!=0.5.5,!=0.5.7,!=0.5.9,<0.7.0,>=0.4.0->langchain-chroma) (1.17.0)\n",
      "Requirement already satisfied: python-dateutil>=2.5.3 in c:\\users\\문선장\\appdata\\local\\programs\\python\\python313\\lib\\site-packages (from kubernetes>=28.1.0->chromadb!=0.5.10,!=0.5.11,!=0.5.12,!=0.5.4,!=0.5.5,!=0.5.7,!=0.5.9,<0.7.0,>=0.4.0->langchain-chroma) (2.9.0.post0)\n",
      "Requirement already satisfied: google-auth>=1.0.1 in c:\\users\\문선장\\appdata\\local\\programs\\python\\python313\\lib\\site-packages (from kubernetes>=28.1.0->chromadb!=0.5.10,!=0.5.11,!=0.5.12,!=0.5.4,!=0.5.5,!=0.5.7,!=0.5.9,<0.7.0,>=0.4.0->langchain-chroma) (2.38.0)\n",
      "Requirement already satisfied: websocket-client!=0.40.0,!=0.41.*,!=0.42.*,>=0.32.0 in c:\\users\\문선장\\appdata\\local\\programs\\python\\python313\\lib\\site-packages (from kubernetes>=28.1.0->chromadb!=0.5.10,!=0.5.11,!=0.5.12,!=0.5.4,!=0.5.5,!=0.5.7,!=0.5.9,<0.7.0,>=0.4.0->langchain-chroma) (1.8.0)\n",
      "Requirement already satisfied: requests in c:\\users\\문선장\\appdata\\local\\programs\\python\\python313\\lib\\site-packages (from kubernetes>=28.1.0->chromadb!=0.5.10,!=0.5.11,!=0.5.12,!=0.5.4,!=0.5.5,!=0.5.7,!=0.5.9,<0.7.0,>=0.4.0->langchain-chroma) (2.32.3)\n",
      "Requirement already satisfied: requests-oauthlib in c:\\users\\문선장\\appdata\\local\\programs\\python\\python313\\lib\\site-packages (from kubernetes>=28.1.0->chromadb!=0.5.10,!=0.5.11,!=0.5.12,!=0.5.4,!=0.5.5,!=0.5.7,!=0.5.9,<0.7.0,>=0.4.0->langchain-chroma) (2.0.0)\n",
      "Requirement already satisfied: oauthlib>=3.2.2 in c:\\users\\문선장\\appdata\\local\\programs\\python\\python313\\lib\\site-packages (from kubernetes>=28.1.0->chromadb!=0.5.10,!=0.5.11,!=0.5.12,!=0.5.4,!=0.5.5,!=0.5.7,!=0.5.9,<0.7.0,>=0.4.0->langchain-chroma) (3.2.2)\n",
      "Requirement already satisfied: urllib3>=1.24.2 in c:\\users\\문선장\\appdata\\local\\programs\\python\\python313\\lib\\site-packages (from kubernetes>=28.1.0->chromadb!=0.5.10,!=0.5.11,!=0.5.12,!=0.5.4,!=0.5.5,!=0.5.7,!=0.5.9,<0.7.0,>=0.4.0->langchain-chroma) (2.3.0)\n",
      "Requirement already satisfied: durationpy>=0.7 in c:\\users\\문선장\\appdata\\local\\programs\\python\\python313\\lib\\site-packages (from kubernetes>=28.1.0->chromadb!=0.5.10,!=0.5.11,!=0.5.12,!=0.5.4,!=0.5.5,!=0.5.7,!=0.5.9,<0.7.0,>=0.4.0->langchain-chroma) (0.9)\n",
      "Requirement already satisfied: requests-toolbelt<2.0.0,>=1.0.0 in c:\\users\\문선장\\appdata\\local\\programs\\python\\python313\\lib\\site-packages (from langsmith<0.4,>=0.1.125->langchain-core>=0.3.52->langchain-chroma) (1.0.0)\n",
      "Requirement already satisfied: zstandard<0.24.0,>=0.23.0 in c:\\users\\문선장\\appdata\\local\\programs\\python\\python313\\lib\\site-packages (from langsmith<0.4,>=0.1.125->langchain-core>=0.3.52->langchain-chroma) (0.23.0)\n",
      "Requirement already satisfied: coloredlogs in c:\\users\\문선장\\appdata\\local\\programs\\python\\python313\\lib\\site-packages (from onnxruntime>=1.14.1->chromadb!=0.5.10,!=0.5.11,!=0.5.12,!=0.5.4,!=0.5.5,!=0.5.7,!=0.5.9,<0.7.0,>=0.4.0->langchain-chroma) (15.0.1)\n",
      "Requirement already satisfied: flatbuffers in c:\\users\\문선장\\appdata\\local\\programs\\python\\python313\\lib\\site-packages (from onnxruntime>=1.14.1->chromadb!=0.5.10,!=0.5.11,!=0.5.12,!=0.5.4,!=0.5.5,!=0.5.7,!=0.5.9,<0.7.0,>=0.4.0->langchain-chroma) (25.2.10)\n",
      "Requirement already satisfied: protobuf in c:\\users\\문선장\\appdata\\local\\programs\\python\\python313\\lib\\site-packages (from onnxruntime>=1.14.1->chromadb!=0.5.10,!=0.5.11,!=0.5.12,!=0.5.4,!=0.5.5,!=0.5.7,!=0.5.9,<0.7.0,>=0.4.0->langchain-chroma) (5.29.4)\n",
      "Requirement already satisfied: sympy in c:\\users\\문선장\\appdata\\local\\programs\\python\\python313\\lib\\site-packages (from onnxruntime>=1.14.1->chromadb!=0.5.10,!=0.5.11,!=0.5.12,!=0.5.4,!=0.5.5,!=0.5.7,!=0.5.9,<0.7.0,>=0.4.0->langchain-chroma) (1.13.3)\n",
      "Requirement already satisfied: deprecated>=1.2.6 in c:\\users\\문선장\\appdata\\local\\programs\\python\\python313\\lib\\site-packages (from opentelemetry-api>=1.2.0->chromadb!=0.5.10,!=0.5.11,!=0.5.12,!=0.5.4,!=0.5.5,!=0.5.7,!=0.5.9,<0.7.0,>=0.4.0->langchain-chroma) (1.2.18)\n",
      "Requirement already satisfied: importlib-metadata<8.7.0,>=6.0 in c:\\users\\문선장\\appdata\\local\\programs\\python\\python313\\lib\\site-packages (from opentelemetry-api>=1.2.0->chromadb!=0.5.10,!=0.5.11,!=0.5.12,!=0.5.4,!=0.5.5,!=0.5.7,!=0.5.9,<0.7.0,>=0.4.0->langchain-chroma) (8.6.1)\n",
      "Requirement already satisfied: googleapis-common-protos~=1.52 in c:\\users\\문선장\\appdata\\local\\programs\\python\\python313\\lib\\site-packages (from opentelemetry-exporter-otlp-proto-grpc>=1.2.0->chromadb!=0.5.10,!=0.5.11,!=0.5.12,!=0.5.4,!=0.5.5,!=0.5.7,!=0.5.9,<0.7.0,>=0.4.0->langchain-chroma) (1.70.0)\n",
      "Requirement already satisfied: opentelemetry-exporter-otlp-proto-common==1.32.0 in c:\\users\\문선장\\appdata\\local\\programs\\python\\python313\\lib\\site-packages (from opentelemetry-exporter-otlp-proto-grpc>=1.2.0->chromadb!=0.5.10,!=0.5.11,!=0.5.12,!=0.5.4,!=0.5.5,!=0.5.7,!=0.5.9,<0.7.0,>=0.4.0->langchain-chroma) (1.32.0)\n",
      "Requirement already satisfied: opentelemetry-proto==1.32.0 in c:\\users\\문선장\\appdata\\local\\programs\\python\\python313\\lib\\site-packages (from opentelemetry-exporter-otlp-proto-grpc>=1.2.0->chromadb!=0.5.10,!=0.5.11,!=0.5.12,!=0.5.4,!=0.5.5,!=0.5.7,!=0.5.9,<0.7.0,>=0.4.0->langchain-chroma) (1.32.0)\n",
      "Requirement already satisfied: opentelemetry-instrumentation-asgi==0.53b0 in c:\\users\\문선장\\appdata\\local\\programs\\python\\python313\\lib\\site-packages (from opentelemetry-instrumentation-fastapi>=0.41b0->chromadb!=0.5.10,!=0.5.11,!=0.5.12,!=0.5.4,!=0.5.5,!=0.5.7,!=0.5.9,<0.7.0,>=0.4.0->langchain-chroma) (0.53b0)\n",
      "Requirement already satisfied: opentelemetry-instrumentation==0.53b0 in c:\\users\\문선장\\appdata\\local\\programs\\python\\python313\\lib\\site-packages (from opentelemetry-instrumentation-fastapi>=0.41b0->chromadb!=0.5.10,!=0.5.11,!=0.5.12,!=0.5.4,!=0.5.5,!=0.5.7,!=0.5.9,<0.7.0,>=0.4.0->langchain-chroma) (0.53b0)\n",
      "Requirement already satisfied: opentelemetry-semantic-conventions==0.53b0 in c:\\users\\문선장\\appdata\\local\\programs\\python\\python313\\lib\\site-packages (from opentelemetry-instrumentation-fastapi>=0.41b0->chromadb!=0.5.10,!=0.5.11,!=0.5.12,!=0.5.4,!=0.5.5,!=0.5.7,!=0.5.9,<0.7.0,>=0.4.0->langchain-chroma) (0.53b0)\n",
      "Requirement already satisfied: opentelemetry-util-http==0.53b0 in c:\\users\\문선장\\appdata\\local\\programs\\python\\python313\\lib\\site-packages (from opentelemetry-instrumentation-fastapi>=0.41b0->chromadb!=0.5.10,!=0.5.11,!=0.5.12,!=0.5.4,!=0.5.5,!=0.5.7,!=0.5.9,<0.7.0,>=0.4.0->langchain-chroma) (0.53b0)\n",
      "Requirement already satisfied: wrapt<2.0.0,>=1.0.0 in c:\\users\\문선장\\appdata\\local\\programs\\python\\python313\\lib\\site-packages (from opentelemetry-instrumentation==0.53b0->opentelemetry-instrumentation-fastapi>=0.41b0->chromadb!=0.5.10,!=0.5.11,!=0.5.12,!=0.5.4,!=0.5.5,!=0.5.7,!=0.5.9,<0.7.0,>=0.4.0->langchain-chroma) (1.17.2)\n",
      "Requirement already satisfied: asgiref~=3.0 in c:\\users\\문선장\\appdata\\local\\programs\\python\\python313\\lib\\site-packages (from opentelemetry-instrumentation-asgi==0.53b0->opentelemetry-instrumentation-fastapi>=0.41b0->chromadb!=0.5.10,!=0.5.11,!=0.5.12,!=0.5.4,!=0.5.5,!=0.5.7,!=0.5.9,<0.7.0,>=0.4.0->langchain-chroma) (3.8.1)\n",
      "Requirement already satisfied: monotonic>=1.5 in c:\\users\\문선장\\appdata\\local\\programs\\python\\python313\\lib\\site-packages (from posthog>=2.4.0->chromadb!=0.5.10,!=0.5.11,!=0.5.12,!=0.5.4,!=0.5.5,!=0.5.7,!=0.5.9,<0.7.0,>=0.4.0->langchain-chroma) (1.6)\n",
      "Requirement already satisfied: backoff>=1.10.0 in c:\\users\\문선장\\appdata\\local\\programs\\python\\python313\\lib\\site-packages (from posthog>=2.4.0->chromadb!=0.5.10,!=0.5.11,!=0.5.12,!=0.5.4,!=0.5.5,!=0.5.7,!=0.5.9,<0.7.0,>=0.4.0->langchain-chroma) (2.2.1)\n",
      "Requirement already satisfied: distro>=1.5.0 in c:\\users\\문선장\\appdata\\local\\programs\\python\\python313\\lib\\site-packages (from posthog>=2.4.0->chromadb!=0.5.10,!=0.5.11,!=0.5.12,!=0.5.4,!=0.5.5,!=0.5.7,!=0.5.9,<0.7.0,>=0.4.0->langchain-chroma) (1.9.0)\n",
      "Requirement already satisfied: annotated-types>=0.6.0 in c:\\users\\문선장\\appdata\\local\\programs\\python\\python313\\lib\\site-packages (from pydantic>=1.9->chromadb!=0.5.10,!=0.5.11,!=0.5.12,!=0.5.4,!=0.5.5,!=0.5.7,!=0.5.9,<0.7.0,>=0.4.0->langchain-chroma) (0.7.0)\n",
      "Requirement already satisfied: pydantic-core==2.33.1 in c:\\users\\문선장\\appdata\\local\\programs\\python\\python313\\lib\\site-packages (from pydantic>=1.9->chromadb!=0.5.10,!=0.5.11,!=0.5.12,!=0.5.4,!=0.5.5,!=0.5.7,!=0.5.9,<0.7.0,>=0.4.0->langchain-chroma) (2.33.1)\n",
      "Requirement already satisfied: typing-inspection>=0.4.0 in c:\\users\\문선장\\appdata\\local\\programs\\python\\python313\\lib\\site-packages (from pydantic>=1.9->chromadb!=0.5.10,!=0.5.11,!=0.5.12,!=0.5.4,!=0.5.5,!=0.5.7,!=0.5.9,<0.7.0,>=0.4.0->langchain-chroma) (0.4.0)\n",
      "Requirement already satisfied: markdown-it-py>=2.2.0 in c:\\users\\문선장\\appdata\\local\\programs\\python\\python313\\lib\\site-packages (from rich>=10.11.0->chromadb!=0.5.10,!=0.5.11,!=0.5.12,!=0.5.4,!=0.5.5,!=0.5.7,!=0.5.9,<0.7.0,>=0.4.0->langchain-chroma) (3.0.0)\n",
      "Requirement already satisfied: pygments<3.0.0,>=2.13.0 in c:\\users\\문선장\\appdata\\local\\programs\\python\\python313\\lib\\site-packages (from rich>=10.11.0->chromadb!=0.5.10,!=0.5.11,!=0.5.12,!=0.5.4,!=0.5.5,!=0.5.7,!=0.5.9,<0.7.0,>=0.4.0->langchain-chroma) (2.19.1)\n",
      "Requirement already satisfied: huggingface-hub<1.0,>=0.16.4 in c:\\users\\문선장\\appdata\\local\\programs\\python\\python313\\lib\\site-packages (from tokenizers>=0.13.2->chromadb!=0.5.10,!=0.5.11,!=0.5.12,!=0.5.4,!=0.5.5,!=0.5.7,!=0.5.9,<0.7.0,>=0.4.0->langchain-chroma) (0.30.2)\n",
      "Requirement already satisfied: click>=8.0.0 in c:\\users\\문선장\\appdata\\local\\programs\\python\\python313\\lib\\site-packages (from typer>=0.9.0->chromadb!=0.5.10,!=0.5.11,!=0.5.12,!=0.5.4,!=0.5.5,!=0.5.7,!=0.5.9,<0.7.0,>=0.4.0->langchain-chroma) (8.1.8)\n",
      "Requirement already satisfied: shellingham>=1.3.0 in c:\\users\\문선장\\appdata\\local\\programs\\python\\python313\\lib\\site-packages (from typer>=0.9.0->chromadb!=0.5.10,!=0.5.11,!=0.5.12,!=0.5.4,!=0.5.5,!=0.5.7,!=0.5.9,<0.7.0,>=0.4.0->langchain-chroma) (1.5.4)\n",
      "Requirement already satisfied: httptools>=0.6.3 in c:\\users\\문선장\\appdata\\local\\programs\\python\\python313\\lib\\site-packages (from uvicorn[standard]>=0.18.3->chromadb!=0.5.10,!=0.5.11,!=0.5.12,!=0.5.4,!=0.5.5,!=0.5.7,!=0.5.9,<0.7.0,>=0.4.0->langchain-chroma) (0.6.4)\n",
      "Requirement already satisfied: python-dotenv>=0.13 in c:\\users\\문선장\\appdata\\local\\programs\\python\\python313\\lib\\site-packages (from uvicorn[standard]>=0.18.3->chromadb!=0.5.10,!=0.5.11,!=0.5.12,!=0.5.4,!=0.5.5,!=0.5.7,!=0.5.9,<0.7.0,>=0.4.0->langchain-chroma) (1.1.0)\n",
      "Requirement already satisfied: watchfiles>=0.13 in c:\\users\\문선장\\appdata\\local\\programs\\python\\python313\\lib\\site-packages (from uvicorn[standard]>=0.18.3->chromadb!=0.5.10,!=0.5.11,!=0.5.12,!=0.5.4,!=0.5.5,!=0.5.7,!=0.5.9,<0.7.0,>=0.4.0->langchain-chroma) (1.0.5)\n",
      "Requirement already satisfied: websockets>=10.4 in c:\\users\\문선장\\appdata\\local\\programs\\python\\python313\\lib\\site-packages (from uvicorn[standard]>=0.18.3->chromadb!=0.5.10,!=0.5.11,!=0.5.12,!=0.5.4,!=0.5.5,!=0.5.7,!=0.5.9,<0.7.0,>=0.4.0->langchain-chroma) (15.0.1)\n",
      "Requirement already satisfied: cachetools<6.0,>=2.0.0 in c:\\users\\문선장\\appdata\\local\\programs\\python\\python313\\lib\\site-packages (from google-auth>=1.0.1->kubernetes>=28.1.0->chromadb!=0.5.10,!=0.5.11,!=0.5.12,!=0.5.4,!=0.5.5,!=0.5.7,!=0.5.9,<0.7.0,>=0.4.0->langchain-chroma) (5.5.2)\n",
      "Requirement already satisfied: pyasn1-modules>=0.2.1 in c:\\users\\문선장\\appdata\\local\\programs\\python\\python313\\lib\\site-packages (from google-auth>=1.0.1->kubernetes>=28.1.0->chromadb!=0.5.10,!=0.5.11,!=0.5.12,!=0.5.4,!=0.5.5,!=0.5.7,!=0.5.9,<0.7.0,>=0.4.0->langchain-chroma) (0.4.2)\n",
      "Requirement already satisfied: rsa<5,>=3.1.4 in c:\\users\\문선장\\appdata\\local\\programs\\python\\python313\\lib\\site-packages (from google-auth>=1.0.1->kubernetes>=28.1.0->chromadb!=0.5.10,!=0.5.11,!=0.5.12,!=0.5.4,!=0.5.5,!=0.5.7,!=0.5.9,<0.7.0,>=0.4.0->langchain-chroma) (4.9)\n",
      "Requirement already satisfied: filelock in c:\\users\\문선장\\appdata\\local\\programs\\python\\python313\\lib\\site-packages (from huggingface-hub<1.0,>=0.16.4->tokenizers>=0.13.2->chromadb!=0.5.10,!=0.5.11,!=0.5.12,!=0.5.4,!=0.5.5,!=0.5.7,!=0.5.9,<0.7.0,>=0.4.0->langchain-chroma) (3.18.0)\n",
      "Requirement already satisfied: fsspec>=2023.5.0 in c:\\users\\문선장\\appdata\\local\\programs\\python\\python313\\lib\\site-packages (from huggingface-hub<1.0,>=0.16.4->tokenizers>=0.13.2->chromadb!=0.5.10,!=0.5.11,!=0.5.12,!=0.5.4,!=0.5.5,!=0.5.7,!=0.5.9,<0.7.0,>=0.4.0->langchain-chroma) (2025.3.2)\n",
      "Requirement already satisfied: zipp>=3.20 in c:\\users\\문선장\\appdata\\local\\programs\\python\\python313\\lib\\site-packages (from importlib-metadata<8.7.0,>=6.0->opentelemetry-api>=1.2.0->chromadb!=0.5.10,!=0.5.11,!=0.5.12,!=0.5.4,!=0.5.5,!=0.5.7,!=0.5.9,<0.7.0,>=0.4.0->langchain-chroma) (3.21.0)\n",
      "Requirement already satisfied: mdurl~=0.1 in c:\\users\\문선장\\appdata\\local\\programs\\python\\python313\\lib\\site-packages (from markdown-it-py>=2.2.0->rich>=10.11.0->chromadb!=0.5.10,!=0.5.11,!=0.5.12,!=0.5.4,!=0.5.5,!=0.5.7,!=0.5.9,<0.7.0,>=0.4.0->langchain-chroma) (0.1.2)\n",
      "Requirement already satisfied: charset-normalizer<4,>=2 in c:\\users\\문선장\\appdata\\local\\programs\\python\\python313\\lib\\site-packages (from requests->kubernetes>=28.1.0->chromadb!=0.5.10,!=0.5.11,!=0.5.12,!=0.5.4,!=0.5.5,!=0.5.7,!=0.5.9,<0.7.0,>=0.4.0->langchain-chroma) (3.4.1)\n",
      "Requirement already satisfied: sniffio>=1.1 in c:\\users\\문선장\\appdata\\local\\programs\\python\\python313\\lib\\site-packages (from anyio->httpx>=0.27.0->chromadb!=0.5.10,!=0.5.11,!=0.5.12,!=0.5.4,!=0.5.5,!=0.5.7,!=0.5.9,<0.7.0,>=0.4.0->langchain-chroma) (1.3.1)\n",
      "Requirement already satisfied: humanfriendly>=9.1 in c:\\users\\문선장\\appdata\\local\\programs\\python\\python313\\lib\\site-packages (from coloredlogs->onnxruntime>=1.14.1->chromadb!=0.5.10,!=0.5.11,!=0.5.12,!=0.5.4,!=0.5.5,!=0.5.7,!=0.5.9,<0.7.0,>=0.4.0->langchain-chroma) (10.0)\n",
      "Requirement already satisfied: mpmath<1.4,>=1.1.0 in c:\\users\\문선장\\appdata\\local\\programs\\python\\python313\\lib\\site-packages (from sympy->onnxruntime>=1.14.1->chromadb!=0.5.10,!=0.5.11,!=0.5.12,!=0.5.4,!=0.5.5,!=0.5.7,!=0.5.9,<0.7.0,>=0.4.0->langchain-chroma) (1.3.0)\n",
      "Requirement already satisfied: pyreadline3 in c:\\users\\문선장\\appdata\\local\\programs\\python\\python313\\lib\\site-packages (from humanfriendly>=9.1->coloredlogs->onnxruntime>=1.14.1->chromadb!=0.5.10,!=0.5.11,!=0.5.12,!=0.5.4,!=0.5.5,!=0.5.7,!=0.5.9,<0.7.0,>=0.4.0->langchain-chroma) (3.5.4)\n",
      "Requirement already satisfied: pyasn1<0.7.0,>=0.6.1 in c:\\users\\문선장\\appdata\\local\\programs\\python\\python313\\lib\\site-packages (from pyasn1-modules>=0.2.1->google-auth>=1.0.1->kubernetes>=28.1.0->chromadb!=0.5.10,!=0.5.11,!=0.5.12,!=0.5.4,!=0.5.5,!=0.5.7,!=0.5.9,<0.7.0,>=0.4.0->langchain-chroma) (0.6.1)\n",
      "Using cached langchain_chroma-0.2.3-py3-none-any.whl (11 kB)\n",
      "Using cached chromadb-0.6.3-py3-none-any.whl (611 kB)\n",
      "Installing collected packages: chromadb, langchain-chroma\n",
      "  Attempting uninstall: chromadb\n",
      "    Found existing installation: chromadb 1.0.4\n",
      "    Uninstalling chromadb-1.0.4:\n",
      "      Successfully uninstalled chromadb-1.0.4\n",
      "Successfully installed chromadb-0.6.3 langchain-chroma-0.2.3\n"
     ]
    },
    {
     "name": "stderr",
     "output_type": "stream",
     "text": [
      "  WARNING: Failed to remove contents in a temporary directory 'C:\\Users\\문선장\\AppData\\Local\\Programs\\Python\\Python313\\Lib\\site-packages\\~hromadb_rust_bindings'.\n",
      "  You can safely remove it manually.\n",
      "\n",
      "[notice] A new release of pip is available: 25.0.1 -> 25.1.1\n",
      "[notice] To update, run: python.exe -m pip install --upgrade pip\n"
     ]
    }
   ],
   "source": [
    "!pip install -U langchain-chroma"
   ]
  },
  {
   "cell_type": "code",
   "execution_count": 39,
   "id": "bbec9233-f614-4d72-8064-d78596f781a4",
   "metadata": {},
   "outputs": [
    {
     "name": "stdout",
     "output_type": "stream",
     "text": [
      "✅ 모든 Chroma DB 경로 완전 삭제 완료 — 커널 재시작 후 계속하세요\n"
     ]
    }
   ],
   "source": [
    "## 필요한 경우에만 사용\n",
    "import shutil\n",
    "import os\n",
    "from pathlib import Path\n",
    "\n",
    "# 1. 프로젝트 폴더 내 Chroma 디렉토리 삭제\n",
    "shutil.rmtree(\"./chroma_db\", ignore_errors=True)\n",
    "\n",
    "# 2. 사용자 홈 폴더 아래 Chroma 캐시 삭제\n",
    "shutil.rmtree(Path.home() / \".chromadb\", ignore_errors=True)\n",
    "\n",
    "# 3. Windows LocalAppData 경로 삭제 (숨겨진 문제 흔함)\n",
    "shutil.rmtree(Path.home() / \"AppData\" / \"Local\" / \"chromadb\", ignore_errors=True)\n",
    "\n",
    "print(\"✅ 모든 Chroma DB 경로 완전 삭제 완료 — 커널 재시작 후 계속하세요\")"
   ]
  },
  {
   "cell_type": "code",
   "execution_count": 64,
   "id": "7167c57b-3dd1-41bd-b0e2-429c43cc3fae",
   "metadata": {},
   "outputs": [],
   "source": [
    "import shutil\n",
    "import os\n",
    "from pathlib import Path\n",
    "\n",
    "# 전체 Chroma DB 삭제 (기본 디렉토리와 시스템 캐시 포함)\n",
    "shutil.rmtree(\"./chroma_db\", ignore_errors=True)\n",
    "shutil.rmtree(Path.home() / \".chromadb\", ignore_errors=True)"
   ]
  },
  {
   "cell_type": "code",
   "execution_count": 65,
   "id": "8a9ca161-538f-4dd5-be48-931c738c7780",
   "metadata": {},
   "outputs": [],
   "source": [
    "import os\n",
    "import json\n",
    "from langchain_openai import OpenAIEmbeddings\n",
    "from langchain_core.documents import Document\n",
    "from langchain.text_splitter import RecursiveCharacterTextSplitter\n",
    "from langchain_community.vectorstores import Chroma\n",
    "import chromadb\n",
    "\n",
    "os.environ[\"OPENAI_API_KEY\"] = \"키\"\n",
    "\n",
    "embeddings_model = OpenAIEmbeddings(model=\"text-embedding-3-small\")\n",
    "text_splitter = RecursiveCharacterTextSplitter(chunk_size=500, chunk_overlap=100)\n",
    "client = chromadb.PersistentClient(path=\"./chroma_db\")"
   ]
  },
  {
   "cell_type": "code",
   "execution_count": 75,
   "id": "3d48005f-57b0-4b9e-b8b0-dd891bc94c1d",
   "metadata": {},
   "outputs": [],
   "source": [
    "\n",
    "def load_json_documents(json_files):\n",
    "    docs = []\n",
    "    for file in json_files:\n",
    "        with open(file, \"r\", encoding=\"utf-8\") as f:\n",
    "            data = json.load(f)\n",
    "\n",
    "        #시나리오\n",
    "        for item in data:\n",
    "            if \"Text\" in item and \"Completion\" in item:\n",
    "                docs.append(Document(\n",
    "                    page_content=f\"질문: {item['Text']}\\n답변: {item['Completion']}\",\n",
    "                    metadata={\n",
    "                        \"카테고리\": item.get(\"카테고리\", \"\")\n",
    "                    }\n",
    "                ))\n",
    "\n",
    "            # 수강이력\n",
    "            if \"lecture_name\" in item and \"student_id\" in item:\n",
    "                content = (\n",
    "                    f\"학번: {item['student_id']}\\n\"\n",
    "                    f\"강의명: {item['lecture_name']}\\n\"\n",
    "                    f\"학정번호: {item['lecture_id']}\\n\"\n",
    "                    f\"개설 학과: {item['department_offered']}\\n\"\n",
    "                    f\"이수 구분: {item['lecture_course_type']}\\n\"\n",
    "                    f\"학점: {item['lecture_credit']}학점\\n\"\n",
    "                    f\"성적: {item['lecutre_grade']}\"\n",
    "                )\n",
    "                if \"retake_or_delete_status\" in item:\n",
    "                    content += f\"\\n재수강/삭제 여부: {item['retake_or_delete_status']}\"\n",
    "                if \"retake_status\" in item:\n",
    "                    content += f\"\\n재수강 여부: {item['retake_status']}\"\n",
    "\n",
    "                docs.append(Document(\n",
    "                    page_content=content,\n",
    "                    metadata={\n",
    "                        \"lecture_name\": item[\"lecture_name\"],\n",
    "                        \"course_type\": item[\"lecture_course_type\"]\n",
    "                    }\n",
    "                ))\n",
    "\n",
    "            # 강의 탐색\n",
    "            if \"lecture_id\" in item and \"lecture_name\" in item and \"student_id\" not in item:\n",
    "                content = (\n",
    "                    f\"학정번호: {item.get('lecture_id', '')}\\n\"\n",
    "                    f\"강의명: {item.get('lecture_name', '')}\\n\"\n",
    "                    f\"강의평점: {item.get('lecture_ratings', '')}\\n\"\n",
    "                    f\"과제: {item.get('lecture_homework', '')}\\n\"\n",
    "                    f\"팀플: {item.get('lecture_team', '')}\\n\"\n",
    "                    f\"성적평가정도: {item.get('lecutre_grade', '')}\\n\"\n",
    "                    f\"출결 방식: {item.get('lecutre_attendance', '')}\\n\"\n",
    "                    f\"시험 횟수: {item.get('lecutre_test', '')}\\n\"\n",
    "                    f\"시험 방식: {item.get('lecture_testinform', '')}\\n\"\n",
    "                    f\"전공 학점: {item.get('credits_major', '없음')}\\n\"\n",
    "                    f\"교양 학점: {item.get('credits_general', '없음')}\\n\"\n",
    "                    f\"총 학점: {item.get('credits_total', '없음')}\\n\"\n",
    "                    f\"교수명: {item.get('lecture_professorname', '')}\\n\"\n",
    "                    f\"수업 시간: {item.get('lecture_time', '')}\\n\"\n",
    "                    f\"강의 유형: {item.get('lecture_course_type', '')}\\n\"\n",
    "                    f\"학점: {item.get('lecture_hours', '')}시간\\n\"\n",
    "                    f\"학기: {item.get('lecture_semester', '')}학기\\n\"\n",
    "                    f\"강의 설명: {item.get('lecture_inform', '')}\"\n",
    "                    f\"영역: {item.get(\"lecture_domain\", \"\")}\\n\"\n",
    "                )\n",
    "                docs.append(Document(\n",
    "                    page_content=content,\n",
    "                    metadata={\n",
    "                        \"lecture_id\": item.get(\"lecture_id\", \"\"),\n",
    "                        \"lecture_name\": item.get(\"lecture_name\", \"\"),\n",
    "                        \"lecture_ratings\": item.get(\"lecture_ratings\", \"\"),\n",
    "                        \"lecture_team\": item.get(\"lecture_team\", \"\"),\n",
    "                        \"lecutre_grade\": item.get(\"lecutre_grade\", \"\"),\n",
    "                        \"professor\": item.get(\"lecture_professorname\", \"\")\n",
    "                    }\n",
    "                ))\n",
    "    return docs"
   ]
  },
  {
   "cell_type": "code",
   "execution_count": 76,
   "id": "282a611e-6e11-47ca-8e97-19eb1b7bc84a",
   "metadata": {},
   "outputs": [
    {
     "name": "stdout",
     "output_type": "stream",
     "text": [
      "[kim] 임베딩 완료 (24건)\n",
      "[hong] 임베딩 완료 (24건)\n",
      "[lecture_search] 임베딩 완료 (617건)\n",
      "[career_counsel] 임베딩 완료 (44건)\n",
      "[academic_status] 임베딩 완료 (40건)\n"
     ]
    }
   ],
   "source": [
    "user_datasets = {\n",
    "    \"kim\": [\"data/kw_chatbot_data - 김브티_수강이력.json\"],\n",
    "    \"hong\": [\"data/kw_chatbot_data - 홍데사_수강이력.json\"]\n",
    "}\n",
    "\n",
    "task_datasets = {\n",
    "    \"lecture_search\": [\n",
    "        \"data/kw_chatbot_data - Student.json\",\n",
    "        \"data/kw_chatbot_data - 강의 평점.json\",\n",
    "        \"data/kw_chatbot_data - 강의계획서.json\",\n",
    "        \"data/kw_chatbot_data - 김브티_성적.json\",\n",
    "        \"data/kw_chatbot_data - 김브티_수강이력.json\",\n",
    "        \"data/kw_chatbot_data - 수강신청자료집.json\",\n",
    "        \"data/kw_chatbot_data - 커리큘럼(DS).json\",\n",
    "        \"data/kw_chatbot_data - 커리큘럼(VT).json\",\n",
    "        \"data/kw_chatbot_data - 홍데사_성적.json\",\n",
    "        \"data/kw_chatbot_data - 홍데사_수강이력.json\",\n",
    "        \"data/lecture_domain.json\"\n",
    "    ],\n",
    "    \"career_counsel\": [\"data/진로상담.json\"],\n",
    "    \"academic_status\": [\"data/학습현황.json\"]\n",
    "}\n",
    "\n",
    "# 사용자별 컬렉션\n",
    "for user_id, files in user_datasets.items():\n",
    "    collection_name = f\"lecture_search_{user_id}\"\n",
    "    try:\n",
    "        client.delete_collection(name=collection_name)\n",
    "    except:\n",
    "        pass\n",
    "    docs = load_json_documents(files)\n",
    "    split_docs = text_splitter.split_documents(docs)\n",
    "    texts = [doc.page_content for doc in split_docs]\n",
    "    embeddings = embeddings_model.embed_documents(texts)\n",
    "    collection = client.create_collection(name=collection_name)\n",
    "    collection.add(\n",
    "        documents=texts,\n",
    "        embeddings=embeddings,\n",
    "        ids=[f\"{collection_name}_{i}\" for i in range(len(texts))]\n",
    "    )\n",
    "    print(f\"[{user_id}] 임베딩 완료 ({len(embeddings)}건)\")\n",
    "\n",
    "# 기능별 컬렉션\n",
    "for task, files in task_datasets.items():\n",
    "    try:\n",
    "        client.delete_collection(name=task)\n",
    "    except:\n",
    "        pass\n",
    "    docs = load_json_documents(files)\n",
    "    split_docs = text_splitter.split_documents(docs)\n",
    "    texts = [doc.page_content for doc in split_docs]\n",
    "    embeddings = embeddings_model.embed_documents(texts)\n",
    "    collection = client.create_collection(name=task)\n",
    "    collection.add(\n",
    "        documents=texts,\n",
    "        embeddings=embeddings,\n",
    "        ids=[f\"{task}_{i}\" for i in range(len(texts))]\n",
    "    )\n",
    "    print(f\"[{task}] 임베딩 완료 ({len(embeddings)}건)\")"
   ]
  },
  {
   "cell_type": "code",
   "execution_count": null,
   "id": "b036d37c-d4e7-4eb4-8f4f-d70907dc65df",
   "metadata": {},
   "outputs": [],
   "source": []
  },
  {
   "cell_type": "code",
   "execution_count": null,
   "id": "394e10cf-19a1-4f6b-82ba-f097cb5a64c5",
   "metadata": {},
   "outputs": [],
   "source": []
  },
  {
   "cell_type": "code",
   "execution_count": null,
   "id": "b8421d34-a062-46b5-b1ad-135163e694f5",
   "metadata": {},
   "outputs": [],
   "source": []
  },
  {
   "cell_type": "markdown",
   "id": "7cdd3b7f-3f90-4bf7-89c4-9af57668113b",
   "metadata": {
    "jp-MarkdownHeadingCollapsed": true
   },
   "source": [
    "### 학점계산 없는 버전"
   ]
  },
  {
   "cell_type": "code",
   "execution_count": 50,
   "id": "a21342dc-2533-4b13-84de-dbf1b72ec2a4",
   "metadata": {},
   "outputs": [],
   "source": [
    "from langchain_chroma import Chroma\n",
    "from langchain.chains import RetrievalQA\n",
    "from langchain.prompts import PromptTemplate\n",
    "from langchain_openai import ChatOpenAI\n",
    "\n",
    "llm = ChatOpenAI(model=\"gpt-3.5-turbo\", temperature=0.3)\n",
    "\n",
    "def get_collection_name(user_input: str, user_id: str) -> str:\n",
    "    q = user_input.lower()\n",
    "    if \"진로\" in q or \"상담\" in q:\n",
    "        return \"career_counsel\"\n",
    "    elif \"이수\" in q or \"학점\" in q or \"현황\" in q or \"평균\" in q:\n",
    "        return \"academic_status\"\n",
    "    return f\"lecture_search_{user_id}\"\n",
    "\n",
    "def answer_query(user_input: str, user_id: str = \"kim\"):\n",
    "    collection_name = get_collection_name(user_input, user_id)\n",
    "    vectorstore = Chroma(\n",
    "        persist_directory=\"./chroma_db\",\n",
    "        collection_name=collection_name,\n",
    "        embedding_function=embeddings_model\n",
    "    )\n",
    "    prompt = PromptTemplate(\n",
    "    input_variables=[\"context\", \"question\"],\n",
    "    template=\"\"\"\n",
    "        다음은 사용자의 수강 이력 또는 학업/진로 관련 정보입니다.\n",
    "        질문에 답할 때 반드시 정확한 정보를 바탕으로 하세요.\n",
    "\n",
    "        성적은 A+, A0, B+, B0, C+, C0, F 등의 형식이며, \n",
    "        ❗ 절대 유사한 등급을 포함하거나 추론하지 마세요.\n",
    "        예: \"A+\"를 요청했을 경우, 반드시 성적이 \"A+\"인 과목만 포함하세요. \"A0\"는 포함하면 안 됩니다.\n",
    "\n",
    "        📌 답변 형식 지침:\n",
    "        - 질문에 해당하는 내용이 **여러 개인 경우 빠짐없이 모두 나열**하세요.\n",
    "        - 질문 유형에 따라 말끝을 다르게 쓰세요.\n",
    "          예:\n",
    "            - \"내가 A+ 받은 과목 알려줘\" → \"OOO, OOO 과목에서 A+를 받으셨습니다.\"\n",
    "            - \"자료구조 성적이 뭐야?\" → \"자료구조의 성적은 B+입니다.\"\n",
    "            - \"객체지향프로그래밍이 전선이지?\" → \"네, 객체지향프로그래밍은 전필입니다.\"\n",
    "            - \"전체 평균이 어떻게 돼?\" → \"전체 성적 평균은 3.58입니다.\"\n",
    "        - **절대로 \"답변:\"으로 시작하지 마세요. 문장은 바로 시작하세요.**\n",
    "        - 정중하고 간결하게, 핵심만 자연스럽게 응답하세요.\n",
    "        - 축하 인사, 추가 질문 권유 등은 하지 마세요.\n",
    "\n",
    "        문서:\n",
    "        {context}\n",
    "\n",
    "        질문:\n",
    "        {question}\n",
    "\n",
    "        위 지침을 따라 **답변 접두어 없이** 자연스럽게 말문을 여세요.\n",
    "        \"\"\"\n",
    "    )\n",
    "    qa = RetrievalQA.from_chain_type(\n",
    "        llm=llm,\n",
    "        retriever=vectorstore.as_retriever(search_kwargs={\"k\": 20}),\n",
    "        chain_type=\"stuff\",\n",
    "        chain_type_kwargs={\"prompt\": prompt}\n",
    "    )\n",
    "    return qa.invoke({\"query\": user_input})[\"result\"]"
   ]
  },
  {
   "cell_type": "markdown",
   "id": "aaed95b7-6a5d-4e9c-889a-882752c988e9",
   "metadata": {},
   "source": [
    "### 학점계산"
   ]
  },
  {
   "cell_type": "code",
   "execution_count": 312,
   "id": "75996bdc-06c5-4059-8f43-793225c7377f",
   "metadata": {},
   "outputs": [],
   "source": [
    "# GPA 계산용 함수\n",
    "import json\n",
    "import itertools\n",
    "\n",
    "# 성적 등급별 평점 매핑\n",
    "GRADE_TO_POINT = {\n",
    "    \"A+\": 4.5, \"A0\": 4.0, \"B+\": 3.5, \"B0\": 3.0,\n",
    "    \"C+\": 2.5, \"C0\": 2.0, \"F\": 0.0\n",
    "}\n",
    "\n",
    "# 사용자별 수강 데이터 로드 함수\n",
    "def load_student_data(user_id: str):\n",
    "    filename = f\"data/kw_chatbot_data - {'김브티' if user_id == 'kim' else '홍데사'}_수강이력.json\"\n",
    "    with open(filename, encoding='utf-8') as f:\n",
    "        return json.load(f)\n",
    "\n",
    "# 과목별 재수강 횟수 계산 함수\n",
    "def count_retake_courses(user_id: str):\n",
    "    data = load_student_data(user_id)\n",
    "    course_count = defaultdict(int)\n",
    "    for record in data:\n",
    "        if record.get(\"retake_status\") == \"R\":\n",
    "            course_count[record[\"lecture_name\"]] += 1\n",
    "    return course_count\n",
    "\n",
    "# 특정 과목 성적 조회 함수\n",
    "def get_course_grade(user_id: str, course_name: str):\n",
    "    data = load_student_data(user_id)\n",
    "    for record in data:\n",
    "        if record[\"lecture_name\"].replace(\" \", \"\") == course_name.replace(\" \", \"\"):\n",
    "            return record[\"lecutre_grade\"]\n",
    "    return None\n",
    "\n",
    "# 평균 평점 계산 함수\n",
    "# GPA 계산 함수 (재수강 반영 여부 및 전공 필터 포함)\n",
    "def get_gpa_with_retake(user_id: str, exclude_pre_retake: bool = False, course_type: str = None):\n",
    "    data = load_student_data(user_id)\n",
    "    seen = {}\n",
    "    credits, total = 0, 0\n",
    "    for record in data:\n",
    "        key = record['lecture_id']\n",
    "        grade = record['lecutre_grade']\n",
    "        credit = record['lecture_credit']\n",
    "        ctype = record['lecture_course_type']\n",
    "\n",
    "        if course_type and not ctype.startswith(course_type): continue\n",
    "        if exclude_pre_retake and record.get('retake_or_delete_status') == 'Y': continue\n",
    "\n",
    "        if record.get('retake_status') == 'R':\n",
    "            seen[key] = (GRADE_TO_POINT[grade], credit)\n",
    "        elif key not in seen:\n",
    "            seen[key] = (GRADE_TO_POINT[grade], credit)\n",
    "\n",
    "    for point, credit in seen.values():\n",
    "        credits += credit\n",
    "        total += point * credit\n",
    "\n",
    "    if credits == 0:\n",
    "        return \"계산할 수 있는 학점이 없습니다.\"\n",
    "    return f\"{user_id}님의 평균 평점은 {round(total / credits, 2)}입니다.\"\n",
    "\n",
    "# 재수강한 과목 리스트 반환\n",
    "def get_retake_course_names(user_id: str):\n",
    "    data = load_student_data(user_id)\n",
    "    names = [r['lecture_name'] for r in data if r.get('retake_or_delete_status') == 'Y']\n",
    "    return names\n",
    "\n",
    "# 재수강한 과목 개수 반환\n",
    "def get_retake_course_count(user_id: str):\n",
    "    return len(get_retake_course_names(user_id))\n",
    "\n",
    "# 특정 성적을 받은 과목 조회 함수\n",
    "def get_subjects_by_grade(user_id: str, target_grade: str):\n",
    "    data = load_student_data(user_id)\n",
    "    return [r['lecture_name'] for r in data if r['lecutre_grade'] == target_grade]\n",
    "\n",
    "# 특정 과목의 최종 성적 반환 함수\n",
    "def get_final_grade_for_subject(user_id: str, subject_name: str):\n",
    "    data = load_student_data(user_id)\n",
    "    matches = [r for r in data if r['lecture_name'] == subject_name]\n",
    "    if not matches:\n",
    "        return None\n",
    "    return matches[-1]['lecutre_grade']\n",
    "\n",
    "# 재수강 횟수 과목별로 반환\n",
    "def get_retake_course_counts(user_id: str):\n",
    "    data = load_student_data(user_id)\n",
    "    names = [r['lecture_name'] for r in data if r.get('retake_status') == 'R']\n",
    "    return Counter(names)\n",
    "\n",
    "# 재수강 가능 과목 조회 함수 (정확하게 재수강 제외 기준 반영)\n",
    "def get_possible_retake_gpa(user_id: str, focus: str = \"all\", list_only: bool = False, fixed_grade: str = None):\n",
    "    data = load_student_data(user_id)\n",
    "    seen = {}\n",
    "    excluded = {}\n",
    "\n",
    "    # 재수강 후 B0 이상 받은 과목 제외\n",
    "    for record in data:\n",
    "        key = record['lecture_id']\n",
    "        grade = record['lecutre_grade']\n",
    "        if record.get('retake_status') == 'R' and GRADE_TO_POINT.get(grade, 0) >= 3.0:\n",
    "            excluded[key] = True\n",
    "\n",
    "    for record in data:\n",
    "        key = record['lecture_id']\n",
    "        grade = record['lecutre_grade']\n",
    "        ctype = record['lecture_course_type']\n",
    "\n",
    "        if record.get('retake_or_delete_status') == 'Y': continue\n",
    "        if key in excluded: continue\n",
    "        if focus == \"major\" and not ctype.startswith(\"전공\"): continue\n",
    "        if GRADE_TO_POINT.get(grade, 5) > 2.5: continue\n",
    "        if key not in seen:\n",
    "            seen[key] = (GRADE_TO_POINT[grade], record['lecture_credit'], record['lecture_name'])\n",
    "\n",
    "    if list_only:\n",
    "        if not seen:\n",
    "            return f\"지금 재수강 가능한 {'전공 ' if focus == 'major' else ''}과목은 없습니다.\"\n",
    "        return f\"재수강 가능한 {'전공 ' if focus == 'major' else ''}과목: \" + \", \".join([v[2] for v in seen.values()])\n",
    "\n",
    "    # GPA simulation part\n",
    "    original_data = load_student_data(user_id)\n",
    "    base = {}\n",
    "    for r in original_data:\n",
    "        key = r['lecture_id']\n",
    "        if r.get('retake_or_delete_status') == 'Y': continue\n",
    "        base[key] = (GRADE_TO_POINT.get(r['lecutre_grade'], 0.0), r['lecture_credit'])\n",
    "\n",
    "    replace_targets = list(seen.items())\n",
    "    grade_options = [fixed_grade] if fixed_grade else list(GRADE_TO_POINT.keys())\n",
    "    responses = []\n",
    "\n",
    "    for combo in itertools.product(grade_options, repeat=len(replace_targets)):\n",
    "        modified = base.copy()\n",
    "        label = []\n",
    "        for (key, (_, credit, name)), g in zip(replace_targets, combo):\n",
    "            modified[key] = (GRADE_TO_POINT[g], credit)\n",
    "            label.append(f\"{name}: {g}\")\n",
    "        total_credits = sum(c for _, c in modified.values())\n",
    "        total_points = sum(p * c for p, c in modified.values())\n",
    "        avg = round(total_points / total_credits, 2)\n",
    "        responses.append(f\"{' / '.join(label)} → 예상 평점: {avg}\")\n",
    "\n",
    "    return \"\\n\".join(responses)"
   ]
  },
  {
   "cell_type": "code",
   "execution_count": 313,
   "id": "8ad71e89-565d-474d-bbd4-3c7aa07ef5f4",
   "metadata": {},
   "outputs": [],
   "source": [
    "# LangChain 연동 + GPA 계산 질의 처리\n",
    "import json\n",
    "from langchain_chroma import Chroma\n",
    "from langchain.chains import RetrievalQA\n",
    "from langchain.prompts import PromptTemplate\n",
    "from langchain_openai import ChatOpenAI\n",
    "from collections import defaultdict\n",
    "\n",
    "llm = ChatOpenAI(model=\"gpt-4o-mini\", temperature=0.3)\n",
    "\n",
    "\n",
    "# LangChain 컬렉션 이름 결정 함수\n",
    "def get_collection_name(user_input: str, user_id: str) -> str:\n",
    "    q = user_input.lower()\n",
    "    if \"진로\" in q or \"상담\" in q:\n",
    "        return \"career_counsel\"\n",
    "    elif \"이수\" in q or \"학점\" in q or \"현황\" in q or \"평균\" in q:\n",
    "        return \"academic_status\"\n",
    "    return f\"lecture_search_{user_id}\"\n",
    "\n",
    "# 재수강 가능 과목 필터링 함수 (전공/교양 구분 포함)\n",
    "def get_filtered_retake_courses(user_id: str, focus: str = \"all\") -> list:\n",
    "    data = load_student_data(user_id)\n",
    "    seen = {}\n",
    "    excluded = set()\n",
    "\n",
    "    # 재수강했고 성적이 B0 이상이면 제외\n",
    "    for record in data:\n",
    "        key = record['lecture_id']\n",
    "        grade = record['lecutre_grade']\n",
    "        if record.get('retake_status') == 'R' and GRADE_TO_POINT.get(grade, 0) >= 3.0:\n",
    "            excluded.add(key)\n",
    "        if record.get('retake_or_delete_status') == 'Y':\n",
    "            excluded.add(key)\n",
    "\n",
    "     # 재수강 조건에 부합하는 과목 수집\n",
    "    for record in data:\n",
    "        key = record['lecture_id']\n",
    "        grade = record['lecutre_grade']\n",
    "        ctype = record['lecture_course_type']\n",
    "        name = record['lecture_name']\n",
    "\n",
    "        if key in excluded:\n",
    "            continue\n",
    "        if GRADE_TO_POINT.get(grade, 5) > 2.5:\n",
    "            continue\n",
    "        if focus == 'major' and not ctype.startswith(\"전공\"):\n",
    "            continue\n",
    "        if focus == 'liberal' and ctype.startswith(\"전공\"):\n",
    "            continue\n",
    "        if key not in seen:\n",
    "            seen[key] = name\n",
    "\n",
    "    return list(seen.values())\n",
    "\n",
    "# 자연어 질의 응답 처리 함수\n",
    "def answer_query(user_input: str, user_id: str = \"kim\"):\n",
    "    normalized = user_input.lower().replace(\" \", \"\")\n",
    "\n",
    "    # 특정 등급 이하 과목 필터링 처리\n",
    "    if \"이하\" in normalized:\n",
    "        for grade in GRADE_TO_POINT:\n",
    "            if grade.lower() in normalized:\n",
    "                threshold = GRADE_TO_POINT[grade]\n",
    "                target_grades = [g for g, p in GRADE_TO_POINT.items() if p <= threshold]\n",
    "                subjects = [r['lecture_name'] for r in load_student_data(user_id) if r['lecutre_grade'] in target_grades]\n",
    "                if subjects:\n",
    "                    return f\"{', '.join(subjects)} 과목이 {grade} 이하입니다.\"\n",
    "                else:\n",
    "                    return f\"{grade} 이하인 과목이 없습니다.\"\n",
    "\n",
    "    # 재수강 횟수 출\n",
    "    if \"재수강몇번했어\" in normalized or \"나몇번재수강했어\" in normalized:\n",
    "        retake_counts = count_retake_courses(user_id)\n",
    "        if not retake_counts:\n",
    "            return \"재수강한 과목이 없습니다.\"\n",
    "        parts = [f\"{name} 과목을 {count}번\" for name, count in retake_counts.items()]\n",
    "        return f\"{', '.join(parts)} 재수강하셨습니다.\"\n",
    "\n",
    "    # 특정 과목 성적 조회\n",
    "    if \"성적이어때\" in normalized or \"학점이어때\" in normalized:\n",
    "        course_name = user_input.split()[0].replace(\" \", \"\")\n",
    "        grade = get_course_grade(user_id, course_name)\n",
    "        if grade:\n",
    "            return f\"{course_name}의 성적은 {grade}입니다.\"\n",
    "        else:\n",
    "            return f\"{course_name}에 대한 성적 정보를 찾을 수 없습니다.\"\n",
    "\n",
    "    # 특정 등급 받은 과목 목록 조회\n",
    "    for grade in GRADE_TO_POINT.keys():\n",
    "        if grade.lower() in normalized and (\"받은과목\" in normalized or \"받은수업\" in normalized):\n",
    "            subjects = [r['lecture_name'] for r in load_student_data(user_id) if r['lecutre_grade'] == grade]\n",
    "            return \", \".join(subjects) + f\" 과목에서 {grade}를 받으셨습니다.\" if subjects else f\"{grade}를 받은 과목이 없습니다.\"\n",
    "\n",
    "    # 재수강한 과목 이름 반환\n",
    "    if \"재수강한거뭐있어\" in normalized or \"재수강한과목\" in normalized:\n",
    "        data = load_student_data(user_id)\n",
    "        names = [r['lecture_name'] for r in data if r.get('retake_status') == 'R']\n",
    "        return \", \".join(f\"{name}을 재수강했습니다.\" for name in names) if names else \"재수강한 과목이 없습니다.\"\n",
    "\n",
    "    # 전체 GPA 계산\n",
    "    if any(k in normalized for k in [\"전체성적평균\", \"전체학점평균\"]):\n",
    "        return get_gpa_with_retake(user_id)\n",
    "\n",
    "    # 재수강 반영 GPA 계산\n",
    "    if any(k in normalized for k in [\"재수강하고전체학점\", \"재수강반영된학점\", \"재수강적용학점\", \"재수강하고학점\"]):\n",
    "        return get_gpa_with_retake(user_id, exclude_pre_retake=True)\n",
    "\n",
    "    # 전공과목만 GPA 계산\n",
    "    if \"전공평균\" in normalized:\n",
    "        return get_gpa_with_retake(user_id, course_type=\"전공\")\n",
    "\n",
    "    # 재수강 가능한 전공 과목\n",
    "    if \"재수강가능한전공과목\" in normalized and (\"뭐가있어\" in normalized or \"뭐있어\" in normalized or \"뭐야\" in normalized):\n",
    "        filtered = get_filtered_retake_courses(user_id, focus=\"major\")\n",
    "        return f\"지금 재수강 가능한 전공 과목은 {', '.join(filtered)}입니다.\" if filtered else \"지금 재수강 가능한 전공 과목은 없습니다.\"\n",
    "\n",
    "    # 재수강 가능한 전체 과목\n",
    "    if \"재수강가능한과목\" in normalized and (\"뭐가있어\" in normalized or \"뭐있어\" in normalized or \"뭐야\" in normalized):\n",
    "        majors = get_filtered_retake_courses(user_id, focus=\"major\")\n",
    "        liberals = get_filtered_retake_courses(user_id, focus=\"liberal\")\n",
    "        total = majors + liberals\n",
    "        return f\"지금 재수강 가능한 과목은 {', '.join(total)}입니다.\" if total else \"지금 재수강 가능한 과목은 없습니다.\"\n",
    "\n",
    "    # 가상의 성적으로 GPA 시뮬레이션\n",
    "    if (\"재수강가능한과목\" in normalized or \"재수강가능한전공과목\" in normalized) and \"성적올리면\" in normalized:\n",
    "        focus = \"major\" if \"전공\" in normalized else \"all\"\n",
    "        for grade in GRADE_TO_POINT.keys():\n",
    "            if grade.lower() + \"로\" in normalized:\n",
    "                result = get_possible_retake_gpa(user_id, focus=focus, fixed_grade=grade)\n",
    "                if isinstance(result, tuple):\n",
    "                    return result[0]\n",
    "                return result\n",
    "        return get_possible_retake_gpa(user_id, focus=focus)\n",
    "\n",
    "    collection_name = get_collection_name(user_input, user_id)\n",
    "    vectorstore = Chroma(\n",
    "        persist_directory=\"./chroma_db\",\n",
    "        collection_name=collection_name,\n",
    "        embedding_function=embeddings_model\n",
    "    )\n",
    "    prompt = PromptTemplate(\n",
    "        input_variables=[\"context\", \"question\"],\n",
    "        template=\"\"\"\n",
    "        다음은 사용자의 수강 이력 또는 학업/진로 관련 정보입니다.\n",
    "        질문에 답할 때 반드시 정확한 정보를 바탕으로 하세요.\n",
    "\n",
    "        성적은 A+, A0, B+, B0, C+, C0, F 등의 형식이며, \n",
    "        ❗ 절대 유사한 등급을 포함하거나 추론하지 마세요.\n",
    "        예: \"A+\"를 요청했을 경우, 반드시 성적이 \"A+\"인 과목만 포함하세요. \"A0\"는 포함하면 안 됩니다.\n",
    "\n",
    "        📌 답변 형식 지침:\n",
    "        - 질문에 해당하는 내용이 **여러 개인 경우 빠짐없이 모두 나열**하세요.\n",
    "        - 질문 유형에 따라 말끝을 다르게 쓰세요.\n",
    "          예:\n",
    "            - \"내가 A+ 받은 과목 알려줘\" → \"OOO, OOO 과목에서 A+를 받으셨습니다.\"\n",
    "            - \"자료구조 성적이 뭐야?\" → \"자료구조의 성적은 B+입니다.\"\n",
    "            - \"객체지향프로그래밍이 전선이지?\" → \"네, 객체지향프로그래밍은 전필입니다.\"\n",
    "            - \"전체 평균이 어떻게 돼?\" → \"전체 성적 평균은 3.58입니다.\"\n",
    "        - **절대로 \"답변:\"으로 시작하지 마세요. 문장은 바로 시작하세요.**\n",
    "        - 정중하고 간결하게, 핵심만 자연스럽게 응답하세요.\n",
    "        - 축하 인사, 추가 질문 권유 등은 하지 마세요.\n",
    "\n",
    "        문서:\n",
    "        {context}\n",
    "\n",
    "        질문:\n",
    "        {question}\n",
    "\n",
    "        위 지침을 따라 **답변 접두어 없이** 자연스럽게 말문을 여세요.\n",
    "        \"\"\"\n",
    "    )\n",
    "\n",
    "    qa = RetrievalQA.from_chain_type(\n",
    "        llm=llm,\n",
    "        retriever=vectorstore.as_retriever(search_kwargs={\"k\": 20}),\n",
    "        chain_type=\"stuff\",\n",
    "        chain_type_kwargs={\"prompt\": prompt}\n",
    "    )\n",
    "\n",
    "    return qa.invoke({\"query\": user_input})[\"result\"]"
   ]
  },
  {
   "cell_type": "code",
   "execution_count": null,
   "id": "1e1ea8a8-b1fb-4d51-b5a4-8240813bbefd",
   "metadata": {},
   "outputs": [],
   "source": []
  },
  {
   "cell_type": "code",
   "execution_count": null,
   "id": "18b24314-1329-40ff-812a-b5920c6e7903",
   "metadata": {},
   "outputs": [],
   "source": []
  },
  {
   "cell_type": "code",
   "execution_count": null,
   "id": "d0ed8383-10a9-4948-9c9a-558836961c8a",
   "metadata": {},
   "outputs": [],
   "source": []
  },
  {
   "cell_type": "markdown",
   "id": "2f53c652-1612-4daf-baae-3b1cc5100f07",
   "metadata": {},
   "source": [
    "#### 학점 계산"
   ]
  },
  {
   "cell_type": "code",
   "execution_count": 314,
   "id": "5c96c1cd-3f88-4f1a-839f-cd2209be46c1",
   "metadata": {},
   "outputs": [
    {
     "data": {
      "text/plain": [
       "'hong님의 평균 평점은 3.7입니다.'"
      ]
     },
     "execution_count": 314,
     "metadata": {},
     "output_type": "execute_result"
    }
   ],
   "source": [
    "answer_query(\"전체 성적 평균이 어떻게 돼?\", user_id=\"hong\")"
   ]
  },
  {
   "cell_type": "code",
   "execution_count": 315,
   "id": "d4b5140f-9b46-459e-be1a-095a96bc9189",
   "metadata": {},
   "outputs": [
    {
     "data": {
      "text/plain": [
       "'kim님의 평균 평점은 3.72입니다.'"
      ]
     },
     "execution_count": 315,
     "metadata": {},
     "output_type": "execute_result"
    }
   ],
   "source": [
    "answer_query(\"전체 성적 평균이 어떻게 돼?\", user_id=\"kim\")"
   ]
  },
  {
   "cell_type": "code",
   "execution_count": 316,
   "id": "644bd837-27cc-43a6-bb2f-879919cc1298",
   "metadata": {},
   "outputs": [
    {
     "data": {
      "text/plain": [
       "'전공 성적 평균은 3.45입니다.'"
      ]
     },
     "execution_count": 316,
     "metadata": {},
     "output_type": "execute_result"
    }
   ],
   "source": [
    "answer_query(\"전공 성적 평균이 어떻게 돼?\", user_id=\"kim\")"
   ]
  },
  {
   "cell_type": "code",
   "execution_count": 317,
   "id": "2c72a8c4-add0-46e1-ae25-de334e23756a",
   "metadata": {},
   "outputs": [
    {
     "data": {
      "text/plain": [
       "'AI수학: A0 / 정보디자인프로그래밍: A0 → 예상 평점: 3.85'"
      ]
     },
     "execution_count": 317,
     "metadata": {},
     "output_type": "execute_result"
    }
   ],
   "source": [
    "answer_query(\"지금 재수강가능한 과목들을 A0로 성적올리면 전체 학점이 어떻게 돼?\", user_id=\"kim\")"
   ]
  },
  {
   "cell_type": "code",
   "execution_count": 318,
   "id": "08dd1d73-c271-4c7c-a269-69e18cbc9407",
   "metadata": {},
   "outputs": [
    {
     "data": {
      "text/plain": [
       "'AI수학: B0 / 정보디자인프로그래밍: B0 → 예상 평점: 3.76'"
      ]
     },
     "execution_count": 318,
     "metadata": {},
     "output_type": "execute_result"
    }
   ],
   "source": [
    "answer_query(\"지금 재수강가능한 과목들을 B0로 성적올리면 전체 학점이 어떻게 돼?\", user_id=\"kim\")"
   ]
  },
  {
   "cell_type": "markdown",
   "id": "b171bf51-dec1-425e-ab1b-5e7a53843ce2",
   "metadata": {},
   "source": [
    "#### 재수강"
   ]
  },
  {
   "cell_type": "code",
   "execution_count": 319,
   "id": "6c4338b2-4347-457f-a9e5-f0453c0f6cc7",
   "metadata": {},
   "outputs": [
    {
     "data": {
      "text/plain": [
       "'창의설계입문 과목을 1번 재수강하셨습니다.'"
      ]
     },
     "execution_count": 319,
     "metadata": {},
     "output_type": "execute_result"
    }
   ],
   "source": [
    "answer_query(\"재수강 몇 번 했어?\", user_id=\"hong\")"
   ]
  },
  {
   "cell_type": "code",
   "execution_count": 320,
   "id": "b7796a01-b1b8-4bd9-8dee-37dc3291f326",
   "metadata": {},
   "outputs": [
    {
     "data": {
      "text/plain": [
       "'프로그래밍기초 과목을 1번 재수강하셨습니다.'"
      ]
     },
     "execution_count": 320,
     "metadata": {},
     "output_type": "execute_result"
    }
   ],
   "source": [
    "answer_query(\"나 몇 번 재수강했어?\", user_id=\"kim\")"
   ]
  },
  {
   "cell_type": "code",
   "execution_count": 321,
   "id": "39f6d5cd-8557-4473-8d12-87586cdb9a78",
   "metadata": {},
   "outputs": [
    {
     "data": {
      "text/plain": [
       "'프로그래밍기초을 재수강했습니다.'"
      ]
     },
     "execution_count": 321,
     "metadata": {},
     "output_type": "execute_result"
    }
   ],
   "source": [
    "answer_query(\"재수강한 과목이 뭐야?\", user_id=\"kim\")"
   ]
  },
  {
   "cell_type": "code",
   "execution_count": 322,
   "id": "0d15b6a9-79ab-431b-9f36-c570b9ad377e",
   "metadata": {},
   "outputs": [
    {
     "data": {
      "text/plain": [
       "'창의설계입문을 재수강했습니다.'"
      ]
     },
     "execution_count": 322,
     "metadata": {},
     "output_type": "execute_result"
    }
   ],
   "source": [
    "answer_query(\"재수강한 거 뭐있어?\", user_id=\"hong\")"
   ]
  },
  {
   "cell_type": "code",
   "execution_count": 323,
   "id": "5af63933-7552-44bd-82b0-a23fe9792dc0",
   "metadata": {},
   "outputs": [
    {
     "data": {
      "text/plain": [
       "'지금 재수강 가능한 과목은 프로그래밍기초, 객체지향프로그래밍, 정보디자인프로그래밍입니다.'"
      ]
     },
     "execution_count": 323,
     "metadata": {},
     "output_type": "execute_result"
    }
   ],
   "source": [
    "answer_query(\"지금 재수강가능한 과목은 뭐야?\", user_id=\"hong\")"
   ]
  },
  {
   "cell_type": "code",
   "execution_count": 324,
   "id": "1a5791ff-7c74-45d9-9705-35ec8f82d433",
   "metadata": {},
   "outputs": [
    {
     "data": {
      "text/plain": [
       "'지금 재수강 가능한 전공 과목은 없습니다.'"
      ]
     },
     "execution_count": 324,
     "metadata": {},
     "output_type": "execute_result"
    }
   ],
   "source": [
    "answer_query(\"지금 재수강가능한 전공과목은 뭐야?\", user_id=\"hong\")"
   ]
  },
  {
   "cell_type": "code",
   "execution_count": 325,
   "id": "b542bb84-e848-4a8f-a819-6224a718cd25",
   "metadata": {},
   "outputs": [
    {
     "data": {
      "text/plain": [
       "'지금 재수강 가능한 과목은 AI수학, 정보디자인프로그래밍입니다.'"
      ]
     },
     "execution_count": 325,
     "metadata": {},
     "output_type": "execute_result"
    }
   ],
   "source": [
    "answer_query(\"지금 재수강가능한 과목은 뭐야?\", user_id=\"kim\")"
   ]
  },
  {
   "cell_type": "code",
   "execution_count": 311,
   "id": "c2d3d42f-2f54-4b10-9d3c-ac09eef6a771",
   "metadata": {},
   "outputs": [
    {
     "data": {
      "text/plain": [
       "'지금 재수강 가능한 전공 과목은 없습니다.'"
      ]
     },
     "execution_count": 311,
     "metadata": {},
     "output_type": "execute_result"
    }
   ],
   "source": [
    "answer_query(\"지금 재수강가능한 전공과목은 뭐야?\", user_id=\"kim\")"
   ]
  },
  {
   "cell_type": "markdown",
   "id": "fae444ff-372e-4320-93da-465467493247",
   "metadata": {},
   "source": [
    "#### 과목 질문"
   ]
  },
  {
   "cell_type": "code",
   "execution_count": 326,
   "id": "8c03bebf-1c8b-437d-9d19-9a72674804f6",
   "metadata": {},
   "outputs": [
    {
     "data": {
      "text/plain": [
       "'경제와경영, 대학수학및연습2, 인터넷활용, 생활속의생명과학 과목에서 A+를 받으셨습니다.'"
      ]
     },
     "execution_count": 326,
     "metadata": {},
     "output_type": "execute_result"
    }
   ],
   "source": [
    "answer_query(\"내가 A+ 받은 과목 알려줘\", user_id=\"kim\")"
   ]
  },
  {
   "cell_type": "code",
   "execution_count": 293,
   "id": "2353b845-ab36-493a-aa5a-ce6a581c9f77",
   "metadata": {},
   "outputs": [
    {
     "data": {
      "text/plain": [
       "'컴퓨팅사고, 대학수학및연습1, 그래픽디자인, 대학수학및연습2, AI수학, 화폐와금융의과거,현재그리고미래, 생활속의생명과학 과목에서 A+를 받으셨습니다.'"
      ]
     },
     "execution_count": 293,
     "metadata": {},
     "output_type": "execute_result"
    }
   ],
   "source": [
    "answer_query(\"내가 A+ 받은 과목 알려줘\", user_id=\"hong\")"
   ]
  },
  {
   "cell_type": "code",
   "execution_count": 327,
   "id": "57cfa943-4574-44fc-bf7a-d28b9398f655",
   "metadata": {},
   "outputs": [
    {
     "data": {
      "text/plain": [
       "'고급C프로그래밍의 성적은 B+입니다.'"
      ]
     },
     "execution_count": 327,
     "metadata": {},
     "output_type": "execute_result"
    }
   ],
   "source": [
    "answer_query(\"고급C프로그래밍 학점이 어때?\", user_id=\"kim\")"
   ]
  },
  {
   "cell_type": "code",
   "execution_count": 328,
   "id": "486ed612-f92d-4d13-a6fb-f4bc276e158b",
   "metadata": {},
   "outputs": [
    {
     "data": {
      "text/plain": [
       "'객체지향프로그래밍의 성적은 B0입니다.'"
      ]
     },
     "execution_count": 328,
     "metadata": {},
     "output_type": "execute_result"
    }
   ],
   "source": [
    "answer_query(\"객체지향프로그래밍 성적이 뭐야?\", user_id=\"kim\")"
   ]
  },
  {
   "cell_type": "code",
   "execution_count": 329,
   "id": "a1db5998-3259-44ca-89b4-dcce024765ca",
   "metadata": {},
   "outputs": [
    {
     "data": {
      "text/plain": [
       "'창의설계입문, 프로그래밍기초, 객체지향프로그래밍, 정보디자인프로그래밍 과목이 C+ 이하입니다.'"
      ]
     },
     "execution_count": 329,
     "metadata": {},
     "output_type": "execute_result"
    }
   ],
   "source": [
    "answer_query(\"C+ 이하 과목만 보고 싶어\", user_id=\"hong\")"
   ]
  },
  {
   "cell_type": "code",
   "execution_count": null,
   "id": "3a0646af-2d90-45fc-b12c-2ae2c95906f3",
   "metadata": {},
   "outputs": [],
   "source": []
  },
  {
   "cell_type": "code",
   "execution_count": null,
   "id": "a9d44dda-7129-42f4-9882-94dc114d2b8e",
   "metadata": {},
   "outputs": [],
   "source": []
  },
  {
   "cell_type": "code",
   "execution_count": null,
   "id": "432e055c-e834-4a90-a797-a08aa076a2a0",
   "metadata": {},
   "outputs": [],
   "source": []
  },
  {
   "cell_type": "code",
   "execution_count": null,
   "id": "dcc69f9e-8d5c-450d-8e1a-05d06d6ac7dc",
   "metadata": {},
   "outputs": [],
   "source": []
  },
  {
   "cell_type": "code",
   "execution_count": null,
   "id": "a7c7dbf6-b104-46db-8c41-4764f1590baf",
   "metadata": {},
   "outputs": [],
   "source": []
  }
 ],
 "metadata": {
  "kernelspec": {
   "display_name": "Python 3 (ipykernel)",
   "language": "python",
   "name": "python3"
  },
  "language_info": {
   "codemirror_mode": {
    "name": "ipython",
    "version": 3
   },
   "file_extension": ".py",
   "mimetype": "text/x-python",
   "name": "python",
   "nbconvert_exporter": "python",
   "pygments_lexer": "ipython3",
   "version": "3.13.3"
  }
 },
 "nbformat": 4,
 "nbformat_minor": 5
}
