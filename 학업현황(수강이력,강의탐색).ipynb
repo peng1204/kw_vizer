{
 "cells": [
  {
   "cell_type": "code",
   "execution_count": 1,
   "id": "7e5f44c8-0494-45b0-97e0-d8627a641bf4",
   "metadata": {
    "scrolled": true
   },
   "outputs": [
    {
     "name": "stdout",
     "output_type": "stream",
     "text": [
      "Requirement already satisfied: langchain in c:\\users\\문선장\\appdata\\local\\programs\\python\\python313\\lib\\site-packages (0.3.23)\n",
      "Requirement already satisfied: langchain-openai in c:\\users\\문선장\\appdata\\local\\programs\\python\\python313\\lib\\site-packages (0.3.16)\n",
      "Requirement already satisfied: langchain-community in c:\\users\\문선장\\appdata\\local\\programs\\python\\python313\\lib\\site-packages (0.3.21)\n",
      "Requirement already satisfied: langchain-text-splitters in c:\\users\\문선장\\appdata\\local\\programs\\python\\python313\\lib\\site-packages (0.3.8)\n",
      "Requirement already satisfied: sentence-transformers in c:\\users\\문선장\\appdata\\local\\programs\\python\\python313\\lib\\site-packages (4.1.0)\n",
      "Requirement already satisfied: pypdfium2 in c:\\users\\문선장\\appdata\\local\\programs\\python\\python313\\lib\\site-packages (4.30.1)\n",
      "Requirement already satisfied: chromadb in c:\\users\\문선장\\appdata\\local\\programs\\python\\python313\\lib\\site-packages (0.6.3)\n",
      "Requirement already satisfied: langchain-chroma in c:\\users\\문선장\\appdata\\local\\programs\\python\\python313\\lib\\site-packages (0.2.3)\n",
      "Requirement already satisfied: langchain-core<1.0.0,>=0.3.51 in c:\\users\\문선장\\appdata\\local\\programs\\python\\python313\\lib\\site-packages (from langchain) (0.3.58)\n",
      "Requirement already satisfied: langsmith<0.4,>=0.1.17 in c:\\users\\문선장\\appdata\\local\\programs\\python\\python313\\lib\\site-packages (from langchain) (0.3.30)\n",
      "Requirement already satisfied: pydantic<3.0.0,>=2.7.4 in c:\\users\\문선장\\appdata\\local\\programs\\python\\python313\\lib\\site-packages (from langchain) (2.11.3)\n",
      "Requirement already satisfied: SQLAlchemy<3,>=1.4 in c:\\users\\문선장\\appdata\\local\\programs\\python\\python313\\lib\\site-packages (from langchain) (2.0.40)\n",
      "Requirement already satisfied: requests<3,>=2 in c:\\users\\문선장\\appdata\\local\\programs\\python\\python313\\lib\\site-packages (from langchain) (2.32.3)\n",
      "Requirement already satisfied: PyYAML>=5.3 in c:\\users\\문선장\\appdata\\local\\programs\\python\\python313\\lib\\site-packages (from langchain) (6.0.2)\n",
      "Requirement already satisfied: openai<2.0.0,>=1.68.2 in c:\\users\\문선장\\appdata\\local\\programs\\python\\python313\\lib\\site-packages (from langchain-openai) (1.73.0)\n",
      "Requirement already satisfied: tiktoken<1,>=0.7 in c:\\users\\문선장\\appdata\\local\\programs\\python\\python313\\lib\\site-packages (from langchain-openai) (0.9.0)\n",
      "Requirement already satisfied: aiohttp<4.0.0,>=3.8.3 in c:\\users\\문선장\\appdata\\local\\programs\\python\\python313\\lib\\site-packages (from langchain-community) (3.11.16)\n",
      "Requirement already satisfied: tenacity!=8.4.0,<10,>=8.1.0 in c:\\users\\문선장\\appdata\\local\\programs\\python\\python313\\lib\\site-packages (from langchain-community) (9.1.2)\n",
      "Requirement already satisfied: dataclasses-json<0.7,>=0.5.7 in c:\\users\\문선장\\appdata\\local\\programs\\python\\python313\\lib\\site-packages (from langchain-community) (0.6.7)\n",
      "Requirement already satisfied: pydantic-settings<3.0.0,>=2.4.0 in c:\\users\\문선장\\appdata\\local\\programs\\python\\python313\\lib\\site-packages (from langchain-community) (2.8.1)\n",
      "Requirement already satisfied: httpx-sse<1.0.0,>=0.4.0 in c:\\users\\문선장\\appdata\\local\\programs\\python\\python313\\lib\\site-packages (from langchain-community) (0.4.0)\n",
      "Requirement already satisfied: numpy<3,>=1.26.2 in c:\\users\\문선장\\appdata\\local\\programs\\python\\python313\\lib\\site-packages (from langchain-community) (2.2.4)\n",
      "Requirement already satisfied: transformers<5.0.0,>=4.41.0 in c:\\users\\문선장\\appdata\\local\\programs\\python\\python313\\lib\\site-packages (from sentence-transformers) (4.51.3)\n",
      "Requirement already satisfied: tqdm in c:\\users\\문선장\\appdata\\local\\programs\\python\\python313\\lib\\site-packages (from sentence-transformers) (4.67.1)\n",
      "Requirement already satisfied: torch>=1.11.0 in c:\\users\\문선장\\appdata\\local\\programs\\python\\python313\\lib\\site-packages (from sentence-transformers) (2.7.0)\n",
      "Requirement already satisfied: scikit-learn in c:\\users\\문선장\\appdata\\local\\programs\\python\\python313\\lib\\site-packages (from sentence-transformers) (1.6.1)\n",
      "Requirement already satisfied: scipy in c:\\users\\문선장\\appdata\\local\\programs\\python\\python313\\lib\\site-packages (from sentence-transformers) (1.15.2)\n",
      "Requirement already satisfied: huggingface-hub>=0.20.0 in c:\\users\\문선장\\appdata\\local\\programs\\python\\python313\\lib\\site-packages (from sentence-transformers) (0.30.2)\n",
      "Requirement already satisfied: Pillow in c:\\users\\문선장\\appdata\\local\\programs\\python\\python313\\lib\\site-packages (from sentence-transformers) (11.2.1)\n",
      "Requirement already satisfied: typing_extensions>=4.5.0 in c:\\users\\문선장\\appdata\\local\\programs\\python\\python313\\lib\\site-packages (from sentence-transformers) (4.13.0)\n",
      "Requirement already satisfied: build>=1.0.3 in c:\\users\\문선장\\appdata\\local\\programs\\python\\python313\\lib\\site-packages (from chromadb) (1.2.2.post1)\n",
      "Requirement already satisfied: chroma-hnswlib==0.7.6 in c:\\users\\문선장\\appdata\\local\\programs\\python\\python313\\lib\\site-packages (from chromadb) (0.7.6)\n",
      "Requirement already satisfied: fastapi>=0.95.2 in c:\\users\\문선장\\appdata\\local\\programs\\python\\python313\\lib\\site-packages (from chromadb) (0.115.9)\n",
      "Requirement already satisfied: uvicorn>=0.18.3 in c:\\users\\문선장\\appdata\\local\\programs\\python\\python313\\lib\\site-packages (from uvicorn[standard]>=0.18.3->chromadb) (0.34.1)\n",
      "Requirement already satisfied: posthog>=2.4.0 in c:\\users\\문선장\\appdata\\local\\programs\\python\\python313\\lib\\site-packages (from chromadb) (3.24.1)\n",
      "Requirement already satisfied: onnxruntime>=1.14.1 in c:\\users\\문선장\\appdata\\local\\programs\\python\\python313\\lib\\site-packages (from chromadb) (1.21.0)\n",
      "Requirement already satisfied: opentelemetry-api>=1.2.0 in c:\\users\\문선장\\appdata\\local\\programs\\python\\python313\\lib\\site-packages (from chromadb) (1.32.0)\n",
      "Requirement already satisfied: opentelemetry-exporter-otlp-proto-grpc>=1.2.0 in c:\\users\\문선장\\appdata\\local\\programs\\python\\python313\\lib\\site-packages (from chromadb) (1.32.0)\n",
      "Requirement already satisfied: opentelemetry-instrumentation-fastapi>=0.41b0 in c:\\users\\문선장\\appdata\\local\\programs\\python\\python313\\lib\\site-packages (from chromadb) (0.53b0)\n",
      "Requirement already satisfied: opentelemetry-sdk>=1.2.0 in c:\\users\\문선장\\appdata\\local\\programs\\python\\python313\\lib\\site-packages (from chromadb) (1.32.0)\n",
      "Requirement already satisfied: tokenizers>=0.13.2 in c:\\users\\문선장\\appdata\\local\\programs\\python\\python313\\lib\\site-packages (from chromadb) (0.21.1)\n",
      "Requirement already satisfied: pypika>=0.48.9 in c:\\users\\문선장\\appdata\\local\\programs\\python\\python313\\lib\\site-packages (from chromadb) (0.48.9)\n",
      "Requirement already satisfied: overrides>=7.3.1 in c:\\users\\문선장\\appdata\\local\\programs\\python\\python313\\lib\\site-packages (from chromadb) (7.7.0)\n",
      "Requirement already satisfied: importlib-resources in c:\\users\\문선장\\appdata\\local\\programs\\python\\python313\\lib\\site-packages (from chromadb) (6.5.2)\n",
      "Requirement already satisfied: grpcio>=1.58.0 in c:\\users\\문선장\\appdata\\local\\programs\\python\\python313\\lib\\site-packages (from chromadb) (1.71.0)\n",
      "Requirement already satisfied: bcrypt>=4.0.1 in c:\\users\\문선장\\appdata\\local\\programs\\python\\python313\\lib\\site-packages (from chromadb) (4.3.0)\n",
      "Requirement already satisfied: typer>=0.9.0 in c:\\users\\문선장\\appdata\\local\\programs\\python\\python313\\lib\\site-packages (from chromadb) (0.15.2)\n",
      "Requirement already satisfied: kubernetes>=28.1.0 in c:\\users\\문선장\\appdata\\local\\programs\\python\\python313\\lib\\site-packages (from chromadb) (32.0.1)\n",
      "Requirement already satisfied: mmh3>=4.0.1 in c:\\users\\문선장\\appdata\\local\\programs\\python\\python313\\lib\\site-packages (from chromadb) (5.1.0)\n",
      "Requirement already satisfied: orjson>=3.9.12 in c:\\users\\문선장\\appdata\\local\\programs\\python\\python313\\lib\\site-packages (from chromadb) (3.10.16)\n",
      "Requirement already satisfied: httpx>=0.27.0 in c:\\users\\문선장\\appdata\\local\\programs\\python\\python313\\lib\\site-packages (from chromadb) (0.28.1)\n",
      "Requirement already satisfied: rich>=10.11.0 in c:\\users\\문선장\\appdata\\local\\programs\\python\\python313\\lib\\site-packages (from chromadb) (14.0.0)\n",
      "Requirement already satisfied: aiohappyeyeballs>=2.3.0 in c:\\users\\문선장\\appdata\\local\\programs\\python\\python313\\lib\\site-packages (from aiohttp<4.0.0,>=3.8.3->langchain-community) (2.6.1)\n",
      "Requirement already satisfied: aiosignal>=1.1.2 in c:\\users\\문선장\\appdata\\local\\programs\\python\\python313\\lib\\site-packages (from aiohttp<4.0.0,>=3.8.3->langchain-community) (1.3.2)\n",
      "Requirement already satisfied: attrs>=17.3.0 in c:\\users\\문선장\\appdata\\local\\programs\\python\\python313\\lib\\site-packages (from aiohttp<4.0.0,>=3.8.3->langchain-community) (25.3.0)\n",
      "Requirement already satisfied: frozenlist>=1.1.1 in c:\\users\\문선장\\appdata\\local\\programs\\python\\python313\\lib\\site-packages (from aiohttp<4.0.0,>=3.8.3->langchain-community) (1.5.0)\n",
      "Requirement already satisfied: multidict<7.0,>=4.5 in c:\\users\\문선장\\appdata\\local\\programs\\python\\python313\\lib\\site-packages (from aiohttp<4.0.0,>=3.8.3->langchain-community) (6.4.3)\n",
      "Requirement already satisfied: propcache>=0.2.0 in c:\\users\\문선장\\appdata\\local\\programs\\python\\python313\\lib\\site-packages (from aiohttp<4.0.0,>=3.8.3->langchain-community) (0.3.1)\n",
      "Requirement already satisfied: yarl<2.0,>=1.17.0 in c:\\users\\문선장\\appdata\\local\\programs\\python\\python313\\lib\\site-packages (from aiohttp<4.0.0,>=3.8.3->langchain-community) (1.19.0)\n",
      "Requirement already satisfied: packaging>=19.1 in c:\\users\\문선장\\appdata\\local\\programs\\python\\python313\\lib\\site-packages (from build>=1.0.3->chromadb) (24.2)\n",
      "Requirement already satisfied: pyproject_hooks in c:\\users\\문선장\\appdata\\local\\programs\\python\\python313\\lib\\site-packages (from build>=1.0.3->chromadb) (1.2.0)\n",
      "Requirement already satisfied: colorama in c:\\users\\문선장\\appdata\\local\\programs\\python\\python313\\lib\\site-packages (from build>=1.0.3->chromadb) (0.4.6)\n",
      "Requirement already satisfied: marshmallow<4.0.0,>=3.18.0 in c:\\users\\문선장\\appdata\\local\\programs\\python\\python313\\lib\\site-packages (from dataclasses-json<0.7,>=0.5.7->langchain-community) (3.26.1)\n",
      "Requirement already satisfied: typing-inspect<1,>=0.4.0 in c:\\users\\문선장\\appdata\\local\\programs\\python\\python313\\lib\\site-packages (from dataclasses-json<0.7,>=0.5.7->langchain-community) (0.9.0)\n",
      "Requirement already satisfied: starlette<0.46.0,>=0.40.0 in c:\\users\\문선장\\appdata\\local\\programs\\python\\python313\\lib\\site-packages (from fastapi>=0.95.2->chromadb) (0.45.3)\n",
      "Requirement already satisfied: anyio in c:\\users\\문선장\\appdata\\local\\programs\\python\\python313\\lib\\site-packages (from httpx>=0.27.0->chromadb) (4.9.0)\n",
      "Requirement already satisfied: certifi in c:\\users\\문선장\\appdata\\local\\programs\\python\\python313\\lib\\site-packages (from httpx>=0.27.0->chromadb) (2025.1.31)\n",
      "Requirement already satisfied: httpcore==1.* in c:\\users\\문선장\\appdata\\local\\programs\\python\\python313\\lib\\site-packages (from httpx>=0.27.0->chromadb) (1.0.7)\n",
      "Requirement already satisfied: idna in c:\\users\\문선장\\appdata\\local\\programs\\python\\python313\\lib\\site-packages (from httpx>=0.27.0->chromadb) (3.10)\n",
      "Requirement already satisfied: h11<0.15,>=0.13 in c:\\users\\문선장\\appdata\\local\\programs\\python\\python313\\lib\\site-packages (from httpcore==1.*->httpx>=0.27.0->chromadb) (0.14.0)\n",
      "Requirement already satisfied: filelock in c:\\users\\문선장\\appdata\\local\\programs\\python\\python313\\lib\\site-packages (from huggingface-hub>=0.20.0->sentence-transformers) (3.18.0)\n",
      "Requirement already satisfied: fsspec>=2023.5.0 in c:\\users\\문선장\\appdata\\local\\programs\\python\\python313\\lib\\site-packages (from huggingface-hub>=0.20.0->sentence-transformers) (2025.3.2)\n",
      "Requirement already satisfied: six>=1.9.0 in c:\\users\\문선장\\appdata\\local\\programs\\python\\python313\\lib\\site-packages (from kubernetes>=28.1.0->chromadb) (1.17.0)\n",
      "Requirement already satisfied: python-dateutil>=2.5.3 in c:\\users\\문선장\\appdata\\local\\programs\\python\\python313\\lib\\site-packages (from kubernetes>=28.1.0->chromadb) (2.9.0.post0)\n",
      "Requirement already satisfied: google-auth>=1.0.1 in c:\\users\\문선장\\appdata\\local\\programs\\python\\python313\\lib\\site-packages (from kubernetes>=28.1.0->chromadb) (2.38.0)\n",
      "Requirement already satisfied: websocket-client!=0.40.0,!=0.41.*,!=0.42.*,>=0.32.0 in c:\\users\\문선장\\appdata\\local\\programs\\python\\python313\\lib\\site-packages (from kubernetes>=28.1.0->chromadb) (1.8.0)\n",
      "Requirement already satisfied: requests-oauthlib in c:\\users\\문선장\\appdata\\local\\programs\\python\\python313\\lib\\site-packages (from kubernetes>=28.1.0->chromadb) (2.0.0)\n",
      "Requirement already satisfied: oauthlib>=3.2.2 in c:\\users\\문선장\\appdata\\local\\programs\\python\\python313\\lib\\site-packages (from kubernetes>=28.1.0->chromadb) (3.2.2)\n",
      "Requirement already satisfied: urllib3>=1.24.2 in c:\\users\\문선장\\appdata\\local\\programs\\python\\python313\\lib\\site-packages (from kubernetes>=28.1.0->chromadb) (2.3.0)\n",
      "Requirement already satisfied: durationpy>=0.7 in c:\\users\\문선장\\appdata\\local\\programs\\python\\python313\\lib\\site-packages (from kubernetes>=28.1.0->chromadb) (0.9)\n",
      "Requirement already satisfied: jsonpatch<2.0,>=1.33 in c:\\users\\문선장\\appdata\\local\\programs\\python\\python313\\lib\\site-packages (from langchain-core<1.0.0,>=0.3.51->langchain) (1.33)\n",
      "Requirement already satisfied: requests-toolbelt<2.0.0,>=1.0.0 in c:\\users\\문선장\\appdata\\local\\programs\\python\\python313\\lib\\site-packages (from langsmith<0.4,>=0.1.17->langchain) (1.0.0)\n",
      "Requirement already satisfied: zstandard<0.24.0,>=0.23.0 in c:\\users\\문선장\\appdata\\local\\programs\\python\\python313\\lib\\site-packages (from langsmith<0.4,>=0.1.17->langchain) (0.23.0)\n",
      "Requirement already satisfied: coloredlogs in c:\\users\\문선장\\appdata\\local\\programs\\python\\python313\\lib\\site-packages (from onnxruntime>=1.14.1->chromadb) (15.0.1)\n",
      "Requirement already satisfied: flatbuffers in c:\\users\\문선장\\appdata\\local\\programs\\python\\python313\\lib\\site-packages (from onnxruntime>=1.14.1->chromadb) (25.2.10)\n",
      "Requirement already satisfied: protobuf in c:\\users\\문선장\\appdata\\local\\programs\\python\\python313\\lib\\site-packages (from onnxruntime>=1.14.1->chromadb) (5.29.4)\n",
      "Requirement already satisfied: sympy in c:\\users\\문선장\\appdata\\local\\programs\\python\\python313\\lib\\site-packages (from onnxruntime>=1.14.1->chromadb) (1.13.3)\n",
      "Requirement already satisfied: distro<2,>=1.7.0 in c:\\users\\문선장\\appdata\\local\\programs\\python\\python313\\lib\\site-packages (from openai<2.0.0,>=1.68.2->langchain-openai) (1.9.0)\n",
      "Requirement already satisfied: jiter<1,>=0.4.0 in c:\\users\\문선장\\appdata\\local\\programs\\python\\python313\\lib\\site-packages (from openai<2.0.0,>=1.68.2->langchain-openai) (0.9.0)\n",
      "Requirement already satisfied: sniffio in c:\\users\\문선장\\appdata\\local\\programs\\python\\python313\\lib\\site-packages (from openai<2.0.0,>=1.68.2->langchain-openai) (1.3.1)\n",
      "Requirement already satisfied: deprecated>=1.2.6 in c:\\users\\문선장\\appdata\\local\\programs\\python\\python313\\lib\\site-packages (from opentelemetry-api>=1.2.0->chromadb) (1.2.18)\n",
      "Requirement already satisfied: importlib-metadata<8.7.0,>=6.0 in c:\\users\\문선장\\appdata\\local\\programs\\python\\python313\\lib\\site-packages (from opentelemetry-api>=1.2.0->chromadb) (8.6.1)\n",
      "Requirement already satisfied: googleapis-common-protos~=1.52 in c:\\users\\문선장\\appdata\\local\\programs\\python\\python313\\lib\\site-packages (from opentelemetry-exporter-otlp-proto-grpc>=1.2.0->chromadb) (1.70.0)\n",
      "Requirement already satisfied: opentelemetry-exporter-otlp-proto-common==1.32.0 in c:\\users\\문선장\\appdata\\local\\programs\\python\\python313\\lib\\site-packages (from opentelemetry-exporter-otlp-proto-grpc>=1.2.0->chromadb) (1.32.0)\n",
      "Requirement already satisfied: opentelemetry-proto==1.32.0 in c:\\users\\문선장\\appdata\\local\\programs\\python\\python313\\lib\\site-packages (from opentelemetry-exporter-otlp-proto-grpc>=1.2.0->chromadb) (1.32.0)\n",
      "Requirement already satisfied: opentelemetry-instrumentation-asgi==0.53b0 in c:\\users\\문선장\\appdata\\local\\programs\\python\\python313\\lib\\site-packages (from opentelemetry-instrumentation-fastapi>=0.41b0->chromadb) (0.53b0)\n",
      "Requirement already satisfied: opentelemetry-instrumentation==0.53b0 in c:\\users\\문선장\\appdata\\local\\programs\\python\\python313\\lib\\site-packages (from opentelemetry-instrumentation-fastapi>=0.41b0->chromadb) (0.53b0)\n",
      "Requirement already satisfied: opentelemetry-semantic-conventions==0.53b0 in c:\\users\\문선장\\appdata\\local\\programs\\python\\python313\\lib\\site-packages (from opentelemetry-instrumentation-fastapi>=0.41b0->chromadb) (0.53b0)\n",
      "Requirement already satisfied: opentelemetry-util-http==0.53b0 in c:\\users\\문선장\\appdata\\local\\programs\\python\\python313\\lib\\site-packages (from opentelemetry-instrumentation-fastapi>=0.41b0->chromadb) (0.53b0)\n",
      "Requirement already satisfied: wrapt<2.0.0,>=1.0.0 in c:\\users\\문선장\\appdata\\local\\programs\\python\\python313\\lib\\site-packages (from opentelemetry-instrumentation==0.53b0->opentelemetry-instrumentation-fastapi>=0.41b0->chromadb) (1.17.2)\n",
      "Requirement already satisfied: asgiref~=3.0 in c:\\users\\문선장\\appdata\\local\\programs\\python\\python313\\lib\\site-packages (from opentelemetry-instrumentation-asgi==0.53b0->opentelemetry-instrumentation-fastapi>=0.41b0->chromadb) (3.8.1)\n",
      "Requirement already satisfied: monotonic>=1.5 in c:\\users\\문선장\\appdata\\local\\programs\\python\\python313\\lib\\site-packages (from posthog>=2.4.0->chromadb) (1.6)\n",
      "Requirement already satisfied: backoff>=1.10.0 in c:\\users\\문선장\\appdata\\local\\programs\\python\\python313\\lib\\site-packages (from posthog>=2.4.0->chromadb) (2.2.1)\n",
      "Requirement already satisfied: annotated-types>=0.6.0 in c:\\users\\문선장\\appdata\\local\\programs\\python\\python313\\lib\\site-packages (from pydantic<3.0.0,>=2.7.4->langchain) (0.7.0)\n",
      "Requirement already satisfied: pydantic-core==2.33.1 in c:\\users\\문선장\\appdata\\local\\programs\\python\\python313\\lib\\site-packages (from pydantic<3.0.0,>=2.7.4->langchain) (2.33.1)\n",
      "Requirement already satisfied: typing-inspection>=0.4.0 in c:\\users\\문선장\\appdata\\local\\programs\\python\\python313\\lib\\site-packages (from pydantic<3.0.0,>=2.7.4->langchain) (0.4.0)\n",
      "Requirement already satisfied: python-dotenv>=0.21.0 in c:\\users\\문선장\\appdata\\local\\programs\\python\\python313\\lib\\site-packages (from pydantic-settings<3.0.0,>=2.4.0->langchain-community) (1.1.0)\n",
      "Requirement already satisfied: charset-normalizer<4,>=2 in c:\\users\\문선장\\appdata\\local\\programs\\python\\python313\\lib\\site-packages (from requests<3,>=2->langchain) (3.4.1)\n",
      "Requirement already satisfied: markdown-it-py>=2.2.0 in c:\\users\\문선장\\appdata\\local\\programs\\python\\python313\\lib\\site-packages (from rich>=10.11.0->chromadb) (3.0.0)\n",
      "Requirement already satisfied: pygments<3.0.0,>=2.13.0 in c:\\users\\문선장\\appdata\\local\\programs\\python\\python313\\lib\\site-packages (from rich>=10.11.0->chromadb) (2.19.1)\n",
      "Requirement already satisfied: greenlet>=1 in c:\\users\\문선장\\appdata\\local\\programs\\python\\python313\\lib\\site-packages (from SQLAlchemy<3,>=1.4->langchain) (3.1.1)\n",
      "Requirement already satisfied: regex>=2022.1.18 in c:\\users\\문선장\\appdata\\local\\programs\\python\\python313\\lib\\site-packages (from tiktoken<1,>=0.7->langchain-openai) (2024.11.6)\n",
      "Requirement already satisfied: networkx in c:\\users\\문선장\\appdata\\local\\programs\\python\\python313\\lib\\site-packages (from torch>=1.11.0->sentence-transformers) (3.4.2)\n",
      "Requirement already satisfied: jinja2 in c:\\users\\문선장\\appdata\\local\\programs\\python\\python313\\lib\\site-packages (from torch>=1.11.0->sentence-transformers) (3.1.6)\n",
      "Requirement already satisfied: setuptools in c:\\users\\문선장\\appdata\\local\\programs\\python\\python313\\lib\\site-packages (from torch>=1.11.0->sentence-transformers) (78.1.0)\n",
      "Requirement already satisfied: safetensors>=0.4.3 in c:\\users\\문선장\\appdata\\local\\programs\\python\\python313\\lib\\site-packages (from transformers<5.0.0,>=4.41.0->sentence-transformers) (0.5.3)\n",
      "Requirement already satisfied: click>=8.0.0 in c:\\users\\문선장\\appdata\\local\\programs\\python\\python313\\lib\\site-packages (from typer>=0.9.0->chromadb) (8.1.8)\n",
      "Requirement already satisfied: shellingham>=1.3.0 in c:\\users\\문선장\\appdata\\local\\programs\\python\\python313\\lib\\site-packages (from typer>=0.9.0->chromadb) (1.5.4)\n",
      "Requirement already satisfied: httptools>=0.6.3 in c:\\users\\문선장\\appdata\\local\\programs\\python\\python313\\lib\\site-packages (from uvicorn[standard]>=0.18.3->chromadb) (0.6.4)\n",
      "Requirement already satisfied: watchfiles>=0.13 in c:\\users\\문선장\\appdata\\local\\programs\\python\\python313\\lib\\site-packages (from uvicorn[standard]>=0.18.3->chromadb) (1.0.5)\n",
      "Requirement already satisfied: websockets>=10.4 in c:\\users\\문선장\\appdata\\local\\programs\\python\\python313\\lib\\site-packages (from uvicorn[standard]>=0.18.3->chromadb) (15.0.1)\n",
      "Requirement already satisfied: joblib>=1.2.0 in c:\\users\\문선장\\appdata\\local\\programs\\python\\python313\\lib\\site-packages (from scikit-learn->sentence-transformers) (1.5.0)\n",
      "Requirement already satisfied: threadpoolctl>=3.1.0 in c:\\users\\문선장\\appdata\\local\\programs\\python\\python313\\lib\\site-packages (from scikit-learn->sentence-transformers) (3.6.0)\n",
      "Requirement already satisfied: cachetools<6.0,>=2.0.0 in c:\\users\\문선장\\appdata\\local\\programs\\python\\python313\\lib\\site-packages (from google-auth>=1.0.1->kubernetes>=28.1.0->chromadb) (5.5.2)\n",
      "Requirement already satisfied: pyasn1-modules>=0.2.1 in c:\\users\\문선장\\appdata\\local\\programs\\python\\python313\\lib\\site-packages (from google-auth>=1.0.1->kubernetes>=28.1.0->chromadb) (0.4.2)\n",
      "Requirement already satisfied: rsa<5,>=3.1.4 in c:\\users\\문선장\\appdata\\local\\programs\\python\\python313\\lib\\site-packages (from google-auth>=1.0.1->kubernetes>=28.1.0->chromadb) (4.9)\n",
      "Requirement already satisfied: zipp>=3.20 in c:\\users\\문선장\\appdata\\local\\programs\\python\\python313\\lib\\site-packages (from importlib-metadata<8.7.0,>=6.0->opentelemetry-api>=1.2.0->chromadb) (3.21.0)\n",
      "Requirement already satisfied: jsonpointer>=1.9 in c:\\users\\문선장\\appdata\\local\\programs\\python\\python313\\lib\\site-packages (from jsonpatch<2.0,>=1.33->langchain-core<1.0.0,>=0.3.51->langchain) (3.0.0)\n",
      "Requirement already satisfied: mdurl~=0.1 in c:\\users\\문선장\\appdata\\local\\programs\\python\\python313\\lib\\site-packages (from markdown-it-py>=2.2.0->rich>=10.11.0->chromadb) (0.1.2)\n",
      "Requirement already satisfied: mpmath<1.4,>=1.1.0 in c:\\users\\문선장\\appdata\\local\\programs\\python\\python313\\lib\\site-packages (from sympy->onnxruntime>=1.14.1->chromadb) (1.3.0)\n",
      "Requirement already satisfied: mypy-extensions>=0.3.0 in c:\\users\\문선장\\appdata\\local\\programs\\python\\python313\\lib\\site-packages (from typing-inspect<1,>=0.4.0->dataclasses-json<0.7,>=0.5.7->langchain-community) (1.0.0)\n",
      "Requirement already satisfied: humanfriendly>=9.1 in c:\\users\\문선장\\appdata\\local\\programs\\python\\python313\\lib\\site-packages (from coloredlogs->onnxruntime>=1.14.1->chromadb) (10.0)\n",
      "Requirement already satisfied: MarkupSafe>=2.0 in c:\\users\\문선장\\appdata\\local\\programs\\python\\python313\\lib\\site-packages (from jinja2->torch>=1.11.0->sentence-transformers) (3.0.2)\n",
      "Requirement already satisfied: pyreadline3 in c:\\users\\문선장\\appdata\\local\\programs\\python\\python313\\lib\\site-packages (from humanfriendly>=9.1->coloredlogs->onnxruntime>=1.14.1->chromadb) (3.5.4)\n",
      "Requirement already satisfied: pyasn1<0.7.0,>=0.6.1 in c:\\users\\문선장\\appdata\\local\\programs\\python\\python313\\lib\\site-packages (from pyasn1-modules>=0.2.1->google-auth>=1.0.1->kubernetes>=28.1.0->chromadb) (0.6.1)\n",
      "Note: you may need to restart the kernel to use updated packages.\n"
     ]
    },
    {
     "name": "stderr",
     "output_type": "stream",
     "text": [
      "\n",
      "[notice] A new release of pip is available: 25.0.1 -> 25.1.1\n",
      "[notice] To update, run: python.exe -m pip install --upgrade pip\n"
     ]
    }
   ],
   "source": [
    "pip install langchain langchain-openai langchain-community langchain-text-splitters sentence-transformers pypdfium2 chromadb langchain-chroma"
   ]
  },
  {
   "cell_type": "markdown",
   "id": "17f01177-e2c3-4165-bfa4-6423cc34c86d",
   "metadata": {},
   "source": [
    "#### 임베딩 모델"
   ]
  },
  {
   "cell_type": "code",
   "execution_count": 210,
   "id": "278565e2-6c09-4a24-933e-6e7655fc2ffc",
   "metadata": {},
   "outputs": [
    {
     "name": "stdout",
     "output_type": "stream",
     "text": [
      "[kim] 임베딩 완료 (24건)\n",
      "[hong] 임베딩 완료 (24건)\n",
      "[lecture_search] 임베딩 완료 (617건)\n",
      "[career_counsel] 임베딩 완료 (639건)\n",
      "[academic_status] 임베딩 완료 (607건)\n",
      " 'lecture_search' PDF 임베딩 423개 추가 완료\n",
      " 'career_counsel' PDF 임베딩 423개 추가 완료\n",
      " 'academic_status' PDF 임베딩 423개 추가 완료\n"
     ]
    }
   ],
   "source": [
    "import shutil\n",
    "import os\n",
    "from pathlib import Path\n",
    "\n",
    "# 전체 Chroma DB 삭제 (기본 디렉토리와 시스템 캐시 포함)\n",
    "shutil.rmtree(\"./chroma_db\", ignore_errors=True)\n",
    "shutil.rmtree(Path.home() / \".chromadb\", ignore_errors=True)\n",
    "\n",
    "import os\n",
    "import json\n",
    "from langchain_openai import OpenAIEmbeddings\n",
    "from langchain_core.documents import Document\n",
    "from langchain.text_splitter import RecursiveCharacterTextSplitter\n",
    "from langchain_community.vectorstores import Chroma\n",
    "import chromadb\n",
    "\n",
    "os.environ[\"OPENAI_API_KEY\"] = \"키\"\n",
    "\n",
    "embeddings_model = OpenAIEmbeddings(model=\"text-embedding-3-small\")\n",
    "text_splitter = RecursiveCharacterTextSplitter(chunk_size=500, chunk_overlap=100)\n",
    "client = chromadb.PersistentClient(path=\"./chroma_db\")\n",
    "\n",
    "def load_json_documents(json_files):\n",
    "    docs = []\n",
    "    for file in json_files:\n",
    "        with open(file, \"r\", encoding=\"utf-8\") as f:\n",
    "            data = json.load(f)\n",
    "\n",
    "        #시나리오\n",
    "        for item in data:\n",
    "            if \"Text\" in item and \"Completion\" in item:\n",
    "                docs.append(Document(\n",
    "                    page_content=f\"질문: {item['Text']}\\n답변: {item['Completion']}\",\n",
    "                    metadata={\n",
    "                        \"카테고리\": item.get(\"카테고리\", \"\")\n",
    "                    }\n",
    "                ))\n",
    "\n",
    "            # 수강이력\n",
    "            if \"lecture_name\" in item and \"student_id\" in item:\n",
    "                content = (\n",
    "                    f\"학번: {item['student_id']}\\n\"\n",
    "                    f\"강의명: {item['lecture_name']}\\n\"\n",
    "                    f\"학정번호: {item['lecture_id']}\\n\"\n",
    "                    f\"개설 학과: {item['department_offered']}\\n\"\n",
    "                    f\"이수 구분: {item['lecture_course_type']}\\n\"\n",
    "                    f\"학점: {item['lecture_credit']}학점\\n\"\n",
    "                    f\"성적: {item['lecutre_grade']}\"\n",
    "                )\n",
    "                if \"retake_or_delete_status\" in item:\n",
    "                    content += f\"\\n재수강/삭제 여부: {item['retake_or_delete_status']}\"\n",
    "                if \"retake_status\" in item:\n",
    "                    content += f\"\\n재수강 여부: {item['retake_status']}\"\n",
    "\n",
    "                docs.append(Document(\n",
    "                    page_content=content,\n",
    "                    metadata={\n",
    "                        \"lecture_name\": item[\"lecture_name\"],\n",
    "                        \"course_type\": item[\"lecture_course_type\"]\n",
    "                    }\n",
    "                ))\n",
    "\n",
    "            # 강의 탐색\n",
    "            if \"lecture_id\" in item and \"lecture_name\" in item and \"student_id\" not in item:\n",
    "                content = (\n",
    "                    f\"학정번호: {item.get('lecture_id', '')}\\n\"\n",
    "                    f\"강의명: {item.get('lecture_name', '')}\\n\"\n",
    "                    f\"강의평점: {item.get('lecture_ratings', '')}\\n\"\n",
    "                    f\"과제: {item.get('lecture_homework', '')}\\n\"\n",
    "                    f\"팀플: {item.get('lecture_team', '')}\\n\"\n",
    "                    f\"성적평가정도: {item.get('lecutre_grade', '')}\\n\"\n",
    "                    f\"출결 방식: {item.get('lecutre_attendance', '')}\\n\"\n",
    "                    f\"시험 횟수: {item.get('lecutre_test', '')}\\n\"\n",
    "                    f\"시험 방식: {item.get('lecture_testinform', '')}\\n\"\n",
    "                    f\"전공 학점: {item.get('credits_major', '없음')}\\n\"\n",
    "                    f\"교양 학점: {item.get('credits_general', '없음')}\\n\"\n",
    "                    f\"총 학점: {item.get('credits_total', '없음')}\\n\"\n",
    "                    f\"교수명: {item.get('lecture_professorname', '')}\\n\"\n",
    "                    f\"수업 시간: {item.get('lecture_time', '')}\\n\"\n",
    "                    f\"강의 유형: {item.get('lecture_course_type', '')}\\n\"\n",
    "                    f\"학점: {item.get('lecture_hours', '')}시간\\n\"\n",
    "                    f\"학기: {item.get('lecture_semester', '')}학기\\n\"\n",
    "                    f\"강의 설명: {item.get('lecture_inform', '')}\"\n",
    "                    f\"영역: {item.get('lecture_domain', '')}\\n\"\n",
    "                )\n",
    "                docs.append(Document(\n",
    "                    page_content=content,\n",
    "                    metadata={\n",
    "                        \"lecture_id\": item.get(\"lecture_id\", \"\"),\n",
    "                        \"lecture_name\": item.get(\"lecture_name\", \"\"),\n",
    "                        \"lecture_ratings\": item.get(\"lecture_ratings\", \"\"),\n",
    "                        \"lecture_team\": item.get(\"lecture_team\", \"\"),\n",
    "                        \"lecutre_grade\": item.get(\"lecutre_grade\", \"\"),\n",
    "                        \"professor\": item.get(\"lecture_professorname\", \"\")\n",
    "                    }\n",
    "                ))\n",
    "    return docs\n",
    "\n",
    "user_datasets = {\n",
    "    \"kim\": [\"data/kw_chatbot_data - 김브티_수강이력.json\"],\n",
    "    \"hong\": [\"data/kw_chatbot_data - 홍데사_수강이력.json\"]\n",
    "}\n",
    "\n",
    "task_datasets = {\n",
    "    \"lecture_search\": [\n",
    "        \"data/kw_chatbot_data - Student.json\",\n",
    "        \"data/kw_chatbot_data - 강의 평점.json\",\n",
    "        \"data/kw_chatbot_data - 강의계획서.json\",\n",
    "        \"data/kw_chatbot_data - 김브티_성적.json\",\n",
    "        \"data/kw_chatbot_data - 김브티_수강이력.json\",\n",
    "        \"data/kw_chatbot_data - 수강신청자료집.json\",\n",
    "        \"data/kw_chatbot_data - 커리큘럼(DS).json\",\n",
    "        \"data/kw_chatbot_data - 커리큘럼(VT).json\",\n",
    "        \"data/kw_chatbot_data - 홍데사_성적.json\",\n",
    "        \"data/kw_chatbot_data - 홍데사_수강이력.json\",\n",
    "        \"data/lecture_domain.json\"\n",
    "    ],\n",
    "    \"career_counsel\": [\n",
    "        \"data/진로상담.json\",\n",
    "        \"data/kw_chatbot_data - 강의계획서.json\",\n",
    "        \"data/kw_chatbot_data - 김브티_성적.json\",\n",
    "        \"data/kw_chatbot_data - 김브티_수강이력.json\",\n",
    "        \"data/kw_chatbot_data - 수강신청자료집.json\",\n",
    "        \"data/kw_chatbot_data - 커리큘럼(DS).json\",\n",
    "        \"data/kw_chatbot_data - 커리큘럼(VT).json\",\n",
    "        \"data/kw_chatbot_data - 홍데사_성적.json\",\n",
    "        \"data/kw_chatbot_data - 홍데사_수강이력.json\"],\n",
    "    \n",
    "    \"academic_status\": [\n",
    "        \"data/학습현황.json\",\n",
    "        \"data/kw_chatbot_data - Student.json\",\n",
    "        \"data/kw_chatbot_data - 김브티_성적.json\",\n",
    "        \"data/kw_chatbot_data - 김브티_수강이력.json\",\n",
    "        \"data/kw_chatbot_data - 수강신청자료집.json\",\n",
    "        \"data/kw_chatbot_data - 홍데사_성적.json\",\n",
    "        \"data/kw_chatbot_data - 홍데사_수강이력.json\",\n",
    "        \"data/lecture_domain.json\"\n",
    "        ]\n",
    "}\n",
    "\n",
    "# 사용자별 컬렉션\n",
    "for user_id, files in user_datasets.items():\n",
    "    collection_name = f\"lecture_search_{user_id}\"\n",
    "    try:\n",
    "        client.delete_collection(name=collection_name)\n",
    "    except:\n",
    "        pass\n",
    "    docs = load_json_documents(files)\n",
    "    split_docs = text_splitter.split_documents(docs)\n",
    "    texts = [doc.page_content for doc in split_docs]\n",
    "    embeddings = embeddings_model.embed_documents(texts)\n",
    "    collection = client.create_collection(name=collection_name)\n",
    "    collection.add(\n",
    "        documents=texts,\n",
    "        embeddings=embeddings,\n",
    "        ids=[f\"{collection_name}_{i}\" for i in range(len(texts))]\n",
    "    )\n",
    "    print(f\"[{user_id}] 임베딩 완료 ({len(embeddings)}건)\")\n",
    "\n",
    "# 기능별 컬렉션\n",
    "for task, files in task_datasets.items():\n",
    "    try:\n",
    "        client.delete_collection(name=task)\n",
    "    except:\n",
    "        pass\n",
    "    docs = load_json_documents(files)\n",
    "    split_docs = text_splitter.split_documents(docs)\n",
    "    texts = [doc.page_content for doc in split_docs]\n",
    "    embeddings = embeddings_model.embed_documents(texts)\n",
    "    collection = client.create_collection(name=task)\n",
    "    collection.add(\n",
    "        documents=texts,\n",
    "        embeddings=embeddings,\n",
    "        ids=[f\"{task}_{i}\" for i in range(len(texts))]\n",
    "    )\n",
    "    print(f\"[{task}] 임베딩 완료 ({len(embeddings)}건)\")\n",
    "    \n",
    "# PDF 문서 임베딩 추가\n",
    "target_collections = [\"lecture_search\", \"career_counsel\", \"academic_status\"]\n",
    "\n",
    "from langchain.document_loaders import PyPDFLoader\n",
    "from langchain.text_splitter import RecursiveCharacterTextSplitter\n",
    "\n",
    "loader = PyPDFLoader(\"data/수강신청_자료집_전체(2025-1)v4.pdf\")\n",
    "pages = loader.load_and_split()\n",
    "\n",
    "text_splitter = RecursiveCharacterTextSplitter(chunk_size=500, chunk_overlap=100)\n",
    "docs = text_splitter.split_documents(pages)\n",
    "texts = [doc.page_content for doc in docs]\n",
    "embeddings = embeddings_model.embed_documents(texts)\n",
    "\n",
    "client = chromadb.PersistentClient(path=\"./chroma_db\")\n",
    "\n",
    "#컬렉션에 추가\n",
    "for name in target_collections:\n",
    "    collection = client.get_or_create_collection(name=name)\n",
    "    collection.add(\n",
    "        documents=texts,\n",
    "        embeddings=embeddings,\n",
    "        ids=[f\"{name}_pdf_{i}\" for i in range(len(texts))]\n",
    "    )\n",
    "    print(f\" '{name}' PDF 임베딩 {len(texts)}개 추가 완료\")"
   ]
  },
  {
   "cell_type": "markdown",
   "id": "ab960d5d-5a2c-426a-91ae-34d88ad8b22e",
   "metadata": {},
   "source": [
    "#### 기능 구현 함수"
   ]
  },
  {
   "cell_type": "code",
   "execution_count": 211,
   "id": "f301fe0e-f465-41dd-afba-57c004dc7963",
   "metadata": {},
   "outputs": [],
   "source": [
    "import json\n",
    "import re\n",
    "import random\n",
    "import itertools\n",
    "from collections import defaultdict, Counter\n",
    "\n",
    "# LangChain 컬렉션 이름 결정 함수\n",
    "def get_collection_name(user_input: str, user_id: str) -> str:\n",
    "    q = user_input.lower()\n",
    "    if \"진로\" in q or \"상담\" in q:\n",
    "        return \"career_counsel\"\n",
    "    elif \"이수\" in q or \"학점\" in q or \"현황\" in q or \"평균\" in q:\n",
    "        return \"academic_status\"\n",
    "    return f\"lecture_search_{user_id}\"\n",
    "\n",
    "# 입력 분류 함수\n",
    "def classify_function(user_input: str) -> str:\n",
    "    if \"강의\" in user_input or \"탐색\" in user_input:\n",
    "        return \"lecture_search\"\n",
    "    elif \"진로\" in user_input or \"상담\" in user_input:\n",
    "        return \"career_counsel\"\n",
    "    elif \"학업\" in user_input or \"현황\" in user_input:\n",
    "        return \"academic_status\"\n",
    "    else:\n",
    "        return \"lecture_search\"\n",
    "\n",
    "# 캐시: 팀플 조건에 따라 결과 재사용\n",
    "TEAM_CACHE = {}\n",
    "\n",
    "# JSON 파일에서 팀플 조건과 일치하는 강의 필터링\n",
    "def filter_lectures_by_team(json_files, team_condition):\n",
    "    if team_condition in TEAM_CACHE:\n",
    "        return TEAM_CACHE[team_condition]\n",
    "\n",
    "    result = []\n",
    "    for file in json_files:\n",
    "        with open(file, \"r\", encoding=\"utf-8\") as f:\n",
    "            data = json.load(f)\n",
    "        for item in data:\n",
    "            team_value = item.get(\"lecture_team\", \"\").strip()\n",
    "            lecture_id = item.get(\"lecture_id\")\n",
    "            lecture_name = item.get(\"lecture_name\")\n",
    "\n",
    "            if not lecture_id or not lecture_name:\n",
    "                continue\n",
    "\n",
    "            if team_condition == \"없음\" and team_value in [\"없음\", \"0\"]:\n",
    "                result.append({\"lecture_id\": lecture_id, \"lecture_name\": lecture_name})\n",
    "            elif team_condition == \"보통\" and team_value in [\"보통\", \"적은\"]:\n",
    "                result.append({\"lecture_id\": lecture_id, \"lecture_name\": lecture_name})\n",
    "            elif team_condition == \"많은\" and team_value in [\"많은\", \"많음\"]:\n",
    "                result.append({\"lecture_id\": lecture_id, \"lecture_name\": lecture_name})\n",
    "\n",
    "    TEAM_CACHE[team_condition] = result\n",
    "    return result\n",
    "\n",
    "# 팀플 응답 메시지 포맷\n",
    "def format_team_project_response(team_condition: str, lectures: list):\n",
    "    if not lectures:\n",
    "        return f\"팀플이 {team_condition} 강의를 찾을 수 없습니다.\"\n",
    "\n",
    "    condition_map = {\n",
    "        \"없음\": \"없는\",\n",
    "        \"보통\": \"적은\",\n",
    "        \"많은\": \"많은\"\n",
    "    }\n",
    "    label = condition_map.get(team_condition, team_condition)\n",
    "    header = f\"팀플이 {label} 강의는 다음과 같습니다:\"\n",
    "    body = \"\\n\".join(\n",
    "        f\"{i+1}. {lec['lecture_name']} (학정번호: {lec['lecture_id']})\"\n",
    "        for i, lec in enumerate(lectures)\n",
    "    )\n",
    "    return f\"{header}\\n{body}\"\n",
    "\n",
    "# JSON 내 팀플 조건 처리 핸들러\n",
    "def handle_team_project_query(user_input, json_path):\n",
    "    condition = normalize_team_condition(user_input)\n",
    "    if not condition:\n",
    "        return None\n",
    "\n",
    "    filtered_lectures = filter_lectures_by_team([json_path], condition)\n",
    "    seen = set()\n",
    "    unique_lectures = []\n",
    "    for lec in filtered_lectures:\n",
    "        if lec[\"lecture_name\"] not in seen:\n",
    "            seen.add(lec[\"lecture_name\"])\n",
    "            unique_lectures.append(lec)\n",
    "\n",
    "    return format_team_project_response(condition, unique_lectures)\n",
    "\n",
    "# 학점 및 교과구분에 따른 강의 필터링\n",
    "def get_lectures_by_credit_and_type(user_input: str):\n",
    "    credit_match = re.search(r'(\\d)\\s*학점', user_input)\n",
    "    if not credit_match:\n",
    "        return \"몇 학점짜리 수업을 원하시는지 알려주세요. 예: '2학점 교양 수업 알려줘'\"\n",
    "    credit = int(credit_match.group(1))\n",
    "\n",
    "    # 수업 유형 필터링\n",
    "    course_types = []\n",
    "    if \"전필\" in user_input:\n",
    "        course_types = [\"전필\"]\n",
    "    elif \"전선\" in user_input:\n",
    "        course_types = [\"전선\"]\n",
    "    elif \"교필\" in user_input:\n",
    "        course_types = [\"교필\"]\n",
    "    elif \"교선\" in user_input:\n",
    "        course_types = [\"교선\"]\n",
    "    elif \"전공\" in user_input:\n",
    "        course_types = [\"전필\", \"전선\"]\n",
    "    elif \"교양\" in user_input:\n",
    "        course_types = [\"교필\", \"교선\"]\n",
    "    else:\n",
    "        course_types = [\"전필\", \"전선\", \"교필\", \"교선\"]\n",
    "\n",
    "    count_match = re.search(r'(\\d+)\\s*개', user_input)\n",
    "    limit = int(count_match.group(1)) if count_match else None\n",
    "\n",
    "    with open(\"./data/kw_chatbot_data - 수강신청자료집.json\", \"r\", encoding=\"utf-8\") as f:\n",
    "        course_data = json.load(f)\n",
    "\n",
    "    results = []\n",
    "    seen = set()\n",
    "    for item in course_data:\n",
    "        course_type = item.get(\"lecture_course_type\", \"\").strip()\n",
    "        credit_val = item.get(\"lecture_hours\") or item.get(\"lecture_credit\")\n",
    "        if not credit_val:\n",
    "            continue\n",
    "        try:\n",
    "            credit_val = int(str(credit_val).strip())\n",
    "        except:\n",
    "            continue\n",
    "\n",
    "        professor = item.get(\"lecture_professor\", \"\").strip()\n",
    "        lecture_name = item.get(\"lecture_name\", \"\").strip()\n",
    "        key = (lecture_name, professor)\n",
    "\n",
    "        if course_type in course_types and credit_val == credit and key not in seen:\n",
    "            seen.add(key)\n",
    "            results.append(f\"{lecture_name} (학정번호: {item['lecture_id']}) - {professor or '교수명 없음'}\")\n",
    "\n",
    "    if not results:\n",
    "        return f\"{credit}학점짜리 {', '.join(course_types)} 과목을 찾을 수 없습니다.\"\n",
    "\n",
    "    if limit:\n",
    "        random.shuffle(results)\n",
    "        results = results[:limit]\n",
    "\n",
    "    header = f\"{credit}학점짜리 {', '.join(course_types)} 과목 목록입니다:\"\n",
    "    lines = [f\"{i+1}. {lec}\" for i, lec in enumerate(results)]\n",
    "    return header + \"\\n\" + \"\\n\".join(lines)\n",
    "\n",
    "# 성적 → 평점 매핑\n",
    "GRADE_TO_POINT = {\n",
    "    \"A+\": 4.5, \"A0\": 4.0, \"B+\": 3.5, \"B0\": 3.0,\n",
    "    \"C+\": 2.5, \"C0\": 2.0, \"F\": 0.0\n",
    "}\n",
    "\n",
    "# 수강이력 불러오기 (ID → 파일명 매핑)\n",
    "def load_student_data(user_id: str):\n",
    "    filename = f\"data/kw_chatbot_data - {'김브티' if user_id == 'kim' else '홍데사'}_수강이력.json\"\n",
    "    with open(filename, encoding='utf-8') as f:\n",
    "        return json.load(f)\n",
    "\n",
    "# 재수강 횟수 계산\n",
    "def count_retake_courses(user_id: str):\n",
    "    data = load_student_data(user_id)\n",
    "    course_count = defaultdict(int)\n",
    "    for record in data:\n",
    "        if record.get(\"retake_status\") == \"R\":\n",
    "            course_count[record[\"lecture_name\"]] += 1\n",
    "    return course_count\n",
    "\n",
    "# 특정 과목의 성적 조회\n",
    "def get_course_grade(user_id: str, course_name: str):\n",
    "    data = load_student_data(user_id)\n",
    "    for record in data:\n",
    "        if record[\"lecture_name\"].replace(\" \", \"\") == course_name.replace(\" \", \"\"):\n",
    "            return record[\"lecutre_grade\"]\n",
    "    return None\n",
    "\n",
    "# 사용자 이름 매핑\n",
    "USER_NAME = {\n",
    "    \"kim\": \"김브티\",\n",
    "    \"hong\": \"홍데사\"\n",
    "}\n",
    "\n",
    "# 평균 평점 계산 함수\n",
    "# GPA 계산 함수 (재수강 반영 여부 및 전공 필터 포함)\n",
    "def get_gpa_with_retake(user_id: str, exclude_pre_retake: bool = False, course_type: str = None):\n",
    "    data = load_student_data(user_id)\n",
    "    seen = {}\n",
    "    credits, total = 0, 0\n",
    "    for record in data:\n",
    "        key = record['lecture_id']\n",
    "        grade = record['lecutre_grade']\n",
    "        credit = record['lecture_credit']\n",
    "        ctype = record['lecture_course_type']\n",
    "\n",
    "        if course_type:\n",
    "            if course_type == \"전공\" and not ctype.startswith((\"전필\", \"전선\")):\n",
    "                continue\n",
    "            elif course_type != \"전공\" and not ctype.startswith(course_type):\n",
    "                continue\n",
    "\n",
    "        if exclude_pre_retake and record.get('retake_or_delete_status') == 'Y':\n",
    "            continue\n",
    "\n",
    "        if record.get('retake_status') == 'R':\n",
    "            seen[key] = (GRADE_TO_POINT[grade], credit)\n",
    "        elif key not in seen:\n",
    "            seen[key] = (GRADE_TO_POINT[grade], credit)\n",
    "\n",
    "    for point, credit in seen.values():\n",
    "        credits += credit\n",
    "        total += point * credit\n",
    "\n",
    "    if credits == 0:\n",
    "        return \"계산할 수 있는 학점이 없습니다.\"\n",
    "    name = USER_NAME.get(user_id, user_id)\n",
    "    return f\"{name}님의 평균 평점은 {round(total / credits, 2)}입니다.\"\n",
    "\n",
    "# 재수강한 과목 리스트 반환\n",
    "def get_retake_course_names(user_id: str):\n",
    "    data = load_student_data(user_id)\n",
    "    names = [r['lecture_name'] for r in data if r.get('retake_or_delete_status') == 'Y']\n",
    "    return names\n",
    "\n",
    "# 재수강한 과목 개수 반환\n",
    "def get_retake_course_count(user_id: str):\n",
    "    return len(get_retake_course_names(user_id))\n",
    "\n",
    "# 특정 성적을 받은 과목 조회 함수\n",
    "def get_subjects_by_grade(user_id: str, target_grade: str):\n",
    "    data = load_student_data(user_id)\n",
    "    return [r['lecture_name'] for r in data if r['lecutre_grade'] == target_grade]\n",
    "\n",
    "# 특정 과목의 최종 성적 반환 함수\n",
    "def get_final_grade_for_subject(user_id: str, subject_name: str):\n",
    "    data = load_student_data(user_id)\n",
    "    matches = [r for r in data if r['lecture_name'] == subject_name]\n",
    "    if not matches:\n",
    "        return None\n",
    "    return matches[-1]['lecutre_grade']\n",
    "\n",
    "# 재수강 횟수 과목별로 반환\n",
    "def get_retake_course_counts(user_id: str):\n",
    "    data = load_student_data(user_id)\n",
    "    names = [r['lecture_name'] for r in data if r.get('retake_status') == 'R']\n",
    "    return Counter(names)\n",
    "\n",
    "# 재수강 가능 과목 조회 함수 (정확하게 재수강 제외 기준 반영)\n",
    "def get_possible_retake_gpa(user_id: str, focus: str = \"all\", list_only: bool = False, fixed_grade: str = None):\n",
    "    data = load_student_data(user_id)\n",
    "    seen = {}\n",
    "    excluded = {}\n",
    "\n",
    "    # 재수강 후 B0 이상 받은 과목 제외\n",
    "    for record in data:\n",
    "        key = record['lecture_id']\n",
    "        grade = record['lecutre_grade']\n",
    "        if record.get('retake_status') == 'R' and GRADE_TO_POINT.get(grade, 0) >= 3.0:\n",
    "            excluded[key] = True\n",
    "\n",
    "    for record in data:\n",
    "        key = record['lecture_id']\n",
    "        grade = record['lecutre_grade']\n",
    "        ctype = record['lecture_course_type']\n",
    "\n",
    "        if record.get('retake_or_delete_status') == 'Y': continue\n",
    "        if key in excluded: continue\n",
    "        if focus == \"major\" and not ctype.startswith(\"전공\"): continue\n",
    "        if GRADE_TO_POINT.get(grade, 5) > 2.5: continue\n",
    "        if key not in seen:\n",
    "            seen[key] = (GRADE_TO_POINT[grade], record['lecture_credit'], record['lecture_name'])\n",
    "\n",
    "    if list_only:\n",
    "        if not seen:\n",
    "            return f\"지금 재수강 가능한 {'전공 ' if focus == 'major' else ''}과목은 없습니다.\"\n",
    "        return f\"재수강 가능한 {'전공 ' if focus == 'major' else ''}과목: \" + \", \".join([v[2] for v in seen.values()])\n",
    "\n",
    "def check_graduation_required_courses(user_id: str, required_json_path: str):\n",
    "    # 필수 과목 목록 추출\n",
    "    with open(required_json_path, encoding='utf-8') as f:\n",
    "        all_courses = json.load(f)\n",
    "\n",
    "    required = {\n",
    "        (item['lecture_name'], item['lecture_course_type'])\n",
    "        for item in all_courses\n",
    "        if item.get('lecture_course_type') in [\"교필\", \"전필\"]\n",
    "    }\n",
    "\n",
    "    # 사용자가 이수한 과목 목록\n",
    "    data = load_student_data(user_id)\n",
    "    taken = {\n",
    "        (record['lecture_name'], record['lecture_course_type'])\n",
    "        for record in data\n",
    "        if record.get(\"retake_or_delete_status\") != \"Y\"\n",
    "    }\n",
    "\n",
    "    taken_required = sorted(required & taken, key=lambda x: x[1])  # 이수한 필수\n",
    "    missed_required = sorted(required - taken, key=lambda x: x[1])  # 미이수 필수\n",
    "\n",
    "    def format_list(items):\n",
    "        result = defaultdict(list)\n",
    "        for name, typ in items:\n",
    "            result[typ].append(name)\n",
    "        return result\n",
    "\n",
    "    taken_fmt = format_list(taken_required)\n",
    "    missed_fmt = format_list(missed_required)\n",
    "\n",
    "    response_parts = []\n",
    "    if taken_fmt:\n",
    "        parts = [f\"{typ} 과목인 {', '.join(names)}\" for typ, names in taken_fmt.items()]\n",
    "        response_parts.append(\"졸업 필수 과목 중에서 \" + \"과 \" .join(parts) + \"를 이수하셨고\")\n",
    "    if missed_fmt:\n",
    "        parts = [f\"{typ} 과목인 {', '.join(names)}\" for typ, names in missed_fmt.items()]\n",
    "        response_parts.append(\" \".join(parts) + \"를 이수하지 않았습니다.\")\n",
    "    if not missed_required:\n",
    "        response_parts = [\"졸업 필수 과목을 모두 이수하셨습니다.\"]\n",
    "    return \" \".join(response_parts)\n",
    "\n",
    "def get_remaining_credits(user_id: str, graduation_total: int = 133):\n",
    "    data = load_student_data(user_id)\n",
    "    total_credits = sum(\n",
    "        record['lecture_credit']\n",
    "        for record in data\n",
    "        if record.get('retake_or_delete_status') != \"Y\"\n",
    "    )\n",
    "    remaining = graduation_total - total_credits\n",
    "    name = USER_NAME.get(user_id, user_id)\n",
    "    return f\"{name}님의 현재까지 이수한 학점은 {total_credits}학점이며, 졸업을 위해 {remaining}학점이 더 필요합니다.\"\n",
    "\n",
    "def calculate_gpa_from_raw_split(user_id: str) -> dict:\n",
    "    data = load_student_data(user_id)\n",
    "    name = USER_NAME.get(user_id, user_id)\n",
    "\n",
    "    total_points, total_credits = 0, 0\n",
    "    major_points, major_credits = 0, 0\n",
    "\n",
    "    for record in data:\n",
    "        if record.get('retake_or_delete_status') == 'Y':\n",
    "            continue\n",
    "\n",
    "        grade = record.get('lecutre_grade')\n",
    "        point = GRADE_TO_POINT.get(grade, None)\n",
    "        credit = record.get('lecture_credit', 0)\n",
    "        ctype = record.get('lecture_course_type', '')\n",
    "\n",
    "        if point is None or not isinstance(credit, (int, float)):\n",
    "            continue\n",
    "\n",
    "        # 전체 평점 누적\n",
    "        total_points += point * credit\n",
    "        total_credits += credit\n",
    "\n",
    "        # 전공 평점 누적 (전필 또는 전선만)\n",
    "        if ctype.startswith(\"전필\") or ctype.startswith(\"전선\"):\n",
    "            major_points += point * credit\n",
    "            major_credits += credit\n",
    "\n",
    "    result = {}\n",
    "    if total_credits > 0:\n",
    "        result[\"전체\"] = round(total_points / total_credits, 2)\n",
    "    if major_credits > 0:\n",
    "        result[\"전공\"] = round(major_points / major_credits, 2)\n",
    "    else:\n",
    "        result[\"전공\"] = None  # 또는 \"전공 과목 없음\"\n",
    "\n",
    "    return result\n",
    "\n",
    "# 성적 향상 가정 시 GPA 시뮬레이션 함수 개선\n",
    "def simulate_retake_gpa(user_id: str, fixed_grade: str = None, focus: str = \"all\"):\n",
    "    if fixed_grade == \"A+\":\n",
    "        return \"재수강 시 받을 수 있는 최고학점은 A0입니다.\"\n",
    "\n",
    "    data = load_student_data(user_id)\n",
    "    seen = {}\n",
    "    excluded = set()\n",
    "\n",
    "    for record in data:\n",
    "        key = record['lecture_id']\n",
    "        grade = record['lecutre_grade']\n",
    "        if record.get('retake_status') == 'R' and GRADE_TO_POINT.get(grade, 0) >= 3.0:\n",
    "            excluded.add(key)\n",
    "        if record.get('retake_or_delete_status') == 'Y':\n",
    "            excluded.add(key)\n",
    "\n",
    "    replace_targets = {}\n",
    "    base = {}\n",
    "    for record in data:\n",
    "        key = record['lecture_id']\n",
    "        grade = record['lecutre_grade']\n",
    "        credit = record['lecture_credit']\n",
    "        ctype = record['lecture_course_type']\n",
    "        name = record['lecture_name']\n",
    "\n",
    "        if key in excluded:\n",
    "            continue\n",
    "        if GRADE_TO_POINT.get(grade, 5) > 2.5:\n",
    "            continue\n",
    "        if focus == 'major' and not ctype.startswith(\"전공\"):\n",
    "            continue\n",
    "        if focus == 'liberal' and ctype.startswith(\"전공\"):\n",
    "            continue\n",
    "\n",
    "        if key not in replace_targets:\n",
    "            replace_targets[key] = (GRADE_TO_POINT[grade], credit, name)\n",
    "\n",
    "    for record in data:\n",
    "        key = record['lecture_id']\n",
    "        if record.get('retake_or_delete_status') == 'Y':\n",
    "            continue\n",
    "        base[key] = (GRADE_TO_POINT.get(record['lecutre_grade'], 0.0), record['lecture_credit'])\n",
    "\n",
    "    grade_options = [fixed_grade] if fixed_grade else [\"A0\", \"B+\", \"B0\", \"C+\", \"C0\"]\n",
    "    result_lines = []\n",
    "\n",
    "    for g in grade_options:\n",
    "        modified = base.copy()\n",
    "        label = []\n",
    "        for key, (_, credit, name) in replace_targets.items():\n",
    "            modified[key] = (GRADE_TO_POINT[g], credit)\n",
    "            label.append(f\"{name}: {g}\")\n",
    "        total_credits = sum(c for _, c in modified.values())\n",
    "        total_points = sum(p * c for p, c in modified.values())\n",
    "        avg = round(total_points / total_credits, 2)\n",
    "        result_lines.append(f\"{' / '.join(label)} → 예상 평점: {avg}\")\n",
    "\n",
    "    return \"\\n\".join(result_lines)\n",
    "\n",
    "def get_retake_reason_summary(user_id: str) -> str:\n",
    "    data = load_student_data(user_id)\n",
    "    results = []\n",
    "\n",
    "    for record in data:\n",
    "        name = record.get('lecture_name')\n",
    "        grade = record.get('lecutre_grade')\n",
    "        course_type = record.get('lecture_course_type', '')\n",
    "        is_retake = record.get('retake_status') == 'R'\n",
    "        is_dropped = record.get('retake_or_delete_status') == 'Y'\n",
    "\n",
    "        if is_dropped:\n",
    "            continue\n",
    "        if not course_type.startswith(\"전필\"):\n",
    "            continue\n",
    "        if grade not in [\"C+\", \"C0\", \"F\"]:\n",
    "            continue\n",
    "\n",
    "        msg = f\"{name}에서 {grade}를 받으셨습니다\"\n",
    "        if is_retake:\n",
    "            msg += \", 재수강하셨습니다\"\n",
    "        results.append(msg)\n",
    "\n",
    "    if not results:\n",
    "        return \"성적이 낮은 전공 필수 과목은 없습니다.\"\n",
    "\n",
    "    return \"전공 필수 과목 중 성적이 낮은 과목은 \" + \" / \".join(results) + \".\"\n",
    "\n",
    "    # GPA simulation part\n",
    "    original_data = load_student_data(user_id)\n",
    "    base = {}\n",
    "    for r in original_data:\n",
    "        key = r['lecture_id']\n",
    "        if r.get('retake_or_delete_status') == 'Y': continue\n",
    "        base[key] = (GRADE_TO_POINT.get(r['lecutre_grade'], 0.0), r['lecture_credit'])\n",
    "\n",
    "    replace_targets = list(seen.items())\n",
    "    grade_options = [fixed_grade] if fixed_grade else list(GRADE_TO_POINT.keys())\n",
    "    responses = []\n",
    "\n",
    "    for combo in itertools.product(grade_options, repeat=len(replace_targets)):\n",
    "        modified = base.copy()\n",
    "        label = []\n",
    "        for (key, (_, credit, name)), g in zip(replace_targets, combo):\n",
    "            modified[key] = (GRADE_TO_POINT[g], credit)\n",
    "            label.append(f\"{name}: {g}\")\n",
    "        total_credits = sum(c for _, c in modified.values())\n",
    "        total_points = sum(p * c for p, c in modified.values())\n",
    "        avg = round(total_points / total_credits, 2)\n",
    "        responses.append(f\"{' / '.join(label)} → 예상 평점: {avg}\")\n",
    "\n",
    "    return \"\\n\".join(responses)"
   ]
  },
  {
   "cell_type": "markdown",
   "id": "94033b02-0f38-4165-854b-34bff5846bae",
   "metadata": {},
   "source": [
    "#### ChromaDB 검색"
   ]
  },
  {
   "cell_type": "code",
   "execution_count": 223,
   "id": "e1f284f1-b25c-4cd5-9321-e4c695293cbe",
   "metadata": {},
   "outputs": [],
   "source": [
    "import json\n",
    "import re\n",
    "import random\n",
    "import itertools\n",
    "from collections import defaultdict, Counter\n",
    "from langchain_chroma import Chroma\n",
    "from langchain.chains import RetrievalQA\n",
    "from langchain.prompts import PromptTemplate\n",
    "from langchain_openai import ChatOpenAI\n",
    "from functools import lru_cache\n",
    "\n",
    "llm = ChatOpenAI(model=\"gpt-4o-mini\", temperature=0.3)\n",
    "\n",
    "# 재수강 가능 과목 필터링 함수 (전공/교양 구분 포함)\n",
    "def get_filtered_retake_courses(user_id: str, focus: str = \"all\") -> list:\n",
    "    data = load_student_data(user_id)\n",
    "    seen = {}\n",
    "    excluded = set()\n",
    "\n",
    "    # 재수강했고 성적이 B0 이상이면 제외\n",
    "    for record in data:\n",
    "        key = record['lecture_id']\n",
    "        grade = record['lecutre_grade']\n",
    "        if record.get('retake_status') == 'R' and GRADE_TO_POINT.get(grade, 0) >= 3.0:\n",
    "            excluded.add(key)\n",
    "        if record.get('retake_or_delete_status') == 'Y':\n",
    "            excluded.add(key)\n",
    "\n",
    "     # 재수강 조건에 부합하는 과목 수집\n",
    "    for record in data:\n",
    "        key = record['lecture_id']\n",
    "        grade = record['lecutre_grade']\n",
    "        ctype = record['lecture_course_type']\n",
    "        name = record['lecture_name']\n",
    "\n",
    "        if key in excluded:\n",
    "            continue\n",
    "        if GRADE_TO_POINT.get(grade, 5) > 2.5:\n",
    "            continue\n",
    "        if focus == 'major' and not ctype.startswith(\"전공\"):\n",
    "            continue\n",
    "        if focus == 'liberal' and ctype.startswith(\"전공\"):\n",
    "            continue\n",
    "        if key not in seen:\n",
    "            seen[key] = name\n",
    "\n",
    "    return list(seen.values())\n",
    "\n",
    "# 팀플 조건별 응답 포맷 구성\n",
    "def format_team_project_response(team_condition: str, lectures: list):\n",
    "    if not lectures:\n",
    "        return f\"팀플이 {team_condition} 강의를 찾을 수 없습니다.\"\n",
    "\n",
    "    condition_map = {\n",
    "    \"없음\": \"없는\",\n",
    "    \"보통\": \"적은\",\n",
    "    \"많은\": \"많은\"\n",
    "    }\n",
    "    label = condition_map.get(team_condition, team_condition)\n",
    "    header = f\"팀플이 {label} 강의는 다음과 같습니다:\"\n",
    "    body = \"\\n\".join(\n",
    "        f\"{i+1}. {lec['lecture_name']} (학정번호: {lec['lecture_id']})\"\n",
    "        for i, lec in enumerate(lectures)\n",
    "    )\n",
    "    return f\"{header}\\n{body}\"\n",
    "\n",
    "# 조별과제/팀플 조건 파싱 및 정규화\n",
    "def normalize_team_condition(user_input: str) -> str | None:\n",
    "    condition_map = {\n",
    "        \"없음\": [\"팀플 없는\", \"팀플이 없는\", \"조별과제 없는\", \"조별과제가 없는\"],\n",
    "        \"보통\": [\"팀플 보통\", \"팀플이 보통\", \"조별과제 보통\", \"조별과제가 보통\", \"팀플 적은\", \"팀플이 적은\", \"조별과제 적은\", \"조별과제가 적은\"],\n",
    "        \"많은\": [\"팀플 많은\", \"팀플이 많은\", \"조별과제 많은\", \"조별과제가 많은\", \"팀플 많음\", \"조별과제 많음\"]\n",
    "    }\n",
    "    for condition, variants in condition_map.items():\n",
    "        if any(v in user_input for v in variants):\n",
    "            return condition\n",
    "    return None\n",
    "    \n",
    "# 자연어 질의 응답 처리 함수\n",
    "def answer_query(user_input: str, user_id: str = \"kim\"):\n",
    "    lowered = user_input.lower()\n",
    "    normalized = lowered.replace(\" \", \"\")   # 공백 제거하여 패턴 매칭에 유리하게 처리\n",
    "\n",
    "    # 졸업논문/프로젝트 관련 질의 선처리\n",
    "    graduation_keywords = [\"졸업논문\", \"졸업프로젝트\", \"졸프\", \"졸작\", \"졸업과제\"]\n",
    "    \n",
    "    # 시기 관련 질의는 가장 먼저 처리\n",
    "    if all(k in lowered for k in [\"졸업\", \"논문\", \"프로젝트\"]) and any(w in lowered for w in [\"언제\", \"언제부터\", \"시기\", \"몇학년\", \"준비\", \"시작\"]):\n",
    "        return (\"빠르면 3학년부터 준비하는 경우도 있지만, 대부분 3학년 2학기부터 팀을 구한 후 4학년 때 프로젝트를 진행합니다. 논문의 경우도 대부분 4학년 때 준비합니다.\")\n",
    "    \n",
    "    # 필수 여부\n",
    "    if all(k in lowered for k in [\"졸업\", \"논문\", \"프로젝트\"]) and any(w in lowered for w in [\"필수\", \"의무\", \"꼭\", \"반드시\", \"필요\", \"해야\", \"해야해\"]):\n",
    "        return \"졸업하기 위해서는 졸업 논문 혹은 졸업 프로젝트 둘 중 하나는 필수입니다.\"\n",
    "    \n",
    "    # 기타 졸프 관련 질의\n",
    "    if any(k in lowered for k in graduation_keywords):\n",
    "        return \"졸업 논문이나 졸업 프로젝트와 관련된 사항은 전공 학과나 학교의 졸업 요건에 따라 다르며, 학과 사무실이나 지도 교수님을 통해 반드시 확인하셔야 합니다.\"\n",
    "\n",
    "    # 특정 학점 + 과목 타입 필터\n",
    "    if re.search(r'\\d\\s*학점', user_input):\n",
    "        return get_lectures_by_credit_and_type(user_input)\n",
    "\n",
    "    # 팀플 조건 분석 및 응답\n",
    "    team_condition = normalize_team_condition(user_input)\n",
    "    match = re.search(r'(\\d+)\\s*개', user_input)\n",
    "    count = int(match.group(1)) if match else None\n",
    "\n",
    "    if team_condition:\n",
    "        filtered_lectures = filter_lectures_by_team([\"./data/kw_chatbot_data - 강의 평점.json\"], team_condition)\n",
    "        seen = set()\n",
    "        unique_lectures = []\n",
    "        for lec in filtered_lectures:\n",
    "            if lec[\"lecture_name\"] not in seen:\n",
    "                seen.add(lec[\"lecture_name\"])\n",
    "                unique_lectures.append(lec)\n",
    "        if count:\n",
    "            unique_lectures = unique_lectures[:count]\n",
    "        return format_team_project_response(team_condition, unique_lectures)\n",
    "\n",
    "    # 성적 이하 필터\n",
    "    if \"이하\" in normalized:\n",
    "        for grade in GRADE_TO_POINT:\n",
    "            if grade.lower() in normalized:\n",
    "                threshold = GRADE_TO_POINT[grade]\n",
    "                target_grades = [g for g, p in GRADE_TO_POINT.items() if p <= threshold]\n",
    "                subjects = [r['lecture_name'] for r in load_student_data(user_id) if r['lecutre_grade'] in target_grades]\n",
    "                return f\"{', '.join(subjects)} 과목이 {grade} 이하입니다.\" if subjects else f\"{grade} 이하인 과목이 없습니다.\"\n",
    "\n",
    "    # 전체 성적 평균 요청\n",
    "    if any(k in normalized for k in [\"전체성적평균\", \"전체학점평균\"]):\n",
    "        gpas = calculate_gpa_from_raw_split(user_id)\n",
    "        if \"전체\" in gpas:\n",
    "            return f\"{USER_NAME.get(user_id, user_id)}님의 전체 성적 평균은 {gpas['전체']}입니다.\"\n",
    "        return \"전체 성적 평균은 제공된 정보에 포함되어 있지 않습니다.\"\n",
    "\n",
    "    # 전공 성적 평균 요청\n",
    "    if \"전공\" in normalized and \"평균\" in normalized:\n",
    "        gpas = calculate_gpa_from_raw_split(user_id)\n",
    "        gpa = gpas.get(\"전공\", None)\n",
    "        name = USER_NAME.get(user_id, user_id)\n",
    "        if gpa is not None:\n",
    "            return f\"{name}님의 전공 성적 평균은 {gpa}입니다.\"\n",
    "        return f\"{name}님의 전공 성적 평균은 제공된 정보에 포함되어 있지 않습니다.\"\n",
    "\n",
    "    # 재수강 횟수 조회\n",
    "    if \"재수강몇번했어\" in normalized or \"나몇번재수강했어\" in normalized:\n",
    "        retake_counts = count_retake_courses(user_id)\n",
    "        if not retake_counts:\n",
    "            return \"재수강한 과목이 없습니다.\"\n",
    "        parts = [f\"{name} 과목을 {count}번\" for name, count in retake_counts.items()]\n",
    "        return f\"{', '.join(parts)} 재수강하셨습니다.\"\n",
    "\n",
    "    # 단일 과목 성적 조회\n",
    "    if \"성적이어때\" in normalized or \"학점이어때\" in normalized:\n",
    "        course_name = user_input.split()[0].replace(\" \", \"\")\n",
    "        grade = get_course_grade(user_id, course_name)\n",
    "        return f\"{course_name}의 성적은 {grade}입니다.\" if grade else f\"{course_name}에 대한 성적 정보를 찾을 수 없습니다.\"\n",
    "\n",
    "    # 특정 성적 받은 과목 나열\n",
    "    for grade in GRADE_TO_POINT:\n",
    "        if grade.lower() in normalized and (\"받은과목\" in normalized or \"받은수업\" in normalized):\n",
    "            subjects = [r['lecture_name'] for r in load_student_data(user_id) if r['lecutre_grade'] == grade]\n",
    "            return f\"{', '.join(subjects)} 과목에서 {grade}를 받으셨습니다.\" if subjects else f\"{grade}를 받은 과목이 없습니다.\"\n",
    "\n",
    "    # 재수강 목록 조회\n",
    "    if \"재수강한거뭐있어\" in normalized or \"재수강한과목\" in normalized:\n",
    "        data = load_student_data(user_id)\n",
    "        names = [r['lecture_name'] for r in data if r.get('retake_status') == 'R']\n",
    "        return \", \".join(f\"{name}을 재수강했습니다.\" for name in names) if names else \"재수강한 과목이 없습니다.\"\n",
    "\n",
    "    # 재수강 반영한 평점 요청\n",
    "    if any(k in normalized for k in [\"재수강하고전체학점\", \"재수강반영된학점\", \"재수강적용학점\", \"재수강하고학점\"]):\n",
    "        return get_gpa_with_retake(user_id, exclude_pre_retake=True)\n",
    "\n",
    "    # 재수강 가능한 전공 과목 요청\n",
    "    if \"재수강가능한전공과목\" in normalized and any(k in normalized for k in [\"뭐가있어\", \"뭐있어\", \"뭐야\"]):\n",
    "        filtered = get_filtered_retake_courses(user_id, focus=\"major\")\n",
    "        return f\"지금 재수강 가능한 전공 과목은 {', '.join(filtered)}입니다.\" if filtered else \"지금 재수강 가능한 전공 과목은 없습니다.\"\n",
    "\n",
    "    # 전체 재수강 가능한 과목\n",
    "    if \"재수강가능한과목\" in normalized and any(k in normalized for k in [\"뭐가있어\", \"뭐있어\", \"뭐야\"]):\n",
    "        majors = get_filtered_retake_courses(user_id, focus=\"major\")\n",
    "        liberals = get_filtered_retake_courses(user_id, focus=\"liberal\")\n",
    "        total = majors + liberals\n",
    "        return f\"지금 재수강 가능한 과목은 {', '.join(total)}입니다.\" if total else \"지금 재수강 가능한 과목은 없습니다.\"\n",
    "\n",
    "    if \"재수강가능한횟수\" in normalized or (\"재수강\" in normalized and \"횟수\" in normalized):\n",
    "        data = load_student_data(user_id)\n",
    "        retake_count = sum(1 for r in data if r.get(\"retake_status\") == \"R\" and r.get(\"lecutre_grade\") != \"F\")\n",
    "        remaining = 8 - retake_count\n",
    "        name = USER_NAME.get(user_id, user_id)\n",
    "        return f\"{name}님은 총 8번까지 재수강이 가능하며, 현재까지 {retake_count}번 재수강하셨습니다. 따라서 {remaining}번 더 재수강할 수 있습니다.\"\n",
    "\n",
    "    # 성적 향상 가정 시 GPA 시뮬레이션\n",
    "    if (\"재수강가능한과목\" in normalized or \"재수강가능한전공과목\" in normalized) and \"성적올리면\" in normalized:\n",
    "        focus = \"major\" if \"전공\" in normalized else \"all\"\n",
    "        fixed_grade = None\n",
    "        for grade in GRADE_TO_POINT:\n",
    "            if f\"{grade.lower()}로\" in normalized:\n",
    "                fixed_grade = grade\n",
    "                break\n",
    "        return simulate_retake_gpa(user_id, fixed_grade=fixed_grade, focus=focus)\n",
    "\n",
    "    if \"조기졸업\" in normalized and \"가능\" in normalized:\n",
    "        data = load_student_data(user_id)\n",
    "        credits = sum(r['lecture_credit'] for r in data if r.get('retake_or_delete_status') != \"Y\")\n",
    "        grades = [GRADE_TO_POINT.get(r['lecutre_grade'], 0.0) for r in data if r.get('retake_or_delete_status') != \"Y\"]\n",
    "        avg = round(sum(grades) / len(grades), 2) if grades else 0\n",
    "    \n",
    "        # C+ 이하 여부 체크\n",
    "        bad_grades = {\"C+\", \"C0\", \"F\"}\n",
    "        has_c_or_lower = any(\n",
    "            r.get('lecutre_grade') in bad_grades\n",
    "            for r in data if r.get('retake_or_delete_status') != \"Y\"\n",
    "        )\n",
    "    \n",
    "        if credits >= 114 and avg >= 4.3 and not has_c_or_lower:\n",
    "            return \"현재 조기 졸업 조건을 충족하셨습니다. 신청이 가능합니다.\"\n",
    "        else:\n",
    "            message = (\n",
    "                \"조기 졸업 가능 조건은 6학기 말까지 114학점 이상 취득(계절수업 제외), \"\n",
    "                \"7개 학기 이상 이수자로 학칙시행세칙 제16조 평점평균의 산출에 따른 총 평점평균이 4.3 이상인 자(학적부성적 기준), \"\n",
    "                \"조기졸업 신청 당해 학기까지 취득한 전과목 성적이 B0 이상인 자(학적부성적 기준)입니다.\"\n",
    "            )\n",
    "            if has_c_or_lower:\n",
    "                message += \" 현재 C+ 이하의 성적이 존재하므로 재수강을 통해 성적을 개선하고 평점 평균을 4.3 이상으로 만든다면 조기 졸업이 가능합니다.\"\n",
    "            return message\n",
    "\n",
    "    if \"장학금\" in normalized:\n",
    "        if any(k in normalized for k in [\"화도\", \"동해\"]) and \"최소\" in normalized and \"학점\" in normalized:\n",
    "            return \"화도·동해 장학금은 직전 학기 12학점 이상, 평점 2.0 이상이어야 신청 가능합니다.\"\n",
    "        if \"성적\" in normalized:\n",
    "            return \"성적 장학금은 평량평균이 3.0 이상이며, 17학점 이상 취득(4학년은 12학점), 그 중 60% 이상이 전공 학점일 경우 자동 신청됩니다.\"\n",
    "\n",
    "    if \"졸업필수과목\" in normalized:\n",
    "        return check_graduation_required_courses(user_id, \"data/kw_chatbot_data - 수강신청자료집.json\")\n",
    "\n",
    "    if \"졸업하려면몇학점남았어\" in normalized:\n",
    "        return get_remaining_credits(user_id)\n",
    "        \n",
    "    ####################\n",
    "    # 단순 고정 응답 처리\n",
    "    \n",
    "    if \"졸업유예\" in normalized:\n",
    "        return \"아니요. 우리 학교에서는 졸업 유예 신청이 불가능합니다.\"\n",
    "\n",
    "    if \"재수강\" in normalized and \"표시\" in normalized:\n",
    "        return \"재수강한 과목은 성적표에 ‘R’(Retake)로 표기되며, 재수강한 과목의 성적만 성적 및 학점에 반영됩니다.\"\n",
    "\n",
    "    if \"f받고재수강\" in normalized or (\"f\" in normalized and \"재수강\" in normalized):\n",
    "        return \"F 받은 과목은 재수강 시 '재수강' 표시가 뜨지 않지만, 재수강 이력은 남고 성적표에는 'R'로 표기됩니다.\"\n",
    "\n",
    "    if \"동일과목\" in normalized and \"몇번\" in normalized:\n",
    "        return \"C+ 이하인 동일과목은 최대 2회까지 재수강 가능하며, 전체 재학 중 재수강 가능한 교과목 수는 최대 8과목입니다. F 학점은 제외됩니다.\"\n",
    "        \n",
    "    if \"휴학\" in normalized and \"몇번\" in normalized:\n",
    "        return \"일반휴학을 최대 6학기(3년) 할 수 있으며, 한 번 신청 시 최대 2학기 가능합니다. 군휴학 및 창업휴학은 일반휴학 기간에 포함되지 않습니다. 특별한 사유가 있을 경우 추가 휴학이 가능할 수도 있습니다. (단, 일반휴학기간은 한 번에 두 학기를 초과하지 못하며, 통산 3년(6학기)(연속해서는 2년)을 초과하지 못합니다.)\"\n",
    "\n",
    "    if \"같은과목\" in normalized and \"재수강\" in normalized and (\"교수\" in normalized or \"사라지\" in normalized or \"폐지\" in normalized):\n",
    "        return \"학정번호 기준으로 동일한 학정번호가 있는 강의를 수강하시면 됩니다. 다만, 동일한 학정번호의 강의가 3년 이상 미개설 할 경우, C이하의 과목은 학점삭제 가능합니다. 자세한 내용은 학사에 문의하세요.\"\n",
    "    ####################    \n",
    "    \n",
    "    #재수강 vs 새로운 전공과목 선택 질문\n",
    "    if any(x in normalized for x in [\"재수강\", \"다시듣는\", \"다시 들어야\", \"낮은성적\"]) and any(y in normalized for y in [\"전공\", \"필수\", \"과목\", \"수업\"]):\n",
    "        data = load_student_data(user_id)\n",
    "        low_grade_threshold = 2.5\n",
    "        low_major_required = []\n",
    "\n",
    "        for record in data:\n",
    "            grade_str = record.get(\"lecutre_grade\")\n",
    "            grade = GRADE_TO_POINT.get(grade_str, 5)\n",
    "            ctype = record[\"lecture_course_type\"]\n",
    "            name = record[\"lecture_name\"]\n",
    "\n",
    "            if not ctype.startswith(\"전\"):\n",
    "                continue\n",
    "            if grade > low_grade_threshold:\n",
    "                continue\n",
    "            if record.get(\"retake_or_delete_status\") == \"Y\":\n",
    "                continue\n",
    "\n",
    "            low_major_required.append((grade_str, name))\n",
    "\n",
    "        name = USER_NAME.get(user_id, user_id)\n",
    "        response = f\"재수강 여부는 개인의 학업 목표와 상황에 따라 다르지만, 성적이 낮은 전공 과목을 재수강하는 것은 전공에 대한 이해도를 높이고 평점 평균을 개선하는 데 도움이 될 수 있습니다. 반면, 다른 전공 과목을 듣는다면 다양한 지식을 쌓을 수 있는 기회가 될 수 있습니다.\"\n",
    "\n",
    "        if not low_major_required:\n",
    "            response += f\" 현재 성적을 고려할 때, 성적이 낮은 전공 과목은 확인되지 않았습니다.\"\n",
    "        else:\n",
    "            parts = [f\"{grade}를 받은 {name} 과목\" for grade, name in low_major_required]\n",
    "            response += \" 현재 성적을 고려할 때, 재수강이 가능한 전공 과목으로는 \" + \" / \".join(parts) + \"이 있습니다.\"\n",
    "\n",
    "        return response\n",
    "   \n",
    "    if \"이수한과목\" in normalized or \"이수한수업\" in normalized or \"과목리스트\" in normalized or \"수업리스트\" in normalized or \"들은과목\" in normalized or \"지금까지이수한\" in normalized:\n",
    "        data = load_student_data(user_id)\n",
    "        name = USER_NAME.get(user_id, user_id)\n",
    "        grouped = defaultdict(list)\n",
    "    \n",
    "        for r in data:\n",
    "            if r.get(\"retake_or_delete_status\") == \"Y\":\n",
    "                continue\n",
    "            ctype = r[\"lecture_course_type\"]\n",
    "            grade = r[\"lecutre_grade\"]\n",
    "            lecture = r[\"lecture_name\"]\n",
    "            retake_mark = \", R\" if r.get(\"retake_status\") == \"R\" else \"\"\n",
    "            grouped[ctype].append(f\"{lecture}({grade}{retake_mark})\")\n",
    "    \n",
    "        order = [\"전필\", \"전선\", \"교필\", \"교선\"]\n",
    "        lines = [f\"{ctype}: {' / '.join(grouped[ctype])}\" for ctype in order if ctype in grouped]\n",
    "    \n",
    "        if not lines:\n",
    "            return f\"{name}님께서 이수하신 과목이 확인되지 않았습니다.\"\n",
    "        return f\"{name}님께서 현재까지 이수하신 과목 목록:\\n\" + \"\\n\".join(lines)\n",
    "\n",
    "    collection_name = get_collection_name(user_input, user_id)\n",
    "    vectorstore = Chroma(\n",
    "        persist_directory=\"./chroma_db\",\n",
    "        collection_name=collection_name,\n",
    "        embedding_function=embeddings_model\n",
    "    )\n",
    "    prompt = PromptTemplate(\n",
    "        input_variables=[\"context\", \"question\"],\n",
    "        template=\"\"\"\n",
    "        다음은 사용자의 수강 이력 또는 학업/진로 관련 정보입니다.\n",
    "        질문에 답할 때 반드시 정확한 정보를 바탕으로 하세요.\n",
    "\n",
    "        성적은 A+, A0, B+, B0, C+, C0, F 등의 형식이며, \n",
    "        ❗ 절대 유사한 등급을 포함하거나 추론하지 마세요.\n",
    "        예: \"A+\"를 요청했을 경우, 반드시 성적이 \"A+\"인 과목만 포함하세요. \"A0\"는 포함하면 안 됩니다.\n",
    "\n",
    "        📌 답변 형식 지침:\n",
    "        - 질문에 해당하는 내용이 **여러 개인 경우 빠짐없이 모두 나열**하세요.\n",
    "        - 질문 유형에 따라 말끝을 다르게 쓰세요.\n",
    "          예:\n",
    "            - \"내가 A+ 받은 과목 알려줘\" → \"OOO, OOO 과목에서 A+를 받으셨습니다.\"\n",
    "            - \"자료구조 성적이 뭐야?\" → \"자료구조의 성적은 B+입니다.\"\n",
    "            - \"객체지향프로그래밍이 전선이지?\" → \"네, 객체지향프로그래밍은 전필입니다.\"\n",
    "            - \"전체 평균이 어떻게 돼?\" → \"전체 성적 평균은 3.58입니다.\"\n",
    "        - **절대로 \"답변:\"으로 시작하지 마세요. 문장은 바로 시작하세요.**\n",
    "        - 정중하고 간결하게, 핵심만 자연스럽게 응답하세요.\n",
    "        - 축하 인사, 추가 질문 권유 등은 하지 마세요.\n",
    "\n",
    "        문서:\n",
    "        {context}\n",
    "\n",
    "        질문:\n",
    "        {question}\n",
    "\n",
    "        위 지침을 따라 **답변 접두어 없이** 자연스럽게 말문을 여세요.\n",
    "        \"\"\"\n",
    "    )\n",
    "    qa = RetrievalQA.from_chain_type(\n",
    "        llm=llm,\n",
    "        retriever=vectorstore.as_retriever(search_kwargs={\"k\": 20}),\n",
    "        chain_type=\"stuff\",\n",
    "        chain_type_kwargs={\"prompt\": prompt}\n",
    "    )\n",
    "    return qa.invoke({\"query\": user_input})[\"result\"]"
   ]
  },
  {
   "cell_type": "markdown",
   "id": "edfc7843-e0fd-426c-9d89-c2e372ba63c1",
   "metadata": {
    "jp-MarkdownHeadingCollapsed": true
   },
   "source": [
    "#### 학점 계산"
   ]
  },
  {
   "cell_type": "code",
   "execution_count": 213,
   "id": "66102682-f7cb-42cc-bdba-fe6927f70bb9",
   "metadata": {},
   "outputs": [
    {
     "data": {
      "text/plain": [
       "'홍데사님의 전체 성적 평균은 3.7입니다.'"
      ]
     },
     "execution_count": 213,
     "metadata": {},
     "output_type": "execute_result"
    }
   ],
   "source": [
    "answer_query(\"전체 성적 평균이 어떻게 돼?\", user_id=\"hong\")"
   ]
  },
  {
   "cell_type": "code",
   "execution_count": 37,
   "id": "7b2b3b7b-f602-4a86-9005-e1b83e54c4be",
   "metadata": {},
   "outputs": [
    {
     "data": {
      "text/plain": [
       "'김브티님의 전체 성적 평균은 3.72입니다.'"
      ]
     },
     "execution_count": 37,
     "metadata": {},
     "output_type": "execute_result"
    }
   ],
   "source": [
    "answer_query(\"전체 성적 평균이 어떻게 돼?\", user_id=\"kim\")"
   ]
  },
  {
   "cell_type": "code",
   "execution_count": 52,
   "id": "51c633b8-bfcb-41e5-9174-e084100bf86d",
   "metadata": {},
   "outputs": [
    {
     "data": {
      "text/plain": [
       "'홍데사님의 전공 성적 평균은 3.45입니다.'"
      ]
     },
     "execution_count": 52,
     "metadata": {},
     "output_type": "execute_result"
    }
   ],
   "source": [
    "answer_query(\"전공 평균이 어떻게 돼?\", user_id=\"hong\")"
   ]
  },
  {
   "cell_type": "code",
   "execution_count": 49,
   "id": "61c2ecce-8b45-410c-b5eb-ac3ccc57040e",
   "metadata": {},
   "outputs": [
    {
     "data": {
      "text/plain": [
       "'김브티님의 전공 성적 평균은 3.46입니다.'"
      ]
     },
     "execution_count": 49,
     "metadata": {},
     "output_type": "execute_result"
    }
   ],
   "source": [
    "answer_query(\"전공 성적 평균이 어떻게 돼?\", user_id=\"kim\")"
   ]
  },
  {
   "cell_type": "code",
   "execution_count": 210,
   "id": "5c8d25f1-9588-49db-bd1d-e72a70abda20",
   "metadata": {},
   "outputs": [
    {
     "data": {
      "text/plain": [
       "'AI수학: A0 / 정보디자인프로그래밍: A0 → 예상 평점: 3.85'"
      ]
     },
     "execution_count": 210,
     "metadata": {},
     "output_type": "execute_result"
    }
   ],
   "source": [
    "answer_query(\"지금 재수강가능한 과목들을 A0로 성적올리면 전체 학점이 어떻게 돼?\", user_id=\"kim\")"
   ]
  },
  {
   "cell_type": "code",
   "execution_count": 209,
   "id": "031c2337-2b1a-46a3-97ec-4c29168f548d",
   "metadata": {},
   "outputs": [
    {
     "data": {
      "text/plain": [
       "'AI수학: B0 / 정보디자인프로그래밍: B0 → 예상 평점: 3.76'"
      ]
     },
     "execution_count": 209,
     "metadata": {},
     "output_type": "execute_result"
    }
   ],
   "source": [
    "answer_query(\"지금 재수강가능한 과목들을 B0로 성적올리면 전체 학점이 어떻게 돼?\", user_id=\"kim\")"
   ]
  },
  {
   "cell_type": "code",
   "execution_count": 214,
   "id": "72a4ab0a-4bf1-4ff8-b2d3-4e1e412f619b",
   "metadata": {},
   "outputs": [
    {
     "data": {
      "text/plain": [
       "'프로그래밍기초: A0 / 객체지향프로그래밍: A0 / 정보디자인프로그래밍: A0 → 예상 평점: 3.89'"
      ]
     },
     "execution_count": 214,
     "metadata": {},
     "output_type": "execute_result"
    }
   ],
   "source": [
    "answer_query(\"지금 재수강가능한 과목들을 A0로 성적올리면 전체 학점이 어떻게 돼?\", user_id=\"hong\")"
   ]
  },
  {
   "cell_type": "markdown",
   "id": "57f205c1-ffc5-4b81-afaa-efe55858fddf",
   "metadata": {
    "jp-MarkdownHeadingCollapsed": true
   },
   "source": [
    "#### 재수강"
   ]
  },
  {
   "cell_type": "code",
   "execution_count": 18,
   "id": "21f6a1e4-8553-4941-8485-3759471272aa",
   "metadata": {},
   "outputs": [
    {
     "data": {
      "text/plain": [
       "'창의설계입문 과목을 1번 재수강하셨습니다.'"
      ]
     },
     "execution_count": 18,
     "metadata": {},
     "output_type": "execute_result"
    }
   ],
   "source": [
    "answer_query(\"재수강 몇 번 했어?\", user_id=\"hong\")"
   ]
  },
  {
   "cell_type": "code",
   "execution_count": 19,
   "id": "5a1df3f2-a190-4cd8-8e01-826129f69811",
   "metadata": {},
   "outputs": [
    {
     "data": {
      "text/plain": [
       "'프로그래밍기초 과목을 1번 재수강하셨습니다.'"
      ]
     },
     "execution_count": 19,
     "metadata": {},
     "output_type": "execute_result"
    }
   ],
   "source": [
    "answer_query(\"나 몇 번 재수강했어?\", user_id=\"kim\")"
   ]
  },
  {
   "cell_type": "code",
   "execution_count": 95,
   "id": "c43cc538-da1f-440c-a0a0-7a6ca2b3bfa3",
   "metadata": {},
   "outputs": [
    {
     "data": {
      "text/plain": [
       "'프로그래밍기초을 재수강했습니다.'"
      ]
     },
     "execution_count": 95,
     "metadata": {},
     "output_type": "execute_result"
    }
   ],
   "source": [
    "answer_query(\"재수강한 과목이 뭐야?\", user_id=\"kim\")"
   ]
  },
  {
   "cell_type": "code",
   "execution_count": 21,
   "id": "5d574d7b-caf2-4278-b8e4-1daea11a524d",
   "metadata": {},
   "outputs": [
    {
     "data": {
      "text/plain": [
       "'창의설계입문을 재수강했습니다.'"
      ]
     },
     "execution_count": 21,
     "metadata": {},
     "output_type": "execute_result"
    }
   ],
   "source": [
    "answer_query(\"재수강한 거 뭐있어?\", user_id=\"hong\")"
   ]
  },
  {
   "cell_type": "code",
   "execution_count": 77,
   "id": "43d821ff-8d41-4d12-9ce9-8b4f049ddb73",
   "metadata": {},
   "outputs": [
    {
     "data": {
      "text/plain": [
       "'지금 재수강 가능한 과목은 프로그래밍기초, 객체지향프로그래밍, 정보디자인프로그래밍입니다.'"
      ]
     },
     "execution_count": 77,
     "metadata": {},
     "output_type": "execute_result"
    }
   ],
   "source": [
    "answer_query(\"지금 재수강가능한 과목은 뭐야?\", user_id=\"hong\")"
   ]
  },
  {
   "cell_type": "code",
   "execution_count": 26,
   "id": "83ff274b-537d-44fa-ab8e-cc8a7a65c2f6",
   "metadata": {},
   "outputs": [
    {
     "data": {
      "text/plain": [
       "'지금 재수강 가능한 전공 과목은 없습니다.'"
      ]
     },
     "execution_count": 26,
     "metadata": {},
     "output_type": "execute_result"
    }
   ],
   "source": [
    "answer_query(\"지금 재수강가능한 전공과목은 뭐야?\", user_id=\"hong\")"
   ]
  },
  {
   "cell_type": "code",
   "execution_count": 27,
   "id": "85f2b02d-8ac7-404f-bb89-e9726e699a54",
   "metadata": {},
   "outputs": [
    {
     "data": {
      "text/plain": [
       "'지금 재수강 가능한 과목은 AI수학, 정보디자인프로그래밍입니다.'"
      ]
     },
     "execution_count": 27,
     "metadata": {},
     "output_type": "execute_result"
    }
   ],
   "source": [
    "answer_query(\"지금 재수강가능한 과목은 뭐야?\", user_id=\"kim\")"
   ]
  },
  {
   "cell_type": "code",
   "execution_count": 28,
   "id": "adbca598-84a6-46f1-854e-0f0325a0421c",
   "metadata": {},
   "outputs": [
    {
     "data": {
      "text/plain": [
       "'지금 재수강 가능한 전공 과목은 없습니다.'"
      ]
     },
     "execution_count": 28,
     "metadata": {},
     "output_type": "execute_result"
    }
   ],
   "source": [
    "answer_query(\"지금 재수강가능한 전공과목은 뭐야?\", user_id=\"kim\")"
   ]
  },
  {
   "cell_type": "markdown",
   "id": "2fbce384-5d9c-40fc-8a3e-31c2a55003fa",
   "metadata": {
    "jp-MarkdownHeadingCollapsed": true
   },
   "source": [
    "#### 과목 질문"
   ]
  },
  {
   "cell_type": "code",
   "execution_count": 29,
   "id": "a274dbc4-905e-4f9e-b697-b2ac9fce1a93",
   "metadata": {},
   "outputs": [
    {
     "data": {
      "text/plain": [
       "'경제와경영, 대학수학및연습2, 인터넷활용, 생활속의생명과학 과목에서 A+를 받으셨습니다.'"
      ]
     },
     "execution_count": 29,
     "metadata": {},
     "output_type": "execute_result"
    }
   ],
   "source": [
    "answer_query(\"내가 A+ 받은 과목 알려줘\", user_id=\"kim\")"
   ]
  },
  {
   "cell_type": "code",
   "execution_count": 30,
   "id": "296447c4-8cac-451b-aa76-9ffdce5369c6",
   "metadata": {},
   "outputs": [
    {
     "data": {
      "text/plain": [
       "'컴퓨팅사고, 대학수학및연습1, 그래픽디자인, 대학수학및연습2, AI수학, 화폐와금융의과거,현재그리고미래, 생활속의생명과학 과목에서 A+를 받으셨습니다.'"
      ]
     },
     "execution_count": 30,
     "metadata": {},
     "output_type": "execute_result"
    }
   ],
   "source": [
    "answer_query(\"내가 A+ 받은 과목 알려줘\", user_id=\"hong\")"
   ]
  },
  {
   "cell_type": "code",
   "execution_count": 31,
   "id": "a42afde5-22dc-4b28-afb1-a746e1d968ca",
   "metadata": {},
   "outputs": [
    {
     "data": {
      "text/plain": [
       "'고급C프로그래밍의 성적은 B+입니다.'"
      ]
     },
     "execution_count": 31,
     "metadata": {},
     "output_type": "execute_result"
    }
   ],
   "source": [
    "answer_query(\"고급C프로그래밍 학점이 어때?\", user_id=\"kim\")"
   ]
  },
  {
   "cell_type": "code",
   "execution_count": 32,
   "id": "2e6f9928-238d-4006-9668-db667c666c48",
   "metadata": {},
   "outputs": [
    {
     "data": {
      "text/plain": [
       "'객체지향프로그래밍의 성적은 B0입니다.'"
      ]
     },
     "execution_count": 32,
     "metadata": {},
     "output_type": "execute_result"
    }
   ],
   "source": [
    "answer_query(\"객체지향프로그래밍 성적이 뭐야?\", user_id=\"kim\")"
   ]
  },
  {
   "cell_type": "code",
   "execution_count": 33,
   "id": "415a50b9-1d68-4544-bd46-fa8ef09070aa",
   "metadata": {},
   "outputs": [
    {
     "data": {
      "text/plain": [
       "'창의설계입문, 프로그래밍기초, 객체지향프로그래밍, 정보디자인프로그래밍 과목이 C+ 이하입니다.'"
      ]
     },
     "execution_count": 33,
     "metadata": {},
     "output_type": "execute_result"
    }
   ],
   "source": [
    "answer_query(\"C+ 이하 과목만 보고 싶어\", user_id=\"hong\")"
   ]
  },
  {
   "cell_type": "markdown",
   "id": "e0261ffd-a981-4f50-8cfc-3b864052d79c",
   "metadata": {},
   "source": [
    "#### 강의탐색"
   ]
  },
  {
   "cell_type": "code",
   "execution_count": 222,
   "id": "5b280245-e71a-43f7-a43b-7ace535ec647",
   "metadata": {},
   "outputs": [
    {
     "name": "stdout",
     "output_type": "stream",
     "text": [
      "팀플이 없는 강의는 다음과 같습니다:\n",
      "1. 컴퓨터네트워크 (학정번호: I040-2-1655-01)\n",
      "2. AI수학 (학정번호: I040-2-3688-01)\n",
      "3. 객체지향프로그래밍 (학정번호: I040-2-7777-01)\n",
      "4. 오픈소스소프트웨어 (학정번호: I040-2-8461-01)\n",
      "5. 인터랙티브미디어개론 (학정번호: I040-2-9160-01)\n",
      "6. 컴퓨터그래픽스 (학정번호: I040-3-3951-01)\n",
      "7. 컴퓨터비전 (학정번호: I040-3-5474-01)\n",
      "8. 실험설계및분석 (학정번호: I040-3-9617-01)\n",
      "9. 영상AI생성모델 (학정번호: I040-4-5471-01)\n"
     ]
    }
   ],
   "source": [
    "print(answer_query(\"팀플이 없는 강의 알려줘\"))"
   ]
  },
  {
   "cell_type": "code",
   "execution_count": 216,
   "id": "c10013bc-7634-4c92-b712-1b9faa3e0fa3",
   "metadata": {},
   "outputs": [
    {
     "name": "stdout",
     "output_type": "stream",
     "text": [
      "팀플이 없는 강의는 다음과 같습니다:\n",
      "1. 컴퓨터네트워크 (학정번호: I040-2-1655-01)\n",
      "2. AI수학 (학정번호: I040-2-3688-01)\n",
      "3. 객체지향프로그래밍 (학정번호: I040-2-7777-01)\n",
      "4. 오픈소스소프트웨어 (학정번호: I040-2-8461-01)\n",
      "5. 인터랙티브미디어개론 (학정번호: I040-2-9160-01)\n",
      "6. 컴퓨터그래픽스 (학정번호: I040-3-3951-01)\n",
      "7. 컴퓨터비전 (학정번호: I040-3-5474-01)\n",
      "8. 실험설계및분석 (학정번호: I040-3-9617-01)\n",
      "9. 영상AI생성모델 (학정번호: I040-4-5471-01)\n"
     ]
    }
   ],
   "source": [
    "print(answer_query(\"팀플 없는 강의 알려줘\"))"
   ]
  },
  {
   "cell_type": "code",
   "execution_count": 224,
   "id": "842a610d-9815-4388-9bc9-4c92a75f811c",
   "metadata": {},
   "outputs": [
    {
     "name": "stdout",
     "output_type": "stream",
     "text": [
      "팀플이 적은 강의는 다음과 같습니다:\n",
      "1. 빅데이터프로그래밍 (학정번호: I040-2-4501-01)\n",
      "2. 텍스트마이닝 (학정번호: I040-3-4139-01)\n",
      "3. 딥러닝프로그래밍 (학정번호: I040-4-4434-01)\n",
      "4. 산학협력캡스톤설계1 (학정번호: I040-4-8995-01)\n",
      "5. 데이터시각화 (학정번호: I040-4-9925-01)\n"
     ]
    }
   ],
   "source": [
    "print(answer_query(\"조별과제가 적은 강의 알려줘\"))"
   ]
  },
  {
   "cell_type": "code",
   "execution_count": 225,
   "id": "86976424-dcc4-4c5b-bfbf-a776a7a740d8",
   "metadata": {},
   "outputs": [
    {
     "name": "stdout",
     "output_type": "stream",
     "text": [
      "팀플이 적은 강의는 다음과 같습니다:\n",
      "1. 빅데이터프로그래밍 (학정번호: I040-2-4501-01)\n",
      "2. 텍스트마이닝 (학정번호: I040-3-4139-01)\n",
      "3. 딥러닝프로그래밍 (학정번호: I040-4-4434-01)\n",
      "4. 산학협력캡스톤설계1 (학정번호: I040-4-8995-01)\n",
      "5. 데이터시각화 (학정번호: I040-4-9925-01)\n"
     ]
    }
   ],
   "source": [
    "print(answer_query(\"조별과제 적은 강의 알려줘\"))"
   ]
  },
  {
   "cell_type": "code",
   "execution_count": 226,
   "id": "a823cd45-3629-44fd-9dca-3e0b934b6302",
   "metadata": {},
   "outputs": [
    {
     "name": "stdout",
     "output_type": "stream",
     "text": [
      "팀플이 많은 강의는 다음과 같습니다:\n",
      "1. IoT시스템설계및실습 (학정번호: I040-3-4503-01)\n",
      "2. UX/UI디자인 (학정번호: I040-3-7737-01)\n",
      "3. 기계학습 (학정번호: I040-3-9151-01)\n"
     ]
    }
   ],
   "source": [
    "print(answer_query(\"조별과제 많은 강의 알려줘\"))"
   ]
  },
  {
   "cell_type": "code",
   "execution_count": 221,
   "id": "c0bab594-283e-4f0e-92a1-7ea29e29a288",
   "metadata": {},
   "outputs": [
    {
     "name": "stdout",
     "output_type": "stream",
     "text": [
      "팀플이 많은 강의는 다음과 같습니다:\n",
      "1. IoT시스템설계및실습 (학정번호: I040-3-4503-01)\n",
      "2. UX/UI디자인 (학정번호: I040-3-7737-01)\n",
      "3. 기계학습 (학정번호: I040-3-9151-01)\n"
     ]
    }
   ],
   "source": [
    "print(answer_query(\"조별과제가 많은 강의 알려줘\"))"
   ]
  },
  {
   "cell_type": "code",
   "execution_count": 45,
   "id": "a9f87fda-153a-44be-a715-f92932758491",
   "metadata": {},
   "outputs": [
    {
     "name": "stdout",
     "output_type": "stream",
     "text": [
      "3학점짜리 전선 과목 목록입니다:\n",
      "1. 데이터시각화 (학정번호: I040-4-9925-01) - 조재희\n",
      "2. 인체데이터분석및실습 (학정번호: I000-2-5715-01) - 고찬영\n",
      "3. 공학설계입문 (학정번호: I000-1-2957-02) - 임재한\n",
      "4. 제어알고리즘설계및실습 (학정번호: I000-2-5702-01) - 고찬영\n",
      "5. 디지털헬스케어인공지능분석실무 (학정번호: I020-2-4888-01) - 교수명 없음\n"
     ]
    }
   ],
   "source": [
    "print(answer_query(\"전선 중 3학점 5개만 추천해줘\"))"
   ]
  },
  {
   "cell_type": "code",
   "execution_count": 92,
   "id": "71cb17b9-acb4-47af-b1b9-4dac754e7af4",
   "metadata": {},
   "outputs": [
    {
     "name": "stdout",
     "output_type": "stream",
     "text": [
      "3학점짜리 전필, 전선 과목 목록입니다:\n",
      "1. 딥러닝프로그래밍 (학정번호: I040-4-4434-01) - 김준석\n",
      "2. 성공적인창업계획 (학정번호: 5080-4-7882-01) - 이현경\n",
      "3. 컴퓨터그래픽스 (학정번호: I040-3-3951-01) - 김동준\n",
      "4. 영상AI생성모델 (학정번호: I040-4-5471-01) - 김동준\n",
      "5. 창의설계입문 (학정번호: I000-1-3674-01) - 신원경\n"
     ]
    }
   ],
   "source": [
    "print(answer_query(\"전공 중 3학점 5개만 추천해줘\"))"
   ]
  },
  {
   "cell_type": "code",
   "execution_count": 47,
   "id": "2a8b9514-406e-403e-843b-438f10999cd2",
   "metadata": {},
   "outputs": [
    {
     "name": "stdout",
     "output_type": "stream",
     "text": [
      "3학점짜리 교필, 교선 과목 목록입니다:\n",
      "1. 실용중국어문법 (학정번호: 0000-2-6526-01) - 곡효운\n",
      "2. 평생교육론 (학정번호: 0000-1-7468-01) - 김성길\n",
      "3. C프로그래밍 (학정번호: 0000-1-0019-09) - 박상준\n",
      "4. 대학수학및연습1 (학정번호: 0000-1-4625-16) - 김원주\n",
      "5. 한국가족의역사와현재 (학정번호: 0000-2-4833-01) - 김인호\n"
     ]
    }
   ],
   "source": [
    "print(answer_query(\"교양 중 3학점 5개만 추천해줘\"))"
   ]
  },
  {
   "cell_type": "code",
   "execution_count": 93,
   "id": "c9d14181-7eee-4979-a61a-1c4116dab887",
   "metadata": {},
   "outputs": [
    {
     "name": "stdout",
     "output_type": "stream",
     "text": [
      "2학점짜리 교필, 교선 과목 목록입니다:\n",
      "1. 탁구 (학정번호: 0000-1-1679-01) - 박현애\n",
      "2. 스케이팅 (학정번호: 0000-1-2238-01) - 정재은\n",
      "3. 웰니스트레이닝 (학정번호: 0000-1-5684-02) - 박인혜\n",
      "4. 사회봉사1 (학정번호: 0000-1-3902-01) - 임안나\n",
      "5. 저작권과스마트폰의이해 (학정번호: 0000-1-8129-01) - 건국대학교 정연덕\n"
     ]
    }
   ],
   "source": [
    "print(answer_query(\"교양 중 2학점 5개만 추천해줘\"))"
   ]
  },
  {
   "cell_type": "code",
   "execution_count": 219,
   "id": "c5f50ed0-4282-41fc-a902-2fbb48d6387f",
   "metadata": {},
   "outputs": [
    {
     "name": "stdout",
     "output_type": "stream",
     "text": [
      "3학년 1학기에 들을 만한 과목으로는 \"고급C프로그래밍\", \"자료구조\", \"컴퓨터네트워크\", \"모바일프로그래밍\"이 있습니다. 이 과목들은 전공 필수 및 선택 과목으로, 정보융합학부에서 학습하는 데 도움이 될 것입니다.\n"
     ]
    }
   ],
   "source": [
    "print(answer_query(\"3학년 1학기에 들을 만한 과목 추천해줘.\"))"
   ]
  },
  {
   "cell_type": "markdown",
   "id": "b2cea686-d775-4793-946b-b256d8657ba9",
   "metadata": {
    "jp-MarkdownHeadingCollapsed": true
   },
   "source": [
    "#### 학업현황"
   ]
  },
  {
   "cell_type": "markdown",
   "id": "eade7a7e-d1ed-4207-acbf-5b0488e353e6",
   "metadata": {
    "jp-MarkdownHeadingCollapsed": true
   },
   "source": [
    "###### 졸업"
   ]
  },
  {
   "cell_type": "code",
   "execution_count": 118,
   "id": "2f6fa36f-492b-4057-8d49-0f32fefd1a84",
   "metadata": {},
   "outputs": [
    {
     "data": {
      "text/plain": [
       "'교필 과목인 광운인되기를 이수하지 않았습니다.'"
      ]
     },
     "execution_count": 118,
     "metadata": {},
     "output_type": "execute_result"
    }
   ],
   "source": [
    "answer_query(\"졸업 필수 과목을 다 들었어?\", user_id=\"hong\")"
   ]
  },
  {
   "cell_type": "code",
   "execution_count": 117,
   "id": "66445514-e7e0-47c6-8ae7-980974f8af39",
   "metadata": {},
   "outputs": [
    {
     "data": {
      "text/plain": [
       "'홍데사님의 현재까지 이수한 학점은 69학점이며, 졸업을 위해 64학점이 더 필요합니다.'"
      ]
     },
     "execution_count": 117,
     "metadata": {},
     "output_type": "execute_result"
    }
   ],
   "source": [
    "answer_query(\"졸업하려면 몇 학점 남았어?\", user_id=\"hong\")"
   ]
  },
  {
   "cell_type": "code",
   "execution_count": 156,
   "id": "d21e69f3-6efd-468b-907a-540f05814d9b",
   "metadata": {},
   "outputs": [
    {
     "data": {
      "text/plain": [
       "'졸업하기 위해서는 졸업 논문 혹은 졸업 프로젝트 둘 중 하나는 필수입니다.'"
      ]
     },
     "execution_count": 156,
     "metadata": {},
     "output_type": "execute_result"
    }
   ],
   "source": [
    "answer_query(\"졸업 논문이나 졸업 프로젝트가 필수야??\", user_id=\"hong\")"
   ]
  },
  {
   "cell_type": "code",
   "execution_count": 155,
   "id": "b99a4470-b2ab-4f0f-b5d8-7d24e61c5f96",
   "metadata": {},
   "outputs": [
    {
     "data": {
      "text/plain": [
       "'졸업 논문은 필수입니다.'"
      ]
     },
     "execution_count": 155,
     "metadata": {},
     "output_type": "execute_result"
    }
   ],
   "source": [
    "answer_query(\"졸업 논문 필수야??\", user_id=\"hong\")"
   ]
  },
  {
   "cell_type": "code",
   "execution_count": 154,
   "id": "f63ea16c-f0a0-4c08-9f20-37ce56250dd9",
   "metadata": {},
   "outputs": [
    {
     "data": {
      "text/plain": [
       "'빠르면 3학년부터 준비하는 경우도 있지만, 대부분 3학년 2학기부터 팀을 구한 후 4학년 때 프로젝트를 진행합니다. 논문의 경우도 대부분 4학년 때 준비합니다.'"
      ]
     },
     "execution_count": 154,
     "metadata": {},
     "output_type": "execute_result"
    }
   ],
   "source": [
    "answer_query(\"졸업 논문이나 프로젝트는 언제부터 준비해야 할까?\", user_id=\"hong\")"
   ]
  },
  {
   "cell_type": "code",
   "execution_count": 79,
   "id": "eebd3810-54c3-4009-9353-a108f19b068e",
   "metadata": {},
   "outputs": [
    {
     "data": {
      "text/plain": [
       "'졸업까지 최소 4학기가 남았습니다.'"
      ]
     },
     "execution_count": 79,
     "metadata": {},
     "output_type": "execute_result"
    }
   ],
   "source": [
    "answer_query(\"졸업까지 최소 몇 학기 남았어?\", user_id=\"kim\")"
   ]
  },
  {
   "cell_type": "code",
   "execution_count": 149,
   "id": "296215d1-aa0b-43f8-8a31-0539b633ca8f",
   "metadata": {},
   "outputs": [
    {
     "data": {
      "text/plain": [
       "'아니요. 우리 학교에서는 졸업 유예 신청이 불가능합니다.'"
      ]
     },
     "execution_count": 149,
     "metadata": {},
     "output_type": "execute_result"
    }
   ],
   "source": [
    "answer_query(\"우리 학교에서 졸업 유예 신청이 가능해?\", user_id=\"hong\")"
   ]
  },
  {
   "cell_type": "code",
   "execution_count": 152,
   "id": "51451e6a-54b8-4903-ba3c-01358f162f91",
   "metadata": {},
   "outputs": [
    {
     "data": {
      "text/plain": [
       "'조기 졸업 가능 조건은 6학기 말까지 114학점 이상 취득(계절수업 제외), 7개 학기 이상 이수자로 학칙시행세칙 제16조 평점평균의 산출에 따른 총 평점평균이 4.3 이상인 자(학적부성적 기준), 조기졸업 신청 당해 학기까지 취득한 전과목 성적이 B0 이상인 자(학적부성적 기준)입니다. 현재 C+ 이하의 성적이 존재하므로 재수강을 통해 성적을 개선하고 평점 평균을 4.3 이상으로 만든다면 조기 졸업이 가능합니다.'"
      ]
     },
     "execution_count": 152,
     "metadata": {},
     "output_type": "execute_result"
    }
   ],
   "source": [
    "answer_query(\"조기 졸업이 가능한 상황이야?\", user_id=\"hong\")"
   ]
  },
  {
   "cell_type": "markdown",
   "id": "270c3ff2-9743-4b1c-a26a-175b297d9e14",
   "metadata": {
    "jp-MarkdownHeadingCollapsed": true
   },
   "source": [
    "##### 재수강"
   ]
  },
  {
   "cell_type": "code",
   "execution_count": 131,
   "id": "66654de5-a7d7-47b8-a35e-0cb92c3db703",
   "metadata": {},
   "outputs": [
    {
     "data": {
      "text/plain": [
       "'AI수학: A0 / 정보디자인프로그래밍: A0 → 예상 평점: 3.85'"
      ]
     },
     "execution_count": 131,
     "metadata": {},
     "output_type": "execute_result"
    }
   ],
   "source": [
    "answer_query(\"지금 재수강가능한 과목들을 A0로 성적올리면 전체 학점이 어떻게 돼?\", user_id=\"kim\")"
   ]
  },
  {
   "cell_type": "code",
   "execution_count": 151,
   "id": "280cc986-4d89-424e-9b3d-5ae03be8f6f2",
   "metadata": {},
   "outputs": [
    {
     "data": {
      "text/plain": [
       "'지금 재수강 가능한 과목은 프로그래밍기초, 객체지향프로그래밍, 정보디자인프로그래밍입니다.'"
      ]
     },
     "execution_count": 151,
     "metadata": {},
     "output_type": "execute_result"
    }
   ],
   "source": [
    "answer_query(\"지금 재수강가능한 과목은 뭐야?\", user_id=\"hong\")"
   ]
  },
  {
   "cell_type": "code",
   "execution_count": 176,
   "id": "ac146d65-618b-4ac5-a8cc-9af152587fca",
   "metadata": {},
   "outputs": [
    {
     "data": {
      "text/plain": [
       "'홍데사님은 총 8번까지 재수강이 가능하며, 현재까지 1번 재수강하셨습니다. 따라서 7번 더 재수강할 수 있습니다.'"
      ]
     },
     "execution_count": 176,
     "metadata": {},
     "output_type": "execute_result"
    }
   ],
   "source": [
    "answer_query(\"재수강 가능한 횟수가 어떻게 돼?\", user_id=\"hong\")"
   ]
  },
  {
   "cell_type": "code",
   "execution_count": 177,
   "id": "243e39ea-5a7d-4e37-bc6e-40bb5b446271",
   "metadata": {},
   "outputs": [
    {
     "data": {
      "text/plain": [
       "'김브티님은 총 8번까지 재수강이 가능하며, 현재까지 1번 재수강하셨습니다. 따라서 7번 더 재수강할 수 있습니다.'"
      ]
     },
     "execution_count": 177,
     "metadata": {},
     "output_type": "execute_result"
    }
   ],
   "source": [
    "answer_query(\"재수강 가능한 횟수가 어떻게 돼?\", user_id=\"kim\")"
   ]
  },
  {
   "cell_type": "code",
   "execution_count": 178,
   "id": "bcce1fd6-320b-416c-be3a-d889e658d65a",
   "metadata": {},
   "outputs": [
    {
     "data": {
      "text/plain": [
       "'프로그래밍기초을 재수강했습니다.'"
      ]
     },
     "execution_count": 178,
     "metadata": {},
     "output_type": "execute_result"
    }
   ],
   "source": [
    "answer_query(\"내가 재수강한 과목이 뭔데?\", user_id=\"kim\")"
   ]
  },
  {
   "cell_type": "code",
   "execution_count": 171,
   "id": "da5e1fea-d1f8-42f8-a4a6-65fec1973acd",
   "metadata": {},
   "outputs": [
    {
     "data": {
      "text/plain": [
       "'학정번호 기준으로 동일한 학정번호가 있는 강의를 수강하시면 됩니다. 다만, 동일한 학정번호의 강의가 3년 이상 미개설 할 경우, C이하의 과목은 학점삭제 가능합니다. 자세한 내용은 학사에 문의하세요.'"
      ]
     },
     "execution_count": 171,
     "metadata": {},
     "output_type": "execute_result"
    }
   ],
   "source": [
    "answer_query(\"같은 과목을 재수강할 때 교수님이 바뀌거나 과목이 사라지면 어떻게 해야 해?\", user_id=\"hong\")"
   ]
  },
  {
   "cell_type": "code",
   "execution_count": 175,
   "id": "d35c2bd6-b67f-47ea-8ebc-0c88a80c189e",
   "metadata": {},
   "outputs": [
    {
     "data": {
      "text/plain": [
       "'재수강한 과목은 성적표에 ‘R’(Retake)로 표기되며, 재수강한 과목의 성적만 성적 및 학점에 반영됩니다.'"
      ]
     },
     "execution_count": 175,
     "metadata": {},
     "output_type": "execute_result"
    }
   ],
   "source": [
    "answer_query(\"재수강하면 성적표에 재수강 여부가 표시되나?\", user_id=\"hong\")"
   ]
  },
  {
   "cell_type": "code",
   "execution_count": 174,
   "id": "7ff5077e-eea3-4471-ac9c-42d55163aead",
   "metadata": {},
   "outputs": [
    {
     "data": {
      "text/plain": [
       "\"F 받은 과목은 재수강 시 '재수강' 표시가 뜨지 않지만, 재수강 이력은 남고 성적표에는 'R'로 표기됩니다.\""
      ]
     },
     "execution_count": 174,
     "metadata": {},
     "output_type": "execute_result"
    }
   ],
   "source": [
    "answer_query(\"F받고 재수강하면 재수강 이력이 남아?\", user_id=\"hong\")"
   ]
  },
  {
   "cell_type": "code",
   "execution_count": 172,
   "id": "194b45c1-9ef9-4a0c-9939-54efa8568ab4",
   "metadata": {},
   "outputs": [
    {
     "data": {
      "text/plain": [
       "'재수강 여부는 개인의 학업 목표와 상황에 따라 다르지만, 성적이 낮은 전공 과목을 재수강하는 것은 전공에 대한 이해도를 높이고 평점 평균을 개선하는 데 도움이 될 수 있습니다. 반면, 다른 전공 과목을 듣는다면 다양한 지식을 쌓을 수 있는 기회가 될 수 있습니다. 현재 성적을 고려할 때, 재수강이 가능한 전공 과목으로는 C+를 받은 객체지향프로그래밍 과목 / C+를 받은 정보디자인프로그래밍 과목이 있습니다.'"
      ]
     },
     "execution_count": 172,
     "metadata": {},
     "output_type": "execute_result"
    }
   ],
   "source": [
    "answer_query(\"성적이 낮은 전공 필수 과목을 재수강하는 게 나을까, 다른 전공 과목을 듣는 게 나을까?\", user_id=\"hong\")"
   ]
  },
  {
   "cell_type": "code",
   "execution_count": 173,
   "id": "f47e9e8a-0bdf-4ae0-9438-584891f30d9b",
   "metadata": {},
   "outputs": [
    {
     "data": {
      "text/plain": [
       "'C+ 이하인 동일과목은 최대 2회까지 재수강 가능하며, 전체 재학 중 재수강 가능한 교과목 수는 최대 8과목입니다. F 학점은 제외됩니다.'"
      ]
     },
     "execution_count": 173,
     "metadata": {},
     "output_type": "execute_result"
    }
   ],
   "source": [
    "answer_query(\"동일 과목은 재수강 몇 번 할 수 있어?\", user_id=\"hong\")"
   ]
  },
  {
   "cell_type": "markdown",
   "id": "b6ee8f41-be6b-4e6b-9555-f74be0f30cf5",
   "metadata": {
    "jp-MarkdownHeadingCollapsed": true
   },
   "source": [
    "##### 학업현황"
   ]
  },
  {
   "cell_type": "code",
   "execution_count": 87,
   "id": "7a46e39c-fa14-41a6-a0d9-6ab5f33d7833",
   "metadata": {},
   "outputs": [
    {
     "name": "stdout",
     "output_type": "stream",
     "text": [
      "홍데사님께서 현재까지 이수하신 과목 목록:\n",
      "전필: 객체지향프로그래밍(C+) / AI수학(A+) / 자료구조(B+) / 모바일프로그래밍(B+)\n",
      "전선: 고급C프로그래밍(B+) / 이산수학(B0) / 그래픽디자인(A+) / 창의설계입문(A0, R) / 빅데이터프로그래밍(B0) / 데이터베이스(B+) / 정보디자인프로그래밍(C+)\n",
      "교필: 프로그래밍기초(C+) / 융합적사고와글쓰기(B+) / 컴퓨팅사고(A+)\n",
      "교선: 대학수학및연습1(A+) / 스케이팅(B+) / 대학수학및연습2(A+) / 아카펠라(A0) / 범죄학(B+) / 대중문화와삶(B+) / 화폐와금융의과거,현재그리고미래(A+) / 사회학의이해(A0) / 생활속의생명과학(A+)\n"
     ]
    }
   ],
   "source": [
    "print(answer_query(\"지금까지 이수한 과목 리스트를 볼 수 있을까?\", user_id=\"hong\"))"
   ]
  },
  {
   "cell_type": "code",
   "execution_count": 179,
   "id": "f728453d-550d-4d62-a261-296e2565b1b3",
   "metadata": {},
   "outputs": [
    {
     "name": "stdout",
     "output_type": "stream",
     "text": [
      "김브티님께서 현재까지 이수하신 과목 목록:\n",
      "전필: 객체지향프로그래밍(B0) / AI수학(C+) / 자료구조(B+) / 모바일프로그래밍(A0)\n",
      "전선: 창의설계입문(A0) / 고급C프로그래밍(B+) / 이산수학(A0) / 그래픽디자인(B+) / 컴퓨터네트워크(A0) / 인터랙티브미디어개론(B0) / 인터랙티브심리학(A0) / 정보디자인프로그래밍(C+)\n",
      "교필: 프로그래밍기초(A0, R)\n",
      "교선: 대학수학및연습1(B+) / 초급중국어1(A0) / 경제와경영(A+) / 자연과학사(B+) / 대학수학및연습2(A+) / 환경과생태(B+) / 논리적으로사고하기(B+) / 인터넷활용(A+) / 사회학의이해(A0) / 생활속의생명과학(A+)\n"
     ]
    }
   ],
   "source": [
    "print(answer_query(\"지금까지 이수한 과목 리스트를 볼 수 있을까?\", user_id=\"kim\"))"
   ]
  },
  {
   "cell_type": "code",
   "execution_count": 78,
   "id": "6b9e70b4-fc6c-4832-8113-5abab4ee6430",
   "metadata": {},
   "outputs": [
    {
     "data": {
      "text/plain": [
       "'홍데사님의 전체 성적 평균은 3.7입니다.'"
      ]
     },
     "execution_count": 78,
     "metadata": {},
     "output_type": "execute_result"
    }
   ],
   "source": [
    "answer_query(\"전체 성적 평균이 어떻게 돼?\", user_id=\"hong\")"
   ]
  },
  {
   "cell_type": "markdown",
   "id": "19731d8f-6dd0-4bc0-9255-d69f8709189d",
   "metadata": {
    "jp-MarkdownHeadingCollapsed": true
   },
   "source": [
    "##### 장학금&휴학"
   ]
  },
  {
   "cell_type": "code",
   "execution_count": 186,
   "id": "4c0771ea-f4a7-40b1-9aa6-847fe3e96c04",
   "metadata": {},
   "outputs": [
    {
     "data": {
      "text/plain": [
       "'성적 장학금은 평량평균이 3.0 이상이며, 17학점 이상 취득(4학년은 12학점), 그 중 60% 이상이 전공 학점일 경우 자동 신청됩니다.'"
      ]
     },
     "execution_count": 186,
     "metadata": {},
     "output_type": "execute_result"
    }
   ],
   "source": [
    "answer_query(\"성적 장학금을 받기 위한 조건이 뭐야?\", user_id=\"hong\")"
   ]
  },
  {
   "cell_type": "code",
   "execution_count": 185,
   "id": "41a84b2c-fb54-40ef-82bd-a9c435d7fe0f",
   "metadata": {},
   "outputs": [
    {
     "data": {
      "text/plain": [
       "'화도·동해 장학금은 직전 학기 12학점 이상, 평점 2.0 이상이어야 신청 가능합니다.'"
      ]
     },
     "execution_count": 185,
     "metadata": {},
     "output_type": "execute_result"
    }
   ],
   "source": [
    "answer_query(\"화도 동해 장학금 최소 학점이 얼마야? \", user_id=\"hong\")"
   ]
  },
  {
   "cell_type": "code",
   "execution_count": 184,
   "id": "b109e32f-962c-4bef-b54e-61136bca1c50",
   "metadata": {},
   "outputs": [
    {
     "data": {
      "text/plain": [
       "'일반휴학을 최대 6학기(3년) 할 수 있으며, 한 번 신청 시 최대 2학기 가능합니다. 군휴학 및 창업휴학은 일반휴학 기간에 포함되지 않습니다. 특별한 사유가 있을 경우 추가 휴학이 가능할 수도 있습니다. (단, 일반휴학기간은 한 번에 두 학기를 초과하지 못하며, 통산 3년(6학기)(연속해서는 2년)을 초과하지 못합니다.)'"
      ]
     },
     "execution_count": 184,
     "metadata": {},
     "output_type": "execute_result"
    }
   ],
   "source": [
    "answer_query(\"휴학은 최대 몇 번까지 가능해?\", user_id=\"hong\")"
   ]
  },
  {
   "cell_type": "markdown",
   "id": "b9d09102-55bf-4a62-ae5f-40043a6b2ccd",
   "metadata": {
    "jp-MarkdownHeadingCollapsed": true
   },
   "source": [
    "#### 진로상담"
   ]
  },
  {
   "cell_type": "code",
   "execution_count": 220,
   "id": "d3770c24-d5e2-47cc-98be-ceec330b47a9",
   "metadata": {},
   "outputs": [
    {
     "name": "stdout",
     "output_type": "stream",
     "text": [
      "전공과 관련된 직무를 결정하는 데 도움이 될 수 있는 몇 가지 방법이 있습니다. 우선, 본인이 수강한 과목들을 다시 살펴보며 어떤 과목에서 흥미를 느꼈는지, 또는 어떤 과목에서 좋은 성적을 받았는지를 고려해보세요. 예를 들어, 경제와경영에서 A+를 받으셨고, 대학수학및연습1과 대학수학및연습2에서도 A+를 받으셨습니다. 이러한 과목들은 데이터 분석이나 경제 관련 직무에 적합할 수 있습니다.\n",
      "\n",
      "또한, 다양한 직무에 대한 정보를 수집하고, 인턴십이나 프로젝트에 참여하여 실무 경험을 쌓는 것도 좋습니다. 이를 통해 자신에게 맞는 직무를 찾는 데 도움이 될 것입니다. 마지막으로, 멘토나 교수님과 상담하여 조언을 받는 것도 좋은 방법입니다.\n"
     ]
    }
   ],
   "source": [
    "print(answer_query(\"현재 DS 전공을 하고 있는데 직무를 못 정하고 있는데 어떻게 해야 할까?\"))"
   ]
  },
  {
   "cell_type": "code",
   "execution_count": null,
   "id": "1727a91d-e678-4676-81ef-ef4970a97491",
   "metadata": {},
   "outputs": [],
   "source": []
  },
  {
   "cell_type": "code",
   "execution_count": null,
   "id": "24831169-99e2-4841-9384-a1f0723bc2fe",
   "metadata": {},
   "outputs": [],
   "source": []
  },
  {
   "cell_type": "markdown",
   "id": "b11de50e-799d-49ed-b7d5-8694c221f929",
   "metadata": {
    "jp-MarkdownHeadingCollapsed": true
   },
   "source": [
    "#### 유사도 검사"
   ]
  },
  {
   "cell_type": "code",
   "execution_count": 132,
   "id": "a8d8131a-a30f-4867-8fb8-86fdcf56558b",
   "metadata": {},
   "outputs": [
    {
     "name": "stderr",
     "output_type": "stream",
     "text": [
      "C:\\Users\\문선장\\AppData\\Local\\Temp\\ipykernel_5764\\2873229418.py:6: LangChainDeprecationWarning: The class `Chroma` was deprecated in LangChain 0.2.9 and will be removed in 1.0. An updated version of the class exists in the :class:`~langchain-chroma package and should be used instead. To use it run `pip install -U :class:`~langchain-chroma` and import as `from :class:`~langchain_chroma import Chroma``.\n",
      "  db = Chroma(\n"
     ]
    },
    {
     "name": "stdout",
     "output_type": "stream",
     "text": [
      "김브티님의 현재까지 이수한 학점은 69학점이며, 졸업을 위해 64학점이 더 필요합니다.\n",
      "\n",
      "유사도: 1.2532\n",
      "학번: 2024204708\n",
      "강의명: 프로그래밍기초\n",
      "학정번호: I040-1-8610-01\n",
      "개설 학과: 정보융합학부\n",
      "이수 구분: 교필\n",
      "학점: 3학점\n",
      "성적: C0\n",
      "재수강/삭제 여부: Y ...\n",
      "김브티님의 현재까지 이수한 학점은 69학점이며, 졸업을 위해 64학점이 더 필요합니다.\n",
      "\n",
      "유사도: 1.2807\n",
      "학번: 2024204708\n",
      "강의명: 프로그래밍기초\n",
      "학정번호: I040-1-8610-01\n",
      "개설 학과: 정보융합학부\n",
      "이수 구분: 교필\n",
      "학점: 3학점\n",
      "성적: A0\n",
      "재수강 여부: R ...\n",
      "김브티님의 현재까지 이수한 학점은 69학점이며, 졸업을 위해 64학점이 더 필요합니다.\n",
      "\n",
      "유사도: 1.2870\n",
      "학번: 2024204708\n",
      "강의명: 대학수학및연습1\n",
      "학정번호: 0000-1-4625-08\n",
      "개설 학과: 전체공통\n",
      "이수 구분: 교선\n",
      "학점: 3학점\n",
      "성적: B+ ...\n"
     ]
    }
   ],
   "source": [
    "from langchain_community.vectorstores import Chroma\n",
    "\n",
    "query = \"나 졸업하려면 몇학점 남았어?\"\n",
    "\n",
    "# Chroma DB 연결\n",
    "db = Chroma(\n",
    "    persist_directory=\"./chroma_db\",\n",
    "    collection_name=\"lecture_search_kim\",\n",
    "    embedding_function=embeddings_model\n",
    ")\n",
    "\n",
    "# 유사 문서 검색 (상위 5개)\n",
    "similar_docs = db.similarity_search_with_score(query, k=3)\n",
    "\n",
    "# 결과 출력\n",
    "for doc, score in similar_docs:\n",
    "    print(answer_query(query, user_id=\"kim\"))\n",
    "    print(f\"\\n유사도: {score:.4f}\")\n",
    "    print(doc.page_content[:300], \"...\")"
   ]
  },
  {
   "cell_type": "code",
   "execution_count": 195,
   "id": "9aa5dce4-e72e-40f0-a52c-3b038f2fa9b4",
   "metadata": {},
   "outputs": [
    {
     "name": "stdout",
     "output_type": "stream",
     "text": [
      "김현경 교수님의 수업으로는 \"대학수학및연습2\", \"경제와경영\", \"생활속의생명과학\", \"인터넷활용\"에서 A+를 받으셨습니다. 이 과목들을 추천드립니다.\n",
      "\n",
      "유사도: 1.2029\n",
      "학번: 2024204708\n",
      "강의명: 사회학의이해\n",
      "학정번호: 0000-1-3948-01\n",
      "개설 학과: 전체공통\n",
      "이수 구분: 교선\n",
      "학점: 3학점\n",
      "성적: A0 ...\n",
      "김현경 교수님의 수업으로는 \"대학수학및연습2\", \"경제와경영\", \"생활속의생명과학\", \"인터넷활용\"에서 A+를 받으셨습니다. 이 과목들을 추천드립니다.\n",
      "\n",
      "유사도: 1.2087\n",
      "학번: 2024204708\n",
      "강의명: 대학수학및연습2\n",
      "학정번호: 0000-1-4626-11\n",
      "개설 학과: 전체공통\n",
      "이수 구분: 교선\n",
      "학점: 3학점\n",
      "성적: A+ ...\n",
      "김현경 교수님의 수업으로는 \"대학수학및연습2\", \"경제와경영\", \"생활속의생명과학\", \"인터넷활용\"에서 A+를 받으셨습니다. 이 과목들을 추천드립니다.\n",
      "\n",
      "유사도: 1.2135\n",
      "학번: 2024204708\n",
      "강의명: 환경과생태\n",
      "학정번호: 0000-2-2994-01\n",
      "개설 학과: 전체공통\n",
      "이수 구분: 교선\n",
      "학점: 3학점\n",
      "성적: B+ ...\n"
     ]
    }
   ],
   "source": [
    "from langchain_community.vectorstores import Chroma\n",
    "\n",
    "query = \"김현경 교수님 수업 추천해줘\"\n",
    "\n",
    "# Chroma DB 연결\n",
    "db = Chroma(\n",
    "    persist_directory=\"./chroma_db\",\n",
    "    collection_name=\"lecture_search_kim\",\n",
    "    embedding_function=embeddings_model\n",
    ")\n",
    "\n",
    "# 유사 문서 검색 (상위 5개)\n",
    "similar_docs = db.similarity_search_with_score(query, k=3)\n",
    "\n",
    "# 결과 출력\n",
    "for doc, score in similar_docs:\n",
    "    print(answer_query(query, user_id=\"kim\"))\n",
    "    print(f\"\\n유사도: {score:.4f}\")\n",
    "    print(doc.page_content[:300], \"...\")"
   ]
  },
  {
   "cell_type": "code",
   "execution_count": 134,
   "id": "fa670faa-39f9-4626-9f6a-1989fdca69d1",
   "metadata": {},
   "outputs": [
    {
     "name": "stdout",
     "output_type": "stream",
     "text": [
      "목요일에 듣는 운동 교양 과목은 없습니다. 다른 과목에 대한 정보가 필요하시면 말씀해 주세요.\n",
      "\n",
      "유사도: 1.2402\n",
      "학정번호: 0000-3-3200-02\n",
      "강의명: 운동과건강\n",
      "강의평점: \n",
      "과제: \n",
      "팀플: \n",
      "성적평가정도: \n",
      "출결 방식: \n",
      "시험 횟수: \n",
      "시험 방식: \n",
      "전공 학점: 없음\n",
      "교양 학점: 없음\n",
      "총 학점: 없음\n",
      "교수명: \n",
      "수업 시간: 목1,2\n",
      "강의 유형: 교선\n",
      "학점: 3시간\n",
      "학기: 학기\n",
      "강의 설명: 영역: 6 ...\n",
      "목요일에 듣는 운동 교양 과목은 없습니다. 다른 과목에 대한 정보가 필요하시면 말씀해 주세요.\n",
      "\n",
      "유사도: 1.2444\n",
      "학정번호: 0000-3-3200-03\n",
      "강의명: 운동과건강\n",
      "강의평점: \n",
      "과제: \n",
      "팀플: \n",
      "성적평가정도: \n",
      "출결 방식: \n",
      "시험 횟수: \n",
      "시험 방식: \n",
      "전공 학점: 없음\n",
      "교양 학점: 없음\n",
      "총 학점: 없음\n",
      "교수명: \n",
      "수업 시간: 토5,6\n",
      "강의 유형: 교선\n",
      "학점: 3시간\n",
      "학기: 학기\n",
      "강의 설명: 영역: 6 ...\n",
      "목요일에 듣는 운동 교양 과목은 없습니다. 다른 과목에 대한 정보가 필요하시면 말씀해 주세요.\n",
      "\n",
      "유사도: 1.2496\n",
      "학정번호: 0000-3-3200-01\n",
      "강의명: 운동과건강\n",
      "강의평점: \n",
      "과제: \n",
      "팀플: \n",
      "성적평가정도: \n",
      "출결 방식: \n",
      "시험 횟수: \n",
      "시험 방식: \n",
      "전공 학점: 없음\n",
      "교양 학점: 없음\n",
      "총 학점: 없음\n",
      "교수명: \n",
      "수업 시간: 목3,4\n",
      "강의 유형: 교선\n",
      "학점: 3시간\n",
      "학기: 학기\n",
      "강의 설명: 영역: 6 ...\n"
     ]
    }
   ],
   "source": [
    "from langchain_community.vectorstores import Chroma\n",
    "\n",
    "query = \"목요일에 듣는 운동 교양 2개 추천해줘?\"\n",
    "\n",
    "# Chroma DB 연결\n",
    "db = Chroma(\n",
    "    persist_directory=\"./chroma_db\",\n",
    "    collection_name=\"lecture_search\",\n",
    "    embedding_function=embeddings_model\n",
    ")\n",
    "\n",
    "# 유사 문서 검색 (상위 5개)\n",
    "similar_docs = db.similarity_search_with_score(query, k=3)\n",
    "\n",
    "# 결과 출력\n",
    "for doc, score in similar_docs:\n",
    "    print(answer_query(query))\n",
    "    print(f\"\\n유사도: {score:.4f}\")\n",
    "    print(doc.page_content[:300], \"...\")"
   ]
  },
  {
   "cell_type": "code",
   "execution_count": 135,
   "id": "3b7a152c-b538-42da-9f14-abda150ff373",
   "metadata": {},
   "outputs": [
    {
     "name": "stdout",
     "output_type": "stream",
     "text": [
      "1 영역은 전체공통입니다.\n"
     ]
    }
   ],
   "source": [
    "print(answer_query(\"1 영역이 뭐야?\"))"
   ]
  },
  {
   "cell_type": "code",
   "execution_count": 136,
   "id": "b8a81bff-8b6f-4286-8b8e-8193987a238b",
   "metadata": {},
   "outputs": [
    {
     "name": "stdout",
     "output_type": "stream",
     "text": [
      "2영역은 정보융합학부와 관련된 과목들로 구성되어 있습니다.\n"
     ]
    }
   ],
   "source": [
    "print(answer_query(\"2영역이 뭐야?\"))"
   ]
  },
  {
   "cell_type": "code",
   "execution_count": 137,
   "id": "3981af08-9c5e-4ca3-98ae-6f47c0a3c357",
   "metadata": {},
   "outputs": [
    {
     "name": "stdout",
     "output_type": "stream",
     "text": [
      "3 영역은 전선, 교선, 전필로 구성되어 있습니다.\n"
     ]
    }
   ],
   "source": [
    "print(answer_query(\"3 영역이 뭐야?\"))"
   ]
  }
 ],
 "metadata": {
  "kernelspec": {
   "display_name": "Python 3 (ipykernel)",
   "language": "python",
   "name": "python3"
  },
  "language_info": {
   "codemirror_mode": {
    "name": "ipython",
    "version": 3
   },
   "file_extension": ".py",
   "mimetype": "text/x-python",
   "name": "python",
   "nbconvert_exporter": "python",
   "pygments_lexer": "ipython3",
   "version": "3.13.3"
  }
 },
 "nbformat": 4,
 "nbformat_minor": 5
}
