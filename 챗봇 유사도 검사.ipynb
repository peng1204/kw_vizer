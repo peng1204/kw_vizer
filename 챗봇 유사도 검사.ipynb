{
 "cells": [
  {
   "cell_type": "code",
   "execution_count": 1,
   "id": "7e5f44c8-0494-45b0-97e0-d8627a641bf4",
   "metadata": {
    "collapsed": true,
    "jupyter": {
     "outputs_hidden": true
    },
    "scrolled": true
   },
   "outputs": [
    {
     "name": "stdout",
     "output_type": "stream",
     "text": [
      "Requirement already satisfied: langchain in c:\\users\\문선장\\appdata\\local\\programs\\python\\python313\\lib\\site-packages (0.3.23)\n",
      "Requirement already satisfied: langchain-openai in c:\\users\\문선장\\appdata\\local\\programs\\python\\python313\\lib\\site-packages (0.3.16)\n",
      "Requirement already satisfied: langchain-community in c:\\users\\문선장\\appdata\\local\\programs\\python\\python313\\lib\\site-packages (0.3.21)\n",
      "Requirement already satisfied: langchain-text-splitters in c:\\users\\문선장\\appdata\\local\\programs\\python\\python313\\lib\\site-packages (0.3.8)\n",
      "Requirement already satisfied: sentence-transformers in c:\\users\\문선장\\appdata\\local\\programs\\python\\python313\\lib\\site-packages (4.1.0)\n",
      "Requirement already satisfied: pypdfium2 in c:\\users\\문선장\\appdata\\local\\programs\\python\\python313\\lib\\site-packages (4.30.1)\n",
      "Requirement already satisfied: chromadb in c:\\users\\문선장\\appdata\\local\\programs\\python\\python313\\lib\\site-packages (0.6.3)\n",
      "Requirement already satisfied: langchain-chroma in c:\\users\\문선장\\appdata\\local\\programs\\python\\python313\\lib\\site-packages (0.2.3)\n",
      "Requirement already satisfied: langchain-core<1.0.0,>=0.3.51 in c:\\users\\문선장\\appdata\\local\\programs\\python\\python313\\lib\\site-packages (from langchain) (0.3.58)\n",
      "Requirement already satisfied: langsmith<0.4,>=0.1.17 in c:\\users\\문선장\\appdata\\local\\programs\\python\\python313\\lib\\site-packages (from langchain) (0.3.30)\n",
      "Requirement already satisfied: pydantic<3.0.0,>=2.7.4 in c:\\users\\문선장\\appdata\\local\\programs\\python\\python313\\lib\\site-packages (from langchain) (2.11.3)\n",
      "Requirement already satisfied: SQLAlchemy<3,>=1.4 in c:\\users\\문선장\\appdata\\local\\programs\\python\\python313\\lib\\site-packages (from langchain) (2.0.40)\n",
      "Requirement already satisfied: requests<3,>=2 in c:\\users\\문선장\\appdata\\local\\programs\\python\\python313\\lib\\site-packages (from langchain) (2.32.3)\n",
      "Requirement already satisfied: PyYAML>=5.3 in c:\\users\\문선장\\appdata\\local\\programs\\python\\python313\\lib\\site-packages (from langchain) (6.0.2)\n",
      "Requirement already satisfied: openai<2.0.0,>=1.68.2 in c:\\users\\문선장\\appdata\\local\\programs\\python\\python313\\lib\\site-packages (from langchain-openai) (1.73.0)\n",
      "Requirement already satisfied: tiktoken<1,>=0.7 in c:\\users\\문선장\\appdata\\local\\programs\\python\\python313\\lib\\site-packages (from langchain-openai) (0.9.0)\n",
      "Requirement already satisfied: aiohttp<4.0.0,>=3.8.3 in c:\\users\\문선장\\appdata\\local\\programs\\python\\python313\\lib\\site-packages (from langchain-community) (3.11.16)\n",
      "Requirement already satisfied: tenacity!=8.4.0,<10,>=8.1.0 in c:\\users\\문선장\\appdata\\local\\programs\\python\\python313\\lib\\site-packages (from langchain-community) (9.1.2)\n",
      "Requirement already satisfied: dataclasses-json<0.7,>=0.5.7 in c:\\users\\문선장\\appdata\\local\\programs\\python\\python313\\lib\\site-packages (from langchain-community) (0.6.7)\n",
      "Requirement already satisfied: pydantic-settings<3.0.0,>=2.4.0 in c:\\users\\문선장\\appdata\\local\\programs\\python\\python313\\lib\\site-packages (from langchain-community) (2.8.1)\n",
      "Requirement already satisfied: httpx-sse<1.0.0,>=0.4.0 in c:\\users\\문선장\\appdata\\local\\programs\\python\\python313\\lib\\site-packages (from langchain-community) (0.4.0)\n",
      "Requirement already satisfied: numpy<3,>=1.26.2 in c:\\users\\문선장\\appdata\\local\\programs\\python\\python313\\lib\\site-packages (from langchain-community) (2.2.4)\n",
      "Requirement already satisfied: transformers<5.0.0,>=4.41.0 in c:\\users\\문선장\\appdata\\local\\programs\\python\\python313\\lib\\site-packages (from sentence-transformers) (4.51.3)\n",
      "Requirement already satisfied: tqdm in c:\\users\\문선장\\appdata\\local\\programs\\python\\python313\\lib\\site-packages (from sentence-transformers) (4.67.1)\n",
      "Requirement already satisfied: torch>=1.11.0 in c:\\users\\문선장\\appdata\\local\\programs\\python\\python313\\lib\\site-packages (from sentence-transformers) (2.7.0)\n",
      "Requirement already satisfied: scikit-learn in c:\\users\\문선장\\appdata\\local\\programs\\python\\python313\\lib\\site-packages (from sentence-transformers) (1.6.1)\n",
      "Requirement already satisfied: scipy in c:\\users\\문선장\\appdata\\local\\programs\\python\\python313\\lib\\site-packages (from sentence-transformers) (1.15.2)\n",
      "Requirement already satisfied: huggingface-hub>=0.20.0 in c:\\users\\문선장\\appdata\\local\\programs\\python\\python313\\lib\\site-packages (from sentence-transformers) (0.30.2)\n",
      "Requirement already satisfied: Pillow in c:\\users\\문선장\\appdata\\local\\programs\\python\\python313\\lib\\site-packages (from sentence-transformers) (11.2.1)\n",
      "Requirement already satisfied: typing_extensions>=4.5.0 in c:\\users\\문선장\\appdata\\local\\programs\\python\\python313\\lib\\site-packages (from sentence-transformers) (4.13.0)\n",
      "Requirement already satisfied: build>=1.0.3 in c:\\users\\문선장\\appdata\\local\\programs\\python\\python313\\lib\\site-packages (from chromadb) (1.2.2.post1)\n",
      "Requirement already satisfied: chroma-hnswlib==0.7.6 in c:\\users\\문선장\\appdata\\local\\programs\\python\\python313\\lib\\site-packages (from chromadb) (0.7.6)\n",
      "Requirement already satisfied: fastapi>=0.95.2 in c:\\users\\문선장\\appdata\\local\\programs\\python\\python313\\lib\\site-packages (from chromadb) (0.115.9)\n",
      "Requirement already satisfied: uvicorn>=0.18.3 in c:\\users\\문선장\\appdata\\local\\programs\\python\\python313\\lib\\site-packages (from uvicorn[standard]>=0.18.3->chromadb) (0.34.1)\n",
      "Requirement already satisfied: posthog>=2.4.0 in c:\\users\\문선장\\appdata\\local\\programs\\python\\python313\\lib\\site-packages (from chromadb) (3.24.1)\n",
      "Requirement already satisfied: onnxruntime>=1.14.1 in c:\\users\\문선장\\appdata\\local\\programs\\python\\python313\\lib\\site-packages (from chromadb) (1.21.0)\n",
      "Requirement already satisfied: opentelemetry-api>=1.2.0 in c:\\users\\문선장\\appdata\\local\\programs\\python\\python313\\lib\\site-packages (from chromadb) (1.32.0)\n",
      "Requirement already satisfied: opentelemetry-exporter-otlp-proto-grpc>=1.2.0 in c:\\users\\문선장\\appdata\\local\\programs\\python\\python313\\lib\\site-packages (from chromadb) (1.32.0)\n",
      "Requirement already satisfied: opentelemetry-instrumentation-fastapi>=0.41b0 in c:\\users\\문선장\\appdata\\local\\programs\\python\\python313\\lib\\site-packages (from chromadb) (0.53b0)\n",
      "Requirement already satisfied: opentelemetry-sdk>=1.2.0 in c:\\users\\문선장\\appdata\\local\\programs\\python\\python313\\lib\\site-packages (from chromadb) (1.32.0)\n",
      "Requirement already satisfied: tokenizers>=0.13.2 in c:\\users\\문선장\\appdata\\local\\programs\\python\\python313\\lib\\site-packages (from chromadb) (0.21.1)\n",
      "Requirement already satisfied: pypika>=0.48.9 in c:\\users\\문선장\\appdata\\local\\programs\\python\\python313\\lib\\site-packages (from chromadb) (0.48.9)\n",
      "Requirement already satisfied: overrides>=7.3.1 in c:\\users\\문선장\\appdata\\local\\programs\\python\\python313\\lib\\site-packages (from chromadb) (7.7.0)\n",
      "Requirement already satisfied: importlib-resources in c:\\users\\문선장\\appdata\\local\\programs\\python\\python313\\lib\\site-packages (from chromadb) (6.5.2)\n",
      "Requirement already satisfied: grpcio>=1.58.0 in c:\\users\\문선장\\appdata\\local\\programs\\python\\python313\\lib\\site-packages (from chromadb) (1.71.0)\n",
      "Requirement already satisfied: bcrypt>=4.0.1 in c:\\users\\문선장\\appdata\\local\\programs\\python\\python313\\lib\\site-packages (from chromadb) (4.3.0)\n",
      "Requirement already satisfied: typer>=0.9.0 in c:\\users\\문선장\\appdata\\local\\programs\\python\\python313\\lib\\site-packages (from chromadb) (0.15.2)\n",
      "Requirement already satisfied: kubernetes>=28.1.0 in c:\\users\\문선장\\appdata\\local\\programs\\python\\python313\\lib\\site-packages (from chromadb) (32.0.1)\n",
      "Requirement already satisfied: mmh3>=4.0.1 in c:\\users\\문선장\\appdata\\local\\programs\\python\\python313\\lib\\site-packages (from chromadb) (5.1.0)\n",
      "Requirement already satisfied: orjson>=3.9.12 in c:\\users\\문선장\\appdata\\local\\programs\\python\\python313\\lib\\site-packages (from chromadb) (3.10.16)\n",
      "Requirement already satisfied: httpx>=0.27.0 in c:\\users\\문선장\\appdata\\local\\programs\\python\\python313\\lib\\site-packages (from chromadb) (0.28.1)\n",
      "Requirement already satisfied: rich>=10.11.0 in c:\\users\\문선장\\appdata\\local\\programs\\python\\python313\\lib\\site-packages (from chromadb) (14.0.0)\n",
      "Requirement already satisfied: aiohappyeyeballs>=2.3.0 in c:\\users\\문선장\\appdata\\local\\programs\\python\\python313\\lib\\site-packages (from aiohttp<4.0.0,>=3.8.3->langchain-community) (2.6.1)\n",
      "Requirement already satisfied: aiosignal>=1.1.2 in c:\\users\\문선장\\appdata\\local\\programs\\python\\python313\\lib\\site-packages (from aiohttp<4.0.0,>=3.8.3->langchain-community) (1.3.2)\n",
      "Requirement already satisfied: attrs>=17.3.0 in c:\\users\\문선장\\appdata\\local\\programs\\python\\python313\\lib\\site-packages (from aiohttp<4.0.0,>=3.8.3->langchain-community) (25.3.0)\n",
      "Requirement already satisfied: frozenlist>=1.1.1 in c:\\users\\문선장\\appdata\\local\\programs\\python\\python313\\lib\\site-packages (from aiohttp<4.0.0,>=3.8.3->langchain-community) (1.5.0)\n",
      "Requirement already satisfied: multidict<7.0,>=4.5 in c:\\users\\문선장\\appdata\\local\\programs\\python\\python313\\lib\\site-packages (from aiohttp<4.0.0,>=3.8.3->langchain-community) (6.4.3)\n",
      "Requirement already satisfied: propcache>=0.2.0 in c:\\users\\문선장\\appdata\\local\\programs\\python\\python313\\lib\\site-packages (from aiohttp<4.0.0,>=3.8.3->langchain-community) (0.3.1)\n",
      "Requirement already satisfied: yarl<2.0,>=1.17.0 in c:\\users\\문선장\\appdata\\local\\programs\\python\\python313\\lib\\site-packages (from aiohttp<4.0.0,>=3.8.3->langchain-community) (1.19.0)\n",
      "Requirement already satisfied: packaging>=19.1 in c:\\users\\문선장\\appdata\\local\\programs\\python\\python313\\lib\\site-packages (from build>=1.0.3->chromadb) (24.2)\n",
      "Requirement already satisfied: pyproject_hooks in c:\\users\\문선장\\appdata\\local\\programs\\python\\python313\\lib\\site-packages (from build>=1.0.3->chromadb) (1.2.0)\n",
      "Requirement already satisfied: colorama in c:\\users\\문선장\\appdata\\local\\programs\\python\\python313\\lib\\site-packages (from build>=1.0.3->chromadb) (0.4.6)\n",
      "Requirement already satisfied: marshmallow<4.0.0,>=3.18.0 in c:\\users\\문선장\\appdata\\local\\programs\\python\\python313\\lib\\site-packages (from dataclasses-json<0.7,>=0.5.7->langchain-community) (3.26.1)\n",
      "Requirement already satisfied: typing-inspect<1,>=0.4.0 in c:\\users\\문선장\\appdata\\local\\programs\\python\\python313\\lib\\site-packages (from dataclasses-json<0.7,>=0.5.7->langchain-community) (0.9.0)\n",
      "Requirement already satisfied: starlette<0.46.0,>=0.40.0 in c:\\users\\문선장\\appdata\\local\\programs\\python\\python313\\lib\\site-packages (from fastapi>=0.95.2->chromadb) (0.45.3)\n",
      "Requirement already satisfied: anyio in c:\\users\\문선장\\appdata\\local\\programs\\python\\python313\\lib\\site-packages (from httpx>=0.27.0->chromadb) (4.9.0)\n",
      "Requirement already satisfied: certifi in c:\\users\\문선장\\appdata\\local\\programs\\python\\python313\\lib\\site-packages (from httpx>=0.27.0->chromadb) (2025.1.31)\n",
      "Requirement already satisfied: httpcore==1.* in c:\\users\\문선장\\appdata\\local\\programs\\python\\python313\\lib\\site-packages (from httpx>=0.27.0->chromadb) (1.0.7)\n",
      "Requirement already satisfied: idna in c:\\users\\문선장\\appdata\\local\\programs\\python\\python313\\lib\\site-packages (from httpx>=0.27.0->chromadb) (3.10)\n",
      "Requirement already satisfied: h11<0.15,>=0.13 in c:\\users\\문선장\\appdata\\local\\programs\\python\\python313\\lib\\site-packages (from httpcore==1.*->httpx>=0.27.0->chromadb) (0.14.0)\n",
      "Requirement already satisfied: filelock in c:\\users\\문선장\\appdata\\local\\programs\\python\\python313\\lib\\site-packages (from huggingface-hub>=0.20.0->sentence-transformers) (3.18.0)\n",
      "Requirement already satisfied: fsspec>=2023.5.0 in c:\\users\\문선장\\appdata\\local\\programs\\python\\python313\\lib\\site-packages (from huggingface-hub>=0.20.0->sentence-transformers) (2025.3.2)\n",
      "Requirement already satisfied: six>=1.9.0 in c:\\users\\문선장\\appdata\\local\\programs\\python\\python313\\lib\\site-packages (from kubernetes>=28.1.0->chromadb) (1.17.0)\n",
      "Requirement already satisfied: python-dateutil>=2.5.3 in c:\\users\\문선장\\appdata\\local\\programs\\python\\python313\\lib\\site-packages (from kubernetes>=28.1.0->chromadb) (2.9.0.post0)\n",
      "Requirement already satisfied: google-auth>=1.0.1 in c:\\users\\문선장\\appdata\\local\\programs\\python\\python313\\lib\\site-packages (from kubernetes>=28.1.0->chromadb) (2.38.0)\n",
      "Requirement already satisfied: websocket-client!=0.40.0,!=0.41.*,!=0.42.*,>=0.32.0 in c:\\users\\문선장\\appdata\\local\\programs\\python\\python313\\lib\\site-packages (from kubernetes>=28.1.0->chromadb) (1.8.0)\n",
      "Requirement already satisfied: requests-oauthlib in c:\\users\\문선장\\appdata\\local\\programs\\python\\python313\\lib\\site-packages (from kubernetes>=28.1.0->chromadb) (2.0.0)\n",
      "Requirement already satisfied: oauthlib>=3.2.2 in c:\\users\\문선장\\appdata\\local\\programs\\python\\python313\\lib\\site-packages (from kubernetes>=28.1.0->chromadb) (3.2.2)\n",
      "Requirement already satisfied: urllib3>=1.24.2 in c:\\users\\문선장\\appdata\\local\\programs\\python\\python313\\lib\\site-packages (from kubernetes>=28.1.0->chromadb) (2.3.0)\n",
      "Requirement already satisfied: durationpy>=0.7 in c:\\users\\문선장\\appdata\\local\\programs\\python\\python313\\lib\\site-packages (from kubernetes>=28.1.0->chromadb) (0.9)\n",
      "Requirement already satisfied: jsonpatch<2.0,>=1.33 in c:\\users\\문선장\\appdata\\local\\programs\\python\\python313\\lib\\site-packages (from langchain-core<1.0.0,>=0.3.51->langchain) (1.33)\n",
      "Requirement already satisfied: requests-toolbelt<2.0.0,>=1.0.0 in c:\\users\\문선장\\appdata\\local\\programs\\python\\python313\\lib\\site-packages (from langsmith<0.4,>=0.1.17->langchain) (1.0.0)\n",
      "Requirement already satisfied: zstandard<0.24.0,>=0.23.0 in c:\\users\\문선장\\appdata\\local\\programs\\python\\python313\\lib\\site-packages (from langsmith<0.4,>=0.1.17->langchain) (0.23.0)\n",
      "Requirement already satisfied: coloredlogs in c:\\users\\문선장\\appdata\\local\\programs\\python\\python313\\lib\\site-packages (from onnxruntime>=1.14.1->chromadb) (15.0.1)\n",
      "Requirement already satisfied: flatbuffers in c:\\users\\문선장\\appdata\\local\\programs\\python\\python313\\lib\\site-packages (from onnxruntime>=1.14.1->chromadb) (25.2.10)\n",
      "Requirement already satisfied: protobuf in c:\\users\\문선장\\appdata\\local\\programs\\python\\python313\\lib\\site-packages (from onnxruntime>=1.14.1->chromadb) (5.29.4)\n",
      "Requirement already satisfied: sympy in c:\\users\\문선장\\appdata\\local\\programs\\python\\python313\\lib\\site-packages (from onnxruntime>=1.14.1->chromadb) (1.13.3)\n",
      "Requirement already satisfied: distro<2,>=1.7.0 in c:\\users\\문선장\\appdata\\local\\programs\\python\\python313\\lib\\site-packages (from openai<2.0.0,>=1.68.2->langchain-openai) (1.9.0)\n",
      "Requirement already satisfied: jiter<1,>=0.4.0 in c:\\users\\문선장\\appdata\\local\\programs\\python\\python313\\lib\\site-packages (from openai<2.0.0,>=1.68.2->langchain-openai) (0.9.0)\n",
      "Requirement already satisfied: sniffio in c:\\users\\문선장\\appdata\\local\\programs\\python\\python313\\lib\\site-packages (from openai<2.0.0,>=1.68.2->langchain-openai) (1.3.1)\n",
      "Requirement already satisfied: deprecated>=1.2.6 in c:\\users\\문선장\\appdata\\local\\programs\\python\\python313\\lib\\site-packages (from opentelemetry-api>=1.2.0->chromadb) (1.2.18)\n",
      "Requirement already satisfied: importlib-metadata<8.7.0,>=6.0 in c:\\users\\문선장\\appdata\\local\\programs\\python\\python313\\lib\\site-packages (from opentelemetry-api>=1.2.0->chromadb) (8.6.1)\n",
      "Requirement already satisfied: googleapis-common-protos~=1.52 in c:\\users\\문선장\\appdata\\local\\programs\\python\\python313\\lib\\site-packages (from opentelemetry-exporter-otlp-proto-grpc>=1.2.0->chromadb) (1.70.0)\n",
      "Requirement already satisfied: opentelemetry-exporter-otlp-proto-common==1.32.0 in c:\\users\\문선장\\appdata\\local\\programs\\python\\python313\\lib\\site-packages (from opentelemetry-exporter-otlp-proto-grpc>=1.2.0->chromadb) (1.32.0)\n",
      "Requirement already satisfied: opentelemetry-proto==1.32.0 in c:\\users\\문선장\\appdata\\local\\programs\\python\\python313\\lib\\site-packages (from opentelemetry-exporter-otlp-proto-grpc>=1.2.0->chromadb) (1.32.0)\n",
      "Requirement already satisfied: opentelemetry-instrumentation-asgi==0.53b0 in c:\\users\\문선장\\appdata\\local\\programs\\python\\python313\\lib\\site-packages (from opentelemetry-instrumentation-fastapi>=0.41b0->chromadb) (0.53b0)\n",
      "Requirement already satisfied: opentelemetry-instrumentation==0.53b0 in c:\\users\\문선장\\appdata\\local\\programs\\python\\python313\\lib\\site-packages (from opentelemetry-instrumentation-fastapi>=0.41b0->chromadb) (0.53b0)\n",
      "Requirement already satisfied: opentelemetry-semantic-conventions==0.53b0 in c:\\users\\문선장\\appdata\\local\\programs\\python\\python313\\lib\\site-packages (from opentelemetry-instrumentation-fastapi>=0.41b0->chromadb) (0.53b0)\n",
      "Requirement already satisfied: opentelemetry-util-http==0.53b0 in c:\\users\\문선장\\appdata\\local\\programs\\python\\python313\\lib\\site-packages (from opentelemetry-instrumentation-fastapi>=0.41b0->chromadb) (0.53b0)\n",
      "Requirement already satisfied: wrapt<2.0.0,>=1.0.0 in c:\\users\\문선장\\appdata\\local\\programs\\python\\python313\\lib\\site-packages (from opentelemetry-instrumentation==0.53b0->opentelemetry-instrumentation-fastapi>=0.41b0->chromadb) (1.17.2)\n",
      "Requirement already satisfied: asgiref~=3.0 in c:\\users\\문선장\\appdata\\local\\programs\\python\\python313\\lib\\site-packages (from opentelemetry-instrumentation-asgi==0.53b0->opentelemetry-instrumentation-fastapi>=0.41b0->chromadb) (3.8.1)\n",
      "Requirement already satisfied: monotonic>=1.5 in c:\\users\\문선장\\appdata\\local\\programs\\python\\python313\\lib\\site-packages (from posthog>=2.4.0->chromadb) (1.6)\n",
      "Requirement already satisfied: backoff>=1.10.0 in c:\\users\\문선장\\appdata\\local\\programs\\python\\python313\\lib\\site-packages (from posthog>=2.4.0->chromadb) (2.2.1)\n",
      "Requirement already satisfied: annotated-types>=0.6.0 in c:\\users\\문선장\\appdata\\local\\programs\\python\\python313\\lib\\site-packages (from pydantic<3.0.0,>=2.7.4->langchain) (0.7.0)\n",
      "Requirement already satisfied: pydantic-core==2.33.1 in c:\\users\\문선장\\appdata\\local\\programs\\python\\python313\\lib\\site-packages (from pydantic<3.0.0,>=2.7.4->langchain) (2.33.1)\n",
      "Requirement already satisfied: typing-inspection>=0.4.0 in c:\\users\\문선장\\appdata\\local\\programs\\python\\python313\\lib\\site-packages (from pydantic<3.0.0,>=2.7.4->langchain) (0.4.0)\n",
      "Requirement already satisfied: python-dotenv>=0.21.0 in c:\\users\\문선장\\appdata\\local\\programs\\python\\python313\\lib\\site-packages (from pydantic-settings<3.0.0,>=2.4.0->langchain-community) (1.1.0)\n",
      "Requirement already satisfied: charset-normalizer<4,>=2 in c:\\users\\문선장\\appdata\\local\\programs\\python\\python313\\lib\\site-packages (from requests<3,>=2->langchain) (3.4.1)\n",
      "Requirement already satisfied: markdown-it-py>=2.2.0 in c:\\users\\문선장\\appdata\\local\\programs\\python\\python313\\lib\\site-packages (from rich>=10.11.0->chromadb) (3.0.0)\n",
      "Requirement already satisfied: pygments<3.0.0,>=2.13.0 in c:\\users\\문선장\\appdata\\local\\programs\\python\\python313\\lib\\site-packages (from rich>=10.11.0->chromadb) (2.19.1)\n",
      "Requirement already satisfied: greenlet>=1 in c:\\users\\문선장\\appdata\\local\\programs\\python\\python313\\lib\\site-packages (from SQLAlchemy<3,>=1.4->langchain) (3.1.1)\n",
      "Requirement already satisfied: regex>=2022.1.18 in c:\\users\\문선장\\appdata\\local\\programs\\python\\python313\\lib\\site-packages (from tiktoken<1,>=0.7->langchain-openai) (2024.11.6)\n",
      "Requirement already satisfied: networkx in c:\\users\\문선장\\appdata\\local\\programs\\python\\python313\\lib\\site-packages (from torch>=1.11.0->sentence-transformers) (3.4.2)\n",
      "Requirement already satisfied: jinja2 in c:\\users\\문선장\\appdata\\local\\programs\\python\\python313\\lib\\site-packages (from torch>=1.11.0->sentence-transformers) (3.1.6)\n",
      "Requirement already satisfied: setuptools in c:\\users\\문선장\\appdata\\local\\programs\\python\\python313\\lib\\site-packages (from torch>=1.11.0->sentence-transformers) (78.1.0)\n",
      "Requirement already satisfied: safetensors>=0.4.3 in c:\\users\\문선장\\appdata\\local\\programs\\python\\python313\\lib\\site-packages (from transformers<5.0.0,>=4.41.0->sentence-transformers) (0.5.3)\n",
      "Requirement already satisfied: click>=8.0.0 in c:\\users\\문선장\\appdata\\local\\programs\\python\\python313\\lib\\site-packages (from typer>=0.9.0->chromadb) (8.1.8)\n",
      "Requirement already satisfied: shellingham>=1.3.0 in c:\\users\\문선장\\appdata\\local\\programs\\python\\python313\\lib\\site-packages (from typer>=0.9.0->chromadb) (1.5.4)\n",
      "Requirement already satisfied: httptools>=0.6.3 in c:\\users\\문선장\\appdata\\local\\programs\\python\\python313\\lib\\site-packages (from uvicorn[standard]>=0.18.3->chromadb) (0.6.4)\n",
      "Requirement already satisfied: watchfiles>=0.13 in c:\\users\\문선장\\appdata\\local\\programs\\python\\python313\\lib\\site-packages (from uvicorn[standard]>=0.18.3->chromadb) (1.0.5)\n",
      "Requirement already satisfied: websockets>=10.4 in c:\\users\\문선장\\appdata\\local\\programs\\python\\python313\\lib\\site-packages (from uvicorn[standard]>=0.18.3->chromadb) (15.0.1)\n",
      "Requirement already satisfied: joblib>=1.2.0 in c:\\users\\문선장\\appdata\\local\\programs\\python\\python313\\lib\\site-packages (from scikit-learn->sentence-transformers) (1.5.0)\n",
      "Requirement already satisfied: threadpoolctl>=3.1.0 in c:\\users\\문선장\\appdata\\local\\programs\\python\\python313\\lib\\site-packages (from scikit-learn->sentence-transformers) (3.6.0)\n",
      "Requirement already satisfied: cachetools<6.0,>=2.0.0 in c:\\users\\문선장\\appdata\\local\\programs\\python\\python313\\lib\\site-packages (from google-auth>=1.0.1->kubernetes>=28.1.0->chromadb) (5.5.2)\n",
      "Requirement already satisfied: pyasn1-modules>=0.2.1 in c:\\users\\문선장\\appdata\\local\\programs\\python\\python313\\lib\\site-packages (from google-auth>=1.0.1->kubernetes>=28.1.0->chromadb) (0.4.2)\n",
      "Requirement already satisfied: rsa<5,>=3.1.4 in c:\\users\\문선장\\appdata\\local\\programs\\python\\python313\\lib\\site-packages (from google-auth>=1.0.1->kubernetes>=28.1.0->chromadb) (4.9)\n",
      "Requirement already satisfied: zipp>=3.20 in c:\\users\\문선장\\appdata\\local\\programs\\python\\python313\\lib\\site-packages (from importlib-metadata<8.7.0,>=6.0->opentelemetry-api>=1.2.0->chromadb) (3.21.0)\n",
      "Requirement already satisfied: jsonpointer>=1.9 in c:\\users\\문선장\\appdata\\local\\programs\\python\\python313\\lib\\site-packages (from jsonpatch<2.0,>=1.33->langchain-core<1.0.0,>=0.3.51->langchain) (3.0.0)\n",
      "Requirement already satisfied: mdurl~=0.1 in c:\\users\\문선장\\appdata\\local\\programs\\python\\python313\\lib\\site-packages (from markdown-it-py>=2.2.0->rich>=10.11.0->chromadb) (0.1.2)\n",
      "Requirement already satisfied: mpmath<1.4,>=1.1.0 in c:\\users\\문선장\\appdata\\local\\programs\\python\\python313\\lib\\site-packages (from sympy->onnxruntime>=1.14.1->chromadb) (1.3.0)\n",
      "Requirement already satisfied: mypy-extensions>=0.3.0 in c:\\users\\문선장\\appdata\\local\\programs\\python\\python313\\lib\\site-packages (from typing-inspect<1,>=0.4.0->dataclasses-json<0.7,>=0.5.7->langchain-community) (1.0.0)\n",
      "Requirement already satisfied: humanfriendly>=9.1 in c:\\users\\문선장\\appdata\\local\\programs\\python\\python313\\lib\\site-packages (from coloredlogs->onnxruntime>=1.14.1->chromadb) (10.0)\n",
      "Requirement already satisfied: MarkupSafe>=2.0 in c:\\users\\문선장\\appdata\\local\\programs\\python\\python313\\lib\\site-packages (from jinja2->torch>=1.11.0->sentence-transformers) (3.0.2)\n",
      "Requirement already satisfied: pyreadline3 in c:\\users\\문선장\\appdata\\local\\programs\\python\\python313\\lib\\site-packages (from humanfriendly>=9.1->coloredlogs->onnxruntime>=1.14.1->chromadb) (3.5.4)\n",
      "Requirement already satisfied: pyasn1<0.7.0,>=0.6.1 in c:\\users\\문선장\\appdata\\local\\programs\\python\\python313\\lib\\site-packages (from pyasn1-modules>=0.2.1->google-auth>=1.0.1->kubernetes>=28.1.0->chromadb) (0.6.1)\n",
      "Note: you may need to restart the kernel to use updated packages.\n"
     ]
    },
    {
     "name": "stderr",
     "output_type": "stream",
     "text": [
      "\n",
      "[notice] A new release of pip is available: 25.0.1 -> 25.1.1\n",
      "[notice] To update, run: python.exe -m pip install --upgrade pip\n"
     ]
    }
   ],
   "source": [
    "pip install langchain langchain-openai langchain-community langchain-text-splitters sentence-transformers pypdfium2 chromadb langchain-chroma"
   ]
  },
  {
   "cell_type": "code",
   "execution_count": 6,
   "id": "88ad54af-ea53-40ca-8c93-0ca3e7b77f67",
   "metadata": {
    "scrolled": true
   },
   "outputs": [
    {
     "name": "stdout",
     "output_type": "stream",
     "text": [
      "Requirement already satisfied: langchain in c:\\users\\문선장\\appdata\\local\\programs\\python\\python313\\lib\\site-packages (0.3.25)\n",
      "Requirement already satisfied: langchain-community in c:\\users\\문선장\\appdata\\local\\programs\\python\\python313\\lib\\site-packages (0.3.21)\n",
      "Collecting langchain-community\n",
      "  Downloading langchain_community-0.3.24-py3-none-any.whl.metadata (2.5 kB)\n",
      "Requirement already satisfied: langchain-openai in c:\\users\\문선장\\appdata\\local\\programs\\python\\python313\\lib\\site-packages (0.3.16)\n",
      "Collecting langchain-openai\n",
      "  Downloading langchain_openai-0.3.17-py3-none-any.whl.metadata (2.3 kB)\n",
      "Requirement already satisfied: langchain-core<1.0.0,>=0.3.58 in c:\\users\\문선장\\appdata\\local\\programs\\python\\python313\\lib\\site-packages (from langchain) (0.3.60)\n",
      "Requirement already satisfied: langchain-text-splitters<1.0.0,>=0.3.8 in c:\\users\\문선장\\appdata\\local\\programs\\python\\python313\\lib\\site-packages (from langchain) (0.3.8)\n",
      "Requirement already satisfied: langsmith<0.4,>=0.1.17 in c:\\users\\문선장\\appdata\\local\\programs\\python\\python313\\lib\\site-packages (from langchain) (0.3.30)\n",
      "Requirement already satisfied: pydantic<3.0.0,>=2.7.4 in c:\\users\\문선장\\appdata\\local\\programs\\python\\python313\\lib\\site-packages (from langchain) (2.11.3)\n",
      "Requirement already satisfied: SQLAlchemy<3,>=1.4 in c:\\users\\문선장\\appdata\\local\\programs\\python\\python313\\lib\\site-packages (from langchain) (2.0.40)\n",
      "Requirement already satisfied: requests<3,>=2 in c:\\users\\문선장\\appdata\\local\\programs\\python\\python313\\lib\\site-packages (from langchain) (2.32.3)\n",
      "Requirement already satisfied: PyYAML>=5.3 in c:\\users\\문선장\\appdata\\local\\programs\\python\\python313\\lib\\site-packages (from langchain) (6.0.2)\n",
      "Requirement already satisfied: aiohttp<4.0.0,>=3.8.3 in c:\\users\\문선장\\appdata\\local\\programs\\python\\python313\\lib\\site-packages (from langchain-community) (3.11.16)\n",
      "Requirement already satisfied: tenacity!=8.4.0,<10,>=8.1.0 in c:\\users\\문선장\\appdata\\local\\programs\\python\\python313\\lib\\site-packages (from langchain-community) (9.1.2)\n",
      "Requirement already satisfied: dataclasses-json<0.7,>=0.5.7 in c:\\users\\문선장\\appdata\\local\\programs\\python\\python313\\lib\\site-packages (from langchain-community) (0.6.7)\n",
      "Requirement already satisfied: pydantic-settings<3.0.0,>=2.4.0 in c:\\users\\문선장\\appdata\\local\\programs\\python\\python313\\lib\\site-packages (from langchain-community) (2.8.1)\n",
      "Requirement already satisfied: httpx-sse<1.0.0,>=0.4.0 in c:\\users\\문선장\\appdata\\local\\programs\\python\\python313\\lib\\site-packages (from langchain-community) (0.4.0)\n",
      "Requirement already satisfied: numpy>=2.1.0 in c:\\users\\문선장\\appdata\\local\\programs\\python\\python313\\lib\\site-packages (from langchain-community) (2.2.4)\n",
      "Requirement already satisfied: openai<2.0.0,>=1.68.2 in c:\\users\\문선장\\appdata\\local\\programs\\python\\python313\\lib\\site-packages (from langchain-openai) (1.79.0)\n",
      "Requirement already satisfied: tiktoken<1,>=0.7 in c:\\users\\문선장\\appdata\\local\\programs\\python\\python313\\lib\\site-packages (from langchain-openai) (0.9.0)\n",
      "Requirement already satisfied: aiohappyeyeballs>=2.3.0 in c:\\users\\문선장\\appdata\\local\\programs\\python\\python313\\lib\\site-packages (from aiohttp<4.0.0,>=3.8.3->langchain-community) (2.6.1)\n",
      "Requirement already satisfied: aiosignal>=1.1.2 in c:\\users\\문선장\\appdata\\local\\programs\\python\\python313\\lib\\site-packages (from aiohttp<4.0.0,>=3.8.3->langchain-community) (1.3.2)\n",
      "Requirement already satisfied: attrs>=17.3.0 in c:\\users\\문선장\\appdata\\local\\programs\\python\\python313\\lib\\site-packages (from aiohttp<4.0.0,>=3.8.3->langchain-community) (25.3.0)\n",
      "Requirement already satisfied: frozenlist>=1.1.1 in c:\\users\\문선장\\appdata\\local\\programs\\python\\python313\\lib\\site-packages (from aiohttp<4.0.0,>=3.8.3->langchain-community) (1.5.0)\n",
      "Requirement already satisfied: multidict<7.0,>=4.5 in c:\\users\\문선장\\appdata\\local\\programs\\python\\python313\\lib\\site-packages (from aiohttp<4.0.0,>=3.8.3->langchain-community) (6.4.3)\n",
      "Requirement already satisfied: propcache>=0.2.0 in c:\\users\\문선장\\appdata\\local\\programs\\python\\python313\\lib\\site-packages (from aiohttp<4.0.0,>=3.8.3->langchain-community) (0.3.1)\n",
      "Requirement already satisfied: yarl<2.0,>=1.17.0 in c:\\users\\문선장\\appdata\\local\\programs\\python\\python313\\lib\\site-packages (from aiohttp<4.0.0,>=3.8.3->langchain-community) (1.19.0)\n",
      "Requirement already satisfied: marshmallow<4.0.0,>=3.18.0 in c:\\users\\문선장\\appdata\\local\\programs\\python\\python313\\lib\\site-packages (from dataclasses-json<0.7,>=0.5.7->langchain-community) (3.26.1)\n",
      "Requirement already satisfied: typing-inspect<1,>=0.4.0 in c:\\users\\문선장\\appdata\\local\\programs\\python\\python313\\lib\\site-packages (from dataclasses-json<0.7,>=0.5.7->langchain-community) (0.9.0)\n",
      "Requirement already satisfied: jsonpatch<2.0,>=1.33 in c:\\users\\문선장\\appdata\\local\\programs\\python\\python313\\lib\\site-packages (from langchain-core<1.0.0,>=0.3.58->langchain) (1.33)\n",
      "Requirement already satisfied: packaging<25,>=23.2 in c:\\users\\문선장\\appdata\\local\\programs\\python\\python313\\lib\\site-packages (from langchain-core<1.0.0,>=0.3.58->langchain) (24.2)\n",
      "Requirement already satisfied: typing-extensions>=4.7 in c:\\users\\문선장\\appdata\\local\\programs\\python\\python313\\lib\\site-packages (from langchain-core<1.0.0,>=0.3.58->langchain) (4.13.0)\n",
      "Requirement already satisfied: httpx<1,>=0.23.0 in c:\\users\\문선장\\appdata\\local\\programs\\python\\python313\\lib\\site-packages (from langsmith<0.4,>=0.1.17->langchain) (0.28.1)\n",
      "Requirement already satisfied: orjson<4.0.0,>=3.9.14 in c:\\users\\문선장\\appdata\\local\\programs\\python\\python313\\lib\\site-packages (from langsmith<0.4,>=0.1.17->langchain) (3.10.16)\n",
      "Requirement already satisfied: requests-toolbelt<2.0.0,>=1.0.0 in c:\\users\\문선장\\appdata\\local\\programs\\python\\python313\\lib\\site-packages (from langsmith<0.4,>=0.1.17->langchain) (1.0.0)\n",
      "Requirement already satisfied: zstandard<0.24.0,>=0.23.0 in c:\\users\\문선장\\appdata\\local\\programs\\python\\python313\\lib\\site-packages (from langsmith<0.4,>=0.1.17->langchain) (0.23.0)\n",
      "Requirement already satisfied: anyio<5,>=3.5.0 in c:\\users\\문선장\\appdata\\local\\programs\\python\\python313\\lib\\site-packages (from openai<2.0.0,>=1.68.2->langchain-openai) (4.9.0)\n",
      "Requirement already satisfied: distro<2,>=1.7.0 in c:\\users\\문선장\\appdata\\local\\programs\\python\\python313\\lib\\site-packages (from openai<2.0.0,>=1.68.2->langchain-openai) (1.9.0)\n",
      "Requirement already satisfied: jiter<1,>=0.4.0 in c:\\users\\문선장\\appdata\\local\\programs\\python\\python313\\lib\\site-packages (from openai<2.0.0,>=1.68.2->langchain-openai) (0.9.0)\n",
      "Requirement already satisfied: sniffio in c:\\users\\문선장\\appdata\\local\\programs\\python\\python313\\lib\\site-packages (from openai<2.0.0,>=1.68.2->langchain-openai) (1.3.1)\n",
      "Requirement already satisfied: tqdm>4 in c:\\users\\문선장\\appdata\\local\\programs\\python\\python313\\lib\\site-packages (from openai<2.0.0,>=1.68.2->langchain-openai) (4.67.1)\n",
      "Requirement already satisfied: annotated-types>=0.6.0 in c:\\users\\문선장\\appdata\\local\\programs\\python\\python313\\lib\\site-packages (from pydantic<3.0.0,>=2.7.4->langchain) (0.7.0)\n",
      "Requirement already satisfied: pydantic-core==2.33.1 in c:\\users\\문선장\\appdata\\local\\programs\\python\\python313\\lib\\site-packages (from pydantic<3.0.0,>=2.7.4->langchain) (2.33.1)\n",
      "Requirement already satisfied: typing-inspection>=0.4.0 in c:\\users\\문선장\\appdata\\local\\programs\\python\\python313\\lib\\site-packages (from pydantic<3.0.0,>=2.7.4->langchain) (0.4.0)\n",
      "Requirement already satisfied: python-dotenv>=0.21.0 in c:\\users\\문선장\\appdata\\local\\programs\\python\\python313\\lib\\site-packages (from pydantic-settings<3.0.0,>=2.4.0->langchain-community) (1.1.0)\n",
      "Requirement already satisfied: charset-normalizer<4,>=2 in c:\\users\\문선장\\appdata\\local\\programs\\python\\python313\\lib\\site-packages (from requests<3,>=2->langchain) (3.4.1)\n",
      "Requirement already satisfied: idna<4,>=2.5 in c:\\users\\문선장\\appdata\\local\\programs\\python\\python313\\lib\\site-packages (from requests<3,>=2->langchain) (3.10)\n",
      "Requirement already satisfied: urllib3<3,>=1.21.1 in c:\\users\\문선장\\appdata\\local\\programs\\python\\python313\\lib\\site-packages (from requests<3,>=2->langchain) (2.3.0)\n",
      "Requirement already satisfied: certifi>=2017.4.17 in c:\\users\\문선장\\appdata\\local\\programs\\python\\python313\\lib\\site-packages (from requests<3,>=2->langchain) (2025.1.31)\n",
      "Requirement already satisfied: greenlet>=1 in c:\\users\\문선장\\appdata\\local\\programs\\python\\python313\\lib\\site-packages (from SQLAlchemy<3,>=1.4->langchain) (3.1.1)\n",
      "Requirement already satisfied: regex>=2022.1.18 in c:\\users\\문선장\\appdata\\local\\programs\\python\\python313\\lib\\site-packages (from tiktoken<1,>=0.7->langchain-openai) (2024.11.6)\n",
      "Requirement already satisfied: httpcore==1.* in c:\\users\\문선장\\appdata\\local\\programs\\python\\python313\\lib\\site-packages (from httpx<1,>=0.23.0->langsmith<0.4,>=0.1.17->langchain) (1.0.7)\n",
      "Requirement already satisfied: h11<0.15,>=0.13 in c:\\users\\문선장\\appdata\\local\\programs\\python\\python313\\lib\\site-packages (from httpcore==1.*->httpx<1,>=0.23.0->langsmith<0.4,>=0.1.17->langchain) (0.14.0)\n",
      "Requirement already satisfied: jsonpointer>=1.9 in c:\\users\\문선장\\appdata\\local\\programs\\python\\python313\\lib\\site-packages (from jsonpatch<2.0,>=1.33->langchain-core<1.0.0,>=0.3.58->langchain) (3.0.0)\n",
      "Requirement already satisfied: colorama in c:\\users\\문선장\\appdata\\local\\programs\\python\\python313\\lib\\site-packages (from tqdm>4->openai<2.0.0,>=1.68.2->langchain-openai) (0.4.6)\n",
      "Requirement already satisfied: mypy-extensions>=0.3.0 in c:\\users\\문선장\\appdata\\local\\programs\\python\\python313\\lib\\site-packages (from typing-inspect<1,>=0.4.0->dataclasses-json<0.7,>=0.5.7->langchain-community) (1.0.0)\n",
      "Downloading langchain_community-0.3.24-py3-none-any.whl (2.5 MB)\n",
      "   ---------------------------------------- 0.0/2.5 MB ? eta -:--:--\n",
      "   ---------------- ----------------------- 1.0/2.5 MB 6.5 MB/s eta 0:00:01\n",
      "   ---------------------------------------- 2.5/2.5 MB 6.9 MB/s eta 0:00:00\n",
      "Downloading langchain_openai-0.3.17-py3-none-any.whl (62 kB)\n",
      "Installing collected packages: langchain-openai, langchain-community\n",
      "  Attempting uninstall: langchain-openai\n",
      "    Found existing installation: langchain-openai 0.3.16\n",
      "    Uninstalling langchain-openai-0.3.16:\n",
      "      Successfully uninstalled langchain-openai-0.3.16\n",
      "  Attempting uninstall: langchain-community\n",
      "    Found existing installation: langchain-community 0.3.21\n",
      "    Uninstalling langchain-community-0.3.21:\n",
      "      Successfully uninstalled langchain-community-0.3.21\n",
      "Successfully installed langchain-community-0.3.24 langchain-openai-0.3.17\n",
      "Note: you may need to restart the kernel to use updated packages.\n"
     ]
    },
    {
     "name": "stderr",
     "output_type": "stream",
     "text": [
      "\n",
      "[notice] A new release of pip is available: 25.0.1 -> 25.1.1\n",
      "[notice] To update, run: python.exe -m pip install --upgrade pip\n"
     ]
    }
   ],
   "source": [
    "pip install -U langchain langchain-community langchain-openai"
   ]
  },
  {
   "cell_type": "markdown",
   "id": "17f01177-e2c3-4165-bfa4-6423cc34c86d",
   "metadata": {},
   "source": [
    "#### 임베딩 모델"
   ]
  },
  {
   "cell_type": "code",
   "execution_count": 4,
   "id": "4c32a1ce-46b8-4169-83f9-0fd16c850e33",
   "metadata": {},
   "outputs": [
    {
     "name": "stderr",
     "output_type": "stream",
     "text": [
      "C:\\Users\\문선장\\AppData\\Local\\Temp\\ipykernel_30452\\725957186.py:3: LangChainDeprecationWarning: The class `HuggingFaceEmbeddings` was deprecated in LangChain 0.2.2 and will be removed in 1.0. An updated version of the class exists in the :class:`~langchain-huggingface package and should be used instead. To use it run `pip install -U :class:`~langchain-huggingface` and import as `from :class:`~langchain_huggingface import HuggingFaceEmbeddings``.\n",
      "  ko_embedding = HuggingFaceEmbeddings(\n",
      "C:\\Users\\문선장\\AppData\\Local\\Programs\\Python\\Python313\\Lib\\site-packages\\tqdm\\auto.py:21: TqdmWarning: IProgress not found. Please update jupyter and ipywidgets. See https://ipywidgets.readthedocs.io/en/stable/user_install.html\n",
      "  from .autonotebook import tqdm as notebook_tqdm\n"
     ]
    }
   ],
   "source": [
    "from langchain.embeddings import HuggingFaceEmbeddings\n",
    "\n",
    "ko_embedding = HuggingFaceEmbeddings(\n",
    "    model_name=\"jhgan/ko-sroberta-multitask\",  # 한국어 특화 모델\n",
    "    model_kwargs={\"device\": \"cpu\"}             # 또는 \"cuda\" 사용 가능\n",
    ")"
   ]
  },
  {
   "cell_type": "code",
   "execution_count": 50,
   "id": "52b8b9dc-730b-4f54-906d-317b94c18a84",
   "metadata": {},
   "outputs": [
    {
     "name": "stdout",
     "output_type": "stream",
     "text": [
      "[kim] 임베딩 완료 (24건)\n",
      "[hong] 임베딩 완료 (24건)\n",
      "[lecture_search] 임베딩 완료 (648건)\n",
      "[career_counsel] 임베딩 완료 (682건)\n",
      "[academic_status] 임베딩 완료 (641건)\n",
      " 'lecture_search' PDF 임베딩 259개 추가 완료\n",
      " 'career_counsel' PDF 임베딩 259개 추가 완료\n",
      " 'academic_status' PDF 임베딩 259개 추가 완료\n"
     ]
    }
   ],
   "source": [
    "import shutil\n",
    "import os\n",
    "from pathlib import Path\n",
    "import torch\n",
    "\n",
    "# 전체 Chroma DB 삭제 (기본 디렉토리와 시스템 캐시 포함)\n",
    "shutil.rmtree(\"./chroma_db\", ignore_errors=True)\n",
    "shutil.rmtree(Path.home() / \".chromadb\", ignore_errors=True)\n",
    "\n",
    "import os\n",
    "import json\n",
    "from langchain_openai import OpenAIEmbeddings\n",
    "from langchain_core.documents import Document\n",
    "from langchain.text_splitter import RecursiveCharacterTextSplitter\n",
    "from langchain_community.vectorstores import Chroma\n",
    "import chromadb\n",
    "from langchain.document_loaders import PyPDFLoader\n",
    "\n",
    "os.environ[\"OPENAI_API_KEY\"] = \"키\"\n",
    "\n",
    "embeddings_model  =ko_embedding\n",
    "text_splitter = RecursiveCharacterTextSplitter(chunk_size=200, chunk_overlap=50)\n",
    "client = chromadb.PersistentClient(path=\"./chroma_db\")\n",
    "\n",
    "def load_json_documents(json_files):\n",
    "    docs = []\n",
    "    for file in json_files:\n",
    "        with open(file, \"r\", encoding=\"utf-8\") as f:\n",
    "            data = json.load(f)\n",
    "\n",
    "        #시나리오\n",
    "        for item in data:\n",
    "            if \"Text\" in item and \"Completion\" in item:\n",
    "                docs.append(Document(\n",
    "                    page_content=f\"질문: {item['Text']}\\n답변: {item['Completion']}\",\n",
    "                    metadata={\n",
    "                        \"카테고리\": item.get(\"카테고리\", \"\")\n",
    "                    }\n",
    "                ))\n",
    "\n",
    "            # 수강이력\n",
    "            if \"lecture_name\" in item and \"student_id\" in item:\n",
    "                content = (\n",
    "                    f\"학번: {item['student_id']}\\n\"\n",
    "                    f\"강의명: {item['lecture_name']}\\n\"\n",
    "                    f\"학정번호: {item['lecture_id']}\\n\"\n",
    "                    f\"개설 학과: {item['department_offered']}\\n\"\n",
    "                    f\"이수 구분: {item['lecture_course_type']}\\n\"\n",
    "                    f\"학점: {item['lecture_credit']}학점\\n\"\n",
    "                    f\"성적: {item['lecutre_grade']}\"\n",
    "                )\n",
    "                if \"retake_or_delete_status\" in item:\n",
    "                    content += f\"\\n재수강/삭제 여부: {item['retake_or_delete_status']}\"\n",
    "                if \"retake_status\" in item:\n",
    "                    content += f\"\\n재수강 여부: {item['retake_status']}\"\n",
    "\n",
    "                docs.append(Document(\n",
    "                    page_content=content,\n",
    "                    metadata={\n",
    "                        \"lecture_name\": item[\"lecture_name\"],\n",
    "                        \"course_type\": item[\"lecture_course_type\"]\n",
    "                    }\n",
    "                ))\n",
    "\n",
    "            # 강의 탐색\n",
    "            if \"lecture_id\" in item and \"lecture_name\" in item and \"student_id\" not in item:\n",
    "                content = (\n",
    "                    f\"학정번호: {item.get('lecture_id', '')}\\n\"\n",
    "                    f\"강의명: {item.get('lecture_name', '')}\\n\"\n",
    "                    f\"강의평점: {item.get('lecture_ratings', '')}\\n\"\n",
    "                    f\"과제: {item.get('lecture_homework', '')}\\n\"\n",
    "                    f\"팀플: {item.get('lecture_team', '')}\\n\"\n",
    "                    f\"성적평가정도: {item.get('lecutre_grade', '')}\\n\"\n",
    "                    f\"출결 방식: {item.get('lecutre_attendance', '')}\\n\"\n",
    "                    f\"시험 횟수: {item.get('lecutre_test', '')}\\n\"\n",
    "                    f\"시험 방식: {item.get('lecture_testinform', '')}\\n\"\n",
    "                    f\"전공 학점: {item.get('credits_major', '없음')}\\n\"\n",
    "                    f\"교양 학점: {item.get('credits_general', '없음')}\\n\"\n",
    "                    f\"총 학점: {item.get('credits_total', '없음')}\\n\"\n",
    "                    f\"교수명: {item.get('lecture_professorname', '')}\\n\"\n",
    "                    f\"수업 시간: {item.get('lecture_time', '')}\\n\"\n",
    "                    f\"강의 유형: {item.get('lecture_course_type', '')}\\n\"\n",
    "                    f\"학점: {item.get('lecture_hours', '')}시간\\n\"\n",
    "                    f\"학기: {item.get('lecture_semester', '')}학기\\n\"\n",
    "                    f\"강의 설명: {item.get('lecture_inform', '')}\"\n",
    "                    f\"영역: {item.get('lecture_domain', '')}\\n\"\n",
    "                )\n",
    "                docs.append(Document(\n",
    "                    page_content=content,\n",
    "                    metadata={\n",
    "                        \"lecture_id\": item.get(\"lecture_id\", \"\"),\n",
    "                        \"lecture_name\": item.get(\"lecture_name\", \"\"),\n",
    "                        \"lecture_ratings\": item.get(\"lecture_ratings\", \"\"),\n",
    "                        \"lecture_team\": item.get(\"lecture_team\", \"\"),\n",
    "                        \"lecutre_grade\": item.get(\"lecutre_grade\", \"\"),\n",
    "                        \"professor\": item.get(\"lecture_professorname\", \"\")\n",
    "                    }\n",
    "                ))\n",
    "    return docs\n",
    "\n",
    "user_datasets = {\n",
    "    \"kim\": [\"data/kw_chatbot_data - 김브티_수강이력.json\"],\n",
    "    \"hong\": [\"data/kw_chatbot_data - 홍데사_수강이력.json\"]\n",
    "}\n",
    "\n",
    "task_datasets = {\n",
    "    \"lecture_search\": [\n",
    "        \"data/강의탐색.json\",\n",
    "        \"data/kw_chatbot_data - Student.json\",\n",
    "        \"data/kw_chatbot_data - 강의 평점.json\",\n",
    "        \"data/kw_chatbot_data - 강의계획서.json\",\n",
    "        \"data/kw_chatbot_data - 수강신청자료집.json\",\n",
    "        \"data/kw_chatbot_data - 커리큘럼(DS).json\",\n",
    "        \"data/kw_chatbot_data - 커리큘럼(VT).json\"\n",
    "    ],\n",
    "    \"career_counsel\": [\n",
    "        \"data/진로상담.json\",\n",
    "        \"data/kw_chatbot_data - 강의계획서.json\",        \n",
    "        \"data/kw_chatbot_data - 김브티_성적.json\",\n",
    "        \"data/kw_chatbot_data - 김브티_수강이력.json\",\n",
    "        \"data/kw_chatbot_data - 수강신청자료집.json\",\n",
    "        \"data/kw_chatbot_data - 커리큘럼(DS).json\",\n",
    "        \"data/kw_chatbot_data - 커리큘럼(VT).json\",\n",
    "        \"data/kw_chatbot_data - 홍데사_성적.json\",\n",
    "        \"data/kw_chatbot_data - 홍데사_수강이력.json\"],\n",
    "    \n",
    "    \"academic_status\": [\n",
    "        \"data/학습현황.json\",\n",
    "        \"data/kw_chatbot_data - 김브티_성적.json\",\n",
    "        \"data/kw_chatbot_data - 김브티_수강이력.json\",\n",
    "        \"data/kw_chatbot_data - 수강신청자료집.json\",\n",
    "        \"data/kw_chatbot_data - 강의 평점.json\",        \n",
    "        \"data/kw_chatbot_data - 홍데사_성적.json\",\n",
    "        \"data/kw_chatbot_data - 홍데사_수강이력.json\",\n",
    "        \"data/lecture_domain.json\"\n",
    "        ]\n",
    "}\n",
    "\n",
    "# 사용자별 컬렉션\n",
    "for user_id, files in user_datasets.items():\n",
    "    collection_name = f\"lecture_search_{user_id}\"\n",
    "    try:\n",
    "        client.delete_collection(name=collection_name)\n",
    "    except:\n",
    "        pass\n",
    "    docs = load_json_documents(files)\n",
    "    split_docs = text_splitter.split_documents(docs)\n",
    "    texts = [doc.page_content for doc in split_docs]\n",
    "    embeddings = embeddings_model.embed_documents(texts)\n",
    "    collection = client.create_collection(name=collection_name)\n",
    "    collection.add(\n",
    "        documents=texts,\n",
    "        embeddings=embeddings,\n",
    "        ids=[f\"{collection_name}_{i}\" for i in range(len(texts))]\n",
    "    )\n",
    "    print(f\"[{user_id}] 임베딩 완료 ({len(embeddings)}건)\")\n",
    "\n",
    "# 기능별 컬렉션\n",
    "for task, files in task_datasets.items():\n",
    "    try:\n",
    "        client.delete_collection(name=task)\n",
    "    except:\n",
    "        pass\n",
    "    docs = load_json_documents(files)\n",
    "    split_docs = text_splitter.split_documents(docs)\n",
    "    texts = [doc.page_content for doc in split_docs]\n",
    "    embeddings = embeddings_model.embed_documents(texts)\n",
    "    collection = client.create_collection(name=task)\n",
    "    collection.add(\n",
    "        documents=texts,\n",
    "        embeddings=embeddings,\n",
    "        ids=[f\"{task}_{i}\" for i in range(len(texts))]\n",
    "    )\n",
    "    print(f\"[{task}] 임베딩 완료 ({len(embeddings)}건)\")\n",
    "    \n",
    "# PDF 문서 임베딩 추가\n",
    "target_collections = [\"lecture_search\", \"career_counsel\", \"academic_status\"]\n",
    "\n",
    "from langchain.document_loaders import PyPDFLoader\n",
    "from langchain.text_splitter import RecursiveCharacterTextSplitter\n",
    "\n",
    "loader = PyPDFLoader(\"data/수강신청_자료집_전체(2025-1)v4.pdf\")\n",
    "pages = loader.load_and_split()\n",
    "\n",
    "text_splitter = RecursiveCharacterTextSplitter(chunk_size=800, chunk_overlap=100)\n",
    "docs = text_splitter.split_documents(pages)\n",
    "texts = [doc.page_content for doc in docs]\n",
    "embeddings = embeddings_model.embed_documents(texts)\n",
    "\n",
    "client = chromadb.PersistentClient(path=\"./chroma_db\")\n",
    "\n",
    "#컬렉션에 추가\n",
    "for name in target_collections:\n",
    "    collection = client.get_or_create_collection(name=name)\n",
    "    collection.add(\n",
    "        documents=texts,\n",
    "        embeddings=embeddings,\n",
    "        ids=[f\"{name}_pdf_{i}\" for i in range(len(texts))]\n",
    "    )\n",
    "    print(f\" '{name}' PDF 임베딩 {len(texts)}개 추가 완료\")"
   ]
  },
  {
   "cell_type": "markdown",
   "id": "ab960d5d-5a2c-426a-91ae-34d88ad8b22e",
   "metadata": {
    "jp-MarkdownHeadingCollapsed": true
   },
   "source": [
    "#### 기능 구현 함수"
   ]
  },
  {
   "cell_type": "code",
   "execution_count": 51,
   "id": "f301fe0e-f465-41dd-afba-57c004dc7963",
   "metadata": {},
   "outputs": [],
   "source": [
    "import json\n",
    "import re\n",
    "import random\n",
    "import itertools\n",
    "from collections import defaultdict, Counter\n",
    "\n",
    "# LangChain 컬렉션 이름 결정 함수\n",
    "def get_collection_name(user_input: str, user_id: str) -> str:\n",
    "    q = user_input.lower()\n",
    "    if \"진로\" in q or \"상담\" in q:\n",
    "        return \"career_counsel\"\n",
    "    elif \"이수\" in q or \"학점\" in q or \"현황\" in q or \"평균\" in q:\n",
    "        return \"academic_status\"\n",
    "    return f\"lecture_search_{user_id}\"\n",
    "\n",
    "# 입력 분류 함수\n",
    "def classify_function(user_input: str) -> str:\n",
    "    if \"강의\" in user_input or \"탐색\" in user_input:\n",
    "        return \"lecture_search\"\n",
    "    elif \"진로\" in user_input or \"상담\" in user_input:\n",
    "        return \"career_counsel\"\n",
    "    elif \"학업\" in user_input or \"현황\" in user_input:\n",
    "        return \"academic_status\"\n",
    "    else:\n",
    "        return \"lecture_search\"\n",
    "\n",
    "# 캐시: 팀플 조건에 따라 결과 재사용\n",
    "TEAM_CACHE = {}\n",
    "\n",
    "# JSON 파일에서 팀플 조건과 일치하는 강의 필터링\n",
    "def filter_lectures_by_team(json_files, team_condition):\n",
    "    if team_condition in TEAM_CACHE:\n",
    "        return TEAM_CACHE[team_condition]\n",
    "\n",
    "    result = []\n",
    "    for file in json_files:\n",
    "        with open(file, \"r\", encoding=\"utf-8\") as f:\n",
    "            data = json.load(f)\n",
    "        for item in data:\n",
    "            team_value = item.get(\"lecture_team\", \"\").strip()\n",
    "            lecture_id = item.get(\"lecture_id\")\n",
    "            lecture_name = item.get(\"lecture_name\")\n",
    "\n",
    "            if not lecture_id or not lecture_name:\n",
    "                continue\n",
    "\n",
    "            if team_condition == \"없음\" and team_value in [\"없음\", \"0\"]:\n",
    "                result.append({\"lecture_id\": lecture_id, \"lecture_name\": lecture_name})\n",
    "            elif team_condition == \"보통\" and team_value in [\"보통\", \"적은\"]:\n",
    "                result.append({\"lecture_id\": lecture_id, \"lecture_name\": lecture_name})\n",
    "            elif team_condition == \"많은\" and team_value in [\"많은\", \"많음\"]:\n",
    "                result.append({\"lecture_id\": lecture_id, \"lecture_name\": lecture_name})\n",
    "\n",
    "    TEAM_CACHE[team_condition] = result\n",
    "    return result\n",
    "\n",
    "# 팀플 응답 메시지 포맷\n",
    "def format_team_project_response(team_condition: str, lectures: list):\n",
    "    if not lectures:\n",
    "        return f\"팀플이 {team_condition} 강의를 찾을 수 없습니다.\"\n",
    "\n",
    "    condition_map = {\n",
    "        \"없음\": \"없는\",\n",
    "        \"보통\": \"적은\",\n",
    "        \"많은\": \"많은\"\n",
    "    }\n",
    "    label = condition_map.get(team_condition, team_condition)\n",
    "    header = f\"팀플이 {label} 강의는 다음과 같습니다:\"\n",
    "    body = \"\\n\".join(\n",
    "        f\"{i+1}. {lec['lecture_name']} (학정번호: {lec['lecture_id']})\"\n",
    "        for i, lec in enumerate(lectures)\n",
    "    )\n",
    "    return f\"{header}\\n{body}\"\n",
    "\n",
    "# JSON 내 팀플 조건 처리 핸들러\n",
    "def handle_team_project_query(user_input, json_path):\n",
    "    condition = normalize_team_condition(user_input)\n",
    "    if not condition:\n",
    "        return None\n",
    "\n",
    "    filtered_lectures = filter_lectures_by_team([json_path], condition)\n",
    "    seen = set()\n",
    "    unique_lectures = []\n",
    "    for lec in filtered_lectures:\n",
    "        if lec[\"lecture_name\"] not in seen:\n",
    "            seen.add(lec[\"lecture_name\"])\n",
    "            unique_lectures.append(lec)\n",
    "\n",
    "    return format_team_project_response(condition, unique_lectures)\n",
    "\n",
    "# 학점 및 교과구분에 따른 강의 필터링\n",
    "def get_lectures_by_credit_and_type(user_input: str):\n",
    "    credit_match = re.search(r'(\\d)\\s*학점', user_input)\n",
    "    if not credit_match:\n",
    "        return \"몇 학점짜리 수업을 원하시는지 알려주세요. 예: '2학점 교양 수업 알려줘'\"\n",
    "    credit = int(credit_match.group(1))\n",
    "\n",
    "    # 수업 유형 필터링\n",
    "    course_types = []\n",
    "    if \"전필\" in user_input:\n",
    "        course_types = [\"전필\"]\n",
    "    elif \"전선\" in user_input:\n",
    "        course_types = [\"전선\"]\n",
    "    elif \"교필\" in user_input:\n",
    "        course_types = [\"교필\"]\n",
    "    elif \"교선\" in user_input:\n",
    "        course_types = [\"교선\"]\n",
    "    elif \"전공\" in user_input:\n",
    "        course_types = [\"전필\", \"전선\"]\n",
    "    elif \"교양\" in user_input:\n",
    "        course_types = [\"교필\", \"교선\"]\n",
    "    else:\n",
    "        course_types = [\"전필\", \"전선\", \"교필\", \"교선\"]\n",
    "\n",
    "    count_match = re.search(r'(\\d+)\\s*개', user_input)\n",
    "    limit = int(count_match.group(1)) if count_match else None\n",
    "\n",
    "    with open(\"./data/kw_chatbot_data - 수강신청자료집.json\", \"r\", encoding=\"utf-8\") as f:\n",
    "        course_data = json.load(f)\n",
    "\n",
    "    results = []\n",
    "    seen = set()\n",
    "    for item in course_data:\n",
    "        course_type = item.get(\"lecture_course_type\", \"\").strip()\n",
    "        credit_val = item.get(\"lecture_hours\") or item.get(\"lecture_credit\")\n",
    "        if not credit_val:\n",
    "            continue\n",
    "        try:\n",
    "            credit_val = int(str(credit_val).strip())\n",
    "        except:\n",
    "            continue\n",
    "\n",
    "        professor = item.get(\"lecture_professor\", \"\").strip()\n",
    "        lecture_name = item.get(\"lecture_name\", \"\").strip()\n",
    "        key = (lecture_name, professor)\n",
    "\n",
    "        if course_type in course_types and credit_val == credit and key not in seen:\n",
    "            seen.add(key)\n",
    "            results.append(f\"{lecture_name} (학정번호: {item['lecture_id']}) - {professor or '교수명 없음'}\")\n",
    "\n",
    "    if not results:\n",
    "        return f\"{credit}학점짜리 {', '.join(course_types)} 과목을 찾을 수 없습니다.\"\n",
    "\n",
    "    if limit:\n",
    "        random.shuffle(results)\n",
    "        results = results[:limit]\n",
    "\n",
    "    header = f\"{credit}학점짜리 {', '.join(course_types)} 과목 목록입니다:\"\n",
    "    lines = [f\"{i+1}. {lec}\" for i, lec in enumerate(results)]\n",
    "    return header + \"\\n\" + \"\\n\".join(lines)\n",
    "\n",
    "# 성적 → 평점 매핑\n",
    "GRADE_TO_POINT = {\n",
    "    \"A+\": 4.5, \"A0\": 4.0, \"B+\": 3.5, \"B0\": 3.0,\n",
    "    \"C+\": 2.5, \"C0\": 2.0, \"F\": 0.0\n",
    "}\n",
    "\n",
    "# 수강이력 불러오기 (ID → 파일명 매핑)\n",
    "def load_student_data(user_id: str):\n",
    "    filename = f\"data/kw_chatbot_data - {'김브티' if user_id == 'kim' else '홍데사'}_수강이력.json\"\n",
    "    with open(filename, encoding='utf-8') as f:\n",
    "        return json.load(f)\n",
    "\n",
    "# 재수강 횟수 계산\n",
    "def count_retake_courses(user_id: str):\n",
    "    data = load_student_data(user_id)\n",
    "    course_count = defaultdict(int)\n",
    "    for record in data:\n",
    "        if record.get(\"retake_status\") == \"R\":\n",
    "            course_count[record[\"lecture_name\"]] += 1\n",
    "    return course_count\n",
    "\n",
    "# 특정 과목의 성적 조회\n",
    "def get_course_grade(user_id: str, course_name: str):\n",
    "    data = load_student_data(user_id)\n",
    "    for record in data:\n",
    "        if record[\"lecture_name\"].replace(\" \", \"\") == course_name.replace(\" \", \"\"):\n",
    "            return record[\"lecutre_grade\"]\n",
    "    return None\n",
    "\n",
    "# 사용자 이름 매핑\n",
    "USER_NAME = {\n",
    "    \"kim\": \"김브티\",\n",
    "    \"hong\": \"홍데사\"\n",
    "}\n",
    "\n",
    "# 평균 평점 계산 함수\n",
    "# GPA 계산 함수 (재수강 반영 여부 및 전공 필터 포함)\n",
    "def get_gpa_with_retake(user_id: str, exclude_pre_retake: bool = False, course_type: str = None):\n",
    "    data = load_student_data(user_id)\n",
    "    seen = {}\n",
    "    credits, total = 0, 0\n",
    "    for record in data:\n",
    "        key = record['lecture_id']\n",
    "        grade = record['lecutre_grade']\n",
    "        credit = record['lecture_credit']\n",
    "        ctype = record['lecture_course_type']\n",
    "\n",
    "        if course_type:\n",
    "            if course_type == \"전공\" and not ctype.startswith((\"전필\", \"전선\")):\n",
    "                continue\n",
    "            elif course_type != \"전공\" and not ctype.startswith(course_type):\n",
    "                continue\n",
    "\n",
    "        if exclude_pre_retake and record.get('retake_or_delete_status') == 'Y':\n",
    "            continue\n",
    "\n",
    "        if record.get('retake_status') == 'R':\n",
    "            seen[key] = (GRADE_TO_POINT[grade], credit)\n",
    "        elif key not in seen:\n",
    "            seen[key] = (GRADE_TO_POINT[grade], credit)\n",
    "\n",
    "    for point, credit in seen.values():\n",
    "        credits += credit\n",
    "        total += point * credit\n",
    "\n",
    "    if credits == 0:\n",
    "        return \"계산할 수 있는 학점이 없습니다.\"\n",
    "    name = USER_NAME.get(user_id, user_id)\n",
    "    return f\"{name}님의 평균 평점은 {round(total / credits, 2)}입니다.\"\n",
    "\n",
    "# 재수강한 과목 리스트 반환\n",
    "def get_retake_course_names(user_id: str):\n",
    "    data = load_student_data(user_id)\n",
    "    names = [r['lecture_name'] for r in data if r.get('retake_or_delete_status') == 'Y']\n",
    "    return names\n",
    "\n",
    "# 재수강한 과목 개수 반환\n",
    "def get_retake_course_count(user_id: str):\n",
    "    return len(get_retake_course_names(user_id))\n",
    "\n",
    "# 특정 성적을 받은 과목 조회 함수\n",
    "def get_subjects_by_grade(user_id: str, target_grade: str):\n",
    "    data = load_student_data(user_id)\n",
    "    return [r['lecture_name'] for r in data if r['lecutre_grade'] == target_grade]\n",
    "\n",
    "# 특정 과목의 최종 성적 반환 함수\n",
    "def get_final_grade_for_subject(user_id: str, subject_name: str):\n",
    "    data = load_student_data(user_id)\n",
    "    matches = [r for r in data if r['lecture_name'] == subject_name]\n",
    "    if not matches:\n",
    "        return None\n",
    "    return matches[-1]['lecutre_grade']\n",
    "\n",
    "# 재수강 횟수 과목별로 반환\n",
    "def get_retake_course_counts(user_id: str):\n",
    "    data = load_student_data(user_id)\n",
    "    names = [r['lecture_name'] for r in data if r.get('retake_status') == 'R']\n",
    "    return Counter(names)\n",
    "\n",
    "# 재수강 가능 과목 조회 함수 (정확하게 재수강 제외 기준 반영)\n",
    "def get_possible_retake_gpa(user_id: str, focus: str = \"all\", list_only: bool = False, fixed_grade: str = None):\n",
    "    data = load_student_data(user_id)\n",
    "    seen = {}\n",
    "    excluded = {}\n",
    "\n",
    "    # 재수강 후 B0 이상 받은 과목 제외\n",
    "    for record in data:\n",
    "        key = record['lecture_id']\n",
    "        grade = record['lecutre_grade']\n",
    "        if record.get('retake_status') == 'R' and GRADE_TO_POINT.get(grade, 0) >= 3.0:\n",
    "            excluded[key] = True\n",
    "\n",
    "    for record in data:\n",
    "        key = record['lecture_id']\n",
    "        grade = record['lecutre_grade']\n",
    "        ctype = record['lecture_course_type']\n",
    "\n",
    "        if record.get('retake_or_delete_status') == 'Y': continue\n",
    "        if key in excluded: continue\n",
    "        if focus == \"major\" and not ctype.startswith(\"전공\"): continue\n",
    "        if GRADE_TO_POINT.get(grade, 5) > 2.5: continue\n",
    "        if key not in seen:\n",
    "            seen[key] = (GRADE_TO_POINT[grade], record['lecture_credit'], record['lecture_name'])\n",
    "\n",
    "    if list_only:\n",
    "        if not seen:\n",
    "            return f\"지금 재수강 가능한 {'전공 ' if focus == 'major' else ''}과목은 없습니다.\"\n",
    "        return f\"재수강 가능한 {'전공 ' if focus == 'major' else ''}과목: \" + \", \".join([v[2] for v in seen.values()])\n",
    "\n",
    "def check_graduation_required_courses(user_id: str, required_json_path: str):\n",
    "    # 필수 과목 목록 추출\n",
    "    with open(required_json_path, encoding='utf-8') as f:\n",
    "        all_courses = json.load(f)\n",
    "\n",
    "    required = {\n",
    "        (item['lecture_name'], item['lecture_course_type'])\n",
    "        for item in all_courses\n",
    "        if item.get('lecture_course_type') in [\"교필\", \"전필\"]\n",
    "    }\n",
    "\n",
    "    # 사용자가 이수한 과목 목록\n",
    "    data = load_student_data(user_id)\n",
    "    taken = {\n",
    "        (record['lecture_name'], record['lecture_course_type'])\n",
    "        for record in data\n",
    "        if record.get(\"retake_or_delete_status\") != \"Y\"\n",
    "    }\n",
    "\n",
    "    taken_required = sorted(required & taken, key=lambda x: x[1])  # 이수한 필수\n",
    "    missed_required = sorted(required - taken, key=lambda x: x[1])  # 미이수 필수\n",
    "\n",
    "    def format_list(items):\n",
    "        result = defaultdict(list)\n",
    "        for name, typ in items:\n",
    "            result[typ].append(name)\n",
    "        return result\n",
    "\n",
    "    taken_fmt = format_list(taken_required)\n",
    "    missed_fmt = format_list(missed_required)\n",
    "\n",
    "    response_parts = []\n",
    "    if taken_fmt:\n",
    "        parts = [f\"{typ} 과목인 {', '.join(names)}\" for typ, names in taken_fmt.items()]\n",
    "        response_parts.append(\"졸업 필수 과목 중에서 \" + \"과 \" .join(parts) + \"를 이수하셨고\")\n",
    "    if missed_fmt:\n",
    "        parts = [f\"{typ} 과목인 {', '.join(names)}\" for typ, names in missed_fmt.items()]\n",
    "        response_parts.append(\" \".join(parts) + \"를 이수하지 않았습니다.\")\n",
    "    if not missed_required:\n",
    "        response_parts = [\"졸업 필수 과목을 모두 이수하셨습니다.\"]\n",
    "    return \" \".join(response_parts)\n",
    "\n",
    "def get_remaining_credits(user_id: str, graduation_total: int = 133):\n",
    "    data = load_student_data(user_id)\n",
    "    total_credits = sum(\n",
    "        record['lecture_credit']\n",
    "        for record in data\n",
    "        if record.get('retake_or_delete_status') != \"Y\"\n",
    "    )\n",
    "    remaining = graduation_total - total_credits\n",
    "    name = USER_NAME.get(user_id, user_id)\n",
    "    return f\"{name}님의 현재까지 이수한 학점은 {total_credits}학점이며, 졸업을 위해 {remaining}학점이 더 필요합니다.\"\n",
    "\n",
    "def calculate_gpa_from_raw_split(user_id: str) -> dict:\n",
    "    data = load_student_data(user_id)\n",
    "    name = USER_NAME.get(user_id, user_id)\n",
    "\n",
    "    total_points, total_credits = 0, 0\n",
    "    major_points, major_credits = 0, 0\n",
    "\n",
    "    for record in data:\n",
    "        if record.get('retake_or_delete_status') == 'Y':\n",
    "            continue\n",
    "\n",
    "        grade = record.get('lecutre_grade')\n",
    "        point = GRADE_TO_POINT.get(grade, None)\n",
    "        credit = record.get('lecture_credit', 0)\n",
    "        ctype = record.get('lecture_course_type', '')\n",
    "\n",
    "        if point is None or not isinstance(credit, (int, float)):\n",
    "            continue\n",
    "\n",
    "        # 전체 평점 누적\n",
    "        total_points += point * credit\n",
    "        total_credits += credit\n",
    "\n",
    "        # 전공 평점 누적 (전필 또는 전선만)\n",
    "        if ctype.startswith(\"전필\") or ctype.startswith(\"전선\"):\n",
    "            major_points += point * credit\n",
    "            major_credits += credit\n",
    "\n",
    "    result = {}\n",
    "    if total_credits > 0:\n",
    "        result[\"전체\"] = round(total_points / total_credits, 2)\n",
    "    if major_credits > 0:\n",
    "        result[\"전공\"] = round(major_points / major_credits, 2)\n",
    "    else:\n",
    "        result[\"전공\"] = None  # 또는 \"전공 과목 없음\"\n",
    "\n",
    "    return result\n",
    "\n",
    "# 성적 향상 가정 시 GPA 시뮬레이션 함수 개선\n",
    "def simulate_retake_gpa(user_id: str, fixed_grade: str = None, focus: str = \"all\"):\n",
    "    if fixed_grade == \"A+\":\n",
    "        return \"재수강 시 받을 수 있는 최고학점은 A0입니다.\"\n",
    "\n",
    "    data = load_student_data(user_id)\n",
    "    seen = {}\n",
    "    excluded = set()\n",
    "\n",
    "    for record in data:\n",
    "        key = record['lecture_id']\n",
    "        grade = record['lecutre_grade']\n",
    "        if record.get('retake_status') == 'R' and GRADE_TO_POINT.get(grade, 0) >= 3.0:\n",
    "            excluded.add(key)\n",
    "        if record.get('retake_or_delete_status') == 'Y':\n",
    "            excluded.add(key)\n",
    "\n",
    "    replace_targets = {}\n",
    "    base = {}\n",
    "    for record in data:\n",
    "        key = record['lecture_id']\n",
    "        grade = record['lecutre_grade']\n",
    "        credit = record['lecture_credit']\n",
    "        ctype = record['lecture_course_type']\n",
    "        name = record['lecture_name']\n",
    "\n",
    "        if key in excluded:\n",
    "            continue\n",
    "        if GRADE_TO_POINT.get(grade, 5) > 2.5:\n",
    "            continue\n",
    "        if focus == 'major' and not ctype.startswith(\"전공\"):\n",
    "            continue\n",
    "        if focus == 'liberal' and ctype.startswith(\"전공\"):\n",
    "            continue\n",
    "\n",
    "        if key not in replace_targets:\n",
    "            replace_targets[key] = (GRADE_TO_POINT[grade], credit, name)\n",
    "\n",
    "    for record in data:\n",
    "        key = record['lecture_id']\n",
    "        if record.get('retake_or_delete_status') == 'Y':\n",
    "            continue\n",
    "        base[key] = (GRADE_TO_POINT.get(record['lecutre_grade'], 0.0), record['lecture_credit'])\n",
    "\n",
    "    grade_options = [fixed_grade] if fixed_grade else [\"A0\", \"B+\", \"B0\", \"C+\", \"C0\"]\n",
    "    result_lines = []\n",
    "\n",
    "    for g in grade_options:\n",
    "        modified = base.copy()\n",
    "        label = []\n",
    "        for key, (_, credit, name) in replace_targets.items():\n",
    "            modified[key] = (GRADE_TO_POINT[g], credit)\n",
    "            label.append(f\"{name}: {g}\")\n",
    "        total_credits = sum(c for _, c in modified.values())\n",
    "        total_points = sum(p * c for p, c in modified.values())\n",
    "        avg = round(total_points / total_credits, 2)\n",
    "        result_lines.append(f\"{' / '.join(label)} → 예상 평점: {avg}\")\n",
    "\n",
    "    return \"\\n\".join(result_lines)\n",
    "\n",
    "def get_retake_reason_summary(user_id: str) -> str:\n",
    "    data = load_student_data(user_id)\n",
    "    results = []\n",
    "\n",
    "    for record in data:\n",
    "        name = record.get('lecture_name')\n",
    "        grade = record.get('lecutre_grade')\n",
    "        course_type = record.get('lecture_course_type', '')\n",
    "        is_retake = record.get('retake_status') == 'R'\n",
    "        is_dropped = record.get('retake_or_delete_status') == 'Y'\n",
    "\n",
    "        if is_dropped:\n",
    "            continue\n",
    "        if not course_type.startswith(\"전필\"):\n",
    "            continue\n",
    "        if grade not in [\"C+\", \"C0\", \"F\"]:\n",
    "            continue\n",
    "\n",
    "        msg = f\"{name}에서 {grade}를 받으셨습니다\"\n",
    "        if is_retake:\n",
    "            msg += \", 재수강하셨습니다\"\n",
    "        results.append(msg)\n",
    "\n",
    "    if not results:\n",
    "        return \"성적이 낮은 전공 필수 과목은 없습니다.\"\n",
    "\n",
    "    return \"전공 필수 과목 중 성적이 낮은 과목은 \" + \" / \".join(results) + \".\"\n",
    "\n",
    "    # GPA simulation part\n",
    "    original_data = load_student_data(user_id)\n",
    "    base = {}\n",
    "    for r in original_data:\n",
    "        key = r['lecture_id']\n",
    "        if r.get('retake_or_delete_status') == 'Y': continue\n",
    "        base[key] = (GRADE_TO_POINT.get(r['lecutre_grade'], 0.0), r['lecture_credit'])\n",
    "\n",
    "    replace_targets = list(seen.items())\n",
    "    grade_options = [fixed_grade] if fixed_grade else list(GRADE_TO_POINT.keys())\n",
    "    responses = []\n",
    "\n",
    "    for combo in itertools.product(grade_options, repeat=len(replace_targets)):\n",
    "        modified = base.copy()\n",
    "        label = []\n",
    "        for (key, (_, credit, name)), g in zip(replace_targets, combo):\n",
    "            modified[key] = (GRADE_TO_POINT[g], credit)\n",
    "            label.append(f\"{name}: {g}\")\n",
    "        total_credits = sum(c for _, c in modified.values())\n",
    "        total_points = sum(p * c for p, c in modified.values())\n",
    "        avg = round(total_points / total_credits, 2)\n",
    "        responses.append(f\"{' / '.join(label)} → 예상 평점: {avg}\")\n",
    "\n",
    "    return \"\\n\".join(responses)"
   ]
  },
  {
   "cell_type": "markdown",
   "id": "94033b02-0f38-4165-854b-34bff5846bae",
   "metadata": {},
   "source": [
    "#### ChromaDB 검색"
   ]
  },
  {
   "cell_type": "code",
   "execution_count": 57,
   "id": "e1f284f1-b25c-4cd5-9321-e4c695293cbe",
   "metadata": {},
   "outputs": [],
   "source": [
    "import json\n",
    "import re\n",
    "import random\n",
    "import itertools\n",
    "from collections import defaultdict, Counter\n",
    "from langchain_chroma import Chroma\n",
    "from langchain.chains import RetrievalQA\n",
    "from langchain.prompts import PromptTemplate\n",
    "from langchain_openai import ChatOpenAI\n",
    "from functools import lru_cache\n",
    "from difflib import SequenceMatcher\n",
    "\n",
    "llm = ChatOpenAI(model=\"gpt-4o-mini\", temperature=0.3)\n",
    "\n",
    "# 재수강 가능 과목 필터링 함수 (전공/교양 구분 포함)\n",
    "def get_filtered_retake_courses(user_id: str, focus: str = \"all\") -> list:\n",
    "    data = load_student_data(user_id)\n",
    "    seen = {}\n",
    "    excluded = set()\n",
    "\n",
    "    # 재수강했고 성적이 B0 이상이면 제외\n",
    "    for record in data:\n",
    "        key = record['lecture_id']\n",
    "        grade = record['lecutre_grade']\n",
    "        if record.get('retake_status') == 'R' and GRADE_TO_POINT.get(grade, 0) >= 3.0:\n",
    "            excluded.add(key)\n",
    "        if record.get('retake_or_delete_status') == 'Y':\n",
    "            excluded.add(key)\n",
    "\n",
    "     # 재수강 조건에 부합하는 과목 수집\n",
    "    for record in data:\n",
    "        key = record['lecture_id']\n",
    "        grade = record['lecutre_grade']\n",
    "        ctype = record['lecture_course_type']\n",
    "        name = record['lecture_name']\n",
    "\n",
    "        if key in excluded:\n",
    "            continue\n",
    "        if GRADE_TO_POINT.get(grade, 5) > 2.5:\n",
    "            continue\n",
    "        if focus == 'major' and not ctype.startswith(\"전공\"):\n",
    "            continue\n",
    "        if focus == 'liberal' and ctype.startswith(\"전공\"):\n",
    "            continue\n",
    "        if key not in seen:\n",
    "            seen[key] = name\n",
    "\n",
    "    return list(seen.values())\n",
    "\n",
    "# 팀플 조건별 응답 포맷 구성\n",
    "def format_team_project_response(team_condition: str, lectures: list):\n",
    "    if not lectures:\n",
    "        return f\"팀플이 {team_condition} 강의를 찾을 수 없습니다.\"\n",
    "\n",
    "    condition_map = {\n",
    "    \"없음\": \"없는\",\n",
    "    \"보통\": \"적은\",\n",
    "    \"많은\": \"많은\"\n",
    "    }\n",
    "    label = condition_map.get(team_condition, team_condition)\n",
    "    header = f\"팀플이 {label} 강의는 다음과 같습니다:\"\n",
    "    body = \"\\n\".join(\n",
    "        f\"{i+1}. {lec['lecture_name']} (학정번호: {lec['lecture_id']})\"\n",
    "        for i, lec in enumerate(lectures)\n",
    "    )\n",
    "    return f\"{header}\\n{body}\"\n",
    "\n",
    "# 조별과제/팀플 조건 파싱 및 정규화\n",
    "def normalize_team_condition(user_input: str) -> str | None:\n",
    "    condition_map = {\n",
    "        \"없음\": [\"팀플 없는\", \"팀플이 없는\", \"조별과제 없는\", \"조별과제가 없는\"],\n",
    "        \"보통\": [\"팀플 보통\", \"팀플이 보통\", \"조별과제 보통\", \"조별과제가 보통\", \"팀플 적은\", \"팀플이 적은\", \"조별과제 적은\", \"조별과제가 적은\"],\n",
    "        \"많은\": [\"팀플 많은\", \"팀플이 많은\", \"조별과제 많은\", \"조별과제가 많은\", \"팀플 많음\", \"조별과제 많음\"]\n",
    "    }\n",
    "    for condition, variants in condition_map.items():\n",
    "        if any(v in user_input for v in variants):\n",
    "            return condition\n",
    "    return None\n",
    "\n",
    "# Load scenario data\n",
    "SCENARIO_FILES = [\"./data/강의탐색.json\", \"./data/진로상담.json\", \"./data/학습현황.json\"]\n",
    "\n",
    "def load_scenario_data():\n",
    "    data = []\n",
    "    for path in SCENARIO_FILES:\n",
    "        try:\n",
    "            with open(path, encoding=\"utf-8\") as f:\n",
    "                data.extend(json.load(f))\n",
    "        except FileNotFoundError:\n",
    "            print(f\"⚠️ 파일 누락: {path}\")\n",
    "    return data\n",
    "\n",
    "SCENARIOS = load_scenario_data()\n",
    "\n",
    "def match_scenario_answer(user_input: str, threshold: float = 0.83) -> str | None:\n",
    "    norm_input = user_input.replace(\" \", \"\").lower()\n",
    "    best_score = 0\n",
    "    best_answer = None\n",
    "\n",
    "    for item in SCENARIOS:\n",
    "        q = item.get(\"Text\", \"\")\n",
    "        a = item.get(\"Completion\", \"\")\n",
    "        q_norm = q.replace(\" \", \"\").lower()\n",
    "        score = SequenceMatcher(None, norm_input, q_norm).ratio()\n",
    "        if score > best_score:\n",
    "            best_score = score\n",
    "            best_answer = a\n",
    "\n",
    "    return best_answer if best_score >= threshold else None\n",
    "\n",
    "prompt = PromptTemplate(\n",
    "    input_variables=[\"context\", \"question\"],\n",
    "    template=\n",
    "        \"\"\"❗ 반드시 아래 문서 내 정보만 사용해서 답변하세요.\n",
    "            ❌ 문서에 없는 정보는 생성하지 마세요.\n",
    "            ❌ 유추, 추론, 보완, 일반 상식 사용 금지.\n",
    "            \n",
    "                - 두 개 이상인 경우에는 **모두 나열**하세요.\n",
    "                - 조건에 맞는 강의가 없는 경우, \"추천할 수 있는 과목이 없습니다.\"라고 하세요.\n",
    "                - \"수강이력.json\"에 있는 과목은 제외하고 추천하세요.\n",
    "                - 000교수님 강의 추천해줘 → 질문에는 \"수강신청자료집.json\"에서 lecture_professor항목에서 검색하여 대답하세요.\n",
    "                - 반드시 \"수강신청 자료집.json\"과 \"수강신청_자료집_전체.pdf\" 파일만 사용하세요.\n",
    "                - 교수님 이름을 헷갈리지 마고 정확히 적어주세요.\n",
    "                - 예: \"OOO 교수님 강의 추천해줘\" → \"OOO 교수님의 강의 OOO 추천 드립니다.\"\n",
    "\n",
    "            ✅ **성적 응답**\n",
    "                - 성적 표현은 반드시 데이터에 있는 A+, A0, B+, B0, C+, C0, F 등등으로만 응답하세요.\n",
    "                - 예: \"A+\"를 물으면 A+만 보여주고, A0는 포함하지 마세요.\n",
    "                - 유사 성적 포함, 평균값 추론 등은 절대 하지 마세요.\n",
    "                - 졸업 학점 기준은 \"2022학년도 입학자\" 기준으로 133학점 입니다. 이에 맞춰서 졸업 가능 여부를 판단하세요.\n",
    "\n",
    "            ✅ **강의 평가 응답**\n",
    "                - 조별과제, 팀플 많음 여부, 시험 성적 너그러움 여부에 대한 질문은 **반드시 강의 평점.json 파일만 사용**해서 답하세요.\n",
    "\n",
    "            ✅ **답변 형식**\n",
    "                - 반드시 아래 말투와 형식을 따르세요:\n",
    "                - \"자료구조 성적이 뭐야?\" → \"자료구조의 성적은 B+입니다.\"\n",
    "                - \"내가 A+ 받은 과목 알려줘\" → \"OOO, OOO 과목에서 A+를 받으셨습니다.\"\n",
    "                - \"객체지향프로그래밍이 전선이지?\" → \"네, 객체지향프로그래밍은 전필입니다.\"\n",
    "                - \"전체 평균이 어떻게 돼?\" → \"전체 성적 평균은 3.58입니다.\"\n",
    "                - 답변 앞에 \"답변:\", \"안녕하세요\", \"요약하자면\" 등의 말은 **절대 붙이지 마세요.**\n",
    "                - 추가 질문 권유, 응원의 말은 절대 하지마세요.\n",
    "                \n",
    "                당신은 광운대학교 학사정보를 기반으로 한 진로상담 챗봇입니다. 다음 세 가지 기능을 수행합니다:\n",
    "\n",
    "                    1. 강의탐색: 사용자에게 적절한 강의나 과목을 추천합니다.\n",
    "                    2. 학습현황: 사용자의 성적 및 수강 과목 정보를 요약하거나 조회합니다.\n",
    "                    3. 진로상담: 사용자 성적, 이수 과목 등을 바탕으로 진로 관련 질문에 응답합니다.\n",
    "\n",
    "                    ❗ 반드시 아래 지침을 따르세요:\n",
    "\n",
    "                    ✅ **데이터 제한**\n",
    "                        - \"강의탐색\" 및 \"학습현황\" 기능은 반드시 제공된 pdf 및 json 내 데이터만을 사용하여 응답하세요.\n",
    "                        - 데이터에 없는 정보는 절대 생성하거나 유추하지 마세요.\n",
    "                        - 없으면 \"해당 정보는 제공되지 않았습니다\"라고 명확히 말하세요.\n",
    "\n",
    "                    ✅ **강의 추천**\n",
    "                        - 조건에 맞는 강의가 하나라면 **무 말, 불필요한 부연은 금지합니다.\n",
    "                        - 광운대학교 외의 다른 학교에 대한 정보는 절대 제공하지 마세요.\n",
    "\n",
    "                    📄 문서: {context}\n",
    "                    💬 질문: {question}\n",
    "\n",
    "                    지침을 반드시 지켜서 **자연스럽고 간결하게 말문을 여세요.**\n",
    "\n",
    "            문서 내용은 다음과 같은 형식을 따릅니다:\n",
    "    \n",
    "                질문: ...\n",
    "                답변: ...\n",
    "                \n",
    "                사용자 질문과 가장 유사한 질문이 문서에 있을 경우,\n",
    "                해당 질문과 함께 적혀 있는 **답변만 그대로 출력**하세요.\n",
    "                \n",
    "                절대 새로운 문장을 생성하거나 다른 정보를 섞지 마세요.\"\"\"\n",
    "\n",
    ")\n",
    "\n",
    "vectorstore = Chroma(\n",
    "    persist_directory=\"./chroma_db\",\n",
    "    collection_name=\"lecture_search\",\n",
    "    embedding_function=embeddings_model\n",
    ")\n",
    "qa = RetrievalQA.from_chain_type(\n",
    "    llm=llm,\n",
    "    retriever=vectorstore.as_retriever(search_kwargs={\"k\": 20}),\n",
    "    chain_type=\"stuff\",\n",
    "    chain_type_kwargs={\"prompt\": prompt}\n",
    ")\n",
    "    \n",
    "# 자연어 질의 응답 처리 함수\n",
    "def answer_query(user_input: str, user_id: str = \"kim\"):\n",
    "    lowered = user_input.lower()\n",
    "    normalized = lowered.replace(\" \", \"\")\n",
    "\n",
    "    collection_name = get_collection_name(user_input, user_id)\n",
    "    \n",
    "    # 졸업논문/프로젝트 관련 질의 선처리\n",
    "    graduation_keywords = [\"졸업논문\", \"졸업프로젝트\", \"졸프\", \"졸작\", \"졸업과제\"]\n",
    "    \n",
    "    # 시기 관련 질의는 가장 먼저 처리\n",
    "    if all(k in lowered for k in [\"졸업\", \"논문\", \"프로젝트\"]) and any(w in lowered for w in [\"언제\", \"언제부터\", \"시기\", \"몇학년\", \"준비\", \"시작\"]):\n",
    "        return (\"빠르면 3학년부터 준비하는 경우도 있지만, 대부분 3학년 2학기부터 팀을 구한 후 4학년 때 프로젝트를 진행합니다. 논문의 경우도 대부분 4학년 때 준비합니다.\")\n",
    "    \n",
    "    # 필수 여부\n",
    "    if all(k in lowered for k in [\"졸업\", \"논문\", \"프로젝트\"]) and any(w in lowered for w in [\"필수\", \"의무\", \"꼭\", \"반드시\", \"필요\", \"해야\", \"해야해\"]):\n",
    "        return \"졸업하기 위해서는 졸업 논문 혹은 졸업 프로젝트 둘 중 하나는 필수입니다.\"\n",
    "    \n",
    "    # 기타 졸프 관련 질의\n",
    "    if any(k in lowered for k in graduation_keywords):\n",
    "        return \"졸업 논문이나 졸업 프로젝트와 관련된 사항은 전공 학과나 학교의 졸업 요건에 따라 다르며, 학과 사무실이나 지도 교수님을 통해 반드시 확인하셔야 합니다.\"\n",
    "\n",
    "    # 특정 학점 + 과목 타입 필터\n",
    "    if re.search(r'\\d\\s*학점', user_input):\n",
    "        return get_lectures_by_credit_and_type(user_input)\n",
    "\n",
    "    # 팀플 조건 분석 및 응답\n",
    "    team_condition = normalize_team_condition(user_input)\n",
    "    match = re.search(r'(\\d+)\\s*개', user_input)\n",
    "    count = int(match.group(1)) if match else None\n",
    "\n",
    "    if team_condition:\n",
    "        filtered_lectures = filter_lectures_by_team([\"./data/kw_chatbot_data - 강의 평점.json\"], team_condition)\n",
    "        seen = set()\n",
    "        unique_lectures = []\n",
    "        for lec in filtered_lectures:\n",
    "            if lec[\"lecture_name\"] not in seen:\n",
    "                seen.add(lec[\"lecture_name\"])\n",
    "                unique_lectures.append(lec)\n",
    "        if count:\n",
    "            unique_lectures = unique_lectures[:count]\n",
    "        return format_team_project_response(team_condition, unique_lectures)\n",
    "\n",
    "    # 성적 이하 필터\n",
    "    if \"이하\" in normalized:\n",
    "        for grade in GRADE_TO_POINT:\n",
    "            if grade.lower() in normalized:\n",
    "                threshold = GRADE_TO_POINT[grade]\n",
    "                target_grades = [g for g, p in GRADE_TO_POINT.items() if p <= threshold]\n",
    "                subjects = [r['lecture_name'] for r in load_student_data(user_id) if r['lecutre_grade'] in target_grades]\n",
    "                return f\"{', '.join(subjects)} 과목이 {grade} 이하입니다.\" if subjects else f\"{grade} 이하인 과목이 없습니다.\"\n",
    "\n",
    "    # 전체 성적 평균 요청\n",
    "    if any(k in normalized for k in [\"전체성적평균\", \"전체학점평균\"]):\n",
    "        gpas = calculate_gpa_from_raw_split(user_id)\n",
    "        if \"전체\" in gpas:\n",
    "            return f\"{USER_NAME.get(user_id, user_id)}님의 전체 성적 평균은 {gpas['전체']}입니다.\"\n",
    "        return \"전체 성적 평균은 제공된 정보에 포함되어 있지 않습니다.\"\n",
    "\n",
    "    # 전공 성적 평균 요청\n",
    "    if \"전공\" in normalized and \"평균\" in normalized:\n",
    "        gpas = calculate_gpa_from_raw_split(user_id)\n",
    "        gpa = gpas.get(\"전공\", None)\n",
    "        name = USER_NAME.get(user_id, user_id)\n",
    "        if gpa is not None:\n",
    "            return f\"{name}님의 전공 성적 평균은 {gpa}입니다.\"\n",
    "        return f\"{name}님의 전공 성적 평균은 제공된 정보에 포함되어 있지 않습니다.\"\n",
    "\n",
    "    # 재수강 횟수 조회\n",
    "    if \"재수강몇번했어\" in normalized or \"나몇번재수강했어\" in normalized:\n",
    "        retake_counts = count_retake_courses(user_id)\n",
    "        if not retake_counts:\n",
    "            return \"재수강한 과목이 없습니다.\"\n",
    "        parts = [f\"{name} 과목을 {count}번\" for name, count in retake_counts.items()]\n",
    "        return f\"{', '.join(parts)} 재수강하셨습니다.\"\n",
    "\n",
    "    # 단일 과목 성적 조회\n",
    "    if \"성적이어때\" in normalized or \"학점이어때\" in normalized:\n",
    "        course_name = user_input.split()[0].replace(\" \", \"\")\n",
    "        grade = get_course_grade(user_id, course_name)\n",
    "        return f\"{course_name}의 성적은 {grade}입니다.\" if grade else f\"{course_name}에 대한 성적 정보를 찾을 수 없습니다.\"\n",
    "\n",
    "    # 특정 성적 받은 과목 나열\n",
    "    for grade in GRADE_TO_POINT:\n",
    "        if grade.lower() in normalized and (\"받은과목\" in normalized or \"받은수업\" in normalized):\n",
    "            subjects = [r['lecture_name'] for r in load_student_data(user_id) if r['lecutre_grade'] == grade]\n",
    "            return f\"{', '.join(subjects)} 과목에서 {grade}를 받으셨습니다.\" if subjects else f\"{grade}를 받은 과목이 없습니다.\"\n",
    "\n",
    "    # 재수강 목록 조회\n",
    "    if \"재수강한거뭐있어\" in normalized or \"재수강한과목\" in normalized:\n",
    "        data = load_student_data(user_id)\n",
    "        names = [r['lecture_name'] for r in data if r.get('retake_status') == 'R']\n",
    "        return \", \".join(f\"{name}을 재수강했습니다.\" for name in names) if names else \"재수강한 과목이 없습니다.\"\n",
    "\n",
    "    # 재수강 반영한 평점 요청\n",
    "    if any(k in normalized for k in [\"재수강하고전체학점\", \"재수강반영된학점\", \"재수강적용학점\", \"재수강하고학점\"]):\n",
    "        return get_gpa_with_retake(user_id, exclude_pre_retake=True)\n",
    "\n",
    "    # 재수강 가능한 전공 과목 요청\n",
    "    if \"재수강가능한전공과목\" in normalized and any(k in normalized for k in [\"뭐가있어\", \"뭐있어\", \"뭐야\"]):\n",
    "        filtered = get_filtered_retake_courses(user_id, focus=\"major\")\n",
    "        return f\"지금 재수강 가능한 전공 과목은 {', '.join(filtered)}입니다.\" if filtered else \"지금 재수강 가능한 전공 과목은 없습니다.\"\n",
    "\n",
    "    # 전체 재수강 가능한 과목\n",
    "    if \"재수강가능한과목\" in normalized and any(k in normalized for k in [\"뭐가있어\", \"뭐있어\", \"뭐야\"]):\n",
    "        majors = get_filtered_retake_courses(user_id, focus=\"major\")\n",
    "        liberals = get_filtered_retake_courses(user_id, focus=\"liberal\")\n",
    "        total = majors + liberals\n",
    "        return f\"지금 재수강 가능한 과목은 {', '.join(total)}입니다.\" if total else \"지금 재수강 가능한 과목은 없습니다.\"\n",
    "\n",
    "    if \"재수강가능한횟수\" in normalized or (\"재수강\" in normalized and \"횟수\" in normalized):\n",
    "        data = load_student_data(user_id)\n",
    "        retake_count = sum(1 for r in data if r.get(\"retake_status\") == \"R\" and r.get(\"lecutre_grade\") != \"F\")\n",
    "        remaining = 8 - retake_count\n",
    "        name = USER_NAME.get(user_id, user_id)\n",
    "        return f\"{name}님은 총 8번까지 재수강이 가능하며, 현재까지 {retake_count}번 재수강하셨습니다. 따라서 {remaining}번 더 재수강할 수 있습니다.\"\n",
    "\n",
    "    # 성적 향상 가정 시 GPA 시뮬레이션\n",
    "    if (\"재수강가능한과목\" in normalized or \"재수강가능한전공과목\" in normalized) and \"성적올리면\" in normalized:\n",
    "        focus = \"major\" if \"전공\" in normalized else \"all\"\n",
    "        fixed_grade = None\n",
    "        for grade in GRADE_TO_POINT:\n",
    "            if f\"{grade.lower()}로\" in normalized:\n",
    "                fixed_grade = grade\n",
    "                break\n",
    "        return simulate_retake_gpa(user_id, fixed_grade=fixed_grade, focus=focus)\n",
    "\n",
    "    if \"조기졸업\" in normalized and \"가능\" in normalized:\n",
    "        data = load_student_data(user_id)\n",
    "        credits = sum(r['lecture_credit'] for r in data if r.get('retake_or_delete_status') != \"Y\")\n",
    "        grades = [GRADE_TO_POINT.get(r['lecutre_grade'], 0.0) for r in data if r.get('retake_or_delete_status') != \"Y\"]\n",
    "        avg = round(sum(grades) / len(grades), 2) if grades else 0\n",
    "    \n",
    "        # C+ 이하 여부 체크\n",
    "        bad_grades = {\"C+\", \"C0\", \"F\"}\n",
    "        has_c_or_lower = any(\n",
    "            r.get('lecutre_grade') in bad_grades\n",
    "            for r in data if r.get('retake_or_delete_status') != \"Y\"\n",
    "        )\n",
    "    \n",
    "        if credits >= 114 and avg >= 4.3 and not has_c_or_lower:\n",
    "            return \"현재 조기 졸업 조건을 충족하셨습니다. 신청이 가능합니다.\"\n",
    "        else:\n",
    "            message = (\n",
    "                \"조기 졸업 가능 조건은 6학기 말까지 114학점 이상 취득(계절수업 제외), \"\n",
    "                \"7개 학기 이상 이수자로 학칙시행세칙 제16조 평점평균의 산출에 따른 총 평점평균이 4.3 이상인 자(학적부성적 기준), \"\n",
    "                \"조기졸업 신청 당해 학기까지 취득한 전과목 성적이 B0 이상인 자(학적부성적 기준)입니다.\"\n",
    "            )\n",
    "            if has_c_or_lower:\n",
    "                message += \" 현재 C+ 이하의 성적이 존재하므로 재수강을 통해 성적을 개선하고 평점 평균을 4.3 이상으로 만든다면 조기 졸업이 가능합니다.\"\n",
    "            return message\n",
    "\n",
    "    if \"장학금\" in normalized:\n",
    "        if any(k in normalized for k in [\"화도\", \"동해\"]) and \"최소\" in normalized and \"학점\" in normalized:\n",
    "            return \"화도·동해 장학금은 직전 학기 12학점 이상, 평점 2.0 이상이어야 신청 가능합니다.\"\n",
    "        if \"성적\" in normalized:\n",
    "            return \"성적 장학금은 평량평균이 3.0 이상이며, 17학점 이상 취득(4학년은 12학점), 그 중 60% 이상이 전공 학점일 경우 자동 신청됩니다.\"\n",
    "\n",
    "    if \"졸업필수과목\" in normalized:\n",
    "        return check_graduation_required_courses(user_id, \"data/kw_chatbot_data - 수강신청자료집.json\")\n",
    "\n",
    "    if \"졸업하려면몇학점남았어\" in normalized:\n",
    "        return get_remaining_credits(user_id)\n",
    "        \n",
    "    ####################\n",
    "    # 단순 고정 응답 처리\n",
    "    \n",
    "    if \"졸업유예\" in normalized:\n",
    "        return \"아니요. 우리 학교에서는 졸업 유예 신청이 불가능합니다.\"\n",
    "\n",
    "    if \"재수강\" in normalized and \"표시\" in normalized:\n",
    "        return \"재수강한 과목은 성적표에 ‘R’(Retake)로 표기되며, 재수강한 과목의 성적만 성적 및 학점에 반영됩니다.\"\n",
    "\n",
    "    if \"f받고재수강\" in normalized or (\"f\" in normalized and \"재수강\" in normalized):\n",
    "        return \"F 받은 과목은 재수강 시 '재수강' 표시가 뜨지 않지만, 재수강 이력은 남고 성적표에는 'R'로 표기됩니다.\"\n",
    "\n",
    "    if \"동일과목\" in normalized and \"몇번\" in normalized:\n",
    "        return \"C+ 이하인 동일과목은 최대 2회까지 재수강 가능하며, 전체 재학 중 재수강 가능한 교과목 수는 최대 8과목입니다. F 학점은 제외됩니다.\"\n",
    "        \n",
    "    if \"휴학\" in normalized and \"몇번\" in normalized:\n",
    "        return \"일반휴학을 최대 6학기(3년) 할 수 있으며, 한 번 신청 시 최대 2학기 가능합니다. 군휴학 및 창업휴학은 일반휴학 기간에 포함되지 않습니다. 특별한 사유가 있을 경우 추가 휴학이 가능할 수도 있습니다. (단, 일반휴학기간은 한 번에 두 학기를 초과하지 못하며, 통산 3년(6학기)(연속해서는 2년)을 초과하지 못합니다.)\"\n",
    "\n",
    "    if \"같은과목\" in normalized and \"재수강\" in normalized and (\"교수\" in normalized or \"사라지\" in normalized or \"폐지\" in normalized):\n",
    "        return \"학정번호 기준으로 동일한 학정번호가 있는 강의를 수강하시면 됩니다. 다만, 동일한 학정번호의 강의가 3년 이상 미개설 할 경우, C이하의 과목은 학점삭제 가능합니다. 자세한 내용은 학사에 문의하세요.\"\n",
    "    ####################    \n",
    "    \n",
    "    #재수강 vs 새로운 전공과목 선택 질문\n",
    "    if any(x in normalized for x in [\"재수강\", \"다시듣는\", \"다시 들어야\", \"낮은성적\"]) and any(y in normalized for y in [\"전공\", \"필수\", \"과목\", \"수업\"]):\n",
    "        data = load_student_data(user_id)\n",
    "        low_grade_threshold = 2.5\n",
    "        low_major_required = []\n",
    "\n",
    "        for record in data:\n",
    "            grade_str = record.get(\"lecutre_grade\")\n",
    "            grade = GRADE_TO_POINT.get(grade_str, 5)\n",
    "            ctype = record[\"lecture_course_type\"]\n",
    "            name = record[\"lecture_name\"]\n",
    "\n",
    "            if not ctype.startswith(\"전\"):\n",
    "                continue\n",
    "            if grade > low_grade_threshold:\n",
    "                continue\n",
    "            if record.get(\"retake_or_delete_status\") == \"Y\":\n",
    "                continue\n",
    "\n",
    "            low_major_required.append((grade_str, name))\n",
    "\n",
    "        name = USER_NAME.get(user_id, user_id)\n",
    "        response = f\"재수강 여부는 개인의 학업 목표와 상황에 따라 다르지만, 성적이 낮은 전공 과목을 재수강하는 것은 전공에 대한 이해도를 높이고 평점 평균을 개선하는 데 도움이 될 수 있습니다. 반면, 다른 전공 과목을 듣는다면 다양한 지식을 쌓을 수 있는 기회가 될 수 있습니다.\"\n",
    "\n",
    "        if not low_major_required:\n",
    "            response += f\" 현재 성적을 고려할 때, 성적이 낮은 전공 과목은 확인되지 않았습니다.\"\n",
    "        else:\n",
    "            parts = [f\"{grade}를 받은 {name} 과목\" for grade, name in low_major_required]\n",
    "            response += \" 현재 성적을 고려할 때, 재수강이 가능한 전공 과목으로는 \" + \" / \".join(parts) + \"이 있습니다.\"\n",
    "\n",
    "        return response\n",
    "   \n",
    "    if \"이수한과목\" in normalized or \"이수한수업\" in normalized or \"과목리스트\" in normalized or \"수업리스트\" in normalized or \"들은과목\" in normalized or \"지금까지이수한\" in normalized:\n",
    "        data = load_student_data(user_id)\n",
    "        name = USER_NAME.get(user_id, user_id)\n",
    "        grouped = defaultdict(list)\n",
    "    \n",
    "        for r in data:\n",
    "            if r.get(\"retake_or_delete_status\") == \"Y\":\n",
    "                continue\n",
    "            ctype = r[\"lecture_course_type\"]\n",
    "            grade = r[\"lecutre_grade\"]\n",
    "            lecture = r[\"lecture_name\"]\n",
    "            retake_mark = \", R\" if r.get(\"retake_status\") == \"R\" else \"\"\n",
    "            grouped[ctype].append(f\"{lecture}({grade}{retake_mark})\")\n",
    "    \n",
    "        order = [\"전필\", \"전선\", \"교필\", \"교선\"]\n",
    "        lines = [f\"{ctype}: {' / '.join(grouped[ctype])}\" for ctype in order if ctype in grouped]\n",
    "    \n",
    "        if not lines:\n",
    "            return f\"{name}님께서 이수하신 과목이 확인되지 않았습니다.\"\n",
    "        return f\"{name}님께서 현재까지 이수하신 과목 목록:\\n\" + \"\\n\".join(lines)\n",
    "\n",
    "    # 2. 시나리오 매칭\n",
    "    scenario_ans = match_scenario_answer(user_input)\n",
    "    if scenario_ans:\n",
    "        return scenario_ans\n",
    "\n",
    "    # 3. 벡터 검색 결과에서 응답 찾기\n",
    "    similar_docs = vectorstore.similarity_search_with_score(user_input, k=3)\n",
    "    for doc, score in similar_docs:\n",
    "        if \"질문:\" in doc.page_content and \"답변:\" in doc.page_content:\n",
    "            try:\n",
    "                return doc.page_content.split(\"답변:\")[1].strip()\n",
    "            except:\n",
    "                continue\n",
    "\n",
    "    # 4. LLM 기반 QA 시도\n",
    "    try:\n",
    "        result = qa.invoke({\"query\": user_input})[\"result\"].strip()\n",
    "        if result and \"찾을 수 없습니다\" not in result:\n",
    "            return result\n",
    "    except Exception:\n",
    "        pass\n",
    "\n",
    "    # 🔧 5. 최후 fallback - 세부전공 기반 시나리오 중 가장 유사한 항목\n",
    "    return find_best_matching_answer(user_input, user_id)\n",
    "\n",
    "def find_best_matching_answer(user_input, user_id):\n",
    "    major = \"VT\" if user_id == \"kim\" else \"DS\"\n",
    "    major_data = [item for item in SCENARIOS if item.get(\"세부전공\") == major]\n",
    "    if not major_data:\n",
    "        major_data = SCENARIOS  # fallback to all if major tag missing\n",
    "\n",
    "    norm_input = user_input.replace(\" \", \"\").lower()\n",
    "    best_score = 0\n",
    "    best_answer = None\n",
    "\n",
    "    for item in major_data:\n",
    "        q = item.get(\"Text\", \"\")\n",
    "        a = item.get(\"Completion\", \"\")\n",
    "        q_norm = q.replace(\" \", \"\").lower()\n",
    "        score = SequenceMatcher(None, norm_input, q_norm).ratio()\n",
    "        if score > best_score:\n",
    "            best_score = score\n",
    "            best_answer = a\n",
    "\n",
    "    return best_answer if best_answer else \"해당 질문에 대한 적절한 답변을 찾을 수 없습니다.\""
   ]
  },
  {
   "cell_type": "code",
   "execution_count": 53,
   "id": "1d21851e-6d12-4e8c-9bba-01cf91f3d3ac",
   "metadata": {},
   "outputs": [],
   "source": [
    "import json\n",
    "import difflib\n",
    "\n",
    "# JSON 로딩 (최초 1회만)\n",
    "with open(\"./data/진로상담.json\", encoding=\"utf-8\") as f:\n",
    "    counsel_data = json.load(f)\n",
    "\n",
    "# 정확 매칭 + 유사도 매칭 기반 질의 처리기\n",
    "def find_best_matching_answer(user_input, user_id):\n",
    "    major = \"VT\" if user_id == \"kim\" else \"DS\"\n",
    "    major_data = [item for item in counsel_data if item[\"세부전공\"] == major]\n",
    "\n",
    "    # 1. 완전 일치 먼저 시도\n",
    "    for item in major_data:\n",
    "        if item[\"Text\"].strip() == user_input.strip():\n",
    "            return item[\"Completion\"]\n",
    "\n",
    "    # 2. 유사도 높은 질문 탐색\n",
    "    question_list = [item[\"Text\"] for item in major_data]\n",
    "    close = difflib.get_close_matches(user_input, question_list, n=1, cutoff=0.65)\n",
    "    if close:\n",
    "        for item in major_data:\n",
    "            if item[\"Text\"] == close[0]:\n",
    "                return item[\"Completion\"]\n",
    "\n",
    "    return \"현재 전공에서는 해당 질문에 대한 답변을 찾을 수 없습니다.\"\n",
    "\n",
    "# 메인 응답 함수\n",
    "def answer_query(user_input, user_id=\"kim\"):\n",
    "    return find_best_matching_answer(user_input, user_id)"
   ]
  },
  {
   "cell_type": "markdown",
   "id": "642a5e64-9903-4a5d-9a9b-963a4b449036",
   "metadata": {
    "jp-MarkdownHeadingCollapsed": true
   },
   "source": [
    "#### 수강이력"
   ]
  },
  {
   "cell_type": "markdown",
   "id": "edfc7843-e0fd-426c-9d89-c2e372ba63c1",
   "metadata": {
    "jp-MarkdownHeadingCollapsed": true
   },
   "source": [
    "##### 학점 계산"
   ]
  },
  {
   "cell_type": "code",
   "execution_count": 56,
   "id": "66102682-f7cb-42cc-bdba-fe6927f70bb9",
   "metadata": {},
   "outputs": [
    {
     "ename": "KeyError",
     "evalue": "'세부전공'",
     "output_type": "error",
     "traceback": [
      "\u001b[31m---------------------------------------------------------------------------\u001b[39m",
      "\u001b[31mKeyError\u001b[39m                                  Traceback (most recent call last)",
      "\u001b[36mCell\u001b[39m\u001b[36m \u001b[39m\u001b[32mIn[56]\u001b[39m\u001b[32m, line 1\u001b[39m\n\u001b[32m----> \u001b[39m\u001b[32m1\u001b[39m \u001b[43manswer_query\u001b[49m\u001b[43m(\u001b[49m\u001b[33;43m\"\u001b[39;49m\u001b[33;43m전체 성적 평균이 어떻게 돼?\u001b[39;49m\u001b[33;43m\"\u001b[39;49m\u001b[43m,\u001b[49m\u001b[43m \u001b[49m\u001b[43muser_id\u001b[49m\u001b[43m=\u001b[49m\u001b[33;43m\"\u001b[39;49m\u001b[33;43mhong\u001b[39;49m\u001b[33;43m\"\u001b[39;49m\u001b[43m)\u001b[49m\n",
      "\u001b[36mCell\u001b[39m\u001b[36m \u001b[39m\u001b[32mIn[53]\u001b[39m\u001b[32m, line 30\u001b[39m, in \u001b[36manswer_query\u001b[39m\u001b[34m(user_input, user_id)\u001b[39m\n\u001b[32m     29\u001b[39m \u001b[38;5;28;01mdef\u001b[39;00m\u001b[38;5;250m \u001b[39m\u001b[34manswer_query\u001b[39m(user_input, user_id=\u001b[33m\"\u001b[39m\u001b[33mkim\u001b[39m\u001b[33m\"\u001b[39m):\n\u001b[32m---> \u001b[39m\u001b[32m30\u001b[39m     \u001b[38;5;28;01mreturn\u001b[39;00m \u001b[43mfind_best_matching_answer\u001b[49m\u001b[43m(\u001b[49m\u001b[43muser_input\u001b[49m\u001b[43m,\u001b[49m\u001b[43m \u001b[49m\u001b[43muser_id\u001b[49m\u001b[43m)\u001b[49m\n",
      "\u001b[36mCell\u001b[39m\u001b[36m \u001b[39m\u001b[32mIn[53]\u001b[39m\u001b[32m, line 11\u001b[39m, in \u001b[36mfind_best_matching_answer\u001b[39m\u001b[34m(user_input, user_id)\u001b[39m\n\u001b[32m      9\u001b[39m \u001b[38;5;28;01mdef\u001b[39;00m\u001b[38;5;250m \u001b[39m\u001b[34mfind_best_matching_answer\u001b[39m(user_input, user_id):\n\u001b[32m     10\u001b[39m     major = \u001b[33m\"\u001b[39m\u001b[33mVT\u001b[39m\u001b[33m\"\u001b[39m \u001b[38;5;28;01mif\u001b[39;00m user_id == \u001b[33m\"\u001b[39m\u001b[33mkim\u001b[39m\u001b[33m\"\u001b[39m \u001b[38;5;28;01melse\u001b[39;00m \u001b[33m\"\u001b[39m\u001b[33mDS\u001b[39m\u001b[33m\"\u001b[39m\n\u001b[32m---> \u001b[39m\u001b[32m11\u001b[39m     major_data = [item \u001b[38;5;28;01mfor\u001b[39;00m item \u001b[38;5;129;01min\u001b[39;00m counsel_data \u001b[38;5;28;01mif\u001b[39;00m \u001b[43mitem\u001b[49m\u001b[43m[\u001b[49m\u001b[33;43m\"\u001b[39;49m\u001b[33;43m세부전공\u001b[39;49m\u001b[33;43m\"\u001b[39;49m\u001b[43m]\u001b[49m == major]\n\u001b[32m     13\u001b[39m     \u001b[38;5;66;03m# 1. 완전 일치 먼저 시도\u001b[39;00m\n\u001b[32m     14\u001b[39m     \u001b[38;5;28;01mfor\u001b[39;00m item \u001b[38;5;129;01min\u001b[39;00m major_data:\n",
      "\u001b[31mKeyError\u001b[39m: '세부전공'"
     ]
    }
   ],
   "source": [
    "answer_query(\"전체 성적 평균이 어떻게 돼?\", user_id=\"hong\")"
   ]
  },
  {
   "cell_type": "code",
   "execution_count": 38,
   "id": "7b2b3b7b-f602-4a86-9005-e1b83e54c4be",
   "metadata": {},
   "outputs": [
    {
     "data": {
      "text/plain": [
       "'현재 전공에서는 해당 질문에 대한 답변을 찾을 수 없습니다.'"
      ]
     },
     "execution_count": 38,
     "metadata": {},
     "output_type": "execute_result"
    }
   ],
   "source": [
    "answer_query(\"전체 성적 평균이 어떻게 돼?\", user_id=\"kim\")"
   ]
  },
  {
   "cell_type": "code",
   "execution_count": 52,
   "id": "51c633b8-bfcb-41e5-9174-e084100bf86d",
   "metadata": {},
   "outputs": [
    {
     "data": {
      "text/plain": [
       "'홍데사님의 전공 성적 평균은 3.45입니다.'"
      ]
     },
     "execution_count": 52,
     "metadata": {},
     "output_type": "execute_result"
    }
   ],
   "source": [
    "answer_query(\"전공 평균이 어떻게 돼?\", user_id=\"hong\")"
   ]
  },
  {
   "cell_type": "code",
   "execution_count": 49,
   "id": "61c2ecce-8b45-410c-b5eb-ac3ccc57040e",
   "metadata": {},
   "outputs": [
    {
     "data": {
      "text/plain": [
       "'김브티님의 전공 성적 평균은 3.46입니다.'"
      ]
     },
     "execution_count": 49,
     "metadata": {},
     "output_type": "execute_result"
    }
   ],
   "source": [
    "answer_query(\"전공 성적 평균이 어떻게 돼?\", user_id=\"kim\")"
   ]
  },
  {
   "cell_type": "code",
   "execution_count": 210,
   "id": "5c8d25f1-9588-49db-bd1d-e72a70abda20",
   "metadata": {},
   "outputs": [
    {
     "data": {
      "text/plain": [
       "'AI수학: A0 / 정보디자인프로그래밍: A0 → 예상 평점: 3.85'"
      ]
     },
     "execution_count": 210,
     "metadata": {},
     "output_type": "execute_result"
    }
   ],
   "source": [
    "answer_query(\"지금 재수강가능한 과목들을 A0로 성적올리면 전체 학점이 어떻게 돼?\", user_id=\"kim\")"
   ]
  },
  {
   "cell_type": "code",
   "execution_count": 209,
   "id": "031c2337-2b1a-46a3-97ec-4c29168f548d",
   "metadata": {},
   "outputs": [
    {
     "data": {
      "text/plain": [
       "'AI수학: B0 / 정보디자인프로그래밍: B0 → 예상 평점: 3.76'"
      ]
     },
     "execution_count": 209,
     "metadata": {},
     "output_type": "execute_result"
    }
   ],
   "source": [
    "answer_query(\"지금 재수강가능한 과목들을 B0로 성적올리면 전체 학점이 어떻게 돼?\", user_id=\"kim\")"
   ]
  },
  {
   "cell_type": "code",
   "execution_count": 214,
   "id": "72a4ab0a-4bf1-4ff8-b2d3-4e1e412f619b",
   "metadata": {},
   "outputs": [
    {
     "data": {
      "text/plain": [
       "'프로그래밍기초: A0 / 객체지향프로그래밍: A0 / 정보디자인프로그래밍: A0 → 예상 평점: 3.89'"
      ]
     },
     "execution_count": 214,
     "metadata": {},
     "output_type": "execute_result"
    }
   ],
   "source": [
    "answer_query(\"지금 재수강가능한 과목들을 A0로 성적올리면 전체 학점이 어떻게 돼?\", user_id=\"hong\")"
   ]
  },
  {
   "cell_type": "markdown",
   "id": "57f205c1-ffc5-4b81-afaa-efe55858fddf",
   "metadata": {
    "jp-MarkdownHeadingCollapsed": true
   },
   "source": [
    "##### 재수강"
   ]
  },
  {
   "cell_type": "code",
   "execution_count": 18,
   "id": "21f6a1e4-8553-4941-8485-3759471272aa",
   "metadata": {},
   "outputs": [
    {
     "data": {
      "text/plain": [
       "'창의설계입문 과목을 1번 재수강하셨습니다.'"
      ]
     },
     "execution_count": 18,
     "metadata": {},
     "output_type": "execute_result"
    }
   ],
   "source": [
    "answer_query(\"재수강 몇 번 했어?\", user_id=\"hong\")"
   ]
  },
  {
   "cell_type": "code",
   "execution_count": 19,
   "id": "5a1df3f2-a190-4cd8-8e01-826129f69811",
   "metadata": {},
   "outputs": [
    {
     "data": {
      "text/plain": [
       "'프로그래밍기초 과목을 1번 재수강하셨습니다.'"
      ]
     },
     "execution_count": 19,
     "metadata": {},
     "output_type": "execute_result"
    }
   ],
   "source": [
    "answer_query(\"나 몇 번 재수강했어?\", user_id=\"kim\")"
   ]
  },
  {
   "cell_type": "code",
   "execution_count": 95,
   "id": "c43cc538-da1f-440c-a0a0-7a6ca2b3bfa3",
   "metadata": {},
   "outputs": [
    {
     "data": {
      "text/plain": [
       "'프로그래밍기초을 재수강했습니다.'"
      ]
     },
     "execution_count": 95,
     "metadata": {},
     "output_type": "execute_result"
    }
   ],
   "source": [
    "answer_query(\"재수강한 과목이 뭐야?\", user_id=\"kim\")"
   ]
  },
  {
   "cell_type": "code",
   "execution_count": 21,
   "id": "5d574d7b-caf2-4278-b8e4-1daea11a524d",
   "metadata": {},
   "outputs": [
    {
     "data": {
      "text/plain": [
       "'창의설계입문을 재수강했습니다.'"
      ]
     },
     "execution_count": 21,
     "metadata": {},
     "output_type": "execute_result"
    }
   ],
   "source": [
    "answer_query(\"재수강한 거 뭐있어?\", user_id=\"hong\")"
   ]
  },
  {
   "cell_type": "code",
   "execution_count": 77,
   "id": "43d821ff-8d41-4d12-9ce9-8b4f049ddb73",
   "metadata": {},
   "outputs": [
    {
     "data": {
      "text/plain": [
       "'지금 재수강 가능한 과목은 프로그래밍기초, 객체지향프로그래밍, 정보디자인프로그래밍입니다.'"
      ]
     },
     "execution_count": 77,
     "metadata": {},
     "output_type": "execute_result"
    }
   ],
   "source": [
    "answer_query(\"지금 재수강가능한 과목은 뭐야?\", user_id=\"hong\")"
   ]
  },
  {
   "cell_type": "code",
   "execution_count": 26,
   "id": "83ff274b-537d-44fa-ab8e-cc8a7a65c2f6",
   "metadata": {},
   "outputs": [
    {
     "data": {
      "text/plain": [
       "'지금 재수강 가능한 전공 과목은 없습니다.'"
      ]
     },
     "execution_count": 26,
     "metadata": {},
     "output_type": "execute_result"
    }
   ],
   "source": [
    "answer_query(\"지금 재수강가능한 전공과목은 뭐야?\", user_id=\"hong\")"
   ]
  },
  {
   "cell_type": "code",
   "execution_count": 27,
   "id": "85f2b02d-8ac7-404f-bb89-e9726e699a54",
   "metadata": {},
   "outputs": [
    {
     "data": {
      "text/plain": [
       "'지금 재수강 가능한 과목은 AI수학, 정보디자인프로그래밍입니다.'"
      ]
     },
     "execution_count": 27,
     "metadata": {},
     "output_type": "execute_result"
    }
   ],
   "source": [
    "answer_query(\"지금 재수강가능한 과목은 뭐야?\", user_id=\"kim\")"
   ]
  },
  {
   "cell_type": "code",
   "execution_count": 28,
   "id": "adbca598-84a6-46f1-854e-0f0325a0421c",
   "metadata": {},
   "outputs": [
    {
     "data": {
      "text/plain": [
       "'지금 재수강 가능한 전공 과목은 없습니다.'"
      ]
     },
     "execution_count": 28,
     "metadata": {},
     "output_type": "execute_result"
    }
   ],
   "source": [
    "answer_query(\"지금 재수강가능한 전공과목은 뭐야?\", user_id=\"kim\")"
   ]
  },
  {
   "cell_type": "markdown",
   "id": "2fbce384-5d9c-40fc-8a3e-31c2a55003fa",
   "metadata": {
    "jp-MarkdownHeadingCollapsed": true
   },
   "source": [
    "##### 과목 질문"
   ]
  },
  {
   "cell_type": "code",
   "execution_count": 29,
   "id": "a274dbc4-905e-4f9e-b697-b2ac9fce1a93",
   "metadata": {},
   "outputs": [
    {
     "data": {
      "text/plain": [
       "'경제와경영, 대학수학및연습2, 인터넷활용, 생활속의생명과학 과목에서 A+를 받으셨습니다.'"
      ]
     },
     "execution_count": 29,
     "metadata": {},
     "output_type": "execute_result"
    }
   ],
   "source": [
    "answer_query(\"내가 A+ 받은 과목 알려줘\", user_id=\"kim\")"
   ]
  },
  {
   "cell_type": "code",
   "execution_count": 30,
   "id": "296447c4-8cac-451b-aa76-9ffdce5369c6",
   "metadata": {},
   "outputs": [
    {
     "data": {
      "text/plain": [
       "'컴퓨팅사고, 대학수학및연습1, 그래픽디자인, 대학수학및연습2, AI수학, 화폐와금융의과거,현재그리고미래, 생활속의생명과학 과목에서 A+를 받으셨습니다.'"
      ]
     },
     "execution_count": 30,
     "metadata": {},
     "output_type": "execute_result"
    }
   ],
   "source": [
    "answer_query(\"내가 A+ 받은 과목 알려줘\", user_id=\"hong\")"
   ]
  },
  {
   "cell_type": "code",
   "execution_count": 31,
   "id": "a42afde5-22dc-4b28-afb1-a746e1d968ca",
   "metadata": {},
   "outputs": [
    {
     "data": {
      "text/plain": [
       "'고급C프로그래밍의 성적은 B+입니다.'"
      ]
     },
     "execution_count": 31,
     "metadata": {},
     "output_type": "execute_result"
    }
   ],
   "source": [
    "answer_query(\"고급C프로그래밍 학점이 어때?\", user_id=\"kim\")"
   ]
  },
  {
   "cell_type": "code",
   "execution_count": 32,
   "id": "2e6f9928-238d-4006-9668-db667c666c48",
   "metadata": {},
   "outputs": [
    {
     "data": {
      "text/plain": [
       "'객체지향프로그래밍의 성적은 B0입니다.'"
      ]
     },
     "execution_count": 32,
     "metadata": {},
     "output_type": "execute_result"
    }
   ],
   "source": [
    "answer_query(\"객체지향프로그래밍 성적이 뭐야?\", user_id=\"kim\")"
   ]
  },
  {
   "cell_type": "code",
   "execution_count": 33,
   "id": "415a50b9-1d68-4544-bd46-fa8ef09070aa",
   "metadata": {},
   "outputs": [
    {
     "data": {
      "text/plain": [
       "'창의설계입문, 프로그래밍기초, 객체지향프로그래밍, 정보디자인프로그래밍 과목이 C+ 이하입니다.'"
      ]
     },
     "execution_count": 33,
     "metadata": {},
     "output_type": "execute_result"
    }
   ],
   "source": [
    "answer_query(\"C+ 이하 과목만 보고 싶어\", user_id=\"hong\")"
   ]
  },
  {
   "cell_type": "markdown",
   "id": "e0261ffd-a981-4f50-8cfc-3b864052d79c",
   "metadata": {
    "jp-MarkdownHeadingCollapsed": true
   },
   "source": [
    "#### 강의탐색"
   ]
  },
  {
   "cell_type": "code",
   "execution_count": 222,
   "id": "5b280245-e71a-43f7-a43b-7ace535ec647",
   "metadata": {},
   "outputs": [
    {
     "name": "stdout",
     "output_type": "stream",
     "text": [
      "팀플이 없는 강의는 다음과 같습니다:\n",
      "1. 컴퓨터네트워크 (학정번호: I040-2-1655-01)\n",
      "2. AI수학 (학정번호: I040-2-3688-01)\n",
      "3. 객체지향프로그래밍 (학정번호: I040-2-7777-01)\n",
      "4. 오픈소스소프트웨어 (학정번호: I040-2-8461-01)\n",
      "5. 인터랙티브미디어개론 (학정번호: I040-2-9160-01)\n",
      "6. 컴퓨터그래픽스 (학정번호: I040-3-3951-01)\n",
      "7. 컴퓨터비전 (학정번호: I040-3-5474-01)\n",
      "8. 실험설계및분석 (학정번호: I040-3-9617-01)\n",
      "9. 영상AI생성모델 (학정번호: I040-4-5471-01)\n"
     ]
    }
   ],
   "source": [
    "print(answer_query(\"팀플이 없는 강의 알려줘\"))"
   ]
  },
  {
   "cell_type": "code",
   "execution_count": 216,
   "id": "c10013bc-7634-4c92-b712-1b9faa3e0fa3",
   "metadata": {},
   "outputs": [
    {
     "name": "stdout",
     "output_type": "stream",
     "text": [
      "팀플이 없는 강의는 다음과 같습니다:\n",
      "1. 컴퓨터네트워크 (학정번호: I040-2-1655-01)\n",
      "2. AI수학 (학정번호: I040-2-3688-01)\n",
      "3. 객체지향프로그래밍 (학정번호: I040-2-7777-01)\n",
      "4. 오픈소스소프트웨어 (학정번호: I040-2-8461-01)\n",
      "5. 인터랙티브미디어개론 (학정번호: I040-2-9160-01)\n",
      "6. 컴퓨터그래픽스 (학정번호: I040-3-3951-01)\n",
      "7. 컴퓨터비전 (학정번호: I040-3-5474-01)\n",
      "8. 실험설계및분석 (학정번호: I040-3-9617-01)\n",
      "9. 영상AI생성모델 (학정번호: I040-4-5471-01)\n"
     ]
    }
   ],
   "source": [
    "print(answer_query(\"팀플 없는 강의 알려줘\"))"
   ]
  },
  {
   "cell_type": "code",
   "execution_count": 224,
   "id": "842a610d-9815-4388-9bc9-4c92a75f811c",
   "metadata": {},
   "outputs": [
    {
     "name": "stdout",
     "output_type": "stream",
     "text": [
      "팀플이 적은 강의는 다음과 같습니다:\n",
      "1. 빅데이터프로그래밍 (학정번호: I040-2-4501-01)\n",
      "2. 텍스트마이닝 (학정번호: I040-3-4139-01)\n",
      "3. 딥러닝프로그래밍 (학정번호: I040-4-4434-01)\n",
      "4. 산학협력캡스톤설계1 (학정번호: I040-4-8995-01)\n",
      "5. 데이터시각화 (학정번호: I040-4-9925-01)\n"
     ]
    }
   ],
   "source": [
    "print(answer_query(\"조별과제가 적은 강의 알려줘\"))"
   ]
  },
  {
   "cell_type": "code",
   "execution_count": 225,
   "id": "86976424-dcc4-4c5b-bfbf-a776a7a740d8",
   "metadata": {},
   "outputs": [
    {
     "name": "stdout",
     "output_type": "stream",
     "text": [
      "팀플이 적은 강의는 다음과 같습니다:\n",
      "1. 빅데이터프로그래밍 (학정번호: I040-2-4501-01)\n",
      "2. 텍스트마이닝 (학정번호: I040-3-4139-01)\n",
      "3. 딥러닝프로그래밍 (학정번호: I040-4-4434-01)\n",
      "4. 산학협력캡스톤설계1 (학정번호: I040-4-8995-01)\n",
      "5. 데이터시각화 (학정번호: I040-4-9925-01)\n"
     ]
    }
   ],
   "source": [
    "print(answer_query(\"조별과제 적은 강의 알려줘\"))"
   ]
  },
  {
   "cell_type": "code",
   "execution_count": 226,
   "id": "a823cd45-3629-44fd-9dca-3e0b934b6302",
   "metadata": {},
   "outputs": [
    {
     "name": "stdout",
     "output_type": "stream",
     "text": [
      "팀플이 많은 강의는 다음과 같습니다:\n",
      "1. IoT시스템설계및실습 (학정번호: I040-3-4503-01)\n",
      "2. UX/UI디자인 (학정번호: I040-3-7737-01)\n",
      "3. 기계학습 (학정번호: I040-3-9151-01)\n"
     ]
    }
   ],
   "source": [
    "print(answer_query(\"조별과제 많은 강의 알려줘\"))"
   ]
  },
  {
   "cell_type": "code",
   "execution_count": 221,
   "id": "c0bab594-283e-4f0e-92a1-7ea29e29a288",
   "metadata": {},
   "outputs": [
    {
     "name": "stdout",
     "output_type": "stream",
     "text": [
      "팀플이 많은 강의는 다음과 같습니다:\n",
      "1. IoT시스템설계및실습 (학정번호: I040-3-4503-01)\n",
      "2. UX/UI디자인 (학정번호: I040-3-7737-01)\n",
      "3. 기계학습 (학정번호: I040-3-9151-01)\n"
     ]
    }
   ],
   "source": [
    "print(answer_query(\"조별과제가 많은 강의 알려줘\"))"
   ]
  },
  {
   "cell_type": "code",
   "execution_count": 45,
   "id": "a9f87fda-153a-44be-a715-f92932758491",
   "metadata": {},
   "outputs": [
    {
     "name": "stdout",
     "output_type": "stream",
     "text": [
      "3학점짜리 전선 과목 목록입니다:\n",
      "1. 데이터시각화 (학정번호: I040-4-9925-01) - 조재희\n",
      "2. 인체데이터분석및실습 (학정번호: I000-2-5715-01) - 고찬영\n",
      "3. 공학설계입문 (학정번호: I000-1-2957-02) - 임재한\n",
      "4. 제어알고리즘설계및실습 (학정번호: I000-2-5702-01) - 고찬영\n",
      "5. 디지털헬스케어인공지능분석실무 (학정번호: I020-2-4888-01) - 교수명 없음\n"
     ]
    }
   ],
   "source": [
    "print(answer_query(\"전선 중 3학점 5개만 추천해줘\"))"
   ]
  },
  {
   "cell_type": "code",
   "execution_count": 92,
   "id": "71cb17b9-acb4-47af-b1b9-4dac754e7af4",
   "metadata": {},
   "outputs": [
    {
     "name": "stdout",
     "output_type": "stream",
     "text": [
      "3학점짜리 전필, 전선 과목 목록입니다:\n",
      "1. 딥러닝프로그래밍 (학정번호: I040-4-4434-01) - 김준석\n",
      "2. 성공적인창업계획 (학정번호: 5080-4-7882-01) - 이현경\n",
      "3. 컴퓨터그래픽스 (학정번호: I040-3-3951-01) - 김동준\n",
      "4. 영상AI생성모델 (학정번호: I040-4-5471-01) - 김동준\n",
      "5. 창의설계입문 (학정번호: I000-1-3674-01) - 신원경\n"
     ]
    }
   ],
   "source": [
    "print(answer_query(\"전공 중 3학점 5개만 추천해줘\"))"
   ]
  },
  {
   "cell_type": "code",
   "execution_count": 47,
   "id": "2a8b9514-406e-403e-843b-438f10999cd2",
   "metadata": {},
   "outputs": [
    {
     "name": "stdout",
     "output_type": "stream",
     "text": [
      "3학점짜리 교필, 교선 과목 목록입니다:\n",
      "1. 실용중국어문법 (학정번호: 0000-2-6526-01) - 곡효운\n",
      "2. 평생교육론 (학정번호: 0000-1-7468-01) - 김성길\n",
      "3. C프로그래밍 (학정번호: 0000-1-0019-09) - 박상준\n",
      "4. 대학수학및연습1 (학정번호: 0000-1-4625-16) - 김원주\n",
      "5. 한국가족의역사와현재 (학정번호: 0000-2-4833-01) - 김인호\n"
     ]
    }
   ],
   "source": [
    "print(answer_query(\"교양 중 3학점 5개만 추천해줘\"))"
   ]
  },
  {
   "cell_type": "code",
   "execution_count": 93,
   "id": "c9d14181-7eee-4979-a61a-1c4116dab887",
   "metadata": {},
   "outputs": [
    {
     "name": "stdout",
     "output_type": "stream",
     "text": [
      "2학점짜리 교필, 교선 과목 목록입니다:\n",
      "1. 탁구 (학정번호: 0000-1-1679-01) - 박현애\n",
      "2. 스케이팅 (학정번호: 0000-1-2238-01) - 정재은\n",
      "3. 웰니스트레이닝 (학정번호: 0000-1-5684-02) - 박인혜\n",
      "4. 사회봉사1 (학정번호: 0000-1-3902-01) - 임안나\n",
      "5. 저작권과스마트폰의이해 (학정번호: 0000-1-8129-01) - 건국대학교 정연덕\n"
     ]
    }
   ],
   "source": [
    "print(answer_query(\"교양 중 2학점 5개만 추천해줘\"))"
   ]
  },
  {
   "cell_type": "code",
   "execution_count": 219,
   "id": "c5f50ed0-4282-41fc-a902-2fbb48d6387f",
   "metadata": {},
   "outputs": [
    {
     "name": "stdout",
     "output_type": "stream",
     "text": [
      "3학년 1학기에 들을 만한 과목으로는 \"고급C프로그래밍\", \"자료구조\", \"컴퓨터네트워크\", \"모바일프로그래밍\"이 있습니다. 이 과목들은 전공 필수 및 선택 과목으로, 정보융합학부에서 학습하는 데 도움이 될 것입니다.\n"
     ]
    }
   ],
   "source": [
    "print(answer_query(\"3학년 1학기에 들을 만한 과목 추천해줘.\"))"
   ]
  },
  {
   "cell_type": "markdown",
   "id": "b2cea686-d775-4793-946b-b256d8657ba9",
   "metadata": {
    "jp-MarkdownHeadingCollapsed": true
   },
   "source": [
    "#### 학업현황"
   ]
  },
  {
   "cell_type": "markdown",
   "id": "eade7a7e-d1ed-4207-acbf-5b0488e353e6",
   "metadata": {
    "jp-MarkdownHeadingCollapsed": true
   },
   "source": [
    "###### 졸업"
   ]
  },
  {
   "cell_type": "code",
   "execution_count": 118,
   "id": "2f6fa36f-492b-4057-8d49-0f32fefd1a84",
   "metadata": {},
   "outputs": [
    {
     "data": {
      "text/plain": [
       "'교필 과목인 광운인되기를 이수하지 않았습니다.'"
      ]
     },
     "execution_count": 118,
     "metadata": {},
     "output_type": "execute_result"
    }
   ],
   "source": [
    "answer_query(\"졸업 필수 과목을 다 들었어?\", user_id=\"hong\")"
   ]
  },
  {
   "cell_type": "code",
   "execution_count": 117,
   "id": "66445514-e7e0-47c6-8ae7-980974f8af39",
   "metadata": {},
   "outputs": [
    {
     "data": {
      "text/plain": [
       "'홍데사님의 현재까지 이수한 학점은 69학점이며, 졸업을 위해 64학점이 더 필요합니다.'"
      ]
     },
     "execution_count": 117,
     "metadata": {},
     "output_type": "execute_result"
    }
   ],
   "source": [
    "answer_query(\"졸업하려면 몇 학점 남았어?\", user_id=\"hong\")"
   ]
  },
  {
   "cell_type": "code",
   "execution_count": 156,
   "id": "d21e69f3-6efd-468b-907a-540f05814d9b",
   "metadata": {},
   "outputs": [
    {
     "data": {
      "text/plain": [
       "'졸업하기 위해서는 졸업 논문 혹은 졸업 프로젝트 둘 중 하나는 필수입니다.'"
      ]
     },
     "execution_count": 156,
     "metadata": {},
     "output_type": "execute_result"
    }
   ],
   "source": [
    "answer_query(\"졸업 논문이나 졸업 프로젝트가 필수야??\", user_id=\"hong\")"
   ]
  },
  {
   "cell_type": "code",
   "execution_count": 155,
   "id": "b99a4470-b2ab-4f0f-b5d8-7d24e61c5f96",
   "metadata": {},
   "outputs": [
    {
     "data": {
      "text/plain": [
       "'졸업 논문은 필수입니다.'"
      ]
     },
     "execution_count": 155,
     "metadata": {},
     "output_type": "execute_result"
    }
   ],
   "source": [
    "answer_query(\"졸업 논문 필수야??\", user_id=\"hong\")"
   ]
  },
  {
   "cell_type": "code",
   "execution_count": 154,
   "id": "f63ea16c-f0a0-4c08-9f20-37ce56250dd9",
   "metadata": {},
   "outputs": [
    {
     "data": {
      "text/plain": [
       "'빠르면 3학년부터 준비하는 경우도 있지만, 대부분 3학년 2학기부터 팀을 구한 후 4학년 때 프로젝트를 진행합니다. 논문의 경우도 대부분 4학년 때 준비합니다.'"
      ]
     },
     "execution_count": 154,
     "metadata": {},
     "output_type": "execute_result"
    }
   ],
   "source": [
    "answer_query(\"졸업 논문이나 프로젝트는 언제부터 준비해야 할까?\", user_id=\"hong\")"
   ]
  },
  {
   "cell_type": "code",
   "execution_count": 79,
   "id": "eebd3810-54c3-4009-9353-a108f19b068e",
   "metadata": {},
   "outputs": [
    {
     "data": {
      "text/plain": [
       "'졸업까지 최소 4학기가 남았습니다.'"
      ]
     },
     "execution_count": 79,
     "metadata": {},
     "output_type": "execute_result"
    }
   ],
   "source": [
    "answer_query(\"졸업까지 최소 몇 학기 남았어?\", user_id=\"kim\")"
   ]
  },
  {
   "cell_type": "code",
   "execution_count": 149,
   "id": "296215d1-aa0b-43f8-8a31-0539b633ca8f",
   "metadata": {},
   "outputs": [
    {
     "data": {
      "text/plain": [
       "'아니요. 우리 학교에서는 졸업 유예 신청이 불가능합니다.'"
      ]
     },
     "execution_count": 149,
     "metadata": {},
     "output_type": "execute_result"
    }
   ],
   "source": [
    "answer_query(\"우리 학교에서 졸업 유예 신청이 가능해?\", user_id=\"hong\")"
   ]
  },
  {
   "cell_type": "code",
   "execution_count": 152,
   "id": "51451e6a-54b8-4903-ba3c-01358f162f91",
   "metadata": {},
   "outputs": [
    {
     "data": {
      "text/plain": [
       "'조기 졸업 가능 조건은 6학기 말까지 114학점 이상 취득(계절수업 제외), 7개 학기 이상 이수자로 학칙시행세칙 제16조 평점평균의 산출에 따른 총 평점평균이 4.3 이상인 자(학적부성적 기준), 조기졸업 신청 당해 학기까지 취득한 전과목 성적이 B0 이상인 자(학적부성적 기준)입니다. 현재 C+ 이하의 성적이 존재하므로 재수강을 통해 성적을 개선하고 평점 평균을 4.3 이상으로 만든다면 조기 졸업이 가능합니다.'"
      ]
     },
     "execution_count": 152,
     "metadata": {},
     "output_type": "execute_result"
    }
   ],
   "source": [
    "answer_query(\"조기 졸업이 가능한 상황이야?\", user_id=\"hong\")"
   ]
  },
  {
   "cell_type": "markdown",
   "id": "270c3ff2-9743-4b1c-a26a-175b297d9e14",
   "metadata": {
    "jp-MarkdownHeadingCollapsed": true
   },
   "source": [
    "##### 재수강"
   ]
  },
  {
   "cell_type": "code",
   "execution_count": 131,
   "id": "66654de5-a7d7-47b8-a35e-0cb92c3db703",
   "metadata": {},
   "outputs": [
    {
     "data": {
      "text/plain": [
       "'AI수학: A0 / 정보디자인프로그래밍: A0 → 예상 평점: 3.85'"
      ]
     },
     "execution_count": 131,
     "metadata": {},
     "output_type": "execute_result"
    }
   ],
   "source": [
    "answer_query(\"지금 재수강가능한 과목들을 A0로 성적올리면 전체 학점이 어떻게 돼?\", user_id=\"kim\")"
   ]
  },
  {
   "cell_type": "code",
   "execution_count": 151,
   "id": "280cc986-4d89-424e-9b3d-5ae03be8f6f2",
   "metadata": {},
   "outputs": [
    {
     "data": {
      "text/plain": [
       "'지금 재수강 가능한 과목은 프로그래밍기초, 객체지향프로그래밍, 정보디자인프로그래밍입니다.'"
      ]
     },
     "execution_count": 151,
     "metadata": {},
     "output_type": "execute_result"
    }
   ],
   "source": [
    "answer_query(\"지금 재수강가능한 과목은 뭐야?\", user_id=\"hong\")"
   ]
  },
  {
   "cell_type": "code",
   "execution_count": 176,
   "id": "ac146d65-618b-4ac5-a8cc-9af152587fca",
   "metadata": {},
   "outputs": [
    {
     "data": {
      "text/plain": [
       "'홍데사님은 총 8번까지 재수강이 가능하며, 현재까지 1번 재수강하셨습니다. 따라서 7번 더 재수강할 수 있습니다.'"
      ]
     },
     "execution_count": 176,
     "metadata": {},
     "output_type": "execute_result"
    }
   ],
   "source": [
    "answer_query(\"재수강 가능한 횟수가 어떻게 돼?\", user_id=\"hong\")"
   ]
  },
  {
   "cell_type": "code",
   "execution_count": 177,
   "id": "243e39ea-5a7d-4e37-bc6e-40bb5b446271",
   "metadata": {},
   "outputs": [
    {
     "data": {
      "text/plain": [
       "'김브티님은 총 8번까지 재수강이 가능하며, 현재까지 1번 재수강하셨습니다. 따라서 7번 더 재수강할 수 있습니다.'"
      ]
     },
     "execution_count": 177,
     "metadata": {},
     "output_type": "execute_result"
    }
   ],
   "source": [
    "answer_query(\"재수강 가능한 횟수가 어떻게 돼?\", user_id=\"kim\")"
   ]
  },
  {
   "cell_type": "code",
   "execution_count": 178,
   "id": "bcce1fd6-320b-416c-be3a-d889e658d65a",
   "metadata": {},
   "outputs": [
    {
     "data": {
      "text/plain": [
       "'프로그래밍기초을 재수강했습니다.'"
      ]
     },
     "execution_count": 178,
     "metadata": {},
     "output_type": "execute_result"
    }
   ],
   "source": [
    "answer_query(\"내가 재수강한 과목이 뭔데?\", user_id=\"kim\")"
   ]
  },
  {
   "cell_type": "code",
   "execution_count": 171,
   "id": "da5e1fea-d1f8-42f8-a4a6-65fec1973acd",
   "metadata": {},
   "outputs": [
    {
     "data": {
      "text/plain": [
       "'학정번호 기준으로 동일한 학정번호가 있는 강의를 수강하시면 됩니다. 다만, 동일한 학정번호의 강의가 3년 이상 미개설 할 경우, C이하의 과목은 학점삭제 가능합니다. 자세한 내용은 학사에 문의하세요.'"
      ]
     },
     "execution_count": 171,
     "metadata": {},
     "output_type": "execute_result"
    }
   ],
   "source": [
    "answer_query(\"같은 과목을 재수강할 때 교수님이 바뀌거나 과목이 사라지면 어떻게 해야 해?\", user_id=\"hong\")"
   ]
  },
  {
   "cell_type": "code",
   "execution_count": 175,
   "id": "d35c2bd6-b67f-47ea-8ebc-0c88a80c189e",
   "metadata": {},
   "outputs": [
    {
     "data": {
      "text/plain": [
       "'재수강한 과목은 성적표에 ‘R’(Retake)로 표기되며, 재수강한 과목의 성적만 성적 및 학점에 반영됩니다.'"
      ]
     },
     "execution_count": 175,
     "metadata": {},
     "output_type": "execute_result"
    }
   ],
   "source": [
    "answer_query(\"재수강하면 성적표에 재수강 여부가 표시되나?\", user_id=\"hong\")"
   ]
  },
  {
   "cell_type": "code",
   "execution_count": 174,
   "id": "7ff5077e-eea3-4471-ac9c-42d55163aead",
   "metadata": {},
   "outputs": [
    {
     "data": {
      "text/plain": [
       "\"F 받은 과목은 재수강 시 '재수강' 표시가 뜨지 않지만, 재수강 이력은 남고 성적표에는 'R'로 표기됩니다.\""
      ]
     },
     "execution_count": 174,
     "metadata": {},
     "output_type": "execute_result"
    }
   ],
   "source": [
    "answer_query(\"F받고 재수강하면 재수강 이력이 남아?\", user_id=\"hong\")"
   ]
  },
  {
   "cell_type": "code",
   "execution_count": 172,
   "id": "194b45c1-9ef9-4a0c-9939-54efa8568ab4",
   "metadata": {},
   "outputs": [
    {
     "data": {
      "text/plain": [
       "'재수강 여부는 개인의 학업 목표와 상황에 따라 다르지만, 성적이 낮은 전공 과목을 재수강하는 것은 전공에 대한 이해도를 높이고 평점 평균을 개선하는 데 도움이 될 수 있습니다. 반면, 다른 전공 과목을 듣는다면 다양한 지식을 쌓을 수 있는 기회가 될 수 있습니다. 현재 성적을 고려할 때, 재수강이 가능한 전공 과목으로는 C+를 받은 객체지향프로그래밍 과목 / C+를 받은 정보디자인프로그래밍 과목이 있습니다.'"
      ]
     },
     "execution_count": 172,
     "metadata": {},
     "output_type": "execute_result"
    }
   ],
   "source": [
    "answer_query(\"성적이 낮은 전공 필수 과목을 재수강하는 게 나을까, 다른 전공 과목을 듣는 게 나을까?\", user_id=\"hong\")"
   ]
  },
  {
   "cell_type": "code",
   "execution_count": 173,
   "id": "f47e9e8a-0bdf-4ae0-9438-584891f30d9b",
   "metadata": {},
   "outputs": [
    {
     "data": {
      "text/plain": [
       "'C+ 이하인 동일과목은 최대 2회까지 재수강 가능하며, 전체 재학 중 재수강 가능한 교과목 수는 최대 8과목입니다. F 학점은 제외됩니다.'"
      ]
     },
     "execution_count": 173,
     "metadata": {},
     "output_type": "execute_result"
    }
   ],
   "source": [
    "answer_query(\"동일 과목은 재수강 몇 번 할 수 있어?\", user_id=\"hong\")"
   ]
  },
  {
   "cell_type": "markdown",
   "id": "b6ee8f41-be6b-4e6b-9555-f74be0f30cf5",
   "metadata": {
    "jp-MarkdownHeadingCollapsed": true
   },
   "source": [
    "##### 학업현황"
   ]
  },
  {
   "cell_type": "code",
   "execution_count": 87,
   "id": "7a46e39c-fa14-41a6-a0d9-6ab5f33d7833",
   "metadata": {},
   "outputs": [
    {
     "name": "stdout",
     "output_type": "stream",
     "text": [
      "홍데사님께서 현재까지 이수하신 과목 목록:\n",
      "전필: 객체지향프로그래밍(C+) / AI수학(A+) / 자료구조(B+) / 모바일프로그래밍(B+)\n",
      "전선: 고급C프로그래밍(B+) / 이산수학(B0) / 그래픽디자인(A+) / 창의설계입문(A0, R) / 빅데이터프로그래밍(B0) / 데이터베이스(B+) / 정보디자인프로그래밍(C+)\n",
      "교필: 프로그래밍기초(C+) / 융합적사고와글쓰기(B+) / 컴퓨팅사고(A+)\n",
      "교선: 대학수학및연습1(A+) / 스케이팅(B+) / 대학수학및연습2(A+) / 아카펠라(A0) / 범죄학(B+) / 대중문화와삶(B+) / 화폐와금융의과거,현재그리고미래(A+) / 사회학의이해(A0) / 생활속의생명과학(A+)\n"
     ]
    }
   ],
   "source": [
    "print(answer_query(\"지금까지 이수한 과목 리스트를 볼 수 있을까?\", user_id=\"hong\"))"
   ]
  },
  {
   "cell_type": "code",
   "execution_count": 179,
   "id": "f728453d-550d-4d62-a261-296e2565b1b3",
   "metadata": {},
   "outputs": [
    {
     "name": "stdout",
     "output_type": "stream",
     "text": [
      "김브티님께서 현재까지 이수하신 과목 목록:\n",
      "전필: 객체지향프로그래밍(B0) / AI수학(C+) / 자료구조(B+) / 모바일프로그래밍(A0)\n",
      "전선: 창의설계입문(A0) / 고급C프로그래밍(B+) / 이산수학(A0) / 그래픽디자인(B+) / 컴퓨터네트워크(A0) / 인터랙티브미디어개론(B0) / 인터랙티브심리학(A0) / 정보디자인프로그래밍(C+)\n",
      "교필: 프로그래밍기초(A0, R)\n",
      "교선: 대학수학및연습1(B+) / 초급중국어1(A0) / 경제와경영(A+) / 자연과학사(B+) / 대학수학및연습2(A+) / 환경과생태(B+) / 논리적으로사고하기(B+) / 인터넷활용(A+) / 사회학의이해(A0) / 생활속의생명과학(A+)\n"
     ]
    }
   ],
   "source": [
    "print(answer_query(\"지금까지 이수한 과목 리스트를 볼 수 있을까?\", user_id=\"kim\"))"
   ]
  },
  {
   "cell_type": "code",
   "execution_count": 78,
   "id": "6b9e70b4-fc6c-4832-8113-5abab4ee6430",
   "metadata": {},
   "outputs": [
    {
     "data": {
      "text/plain": [
       "'홍데사님의 전체 성적 평균은 3.7입니다.'"
      ]
     },
     "execution_count": 78,
     "metadata": {},
     "output_type": "execute_result"
    }
   ],
   "source": [
    "answer_query(\"전체 성적 평균이 어떻게 돼?\", user_id=\"hong\")"
   ]
  },
  {
   "cell_type": "markdown",
   "id": "19731d8f-6dd0-4bc0-9255-d69f8709189d",
   "metadata": {
    "jp-MarkdownHeadingCollapsed": true
   },
   "source": [
    "##### 장학금&휴학"
   ]
  },
  {
   "cell_type": "code",
   "execution_count": 186,
   "id": "4c0771ea-f4a7-40b1-9aa6-847fe3e96c04",
   "metadata": {},
   "outputs": [
    {
     "data": {
      "text/plain": [
       "'성적 장학금은 평량평균이 3.0 이상이며, 17학점 이상 취득(4학년은 12학점), 그 중 60% 이상이 전공 학점일 경우 자동 신청됩니다.'"
      ]
     },
     "execution_count": 186,
     "metadata": {},
     "output_type": "execute_result"
    }
   ],
   "source": [
    "answer_query(\"성적 장학금을 받기 위한 조건이 뭐야?\", user_id=\"hong\")"
   ]
  },
  {
   "cell_type": "code",
   "execution_count": 185,
   "id": "41a84b2c-fb54-40ef-82bd-a9c435d7fe0f",
   "metadata": {},
   "outputs": [
    {
     "data": {
      "text/plain": [
       "'화도·동해 장학금은 직전 학기 12학점 이상, 평점 2.0 이상이어야 신청 가능합니다.'"
      ]
     },
     "execution_count": 185,
     "metadata": {},
     "output_type": "execute_result"
    }
   ],
   "source": [
    "answer_query(\"화도 동해 장학금 최소 학점이 얼마야? \", user_id=\"hong\")"
   ]
  },
  {
   "cell_type": "code",
   "execution_count": 184,
   "id": "b109e32f-962c-4bef-b54e-61136bca1c50",
   "metadata": {},
   "outputs": [
    {
     "data": {
      "text/plain": [
       "'일반휴학을 최대 6학기(3년) 할 수 있으며, 한 번 신청 시 최대 2학기 가능합니다. 군휴학 및 창업휴학은 일반휴학 기간에 포함되지 않습니다. 특별한 사유가 있을 경우 추가 휴학이 가능할 수도 있습니다. (단, 일반휴학기간은 한 번에 두 학기를 초과하지 못하며, 통산 3년(6학기)(연속해서는 2년)을 초과하지 못합니다.)'"
      ]
     },
     "execution_count": 184,
     "metadata": {},
     "output_type": "execute_result"
    }
   ],
   "source": [
    "answer_query(\"휴학은 최대 몇 번까지 가능해?\", user_id=\"hong\")"
   ]
  },
  {
   "cell_type": "markdown",
   "id": "b9d09102-55bf-4a62-ae5f-40043a6b2ccd",
   "metadata": {
    "jp-MarkdownHeadingCollapsed": true
   },
   "source": [
    "#### 진로상담"
   ]
  },
  {
   "cell_type": "markdown",
   "id": "bed2bf62-8027-4605-b41a-ba2435d1c3f9",
   "metadata": {
    "jp-MarkdownHeadingCollapsed": true
   },
   "source": [
    "##### 김브티"
   ]
  },
  {
   "cell_type": "markdown",
   "id": "ccd398cf-1cf4-424c-835e-9066f07f0376",
   "metadata": {
    "jp-MarkdownHeadingCollapsed": true
   },
   "source": [
    "###### 진로에 따른 강의 추천"
   ]
  },
  {
   "cell_type": "code",
   "execution_count": 238,
   "id": "6bd4f16b-a620-47be-8f17-97aa6420f42a",
   "metadata": {},
   "outputs": [
    {
     "data": {
      "text/plain": [
       "'처음 프론트엔드 분야를 배우려면 1학기에는 인터랙티브 미디어 개론 수업을 듣는 것이 좋습니다. 이 수업에서는 HTML과 CSS 등을 활용해 홈페이지를 만들면서 디자인 경험을 쌓을 수 있습니다. 이후 2학기에는 정보디자인프로그래밍 수업을 들으면서 팀 프로젝트를 통해 프론트엔드 개발을 실습해볼 수 있습니다. 이를 통해 프론트엔드 직무를 간접적으로 경험해볼 수 있습니다.'"
      ]
     },
     "execution_count": 238,
     "metadata": {},
     "output_type": "execute_result"
    }
   ],
   "source": [
    "answer_query(\"처음 프론트 분야를 배우는데 어떤 과목을 들어야 해?\", user_id=\"kim\")"
   ]
  },
  {
   "cell_type": "code",
   "execution_count": 258,
   "id": "ebde2d82-366b-465e-9fbc-6436946975cd",
   "metadata": {},
   "outputs": [
    {
     "data": {
      "text/plain": [
       "'처음 프론트엔드 분야를 배우려면 1학기에는 인터랙티브 미디어 개론 수업을 듣는 것이 좋습니다. 이 수업에서는 HTML과 CSS 등을 활용해 홈페이지를 만들면서 디자인 경험을 쌓을 수 있습니다. 이후 2학기에는 정보디자인프로그래밍 수업을 들으면서 팀 프로젝트를 통해 프론트엔드 개발을 실습해볼 수 있습니다. 이를 통해 프론트엔드 직무를 간접적으로 경험해볼 수 있습니다.'"
      ]
     },
     "execution_count": 258,
     "metadata": {},
     "output_type": "execute_result"
    }
   ],
   "source": [
    "answer_query(\"처음 프론트 분야를 해보면 어떤 과목이 좋을까?\", user_id=\"kim\")"
   ]
  },
  {
   "cell_type": "code",
   "execution_count": 239,
   "id": "8290fae5-2af8-469d-926f-f327cdb827e3",
   "metadata": {},
   "outputs": [
    {
     "data": {
      "text/plain": [
       "'2학년 1학기에 열리는 인터랙티브 미디어 개론 수업과 2학년 2학기에 열리는 정보디자인프로그래밍 수업을 추천합니다.'"
      ]
     },
     "execution_count": 239,
     "metadata": {},
     "output_type": "execute_result"
    }
   ],
   "source": [
    "answer_query(\"프론트 실습이 많은 수업 추천해줘.\", user_id=\"kim\")"
   ]
  },
  {
   "cell_type": "code",
   "execution_count": 259,
   "id": "860963bf-b5ae-4457-b437-2aa80f714ce3",
   "metadata": {},
   "outputs": [
    {
     "data": {
      "text/plain": [
       "'2학년 1학기에 열리는 인터랙티브 미디어 개론 수업과 2학년 2학기에 열리는 정보디자인프로그래밍 수업을 추천합니다.'"
      ]
     },
     "execution_count": 259,
     "metadata": {},
     "output_type": "execute_result"
    }
   ],
   "source": [
    "answer_query(\"프론트 실습이 많은 수업 뭐 있어?\", user_id=\"kim\")"
   ]
  },
  {
   "cell_type": "code",
   "execution_count": 240,
   "id": "89cec1fa-46f4-4051-bc31-3bdfc4eb2e4d",
   "metadata": {},
   "outputs": [
    {
     "data": {
      "text/plain": [
       "'빅데이터 프로그래밍, 데이터베이스, AI수학, 기계학습, 텍스트마이닝, 컴퓨터비전, 데이터마이닝, 데이터사이언스개론 수업등을 추천합니다.'"
      ]
     },
     "execution_count": 240,
     "metadata": {},
     "output_type": "execute_result"
    }
   ],
   "source": [
    "answer_query(\"데이터 사이언스 및 AI 직무를 준비하려면 꼭 들어야 할 과목이 뭐야?\", user_id=\"kim\")"
   ]
  },
  {
   "cell_type": "code",
   "execution_count": 241,
   "id": "e8e50aec-1740-40e0-acce-eeea17e71e23",
   "metadata": {},
   "outputs": [
    {
     "data": {
      "text/plain": [
       "'기계학습, 데이터마이닝, 웹서비스설계및실습, 정보디자인프로그래밍, 텍스트마이닝 등 수업에서 팀프로젝트를 경험해 볼 수 있습니다.'"
      ]
     },
     "execution_count": 241,
     "metadata": {},
     "output_type": "execute_result"
    }
   ],
   "source": [
    "answer_query(\"학교 수업들 중에 협업 경험을 쌓을 수 있게 팀프로젝트를 진행하는 수업 추천해줘\", user_id=\"kim\")"
   ]
  },
  {
   "cell_type": "code",
   "execution_count": 242,
   "id": "4e5d9c48-a926-4320-9765-11276fe44275",
   "metadata": {},
   "outputs": [
    {
     "data": {
      "text/plain": [
       "'오픈소스소프트웨어 수업과 웹서비스설계및실습 수업에서 경험해 볼 수 있습니다.'"
      ]
     },
     "execution_count": 242,
     "metadata": {},
     "output_type": "execute_result"
    }
   ],
   "source": [
    "answer_query(\"클라우드(AWS, GCP 등) 기술을 다루는 수업이 있나?\", user_id=\"kim\")"
   ]
  },
  {
   "cell_type": "markdown",
   "id": "2e289ff6-0b70-4088-888f-a59565517f8a",
   "metadata": {},
   "source": [
    "###### 진로상담"
   ]
  },
  {
   "cell_type": "code",
   "execution_count": 243,
   "id": "fd06ed27-cb37-4187-8e71-f86c0b7c374f",
   "metadata": {},
   "outputs": [
    {
     "data": {
      "text/plain": [
       "'기존에 알고 있는 교수님이나 연구실 네트워크를 활용하기 쉬워 안정적인 연구 환경을 만들 수 있습니다. 행정적·학문적 연속성도 이어갈 수 있어 적응 기간이 짧습니다.'"
      ]
     },
     "execution_count": 243,
     "metadata": {},
     "output_type": "execute_result"
    }
   ],
   "source": [
    "answer_query(\"자대 대학원 진학시 이점이 궁금해\", user_id=\"kim\")"
   ]
  },
  {
   "cell_type": "code",
   "execution_count": 244,
   "id": "18d0b725-e9b0-4ef3-a4ff-30fee8850ceb",
   "metadata": {},
   "outputs": [
    {
     "data": {
      "text/plain": [
       "'관심 있는 분야를 중심으로 짧은 실습이나 프로젝트를 먼저 해보시길 추천드립니다. 실제 경험이 직무 선택에 큰 도움을 줍니다.'"
      ]
     },
     "execution_count": 244,
     "metadata": {},
     "output_type": "execute_result"
    }
   ],
   "source": [
    "answer_query(\"현재 VT 전공을 하고 있는데 직무를 못 정하고 있는데 어떻게 해야 할까?\", user_id=\"kim\")"
   ]
  },
  {
   "cell_type": "code",
   "execution_count": 245,
   "id": "fe9f2b8c-1f79-4979-b1c1-bb379d70439d",
   "metadata": {},
   "outputs": [
    {
     "data": {
      "text/plain": [
       "'UX 디자이너, UI 디자이너, 프로덕트 디자이너 같은 직무가 잘 맞습니다. 사용자 중심 사고와 디자인 툴(Figma 등) 역량이 중요합니다.'"
      ]
     },
     "execution_count": 245,
     "metadata": {},
     "output_type": "execute_result"
    }
   ],
   "source": [
    "answer_query(\"UI/UX 디자인에 관심 많은데 어떤 직업이 적합할까?\", user_id=\"kim\")"
   ]
  },
  {
   "cell_type": "code",
   "execution_count": 246,
   "id": "b60f1b26-d4f7-40a5-986e-f7ce07695b1d",
   "metadata": {},
   "outputs": [
    {
     "data": {
      "text/plain": [
       "'석사 이후에는 R&D 연구원, 데이터사이언티스트, AI 개발자 등 전문 직무로 나아갈 수 있습니다. 박사 진학이나 산학 협력 창업도 가능성 있습니다.'"
      ]
     },
     "execution_count": 246,
     "metadata": {},
     "output_type": "execute_result"
    }
   ],
   "source": [
    "answer_query(\"석사 진학시 이후 진로가 궁금해~\", user_id=\"kim\")"
   ]
  },
  {
   "cell_type": "code",
   "execution_count": 247,
   "id": "dd126baa-9f97-4d25-810d-4a5ba173333a",
   "metadata": {},
   "outputs": [
    {
     "data": {
      "text/plain": [
       "'UX 기획자, 웹 퍼블리셔, PM 등 시각 중심 협업 직무가 적합할 수 있습니다.'"
      ]
     },
     "execution_count": 247,
     "metadata": {},
     "output_type": "execute_result"
    }
   ],
   "source": [
    "answer_query(\"만약 경험을 쌓다가 프론트 개발자가 잘 안 맞는다면 추천하는 비슷한 직무가 있어?\", user_id=\"kim\")"
   ]
  },
  {
   "cell_type": "code",
   "execution_count": 248,
   "id": "08bb466f-3ec1-464b-9381-c642d121d228",
   "metadata": {},
   "outputs": [
    {
     "data": {
      "text/plain": [
       "'시각적인 표현과 구성에 흥미가 많고 툴(Figma 등) 다루는 걸 좋아하신다면 UI 디자인이 더 잘 맞을 수 있습니다. 반면 로직 구현이나 사용자 인터랙션을 직접 코딩하고 싶은 성향이면 프론트 개발 쪽이 더 적합합니다.'"
      ]
     },
     "execution_count": 248,
     "metadata": {},
     "output_type": "execute_result"
    }
   ],
   "source": [
    "answer_query(\"UI 디자인이랑 프론트 개발 중 어떤 진로가 나한테 맞을까?\", user_id=\"kim\")"
   ]
  },
  {
   "cell_type": "markdown",
   "id": "d7828017-0702-472c-86ef-ee9cf96c864b",
   "metadata": {},
   "source": [
    "###### 정보제공"
   ]
  },
  {
   "cell_type": "code",
   "execution_count": 249,
   "id": "d1093081-a707-4aac-86c5-db0c57761537",
   "metadata": {},
   "outputs": [
    {
     "data": {
      "text/plain": [
       "'React, Vue, Next.js가 가장 많이 사용됩니다.'"
      ]
     },
     "execution_count": 249,
     "metadata": {},
     "output_type": "execute_result"
    }
   ],
   "source": [
    "answer_query(\"실무에서 많이 쓰이는 프론트 프레임워크는 뭐가 있어?\", user_id=\"kim\")"
   ]
  },
  {
   "cell_type": "code",
   "execution_count": 250,
   "id": "8473d026-d460-40c0-8b2e-3dee7b0217f2",
   "metadata": {},
   "outputs": [
    {
     "data": {
      "text/plain": [
       "'UI/UX 디자인을 배우려면 먼저 사용자 중심 사고, 디자인 원칙(가독성, 정렬, 일관성 등), 그리고 정보 구조화(IA) 개념부터 이해하는 것이 중요합니다.'"
      ]
     },
     "execution_count": 250,
     "metadata": {},
     "output_type": "execute_result"
    }
   ],
   "source": [
    "answer_query(\"UI/UX 디자인을 배우려면 기초적으로 어떤 개념부터 공부해야 해?\", user_id=\"kim\")"
   ]
  },
  {
   "cell_type": "code",
   "execution_count": 251,
   "id": "c9159df9-982d-4129-82fa-13d9e0f6b4f6",
   "metadata": {},
   "outputs": [
    {
     "data": {
      "text/plain": [
       "'HTML, CSS, JavaScript를 먼저 학습하고 React까지 확장하시는 걸 추천드립니다.'"
      ]
     },
     "execution_count": 251,
     "metadata": {},
     "output_type": "execute_result"
    }
   ],
   "source": [
    "answer_query(\"프론트 개발자로 성장하려면 어떤 언어 부터 시작해야 할까?\", user_id=\"kim\")"
   ]
  },
  {
   "cell_type": "code",
   "execution_count": 252,
   "id": "edc75fff-9220-44d7-a80d-3518380fcd0c",
   "metadata": {},
   "outputs": [
    {
     "data": {
      "text/plain": [
       "'정보처리기사, 웹디자인 기능사 등 기초 역량을 증명하는 자격증이 유용합니다.'"
      ]
     },
     "execution_count": 252,
     "metadata": {},
     "output_type": "execute_result"
    }
   ],
   "source": [
    "answer_query(\"프론트 직무를 희망할 때 갖추면 좋은 자격증에는 어떤 것들이 있을까?\", user_id=\"kim\")"
   ]
  },
  {
   "cell_type": "code",
   "execution_count": 253,
   "id": "d171dff9-2a24-43e3-9cb4-3325dfe7c81b",
   "metadata": {},
   "outputs": [
    {
     "data": {
      "text/plain": [
       "'개인 웹사이트나 포트폴리오 페이지를 직접 만들고 배포해보는 것이 좋습니다. 실무와 유사한 UI 구성, 반응형 설계 경험이 도움이 됩니다.'"
      ]
     },
     "execution_count": 253,
     "metadata": {},
     "output_type": "execute_result"
    }
   ],
   "source": [
    "answer_query(\"휴학 중에 프론트 개발 역량을 키우려면 어떤 활동이 효과적이야?\", user_id=\"kim\")"
   ]
  },
  {
   "cell_type": "code",
   "execution_count": 254,
   "id": "3fb7fd0e-7ee0-43ec-bf89-389d2b4c70ee",
   "metadata": {},
   "outputs": [
    {
     "data": {
      "text/plain": [
       "'산학협력 연구, 기업 인턴십, 캡스톤 디자인, 기술 창업 프로그램 등 다양한 연계 활동이 있을 수 있습니다. 소속 연구실을 통해 참여 기회를 넓혀가세요.'"
      ]
     },
     "execution_count": 254,
     "metadata": {},
     "output_type": "execute_result"
    }
   ],
   "source": [
    "answer_query(\"자대 대학원 진학 예정인데 유용한 학교 연계 프로그램이 있을까?\", user_id=\"kim\")"
   ]
  },
  {
   "cell_type": "code",
   "execution_count": 257,
   "id": "3f022800-7a1d-4412-8827-37f969fa0d16",
   "metadata": {},
   "outputs": [
    {
     "data": {
      "text/plain": [
       "'UI/UX 이해, 협업 능력, 유지보수 용이한 코드 작성 역량이 중요합니다. 사용자 친화적인 화면 구성과 커뮤니케이션 능력이 함께 평가됩니다.'"
      ]
     },
     "execution_count": 257,
     "metadata": {},
     "output_type": "execute_result"
    }
   ],
   "source": [
    "answer_query(\"프론트 직무에서 중요하게 평가하는 역량은 뭐야?\", user_id=\"kim\")"
   ]
  },
  {
   "cell_type": "code",
   "execution_count": 256,
   "id": "f1564ca6-5dfc-45f4-b1c4-c3d297401889",
   "metadata": {},
   "outputs": [
    {
     "data": {
      "text/plain": [
       "'반응형 일정 앱, 날씨 기반 서비스 제작이 좋습니다. 실제 사용자 경험을 고려해 인터랙션을 설계해보는 것이 좋습니다.'"
      ]
     },
     "execution_count": 256,
     "metadata": {},
     "output_type": "execute_result"
    }
   ],
   "source": [
    "answer_query(\"추천하는 프론트 관련 프로젝트 주제가 있을까?\", user_id=\"kim\")"
   ]
  },
  {
   "cell_type": "code",
   "execution_count": 255,
   "id": "a9bb46cd-4e66-4416-ba52-c1093265c51d",
   "metadata": {},
   "outputs": [
    {
     "data": {
      "text/plain": [
       "'UI 디자인이나 프론트엔드 개발 관련 직무에는 UI 디자이너, 프론트엔드 개발자, 웹 퍼블리셔, 프로덕트 디자이너, 인터랙션 디자이너 등이 있습니다.'"
      ]
     },
     "execution_count": 255,
     "metadata": {},
     "output_type": "execute_result"
    }
   ],
   "source": [
    "answer_query(\"UI 디자인이나 프론트엔드 개발 관련 직무는 어떤 것들이 있어?\", user_id=\"kim\")"
   ]
  },
  {
   "cell_type": "markdown",
   "id": "aaa303d6-c26e-4a4b-9411-5031a939958f",
   "metadata": {
    "jp-MarkdownHeadingCollapsed": true
   },
   "source": [
    "##### 홍데사"
   ]
  },
  {
   "cell_type": "markdown",
   "id": "bf3ea4df-77a3-4821-8d6a-c1b9e28131bd",
   "metadata": {},
   "source": [
    "###### 진로에 따른 강의 추천"
   ]
  },
  {
   "cell_type": "code",
   "execution_count": 260,
   "id": "800282a6-1143-4c70-b191-7753e15466cf",
   "metadata": {},
   "outputs": [
    {
     "data": {
      "text/plain": [
       "'처음 백엔드 분야를 배우려면 1학기에는 객체지향프로그래밍 수업을 들으며 Java 언어를 학습하고, Python 외의 기본 프로그래밍 언어를 익히면서 코딩의 기초를 다질 수 있습니다.이후 2학기에는 데이터베이스 수업을 들으며 SQL과 같은 데이터 관리 기술을 학습할 수 있습니다. 그리고 3학년 2학기에는 웹 서비스 설계 및 실습 수업을 들으며 협업 프로젝트에서 백엔드 개발을 경험해볼 수 있습니다. 추가로, 백엔드 개발을 깊이 있게 공부하려면 자료구조 수업을 통해 효율적인 데이터 처리 방식을 익히고, 컴퓨터 네트워크 수업을 통해 서버와 클라이언트 간의 데이터 송수신 원리를 이해하는 것이 도움이 됩니다.'"
      ]
     },
     "execution_count": 260,
     "metadata": {},
     "output_type": "execute_result"
    }
   ],
   "source": [
    "answer_query(\"처음 백 분야를 배우는데 어떤 과목을 들어야 해?\", user_id=\"hong\")"
   ]
  },
  {
   "cell_type": "markdown",
   "id": "623ad846-5474-4848-bfed-d5da96b13b5b",
   "metadata": {},
   "source": [
    "###### 진로상담"
   ]
  },
  {
   "cell_type": "code",
   "execution_count": 264,
   "id": "619d1542-ae58-4a05-8f0b-6915c7043e44",
   "metadata": {},
   "outputs": [
    {
     "data": {
      "text/plain": [
       "'관심 있는 분야를 중심으로 짧은 실습이나 프로젝트를 먼저 해보시길 추천드립니다. 실제 경험이 직무 선택에 큰 도움을 줍니다.'"
      ]
     },
     "execution_count": 264,
     "metadata": {},
     "output_type": "execute_result"
    }
   ],
   "source": [
    "answer_query(\"현재 DS 전공을 하고 있는데 직무를 못 정하고 있는데 어떻게 해야 할까?\", user_id=\"hong\")"
   ]
  },
  {
   "cell_type": "markdown",
   "id": "1e1e5d18-bd89-4645-b149-e68c041489d9",
   "metadata": {},
   "source": [
    "###### 정보제공"
   ]
  },
  {
   "cell_type": "code",
   "execution_count": 262,
   "id": "d3770c24-d5e2-47cc-98be-ceec330b47a9",
   "metadata": {},
   "outputs": [
    {
     "data": {
      "text/plain": [
       "'Spring Boot(Java), Django(Python), Express(Node.js)가 대표적입니다.'"
      ]
     },
     "execution_count": 262,
     "metadata": {},
     "output_type": "execute_result"
    }
   ],
   "source": [
    "answer_query(\"실무에서 많이 쓰이는 백 프레임워크는 뭐가 있어?\", user_id=\"hong\")"
   ]
  },
  {
   "cell_type": "markdown",
   "id": "b11de50e-799d-49ed-b7d5-8694c221f929",
   "metadata": {},
   "source": [
    "#### 유사도 검사"
   ]
  },
  {
   "cell_type": "markdown",
   "id": "26c36f15-61ed-4c09-ab37-aef3e6de5c9a",
   "metadata": {},
   "source": [
    "###### 학업현황"
   ]
  },
  {
   "cell_type": "code",
   "execution_count": 68,
   "id": "c2d4689f-a1fc-4b63-9e3b-8e8ede57c797",
   "metadata": {
    "scrolled": true
   },
   "outputs": [
    {
     "name": "stdout",
     "output_type": "stream",
     "text": [
      "🟢 챗봇 답변:\n",
      "교필 과목인 광운인되기를 이수하지 않았습니다.\n",
      "\n",
      "📚 유사 문서:\n",
      "\n",
      "1. 유사도: 67.3077\n",
      "- 33 -\n",
      "※ 지정과목은 반드시 졸업할 때까지 이수하여야 하며, 한 과목이라도 이수하지 않을 경우에는 졸업이 불가함. 라. 3학년 1학기 편입한 학생은 4학기 이상을 등록을 하여야 하고, 2학년 1학기에 편입한 학생은 6학기 이상을 등록하여야 함. 3학년 2학기 편입생은 편입학년의 1학기에 개설된 전공필수과목을 포함하여 모두 이수하여야 함       (예: 3학년 2학기 편입생 - 졸업 이전까지 3학년 1학기 전공필수과목을 필히 이수하여야 함).마. 편입생은 교양필수 이수를 면제하고, 교양학점 30학점을 이수하도록 함.6\n",
      "다전공( ...\n",
      "\n",
      "2. 유사도: 95.0026\n",
      "편입생이 이수해야 할 교과목 및 학점\n",
      "가. 편입생은 수강신청을 하기 전에 반드시 소속 학과(부)장과 면담하여 전적교에서 취득한 학점을 인정받기 위한 절차를 거쳐 인정받은 학점(교양․ 전공․ 일선)과 향후 반드시 이수해야 할 교과목을 확인하고 수강 신청하여야 함.   ※ 해당 학과에서 학점 심의를 통해 학점을 인정하며, 인정된 학점 및 이수요망 교과목에 대하여는 추후 공지를 통하여 배부되며, 학교홈페이지 KLAS>수강성적조회 메뉴에서도 확인 가능. 나. 전적교에서 이수한 교과목과 동일한 과목을 본교에서 다시 이수하여 학점을 취득할 수 ...\n",
      "\n",
      "3. 유사도: 97.3878\n",
      "- 47 -\n",
      "(2020학번 입학자부터 적용) 졸업요건졸업이수학점 : 133학점(필수 포함)구분학과교양 전공졸업요건 학점최소 졸업요건 ‘공학필수’ 전자정보공과대학\n",
      "전자공학과\n",
      "① 학번에 따른 「교양 교과목 이수체계」참고② MSC 30학점- 공학계열 단과대학 학과별 「기초교양 및 MSC(수학,기초과학,전산학)교과과정표」참고\n",
      "전공 전필포함60학점(설계 12학점 포함) ...\n"
     ]
    }
   ],
   "source": [
    "from langchain_community.vectorstores import Chroma\n",
    "\n",
    "user_input = \"졸업 필수 과목을 다 들었어?\"\n",
    "\n",
    "# Chroma DB 연결\n",
    "db = Chroma(\n",
    "    persist_directory=\"./chroma_db\",\n",
    "    collection_name=\"lecture_search\",\n",
    "    embedding_function=embeddings_model\n",
    ")\n",
    "\n",
    "\n",
    "response = answer_query(user_input, user_id=\"hong\")\n",
    "print(\"🟢 챗봇 답변:\")\n",
    "print(response)\n",
    "\n",
    "similar_docs = db.similarity_search_with_score(user_input, k=3)\n",
    "\n",
    "print(\"\\n📚 유사 문서:\")\n",
    "for i, (doc, score) in enumerate(similar_docs, 1):\n",
    "    print(f\"\\n{i}. 유사도: {score:.4f}\")\n",
    "    print(doc.page_content[:300], \"...\")"
   ]
  },
  {
   "cell_type": "code",
   "execution_count": 67,
   "id": "eaa90d44-c413-4bba-b999-42417e29a533",
   "metadata": {
    "scrolled": true
   },
   "outputs": [
    {
     "name": "stdout",
     "output_type": "stream",
     "text": [
      "🟢 챗봇 답변:\n",
      "홍데사님의 현재까지 이수한 학점은 69학점이며, 졸업을 위해 64학점이 더 필요합니다.\n",
      "\n",
      "📚 유사 문서:\n",
      "\n",
      "1. 유사도: 90.8333\n",
      "- 33 -\n",
      "※ 지정과목은 반드시 졸업할 때까지 이수하여야 하며, 한 과목이라도 이수하지 않을 경우에는 졸업이 불가함. 라. 3학년 1학기 편입한 학생은 4학기 이상을 등록을 하여야 하고, 2학년 1학기에 편입한 학생은 6학기 이상을 등록하여야 함. 3학년 2학기 편입생은 편입학년의 1학기에 개설된 전공필수과목을 포함하여 모두 이수하여야 함       (예: 3학년 2학기 편입생 - 졸업 이전까지 3학년 1학기 전공필수과목을 필히 이수하여야 함).마. 편입생은 교양필수 이수를 면제하고, 교양학점 30학점을 이수하도록 함.6\n",
      "다전공( ...\n",
      "\n",
      "2. 유사도: 98.9711\n",
      "수강신청 학점범위\n",
      "가. 수강신청 학점 범위① 2016학번까지 : (최소)12학점 ~ (최대)21학점② 2017학번부터 : (최소)12학점 ~ (최대)19학점※ 졸업예정학기 (8학기, 건축학과 10학기)학생은 최소 수강신청 학점을 6학점으로 적용함.※ 8학기 (건축학과 10학기) 초과 수강신청자는 최저학점 (12학점) 미만으로 수강신청 가능함.※ 다전공, 재수강, 타 대학 학점교류 등의 학점은 최대 수강신청학점에 포함됨.※ 수강신청 학점이 미달(12학점 미만, 졸업예정학기 학생 6학점 미만)되지 않도록 유의할 것.③ 학점이월제도(20 ...\n",
      "\n",
      "3. 유사도: 101.6380\n",
      "- 28 -\n",
      "바. 2016학년도 신입학자  1) 졸업이수학점(2017학년도 2학년 편입생, 2018학년도 3학년 편입생 포함)\n",
      "   \n",
      "단 과 대 학 / 학 과 교양전공(필수포함)졸업이수학점필수+균형기초전정공대, 공과대13~1624~3060140건축학과(5년제) 13~16-120170자연대수학과7~10-54140전자바이오물리학과,화학과, 생활체육학과13~16-60140정보콘텐츠학과(사이버정보보안학과)30-45120인문사회과학대학국어국문학과16~19-51140영어영문학과45140산업심리학과51140미디어영상학부45140동북아문화산업학부 ...\n"
     ]
    }
   ],
   "source": [
    "from langchain_community.vectorstores import Chroma\n",
    "\n",
    "user_input = \"졸업하려면 몇 학점 남았어?\"\n",
    "\n",
    "# Chroma DB 연결\n",
    "db = Chroma(\n",
    "    persist_directory=\"./chroma_db\",\n",
    "    collection_name=\"lecture_search\",\n",
    "    embedding_function=embeddings_model\n",
    ")\n",
    "\n",
    "\n",
    "response = answer_query(user_input, user_id=\"hong\")\n",
    "print(\"🟢 챗봇 답변:\")\n",
    "print(response)\n",
    "\n",
    "similar_docs = db.similarity_search_with_score(user_input, k=3)\n",
    "\n",
    "print(\"\\n📚 유사 문서:\")\n",
    "for i, (doc, score) in enumerate(similar_docs, 1):\n",
    "    print(f\"\\n{i}. 유사도: {score:.4f}\")\n",
    "    print(doc.page_content[:300], \"...\")"
   ]
  },
  {
   "cell_type": "code",
   "execution_count": 63,
   "id": "1c26e290-65ad-47cb-b8d6-e792f494f54c",
   "metadata": {
    "scrolled": true
   },
   "outputs": [
    {
     "name": "stdout",
     "output_type": "stream",
     "text": [
      "🟢 챗봇 답변:\n",
      "졸업하기 위해서는 졸업 논문 혹은 졸업 프로젝트 둘 중 하나는 필수입니다.\n",
      "\n",
      "📚 유사 문서:\n",
      "\n",
      "1. 유사도: 86.9059\n",
      "학∙석사연계과정 관련 문의   학부 성적 및 졸업요건 관련 문의 ...\n",
      "\n",
      "2. 유사도: 88.0347\n",
      "- 96 -\n",
      " 다. 인증 요건§선택 언어별 모든 레벨에서 최소 1과목(3학점) 이상 이수(영어는 1~4레벨)§총 5과목 수강(15학점), 수강과목 평점 3.5 이상 라. 시행시기§2020년 후기졸업자부터 인증서 발급 가능 마. 혜   택 §총장 명의 인증서 수여 바. 신청 및 수령 방법§매 학기말 홈페이지 공지사항 참고§참빛인재양성 통합관리 시스템 사이트 내 신청(성적증명서 첨부)§학위수여식(2월, 8월) 이후 인제니움대학 교학팀에서 수령 가능 ...\n",
      "\n",
      "3. 유사도: 94.0891\n",
      "- 28 -\n",
      "바. 2016학년도 신입학자  1) 졸업이수학점(2017학년도 2학년 편입생, 2018학년도 3학년 편입생 포함)\n",
      "   \n",
      "단 과 대 학 / 학 과 교양전공(필수포함)졸업이수학점필수+균형기초전정공대, 공과대13~1624~3060140건축학과(5년제) 13~16-120170자연대수학과7~10-54140전자바이오물리학과,화학과, 생활체육학과13~16-60140정보콘텐츠학과(사이버정보보안학과)30-45120인문사회과학대학국어국문학과16~19-51140영어영문학과45140산업심리학과51140미디어영상학부45140동북아문화산업학부 ...\n"
     ]
    }
   ],
   "source": [
    "from langchain_community.vectorstores import Chroma\n",
    "\n",
    "user_input = \"졸업 논문이나 졸업 프로젝트가 필수야?\"\n",
    "\n",
    "# Chroma DB 연결\n",
    "db = Chroma(\n",
    "    persist_directory=\"./chroma_db\",\n",
    "    collection_name=\"lecture_search\",\n",
    "    embedding_function=embeddings_model\n",
    ")\n",
    "\n",
    "\n",
    "response = answer_query(user_input, user_id=\"kim\")\n",
    "print(\"🟢 챗봇 답변:\")\n",
    "print(response)\n",
    "\n",
    "similar_docs = db.similarity_search_with_score(user_input, k=3)\n",
    "\n",
    "print(\"\\n📚 유사 문서:\")\n",
    "for i, (doc, score) in enumerate(similar_docs, 1):\n",
    "    print(f\"\\n{i}. 유사도: {score:.4f}\")\n",
    "    print(doc.page_content[:300], \"...\")"
   ]
  },
  {
   "cell_type": "code",
   "execution_count": 64,
   "id": "ac0248fe-72ed-4505-bf86-409d0f88ddd9",
   "metadata": {
    "scrolled": true
   },
   "outputs": [
    {
     "name": "stdout",
     "output_type": "stream",
     "text": [
      "🟢 챗봇 답변:\n",
      "빠르면 3학년부터 준비하는 경우도 있지만, 대부분 3학년 2학기부터 팀을 구한 후 4학년 때 프로젝트를 진행합니다. 논문의 경우도 대부분 4학년 때 준비합니다.\n",
      "\n",
      "📚 유사 문서:\n",
      "\n",
      "1. 유사도: 99.5571\n",
      "- 96 -\n",
      " 다. 인증 요건§선택 언어별 모든 레벨에서 최소 1과목(3학점) 이상 이수(영어는 1~4레벨)§총 5과목 수강(15학점), 수강과목 평점 3.5 이상 라. 시행시기§2020년 후기졸업자부터 인증서 발급 가능 마. 혜   택 §총장 명의 인증서 수여 바. 신청 및 수령 방법§매 학기말 홈페이지 공지사항 참고§참빛인재양성 통합관리 시스템 사이트 내 신청(성적증명서 첨부)§학위수여식(2월, 8월) 이후 인제니움대학 교학팀에서 수령 가능 ...\n",
      "\n",
      "2. 유사도: 105.1390\n",
      "정 되 었 습 니 다. 따 라 서  공 학 인 증 으 로  졸 업 하 는  학 생 들 은  필 수 로  이 수 하 여 야  합 니 다.2024학년도 입학자부터 적용구분영역교과목 명이수구분공학인증개설학기/학점1학년2학년3학년4학년1학기2학기1학기2학기1학기2학기1학기2학기교선(수학 및 기초과학 영역에서 12학점이수) ...\n",
      "\n",
      "3. 유사도: 105.4390\n",
      "- 49 -\n",
      "(2016학번 입학자 적용) 졸업요건졸업이수학점 : 140학점(필수 포함)구분학과교양 전공졸업요건 학점최소 졸업요건 ‘공학필수’\n",
      "전자정보공과대학\n",
      "전자공학과\n",
      "① 학번에 따른 「교양 교과목 이수체계」참고② 공학계열 단과대학 학과별 「기초교양 및 MSC(수학, 기초과학, 전산학)교과과정표」참고\n",
      "전공 전필포함60학점(설계 12학점 포함)공학설계입문, 캡스톤설계전자통신공학과공학설계입문,,예비캡스톤설계, 캡스톤설계전자융합공학과공학설계입문, 캡스톤설계1전기공학과공학설계입문, 캡스톤설계전자재료공학과공학설계입문, 캡스톤설계1,캡스톤설계 ...\n"
     ]
    }
   ],
   "source": [
    "from langchain_community.vectorstores import Chroma\n",
    "\n",
    "user_input = \"졸업 논문이나 프로젝트는 언제부터 준비해야 할까?\"\n",
    "\n",
    "# Chroma DB 연결\n",
    "db = Chroma(\n",
    "    persist_directory=\"./chroma_db\",\n",
    "    collection_name=\"lecture_search\",\n",
    "    embedding_function=embeddings_model\n",
    ")\n",
    "\n",
    "\n",
    "response = answer_query(user_input, user_id=\"kim\")\n",
    "print(\"🟢 챗봇 답변:\")\n",
    "print(response)\n",
    "\n",
    "similar_docs = db.similarity_search_with_score(user_input, k=3)\n",
    "\n",
    "print(\"\\n📚 유사 문서:\")\n",
    "for i, (doc, score) in enumerate(similar_docs, 1):\n",
    "    print(f\"\\n{i}. 유사도: {score:.4f}\")\n",
    "    print(doc.page_content[:300], \"...\")"
   ]
  },
  {
   "cell_type": "code",
   "execution_count": 65,
   "id": "4b5b0e92-ef92-4006-ad6c-5fd2f3c7864d",
   "metadata": {
    "scrolled": true
   },
   "outputs": [
    {
     "name": "stdout",
     "output_type": "stream",
     "text": [
      "🟢 챗봇 답변:\n",
      "이번 학기 포함 최소 4개의 학기가 남아있습니다.\n",
      "\n",
      "📚 유사 문서:\n",
      "\n",
      "1. 유사도: 89.2105\n",
      "- 33 -\n",
      "※ 지정과목은 반드시 졸업할 때까지 이수하여야 하며, 한 과목이라도 이수하지 않을 경우에는 졸업이 불가함. 라. 3학년 1학기 편입한 학생은 4학기 이상을 등록을 하여야 하고, 2학년 1학기에 편입한 학생은 6학기 이상을 등록하여야 함. 3학년 2학기 편입생은 편입학년의 1학기에 개설된 전공필수과목을 포함하여 모두 이수하여야 함       (예: 3학년 2학기 편입생 - 졸업 이전까지 3학년 1학기 전공필수과목을 필히 이수하여야 함).마. 편입생은 교양필수 이수를 면제하고, 교양학점 30학점을 이수하도록 함.6\n",
      "다전공( ...\n",
      "\n",
      "2. 유사도: 95.3136\n",
      "수강신청 학점범위\n",
      "가. 수강신청 학점 범위① 2016학번까지 : (최소)12학점 ~ (최대)21학점② 2017학번부터 : (최소)12학점 ~ (최대)19학점※ 졸업예정학기 (8학기, 건축학과 10학기)학생은 최소 수강신청 학점을 6학점으로 적용함.※ 8학기 (건축학과 10학기) 초과 수강신청자는 최저학점 (12학점) 미만으로 수강신청 가능함.※ 다전공, 재수강, 타 대학 학점교류 등의 학점은 최대 수강신청학점에 포함됨.※ 수강신청 학점이 미달(12학점 미만, 졸업예정학기 학생 6학점 미만)되지 않도록 유의할 것.③ 학점이월제도(20 ...\n",
      "\n",
      "3. 유사도: 97.2750\n",
      "- 28 -\n",
      "바. 2016학년도 신입학자  1) 졸업이수학점(2017학년도 2학년 편입생, 2018학년도 3학년 편입생 포함)\n",
      "   \n",
      "단 과 대 학 / 학 과 교양전공(필수포함)졸업이수학점필수+균형기초전정공대, 공과대13~1624~3060140건축학과(5년제) 13~16-120170자연대수학과7~10-54140전자바이오물리학과,화학과, 생활체육학과13~16-60140정보콘텐츠학과(사이버정보보안학과)30-45120인문사회과학대학국어국문학과16~19-51140영어영문학과45140산업심리학과51140미디어영상학부45140동북아문화산업학부 ...\n"
     ]
    }
   ],
   "source": [
    "from langchain_community.vectorstores import Chroma\n",
    "\n",
    "user_input = \"졸업까지 최소 몇 학기 남았어?\"\n",
    "\n",
    "# Chroma DB 연결\n",
    "db = Chroma(\n",
    "    persist_directory=\"./chroma_db\",\n",
    "    collection_name=\"lecture_search\",\n",
    "    embedding_function=embeddings_model\n",
    ")\n",
    "\n",
    "\n",
    "response = answer_query(user_input, user_id=\"kim\")\n",
    "print(\"🟢 챗봇 답변:\")\n",
    "print(response)\n",
    "\n",
    "similar_docs = db.similarity_search_with_score(user_input, k=3)\n",
    "\n",
    "print(\"\\n📚 유사 문서:\")\n",
    "for i, (doc, score) in enumerate(similar_docs, 1):\n",
    "    print(f\"\\n{i}. 유사도: {score:.4f}\")\n",
    "    print(doc.page_content[:300], \"...\")"
   ]
  },
  {
   "cell_type": "code",
   "execution_count": 66,
   "id": "5802e013-48af-44bd-a2c2-ca15b44db9cf",
   "metadata": {
    "scrolled": true
   },
   "outputs": [
    {
     "name": "stdout",
     "output_type": "stream",
     "text": [
      "🟢 챗봇 답변:\n",
      "아니요. 우리 학교에서는 졸업 유예 신청이 불가능합니다.\n",
      "\n",
      "📚 유사 문서:\n",
      "\n",
      "1. 유사도: 83.2549\n",
      "수 있도록 하는 제도2) 적용대상 : 2017학년도 신입생부터 / 시행시기 : 2017학년도 2학기부터3) 신청조건          가. 직전학기 평량평점이 3.5이상인 학생         나. 직전학기 평량평점이 산정되지 않는 인턴십, 교환학생 등을 이수한 학생은 해당사항 없음.         다. 해당학생은 수강신청 프로그램에서 추가 신청하면 됨.4) 2017학년도 이전 입학생은 아래의 학점이월제도를 유지함. ...\n",
      "\n",
      "2. 유사도: 89.1385\n",
      "후 신청서를 출력하여 7일 이내에 직접 교육지원팀을 방문해야 함3) 신청학점 및 학점인정 : 서울권역 e-러닝 신청학점을 포함하여 최대 6학점☞ 유의: ‘수강신청 학점범위’를 초과할 수 없으며, 졸업학점의 1/5선을 초과할 수 없음. 타학교 학점교류를 통하여 재수강이 불가함        가) 성적처리 : 해당교에서 취득한 성적을 백분율 점수 그대로 인정하되 등급은 본교 기준 성적등급으로 적용        나) 이수구분 인정          - 교류대학의 전공과목 : 일선(일반선택) /  교류대학의 교양과목 : 교선(교양선택)     ...\n",
      "\n",
      "3. 유사도: 89.3383\n",
      "기간 : 2월 25일(화) 10:00 ~ 15:00   ※ 소속학과 학생 수강신청 후 남은 여석에 한하여 신청 가능함.   ※ 본인 소속학과 전공 교과목 및 교양교과목도 여석이 있을 시 신청 가능.   ※ 2025학년도 1학기 2~4학년 재입학생, 편입학생(외국인포함) 신청 가능    라. 2월 26일(수) ~ 2월 28일(금) 10:00 ~ 15:00 : 한 과목도 신청하지 못한 재학생(편입학생 포함) 및 자과 수강신청 기간 이후 복학한 학생(기간 중 1일만 가능)  마. 수강신청변경 기간 : 3월 10일(월) ~ 3월 11일(화 ...\n"
     ]
    }
   ],
   "source": [
    "from langchain_community.vectorstores import Chroma\n",
    "\n",
    "user_input = \"우리 학교에서 졸업 유예 신청이 가능해?\"\n",
    "\n",
    "# Chroma DB 연결\n",
    "db = Chroma(\n",
    "    persist_directory=\"./chroma_db\",\n",
    "    collection_name=\"lecture_search\",\n",
    "    embedding_function=embeddings_model\n",
    ")\n",
    "\n",
    "\n",
    "response = answer_query(user_input, user_id=\"kim\")\n",
    "print(\"🟢 챗봇 답변:\")\n",
    "print(response)\n",
    "\n",
    "similar_docs = db.similarity_search_with_score(user_input, k=3)\n",
    "\n",
    "print(\"\\n📚 유사 문서:\")\n",
    "for i, (doc, score) in enumerate(similar_docs, 1):\n",
    "    print(f\"\\n{i}. 유사도: {score:.4f}\")\n",
    "    print(doc.page_content[:300], \"...\")"
   ]
  },
  {
   "cell_type": "code",
   "execution_count": 69,
   "id": "b908db0d-690f-4cb6-99be-7d93f58a581c",
   "metadata": {
    "scrolled": true
   },
   "outputs": [
    {
     "name": "stdout",
     "output_type": "stream",
     "text": [
      "🟢 챗봇 답변:\n",
      "조기 졸업 가능 조건은 6학기 말까지 114학점 이상 취득(계절수업 제외), 7개 학기 이상 이수자로 학칙시행세칙 제16조 평점평균의 산출에 따른 총 평점평균이 4.3 이상인 자(학적부성적 기준), 조기졸업 신청 당해 학기까지 취득한 전과목 성적이 B0 이상인 자(학적부성적 기준)입니다. 현재 C+ 이하의 성적이 존재하므로 재수강을 통해 성적을 개선하고 평점 평균을 4.3 이상으로 만든다면 조기 졸업이 가능합니다.\n",
      "\n",
      "📚 유사 문서:\n",
      "\n",
      "1. 유사도: 121.4522\n",
      "- 8 -\n",
      "※ 졸업예정학기(8학기, 건축학과 10학기) 학생이 수강포기를 하여도 총 신청학점이 6학점 이상이 될 경우에는 KLAS에서 직접 신청 가능함.4\n",
      "수강신청 유의사항 및 기타 안내사항 ...\n",
      "\n",
      "2. 유사도: 121.9826\n",
      "- 34 -\n",
      "공 기준 이상 취득한 후 중도 포기하면서 부전공을 신청할 경우에는 해당 전공을 부전공으로 인정함.2) 다전공을 신청한 학생이 졸업요건 및 졸업학점을 이수하였으나 다전공학점의 이수를 완료하지 못하여 졸업을 유보하고자 할 경우 졸업연기신청을 하여 다전공을 이수할 수 있음.   ※ 단, 마이크로전공은 제외.3) 다전공 신청 전에 해당 교과목을 이수하고 이후에 다전공을 신청하더라도 다전공 학점으로 인정됨.(졸업 사정시 반영)4) 2020학년도부터 공과대학 건축학과의 복수(부)전공 이수가 가능함.   (건축학과 → 타학과 / 타 ...\n",
      "\n",
      "3. 유사도: 123.4763\n",
      "또는 3.0/4.5이상(Lab인턴십     과정) 조건을 충족하지 못한 자  다. 대학원 입학 후 첫 학기는 휴학 및 자퇴를 신청할 수 없습니다.      (단, 군입대, 학업지속 불가의 질병 제외)  라. 학․석사 연계과정 선발자는 학부 졸업 시까지 군입대, 병가를 제외하고는 휴학을 신청할 수 없습니다.  마. 학부졸업요건을 충족한 자는 7학기말(공과대학 건축학과는 9학기말)에 학․석사 연계과정 학부 졸업신청서를 교무처 교육지원팀에, 대학원 입학지원서를 대학원 교학팀에 기한내에 제출하여야 합니다.   바. 학부졸업과 동시에 반드시 ...\n"
     ]
    }
   ],
   "source": [
    "from langchain_community.vectorstores import Chroma\n",
    "\n",
    "user_input = \"조기 졸업이 가능한 상황이야?\"\n",
    "\n",
    "# Chroma DB 연결\n",
    "db = Chroma(\n",
    "    persist_directory=\"./chroma_db\",\n",
    "    collection_name=\"lecture_search\",\n",
    "    embedding_function=embeddings_model\n",
    ")\n",
    "\n",
    "\n",
    "response = answer_query(user_input, user_id=\"kim\")\n",
    "print(\"🟢 챗봇 답변:\")\n",
    "print(response)\n",
    "\n",
    "similar_docs = db.similarity_search_with_score(user_input, k=3)\n",
    "\n",
    "print(\"\\n📚 유사 문서:\")\n",
    "for i, (doc, score) in enumerate(similar_docs, 1):\n",
    "    print(f\"\\n{i}. 유사도: {score:.4f}\")\n",
    "    print(doc.page_content[:300], \"...\")"
   ]
  },
  {
   "cell_type": "code",
   "execution_count": 70,
   "id": "cf11c103-b3c7-4cf2-9238-b418cd8a8449",
   "metadata": {
    "scrolled": true
   },
   "outputs": [
    {
     "name": "stdout",
     "output_type": "stream",
     "text": [
      "🟢 챗봇 답변:\n",
      "AI수학: A0 / 정보디자인프로그래밍: A0 → 예상 평점: 3.85\n",
      "\n",
      "📚 유사 문서:\n",
      "\n",
      "1. 유사도: 57.7915\n",
      "재수강 제도 안내\n",
      "가. 재수강이란 학점삭제 없이 기존에 이수한 동일교과목을 수강신청하여 이수할 수 있는 제도나. 재수강 조건 C+ 이하교과목 중 동일과목(으로 인정하는) 교과목을 2회에 한하여 재수강 가능다. 재수강 제한범위 재학 중 최대 8과목(단 F 또는 NP 학점은 과목 수에서 제외)라. 취득 성적 제한 재수강 후 취득성적 상한선은 A0 이하로 함마. 재수강한 과목의 표기 기 이수한 과목에 ‘R’(Retake)로 표기하고, 재수강한 과목에 성적 표기바. 취득학점 및 평점평균 산입방법 : ‘R’로 표기한 교과목(기 이수 과목)은 ...\n",
      "\n",
      "2. 유사도: 79.4326\n",
      "- 33 -\n",
      "※ 지정과목은 반드시 졸업할 때까지 이수하여야 하며, 한 과목이라도 이수하지 않을 경우에는 졸업이 불가함. 라. 3학년 1학기 편입한 학생은 4학기 이상을 등록을 하여야 하고, 2학년 1학기에 편입한 학생은 6학기 이상을 등록하여야 함. 3학년 2학기 편입생은 편입학년의 1학기에 개설된 전공필수과목을 포함하여 모두 이수하여야 함       (예: 3학년 2학기 편입생 - 졸업 이전까지 3학년 1학기 전공필수과목을 필히 이수하여야 함).마. 편입생은 교양필수 이수를 면제하고, 교양학점 30학점을 이수하도록 함.6\n",
      "다전공( ...\n",
      "\n",
      "3. 유사도: 81.8579\n",
      "수치해석, 이산수학, 통계학개론은 기초교양 → 전선(7000,I000,1000-)          그 외 교과목 기초교양 → 교선(0000-)      바. 다음의 경우는 수강신청이 되지 않도록 조치되어 있음(전산처리 불가)1) 신입생의 경우, 학번별로 지정한 본인 해당분반 과목이 아닌 타 분반 과목의 수강신청  2) 수업시간이 중복된 과목 / 제한인원이 초과된 과목 / 수강신청 학점범위를 초과 신청하는 경우 3) 기 이수한 동일한 과목을 수강신청 할 경우 C+이하 교과목은 재수강으로 처리되며, B0까지의 교과목은 수강신청 되지 않 ...\n"
     ]
    }
   ],
   "source": [
    "from langchain_community.vectorstores import Chroma\n",
    "\n",
    "user_input = \"지금 재수강가능한 과목들을 A0로 성적올리면 전체 학점이 어떻게 돼?\"\n",
    "\n",
    "# Chroma DB 연결\n",
    "db = Chroma(\n",
    "    persist_directory=\"./chroma_db\",\n",
    "    collection_name=\"lecture_search\",\n",
    "    embedding_function=embeddings_model\n",
    ")\n",
    "\n",
    "\n",
    "response = answer_query(user_input, user_id=\"kim\")\n",
    "print(\"🟢 챗봇 답변:\")\n",
    "print(response)\n",
    "\n",
    "similar_docs = db.similarity_search_with_score(user_input, k=3)\n",
    "\n",
    "print(\"\\n📚 유사 문서:\")\n",
    "for i, (doc, score) in enumerate(similar_docs, 1):\n",
    "    print(f\"\\n{i}. 유사도: {score:.4f}\")\n",
    "    print(doc.page_content[:300], \"...\")"
   ]
  },
  {
   "cell_type": "code",
   "execution_count": 74,
   "id": "668c8e33-87fd-4513-8c60-e695c60fc235",
   "metadata": {
    "scrolled": true
   },
   "outputs": [
    {
     "name": "stdout",
     "output_type": "stream",
     "text": [
      "🟢 챗봇 답변:\n",
      "지금 재수강 가능한 과목은 AI수학, 정보디자인프로그래밍입니다.\n",
      "\n",
      "📚 유사 문서:\n",
      "\n",
      "1. 유사도: 63.2386\n",
      "재수강 제도 안내\n",
      "가. 재수강이란 학점삭제 없이 기존에 이수한 동일교과목을 수강신청하여 이수할 수 있는 제도나. 재수강 조건 C+ 이하교과목 중 동일과목(으로 인정하는) 교과목을 2회에 한하여 재수강 가능다. 재수강 제한범위 재학 중 최대 8과목(단 F 또는 NP 학점은 과목 수에서 제외)라. 취득 성적 제한 재수강 후 취득성적 상한선은 A0 이하로 함마. 재수강한 과목의 표기 기 이수한 과목에 ‘R’(Retake)로 표기하고, 재수강한 과목에 성적 표기바. 취득학점 및 평점평균 산입방법 : ‘R’로 표기한 교과목(기 이수 과목)은 ...\n",
      "\n",
      "2. 유사도: 81.9564\n",
      "이를 재수강하는 학생은 ‘대학물리및실험2’ 재수강분반에서 이수* 2023학년도 2학기까지 MSC 내의 기초교양필수로 있었던 ‘확률및불규칙신호론’ 과목과 기초교양선택으로 있었던 ‘수치해석’, ‘이산수학’ 과목은 2024학년부터 전정대 공통으로 개설되는 전공 선택 과목으로 지정되었습니다. 2023학년도 2학기 이전까지 “확률 및 불규칙 신호론”과목 및 “수치해석”, “이산수학” 과목을 수강하신 학생들은 MSC 기초교양필수 및 기초교양선택으로 인정이 가능합니다.  2016학년도 이전 입학자 적용구분영역교과목 명이수구분개설학기/학점1학년2 ...\n",
      "\n",
      "3. 유사도: 84.5869\n",
      "- 72 -\n",
      "는 재수강분반에서 이수 * 2022학년도1학기 ‘대학물리학1’ 기초과학 과목 신설에 따라, 2017학년도 입학자 적용 표에서 참고하여 이수함(실험학점 없음)* 2024학년도 1학기부터 ‘수치해석’ 및 ‘통계학개론’ 과목이 공과대 공통 전공선택으로 개설됨에 따라, 다음을 참고하여 이수함  - 2024학년도 1학기부터 개설되는 ‘수치해석’ 및 ‘통계학개론’은 전공선택으로 구분되며 수학, 기초과학, 전산학(MSC) 학점으로 인정  - 2023학년도 2학기까지 개설된 ‘수치해석’ 및 ‘통계학개론’은 기초교양선택으로 구분되며 수 ...\n"
     ]
    }
   ],
   "source": [
    "from langchain_community.vectorstores import Chroma\n",
    "\n",
    "user_input = \"지금 재수강가능한 과목은 뭐야?\"\n",
    "\n",
    "# Chroma DB 연결\n",
    "db = Chroma(\n",
    "    persist_directory=\"./chroma_db\",\n",
    "    collection_name=\"lecture_search\",\n",
    "    embedding_function=embeddings_model\n",
    ")\n",
    "\n",
    "\n",
    "response = answer_query(user_input, user_id=\"kim\")\n",
    "print(\"🟢 챗봇 답변:\")\n",
    "print(response)\n",
    "\n",
    "similar_docs = db.similarity_search_with_score(user_input, k=3)\n",
    "\n",
    "print(\"\\n📚 유사 문서:\")\n",
    "for i, (doc, score) in enumerate(similar_docs, 1):\n",
    "    print(f\"\\n{i}. 유사도: {score:.4f}\")\n",
    "    print(doc.page_content[:300], \"...\")"
   ]
  },
  {
   "cell_type": "code",
   "execution_count": 75,
   "id": "a991e2ce-1527-40f1-aac9-3795ac115911",
   "metadata": {},
   "outputs": [
    {
     "name": "stdout",
     "output_type": "stream",
     "text": [
      "🟢 챗봇 답변:\n",
      "김브티님은 총 8번까지 재수강이 가능하며, 현재까지 1번 재수강하셨습니다. 따라서 7번 더 재수강할 수 있습니다.\n",
      "\n",
      "📚 유사 문서:\n",
      "\n",
      "1. 유사도: 68.4382\n",
      "재수강 제도 안내\n",
      "가. 재수강이란 학점삭제 없이 기존에 이수한 동일교과목을 수강신청하여 이수할 수 있는 제도나. 재수강 조건 C+ 이하교과목 중 동일과목(으로 인정하는) 교과목을 2회에 한하여 재수강 가능다. 재수강 제한범위 재학 중 최대 8과목(단 F 또는 NP 학점은 과목 수에서 제외)라. 취득 성적 제한 재수강 후 취득성적 상한선은 A0 이하로 함마. 재수강한 과목의 표기 기 이수한 과목에 ‘R’(Retake)로 표기하고, 재수강한 과목에 성적 표기바. 취득학점 및 평점평균 산입방법 : ‘R’로 표기한 교과목(기 이수 과목)은 ...\n",
      "\n",
      "2. 유사도: 98.5147\n",
      "수치해석, 이산수학, 통계학개론은 기초교양 → 전선(7000,I000,1000-)          그 외 교과목 기초교양 → 교선(0000-)      바. 다음의 경우는 수강신청이 되지 않도록 조치되어 있음(전산처리 불가)1) 신입생의 경우, 학번별로 지정한 본인 해당분반 과목이 아닌 타 분반 과목의 수강신청  2) 수업시간이 중복된 과목 / 제한인원이 초과된 과목 / 수강신청 학점범위를 초과 신청하는 경우 3) 기 이수한 동일한 과목을 수강신청 할 경우 C+이하 교과목은 재수강으로 처리되며, B0까지의 교과목은 수강신청 되지 않 ...\n",
      "\n",
      "3. 유사도: 104.3101\n",
      "기간 : 2월 25일(화) 10:00 ~ 15:00   ※ 소속학과 학생 수강신청 후 남은 여석에 한하여 신청 가능함.   ※ 본인 소속학과 전공 교과목 및 교양교과목도 여석이 있을 시 신청 가능.   ※ 2025학년도 1학기 2~4학년 재입학생, 편입학생(외국인포함) 신청 가능    라. 2월 26일(수) ~ 2월 28일(금) 10:00 ~ 15:00 : 한 과목도 신청하지 못한 재학생(편입학생 포함) 및 자과 수강신청 기간 이후 복학한 학생(기간 중 1일만 가능)  마. 수강신청변경 기간 : 3월 10일(월) ~ 3월 11일(화 ...\n"
     ]
    }
   ],
   "source": [
    "from langchain_community.vectorstores import Chroma\n",
    "\n",
    "user_input = \"재수강 가능한 횟수가 어떻게 돼?\"\n",
    "\n",
    "# Chroma DB 연결\n",
    "db = Chroma(\n",
    "    persist_directory=\"./chroma_db\",\n",
    "    collection_name=\"lecture_search\",\n",
    "    embedding_function=embeddings_model\n",
    ")\n",
    "\n",
    "\n",
    "response = answer_query(user_input, user_id=\"kim\")\n",
    "print(\"🟢 챗봇 답변:\")\n",
    "print(response)\n",
    "\n",
    "similar_docs = db.similarity_search_with_score(user_input, k=3)\n",
    "\n",
    "print(\"\\n📚 유사 문서:\")\n",
    "for i, (doc, score) in enumerate(similar_docs, 1):\n",
    "    print(f\"\\n{i}. 유사도: {score:.4f}\")\n",
    "    print(doc.page_content[:300], \"...\")"
   ]
  },
  {
   "cell_type": "code",
   "execution_count": 76,
   "id": "0bf6f734-3441-469b-a866-fe37cb58301e",
   "metadata": {
    "scrolled": true
   },
   "outputs": [
    {
     "name": "stdout",
     "output_type": "stream",
     "text": [
      "🟢 챗봇 답변:\n",
      "학정번호 기준으로 동일한 학정번호가 있는 강의를 수강하시면 됩니다. 다만, 동일한 학정번호의 강의가 3년 이상 미개설 할 경우, C이하의 과목은 학점삭제 가능합니다. 자세한 내용은 학사에 문의하세요.\n",
      "\n",
      "📚 유사 문서:\n",
      "\n",
      "1. 유사도: 72.3925\n",
      "재수강 제도 안내\n",
      "가. 재수강이란 학점삭제 없이 기존에 이수한 동일교과목을 수강신청하여 이수할 수 있는 제도나. 재수강 조건 C+ 이하교과목 중 동일과목(으로 인정하는) 교과목을 2회에 한하여 재수강 가능다. 재수강 제한범위 재학 중 최대 8과목(단 F 또는 NP 학점은 과목 수에서 제외)라. 취득 성적 제한 재수강 후 취득성적 상한선은 A0 이하로 함마. 재수강한 과목의 표기 기 이수한 과목에 ‘R’(Retake)로 표기하고, 재수강한 과목에 성적 표기바. 취득학점 및 평점평균 산입방법 : ‘R’로 표기한 교과목(기 이수 과목)은 ...\n",
      "\n",
      "2. 유사도: 78.7471\n",
      "- 70 -\n",
      "  - 2017학년도까지 ‘컴퓨터그래픽’을 미이수한 경우, 2018학년도부터 필수교양(교필)으로 개설되는 ‘인공지능과컴퓨팅사고(구.컴퓨팅사고)’를 대체하여 이수  - 2016학년도까지 ‘컴퓨터활용’ 교과목을 이수하였으나, 이를 재수강하는 학생은 2020학년도까지 개설되는 재수강분반에서 이수* 2024학년도 1학기부터 ‘수치해석’ 및 ‘통계학개론’ 과목이 공과대 공통 전공선택으로 개설됨에 따라 다음을 참고하여 이수함  - 2024학년도 1학기부터 개설되는 ‘수치해석’ 및 ‘통계학개론’은 전공선택으로 구분되며 수학, 기초과 ...\n",
      "\n",
      "3. 유사도: 78.8133\n",
      "수치해석, 이산수학, 통계학개론은 기초교양 → 전선(7000,I000,1000-)          그 외 교과목 기초교양 → 교선(0000-)      바. 다음의 경우는 수강신청이 되지 않도록 조치되어 있음(전산처리 불가)1) 신입생의 경우, 학번별로 지정한 본인 해당분반 과목이 아닌 타 분반 과목의 수강신청  2) 수업시간이 중복된 과목 / 제한인원이 초과된 과목 / 수강신청 학점범위를 초과 신청하는 경우 3) 기 이수한 동일한 과목을 수강신청 할 경우 C+이하 교과목은 재수강으로 처리되며, B0까지의 교과목은 수강신청 되지 않 ...\n"
     ]
    }
   ],
   "source": [
    "from langchain_community.vectorstores import Chroma\n",
    "\n",
    "user_input = \"같은 과목을 재수강할 때 교수님이 바뀌거나 과목이 사라지면 어떻게 해야 해?\"\n",
    "\n",
    "# Chroma DB 연결\n",
    "db = Chroma(\n",
    "    persist_directory=\"./chroma_db\",\n",
    "    collection_name=\"lecture_search\",\n",
    "    embedding_function=embeddings_model\n",
    ")\n",
    "\n",
    "\n",
    "response = answer_query(user_input, user_id=\"kim\")\n",
    "print(\"🟢 챗봇 답변:\")\n",
    "print(response)\n",
    "\n",
    "similar_docs = db.similarity_search_with_score(user_input, k=3)\n",
    "\n",
    "print(\"\\n📚 유사 문서:\")\n",
    "for i, (doc, score) in enumerate(similar_docs, 1):\n",
    "    print(f\"\\n{i}. 유사도: {score:.4f}\")\n",
    "    print(doc.page_content[:300], \"...\")"
   ]
  },
  {
   "cell_type": "code",
   "execution_count": 77,
   "id": "7a7e6b9d-3517-4a0c-ae92-9f36f5bfb68a",
   "metadata": {
    "scrolled": true
   },
   "outputs": [
    {
     "name": "stdout",
     "output_type": "stream",
     "text": [
      "🟢 챗봇 답변:\n",
      "재수강한 과목은 성적표에 ‘R’(Retake)로 표기되며, 재수강한 과목의 성적만 성적 및 학점에 반영됩니다.\n",
      "\n",
      "📚 유사 문서:\n",
      "\n",
      "1. 유사도: 80.4364\n",
      "재수강 제도 안내\n",
      "가. 재수강이란 학점삭제 없이 기존에 이수한 동일교과목을 수강신청하여 이수할 수 있는 제도나. 재수강 조건 C+ 이하교과목 중 동일과목(으로 인정하는) 교과목을 2회에 한하여 재수강 가능다. 재수강 제한범위 재학 중 최대 8과목(단 F 또는 NP 학점은 과목 수에서 제외)라. 취득 성적 제한 재수강 후 취득성적 상한선은 A0 이하로 함마. 재수강한 과목의 표기 기 이수한 과목에 ‘R’(Retake)로 표기하고, 재수강한 과목에 성적 표기바. 취득학점 및 평점평균 산입방법 : ‘R’로 표기한 교과목(기 이수 과목)은 ...\n",
      "\n",
      "2. 유사도: 103.8518\n",
      "- 17 -\n",
      "사. ‘과목 선택’에 조회된 과목을 노란색 ‘수강신청’ 버튼을 클릭한 후 재수강 과목 알림 팝업창에 ‘확인’을 클릭합니다. \n",
      "아. 수강신청 완료시 ‘종료’ 클릭 후 본인의 수강내역 및 시간표 정보를 KLAS에서 반드시 확인바랍니다. ...\n",
      "\n",
      "3. 유사도: 110.4400\n",
      "편입생이 이수해야 할 교과목 및 학점\n",
      "가. 편입생은 수강신청을 하기 전에 반드시 소속 학과(부)장과 면담하여 전적교에서 취득한 학점을 인정받기 위한 절차를 거쳐 인정받은 학점(교양․ 전공․ 일선)과 향후 반드시 이수해야 할 교과목을 확인하고 수강 신청하여야 함.   ※ 해당 학과에서 학점 심의를 통해 학점을 인정하며, 인정된 학점 및 이수요망 교과목에 대하여는 추후 공지를 통하여 배부되며, 학교홈페이지 KLAS>수강성적조회 메뉴에서도 확인 가능. 나. 전적교에서 이수한 교과목과 동일한 과목을 본교에서 다시 이수하여 학점을 취득할 수 ...\n"
     ]
    }
   ],
   "source": [
    "from langchain_community.vectorstores import Chroma\n",
    "\n",
    "user_input = \"재수강하면 성적표에 재수강 여부가 표시되나?\"\n",
    "\n",
    "# Chroma DB 연결\n",
    "db = Chroma(\n",
    "    persist_directory=\"./chroma_db\",\n",
    "    collection_name=\"lecture_search\",\n",
    "    embedding_function=embeddings_model\n",
    ")\n",
    "\n",
    "\n",
    "response = answer_query(user_input, user_id=\"kim\")\n",
    "print(\"🟢 챗봇 답변:\")\n",
    "print(response)\n",
    "\n",
    "similar_docs = db.similarity_search_with_score(user_input, k=3)\n",
    "\n",
    "print(\"\\n📚 유사 문서:\")\n",
    "for i, (doc, score) in enumerate(similar_docs, 1):\n",
    "    print(f\"\\n{i}. 유사도: {score:.4f}\")\n",
    "    print(doc.page_content[:300], \"...\")"
   ]
  },
  {
   "cell_type": "code",
   "execution_count": 78,
   "id": "ac2357b1-28db-465d-9d33-cfe662ee29a8",
   "metadata": {
    "scrolled": true
   },
   "outputs": [
    {
     "name": "stdout",
     "output_type": "stream",
     "text": [
      "🟢 챗봇 답변:\n",
      "F 받은 과목은 재수강 시 '재수강' 표시가 뜨지 않지만, 재수강 이력은 남고 성적표에는 'R'로 표기됩니다.\n",
      "\n",
      "📚 유사 문서:\n",
      "\n",
      "1. 유사도: 88.3057\n",
      "재수강 제도 안내\n",
      "가. 재수강이란 학점삭제 없이 기존에 이수한 동일교과목을 수강신청하여 이수할 수 있는 제도나. 재수강 조건 C+ 이하교과목 중 동일과목(으로 인정하는) 교과목을 2회에 한하여 재수강 가능다. 재수강 제한범위 재학 중 최대 8과목(단 F 또는 NP 학점은 과목 수에서 제외)라. 취득 성적 제한 재수강 후 취득성적 상한선은 A0 이하로 함마. 재수강한 과목의 표기 기 이수한 과목에 ‘R’(Retake)로 표기하고, 재수강한 과목에 성적 표기바. 취득학점 및 평점평균 산입방법 : ‘R’로 표기한 교과목(기 이수 과목)은 ...\n",
      "\n",
      "2. 유사도: 117.0266\n",
      "- 64 -\n",
      "  - 2016학년도까지 ‘C프로그래밍’을 미이수한 경우, 2017학년도부터 필수교양(교필)으로 개설되는 ‘C프로그래밍’으로 대체하여 이수  - 2016학년도까지 ‘컴퓨터개론’을 미이수한 경우, 2017학년도부터 필수교양(교필)으로 개설되는 ‘인공지능과컴퓨팅사고(구.컴퓨팅사고)’로        대체하여 이수  - 2016학년도까지 ‘컴퓨터개론’ 교과목을 이수하였으나, 이를 재수강하는 학생은 2020학년도까지 개설되는 재수강분반에서 이수  - 2016학년도까지 ‘고급C프로그래밍및설계’를 미이수한 경우, 2017학년도부터  ...\n",
      "\n",
      "3. 유사도: 120.8467\n",
      "- 75 -\n",
      "마. 선ž후수 교과목 이수체계 준수 제도       1) 선수 지정 교과목을 미이수 한 학생은 담당과목교수의 상담(Oral Test, Quiz등)을 통해 「선수과목 미 이수 인정(승인)심사」를 받을 수 있으며, 기한 내에 ‘승인’ 받은 학생은 수강가능함. 단, 승인을 받지 못한 학생은 해당 수강신청 과목이 ‘수강삭제조치(일괄)’되어 해당 학기에 수강할 수 없음.   2) 학과 공학프로그램별 교과목 이수체계도 : 학과 홈페이지 안내 참조   3) 선수필수 지정교과목 ‘미이수’ 학생 「선수과목 미 이수 인정심사」 상담 안내 ...\n"
     ]
    }
   ],
   "source": [
    "from langchain_community.vectorstores import Chroma\n",
    "\n",
    "user_input = \"F받고 재수강하면 재수강 이력이 남아?\"\n",
    "\n",
    "# Chroma DB 연결\n",
    "db = Chroma(\n",
    "    persist_directory=\"./chroma_db\",\n",
    "    collection_name=\"lecture_search\",\n",
    "    embedding_function=embeddings_model\n",
    ")\n",
    "\n",
    "\n",
    "response = answer_query(user_input, user_id=\"kim\")\n",
    "print(\"🟢 챗봇 답변:\")\n",
    "print(response)\n",
    "\n",
    "similar_docs = db.similarity_search_with_score(user_input, k=3)\n",
    "\n",
    "print(\"\\n📚 유사 문서:\")\n",
    "for i, (doc, score) in enumerate(similar_docs, 1):\n",
    "    print(f\"\\n{i}. 유사도: {score:.4f}\")\n",
    "    print(doc.page_content[:300], \"...\")"
   ]
  },
  {
   "cell_type": "code",
   "execution_count": 79,
   "id": "66e4d818-1892-4c12-89a5-590fa101de2a",
   "metadata": {
    "scrolled": true
   },
   "outputs": [
    {
     "name": "stdout",
     "output_type": "stream",
     "text": [
      "🟢 챗봇 답변:\n",
      "재수강 여부는 개인의 학업 목표와 상황에 따라 다르지만, 성적이 낮은 전공 과목을 재수강하는 것은 전공에 대한 이해도를 높이고 평점 평균을 개선하는 데 도움이 될 수 있습니다. 반면, 다른 전공 과목을 듣는다면 다양한 지식을 쌓을 수 있는 기회가 될 수 있습니다. 현재 성적을 고려할 때, 재수강이 가능한 전공 과목으로는 C+를 받은 AI수학 과목 / C+를 받은 정보디자인프로그래밍 과목이 있습니다.\n",
      "\n",
      "📚 유사 문서:\n",
      "\n",
      "1. 유사도: 67.2534\n",
      "재수강 제도 안내\n",
      "가. 재수강이란 학점삭제 없이 기존에 이수한 동일교과목을 수강신청하여 이수할 수 있는 제도나. 재수강 조건 C+ 이하교과목 중 동일과목(으로 인정하는) 교과목을 2회에 한하여 재수강 가능다. 재수강 제한범위 재학 중 최대 8과목(단 F 또는 NP 학점은 과목 수에서 제외)라. 취득 성적 제한 재수강 후 취득성적 상한선은 A0 이하로 함마. 재수강한 과목의 표기 기 이수한 과목에 ‘R’(Retake)로 표기하고, 재수강한 과목에 성적 표기바. 취득학점 및 평점평균 산입방법 : ‘R’로 표기한 교과목(기 이수 과목)은 ...\n",
      "\n",
      "2. 유사도: 71.2048\n",
      "- 70 -\n",
      "  - 2017학년도까지 ‘컴퓨터그래픽’을 미이수한 경우, 2018학년도부터 필수교양(교필)으로 개설되는 ‘인공지능과컴퓨팅사고(구.컴퓨팅사고)’를 대체하여 이수  - 2016학년도까지 ‘컴퓨터활용’ 교과목을 이수하였으나, 이를 재수강하는 학생은 2020학년도까지 개설되는 재수강분반에서 이수* 2024학년도 1학기부터 ‘수치해석’ 및 ‘통계학개론’ 과목이 공과대 공통 전공선택으로 개설됨에 따라 다음을 참고하여 이수함  - 2024학년도 1학기부터 개설되는 ‘수치해석’ 및 ‘통계학개론’은 전공선택으로 구분되며 수학, 기초과 ...\n",
      "\n",
      "3. 유사도: 71.4880\n",
      "- 72 -\n",
      "는 재수강분반에서 이수 * 2022학년도1학기 ‘대학물리학1’ 기초과학 과목 신설에 따라, 2017학년도 입학자 적용 표에서 참고하여 이수함(실험학점 없음)* 2024학년도 1학기부터 ‘수치해석’ 및 ‘통계학개론’ 과목이 공과대 공통 전공선택으로 개설됨에 따라, 다음을 참고하여 이수함  - 2024학년도 1학기부터 개설되는 ‘수치해석’ 및 ‘통계학개론’은 전공선택으로 구분되며 수학, 기초과학, 전산학(MSC) 학점으로 인정  - 2023학년도 2학기까지 개설된 ‘수치해석’ 및 ‘통계학개론’은 기초교양선택으로 구분되며 수 ...\n"
     ]
    }
   ],
   "source": [
    "from langchain_community.vectorstores import Chroma\n",
    "\n",
    "user_input = \"성적이 낮은 전공 필수 과목을 재수강하는 게 나을까, 다른 전공 과목을 듣는 게 나을까?\"\n",
    "\n",
    "# Chroma DB 연결\n",
    "db = Chroma(\n",
    "    persist_directory=\"./chroma_db\",\n",
    "    collection_name=\"lecture_search\",\n",
    "    embedding_function=embeddings_model\n",
    ")\n",
    "\n",
    "\n",
    "response = answer_query(user_input, user_id=\"kim\")\n",
    "print(\"🟢 챗봇 답변:\")\n",
    "print(response)\n",
    "\n",
    "similar_docs = db.similarity_search_with_score(user_input, k=3)\n",
    "\n",
    "print(\"\\n📚 유사 문서:\")\n",
    "for i, (doc, score) in enumerate(similar_docs, 1):\n",
    "    print(f\"\\n{i}. 유사도: {score:.4f}\")\n",
    "    print(doc.page_content[:300], \"...\")"
   ]
  },
  {
   "cell_type": "markdown",
   "id": "5b6c7303-3fca-4b55-a792-7b38785d230b",
   "metadata": {},
   "source": [
    "###### 강의탐색"
   ]
  },
  {
   "cell_type": "code",
   "execution_count": 71,
   "id": "9aa5dce4-e72e-40f0-a52c-3b038f2fa9b4",
   "metadata": {
    "scrolled": true
   },
   "outputs": [
    {
     "name": "stdout",
     "output_type": "stream",
     "text": [
      "🟢 챗봇 답변:\n",
      "컴퓨터그래픽스의 시험은 강의 후기 결과 \"Closed book\"로 확인 됩니다. \n",
      "\n",
      "📚 유사 문서:\n",
      "\n",
      "1. 유사도: 31.2182\n",
      "질문: 컴퓨터그래픽스 강의는 시험이 오픈북이야?\n",
      "답변: 컴퓨터그래픽스의 시험은 강의 후기 결과 \"Closed book\"로 확인 됩니다. ...\n",
      "\n",
      "2. 유사도: 61.3945\n",
      "질문: 딥러닝프로그래밍 강의는 시험이 오픈북이야?\n",
      "답변: 딥러닝프로그래밍의 시험은 강의 후기 결과 \"Closed book\"로 확인 됩니다. ...\n",
      "\n",
      "3. 유사도: 82.2889\n",
      "학정번호: I040-3-5474-02\n",
      "강의명: 컴퓨터비전\n",
      "강의평점: \n",
      "과제: 보통\n",
      "팀플: 없음\n",
      "성적평가정도: 보통\n",
      "출결 방식: 전자출결\n",
      "시험 횟수: 2\n",
      "시험 방식: Open book\n",
      "전공 학점: 없음\n",
      "교양 학점: 없음\n",
      "총 학점: 없음\n",
      "교수명: \n",
      "수업 시간: \n",
      "강의 유형: \n",
      "학점: 시간\n",
      "학기: 학기\n",
      "강의 설명: 영역: ...\n"
     ]
    }
   ],
   "source": [
    "from langchain_community.vectorstores import Chroma\n",
    "\n",
    "user_input = \"컴퓨터그래픽스 강의는 시험이 오픈북이야?\"\n",
    "\n",
    "# Chroma DB 연결\n",
    "db = Chroma(\n",
    "    persist_directory=\"./chroma_db\",\n",
    "    collection_name=\"lecture_search\",\n",
    "    embedding_function=embeddings_model\n",
    ")\n",
    "\n",
    "\n",
    "response = answer_query(user_input, user_id=\"kim\")\n",
    "print(\"🟢 챗봇 답변:\")\n",
    "print(response)\n",
    "\n",
    "similar_docs = db.similarity_search_with_score(user_input, k=3)\n",
    "\n",
    "print(\"\\n📚 유사 문서:\")\n",
    "for i, (doc, score) in enumerate(similar_docs, 1):\n",
    "    print(f\"\\n{i}. 유사도: {score:.4f}\")\n",
    "    print(doc.page_content[:300], \"...\")"
   ]
  },
  {
   "cell_type": "code",
   "execution_count": 72,
   "id": "b73acbaf-9a5b-46ff-bcc7-35268b29ca8c",
   "metadata": {},
   "outputs": [
    {
     "name": "stdout",
     "output_type": "stream",
     "text": [
      "🟢 챗봇 답변:\n",
      "UX/UI디자인 강의는 출석 10, 중간고사 40, 기말고사 30, 과제보고서 10, 수업태도 10으로 구성되어 있습니다.\n",
      "\n",
      "📚 유사 문서:\n",
      "\n",
      "1. 유사도: 16.1193\n",
      "질문: UX/UI디자인 강의는 성적 평가 기준이 어떻게 돼? 시험, 과제, 출석 비율 알려줘.\n",
      "답변: UX/UI디자인 강의는 출석 10, 중간고사 40, 기말고사 30, 과제보고서 10, 수업태도 10으로 구성되어 있습니다. ...\n",
      "\n",
      "2. 유사도: 40.2832\n",
      "질문: UX/UI디자인 강의 평가에서 성적평가가 엄격하다는 의견이 많아?\n",
      "답변: UX/UI디자인 강의 성적평가 기준은 '보통'입니다. ...\n",
      "\n",
      "3. 유사도: 53.0354\n",
      "질문: UXUI 디자인 강의 수업 방식은 어떤 식으로 진행돼? 발표가 많은 편이야?\n",
      "답변: 강의 후기에서는 주제발표와 최종 프로젝트 발표 두번 이뤄집니다. 자세한 내용은 교수님께 문의 하시길 바랍니다. ...\n"
     ]
    }
   ],
   "source": [
    "from langchain_community.vectorstores import Chroma\n",
    "\n",
    "user_input = \"UX/UI디자인 강의는 성적 평가 기준이 어떻게 돼? 시험, 과제, 출석 비율 알려줘.\"\n",
    "\n",
    "# Chroma DB 연결\n",
    "db = Chroma(\n",
    "    persist_directory=\"./chroma_db\",\n",
    "    collection_name=\"lecture_search\",\n",
    "    embedding_function=embeddings_model\n",
    ")\n",
    "\n",
    "\n",
    "response = answer_query(user_input, user_id=\"kim\")\n",
    "print(\"🟢 챗봇 답변:\")\n",
    "print(response)\n",
    "\n",
    "similar_docs = db.similarity_search_with_score(user_input, k=3)\n",
    "\n",
    "print(\"\\n📚 유사 문서:\")\n",
    "for i, (doc, score) in enumerate(similar_docs, 1):\n",
    "    print(f\"\\n{i}. 유사도: {score:.4f}\")\n",
    "    print(doc.page_content[:300], \"...\")"
   ]
  },
  {
   "cell_type": "markdown",
   "id": "4af189a3-ffaa-48e5-98cc-29dad7367b95",
   "metadata": {},
   "source": [
    "###### 진로상담"
   ]
  },
  {
   "cell_type": "code",
   "execution_count": 73,
   "id": "29906410-adb3-475c-a95e-0d99ad252892",
   "metadata": {},
   "outputs": [
    {
     "name": "stdout",
     "output_type": "stream",
     "text": [
      "🟢 챗봇 답변:\n",
      "기계학습, 데이터마이닝, 웹서비스설계및실습, 정보디자인프로그래밍, 텍스트마이닝 등 수업에서 팀프로젝트를 경험해 볼 수 있습니다.\n",
      "\n",
      "📚 유사 문서:\n",
      "\n",
      "1. 유사도: 64.5527\n",
      "- 실습은 Python 언어를 기반으로 오픈소스 라이브러리를 활용하여 데이터를 다루고 알고리즘을 구현하며 활용능력을 배양합니다.\n",
      "- 팀기반 학습(Team-Based Learning)으로 운영하기에, 1)온라인 강의 선수강, 2) 대면강의 시 퀴즈와 과제수행, 그리고 사례연구를 통해 소규모 팀참여로 참여하게 됩니다. ...\n",
      "\n",
      "2. 유사도: 67.8428\n",
      "질문: UX/UI디자인 강의 팀프로젝트가 있어?\n",
      "답변: UX/UI디자인 수업은 강의 후기 결과 \"조별과제 많음\"으로 확인 됩니다. ...\n",
      "\n",
      "3. 유사도: 71.0412\n",
      "- 82 -\n",
      "11\n",
      "다학년 다학기 프로젝트(KW-Vertically Integrated Project) 교과목 안내\n",
      " 가. 다학년 다학기 프로젝트(KW-VIP) 교과목이란?    ▪ 교수가 제시한 특정 연구주제에 관한 장기 프로젝트 중심 수업에 참여하여       다학기 동안  (※ 2학년 1학기부터 4학년 2학기까지 총 6회까지 수강이 가능합니다)       다학년, 다전공 학생들이 팀을 이루어 연구활동을 수행하는 정규 수업입니다.    ▪ 다학기 동안 동일 주제의 연구 프로젝트 수업에 참여하는 것을 권장하고 있으나,         ...\n"
     ]
    }
   ],
   "source": [
    "from langchain_community.vectorstores import Chroma\n",
    "\n",
    "user_input = \"학교 수업들 중에 협업 경험을 쌓을 수 있게 팀프로젝트를 진행하는 수업 추천해줘\"\n",
    "\n",
    "# Chroma DB 연결\n",
    "db = Chroma(\n",
    "    persist_directory=\"./chroma_db\",\n",
    "    collection_name=\"lecture_search\",\n",
    "    embedding_function=embeddings_model\n",
    ")\n",
    "\n",
    "\n",
    "response = answer_query(user_input, user_id=\"kim\")\n",
    "print(\"🟢 챗봇 답변:\")\n",
    "print(response)\n",
    "\n",
    "similar_docs = db.similarity_search_with_score(user_input, k=3)\n",
    "\n",
    "print(\"\\n📚 유사 문서:\")\n",
    "for i, (doc, score) in enumerate(similar_docs, 1):\n",
    "    print(f\"\\n{i}. 유사도: {score:.4f}\")\n",
    "    print(doc.page_content[:300], \"...\")"
   ]
  },
  {
   "cell_type": "code",
   "execution_count": null,
   "id": "dbc58af4-20aa-4cb3-9ca5-4255dd03fdfe",
   "metadata": {},
   "outputs": [],
   "source": []
  },
  {
   "cell_type": "code",
   "execution_count": null,
   "id": "a70a9f54-dda8-4c65-bd65-3b6c6d149e1a",
   "metadata": {},
   "outputs": [],
   "source": []
  }
 ],
 "metadata": {
  "kernelspec": {
   "display_name": "Python 3 (ipykernel)",
   "language": "python",
   "name": "python3"
  },
  "language_info": {
   "codemirror_mode": {
    "name": "ipython",
    "version": 3
   },
   "file_extension": ".py",
   "mimetype": "text/x-python",
   "name": "python",
   "nbconvert_exporter": "python",
   "pygments_lexer": "ipython3",
   "version": "3.13.3"
  }
 },
 "nbformat": 4,
 "nbformat_minor": 5
}
