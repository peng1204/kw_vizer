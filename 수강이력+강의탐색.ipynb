{
 "cells": [
  {
   "cell_type": "code",
   "execution_count": 1,
   "id": "7e5f44c8-0494-45b0-97e0-d8627a641bf4",
   "metadata": {
    "scrolled": true
   },
   "outputs": [
    {
     "name": "stdout",
     "output_type": "stream",
     "text": [
      "Requirement already satisfied: langchain in c:\\users\\문선장\\appdata\\local\\programs\\python\\python313\\lib\\site-packages (0.3.23)\n",
      "Requirement already satisfied: langchain-openai in c:\\users\\문선장\\appdata\\local\\programs\\python\\python313\\lib\\site-packages (0.3.16)\n",
      "Requirement already satisfied: langchain-community in c:\\users\\문선장\\appdata\\local\\programs\\python\\python313\\lib\\site-packages (0.3.21)\n",
      "Requirement already satisfied: langchain-text-splitters in c:\\users\\문선장\\appdata\\local\\programs\\python\\python313\\lib\\site-packages (0.3.8)\n",
      "Requirement already satisfied: sentence-transformers in c:\\users\\문선장\\appdata\\local\\programs\\python\\python313\\lib\\site-packages (4.1.0)\n",
      "Requirement already satisfied: pypdfium2 in c:\\users\\문선장\\appdata\\local\\programs\\python\\python313\\lib\\site-packages (4.30.1)\n",
      "Requirement already satisfied: chromadb in c:\\users\\문선장\\appdata\\local\\programs\\python\\python313\\lib\\site-packages (0.6.3)\n",
      "Requirement already satisfied: langchain-chroma in c:\\users\\문선장\\appdata\\local\\programs\\python\\python313\\lib\\site-packages (0.2.3)\n",
      "Requirement already satisfied: langchain-core<1.0.0,>=0.3.51 in c:\\users\\문선장\\appdata\\local\\programs\\python\\python313\\lib\\site-packages (from langchain) (0.3.58)\n",
      "Requirement already satisfied: langsmith<0.4,>=0.1.17 in c:\\users\\문선장\\appdata\\local\\programs\\python\\python313\\lib\\site-packages (from langchain) (0.3.30)\n",
      "Requirement already satisfied: pydantic<3.0.0,>=2.7.4 in c:\\users\\문선장\\appdata\\local\\programs\\python\\python313\\lib\\site-packages (from langchain) (2.11.3)\n",
      "Requirement already satisfied: SQLAlchemy<3,>=1.4 in c:\\users\\문선장\\appdata\\local\\programs\\python\\python313\\lib\\site-packages (from langchain) (2.0.40)\n",
      "Requirement already satisfied: requests<3,>=2 in c:\\users\\문선장\\appdata\\local\\programs\\python\\python313\\lib\\site-packages (from langchain) (2.32.3)\n",
      "Requirement already satisfied: PyYAML>=5.3 in c:\\users\\문선장\\appdata\\local\\programs\\python\\python313\\lib\\site-packages (from langchain) (6.0.2)\n",
      "Requirement already satisfied: openai<2.0.0,>=1.68.2 in c:\\users\\문선장\\appdata\\local\\programs\\python\\python313\\lib\\site-packages (from langchain-openai) (1.73.0)\n",
      "Requirement already satisfied: tiktoken<1,>=0.7 in c:\\users\\문선장\\appdata\\local\\programs\\python\\python313\\lib\\site-packages (from langchain-openai) (0.9.0)\n",
      "Requirement already satisfied: aiohttp<4.0.0,>=3.8.3 in c:\\users\\문선장\\appdata\\local\\programs\\python\\python313\\lib\\site-packages (from langchain-community) (3.11.16)\n",
      "Requirement already satisfied: tenacity!=8.4.0,<10,>=8.1.0 in c:\\users\\문선장\\appdata\\local\\programs\\python\\python313\\lib\\site-packages (from langchain-community) (9.1.2)\n",
      "Requirement already satisfied: dataclasses-json<0.7,>=0.5.7 in c:\\users\\문선장\\appdata\\local\\programs\\python\\python313\\lib\\site-packages (from langchain-community) (0.6.7)\n",
      "Requirement already satisfied: pydantic-settings<3.0.0,>=2.4.0 in c:\\users\\문선장\\appdata\\local\\programs\\python\\python313\\lib\\site-packages (from langchain-community) (2.8.1)\n",
      "Requirement already satisfied: httpx-sse<1.0.0,>=0.4.0 in c:\\users\\문선장\\appdata\\local\\programs\\python\\python313\\lib\\site-packages (from langchain-community) (0.4.0)\n",
      "Requirement already satisfied: numpy<3,>=1.26.2 in c:\\users\\문선장\\appdata\\local\\programs\\python\\python313\\lib\\site-packages (from langchain-community) (2.2.4)\n",
      "Requirement already satisfied: transformers<5.0.0,>=4.41.0 in c:\\users\\문선장\\appdata\\local\\programs\\python\\python313\\lib\\site-packages (from sentence-transformers) (4.51.3)\n",
      "Requirement already satisfied: tqdm in c:\\users\\문선장\\appdata\\local\\programs\\python\\python313\\lib\\site-packages (from sentence-transformers) (4.67.1)\n",
      "Requirement already satisfied: torch>=1.11.0 in c:\\users\\문선장\\appdata\\local\\programs\\python\\python313\\lib\\site-packages (from sentence-transformers) (2.7.0)\n",
      "Requirement already satisfied: scikit-learn in c:\\users\\문선장\\appdata\\local\\programs\\python\\python313\\lib\\site-packages (from sentence-transformers) (1.6.1)\n",
      "Requirement already satisfied: scipy in c:\\users\\문선장\\appdata\\local\\programs\\python\\python313\\lib\\site-packages (from sentence-transformers) (1.15.2)\n",
      "Requirement already satisfied: huggingface-hub>=0.20.0 in c:\\users\\문선장\\appdata\\local\\programs\\python\\python313\\lib\\site-packages (from sentence-transformers) (0.30.2)\n",
      "Requirement already satisfied: Pillow in c:\\users\\문선장\\appdata\\local\\programs\\python\\python313\\lib\\site-packages (from sentence-transformers) (11.2.1)\n",
      "Requirement already satisfied: typing_extensions>=4.5.0 in c:\\users\\문선장\\appdata\\local\\programs\\python\\python313\\lib\\site-packages (from sentence-transformers) (4.13.0)\n",
      "Requirement already satisfied: build>=1.0.3 in c:\\users\\문선장\\appdata\\local\\programs\\python\\python313\\lib\\site-packages (from chromadb) (1.2.2.post1)\n",
      "Requirement already satisfied: chroma-hnswlib==0.7.6 in c:\\users\\문선장\\appdata\\local\\programs\\python\\python313\\lib\\site-packages (from chromadb) (0.7.6)\n",
      "Requirement already satisfied: fastapi>=0.95.2 in c:\\users\\문선장\\appdata\\local\\programs\\python\\python313\\lib\\site-packages (from chromadb) (0.115.9)\n",
      "Requirement already satisfied: uvicorn>=0.18.3 in c:\\users\\문선장\\appdata\\local\\programs\\python\\python313\\lib\\site-packages (from uvicorn[standard]>=0.18.3->chromadb) (0.34.1)\n",
      "Requirement already satisfied: posthog>=2.4.0 in c:\\users\\문선장\\appdata\\local\\programs\\python\\python313\\lib\\site-packages (from chromadb) (3.24.1)\n",
      "Requirement already satisfied: onnxruntime>=1.14.1 in c:\\users\\문선장\\appdata\\local\\programs\\python\\python313\\lib\\site-packages (from chromadb) (1.21.0)\n",
      "Requirement already satisfied: opentelemetry-api>=1.2.0 in c:\\users\\문선장\\appdata\\local\\programs\\python\\python313\\lib\\site-packages (from chromadb) (1.32.0)\n",
      "Requirement already satisfied: opentelemetry-exporter-otlp-proto-grpc>=1.2.0 in c:\\users\\문선장\\appdata\\local\\programs\\python\\python313\\lib\\site-packages (from chromadb) (1.32.0)\n",
      "Requirement already satisfied: opentelemetry-instrumentation-fastapi>=0.41b0 in c:\\users\\문선장\\appdata\\local\\programs\\python\\python313\\lib\\site-packages (from chromadb) (0.53b0)\n",
      "Requirement already satisfied: opentelemetry-sdk>=1.2.0 in c:\\users\\문선장\\appdata\\local\\programs\\python\\python313\\lib\\site-packages (from chromadb) (1.32.0)\n",
      "Requirement already satisfied: tokenizers>=0.13.2 in c:\\users\\문선장\\appdata\\local\\programs\\python\\python313\\lib\\site-packages (from chromadb) (0.21.1)\n",
      "Requirement already satisfied: pypika>=0.48.9 in c:\\users\\문선장\\appdata\\local\\programs\\python\\python313\\lib\\site-packages (from chromadb) (0.48.9)\n",
      "Requirement already satisfied: overrides>=7.3.1 in c:\\users\\문선장\\appdata\\local\\programs\\python\\python313\\lib\\site-packages (from chromadb) (7.7.0)\n",
      "Requirement already satisfied: importlib-resources in c:\\users\\문선장\\appdata\\local\\programs\\python\\python313\\lib\\site-packages (from chromadb) (6.5.2)\n",
      "Requirement already satisfied: grpcio>=1.58.0 in c:\\users\\문선장\\appdata\\local\\programs\\python\\python313\\lib\\site-packages (from chromadb) (1.71.0)\n",
      "Requirement already satisfied: bcrypt>=4.0.1 in c:\\users\\문선장\\appdata\\local\\programs\\python\\python313\\lib\\site-packages (from chromadb) (4.3.0)\n",
      "Requirement already satisfied: typer>=0.9.0 in c:\\users\\문선장\\appdata\\local\\programs\\python\\python313\\lib\\site-packages (from chromadb) (0.15.2)\n",
      "Requirement already satisfied: kubernetes>=28.1.0 in c:\\users\\문선장\\appdata\\local\\programs\\python\\python313\\lib\\site-packages (from chromadb) (32.0.1)\n",
      "Requirement already satisfied: mmh3>=4.0.1 in c:\\users\\문선장\\appdata\\local\\programs\\python\\python313\\lib\\site-packages (from chromadb) (5.1.0)\n",
      "Requirement already satisfied: orjson>=3.9.12 in c:\\users\\문선장\\appdata\\local\\programs\\python\\python313\\lib\\site-packages (from chromadb) (3.10.16)\n",
      "Requirement already satisfied: httpx>=0.27.0 in c:\\users\\문선장\\appdata\\local\\programs\\python\\python313\\lib\\site-packages (from chromadb) (0.28.1)\n",
      "Requirement already satisfied: rich>=10.11.0 in c:\\users\\문선장\\appdata\\local\\programs\\python\\python313\\lib\\site-packages (from chromadb) (14.0.0)\n",
      "Requirement already satisfied: aiohappyeyeballs>=2.3.0 in c:\\users\\문선장\\appdata\\local\\programs\\python\\python313\\lib\\site-packages (from aiohttp<4.0.0,>=3.8.3->langchain-community) (2.6.1)\n",
      "Requirement already satisfied: aiosignal>=1.1.2 in c:\\users\\문선장\\appdata\\local\\programs\\python\\python313\\lib\\site-packages (from aiohttp<4.0.0,>=3.8.3->langchain-community) (1.3.2)\n",
      "Requirement already satisfied: attrs>=17.3.0 in c:\\users\\문선장\\appdata\\local\\programs\\python\\python313\\lib\\site-packages (from aiohttp<4.0.0,>=3.8.3->langchain-community) (25.3.0)\n",
      "Requirement already satisfied: frozenlist>=1.1.1 in c:\\users\\문선장\\appdata\\local\\programs\\python\\python313\\lib\\site-packages (from aiohttp<4.0.0,>=3.8.3->langchain-community) (1.5.0)\n",
      "Requirement already satisfied: multidict<7.0,>=4.5 in c:\\users\\문선장\\appdata\\local\\programs\\python\\python313\\lib\\site-packages (from aiohttp<4.0.0,>=3.8.3->langchain-community) (6.4.3)\n",
      "Requirement already satisfied: propcache>=0.2.0 in c:\\users\\문선장\\appdata\\local\\programs\\python\\python313\\lib\\site-packages (from aiohttp<4.0.0,>=3.8.3->langchain-community) (0.3.1)\n",
      "Requirement already satisfied: yarl<2.0,>=1.17.0 in c:\\users\\문선장\\appdata\\local\\programs\\python\\python313\\lib\\site-packages (from aiohttp<4.0.0,>=3.8.3->langchain-community) (1.19.0)\n",
      "Requirement already satisfied: packaging>=19.1 in c:\\users\\문선장\\appdata\\local\\programs\\python\\python313\\lib\\site-packages (from build>=1.0.3->chromadb) (24.2)\n",
      "Requirement already satisfied: pyproject_hooks in c:\\users\\문선장\\appdata\\local\\programs\\python\\python313\\lib\\site-packages (from build>=1.0.3->chromadb) (1.2.0)\n",
      "Requirement already satisfied: colorama in c:\\users\\문선장\\appdata\\local\\programs\\python\\python313\\lib\\site-packages (from build>=1.0.3->chromadb) (0.4.6)\n",
      "Requirement already satisfied: marshmallow<4.0.0,>=3.18.0 in c:\\users\\문선장\\appdata\\local\\programs\\python\\python313\\lib\\site-packages (from dataclasses-json<0.7,>=0.5.7->langchain-community) (3.26.1)\n",
      "Requirement already satisfied: typing-inspect<1,>=0.4.0 in c:\\users\\문선장\\appdata\\local\\programs\\python\\python313\\lib\\site-packages (from dataclasses-json<0.7,>=0.5.7->langchain-community) (0.9.0)\n",
      "Requirement already satisfied: starlette<0.46.0,>=0.40.0 in c:\\users\\문선장\\appdata\\local\\programs\\python\\python313\\lib\\site-packages (from fastapi>=0.95.2->chromadb) (0.45.3)\n",
      "Requirement already satisfied: anyio in c:\\users\\문선장\\appdata\\local\\programs\\python\\python313\\lib\\site-packages (from httpx>=0.27.0->chromadb) (4.9.0)\n",
      "Requirement already satisfied: certifi in c:\\users\\문선장\\appdata\\local\\programs\\python\\python313\\lib\\site-packages (from httpx>=0.27.0->chromadb) (2025.1.31)\n",
      "Requirement already satisfied: httpcore==1.* in c:\\users\\문선장\\appdata\\local\\programs\\python\\python313\\lib\\site-packages (from httpx>=0.27.0->chromadb) (1.0.7)\n",
      "Requirement already satisfied: idna in c:\\users\\문선장\\appdata\\local\\programs\\python\\python313\\lib\\site-packages (from httpx>=0.27.0->chromadb) (3.10)\n",
      "Requirement already satisfied: h11<0.15,>=0.13 in c:\\users\\문선장\\appdata\\local\\programs\\python\\python313\\lib\\site-packages (from httpcore==1.*->httpx>=0.27.0->chromadb) (0.14.0)\n",
      "Requirement already satisfied: filelock in c:\\users\\문선장\\appdata\\local\\programs\\python\\python313\\lib\\site-packages (from huggingface-hub>=0.20.0->sentence-transformers) (3.18.0)\n",
      "Requirement already satisfied: fsspec>=2023.5.0 in c:\\users\\문선장\\appdata\\local\\programs\\python\\python313\\lib\\site-packages (from huggingface-hub>=0.20.0->sentence-transformers) (2025.3.2)\n",
      "Requirement already satisfied: six>=1.9.0 in c:\\users\\문선장\\appdata\\local\\programs\\python\\python313\\lib\\site-packages (from kubernetes>=28.1.0->chromadb) (1.17.0)\n",
      "Requirement already satisfied: python-dateutil>=2.5.3 in c:\\users\\문선장\\appdata\\local\\programs\\python\\python313\\lib\\site-packages (from kubernetes>=28.1.0->chromadb) (2.9.0.post0)\n",
      "Requirement already satisfied: google-auth>=1.0.1 in c:\\users\\문선장\\appdata\\local\\programs\\python\\python313\\lib\\site-packages (from kubernetes>=28.1.0->chromadb) (2.38.0)\n",
      "Requirement already satisfied: websocket-client!=0.40.0,!=0.41.*,!=0.42.*,>=0.32.0 in c:\\users\\문선장\\appdata\\local\\programs\\python\\python313\\lib\\site-packages (from kubernetes>=28.1.0->chromadb) (1.8.0)\n",
      "Requirement already satisfied: requests-oauthlib in c:\\users\\문선장\\appdata\\local\\programs\\python\\python313\\lib\\site-packages (from kubernetes>=28.1.0->chromadb) (2.0.0)\n",
      "Requirement already satisfied: oauthlib>=3.2.2 in c:\\users\\문선장\\appdata\\local\\programs\\python\\python313\\lib\\site-packages (from kubernetes>=28.1.0->chromadb) (3.2.2)\n",
      "Requirement already satisfied: urllib3>=1.24.2 in c:\\users\\문선장\\appdata\\local\\programs\\python\\python313\\lib\\site-packages (from kubernetes>=28.1.0->chromadb) (2.3.0)\n",
      "Requirement already satisfied: durationpy>=0.7 in c:\\users\\문선장\\appdata\\local\\programs\\python\\python313\\lib\\site-packages (from kubernetes>=28.1.0->chromadb) (0.9)\n",
      "Requirement already satisfied: jsonpatch<2.0,>=1.33 in c:\\users\\문선장\\appdata\\local\\programs\\python\\python313\\lib\\site-packages (from langchain-core<1.0.0,>=0.3.51->langchain) (1.33)\n",
      "Requirement already satisfied: requests-toolbelt<2.0.0,>=1.0.0 in c:\\users\\문선장\\appdata\\local\\programs\\python\\python313\\lib\\site-packages (from langsmith<0.4,>=0.1.17->langchain) (1.0.0)\n",
      "Requirement already satisfied: zstandard<0.24.0,>=0.23.0 in c:\\users\\문선장\\appdata\\local\\programs\\python\\python313\\lib\\site-packages (from langsmith<0.4,>=0.1.17->langchain) (0.23.0)\n",
      "Requirement already satisfied: coloredlogs in c:\\users\\문선장\\appdata\\local\\programs\\python\\python313\\lib\\site-packages (from onnxruntime>=1.14.1->chromadb) (15.0.1)\n",
      "Requirement already satisfied: flatbuffers in c:\\users\\문선장\\appdata\\local\\programs\\python\\python313\\lib\\site-packages (from onnxruntime>=1.14.1->chromadb) (25.2.10)\n",
      "Requirement already satisfied: protobuf in c:\\users\\문선장\\appdata\\local\\programs\\python\\python313\\lib\\site-packages (from onnxruntime>=1.14.1->chromadb) (5.29.4)\n",
      "Requirement already satisfied: sympy in c:\\users\\문선장\\appdata\\local\\programs\\python\\python313\\lib\\site-packages (from onnxruntime>=1.14.1->chromadb) (1.13.3)\n",
      "Requirement already satisfied: distro<2,>=1.7.0 in c:\\users\\문선장\\appdata\\local\\programs\\python\\python313\\lib\\site-packages (from openai<2.0.0,>=1.68.2->langchain-openai) (1.9.0)\n",
      "Requirement already satisfied: jiter<1,>=0.4.0 in c:\\users\\문선장\\appdata\\local\\programs\\python\\python313\\lib\\site-packages (from openai<2.0.0,>=1.68.2->langchain-openai) (0.9.0)\n",
      "Requirement already satisfied: sniffio in c:\\users\\문선장\\appdata\\local\\programs\\python\\python313\\lib\\site-packages (from openai<2.0.0,>=1.68.2->langchain-openai) (1.3.1)\n",
      "Requirement already satisfied: deprecated>=1.2.6 in c:\\users\\문선장\\appdata\\local\\programs\\python\\python313\\lib\\site-packages (from opentelemetry-api>=1.2.0->chromadb) (1.2.18)\n",
      "Requirement already satisfied: importlib-metadata<8.7.0,>=6.0 in c:\\users\\문선장\\appdata\\local\\programs\\python\\python313\\lib\\site-packages (from opentelemetry-api>=1.2.0->chromadb) (8.6.1)\n",
      "Requirement already satisfied: googleapis-common-protos~=1.52 in c:\\users\\문선장\\appdata\\local\\programs\\python\\python313\\lib\\site-packages (from opentelemetry-exporter-otlp-proto-grpc>=1.2.0->chromadb) (1.70.0)\n",
      "Requirement already satisfied: opentelemetry-exporter-otlp-proto-common==1.32.0 in c:\\users\\문선장\\appdata\\local\\programs\\python\\python313\\lib\\site-packages (from opentelemetry-exporter-otlp-proto-grpc>=1.2.0->chromadb) (1.32.0)\n",
      "Requirement already satisfied: opentelemetry-proto==1.32.0 in c:\\users\\문선장\\appdata\\local\\programs\\python\\python313\\lib\\site-packages (from opentelemetry-exporter-otlp-proto-grpc>=1.2.0->chromadb) (1.32.0)\n",
      "Requirement already satisfied: opentelemetry-instrumentation-asgi==0.53b0 in c:\\users\\문선장\\appdata\\local\\programs\\python\\python313\\lib\\site-packages (from opentelemetry-instrumentation-fastapi>=0.41b0->chromadb) (0.53b0)\n",
      "Requirement already satisfied: opentelemetry-instrumentation==0.53b0 in c:\\users\\문선장\\appdata\\local\\programs\\python\\python313\\lib\\site-packages (from opentelemetry-instrumentation-fastapi>=0.41b0->chromadb) (0.53b0)\n",
      "Requirement already satisfied: opentelemetry-semantic-conventions==0.53b0 in c:\\users\\문선장\\appdata\\local\\programs\\python\\python313\\lib\\site-packages (from opentelemetry-instrumentation-fastapi>=0.41b0->chromadb) (0.53b0)\n",
      "Requirement already satisfied: opentelemetry-util-http==0.53b0 in c:\\users\\문선장\\appdata\\local\\programs\\python\\python313\\lib\\site-packages (from opentelemetry-instrumentation-fastapi>=0.41b0->chromadb) (0.53b0)\n",
      "Requirement already satisfied: wrapt<2.0.0,>=1.0.0 in c:\\users\\문선장\\appdata\\local\\programs\\python\\python313\\lib\\site-packages (from opentelemetry-instrumentation==0.53b0->opentelemetry-instrumentation-fastapi>=0.41b0->chromadb) (1.17.2)\n",
      "Requirement already satisfied: asgiref~=3.0 in c:\\users\\문선장\\appdata\\local\\programs\\python\\python313\\lib\\site-packages (from opentelemetry-instrumentation-asgi==0.53b0->opentelemetry-instrumentation-fastapi>=0.41b0->chromadb) (3.8.1)\n",
      "Requirement already satisfied: monotonic>=1.5 in c:\\users\\문선장\\appdata\\local\\programs\\python\\python313\\lib\\site-packages (from posthog>=2.4.0->chromadb) (1.6)\n",
      "Requirement already satisfied: backoff>=1.10.0 in c:\\users\\문선장\\appdata\\local\\programs\\python\\python313\\lib\\site-packages (from posthog>=2.4.0->chromadb) (2.2.1)\n",
      "Requirement already satisfied: annotated-types>=0.6.0 in c:\\users\\문선장\\appdata\\local\\programs\\python\\python313\\lib\\site-packages (from pydantic<3.0.0,>=2.7.4->langchain) (0.7.0)\n",
      "Requirement already satisfied: pydantic-core==2.33.1 in c:\\users\\문선장\\appdata\\local\\programs\\python\\python313\\lib\\site-packages (from pydantic<3.0.0,>=2.7.4->langchain) (2.33.1)\n",
      "Requirement already satisfied: typing-inspection>=0.4.0 in c:\\users\\문선장\\appdata\\local\\programs\\python\\python313\\lib\\site-packages (from pydantic<3.0.0,>=2.7.4->langchain) (0.4.0)\n",
      "Requirement already satisfied: python-dotenv>=0.21.0 in c:\\users\\문선장\\appdata\\local\\programs\\python\\python313\\lib\\site-packages (from pydantic-settings<3.0.0,>=2.4.0->langchain-community) (1.1.0)\n",
      "Requirement already satisfied: charset-normalizer<4,>=2 in c:\\users\\문선장\\appdata\\local\\programs\\python\\python313\\lib\\site-packages (from requests<3,>=2->langchain) (3.4.1)\n",
      "Requirement already satisfied: markdown-it-py>=2.2.0 in c:\\users\\문선장\\appdata\\local\\programs\\python\\python313\\lib\\site-packages (from rich>=10.11.0->chromadb) (3.0.0)\n",
      "Requirement already satisfied: pygments<3.0.0,>=2.13.0 in c:\\users\\문선장\\appdata\\local\\programs\\python\\python313\\lib\\site-packages (from rich>=10.11.0->chromadb) (2.19.1)\n",
      "Requirement already satisfied: greenlet>=1 in c:\\users\\문선장\\appdata\\local\\programs\\python\\python313\\lib\\site-packages (from SQLAlchemy<3,>=1.4->langchain) (3.1.1)\n",
      "Requirement already satisfied: regex>=2022.1.18 in c:\\users\\문선장\\appdata\\local\\programs\\python\\python313\\lib\\site-packages (from tiktoken<1,>=0.7->langchain-openai) (2024.11.6)\n",
      "Requirement already satisfied: networkx in c:\\users\\문선장\\appdata\\local\\programs\\python\\python313\\lib\\site-packages (from torch>=1.11.0->sentence-transformers) (3.4.2)\n",
      "Requirement already satisfied: jinja2 in c:\\users\\문선장\\appdata\\local\\programs\\python\\python313\\lib\\site-packages (from torch>=1.11.0->sentence-transformers) (3.1.6)\n",
      "Requirement already satisfied: setuptools in c:\\users\\문선장\\appdata\\local\\programs\\python\\python313\\lib\\site-packages (from torch>=1.11.0->sentence-transformers) (78.1.0)\n",
      "Requirement already satisfied: safetensors>=0.4.3 in c:\\users\\문선장\\appdata\\local\\programs\\python\\python313\\lib\\site-packages (from transformers<5.0.0,>=4.41.0->sentence-transformers) (0.5.3)\n",
      "Requirement already satisfied: click>=8.0.0 in c:\\users\\문선장\\appdata\\local\\programs\\python\\python313\\lib\\site-packages (from typer>=0.9.0->chromadb) (8.1.8)\n",
      "Requirement already satisfied: shellingham>=1.3.0 in c:\\users\\문선장\\appdata\\local\\programs\\python\\python313\\lib\\site-packages (from typer>=0.9.0->chromadb) (1.5.4)\n",
      "Requirement already satisfied: httptools>=0.6.3 in c:\\users\\문선장\\appdata\\local\\programs\\python\\python313\\lib\\site-packages (from uvicorn[standard]>=0.18.3->chromadb) (0.6.4)\n",
      "Requirement already satisfied: watchfiles>=0.13 in c:\\users\\문선장\\appdata\\local\\programs\\python\\python313\\lib\\site-packages (from uvicorn[standard]>=0.18.3->chromadb) (1.0.5)\n",
      "Requirement already satisfied: websockets>=10.4 in c:\\users\\문선장\\appdata\\local\\programs\\python\\python313\\lib\\site-packages (from uvicorn[standard]>=0.18.3->chromadb) (15.0.1)\n",
      "Requirement already satisfied: joblib>=1.2.0 in c:\\users\\문선장\\appdata\\local\\programs\\python\\python313\\lib\\site-packages (from scikit-learn->sentence-transformers) (1.5.0)\n",
      "Requirement already satisfied: threadpoolctl>=3.1.0 in c:\\users\\문선장\\appdata\\local\\programs\\python\\python313\\lib\\site-packages (from scikit-learn->sentence-transformers) (3.6.0)\n",
      "Requirement already satisfied: cachetools<6.0,>=2.0.0 in c:\\users\\문선장\\appdata\\local\\programs\\python\\python313\\lib\\site-packages (from google-auth>=1.0.1->kubernetes>=28.1.0->chromadb) (5.5.2)\n",
      "Requirement already satisfied: pyasn1-modules>=0.2.1 in c:\\users\\문선장\\appdata\\local\\programs\\python\\python313\\lib\\site-packages (from google-auth>=1.0.1->kubernetes>=28.1.0->chromadb) (0.4.2)\n",
      "Requirement already satisfied: rsa<5,>=3.1.4 in c:\\users\\문선장\\appdata\\local\\programs\\python\\python313\\lib\\site-packages (from google-auth>=1.0.1->kubernetes>=28.1.0->chromadb) (4.9)\n",
      "Requirement already satisfied: zipp>=3.20 in c:\\users\\문선장\\appdata\\local\\programs\\python\\python313\\lib\\site-packages (from importlib-metadata<8.7.0,>=6.0->opentelemetry-api>=1.2.0->chromadb) (3.21.0)\n",
      "Requirement already satisfied: jsonpointer>=1.9 in c:\\users\\문선장\\appdata\\local\\programs\\python\\python313\\lib\\site-packages (from jsonpatch<2.0,>=1.33->langchain-core<1.0.0,>=0.3.51->langchain) (3.0.0)\n",
      "Requirement already satisfied: mdurl~=0.1 in c:\\users\\문선장\\appdata\\local\\programs\\python\\python313\\lib\\site-packages (from markdown-it-py>=2.2.0->rich>=10.11.0->chromadb) (0.1.2)\n",
      "Requirement already satisfied: mpmath<1.4,>=1.1.0 in c:\\users\\문선장\\appdata\\local\\programs\\python\\python313\\lib\\site-packages (from sympy->onnxruntime>=1.14.1->chromadb) (1.3.0)\n",
      "Requirement already satisfied: mypy-extensions>=0.3.0 in c:\\users\\문선장\\appdata\\local\\programs\\python\\python313\\lib\\site-packages (from typing-inspect<1,>=0.4.0->dataclasses-json<0.7,>=0.5.7->langchain-community) (1.0.0)\n",
      "Requirement already satisfied: humanfriendly>=9.1 in c:\\users\\문선장\\appdata\\local\\programs\\python\\python313\\lib\\site-packages (from coloredlogs->onnxruntime>=1.14.1->chromadb) (10.0)\n",
      "Requirement already satisfied: MarkupSafe>=2.0 in c:\\users\\문선장\\appdata\\local\\programs\\python\\python313\\lib\\site-packages (from jinja2->torch>=1.11.0->sentence-transformers) (3.0.2)\n",
      "Requirement already satisfied: pyreadline3 in c:\\users\\문선장\\appdata\\local\\programs\\python\\python313\\lib\\site-packages (from humanfriendly>=9.1->coloredlogs->onnxruntime>=1.14.1->chromadb) (3.5.4)\n",
      "Requirement already satisfied: pyasn1<0.7.0,>=0.6.1 in c:\\users\\문선장\\appdata\\local\\programs\\python\\python313\\lib\\site-packages (from pyasn1-modules>=0.2.1->google-auth>=1.0.1->kubernetes>=28.1.0->chromadb) (0.6.1)\n",
      "Note: you may need to restart the kernel to use updated packages.\n"
     ]
    },
    {
     "name": "stderr",
     "output_type": "stream",
     "text": [
      "\n",
      "[notice] A new release of pip is available: 25.0.1 -> 25.1.1\n",
      "[notice] To update, run: python.exe -m pip install --upgrade pip\n"
     ]
    }
   ],
   "source": [
    "pip install langchain langchain-openai langchain-community langchain-text-splitters sentence-transformers pypdfium2 chromadb langchain-chroma"
   ]
  },
  {
   "cell_type": "markdown",
   "id": "17f01177-e2c3-4165-bfa4-6423cc34c86d",
   "metadata": {},
   "source": [
    "#### 임베딩 모델"
   ]
  },
  {
   "cell_type": "code",
   "execution_count": 2,
   "id": "278565e2-6c09-4a24-933e-6e7655fc2ffc",
   "metadata": {},
   "outputs": [
    {
     "name": "stdout",
     "output_type": "stream",
     "text": [
      "[kim] 임베딩 완료 (24건)\n",
      "[hong] 임베딩 완료 (24건)\n",
      "[lecture_search] 임베딩 완료 (617건)\n",
      "[career_counsel] 임베딩 완료 (44건)\n",
      "[academic_status] 임베딩 완료 (40건)\n"
     ]
    }
   ],
   "source": [
    "import shutil\n",
    "import os\n",
    "from pathlib import Path\n",
    "\n",
    "# 전체 Chroma DB 삭제 (기본 디렉토리와 시스템 캐시 포함)\n",
    "shutil.rmtree(\"./chroma_db\", ignore_errors=True)\n",
    "shutil.rmtree(Path.home() / \".chromadb\", ignore_errors=True)\n",
    "\n",
    "import os\n",
    "import json\n",
    "from langchain_openai import OpenAIEmbeddings\n",
    "from langchain_core.documents import Document\n",
    "from langchain.text_splitter import RecursiveCharacterTextSplitter\n",
    "from langchain_community.vectorstores import Chroma\n",
    "import chromadb\n",
    "\n",
    "os.environ[\"OPENAI_API_KEY\"] = \"키\"\n",
    "\n",
    "embeddings_model = OpenAIEmbeddings(model=\"text-embedding-3-small\")\n",
    "text_splitter = RecursiveCharacterTextSplitter(chunk_size=500, chunk_overlap=100)\n",
    "client = chromadb.PersistentClient(path=\"./chroma_db\")\n",
    "\n",
    "def load_json_documents(json_files):\n",
    "    docs = []\n",
    "    for file in json_files:\n",
    "        with open(file, \"r\", encoding=\"utf-8\") as f:\n",
    "            data = json.load(f)\n",
    "\n",
    "        #시나리오\n",
    "        for item in data:\n",
    "            if \"Text\" in item and \"Completion\" in item:\n",
    "                docs.append(Document(\n",
    "                    page_content=f\"질문: {item['Text']}\\n답변: {item['Completion']}\",\n",
    "                    metadata={\n",
    "                        \"카테고리\": item.get(\"카테고리\", \"\")\n",
    "                    }\n",
    "                ))\n",
    "\n",
    "            # 수강이력\n",
    "            if \"lecture_name\" in item and \"student_id\" in item:\n",
    "                content = (\n",
    "                    f\"학번: {item['student_id']}\\n\"\n",
    "                    f\"강의명: {item['lecture_name']}\\n\"\n",
    "                    f\"학정번호: {item['lecture_id']}\\n\"\n",
    "                    f\"개설 학과: {item['department_offered']}\\n\"\n",
    "                    f\"이수 구분: {item['lecture_course_type']}\\n\"\n",
    "                    f\"학점: {item['lecture_credit']}학점\\n\"\n",
    "                    f\"성적: {item['lecutre_grade']}\"\n",
    "                )\n",
    "                if \"retake_or_delete_status\" in item:\n",
    "                    content += f\"\\n재수강/삭제 여부: {item['retake_or_delete_status']}\"\n",
    "                if \"retake_status\" in item:\n",
    "                    content += f\"\\n재수강 여부: {item['retake_status']}\"\n",
    "\n",
    "                docs.append(Document(\n",
    "                    page_content=content,\n",
    "                    metadata={\n",
    "                        \"lecture_name\": item[\"lecture_name\"],\n",
    "                        \"course_type\": item[\"lecture_course_type\"]\n",
    "                    }\n",
    "                ))\n",
    "\n",
    "            # 강의 탐색\n",
    "            if \"lecture_id\" in item and \"lecture_name\" in item and \"student_id\" not in item:\n",
    "                content = (\n",
    "                    f\"학정번호: {item.get('lecture_id', '')}\\n\"\n",
    "                    f\"강의명: {item.get('lecture_name', '')}\\n\"\n",
    "                    f\"강의평점: {item.get('lecture_ratings', '')}\\n\"\n",
    "                    f\"과제: {item.get('lecture_homework', '')}\\n\"\n",
    "                    f\"팀플: {item.get('lecture_team', '')}\\n\"\n",
    "                    f\"성적평가정도: {item.get('lecutre_grade', '')}\\n\"\n",
    "                    f\"출결 방식: {item.get('lecutre_attendance', '')}\\n\"\n",
    "                    f\"시험 횟수: {item.get('lecutre_test', '')}\\n\"\n",
    "                    f\"시험 방식: {item.get('lecture_testinform', '')}\\n\"\n",
    "                    f\"전공 학점: {item.get('credits_major', '없음')}\\n\"\n",
    "                    f\"교양 학점: {item.get('credits_general', '없음')}\\n\"\n",
    "                    f\"총 학점: {item.get('credits_total', '없음')}\\n\"\n",
    "                    f\"교수명: {item.get('lecture_professorname', '')}\\n\"\n",
    "                    f\"수업 시간: {item.get('lecture_time', '')}\\n\"\n",
    "                    f\"강의 유형: {item.get('lecture_course_type', '')}\\n\"\n",
    "                    f\"학점: {item.get('lecture_hours', '')}시간\\n\"\n",
    "                    f\"학기: {item.get('lecture_semester', '')}학기\\n\"\n",
    "                    f\"강의 설명: {item.get('lecture_inform', '')}\"\n",
    "                    f\"영역: {item.get(\"lecture_domain\", \"\")}\\n\"\n",
    "                )\n",
    "                docs.append(Document(\n",
    "                    page_content=content,\n",
    "                    metadata={\n",
    "                        \"lecture_id\": item.get(\"lecture_id\", \"\"),\n",
    "                        \"lecture_name\": item.get(\"lecture_name\", \"\"),\n",
    "                        \"lecture_ratings\": item.get(\"lecture_ratings\", \"\"),\n",
    "                        \"lecture_team\": item.get(\"lecture_team\", \"\"),\n",
    "                        \"lecutre_grade\": item.get(\"lecutre_grade\", \"\"),\n",
    "                        \"professor\": item.get(\"lecture_professorname\", \"\")\n",
    "                    }\n",
    "                ))\n",
    "    return docs\n",
    "\n",
    "user_datasets = {\n",
    "    \"kim\": [\"data/kw_chatbot_data - 김브티_수강이력.json\"],\n",
    "    \"hong\": [\"data/kw_chatbot_data - 홍데사_수강이력.json\"]\n",
    "}\n",
    "\n",
    "task_datasets = {\n",
    "    \"lecture_search\": [\n",
    "        \"data/kw_chatbot_data - Student.json\",\n",
    "        \"data/kw_chatbot_data - 강의 평점.json\",\n",
    "        \"data/kw_chatbot_data - 강의계획서.json\",\n",
    "        \"data/kw_chatbot_data - 김브티_성적.json\",\n",
    "        \"data/kw_chatbot_data - 김브티_수강이력.json\",\n",
    "        \"data/kw_chatbot_data - 수강신청자료집.json\",\n",
    "        \"data/kw_chatbot_data - 커리큘럼(DS).json\",\n",
    "        \"data/kw_chatbot_data - 커리큘럼(VT).json\",\n",
    "        \"data/kw_chatbot_data - 홍데사_성적.json\",\n",
    "        \"data/kw_chatbot_data - 홍데사_수강이력.json\",\n",
    "        \"data/lecture_domain.json\"\n",
    "    ],\n",
    "    \"career_counsel\": [\"data/진로상담.json\"],\n",
    "    \"academic_status\": [\"data/학습현황.json\"]\n",
    "}\n",
    "\n",
    "# 사용자별 컬렉션\n",
    "for user_id, files in user_datasets.items():\n",
    "    collection_name = f\"lecture_search_{user_id}\"\n",
    "    try:\n",
    "        client.delete_collection(name=collection_name)\n",
    "    except:\n",
    "        pass\n",
    "    docs = load_json_documents(files)\n",
    "    split_docs = text_splitter.split_documents(docs)\n",
    "    texts = [doc.page_content for doc in split_docs]\n",
    "    embeddings = embeddings_model.embed_documents(texts)\n",
    "    collection = client.create_collection(name=collection_name)\n",
    "    collection.add(\n",
    "        documents=texts,\n",
    "        embeddings=embeddings,\n",
    "        ids=[f\"{collection_name}_{i}\" for i in range(len(texts))]\n",
    "    )\n",
    "    print(f\"[{user_id}] 임베딩 완료 ({len(embeddings)}건)\")\n",
    "\n",
    "# 기능별 컬렉션\n",
    "for task, files in task_datasets.items():\n",
    "    try:\n",
    "        client.delete_collection(name=task)\n",
    "    except:\n",
    "        pass\n",
    "    docs = load_json_documents(files)\n",
    "    split_docs = text_splitter.split_documents(docs)\n",
    "    texts = [doc.page_content for doc in split_docs]\n",
    "    embeddings = embeddings_model.embed_documents(texts)\n",
    "    collection = client.create_collection(name=task)\n",
    "    collection.add(\n",
    "        documents=texts,\n",
    "        embeddings=embeddings,\n",
    "        ids=[f\"{task}_{i}\" for i in range(len(texts))]\n",
    "    )\n",
    "    print(f\"[{task}] 임베딩 완료 ({len(embeddings)}건)\")"
   ]
  },
  {
   "cell_type": "markdown",
   "id": "ab960d5d-5a2c-426a-91ae-34d88ad8b22e",
   "metadata": {},
   "source": [
    "#### 기능 구현 함수"
   ]
  },
  {
   "cell_type": "code",
   "execution_count": 100,
   "id": "f301fe0e-f465-41dd-afba-57c004dc7963",
   "metadata": {},
   "outputs": [],
   "source": [
    "import json\n",
    "import re\n",
    "import random\n",
    "import itertools\n",
    "from collections import defaultdict, Counter\n",
    "\n",
    "# LangChain 컬렉션 이름 결정 함수\n",
    "def get_collection_name(user_input: str, user_id: str) -> str:\n",
    "    q = user_input.lower()\n",
    "    if \"진로\" in q or \"상담\" in q:\n",
    "        return \"career_counsel\"\n",
    "    elif \"이수\" in q or \"학점\" in q or \"현황\" in q or \"평균\" in q:\n",
    "        return \"academic_status\"\n",
    "    return f\"lecture_search_{user_id}\"\n",
    "\n",
    "# 입력 분류 함수\n",
    "def classify_function(user_input: str) -> str:\n",
    "    if \"강의\" in user_input or \"탐색\" in user_input:\n",
    "        return \"lecture_search\"\n",
    "    elif \"진로\" in user_input or \"상담\" in user_input:\n",
    "        return \"career_counsel\"\n",
    "    elif \"학업\" in user_input or \"현황\" in user_input:\n",
    "        return \"academic_status\"\n",
    "    else:\n",
    "        return \"lecture_search\"\n",
    "\n",
    "# 캐시: 팀플 조건에 따라 결과 재사용\n",
    "TEAM_CACHE = {}\n",
    "\n",
    "# 팀플 조건 문자열을 표준화\n",
    "def normalize_team_condition(user_input):\n",
    "    lowered = user_input.lower()\n",
    "    lowered = re.sub(r\"[^\\w\\s]\", \"\", lowered)\n",
    "    words = lowered.split()\n",
    "    joined = \"\".join(words)\n",
    "\n",
    "    for word in [\"조별과제\", \"팀플\"]:\n",
    "        if word in joined:\n",
    "            if any(w in joined for w in [\"없는\", \"없음\"]):\n",
    "                return \"없음\"\n",
    "            if any(w in joined for w in [\"보통\", \"적은\", \"적음\"]):\n",
    "                return \"보통\"\n",
    "            if any(w in joined for w in [\"많은\", \"많음\"]):\n",
    "                return \"많은\"\n",
    "    return None\n",
    "\n",
    "# JSON 파일에서 팀플 조건과 일치하는 강의 필터링\n",
    "def filter_lectures_by_team(json_files, team_condition):\n",
    "    if team_condition in TEAM_CACHE:\n",
    "        return TEAM_CACHE[team_condition]\n",
    "\n",
    "    result = []\n",
    "    for file in json_files:\n",
    "        with open(file, \"r\", encoding=\"utf-8\") as f:\n",
    "            data = json.load(f)\n",
    "        for item in data:\n",
    "            team_value = item.get(\"lecture_team\", \"\").strip()\n",
    "            lecture_id = item.get(\"lecture_id\")\n",
    "            lecture_name = item.get(\"lecture_name\")\n",
    "\n",
    "            if not lecture_id or not lecture_name:\n",
    "                continue\n",
    "\n",
    "            if team_condition == \"없음\" and team_value in [\"없음\", \"0\"]:\n",
    "                result.append({\"lecture_id\": lecture_id, \"lecture_name\": lecture_name})\n",
    "            elif team_condition == \"보통\" and team_value in [\"보통\", \"적은\"]:\n",
    "                result.append({\"lecture_id\": lecture_id, \"lecture_name\": lecture_name})\n",
    "            elif team_condition == \"많은\" and team_value in [\"많은\", \"많음\"]:\n",
    "                result.append({\"lecture_id\": lecture_id, \"lecture_name\": lecture_name})\n",
    "\n",
    "    TEAM_CACHE[team_condition] = result\n",
    "    return result\n",
    "\n",
    "# 팀플 응답 메시지 포맷\n",
    "def format_team_project_response(team_condition: str, lectures: list):\n",
    "    if not lectures:\n",
    "        return f\"팀플이 {team_condition} 강의를 찾을 수 없습니다.\"\n",
    "\n",
    "    condition_map = {\n",
    "        \"없음\": \"없는\",\n",
    "        \"보통\": \"적은\",\n",
    "        \"많은\": \"많은\"\n",
    "    }\n",
    "    label = condition_map.get(team_condition, team_condition)\n",
    "    header = f\"팀플이 {label} 강의는 다음과 같습니다:\"\n",
    "    body = \"\\n\".join(\n",
    "        f\"{i+1}. {lec['lecture_name']} (학정번호: {lec['lecture_id']})\"\n",
    "        for i, lec in enumerate(lectures)\n",
    "    )\n",
    "    return f\"{header}\\n{body}\"\n",
    "\n",
    "# JSON 내 팀플 조건 처리 핸들러\n",
    "def handle_team_project_query(user_input, json_path):\n",
    "    condition = normalize_team_condition(user_input)\n",
    "    if not condition:\n",
    "        return None\n",
    "\n",
    "    filtered_lectures = filter_lectures_by_team([json_path], condition)\n",
    "    seen = set()\n",
    "    unique_lectures = []\n",
    "    for lec in filtered_lectures:\n",
    "        if lec[\"lecture_name\"] not in seen:\n",
    "            seen.add(lec[\"lecture_name\"])\n",
    "            unique_lectures.append(lec)\n",
    "\n",
    "    return format_team_project_response(condition, unique_lectures)\n",
    "\n",
    "# 학점 및 교과구분에 따른 강의 필터링\n",
    "def get_lectures_by_credit_and_type(user_input: str):\n",
    "    credit_match = re.search(r'(\\d)\\s*학점', user_input)\n",
    "    if not credit_match:\n",
    "        return \"몇 학점짜리 수업을 원하시는지 알려주세요. 예: '2학점 교양 수업 알려줘'\"\n",
    "    credit = int(credit_match.group(1))\n",
    "\n",
    "    # 수업 유형 필터링\n",
    "    course_types = []\n",
    "    if \"전필\" in user_input:\n",
    "        course_types = [\"전필\"]\n",
    "    elif \"전선\" in user_input:\n",
    "        course_types = [\"전선\"]\n",
    "    elif \"교필\" in user_input:\n",
    "        course_types = [\"교필\"]\n",
    "    elif \"교선\" in user_input:\n",
    "        course_types = [\"교선\"]\n",
    "    elif \"전공\" in user_input:\n",
    "        course_types = [\"전필\", \"전선\"]\n",
    "    elif \"교양\" in user_input:\n",
    "        course_types = [\"교필\", \"교선\"]\n",
    "    else:\n",
    "        course_types = [\"전필\", \"전선\", \"교필\", \"교선\"]\n",
    "\n",
    "    count_match = re.search(r'(\\d+)\\s*개', user_input)\n",
    "    limit = int(count_match.group(1)) if count_match else None\n",
    "\n",
    "    with open(\"./data/kw_chatbot_data - 수강신청자료집.json\", \"r\", encoding=\"utf-8\") as f:\n",
    "        course_data = json.load(f)\n",
    "\n",
    "    results = []\n",
    "    seen = set()\n",
    "    for item in course_data:\n",
    "        course_type = item.get(\"lecture_course_type\", \"\").strip()\n",
    "        credit_val = item.get(\"lecture_hours\") or item.get(\"lecture_credit\")\n",
    "        if not credit_val:\n",
    "            continue\n",
    "        try:\n",
    "            credit_val = int(str(credit_val).strip())\n",
    "        except:\n",
    "            continue\n",
    "\n",
    "        professor = item.get(\"lecture_professor\", \"\").strip()\n",
    "        lecture_name = item.get(\"lecture_name\", \"\").strip()\n",
    "        key = (lecture_name, professor)\n",
    "\n",
    "        if course_type in course_types and credit_val == credit and key not in seen:\n",
    "            seen.add(key)\n",
    "            results.append(f\"{lecture_name} (학정번호: {item['lecture_id']}) - {professor or '교수명 없음'}\")\n",
    "\n",
    "    if not results:\n",
    "        return f\"{credit}학점짜리 {', '.join(course_types)} 과목을 찾을 수 없습니다.\"\n",
    "\n",
    "    if limit:\n",
    "        random.shuffle(results)\n",
    "        results = results[:limit]\n",
    "\n",
    "    header = f\"{credit}학점짜리 {', '.join(course_types)} 과목 목록입니다:\"\n",
    "    lines = [f\"{i+1}. {lec}\" for i, lec in enumerate(results)]\n",
    "    return header + \"\\n\" + \"\\n\".join(lines)\n",
    "\n",
    "# 성적 → 평점 매핑\n",
    "GRADE_TO_POINT = {\n",
    "    \"A+\": 4.5, \"A0\": 4.0, \"B+\": 3.5, \"B0\": 3.0,\n",
    "    \"C+\": 2.5, \"C0\": 2.0, \"F\": 0.0\n",
    "}\n",
    "\n",
    "# 수강이력 불러오기 (ID → 파일명 매핑)\n",
    "def load_student_data(user_id: str):\n",
    "    filename = f\"data/kw_chatbot_data - {'김브티' if user_id == 'kim' else '홍데사'}_수강이력.json\"\n",
    "    with open(filename, encoding='utf-8') as f:\n",
    "        return json.load(f)\n",
    "\n",
    "# 재수강 횟수 계산\n",
    "def count_retake_courses(user_id: str):\n",
    "    data = load_student_data(user_id)\n",
    "    course_count = defaultdict(int)\n",
    "    for record in data:\n",
    "        if record.get(\"retake_status\") == \"R\":\n",
    "            course_count[record[\"lecture_name\"]] += 1\n",
    "    return course_count\n",
    "\n",
    "# 특정 과목의 성적 조회\n",
    "def get_course_grade(user_id: str, course_name: str):\n",
    "    data = load_student_data(user_id)\n",
    "    for record in data:\n",
    "        if record[\"lecture_name\"].replace(\" \", \"\") == course_name.replace(\" \", \"\"):\n",
    "            return record[\"lecutre_grade\"]\n",
    "    return None\n",
    "\n",
    "# 사용자 이름 매핑\n",
    "USER_NAME = {\n",
    "    \"kim\": \"김브티\",\n",
    "    \"hong\": \"홍데사\"\n",
    "}\n",
    "\n",
    "# 평균 평점 계산 함수\n",
    "# GPA 계산 함수 (재수강 반영 여부 및 전공 필터 포함)\n",
    "def get_gpa_with_retake(user_id: str, exclude_pre_retake: bool = False, course_type: str = None):\n",
    "    data = load_student_data(user_id)\n",
    "    seen = {}\n",
    "    credits, total = 0, 0\n",
    "    for record in data:\n",
    "        key = record['lecture_id']\n",
    "        grade = record['lecutre_grade']\n",
    "        credit = record['lecture_credit']\n",
    "        ctype = record['lecture_course_type']\n",
    "\n",
    "        if course_type and not ctype.startswith(course_type): continue\n",
    "        if exclude_pre_retake and record.get('retake_or_delete_status') == 'Y': continue\n",
    "\n",
    "        if record.get('retake_status') == 'R':\n",
    "            seen[key] = (GRADE_TO_POINT[grade], credit)\n",
    "        elif key not in seen:\n",
    "            seen[key] = (GRADE_TO_POINT[grade], credit)\n",
    "\n",
    "    for point, credit in seen.values():\n",
    "        credits += credit\n",
    "        total += point * credit\n",
    "\n",
    "    if credits == 0:\n",
    "        return \"계산할 수 있는 학점이 없습니다.\"\n",
    "    name = USER_NAME.get(user_id, user_id)\n",
    "    return f\"{name}님의 평균 평점은 {round(total / credits, 2)}입니다.\"\n",
    "\n",
    "# 재수강한 과목 리스트 반환\n",
    "def get_retake_course_names(user_id: str):\n",
    "    data = load_student_data(user_id)\n",
    "    names = [r['lecture_name'] for r in data if r.get('retake_or_delete_status') == 'Y']\n",
    "    return names\n",
    "\n",
    "# 재수강한 과목 개수 반환\n",
    "def get_retake_course_count(user_id: str):\n",
    "    return len(get_retake_course_names(user_id))\n",
    "\n",
    "# 특정 성적을 받은 과목 조회 함수\n",
    "def get_subjects_by_grade(user_id: str, target_grade: str):\n",
    "    data = load_student_data(user_id)\n",
    "    return [r['lecture_name'] for r in data if r['lecutre_grade'] == target_grade]\n",
    "\n",
    "# 특정 과목의 최종 성적 반환 함수\n",
    "def get_final_grade_for_subject(user_id: str, subject_name: str):\n",
    "    data = load_student_data(user_id)\n",
    "    matches = [r for r in data if r['lecture_name'] == subject_name]\n",
    "    if not matches:\n",
    "        return None\n",
    "    return matches[-1]['lecutre_grade']\n",
    "\n",
    "# 재수강 횟수 과목별로 반환\n",
    "def get_retake_course_counts(user_id: str):\n",
    "    data = load_student_data(user_id)\n",
    "    names = [r['lecture_name'] for r in data if r.get('retake_status') == 'R']\n",
    "    return Counter(names)\n",
    "\n",
    "# 재수강 가능 과목 조회 함수 (정확하게 재수강 제외 기준 반영)\n",
    "def get_possible_retake_gpa(user_id: str, focus: str = \"all\", list_only: bool = False, fixed_grade: str = None):\n",
    "    data = load_student_data(user_id)\n",
    "    seen = {}\n",
    "    excluded = {}\n",
    "\n",
    "    # 재수강 후 B0 이상 받은 과목 제외\n",
    "    for record in data:\n",
    "        key = record['lecture_id']\n",
    "        grade = record['lecutre_grade']\n",
    "        if record.get('retake_status') == 'R' and GRADE_TO_POINT.get(grade, 0) >= 3.0:\n",
    "            excluded[key] = True\n",
    "\n",
    "    for record in data:\n",
    "        key = record['lecture_id']\n",
    "        grade = record['lecutre_grade']\n",
    "        ctype = record['lecture_course_type']\n",
    "\n",
    "        if record.get('retake_or_delete_status') == 'Y': continue\n",
    "        if key in excluded: continue\n",
    "        if focus == \"major\" and not ctype.startswith(\"전공\"): continue\n",
    "        if GRADE_TO_POINT.get(grade, 5) > 2.5: continue\n",
    "        if key not in seen:\n",
    "            seen[key] = (GRADE_TO_POINT[grade], record['lecture_credit'], record['lecture_name'])\n",
    "\n",
    "    if list_only:\n",
    "        if not seen:\n",
    "            return f\"지금 재수강 가능한 {'전공 ' if focus == 'major' else ''}과목은 없습니다.\"\n",
    "        return f\"재수강 가능한 {'전공 ' if focus == 'major' else ''}과목: \" + \", \".join([v[2] for v in seen.values()])\n",
    "\n",
    "    # GPA simulation part\n",
    "    original_data = load_student_data(user_id)\n",
    "    base = {}\n",
    "    for r in original_data:\n",
    "        key = r['lecture_id']\n",
    "        if r.get('retake_or_delete_status') == 'Y': continue\n",
    "        base[key] = (GRADE_TO_POINT.get(r['lecutre_grade'], 0.0), r['lecture_credit'])\n",
    "\n",
    "    replace_targets = list(seen.items())\n",
    "    grade_options = [fixed_grade] if fixed_grade else list(GRADE_TO_POINT.keys())\n",
    "    responses = []\n",
    "\n",
    "    for combo in itertools.product(grade_options, repeat=len(replace_targets)):\n",
    "        modified = base.copy()\n",
    "        label = []\n",
    "        for (key, (_, credit, name)), g in zip(replace_targets, combo):\n",
    "            modified[key] = (GRADE_TO_POINT[g], credit)\n",
    "            label.append(f\"{name}: {g}\")\n",
    "        total_credits = sum(c for _, c in modified.values())\n",
    "        total_points = sum(p * c for p, c in modified.values())\n",
    "        avg = round(total_points / total_credits, 2)\n",
    "        responses.append(f\"{' / '.join(label)} → 예상 평점: {avg}\")\n",
    "\n",
    "    return \"\\n\".join(responses)"
   ]
  },
  {
   "cell_type": "markdown",
   "id": "94033b02-0f38-4165-854b-34bff5846bae",
   "metadata": {},
   "source": [
    "#### ChromaDB 검색"
   ]
  },
  {
   "cell_type": "code",
   "execution_count": 101,
   "id": "e1f284f1-b25c-4cd5-9321-e4c695293cbe",
   "metadata": {},
   "outputs": [],
   "source": [
    "import json\n",
    "import re\n",
    "import random\n",
    "import itertools\n",
    "from collections import defaultdict, Counter\n",
    "from langchain_chroma import Chroma\n",
    "from langchain.chains import RetrievalQA\n",
    "from langchain.prompts import PromptTemplate\n",
    "from langchain_openai import ChatOpenAI\n",
    "from functools import lru_cache\n",
    "\n",
    "llm = ChatOpenAI(model=\"gpt-4o-mini\", temperature=0.3)\n",
    "\n",
    "# LangChain 컬렉션 이름 결정 함수\n",
    "def get_collection_name(user_input: str, user_id: str) -> str:\n",
    "    q = user_input.lower()\n",
    "    if \"진로\" in q or \"상담\" in q:\n",
    "        return \"career_counsel\"\n",
    "    elif \"이수\" in q or \"학점\" in q or \"현황\" in q or \"평균\" in q:\n",
    "        return \"academic_status\"\n",
    "    return f\"lecture_search_{user_id}\"\n",
    "\n",
    "# 재수강 가능 과목 필터링 함수 (전공/교양 구분 포함)\n",
    "def get_filtered_retake_courses(user_id: str, focus: str = \"all\") -> list:\n",
    "    data = load_student_data(user_id)\n",
    "    seen = {}\n",
    "    excluded = set()\n",
    "\n",
    "    # 재수강했고 성적이 B0 이상이면 제외\n",
    "    for record in data:\n",
    "        key = record['lecture_id']\n",
    "        grade = record['lecutre_grade']\n",
    "        if record.get('retake_status') == 'R' and GRADE_TO_POINT.get(grade, 0) >= 3.0:\n",
    "            excluded.add(key)\n",
    "        if record.get('retake_or_delete_status') == 'Y':\n",
    "            excluded.add(key)\n",
    "\n",
    "     # 재수강 조건에 부합하는 과목 수집\n",
    "    for record in data:\n",
    "        key = record['lecture_id']\n",
    "        grade = record['lecutre_grade']\n",
    "        ctype = record['lecture_course_type']\n",
    "        name = record['lecture_name']\n",
    "\n",
    "        if key in excluded:\n",
    "            continue\n",
    "        if GRADE_TO_POINT.get(grade, 5) > 2.5:\n",
    "            continue\n",
    "        if focus == 'major' and not ctype.startswith(\"전공\"):\n",
    "            continue\n",
    "        if focus == 'liberal' and ctype.startswith(\"전공\"):\n",
    "            continue\n",
    "        if key not in seen:\n",
    "            seen[key] = name\n",
    "\n",
    "    return list(seen.values())\n",
    "\n",
    "# 팀플 조건별 응답 포맷 구성\n",
    "def format_team_project_response(team_condition: str, lectures: list):\n",
    "    if not lectures:\n",
    "        return f\"팀플이 {team_condition} 강의를 찾을 수 없습니다.\"\n",
    "\n",
    "    condition_map = {\n",
    "    \"없음\": \"없는\",\n",
    "    \"보통\": \"적은\",\n",
    "    \"많은\": \"많은\"\n",
    "    }\n",
    "    label = condition_map.get(team_condition, team_condition)\n",
    "    header = f\"팀플이 {label} 강의는 다음과 같습니다:\"\n",
    "    body = \"\\n\".join(\n",
    "        f\"{i+1}. {lec['lecture_name']} (학정번호: {lec['lecture_id']})\"\n",
    "        for i, lec in enumerate(lectures)\n",
    "    )\n",
    "    return f\"{header}\\n{body}\"\n",
    "\n",
    "# 조별과제/팀플 조건 파싱 및 정규화\n",
    "def normalize_team_condition(user_input: str) -> str | None:\n",
    "    condition_map = {\n",
    "        \"없음\": [\"팀플 없는\", \"팀플이 없는\", \"조별과제 없는\", \"조별과제가 없는\"],\n",
    "        \"보통\": [\"팀플 보통\", \"팀플이 보통\", \"조별과제 보통\", \"조별과제가 보통\", \"팀플 적은\", \"조별과제 적은\"],\n",
    "        \"많은\": [\"팀플 많은\", \"팀플이 많은\", \"조별과제 많은\", \"조별과제가 많은\", \"팀플 많음\", \"조별과제 많음\"]\n",
    "    }\n",
    "    for condition, variants in condition_map.items():\n",
    "        if any(v in user_input for v in variants):\n",
    "            return condition\n",
    "    return None\n",
    "    \n",
    "# 자연어 질의 응답 처리 함수\n",
    "def answer_query(user_input: str, user_id: str = \"kim\"):\n",
    "    normalized = user_input.lower().replace(\" \", \"\")\n",
    "\n",
    "    # 특정 학점 + 과목 타입 필터\n",
    "    if re.search(r'\\d\\s*학점', user_input):\n",
    "        return get_lectures_by_credit_and_type(user_input)\n",
    "\n",
    "    # 팀플 조건 분석 및 응답\n",
    "    team_condition = normalize_team_condition(user_input)\n",
    "    match = re.search(r'(\\d+)\\s*개', user_input)\n",
    "    count = int(match.group(1)) if match else None\n",
    "\n",
    "    if team_condition:\n",
    "        filtered_lectures = filter_lectures_by_team([\"./data/kw_chatbot_data - 강의 평점.json\"], team_condition)\n",
    "        seen = set()\n",
    "        unique_lectures = []\n",
    "        for lec in filtered_lectures:\n",
    "            if lec[\"lecture_name\"] not in seen:\n",
    "                seen.add(lec[\"lecture_name\"])\n",
    "                unique_lectures.append(lec)\n",
    "        if count:\n",
    "            unique_lectures = unique_lectures[:count]\n",
    "        return format_team_project_response(team_condition, unique_lectures)\n",
    "\n",
    "    # 성적 이하 필터\n",
    "    if \"이하\" in normalized:\n",
    "        for grade in GRADE_TO_POINT:\n",
    "            if grade.lower() in normalized:\n",
    "                threshold = GRADE_TO_POINT[grade]\n",
    "                target_grades = [g for g, p in GRADE_TO_POINT.items() if p <= threshold]\n",
    "                subjects = [r['lecture_name'] for r in load_student_data(user_id) if r['lecutre_grade'] in target_grades]\n",
    "                return f\"{', '.join(subjects)} 과목이 {grade} 이하입니다.\" if subjects else f\"{grade} 이하인 과목이 없습니다.\"\n",
    "\n",
    "    # 재수강 횟수 조회\n",
    "    if \"재수강몇번했어\" in normalized or \"나몇번재수강했어\" in normalized:\n",
    "        retake_counts = count_retake_courses(user_id)\n",
    "        if not retake_counts:\n",
    "            return \"재수강한 과목이 없습니다.\"\n",
    "        parts = [f\"{name} 과목을 {count}번\" for name, count in retake_counts.items()]\n",
    "        return f\"{', '.join(parts)} 재수강하셨습니다.\"\n",
    "\n",
    "    # 단일 과목 성적 조회\n",
    "    if \"성적이어때\" in normalized or \"학점이어때\" in normalized:\n",
    "        course_name = user_input.split()[0].replace(\" \", \"\")\n",
    "        grade = get_course_grade(user_id, course_name)\n",
    "        return f\"{course_name}의 성적은 {grade}입니다.\" if grade else f\"{course_name}에 대한 성적 정보를 찾을 수 없습니다.\"\n",
    "\n",
    "    # 특정 성적 받은 과목 나열\n",
    "    for grade in GRADE_TO_POINT:\n",
    "        if grade.lower() in normalized and (\"받은과목\" in normalized or \"받은수업\" in normalized):\n",
    "            subjects = [r['lecture_name'] for r in load_student_data(user_id) if r['lecutre_grade'] == grade]\n",
    "            return f\"{', '.join(subjects)} 과목에서 {grade}를 받으셨습니다.\" if subjects else f\"{grade}를 받은 과목이 없습니다.\"\n",
    "\n",
    "    # 재수강 목록 조회\n",
    "    if \"재수강한거뭐있어\" in normalized or \"재수강한과목\" in normalized:\n",
    "        data = load_student_data(user_id)\n",
    "        names = [r['lecture_name'] for r in data if r.get('retake_status') == 'R']\n",
    "        return \", \".join(f\"{name}을 재수강했습니다.\" for name in names) if names else \"재수강한 과목이 없습니다.\"\n",
    "\n",
    "    # 전체 평점 요청\n",
    "    if any(k in normalized for k in [\"전체성적평균\", \"전체학점평균\"]):\n",
    "        return get_gpa_with_retake(user_id)\n",
    "\n",
    "    # 재수강 반영한 평점 요청\n",
    "    if any(k in normalized for k in [\"재수강하고전체학점\", \"재수강반영된학점\", \"재수강적용학점\", \"재수강하고학점\"]):\n",
    "        return get_gpa_with_retake(user_id, exclude_pre_retake=True)\n",
    "\n",
    "    # 전공 평균 요청\n",
    "    if \"전공평균\" in normalized:\n",
    "        return get_gpa_with_retake(user_id, course_type=\"전공\")\n",
    "\n",
    "    # 재수강 가능한 전공 과목 요청\n",
    "    if \"재수강가능한전공과목\" in normalized and any(k in normalized for k in [\"뭐가있어\", \"뭐있어\", \"뭐야\"]):\n",
    "        filtered = get_filtered_retake_courses(user_id, focus=\"major\")\n",
    "        return f\"지금 재수강 가능한 전공 과목은 {', '.join(filtered)}입니다.\" if filtered else \"지금 재수강 가능한 전공 과목은 없습니다.\"\n",
    "\n",
    "    # 전체 재수강 가능한 과목\n",
    "    if \"재수강가능한과목\" in normalized and any(k in normalized for k in [\"뭐가있어\", \"뭐있어\", \"뭐야\"]):\n",
    "        majors = get_filtered_retake_courses(user_id, focus=\"major\")\n",
    "        liberals = get_filtered_retake_courses(user_id, focus=\"liberal\")\n",
    "        total = majors + liberals\n",
    "        return f\"지금 재수강 가능한 과목은 {', '.join(total)}입니다.\" if total else \"지금 재수강 가능한 과목은 없습니다.\"\n",
    "\n",
    "    # 성적 향상 가정 시 GPA 시뮬레이션\n",
    "    if (\"재수강가능한과목\" in normalized or \"재수강가능한전공과목\" in normalized) and \"성적올리면\" in normalized:\n",
    "        focus = \"major\" if \"전공\" in normalized else \"all\"\n",
    "        for grade in GRADE_TO_POINT:\n",
    "            if grade.lower() + \"로\" in normalized:\n",
    "                result = get_possible_retake_gpa(user_id, focus=focus, fixed_grade=grade)\n",
    "                return result[0] if isinstance(result, tuple) else result\n",
    "        return get_possible_retake_gpa(user_id, focus=focus)\n",
    "\n",
    "    collection_name = get_collection_name(user_input, user_id)\n",
    "    vectorstore = Chroma(\n",
    "        persist_directory=\"./chroma_db\",\n",
    "        collection_name=collection_name,\n",
    "        embedding_function=embeddings_model\n",
    "    )\n",
    "    prompt = PromptTemplate(\n",
    "        input_variables=[\"context\", \"question\"],\n",
    "        template=\"\"\"\n",
    "        다음은 사용자의 수강 이력 또는 학업/진로 관련 정보입니다.\n",
    "        질문에 답할 때 반드시 정확한 정보를 바탕으로 하세요.\n",
    "\n",
    "        성적은 A+, A0, B+, B0, C+, C0, F 등의 형식이며, \n",
    "        ❗ 절대 유사한 등급을 포함하거나 추론하지 마세요.\n",
    "        예: \"A+\"를 요청했을 경우, 반드시 성적이 \"A+\"인 과목만 포함하세요. \"A0\"는 포함하면 안 됩니다.\n",
    "\n",
    "        📌 답변 형식 지침:\n",
    "        - 질문에 해당하는 내용이 **여러 개인 경우 빠짐없이 모두 나열**하세요.\n",
    "        - 질문 유형에 따라 말끝을 다르게 쓰세요.\n",
    "          예:\n",
    "            - \"내가 A+ 받은 과목 알려줘\" → \"OOO, OOO 과목에서 A+를 받으셨습니다.\"\n",
    "            - \"자료구조 성적이 뭐야?\" → \"자료구조의 성적은 B+입니다.\"\n",
    "            - \"객체지향프로그래밍이 전선이지?\" → \"네, 객체지향프로그래밍은 전필입니다.\"\n",
    "            - \"전체 평균이 어떻게 돼?\" → \"전체 성적 평균은 3.58입니다.\"\n",
    "        - **절대로 \"답변:\"으로 시작하지 마세요. 문장은 바로 시작하세요.**\n",
    "        - 정중하고 간결하게, 핵심만 자연스럽게 응답하세요.\n",
    "        - 축하 인사, 추가 질문 권유 등은 하지 마세요.\n",
    "\n",
    "        문서:\n",
    "        {context}\n",
    "\n",
    "        질문:\n",
    "        {question}\n",
    "\n",
    "        위 지침을 따라 **답변 접두어 없이** 자연스럽게 말문을 여세요.\n",
    "        \"\"\"\n",
    "    )\n",
    "    qa = RetrievalQA.from_chain_type(\n",
    "        llm=llm,\n",
    "        retriever=vectorstore.as_retriever(search_kwargs={\"k\": 20}),\n",
    "        chain_type=\"stuff\",\n",
    "        chain_type_kwargs={\"prompt\": prompt}\n",
    "    )\n",
    "    return qa.invoke({\"query\": user_input})[\"result\"]"
   ]
  },
  {
   "cell_type": "markdown",
   "id": "edfc7843-e0fd-426c-9d89-c2e372ba63c1",
   "metadata": {},
   "source": [
    "#### 학점 계산"
   ]
  },
  {
   "cell_type": "code",
   "execution_count": 98,
   "id": "66102682-f7cb-42cc-bdba-fe6927f70bb9",
   "metadata": {},
   "outputs": [
    {
     "data": {
      "text/plain": [
       "'홍데사님의 평균 평점은 3.7입니다.'"
      ]
     },
     "execution_count": 98,
     "metadata": {},
     "output_type": "execute_result"
    }
   ],
   "source": [
    "answer_query(\"전체 성적 평균이 어떻게 돼?\", user_id=\"hong\")"
   ]
  },
  {
   "cell_type": "code",
   "execution_count": 99,
   "id": "7b2b3b7b-f602-4a86-9005-e1b83e54c4be",
   "metadata": {},
   "outputs": [
    {
     "data": {
      "text/plain": [
       "'김브티님의 평균 평점은 3.72입니다.'"
      ]
     },
     "execution_count": 99,
     "metadata": {},
     "output_type": "execute_result"
    }
   ],
   "source": [
    "answer_query(\"전체 성적 평균이 어떻게 돼?\", user_id=\"kim\")"
   ]
  },
  {
   "cell_type": "code",
   "execution_count": 24,
   "id": "61c2ecce-8b45-410c-b5eb-ac3ccc57040e",
   "metadata": {},
   "outputs": [
    {
     "data": {
      "text/plain": [
       "'전공 성적 평균은 3.45입니다.'"
      ]
     },
     "execution_count": 24,
     "metadata": {},
     "output_type": "execute_result"
    }
   ],
   "source": [
    "answer_query(\"전공 성적 평균이 어떻게 돼?\", user_id=\"kim\")"
   ]
  },
  {
   "cell_type": "code",
   "execution_count": 16,
   "id": "5c8d25f1-9588-49db-bd1d-e72a70abda20",
   "metadata": {},
   "outputs": [
    {
     "data": {
      "text/plain": [
       "'AI수학: A0 / 정보디자인프로그래밍: A0 → 예상 평점: 3.85'"
      ]
     },
     "execution_count": 16,
     "metadata": {},
     "output_type": "execute_result"
    }
   ],
   "source": [
    "answer_query(\"지금 재수강가능한 과목들을 A0로 성적올리면 전체 학점이 어떻게 돼?\", user_id=\"kim\")"
   ]
  },
  {
   "cell_type": "code",
   "execution_count": 94,
   "id": "031c2337-2b1a-46a3-97ec-4c29168f548d",
   "metadata": {},
   "outputs": [
    {
     "data": {
      "text/plain": [
       "'AI수학: B0 / 정보디자인프로그래밍: B0 → 예상 평점: 3.76'"
      ]
     },
     "execution_count": 94,
     "metadata": {},
     "output_type": "execute_result"
    }
   ],
   "source": [
    "answer_query(\"지금 재수강가능한 과목들을 B0로 성적올리면 전체 학점이 어떻게 돼?\", user_id=\"kim\")"
   ]
  },
  {
   "cell_type": "markdown",
   "id": "57f205c1-ffc5-4b81-afaa-efe55858fddf",
   "metadata": {
    "jp-MarkdownHeadingCollapsed": true
   },
   "source": [
    "#### 재수강"
   ]
  },
  {
   "cell_type": "code",
   "execution_count": 18,
   "id": "21f6a1e4-8553-4941-8485-3759471272aa",
   "metadata": {},
   "outputs": [
    {
     "data": {
      "text/plain": [
       "'창의설계입문 과목을 1번 재수강하셨습니다.'"
      ]
     },
     "execution_count": 18,
     "metadata": {},
     "output_type": "execute_result"
    }
   ],
   "source": [
    "answer_query(\"재수강 몇 번 했어?\", user_id=\"hong\")"
   ]
  },
  {
   "cell_type": "code",
   "execution_count": 19,
   "id": "5a1df3f2-a190-4cd8-8e01-826129f69811",
   "metadata": {},
   "outputs": [
    {
     "data": {
      "text/plain": [
       "'프로그래밍기초 과목을 1번 재수강하셨습니다.'"
      ]
     },
     "execution_count": 19,
     "metadata": {},
     "output_type": "execute_result"
    }
   ],
   "source": [
    "answer_query(\"나 몇 번 재수강했어?\", user_id=\"kim\")"
   ]
  },
  {
   "cell_type": "code",
   "execution_count": 95,
   "id": "c43cc538-da1f-440c-a0a0-7a6ca2b3bfa3",
   "metadata": {},
   "outputs": [
    {
     "data": {
      "text/plain": [
       "'프로그래밍기초을 재수강했습니다.'"
      ]
     },
     "execution_count": 95,
     "metadata": {},
     "output_type": "execute_result"
    }
   ],
   "source": [
    "answer_query(\"재수강한 과목이 뭐야?\", user_id=\"kim\")"
   ]
  },
  {
   "cell_type": "code",
   "execution_count": 21,
   "id": "5d574d7b-caf2-4278-b8e4-1daea11a524d",
   "metadata": {},
   "outputs": [
    {
     "data": {
      "text/plain": [
       "'창의설계입문을 재수강했습니다.'"
      ]
     },
     "execution_count": 21,
     "metadata": {},
     "output_type": "execute_result"
    }
   ],
   "source": [
    "answer_query(\"재수강한 거 뭐있어?\", user_id=\"hong\")"
   ]
  },
  {
   "cell_type": "code",
   "execution_count": 25,
   "id": "43d821ff-8d41-4d12-9ce9-8b4f049ddb73",
   "metadata": {},
   "outputs": [
    {
     "data": {
      "text/plain": [
       "'지금 재수강 가능한 과목은 프로그래밍기초, 객체지향프로그래밍, 정보디자인프로그래밍입니다.'"
      ]
     },
     "execution_count": 25,
     "metadata": {},
     "output_type": "execute_result"
    }
   ],
   "source": [
    "answer_query(\"지금 재수강가능한 과목은 뭐야?\", user_id=\"hong\")"
   ]
  },
  {
   "cell_type": "code",
   "execution_count": 26,
   "id": "83ff274b-537d-44fa-ab8e-cc8a7a65c2f6",
   "metadata": {},
   "outputs": [
    {
     "data": {
      "text/plain": [
       "'지금 재수강 가능한 전공 과목은 없습니다.'"
      ]
     },
     "execution_count": 26,
     "metadata": {},
     "output_type": "execute_result"
    }
   ],
   "source": [
    "answer_query(\"지금 재수강가능한 전공과목은 뭐야?\", user_id=\"hong\")"
   ]
  },
  {
   "cell_type": "code",
   "execution_count": 27,
   "id": "85f2b02d-8ac7-404f-bb89-e9726e699a54",
   "metadata": {},
   "outputs": [
    {
     "data": {
      "text/plain": [
       "'지금 재수강 가능한 과목은 AI수학, 정보디자인프로그래밍입니다.'"
      ]
     },
     "execution_count": 27,
     "metadata": {},
     "output_type": "execute_result"
    }
   ],
   "source": [
    "answer_query(\"지금 재수강가능한 과목은 뭐야?\", user_id=\"kim\")"
   ]
  },
  {
   "cell_type": "code",
   "execution_count": 28,
   "id": "adbca598-84a6-46f1-854e-0f0325a0421c",
   "metadata": {},
   "outputs": [
    {
     "data": {
      "text/plain": [
       "'지금 재수강 가능한 전공 과목은 없습니다.'"
      ]
     },
     "execution_count": 28,
     "metadata": {},
     "output_type": "execute_result"
    }
   ],
   "source": [
    "answer_query(\"지금 재수강가능한 전공과목은 뭐야?\", user_id=\"kim\")"
   ]
  },
  {
   "cell_type": "markdown",
   "id": "2fbce384-5d9c-40fc-8a3e-31c2a55003fa",
   "metadata": {
    "jp-MarkdownHeadingCollapsed": true
   },
   "source": [
    "#### 과목 질문"
   ]
  },
  {
   "cell_type": "code",
   "execution_count": 29,
   "id": "a274dbc4-905e-4f9e-b697-b2ac9fce1a93",
   "metadata": {},
   "outputs": [
    {
     "data": {
      "text/plain": [
       "'경제와경영, 대학수학및연습2, 인터넷활용, 생활속의생명과학 과목에서 A+를 받으셨습니다.'"
      ]
     },
     "execution_count": 29,
     "metadata": {},
     "output_type": "execute_result"
    }
   ],
   "source": [
    "answer_query(\"내가 A+ 받은 과목 알려줘\", user_id=\"kim\")"
   ]
  },
  {
   "cell_type": "code",
   "execution_count": 30,
   "id": "296447c4-8cac-451b-aa76-9ffdce5369c6",
   "metadata": {},
   "outputs": [
    {
     "data": {
      "text/plain": [
       "'컴퓨팅사고, 대학수학및연습1, 그래픽디자인, 대학수학및연습2, AI수학, 화폐와금융의과거,현재그리고미래, 생활속의생명과학 과목에서 A+를 받으셨습니다.'"
      ]
     },
     "execution_count": 30,
     "metadata": {},
     "output_type": "execute_result"
    }
   ],
   "source": [
    "answer_query(\"내가 A+ 받은 과목 알려줘\", user_id=\"hong\")"
   ]
  },
  {
   "cell_type": "code",
   "execution_count": 31,
   "id": "a42afde5-22dc-4b28-afb1-a746e1d968ca",
   "metadata": {},
   "outputs": [
    {
     "data": {
      "text/plain": [
       "'고급C프로그래밍의 성적은 B+입니다.'"
      ]
     },
     "execution_count": 31,
     "metadata": {},
     "output_type": "execute_result"
    }
   ],
   "source": [
    "answer_query(\"고급C프로그래밍 학점이 어때?\", user_id=\"kim\")"
   ]
  },
  {
   "cell_type": "code",
   "execution_count": 32,
   "id": "2e6f9928-238d-4006-9668-db667c666c48",
   "metadata": {},
   "outputs": [
    {
     "data": {
      "text/plain": [
       "'객체지향프로그래밍의 성적은 B0입니다.'"
      ]
     },
     "execution_count": 32,
     "metadata": {},
     "output_type": "execute_result"
    }
   ],
   "source": [
    "answer_query(\"객체지향프로그래밍 성적이 뭐야?\", user_id=\"kim\")"
   ]
  },
  {
   "cell_type": "code",
   "execution_count": 33,
   "id": "415a50b9-1d68-4544-bd46-fa8ef09070aa",
   "metadata": {},
   "outputs": [
    {
     "data": {
      "text/plain": [
       "'창의설계입문, 프로그래밍기초, 객체지향프로그래밍, 정보디자인프로그래밍 과목이 C+ 이하입니다.'"
      ]
     },
     "execution_count": 33,
     "metadata": {},
     "output_type": "execute_result"
    }
   ],
   "source": [
    "answer_query(\"C+ 이하 과목만 보고 싶어\", user_id=\"hong\")"
   ]
  },
  {
   "cell_type": "markdown",
   "id": "e0261ffd-a981-4f50-8cfc-3b864052d79c",
   "metadata": {},
   "source": [
    "#### 강의탐색"
   ]
  },
  {
   "cell_type": "code",
   "execution_count": 63,
   "id": "5b280245-e71a-43f7-a43b-7ace535ec647",
   "metadata": {},
   "outputs": [
    {
     "name": "stdout",
     "output_type": "stream",
     "text": [
      "팀플이 없는 강의는 다음과 같습니다:\n",
      "1. 컴퓨터네트워크 (학정번호: I040-2-1655-01)\n",
      "2. AI수학 (학정번호: I040-2-3688-01)\n",
      "3. 객체지향프로그래밍 (학정번호: I040-2-7777-01)\n",
      "4. 오픈소스소프트웨어 (학정번호: I040-2-8461-01)\n",
      "5. 인터랙티브미디어개론 (학정번호: I040-2-9160-01)\n",
      "6. 컴퓨터그래픽스 (학정번호: I040-3-3951-01)\n",
      "7. 컴퓨터비전 (학정번호: I040-3-5474-01)\n",
      "8. 실험설계및분석 (학정번호: I040-3-9617-01)\n",
      "9. 영상AI생성모델 (학정번호: I040-4-5471-01)\n"
     ]
    }
   ],
   "source": [
    "print(answer_query(\"팀플이 없는 강의 알려줘\"))"
   ]
  },
  {
   "cell_type": "code",
   "execution_count": 80,
   "id": "c10013bc-7634-4c92-b712-1b9faa3e0fa3",
   "metadata": {},
   "outputs": [
    {
     "name": "stdout",
     "output_type": "stream",
     "text": [
      "팀플이 없는 강의는 다음과 같습니다:\n",
      "1. 컴퓨터네트워크 (학정번호: I040-2-1655-01)\n",
      "2. AI수학 (학정번호: I040-2-3688-01)\n",
      "3. 객체지향프로그래밍 (학정번호: I040-2-7777-01)\n",
      "4. 오픈소스소프트웨어 (학정번호: I040-2-8461-01)\n",
      "5. 인터랙티브미디어개론 (학정번호: I040-2-9160-01)\n",
      "6. 컴퓨터그래픽스 (학정번호: I040-3-3951-01)\n",
      "7. 컴퓨터비전 (학정번호: I040-3-5474-01)\n",
      "8. 실험설계및분석 (학정번호: I040-3-9617-01)\n",
      "9. 영상AI생성모델 (학정번호: I040-4-5471-01)\n"
     ]
    }
   ],
   "source": [
    "print(answer_query(\"팀플 없는 강의 알려줘\"))"
   ]
  },
  {
   "cell_type": "code",
   "execution_count": 86,
   "id": "842a610d-9815-4388-9bc9-4c92a75f811c",
   "metadata": {},
   "outputs": [
    {
     "name": "stdout",
     "output_type": "stream",
     "text": [
      "팀플이 적은 강의는 다음과 같습니다:\n",
      "1. 빅데이터프로그래밍 (학정번호: I040-2-4501-01)\n",
      "2. 텍스트마이닝 (학정번호: I040-3-4139-01)\n",
      "3. 딥러닝프로그래밍 (학정번호: I040-4-4434-01)\n",
      "4. 산학협력캡스톤설계1 (학정번호: I040-4-8995-01)\n",
      "5. 데이터시각화 (학정번호: I040-4-9925-01)\n"
     ]
    }
   ],
   "source": [
    "print(answer_query(\"조별과제가 적은 강의 알려줘\"))"
   ]
  },
  {
   "cell_type": "code",
   "execution_count": 87,
   "id": "86976424-dcc4-4c5b-bfbf-a776a7a740d8",
   "metadata": {},
   "outputs": [
    {
     "name": "stdout",
     "output_type": "stream",
     "text": [
      "팀플이 적은 강의는 다음과 같습니다:\n",
      "1. 빅데이터프로그래밍 (학정번호: I040-2-4501-01)\n",
      "2. 텍스트마이닝 (학정번호: I040-3-4139-01)\n",
      "3. 딥러닝프로그래밍 (학정번호: I040-4-4434-01)\n",
      "4. 산학협력캡스톤설계1 (학정번호: I040-4-8995-01)\n",
      "5. 데이터시각화 (학정번호: I040-4-9925-01)\n"
     ]
    }
   ],
   "source": [
    "print(answer_query(\"조별과제 적은 강의 알려줘\"))"
   ]
  },
  {
   "cell_type": "code",
   "execution_count": 88,
   "id": "a823cd45-3629-44fd-9dca-3e0b934b6302",
   "metadata": {},
   "outputs": [
    {
     "name": "stdout",
     "output_type": "stream",
     "text": [
      "팀플이 많은 강의는 다음과 같습니다:\n",
      "1. IoT시스템설계및실습 (학정번호: I040-3-4503-01)\n",
      "2. UX/UI디자인 (학정번호: I040-3-7737-01)\n",
      "3. 기계학습 (학정번호: I040-3-9151-01)\n"
     ]
    }
   ],
   "source": [
    "print(answer_query(\"조별과제 많은 강의 알려줘\"))"
   ]
  },
  {
   "cell_type": "code",
   "execution_count": 89,
   "id": "c0bab594-283e-4f0e-92a1-7ea29e29a288",
   "metadata": {},
   "outputs": [
    {
     "name": "stdout",
     "output_type": "stream",
     "text": [
      "팀플이 많은 강의는 다음과 같습니다:\n",
      "1. IoT시스템설계및실습 (학정번호: I040-3-4503-01)\n",
      "2. UX/UI디자인 (학정번호: I040-3-7737-01)\n",
      "3. 기계학습 (학정번호: I040-3-9151-01)\n"
     ]
    }
   ],
   "source": [
    "print(answer_query(\"조별과제가 많은 강의 알려줘\"))"
   ]
  },
  {
   "cell_type": "code",
   "execution_count": null,
   "id": "8866bf2b-ccc4-465a-b54f-d69d198fda47",
   "metadata": {},
   "outputs": [],
   "source": []
  },
  {
   "cell_type": "code",
   "execution_count": null,
   "id": "b36b0378-3009-4f12-a0f3-af81f53462f8",
   "metadata": {},
   "outputs": [],
   "source": []
  },
  {
   "cell_type": "code",
   "execution_count": 45,
   "id": "a9f87fda-153a-44be-a715-f92932758491",
   "metadata": {},
   "outputs": [
    {
     "name": "stdout",
     "output_type": "stream",
     "text": [
      "3학점짜리 전선 과목 목록입니다:\n",
      "1. 데이터시각화 (학정번호: I040-4-9925-01) - 조재희\n",
      "2. 인체데이터분석및실습 (학정번호: I000-2-5715-01) - 고찬영\n",
      "3. 공학설계입문 (학정번호: I000-1-2957-02) - 임재한\n",
      "4. 제어알고리즘설계및실습 (학정번호: I000-2-5702-01) - 고찬영\n",
      "5. 디지털헬스케어인공지능분석실무 (학정번호: I020-2-4888-01) - 교수명 없음\n"
     ]
    }
   ],
   "source": [
    "print(answer_query(\"전선 중 3학점 5개만 추천해줘\"))"
   ]
  },
  {
   "cell_type": "code",
   "execution_count": 92,
   "id": "71cb17b9-acb4-47af-b1b9-4dac754e7af4",
   "metadata": {},
   "outputs": [
    {
     "name": "stdout",
     "output_type": "stream",
     "text": [
      "3학점짜리 전필, 전선 과목 목록입니다:\n",
      "1. 딥러닝프로그래밍 (학정번호: I040-4-4434-01) - 김준석\n",
      "2. 성공적인창업계획 (학정번호: 5080-4-7882-01) - 이현경\n",
      "3. 컴퓨터그래픽스 (학정번호: I040-3-3951-01) - 김동준\n",
      "4. 영상AI생성모델 (학정번호: I040-4-5471-01) - 김동준\n",
      "5. 창의설계입문 (학정번호: I000-1-3674-01) - 신원경\n"
     ]
    }
   ],
   "source": [
    "print(answer_query(\"전공 중 3학점 5개만 추천해줘\"))"
   ]
  },
  {
   "cell_type": "code",
   "execution_count": 47,
   "id": "2a8b9514-406e-403e-843b-438f10999cd2",
   "metadata": {},
   "outputs": [
    {
     "name": "stdout",
     "output_type": "stream",
     "text": [
      "3학점짜리 교필, 교선 과목 목록입니다:\n",
      "1. 실용중국어문법 (학정번호: 0000-2-6526-01) - 곡효운\n",
      "2. 평생교육론 (학정번호: 0000-1-7468-01) - 김성길\n",
      "3. C프로그래밍 (학정번호: 0000-1-0019-09) - 박상준\n",
      "4. 대학수학및연습1 (학정번호: 0000-1-4625-16) - 김원주\n",
      "5. 한국가족의역사와현재 (학정번호: 0000-2-4833-01) - 김인호\n"
     ]
    }
   ],
   "source": [
    "print(answer_query(\"교양 중 3학점 5개만 추천해줘\"))"
   ]
  },
  {
   "cell_type": "code",
   "execution_count": 93,
   "id": "c9d14181-7eee-4979-a61a-1c4116dab887",
   "metadata": {},
   "outputs": [
    {
     "name": "stdout",
     "output_type": "stream",
     "text": [
      "2학점짜리 교필, 교선 과목 목록입니다:\n",
      "1. 탁구 (학정번호: 0000-1-1679-01) - 박현애\n",
      "2. 스케이팅 (학정번호: 0000-1-2238-01) - 정재은\n",
      "3. 웰니스트레이닝 (학정번호: 0000-1-5684-02) - 박인혜\n",
      "4. 사회봉사1 (학정번호: 0000-1-3902-01) - 임안나\n",
      "5. 저작권과스마트폰의이해 (학정번호: 0000-1-8129-01) - 건국대학교 정연덕\n"
     ]
    }
   ],
   "source": [
    "print(answer_query(\"교양 중 2학점 5개만 추천해줘\"))"
   ]
  },
  {
   "cell_type": "code",
   "execution_count": null,
   "id": "162df12a-800d-4630-aa6c-ace2a76f3785",
   "metadata": {},
   "outputs": [],
   "source": []
  },
  {
   "cell_type": "code",
   "execution_count": null,
   "id": "827bfd90-0c96-455b-ae4d-acf253d2dbac",
   "metadata": {},
   "outputs": [],
   "source": []
  }
 ],
 "metadata": {
  "kernelspec": {
   "display_name": "Python 3 (ipykernel)",
   "language": "python",
   "name": "python3"
  },
  "language_info": {
   "codemirror_mode": {
    "name": "ipython",
    "version": 3
   },
   "file_extension": ".py",
   "mimetype": "text/x-python",
   "name": "python",
   "nbconvert_exporter": "python",
   "pygments_lexer": "ipython3",
   "version": "3.13.3"
  }
 },
 "nbformat": 4,
 "nbformat_minor": 5
}
