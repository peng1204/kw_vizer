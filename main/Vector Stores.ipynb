{
 "cells": [
  {
   "cell_type": "markdown",
   "id": "efda23e1-bebc-42a5-84fc-d36e41e0a8ab",
   "metadata": {
    "id": "efda23e1-bebc-42a5-84fc-d36e41e0a8ab"
   },
   "source": [
    "## **문서 벡터 저장소, Vector Stores**"
   ]
  },
  {
   "cell_type": "code",
   "execution_count": null,
   "id": "Ru1hDG0brDiT",
   "metadata": {
    "id": "Ru1hDG0brDiT"
   },
   "outputs": [],
   "source": [
    "# !pip install langchain langchain-community langchain-openai langchain-chroma tiktoken pypdf sentence_transformers langchain-text-splitters"
   ]
  },
  {
   "cell_type": "markdown",
   "id": "2719e9ec-9a80-4e8a-8633-208da9690303",
   "metadata": {
    "id": "2719e9ec-9a80-4e8a-8633-208da9690303"
   },
   "source": [
    "### **Langchain-Chroma 문서 저장 및 유사 문서 검색**"
   ]
  },
  {
   "cell_type": "code",
   "execution_count": null,
   "id": "0c0300fc-bf7a-491f-aef1-306be5b86e34",
   "metadata": {
    "id": "0c0300fc-bf7a-491f-aef1-306be5b86e34"
   },
   "outputs": [],
   "source": [
    "import os\n",
    "from langchain.document_loaders import PyPDFLoader\n",
    "from langchain_text_splitters import RecursiveCharacterTextSplitter\n",
    "from langchain_openai import OpenAIEmbeddings\n",
    "from langchain.vectorstores import Chroma\n",
    "os.environ[\"OPENAI_API_KEY\"] = \"YOUR_OPENAI_API_KEY\"\n",
    "\n",
    "openai_embedding=OpenAIEmbeddings(model = 'text-embedding-3-small')\n",
    "\n",
    "loader = PyPDFLoader(r\"../data/대한민국헌법(헌법)(제00010호)(19880225).pdf\")\n",
    "pages = loader.load_and_split()\n",
    "\n",
    "text_splitter = RecursiveCharacterTextSplitter(chunk_size=500, chunk_overlap=0)\n",
    "docs = text_splitter.split_documents(pages)\n",
    "\n",
    "db = Chroma.from_documents(docs, openai_embedding)"
   ]
  },
  {
   "cell_type": "code",
   "execution_count": null,
   "id": "be57252c-ff9b-4080-9e2d-b8125da49f7b",
   "metadata": {
    "id": "be57252c-ff9b-4080-9e2d-b8125da49f7b"
   },
   "outputs": [],
   "source": [
    "query = \"대통령의 임기는?\"\n",
    "#유사 문서 검색\n",
    "docs = db.similarity_search(query)\n",
    "print(docs[0])"
   ]
  },
  {
   "cell_type": "code",
   "execution_count": null,
   "id": "476010ed-00c3-410c-9764-f701355d0f57",
   "metadata": {
    "id": "476010ed-00c3-410c-9764-f701355d0f57"
   },
   "outputs": [],
   "source": [
    "#유사 문서 검색 및 유사도 출력\n",
    "db.similarity_search_with_score(query)"
   ]
  },
  {
   "cell_type": "markdown",
   "id": "f6d9e90e-0460-4ff6-b511-214657ee9e9b",
   "metadata": {
    "id": "f6d9e90e-0460-4ff6-b511-214657ee9e9b"
   },
   "source": [
    "**[벡터DB를 로컬 디스크에 저장하고 로드하기]**"
   ]
  },
  {
   "cell_type": "code",
   "execution_count": null,
   "id": "a614ddb2-5130-4097-b657-49e0c89be385",
   "metadata": {
    "id": "a614ddb2-5130-4097-b657-49e0c89be385"
   },
   "outputs": [],
   "source": [
    "Chroma().delete_collection()"
   ]
  },
  {
   "cell_type": "code",
   "execution_count": null,
   "id": "502d1172-b3b2-444f-aabc-ecb88ec66b37",
   "metadata": {
    "id": "502d1172-b3b2-444f-aabc-ecb88ec66b37"
   },
   "outputs": [],
   "source": [
    "from langchain.document_loaders import TextLoader\n",
    "from langchain_text_splitters import RecursiveCharacterTextSplitter\n",
    "from langchain.embeddings import HuggingFaceEmbeddings\n",
    "from langchain_chroma import Chroma\n",
    "\n",
    "loader = PyPDFLoader(r\"../data/대한민국헌법(헌법)(제00010호)(19880225).pdf\")\n",
    "pages = loader.load_and_split()\n",
    "\n",
    "text_splitter = RecursiveCharacterTextSplitter(chunk_size=500, chunk_overlap=0)\n",
    "docs = text_splitter.split_documents(pages)\n",
    "\n",
    "\n",
    "#HuggingfaceEmbedding 함수로 Open source 임베딩 모델 로드\n",
    "model_name = \"jhgan/ko-sroberta-multitask\"\n",
    "ko_embedding= HuggingFaceEmbeddings(\n",
    "    model_name=model_name\n",
    ")\n",
    "\n",
    "\n",
    "#save to disk\n",
    "db2 = Chroma.from_documents(docs, ko_embedding, persist_directory=\"./chroma_db\")\n",
    "\n",
    "# load from disk\n",
    "db3 = Chroma(persist_directory=\"./chroma_db\", embedding_function=ko_embedding)\n",
    "\n",
    "query = \"대통령의 임기는?\"\n",
    "result = db3.similarity_search(query)\n",
    "print(result[0].page_content)"
   ]
  },
  {
   "cell_type": "markdown",
   "id": "e6fe30a9-f55f-447a-8b10-198b9b809458",
   "metadata": {
    "id": "e6fe30a9-f55f-447a-8b10-198b9b809458"
   },
   "source": [
    "### **Chroma DB API를 활용한 문서 관리**"
   ]
  },
  {
   "cell_type": "markdown",
   "id": "b2597d4c-437a-4666-b7f6-087eed38ba6d",
   "metadata": {
    "id": "b2597d4c-437a-4666-b7f6-087eed38ba6d"
   },
   "source": [
    "**Collection 객체 생성과 문서 저장**"
   ]
  },
  {
   "cell_type": "code",
   "execution_count": null,
   "id": "edc520f4-17de-4204-86fb-20afd863a9d5",
   "metadata": {
    "id": "edc520f4-17de-4204-86fb-20afd863a9d5"
   },
   "outputs": [],
   "source": [
    "import chromadb\n",
    "#collection을 저장할 경로 지정\n",
    "client = chromadb.PersistentClient(path=\"collection_example\")\n",
    "#client가 잘 연결되어 있는지 확인\n",
    "client.heartbeat()"
   ]
  },
  {
   "cell_type": "markdown",
   "id": "e2f5b740-201d-45c2-a5a9-0f46d06644d8",
   "metadata": {
    "id": "e2f5b740-201d-45c2-a5a9-0f46d06644d8"
   },
   "source": [
    "**Collection 생성**"
   ]
  },
  {
   "cell_type": "code",
   "execution_count": null,
   "id": "aa1df4c0-e553-43c5-8321-04315387b648",
   "metadata": {
    "id": "aa1df4c0-e553-43c5-8321-04315387b648"
   },
   "outputs": [],
   "source": [
    "from chromadb.utils import embedding_functions\n",
    "from chromadb.utils.embedding_functions import OpenAIEmbeddingFunction\n",
    "#OpenAI 임베딩 모델 활용\n",
    "embedding_function = openai_embedding=OpenAIEmbeddings(model = 'text-embedding-3-small')\n",
    "#Huggingface 오픈소스 임베딩 모델 활용\n",
    "embedding_function = embedding_functions.SentenceTransformerEmbeddingFunction(model_name=\"jhgan/ko-sbert-nli\")\n",
    "\n",
    "collection = client.create_collection(name=\"korean_law\", embedding_function=embedding_function)"
   ]
  },
  {
   "cell_type": "markdown",
   "id": "053c49ab-6987-4261-b689-9bb60b535a9d",
   "metadata": {
    "id": "053c49ab-6987-4261-b689-9bb60b535a9d"
   },
   "source": [
    "**Collection에 문서 임베딩 저장**"
   ]
  },
  {
   "cell_type": "code",
   "execution_count": null,
   "id": "8c7228be-7bf7-40dd-bdf4-6cdca132cee7",
   "metadata": {
    "id": "8c7228be-7bf7-40dd-bdf4-6cdca132cee7"
   },
   "outputs": [],
   "source": [
    "from langchain.text_splitter import RecursiveCharacterTextSplitter\n",
    "from langchain.vectorstores import Chroma\n",
    "from langchain.document_loaders import PyPDFLoader\n",
    "\n",
    "\n",
    "# load the document and split it into chunks\n",
    "loader = PyPDFLoader(r\"../data/대한민국헌법(헌법)(제00010호)(19880225).pdf\")\n",
    "pages = loader.load_and_split()\n",
    "\n",
    "# split it into chunks\n",
    "text_splitter = RecursiveCharacterTextSplitter(chunk_size=500, chunk_overlap=0)\n",
    "docs = text_splitter.split_documents(pages)\n",
    "\n",
    "collection.add(\n",
    "    ids = [str(i) for i in range(len(docs))],\n",
    "    documents=[i.page_content for i in docs],\n",
    "    metadatas=[i.metadata for i in docs]\n",
    ")"
   ]
  },
  {
   "cell_type": "markdown",
   "id": "ae008e2e-81ff-4101-9cd8-c66f57f568fd",
   "metadata": {
    "id": "ae008e2e-81ff-4101-9cd8-c66f57f568fd"
   },
   "source": [
    "**Collection 로드하기**"
   ]
  },
  {
   "cell_type": "code",
   "execution_count": null,
   "id": "53b28d8d-db94-47f5-93ee-fe4cd96fd381",
   "metadata": {
    "id": "53b28d8d-db94-47f5-93ee-fe4cd96fd381"
   },
   "outputs": [],
   "source": [
    "#name에 collection 이름, embedding_function은 collection 저장 시 지정한 임베딩 모델 지정\n",
    "collection = client.get_collection(name=\"korean_law\", embedding_function=embedding_function)\n",
    "collection"
   ]
  },
  {
   "cell_type": "markdown",
   "id": "edb9d861-de5a-4f71-b8bf-e451c50d4c97",
   "metadata": {
    "id": "edb9d861-de5a-4f71-b8bf-e451c50d4c97"
   },
   "source": [
    "**Collection 내 문서 검색**"
   ]
  },
  {
   "cell_type": "code",
   "execution_count": null,
   "id": "cf5c2e0c-5947-4236-bf18-4c86854a39dc",
   "metadata": {
    "id": "cf5c2e0c-5947-4236-bf18-4c86854a39dc"
   },
   "outputs": [],
   "source": [
    "#1페이지에서 직업 선택의 자유와 유사한 청크 3개 검색\n",
    "collection.query(\n",
    "    query_texts=[\"직업 선택의 자유\"],\n",
    "    n_results=3,\n",
    "    where={\"page\": 1},\n",
    ")"
   ]
  },
  {
   "cell_type": "markdown",
   "id": "d084fba2-0a6d-45f0-9fb9-429bad2c4267",
   "metadata": {
    "id": "d084fba2-0a6d-45f0-9fb9-429bad2c4267"
   },
   "source": [
    "**조건부 문서 검색**"
   ]
  },
  {
   "cell_type": "code",
   "execution_count": null,
   "id": "6b8b4391-ca5e-4089-a10a-6e1fb4f5900b",
   "metadata": {
    "id": "6b8b4391-ca5e-4089-a10a-6e1fb4f5900b",
    "scrolled": true
   },
   "outputs": [],
   "source": [
    "#5페이지 이후의 청크 중에서 직업 선택의 자유와 관련한 문서 3개 검색\n",
    "# $eq - 일치 (string, int, float)\n",
    "# $ne - 불일치 (string, int, float)\n",
    "# $gt - 초과 (int, float)\n",
    "# $gte - 이상 (int, float)\n",
    "# $lt - 미만 (int, float)\n",
    "# $lte - 이하 (int, float)\n",
    "collection.query(\n",
    "    query_texts=[\"직업 선택의 자유\"],\n",
    "    n_results=3,\n",
    "    where={\"page\": {\"$gte\": 5}}\n",
    ")\n"
   ]
  },
  {
   "cell_type": "code",
   "execution_count": null,
   "id": "1ee8f45f-187c-4ddf-9e92-4260f2d0fd71",
   "metadata": {
    "id": "1ee8f45f-187c-4ddf-9e92-4260f2d0fd71"
   },
   "outputs": [],
   "source": [
    "collection.query(\n",
    "    query_texts=[\"직업 선택의 자유\"],\n",
    "    n_results=3,\n",
    "    where={\"page\": 1},\n",
    "    where_document={\"$contains\": \"직업\"}\n",
    ")"
   ]
  },
  {
   "cell_type": "code",
   "execution_count": null,
   "id": "23922df6-7e0a-4062-864a-23fdab63b860",
   "metadata": {
    "id": "23922df6-7e0a-4062-864a-23fdab63b860"
   },
   "outputs": [],
   "source": []
  }
 ],
 "metadata": {
  "colab": {
   "provenance": []
  },
  "kernelspec": {
   "display_name": "Python 3 (ipykernel)",
   "language": "python",
   "name": "python3"
  },
  "language_info": {
   "codemirror_mode": {
    "name": "ipython",
    "version": 3
   },
   "file_extension": ".py",
   "mimetype": "text/x-python",
   "name": "python",
   "nbconvert_exporter": "python",
   "pygments_lexer": "ipython3",
   "version": "3.12.7"
  }
 },
 "nbformat": 4,
 "nbformat_minor": 5
}
