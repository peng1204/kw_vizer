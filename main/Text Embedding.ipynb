{
 "cells": [
  {
   "cell_type": "markdown",
   "id": "9f537388-7c1a-4753-b106-c42757e10d6b",
   "metadata": {
    "id": "9f537388-7c1a-4753-b106-c42757e10d6b"
   },
   "source": [
    "## **문장을 숫자로 바꾸자, Text Embedding**"
   ]
  },
  {
   "cell_type": "code",
   "execution_count": null,
   "id": "I51GD9ONpYPb",
   "metadata": {
    "id": "I51GD9ONpYPb"
   },
   "outputs": [],
   "source": [
    "# !pip install langchain langchain-community langchain_openai langchain_text_splitters sentence_transformers pypdfium2"
   ]
  },
  {
   "cell_type": "markdown",
   "id": "7359528b-3419-471e-9b3d-356eb8706e50",
   "metadata": {
    "id": "7359528b-3419-471e-9b3d-356eb8706e50"
   },
   "source": [
    "### **OpenAI의 텍스트 임베딩 모델 활용하기**"
   ]
  },
  {
   "cell_type": "code",
   "execution_count": null,
   "id": "b25093e3-64f0-402f-b245-73547a2f8bc8",
   "metadata": {
    "id": "b25093e3-64f0-402f-b245-73547a2f8bc8"
   },
   "outputs": [],
   "source": [
    "import os\n",
    "from langchain_openai import OpenAIEmbeddings\n",
    "os.environ[\"OPENAI_API_KEY\"] = \"YOUR_OPENAI_API_KEY\"\n",
    "\n",
    "embeddings_model = OpenAIEmbeddings(model = 'text-embedding-3-small')\n",
    "embeddings = embeddings_model.embed_documents(\n",
    "    [\n",
    "        \"Hi there!\",\n",
    "        \"Oh, hello!\",\n",
    "        \"What's your name?\",\n",
    "        \"My friends call me World\",\n",
    "        \"Hello World!\"\n",
    "    ]\n",
    ")\n",
    "len(embeddings), len(embeddings[0])"
   ]
  },
  {
   "cell_type": "code",
   "execution_count": null,
   "id": "d54675e3-02d9-4a01-a4e4-2e464c0734ba",
   "metadata": {
    "id": "d54675e3-02d9-4a01-a4e4-2e464c0734ba"
   },
   "outputs": [],
   "source": [
    "from langchain_community.document_loaders import PyPDFium2Loader\n",
    "from langchain_text_splitters import RecursiveCharacterTextSplitter\n",
    "\n",
    "#임베딩 모델 API 호출\n",
    "embeddings_model = OpenAIEmbeddings(model = 'text-embedding-3-small')\n",
    "\n",
    "#PDF 문서 로드\n",
    "loader = PyPDFium2Loader(\"../data/[이슈리포트 2022-2호] 혁신성장 정책금융 동향.pdf\")\n",
    "pages = loader.load()\n",
    "\n",
    "#PDF 문서를 여러 청크로 분할\n",
    "text_splitter = RecursiveCharacterTextSplitter(\n",
    "    chunk_size=500,\n",
    "    chunk_overlap=100\n",
    ")\n",
    "\n",
    "texts = text_splitter.split_documents(pages)\n",
    "\n",
    "#OpenAI 임베딩 모델로 청크들을 임베딩 변환하기\n",
    "embeddings = embeddings_model.embed_documents([i.page_content for i in texts])\n",
    "len(embeddings), len(embeddings[0])"
   ]
  },
  {
   "cell_type": "markdown",
   "id": "8282ad79-a4f6-4a84-9a59-b44fe5a7d2c7",
   "metadata": {
    "id": "8282ad79-a4f6-4a84-9a59-b44fe5a7d2c7"
   },
   "source": [
    "**[문장 유사도 계산해보기]**"
   ]
  },
  {
   "cell_type": "code",
   "execution_count": null,
   "id": "928b8064-0170-40df-9833-3028a35018b1",
   "metadata": {
    "id": "928b8064-0170-40df-9833-3028a35018b1"
   },
   "outputs": [],
   "source": [
    "examples= embeddings_model.embed_documents(\n",
    "     [\n",
    "        \"안녕하세요\",\n",
    "        \"제 이름은 홍두깨입니다.\",\n",
    "        \"이름이 무엇인가요?\",\n",
    "        \"랭체인은 유용합니다.\",\n",
    "     ]\n",
    " )\n",
    "\n",
    "#예시 질문과 답변 임베딩\n",
    "embedded_query_q = embeddings_model.embed_query(\"이 대화에서 언급된 이름은 무엇입니까?\")\n",
    "embedded_query_a = embeddings_model.embed_query(\"이 대화에서 언급된 이름은 홍길동입니다.\")"
   ]
  },
  {
   "cell_type": "code",
   "execution_count": null,
   "id": "9ea28355-1a40-4128-9620-6acc79cb26e1",
   "metadata": {
    "id": "9ea28355-1a40-4128-9620-6acc79cb26e1"
   },
   "outputs": [],
   "source": [
    "from numpy import dot\n",
    "from numpy.linalg import norm\n",
    "import numpy as np\n",
    "\n",
    "def cos_sim(A, B):\n",
    "       return dot(A, B)/(norm(A)*norm(B))\n",
    "\n",
    "print(cos_sim(embedded_query_q, embedded_query_a))\n",
    "print(cos_sim(embedded_query_a, examples [1]))\n",
    "print(cos_sim(embedded_query_a, examples [3]))"
   ]
  },
  {
   "cell_type": "markdown",
   "id": "6f39f3cb-7df0-457a-bccf-6bac3736a070",
   "metadata": {
    "id": "6f39f3cb-7df0-457a-bccf-6bac3736a070"
   },
   "source": [
    "### **오픈소스 임베딩 모델 활용하기**"
   ]
  },
  {
   "cell_type": "markdown",
   "id": "a79a2907-f64d-477f-af90-1aa966916f04",
   "metadata": {
    "id": "a79a2907-f64d-477f-af90-1aa966916f04"
   },
   "source": [
    "**[jhgan/ko-sroberta-multitask 임베딩 모델 활용]**"
   ]
  },
  {
   "cell_type": "code",
   "execution_count": null,
   "id": "f8e00a1d-12b2-465a-a913-8c81290b62cc",
   "metadata": {
    "id": "f8e00a1d-12b2-465a-a913-8c81290b62cc"
   },
   "outputs": [],
   "source": [
    "# #Open-source 임베딩 모델 활용을 위한 sentence-transformer 라이브러리 설치\n",
    "# !pip install sentence-transformers"
   ]
  },
  {
   "cell_type": "code",
   "execution_count": null,
   "id": "57b93a96-708b-4e23-97e3-72d3076aa53f",
   "metadata": {
    "id": "57b93a96-708b-4e23-97e3-72d3076aa53f"
   },
   "outputs": [],
   "source": [
    "from langchain.embeddings import HuggingFaceEmbeddings\n",
    "\n",
    "#HuggingfaceEmbedding 함수로 Open source 임베딩 모델 로드\n",
    "model_name = \"jhgan/ko-sroberta-multitask\"\n",
    "ko_embedding= HuggingFaceEmbeddings(\n",
    "    model_name=model_name\n",
    ")\n",
    "\n",
    "examples = ko_embedding.embed_documents(\n",
    "     [\n",
    "        \"안녕하세요\",\n",
    "        \"제 이름은 홍두깨입니다.\",\n",
    "        \"이름이 무엇인가요?\",\n",
    "        \"랭체인은 유용합니다.\",\n",
    "     ]\n",
    " )\n",
    "\n",
    "embedded_query_q = ko_embedding.embed_query(\"이 대화에서 언급된 이름은 무엇입니까?\")\n",
    "embedded_query_a = ko_embedding.embed_query(\"이 대화에서 언급된 이름은 홍길동입니다.\")\n",
    "\n",
    "print(cos_sim(embedded_query_q, embedded_query_a))\n",
    "print(cos_sim(embedded_query_q, examples[1]))\n",
    "print(cos_sim(embedded_query_q, examples[3]))"
   ]
  },
  {
   "cell_type": "markdown",
   "id": "13b3e77f-3172-428c-9352-dd9f22e68827",
   "metadata": {
    "id": "13b3e77f-3172-428c-9352-dd9f22e68827"
   },
   "source": [
    "**[BAAI/bge-small-en 임베딩 모델 활용 코드]**"
   ]
  },
  {
   "cell_type": "code",
   "execution_count": null,
   "id": "c9b2130e-e03f-400e-8fce-a3026244d473",
   "metadata": {
    "id": "c9b2130e-e03f-400e-8fce-a3026244d473"
   },
   "outputs": [],
   "source": [
    "from langchain.embeddings import HuggingFaceEmbeddings\n",
    "\n",
    "model_name = \"BAAI/bge-small-en\"\n",
    "bge_embedding= HuggingFaceEmbeddings(\n",
    "    model_name=model_name\n",
    ")\n",
    "\n",
    "examples = bge_embedding.embed_documents(\n",
    "     [\n",
    "        \"안녕하세요\",\n",
    "        \"제 이름은 홍두깨입니다.\",\n",
    "        \"이름이 무엇인가요?\",\n",
    "        \"랭체인은 유용합니다.\",\n",
    "     ]\n",
    " )\n",
    "\n",
    "embedded_query_q = bge_embedding.embed_query(\"이 대화에서 언급된 이름은 무엇입니까?\")\n",
    "embedded_query_a = bge_embedding.embed_query(\"이 대화에서 언급된 이름은 홍길동입니다.\")\n",
    "\n",
    "print(cos_sim(embedded_query_q, embedded_query_a))\n",
    "print(cos_sim(embedded_query_q, examples[1]))\n",
    "print(cos_sim(embedded_query_q, examples[3]))"
   ]
  },
  {
   "cell_type": "code",
   "execution_count": null,
   "id": "a48496ff-f1ec-44da-8346-909444633141",
   "metadata": {
    "id": "a48496ff-f1ec-44da-8346-909444633141"
   },
   "outputs": [],
   "source": []
  }
 ],
 "metadata": {
  "colab": {
   "provenance": []
  },
  "kernelspec": {
   "display_name": "Python 3 (ipykernel)",
   "language": "python",
   "name": "python3"
  },
  "language_info": {
   "codemirror_mode": {
    "name": "ipython",
    "version": 3
   },
   "file_extension": ".py",
   "mimetype": "text/x-python",
   "name": "python",
   "nbconvert_exporter": "python",
   "pygments_lexer": "ipython3",
   "version": "3.12.7"
  }
 },
 "nbformat": 4,
 "nbformat_minor": 5
}
