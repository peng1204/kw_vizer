{
 "cells": [
  {
   "cell_type": "markdown",
   "id": "2b45ccee-329c-49d8-8da3-db0d69b95016",
   "metadata": {
    "id": "2b45ccee-329c-49d8-8da3-db0d69b95016"
   },
   "source": [
    "## **RAG 정복하기**"
   ]
  },
  {
   "cell_type": "code",
   "execution_count": null,
   "id": "FHCCBJgrudy0",
   "metadata": {
    "id": "FHCCBJgrudy0"
   },
   "outputs": [],
   "source": [
    "# !pip install -q langchain langchain-openai langchain-ollama langchain-community langchain-chroma langchain-text-splitters tiktoken huggingface_hub sentence_transformers pypdf grandalf"
   ]
  },
  {
   "cell_type": "markdown",
   "id": "02b24183-bbbb-4baa-9fc1-41e713da9f2e",
   "metadata": {
    "id": "02b24183-bbbb-4baa-9fc1-41e713da9f2e"
   },
   "source": [
    "### **RAG 구축하기 – 기본적인 QA 체인 구성**"
   ]
  },
  {
   "cell_type": "markdown",
   "id": "c81587a1-2ab6-49d6-9b08-1d411f6994ff",
   "metadata": {
    "id": "c81587a1-2ab6-49d6-9b08-1d411f6994ff"
   },
   "source": [
    "**[필요한 라이브러리 호출 및 API키 설정]**"
   ]
  },
  {
   "cell_type": "code",
   "execution_count": null,
   "id": "b40a72d7-6b94-43eb-8e22-b569a785b43e",
   "metadata": {
    "id": "b40a72d7-6b94-43eb-8e22-b569a785b43e"
   },
   "outputs": [],
   "source": [
    "import os\n",
    "os.environ[\"OPENAI_API_KEY\"] = \"YOUR_OPENAI_API_KEY\""
   ]
  },
  {
   "cell_type": "markdown",
   "id": "17c1b664-d961-43e7-a792-13d048c155e5",
   "metadata": {
    "id": "17c1b664-d961-43e7-a792-13d048c155e5"
   },
   "source": [
    "**[문서 로드/분할 및 벡터 임베딩]**"
   ]
  },
  {
   "cell_type": "code",
   "execution_count": null,
   "id": "0dec2c3e-9227-46b9-9a9a-4d49c59683da",
   "metadata": {
    "id": "0dec2c3e-9227-46b9-9a9a-4d49c59683da"
   },
   "outputs": [],
   "source": [
    "from langchain.document_loaders import PyPDFLoader\n",
    "from langchain.vectorstores import Chroma\n",
    "from langchain_text_splitters import RecursiveCharacterTextSplitter\n",
    "from langchain_openai import OpenAIEmbeddings, ChatOpenAI\n",
    "from langchain_core.runnables import RunnablePassthrough\n",
    "from langchain_core.output_parsers import StrOutputParser\n",
    "\n",
    "#헌법 PDF 파일 로드\n",
    "loader = PyPDFLoader(r\"../data/대한민국헌법(헌법)(제00010호)(19880225).pdf\")\n",
    "pages = loader.load_and_split()\n",
    "\n",
    "#PDF 파일을 1000자 청크로 분할\n",
    "text_splitter = RecursiveCharacterTextSplitter(chunk_size=1000, chunk_overlap=100)\n",
    "docs = text_splitter.split_documents(pages)\n",
    "\n",
    "#ChromaDB에 청크들을 벡터 임베딩으로 저장(OpenAI 임베딩 모델 활용)\n",
    "vectorstore = Chroma.from_documents(docs, OpenAIEmbeddings(model = 'text-embedding-3-small'))\n",
    "retriever = vectorstore.as_retriever()"
   ]
  },
  {
   "cell_type": "markdown",
   "id": "72ba8836-7df8-487b-bef6-b203426406c2",
   "metadata": {
    "id": "72ba8836-7df8-487b-bef6-b203426406c2"
   },
   "source": [
    "**[프롬프트와 모델 선언]**"
   ]
  },
  {
   "cell_type": "code",
   "execution_count": null,
   "id": "96b69f0f-f36e-476c-a5d2-03f115722383",
   "metadata": {
    "id": "96b69f0f-f36e-476c-a5d2-03f115722383"
   },
   "outputs": [],
   "source": [
    "#GPT 3.5 모델 선언\n",
    "from langchain import hub\n",
    "llm = ChatOpenAI(model=\"gpt-4o-mini\")\n",
    "\n",
    "#Langchain Hub에서 RAG 프롬프트 호출\n",
    "prompt = hub.pull(\"rlm/rag-prompt\")\n",
    "\n",
    "#Retriever로 검색한 유사 문서의 내용을 하나의 string으로 결합\n",
    "def format_docs(docs):\n",
    "    return \"\\n\\n\".join(doc.page_content for doc in docs)"
   ]
  },
  {
   "cell_type": "code",
   "execution_count": null,
   "id": "19ce3c78-3b41-4e3e-9ac5-418630207bff",
   "metadata": {
    "id": "19ce3c78-3b41-4e3e-9ac5-418630207bff"
   },
   "outputs": [],
   "source": [
    "prompt"
   ]
  },
  {
   "cell_type": "code",
   "execution_count": null,
   "id": "d9982910-e1fb-449c-a141-8f38d75d6aeb",
   "metadata": {
    "id": "d9982910-e1fb-449c-a141-8f38d75d6aeb"
   },
   "outputs": [],
   "source": [
    "prompt.messages"
   ]
  },
  {
   "cell_type": "markdown",
   "id": "dd876224-af3c-4e5c-b08c-096d2dd40785",
   "metadata": {
    "id": "dd876224-af3c-4e5c-b08c-096d2dd40785"
   },
   "source": [
    "**[Chain 구축]**"
   ]
  },
  {
   "cell_type": "code",
   "execution_count": null,
   "id": "06c5ec1c-3a94-449a-bbfd-41498e216a00",
   "metadata": {
    "id": "06c5ec1c-3a94-449a-bbfd-41498e216a00"
   },
   "outputs": [],
   "source": [
    "rag_chain = (\n",
    "    {\"context\": retriever, \"question\": RunnablePassthrough()}\n",
    "    | prompt\n",
    "    | llm\n",
    "    | StrOutputParser()\n",
    ")"
   ]
  },
  {
   "cell_type": "code",
   "execution_count": null,
   "id": "02c3f048-f1a6-4e41-bf38-fa4fedd78ae2",
   "metadata": {
    "id": "02c3f048-f1a6-4e41-bf38-fa4fedd78ae2"
   },
   "outputs": [],
   "source": [
    "answer = rag_chain.invoke(\"국회의원의 의무는 뭐야?\")\n",
    "print(answer)"
   ]
  },
  {
   "cell_type": "markdown",
   "id": "a01d9795-9da7-4295-80c7-0460f1db3be9",
   "metadata": {
    "id": "a01d9795-9da7-4295-80c7-0460f1db3be9"
   },
   "source": [
    "- Chain 구조 출력"
   ]
  },
  {
   "cell_type": "code",
   "execution_count": null,
   "id": "b721da7b-07fa-43f0-b695-8ea96c216d70",
   "metadata": {
    "id": "b721da7b-07fa-43f0-b695-8ea96c216d70"
   },
   "outputs": [],
   "source": [
    "rag_chain.get_graph().print_ascii()"
   ]
  },
  {
   "cell_type": "markdown",
   "id": "831461fe-5ae2-41c4-b8a3-065751ad9a00",
   "metadata": {
    "id": "831461fe-5ae2-41c4-b8a3-065751ad9a00"
   },
   "source": [
    "### **RAG 구축하기 – Memory**"
   ]
  },
  {
   "cell_type": "markdown",
   "id": "3a50f675-fe2d-4d4d-acfb-e8d268e1493e",
   "metadata": {
    "id": "3a50f675-fe2d-4d4d-acfb-e8d268e1493e"
   },
   "source": [
    "**[문서 로드-분할-벡터 저장-Retreiver 생성]**"
   ]
  },
  {
   "cell_type": "code",
   "execution_count": null,
   "id": "b7928a7c-882a-4a3e-8504-ea337f9aa264",
   "metadata": {
    "id": "b7928a7c-882a-4a3e-8504-ea337f9aa264"
   },
   "outputs": [],
   "source": [
    "from langchain import hub\n",
    "from langchain.document_loaders import PyPDFLoader\n",
    "from langchain.vectorstores import Chroma\n",
    "from langchain_text_splitters import RecursiveCharacterTextSplitter\n",
    "from langchain_openai import OpenAIEmbeddings, ChatOpenAI\n",
    "from langchain_core.runnables import RunnablePassthrough, RunnableParallel\n",
    "from langchain_core.output_parsers import StrOutputParser\n",
    "from langchain_core.runnables.history import BaseChatMessageHistory, RunnableWithMessageHistory\n",
    "\n",
    "# PDF 파일 로드 및 처리\n",
    "loader = PyPDFLoader(r\"../data/대한민국헌법(헌법)(제00010호)(19880225).pdf\")\n",
    "\n",
    "# 1,000자씩 분할하여 Document 객체 형태로 docs에 저장\n",
    "pages = loader.load_and_split()\n",
    "text_splitter = RecursiveCharacterTextSplitter(chunk_size=1000, chunk_overlap=0)\n",
    "docs = text_splitter.split_documents(pages)\n",
    "\n",
    "# Chroma 벡터 저장소 설정 및 retriever 생성\n",
    "vectorstore = Chroma.from_documents(docs, OpenAIEmbeddings(model='text-embedding-3-small'))\n",
    "retriever = vectorstore.as_retriever()"
   ]
  },
  {
   "cell_type": "markdown",
   "id": "92c04c57-9767-4fdb-95d7-2bf9a9275f39",
   "metadata": {
    "id": "92c04c57-9767-4fdb-95d7-2bf9a9275f39"
   },
   "source": [
    "**[채팅 히스토리와 사용자 질문 통합]**"
   ]
  },
  {
   "cell_type": "code",
   "execution_count": null,
   "id": "323a468b-d404-4e50-b231-9905ba997f33",
   "metadata": {
    "id": "323a468b-d404-4e50-b231-9905ba997f33"
   },
   "outputs": [],
   "source": [
    "from langchain.chains.combine_documents import create_stuff_documents_chain\n",
    "from langchain.chains import create_history_aware_retriever, create_retrieval_chain\n",
    "from langchain.prompts import ChatPromptTemplate, MessagesPlaceholder\n",
    "\n",
    "# Define the contextualize question prompt\n",
    "contextualize_q_system_prompt = \"\"\"Given a chat history and the latest user question \\\n",
    "which might reference context in the chat history, formulate a standalone question \\\n",
    "which can be understood without the chat history. Do NOT answer the question, \\\n",
    "just reformulate it if needed and otherwise return it as is.\"\"\"\n",
    "\n",
    "contextualize_q_prompt = ChatPromptTemplate.from_messages(\n",
    "    [\n",
    "        (\"system\", contextualize_q_system_prompt),\n",
    "        MessagesPlaceholder(\"chat_history\"),\n",
    "        (\"human\", \"{input}\"),\n",
    "    ]\n",
    ")\n",
    "history_aware_retriever = create_history_aware_retriever(llm, retriever, contextualize_q_prompt)"
   ]
  },
  {
   "cell_type": "code",
   "execution_count": null,
   "id": "67316916-3095-478a-853f-814a052494e1",
   "metadata": {
    "id": "67316916-3095-478a-853f-814a052494e1"
   },
   "outputs": [],
   "source": [
    "from langchain_core.messages import AIMessage, HumanMessage\n",
    "\n",
    "contextualize_q_prompt = ChatPromptTemplate.from_messages(\n",
    "    [\n",
    "        (\"system\", contextualize_q_system_prompt),\n",
    "        MessagesPlaceholder(\"chat_history\"),\n",
    "        (\"human\", \"{input}\"),\n",
    "    ]\n",
    ")\n",
    "\n",
    "chat_history = [\n",
    "    HumanMessage(content='대통령의 임기는 몇년이야?'),\n",
    "    AIMessage(content='대통령의 임기는 5년입니다.')\n",
    "]\n",
    "\n",
    "contextualize_q_prompt.invoke({\"input\":\"국회의원은?\", \"chat_history\" : chat_history})"
   ]
  },
  {
   "cell_type": "code",
   "execution_count": null,
   "id": "3249c035-9f7d-4722-bd8c-f5bd87f99b58",
   "metadata": {
    "id": "3249c035-9f7d-4722-bd8c-f5bd87f99b58"
   },
   "outputs": [],
   "source": [
    "history_aware_retriever = create_history_aware_retriever(llm, retriever, contextualize_q_prompt)\n",
    "result = history_aware_retriever.invoke({\"input\":\"국회의원은?\", \"chat_history\" : chat_history})\n",
    "for i in range(len(result)):\n",
    "    print(f\"{i+1}번째 유사 청크\")\n",
    "    print(result[i].page_content[:250])\n",
    "    print(\"-\"*100)"
   ]
  },
  {
   "cell_type": "markdown",
   "id": "ba3b634e-f714-40d0-9b88-627560d2913a",
   "metadata": {
    "id": "ba3b634e-f714-40d0-9b88-627560d2913a"
   },
   "source": [
    "**[RAG 체인 구축]**"
   ]
  },
  {
   "cell_type": "code",
   "execution_count": null,
   "id": "723a8a4d-cead-49b8-9fb4-e27b2f27b776",
   "metadata": {
    "id": "723a8a4d-cead-49b8-9fb4-e27b2f27b776"
   },
   "outputs": [],
   "source": [
    "from langchain.chains import create_retrieval_chain\n",
    "from langchain.chains.combine_documents import create_stuff_documents_chain\n",
    "\n",
    "qa_system_prompt = \"\"\"You are an assistant for question-answering tasks. \\\n",
    "Use the following pieces of retrieved context to answer the question. \\\n",
    "If you don't know the answer, just say that you don't know. \\\n",
    "Use three sentences maximum and keep the answer concise.\\\n",
    "\n",
    "{context}\"\"\"\n",
    "qa_prompt = ChatPromptTemplate.from_messages(\n",
    "    [\n",
    "        (\"system\", qa_system_prompt),\n",
    "        MessagesPlaceholder(\"chat_history\"),\n",
    "        (\"human\", \"{input}\"),\n",
    "    ]\n",
    ")\n",
    "\n",
    "\n",
    "question_answer_chain = create_stuff_documents_chain(llm, qa_prompt)\n",
    "\n",
    "rag_chain = create_retrieval_chain(history_aware_retriever, question_answer_chain)"
   ]
  },
  {
   "cell_type": "markdown",
   "id": "f6e8b901-474c-453e-bb75-f0338592d2d1",
   "metadata": {
    "id": "f6e8b901-474c-453e-bb75-f0338592d2d1"
   },
   "source": [
    "**[RAG 체인 사용 방법 및 채팅 히스토리 기록]**"
   ]
  },
  {
   "cell_type": "code",
   "execution_count": null,
   "id": "8a98e916-b526-43f7-89c3-820d7980c8ce",
   "metadata": {
    "id": "8a98e916-b526-43f7-89c3-820d7980c8ce"
   },
   "outputs": [],
   "source": [
    "from langchain_core.messages import HumanMessage\n",
    "#채팅 히스토리를 적재하기 위한 리스트\n",
    "chat_history = []\n",
    "\n",
    "question = \"대통령의 임기는 몇년이야?\"\n",
    "#첫 질문에 답변하기 위한 rag_chain 실행\n",
    "ai_msg_1 = rag_chain.invoke({\"input\": question, \"chat_history\": chat_history})\n",
    "#첫 질문과 답변을 채팅 히스토리로 저장\n",
    "chat_history.extend([HumanMessage(content=question), ai_msg_1[\"answer\"]])\n",
    "\n",
    "second_question = \"국회의원은?\"\n",
    "#두번째 질문 입력 시에는 첫번째 질문-답변이 저장된 chat_history가 삽입됨\n",
    "ai_msg_2 = rag_chain.invoke({\"input\": second_question, \"chat_history\": chat_history})\n",
    "\n",
    "print(ai_msg_2[\"answer\"])"
   ]
  },
  {
   "cell_type": "markdown",
   "id": "4bfb6804-ac68-4165-b7a8-1d08f76ddd30",
   "metadata": {
    "id": "4bfb6804-ac68-4165-b7a8-1d08f76ddd30"
   },
   "source": [
    "**[채팅 세션별 기록 자동 저장 RAG 체인 구축]**"
   ]
  },
  {
   "cell_type": "code",
   "execution_count": null,
   "id": "444db360-b4db-4e8b-88a2-945df01b21f0",
   "metadata": {
    "id": "444db360-b4db-4e8b-88a2-945df01b21f0"
   },
   "outputs": [],
   "source": [
    "from langchain_community.chat_message_histories import ChatMessageHistory\n",
    "from langchain_core.chat_history import BaseChatMessageHistory\n",
    "from langchain_core.runnables.history import RunnableWithMessageHistory\n",
    "\n",
    "#채팅 세션별 기록 저장 위한 Dictionary 선언\n",
    "store = {}\n",
    "\n",
    "#주어진 session_id 값에 매칭되는 채팅 히스토리 가져오는 함수 선언\n",
    "def get_session_history(session_id: str) -> BaseChatMessageHistory:\n",
    "    if session_id not in store:\n",
    "        store[session_id] = ChatMessageHistory()\n",
    "    return store[session_id]\n",
    "\n",
    "\n",
    "#RunnableWithMessageHistory 모듈로 rag_chain에 채팅 기록 세션별로 자동 저장 기능 추가\n",
    "conversational_rag_chain = RunnableWithMessageHistory(\n",
    "    rag_chain,\n",
    "    get_session_history,\n",
    "    input_messages_key=\"input\",\n",
    "    history_messages_key=\"chat_history\",\n",
    "    output_messages_key=\"answer\",\n",
    ")"
   ]
  },
  {
   "cell_type": "code",
   "execution_count": null,
   "id": "e7a90b19-e07d-4bcb-9b80-50e68689ba6a",
   "metadata": {
    "id": "e7a90b19-e07d-4bcb-9b80-50e68689ba6a"
   },
   "outputs": [],
   "source": [
    "conversational_rag_chain.invoke(\n",
    "    {\"input\": \"대통령의 임기는 몇년이야?\"},\n",
    "    config={\n",
    "        \"configurable\": {\"session_id\": \"240510101\"}\n",
    "    },  # constructs a key \"abc123\" in `store`.\n",
    ")[\"answer\"]"
   ]
  },
  {
   "cell_type": "code",
   "execution_count": null,
   "id": "7adf1939-1b83-4735-a18f-1fb54e875d0a",
   "metadata": {
    "id": "7adf1939-1b83-4735-a18f-1fb54e875d0a"
   },
   "outputs": [],
   "source": [
    "conversational_rag_chain.invoke(\n",
    "    {\"input\": \"국회의원은?\"},\n",
    "    config={\"configurable\": {\"session_id\": \"240510101\"}},\n",
    ")[\"answer\"]\n"
   ]
  },
  {
   "cell_type": "markdown",
   "id": "c8c28ec1-8aae-4c51-a49e-a1b248a7063c",
   "metadata": {
    "id": "c8c28ec1-8aae-4c51-a49e-a1b248a7063c"
   },
   "source": [
    "### **Open Source LLM으로 RAG 시스템 구축하기**"
   ]
  },
  {
   "cell_type": "markdown",
   "id": "f5c322a4-1235-4360-be64-2679801596fe",
   "metadata": {
    "id": "f5c322a4-1235-4360-be64-2679801596fe"
   },
   "source": [
    "**책에 명시된 Ollama 세팅 및 EEVE 모델 다운로드가 완료되어야 실행 가능한 셀입니다.**"
   ]
  },
  {
   "cell_type": "code",
   "execution_count": null,
   "id": "3fc54d34-b9f5-4727-9c4c-0e6d63a0c4b7",
   "metadata": {},
   "outputs": [],
   "source": [
    "import torch\n",
    "\n",
    "# PyTorch 버전 확인\n",
    "print(f\"PyTorch 버전: {torch.__version__}\")\n",
    "\n",
    "# CUDA 버전 확인 (CUDA를 사용할 수 있는 경우)\n",
    "if torch.cuda.is_available():\n",
    "    print(f\"CUDA 버전: {torch.version.cuda}\")\n",
    "else:\n",
    "    print(\"CUDA를 사용할 수 없습니다.\")\n",
    "\n",
    "# CUDA 사용 가능 여부 및 디바이스 설정\n",
    "if torch.cuda.is_available():\n",
    "    device = torch.device(\"cuda\")\n",
    "    print(f\"CUDA를 사용할 수 있습니다. 사용 가능한 GPU: {torch.cuda.get_device_name(0)}\")\n",
    "else:\n",
    "    device = torch.device(\"cpu\")\n",
    "    print(\"CUDA를 사용할 수 없습니다. CPU를 사용합니다.\")\n",
    "\n",
    "print(f\"현재 사용 중인 디바이스: {device}\")"
   ]
  },
  {
   "cell_type": "code",
   "execution_count": null,
   "id": "e9c55fee-116a-4735-b9e8-8cd055d8f314",
   "metadata": {
    "id": "e9c55fee-116a-4735-b9e8-8cd055d8f314"
   },
   "outputs": [],
   "source": [
    "from langchain_ollama import ChatOllama\n",
    "from langchain_core.output_parsers import StrOutputParser\n",
    "from langchain_core.prompts import ChatPromptTemplate\n",
    "\n",
    "llm = ChatOllama(model=\"EEVE-Korean-10.8B:latest\")\n",
    "prompt = ChatPromptTemplate.from_template(\"{topic}에 대한 짧은 농담을 들려주세요. \")\n",
    "\n",
    "chain = prompt | llm | StrOutputParser()\n",
    "\n",
    "print(chain.invoke({\"topic\": \"우주여행\"}))"
   ]
  },
  {
   "cell_type": "markdown",
   "id": "d1897d73-f8ee-4c1b-97cf-e6e565dfe846",
   "metadata": {
    "id": "d1897d73-f8ee-4c1b-97cf-e6e565dfe846"
   },
   "source": [
    "**모든 요소를 Open Source로 RAG 체인 구축하기**"
   ]
  },
  {
   "cell_type": "code",
   "execution_count": null,
   "id": "f3cd82d3-88d4-40d4-8408-ad009c5ae492",
   "metadata": {
    "id": "f3cd82d3-88d4-40d4-8408-ad009c5ae492"
   },
   "outputs": [],
   "source": [
    "Chroma().delete_collection()"
   ]
  },
  {
   "cell_type": "code",
   "execution_count": null,
   "id": "5285df39-7b8e-4b9a-9522-7eb860ac334b",
   "metadata": {
    "id": "5285df39-7b8e-4b9a-9522-7eb860ac334b"
   },
   "outputs": [],
   "source": [
    "from langchain.document_loaders import PyPDFLoader\n",
    "from langchain_text_splitters import RecursiveCharacterTextSplitter\n",
    "from langchain.embeddings import HuggingFaceEmbeddings\n",
    "from langchain.vectorstores import Chroma\n",
    "from langchain_ollama import ChatOllama\n",
    "from langchain import hub\n",
    "from langchain_core.runnables import RunnablePassthrough\n",
    "from langchain_core.output_parsers import StrOutputParser\n",
    "\n",
    "loader = PyPDFLoader(r\"../data/대한민국헌법(헌법)(제00010호)(19880225).pdf\")\n",
    "pages = loader.load_and_split()\n",
    "\n",
    "text_splitter = RecursiveCharacterTextSplitter(chunk_size=500, chunk_overlap=0)\n",
    "docs = text_splitter.split_documents(pages)\n",
    "\n",
    "model_name = \"jhgan/ko-sbert-nli\"\n",
    "model_kwargs = {'device': 'CUDA'}\n",
    "encode_kwargs = {'normalize_embeddings': True}\n",
    "\n",
    "embedding = HuggingFaceEmbeddings(\n",
    "    model_name=model_name,\n",
    "    model_kwargs=model_kwargs,\n",
    "    encode_kwargs=encode_kwargs\n",
    ")\n",
    "\n",
    "vectorstore = Chroma.from_documents(docs, embedding)\n",
    "retriever = vectorstore.as_retriever()\n",
    "\n",
    "prompt = hub.pull(\"rlm/rag-prompt\")\n",
    "\n",
    "def format_docs(docs):\n",
    "    return \"\\n\\n\".join(doc.page_content for doc in docs)\n",
    "\n",
    "rag_chain = (\n",
    "    {\"context\": retriever|format_docs, \"question\": RunnablePassthrough()}\n",
    "    | prompt\n",
    "    | llm\n",
    "    | StrOutputParser()\n",
    ")"
   ]
  },
  {
   "cell_type": "markdown",
   "id": "8b73b1e4-8aad-4992-91ec-b9c9f2b0b4dc",
   "metadata": {
    "id": "8b73b1e4-8aad-4992-91ec-b9c9f2b0b4dc"
   },
   "source": [
    "**[rag_chain 답변 스트리밍하기]**"
   ]
  },
  {
   "cell_type": "code",
   "execution_count": null,
   "id": "99ffb051-4bcb-4e44-97dd-333972430407",
   "metadata": {
    "id": "99ffb051-4bcb-4e44-97dd-333972430407"
   },
   "outputs": [],
   "source": [
    "for chunk in rag_chain.stream(\"헌법 제 1조 1항이 뭐야\"):\n",
    "    print(chunk, end=\"\", flush=True)"
   ]
  }
 ],
 "metadata": {
  "colab": {
   "provenance": []
  },
  "kernelspec": {
   "display_name": "ruby",
   "language": "python",
   "name": "ruby"
  },
  "language_info": {
   "codemirror_mode": {
    "name": "ipython",
    "version": 3
   },
   "file_extension": ".py",
   "mimetype": "text/x-python",
   "name": "python",
   "nbconvert_exporter": "python",
   "pygments_lexer": "ipython3",
   "version": "3.12.7"
  }
 },
 "nbformat": 4,
 "nbformat_minor": 5
}
