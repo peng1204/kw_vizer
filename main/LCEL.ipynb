{
 "cells": [
  {
   "cell_type": "markdown",
   "id": "c3ea3977-3ec4-4306-9161-6b5ce2ed9419",
   "metadata": {
    "id": "c3ea3977-3ec4-4306-9161-6b5ce2ed9419"
   },
   "source": [
    "## **Langchain을 표현하는 언어, LCEL**"
   ]
  },
  {
   "cell_type": "markdown",
   "id": "0af20af5-b90c-4dc5-a5b3-98ec344efc56",
   "metadata": {
    "id": "0af20af5-b90c-4dc5-a5b3-98ec344efc56"
   },
   "source": [
    "**[LCEL로 기본 체인 구성하기]**"
   ]
  },
  {
   "cell_type": "code",
   "execution_count": null,
   "id": "f77edeeb-8a23-473e-a88a-fe92bb1d8e14",
   "metadata": {
    "id": "f77edeeb-8a23-473e-a88a-fe92bb1d8e14"
   },
   "outputs": [],
   "source": [
    "import os\n",
    "os.environ[\"OPENAI_API_KEY\"] = \"YOUR_OPENAI_API_KEY\""
   ]
  },
  {
   "cell_type": "code",
   "execution_count": null,
   "id": "d790c91c-13d8-4e63-9327-69ec498b8a89",
   "metadata": {
    "id": "d790c91c-13d8-4e63-9327-69ec498b8a89"
   },
   "outputs": [],
   "source": [
    "# #필수 라이브러리 설치\n",
    "# !pip install --upgrade --quiet langchain openai langchain-core langchain-openai"
   ]
  },
  {
   "cell_type": "code",
   "execution_count": null,
   "id": "40b5ba43-bc2e-4190-99ae-ebc00a5d7029",
   "metadata": {
    "id": "40b5ba43-bc2e-4190-99ae-ebc00a5d7029"
   },
   "outputs": [],
   "source": [
    "from langchain_core.output_parsers import StrOutputParser\n",
    "from langchain_core.prompts import ChatPromptTemplate\n",
    "from langchain_openai import ChatOpenAI\n",
    "\n",
    "#프롬프트 템플릿 설정\n",
    "prompt = ChatPromptTemplate.from_template(\"tell me a short joke about {topic}\")\n",
    "\n",
    "#LLM 호출\n",
    "model = ChatOpenAI(model=\"gpt-4o-mini\")\n",
    "\n",
    "#출력 파서 설정\n",
    "output_parser = StrOutputParser()\n",
    "\n",
    "#LCEL로 프롬프트템플릿-LLM-출력 파서 연결하기\n",
    "chain = prompt | model | output_parser\n",
    "\n",
    "#invoke함수로 chain 실행하기\n",
    "chain.invoke({\"topic\": \"ice cream\"})"
   ]
  },
  {
   "cell_type": "markdown",
   "id": "6c8b8b84-b729-44d3-8ca5-1bc97a862d6c",
   "metadata": {
    "id": "6c8b8b84-b729-44d3-8ca5-1bc97a862d6c"
   },
   "source": [
    "**[Streaming 기능 추가를 더욱 쉽게, stream()]**"
   ]
  },
  {
   "cell_type": "code",
   "execution_count": null,
   "id": "d775f392-7cc0-49d3-9328-a5417bfcedb9",
   "metadata": {
    "id": "d775f392-7cc0-49d3-9328-a5417bfcedb9"
   },
   "outputs": [],
   "source": [
    "from langchain.prompts import ChatPromptTemplate\n",
    "from langchain_openai import ChatOpenAI\n",
    "\n",
    "#Chain 선언\n",
    "model = ChatOpenAI(model=\"gpt-4o-mini\")\n",
    "prompt = ChatPromptTemplate.from_template(\"tell me a joke about {topic}\")\n",
    "chain = prompt | model\n",
    "\n",
    "#Chain의 stream()함수를 통해 스트리밍 기능 추가\n",
    "for s in chain.stream({\"topic\": \"bears\"}):\n",
    "    print(s.content, end=\"\", flush=True)"
   ]
  },
  {
   "cell_type": "markdown",
   "id": "29c95df4-97eb-436e-bc7c-49e5ef6bcfc6",
   "metadata": {
    "id": "29c95df4-97eb-436e-bc7c-49e5ef6bcfc6"
   },
   "source": [
    "**[한꺼번에 여러 개 API 요청하고 답변 받기, batch()]**"
   ]
  },
  {
   "cell_type": "markdown",
   "id": "00ed14ec-6976-4dcb-885e-3e3881db709a",
   "metadata": {
    "id": "00ed14ec-6976-4dcb-885e-3e3881db709a"
   },
   "source": [
    "- 5개 문장 번역 batch 수행"
   ]
  },
  {
   "cell_type": "code",
   "execution_count": null,
   "id": "e8acd216-87fb-4d1c-9de6-4e0a586e9889",
   "metadata": {
    "id": "e8acd216-87fb-4d1c-9de6-4e0a586e9889",
    "scrolled": true
   },
   "outputs": [],
   "source": [
    "%%time\n",
    "model = ChatOpenAI(model=\"gpt-4o-mini\")\n",
    "prompt = ChatPromptTemplate.from_template(\"다음 한글 문장을 프랑스어로 번역해줘 {sentence}\")\n",
    "chain = prompt | model\n",
    "\n",
    "chain.batch([\n",
    "    {\"sentence\": \"그녀는 매일 아침 책을 읽습니다.\"},\n",
    "    {\"sentence\": \"오늘 날씨가 참 좋네요.\"},\n",
    "    {\"sentence\": \"저녁에 친구들과 영화를 볼 거예요.\"},\n",
    "    {\"sentence\": \"그 학생은 매우 성실하게 공부합니다.\"},\n",
    "    {\"sentence\": \"커피 한 잔이 지금 딱 필요해요.\"}\n",
    "\n",
    "])"
   ]
  },
  {
   "cell_type": "markdown",
   "id": "c8525cc5-caa8-4768-b8ad-a3136c098738",
   "metadata": {
    "id": "c8525cc5-caa8-4768-b8ad-a3136c098738"
   },
   "source": [
    "- 1개 문장 번역 invoke 수행"
   ]
  },
  {
   "cell_type": "code",
   "execution_count": null,
   "id": "6fc3a3d6-f717-4782-9ed7-537bd32ddddb",
   "metadata": {
    "id": "6fc3a3d6-f717-4782-9ed7-537bd32ddddb"
   },
   "outputs": [],
   "source": [
    "%%time\n",
    "model = ChatOpenAI(model = 'gpt-4o-mini')\n",
    "prompt = ChatPromptTemplate.from_template(\"다음 한글 문장을 프랑스어로 번역해줘 {sentence}\")\n",
    "chain = prompt | model\n",
    "\n",
    "chain.invoke({\"sentence\": \"그녀는 매일 아침 책을 읽습니다.\"})"
   ]
  },
  {
   "cell_type": "code",
   "execution_count": null,
   "id": "c7f084d6-f035-4a12-937d-b192e9678180",
   "metadata": {
    "id": "c7f084d6-f035-4a12-937d-b192e9678180"
   },
   "outputs": [],
   "source": []
  }
 ],
 "metadata": {
  "colab": {
   "provenance": []
  },
  "kernelspec": {
   "display_name": "Python 3 (ipykernel)",
   "language": "python",
   "name": "python3"
  },
  "language_info": {
   "codemirror_mode": {
    "name": "ipython",
    "version": 3
   },
   "file_extension": ".py",
   "mimetype": "text/x-python",
   "name": "python",
   "nbconvert_exporter": "python",
   "pygments_lexer": "ipython3",
   "version": "3.12.7"
  }
 },
 "nbformat": 4,
 "nbformat_minor": 5
}
