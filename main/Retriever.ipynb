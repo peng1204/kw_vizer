{
 "cells": [
  {
   "cell_type": "markdown",
   "id": "f5b4402e-7664-4f50-8286-9ba1807d6b77",
   "metadata": {
    "id": "f5b4402e-7664-4f50-8286-9ba1807d6b77"
   },
   "source": [
    "## **RAG의 핵심, 문서 검색기 Retriever**"
   ]
  },
  {
   "cell_type": "code",
   "execution_count": null,
   "id": "JZCJ02NErq4D",
   "metadata": {
    "id": "JZCJ02NErq4D"
   },
   "outputs": [],
   "source": [
    "# !pip install -q langchain tiktoken langchain-text-splitters langchain-openai langchain-chroma pypdf"
   ]
  },
  {
   "cell_type": "markdown",
   "id": "1524da28-f2e3-43cb-9637-eb1500817c34",
   "metadata": {
    "id": "1524da28-f2e3-43cb-9637-eb1500817c34"
   },
   "source": [
    "### **Retriever의 기본형, 벡터DB 기반 Retriever**"
   ]
  },
  {
   "cell_type": "markdown",
   "id": "c67ba141-5130-4d69-ac0d-e06c6879d0f1",
   "metadata": {
    "id": "c67ba141-5130-4d69-ac0d-e06c6879d0f1"
   },
   "source": [
    "**Chroma 벡터 DB 기반 기본 유사 문서 검색**"
   ]
  },
  {
   "cell_type": "code",
   "execution_count": null,
   "id": "4cdf9cdf-f88d-49d5-9c6f-4b7c847c04a4",
   "metadata": {
    "id": "4cdf9cdf-f88d-49d5-9c6f-4b7c847c04a4",
    "scrolled": true
   },
   "outputs": [],
   "source": [
    "from langchain.document_loaders import PyPDFLoader\n",
    "from langchain_text_splitters import RecursiveCharacterTextSplitter\n",
    "from langchain_openai import OpenAIEmbeddings\n",
    "from langchain_chroma import Chroma\n",
    "import os\n",
    "Chroma().delete_collection()\n",
    "os.environ[\"OPENAI_API_KEY\"] = \"YOUR_OPENAI_API_KEY\"\n",
    "\n",
    "#헌법 PDF 파일 로드\n",
    "loader = PyPDFLoader(r\"../data/대한민국헌법(헌법)(제00010호)(19880225).pdf\")\n",
    "pages = loader.load_and_split()\n",
    "\n",
    "#PDF 파일을 500자 청크로 분할\n",
    "text_splitter = RecursiveCharacterTextSplitter(chunk_size=500, chunk_overlap=0)\n",
    "docs = text_splitter.split_documents(pages)\n",
    "\n",
    "#ChromaDB에 청크들을 벡터 임베딩으로 저장(OpenAI 임베딩 모델 활용)\n",
    "db = Chroma.from_documents(docs, OpenAIEmbeddings(model = 'text-embedding-3-small'))\n",
    "\n",
    "#Chroma를 Retriever로 활용\n",
    "retriever = db.as_retriever()\n",
    "retriever.invoke(\"국회의원의 의무\")"
   ]
  },
  {
   "cell_type": "markdown",
   "id": "254d0774-053e-4be5-af3f-961100df2e5c",
   "metadata": {
    "id": "254d0774-053e-4be5-af3f-961100df2e5c"
   },
   "source": [
    "**(1) 유사도 점수도 함께 출력하기**"
   ]
  },
  {
   "cell_type": "code",
   "execution_count": null,
   "id": "1b073504-7fa7-45b1-82f7-9c1c2fc5a043",
   "metadata": {
    "id": "1b073504-7fa7-45b1-82f7-9c1c2fc5a043",
    "scrolled": true
   },
   "outputs": [],
   "source": [
    "result_score = db.similarity_search_with_score(\"국회의원의 의무\")\n",
    "result_r_score = db.similarity_search_with_relevance_scores(\"국회의원의 의무\")\n",
    "\n",
    "print(\"[유사 청크 1순위]\")\n",
    "print(result_score[0][0].page_content)\n",
    "\n",
    "print(\"\\n\\n[점수]\")\n",
    "print(result_score[0][1])\n",
    "print(result_r_score[0][1])"
   ]
  },
  {
   "cell_type": "markdown",
   "id": "ff67e922-2072-4595-ac4f-63eb5d8375af",
   "metadata": {
    "id": "ff67e922-2072-4595-ac4f-63eb5d8375af"
   },
   "source": [
    "**(2) 검색 결과 수 및 조정**"
   ]
  },
  {
   "cell_type": "code",
   "execution_count": null,
   "id": "0d63f235-6502-4a8d-99df-27fc8a06fdf2",
   "metadata": {
    "id": "0d63f235-6502-4a8d-99df-27fc8a06fdf2"
   },
   "outputs": [],
   "source": [
    "#유사 청크 1개만 반환\n",
    "retriever = db.as_retriever(search_kwargs={\"k\": 1})\n",
    "retriever.invoke(\"국회의원의 의무\")"
   ]
  },
  {
   "cell_type": "markdown",
   "id": "e9e0e349-cdb4-415d-8cfe-ffed753a50dd",
   "metadata": {
    "id": "e9e0e349-cdb4-415d-8cfe-ffed753a50dd"
   },
   "source": [
    "**(3) 검색 방식 변경 - MMR**"
   ]
  },
  {
   "cell_type": "code",
   "execution_count": null,
   "id": "d3cd593f-2445-4a39-be66-596413ebcab8",
   "metadata": {
    "id": "d3cd593f-2445-4a39-be66-596413ebcab8"
   },
   "outputs": [],
   "source": [
    "from langchain.document_loaders import PyPDFLoader\n",
    "from langchain_text_splitters import RecursiveCharacterTextSplitter\n",
    "from langchain_openai import OpenAIEmbeddings\n",
    "from langchain_chroma import Chroma\n",
    "\n",
    "#헌법 PDF 파일 로드\n",
    "loader = PyPDFLoader(r\"../data/대한민국헌법(헌법)(제00010호)(19880225).pdf\")\n",
    "pages = loader.load_and_split()\n",
    "\n",
    "#PDF 파일을 500자 청크로 분할\n",
    "text_splitter = RecursiveCharacterTextSplitter(chunk_size=500, chunk_overlap=0)\n",
    "docs = text_splitter.split_documents(pages)\n",
    "\n",
    "#ChromaDB에 청크들을 벡터 임베딩으로 저장(OpenAI 임베딩 모델 활용)\n",
    "db = Chroma.from_documents(docs, OpenAIEmbeddings(model = 'text-embedding-3-small'))"
   ]
  },
  {
   "cell_type": "code",
   "execution_count": null,
   "id": "1e98b705-bc74-4251-b643-1f7abe12f959",
   "metadata": {
    "id": "1e98b705-bc74-4251-b643-1f7abe12f959"
   },
   "outputs": [],
   "source": [
    "#Chroma를 Retriever로 활용\n",
    "retriever = db.as_retriever(\n",
    "    search_type=\"mmr\",\n",
    "    search_kwargs = {\"lambda_mult\": 0, \"fetch_k\":10, \"k\":3}\n",
    ")\n",
    "retriever.invoke(\"국회의원의 의무\")"
   ]
  },
  {
   "cell_type": "markdown",
   "id": "c6c5d7d1-df93-4473-9eb6-2d8efd8300ca",
   "metadata": {
    "id": "c6c5d7d1-df93-4473-9eb6-2d8efd8300ca"
   },
   "source": [
    "**일반 유사도 검색 방식**"
   ]
  },
  {
   "cell_type": "code",
   "execution_count": null,
   "id": "28c99b8b-ab6b-4b90-abce-ef9757c33edc",
   "metadata": {
    "id": "28c99b8b-ab6b-4b90-abce-ef9757c33edc"
   },
   "outputs": [],
   "source": [
    "#Chroma를 Retriever로 활용\n",
    "retriever = db.as_retriever(search_kwargs = {\"k\":3})\n",
    "retriever.get_relevant_documents(\"국회의원의 의무\")\n"
   ]
  },
  {
   "cell_type": "markdown",
   "id": "f39d3627-574a-4b40-9153-3e5607b22d28",
   "metadata": {
    "id": "f39d3627-574a-4b40-9153-3e5607b22d28"
   },
   "source": [
    "### **사용자의 쿼리를 재해석하여 검색하다, MultiQueryRetriever**"
   ]
  },
  {
   "cell_type": "markdown",
   "id": "b827c04e-5c8d-4fb6-8765-f260147e32a7",
   "metadata": {
    "id": "b827c04e-5c8d-4fb6-8765-f260147e32a7"
   },
   "source": [
    "**Chroma DB에 문서 벡터 저장**"
   ]
  },
  {
   "cell_type": "code",
   "execution_count": null,
   "id": "c94f53e7-088b-4927-ab60-30055b1659c3",
   "metadata": {
    "id": "c94f53e7-088b-4927-ab60-30055b1659c3"
   },
   "outputs": [],
   "source": [
    "from langchain.document_loaders import PyPDFLoader\n",
    "from langchain_text_splitters import RecursiveCharacterTextSplitter\n",
    "from langchain_openai import OpenAIEmbeddings\n",
    "from langchain_chroma import Chroma\n",
    "\n",
    "#헌법 PDF 파일 로드\n",
    "loader = PyPDFLoader(r\"../data/대한민국헌법(헌법)(제00010호)(19880225).pdf\")\n",
    "pages = loader.load_and_split()\n",
    "\n",
    "#PDF 파일을 500자 청크로 분할\n",
    "text_splitter = RecursiveCharacterTextSplitter(chunk_size=500, chunk_overlap=0)\n",
    "docs = text_splitter.split_documents(pages)\n",
    "\n",
    "#ChromaDB에 청크들을 벡터 임베딩으로 저장(OpenAI 임베딩 모델 활용)\n",
    "db = Chroma.from_documents(docs, OpenAIEmbeddings(model = 'text-embedding-3-small'))"
   ]
  },
  {
   "cell_type": "markdown",
   "id": "32afbeb6-fe95-4056-82a1-4575bbcb80d5",
   "metadata": {
    "id": "32afbeb6-fe95-4056-82a1-4575bbcb80d5"
   },
   "source": [
    "**질문을 여러 버전으로 재해석하여 Retriever에 활용**"
   ]
  },
  {
   "cell_type": "code",
   "execution_count": null,
   "id": "d07f336e-18b5-474f-891c-036f8d944a9c",
   "metadata": {
    "id": "d07f336e-18b5-474f-891c-036f8d944a9c"
   },
   "outputs": [],
   "source": [
    "#```Chroma DB에 대한민국 헌법 PDF 임베딩 변환 및 저장하는 과정은 위 셀에 있습니다```\n",
    "from langchain.retrievers.multi_query import MultiQueryRetriever\n",
    "from langchain_openai import ChatOpenAI\n",
    "\n",
    "#질문 문장 question으로 저장\n",
    "question = \"국회의원의 의무는 무엇이 있나요?\"\n",
    "#여러 버전의 질문으로 변환하는 역할을 맡을 LLM 선언\n",
    "llm = ChatOpenAI(model_name=\"gpt-4o-mini\",\n",
    "                 temperature = 0)\n",
    "#MultiQueryRetriever에 벡터DB 기반 Retriever와 LLM 선언\n",
    "retriever_from_llm = MultiQueryRetriever.from_llm(\n",
    "    retriever=db.as_retriever(), llm=llm\n",
    ")\n",
    "\n",
    "# 여러 버전의 문장 생성 결과를 확인하기 위한 로깅 과정\n",
    "import logging\n",
    "logging.basicConfig()\n",
    "logging.getLogger(\"langchain.retrievers.multi_query\").setLevel(logging.INFO)\n",
    "\n",
    "#여러 버전 질문 생성 결과와 유사 청크 검색 개수 출력\n",
    "unique_docs = retriever_from_llm.invoke(input=question)\n",
    "len(unique_docs)"
   ]
  },
  {
   "cell_type": "markdown",
   "id": "098f4e88-9264-4e41-a7aa-715957c33950",
   "metadata": {
    "id": "098f4e88-9264-4e41-a7aa-715957c33950"
   },
   "source": [
    "### **문서를 여러 벡터로 재해석하다, MultiVectorRetriever**"
   ]
  },
  {
   "cell_type": "markdown",
   "id": "a0cd16eb-fae7-42df-9d30-70f3ef0bc8c9",
   "metadata": {
    "id": "a0cd16eb-fae7-42df-9d30-70f3ef0bc8c9"
   },
   "source": [
    "**Chroma DB에 문서 벡터 저장**"
   ]
  },
  {
   "cell_type": "code",
   "execution_count": null,
   "id": "e650226e-1b22-4259-b2a1-d8ce2f1103ab",
   "metadata": {
    "id": "e650226e-1b22-4259-b2a1-d8ce2f1103ab"
   },
   "outputs": [],
   "source": [
    "from langchain.retrievers.multi_vector import MultiVectorRetriever\n",
    "from langchain.storage import InMemoryByteStore\n",
    "from langchain_chroma import Chroma\n",
    "from langchain_text_splitters import RecursiveCharacterTextSplitter\n",
    "from langchain.document_loaders import PyPDFLoader\n",
    "\n",
    "loaders = PyPDFLoader(r\"../data/대한민국헌법(헌법)(제00010호)(19880225).pdf\"),\n",
    "docs = loader.load()\n",
    "text_splitter = RecursiveCharacterTextSplitter(chunk_size=2000)\n",
    "docs = text_splitter.split_documents(docs)"
   ]
  },
  {
   "cell_type": "markdown",
   "id": "fbbd162e-d7de-4eab-94f6-c164c5fc8360",
   "metadata": {
    "id": "fbbd162e-d7de-4eab-94f6-c164c5fc8360"
   },
   "source": [
    "**Multi Vector를 만들기 위한 작업**"
   ]
  },
  {
   "cell_type": "code",
   "execution_count": null,
   "id": "7d446a6f-e53f-40fb-b886-0251cd495935",
   "metadata": {
    "id": "7d446a6f-e53f-40fb-b886-0251cd495935"
   },
   "outputs": [],
   "source": [
    "from langchain.embeddings import HuggingFaceEmbeddings\n",
    "\n",
    "model_name = \"jhgan/ko-sbert-nli\"\n",
    "model_kwargs = {'device': 'cpu'}\n",
    "encode_kwargs = {'normalize_embeddings': True}\n",
    "embedding = HuggingFaceEmbeddings(\n",
    "    model_name=model_name,\n",
    "    model_kwargs=model_kwargs,\n",
    "    encode_kwargs=encode_kwargs\n",
    ")\n",
    "\n",
    "vectorstore = Chroma(\n",
    "    collection_name=\"full_documents\", embedding_function=embedding\n",
    ")\n",
    "# 상위 문서 저장 위한 레이어 선언\n",
    "store = InMemoryByteStore()\n",
    "id_key = \"doc_id\"\n",
    "# 상위 문서와 하위 문서를 연결할 키값으로 doc_id 사용\n",
    "retriever = MultiVectorRetriever(\n",
    "    vectorstore=vectorstore,\n",
    "    byte_store=store,\n",
    "    id_key=id_key,\n",
    ")\n",
    "\n",
    "#문서 id로 고유한 값을 지정하기 위해 uuid 라이브러리 호출\n",
    "import uuid\n",
    "doc_ids = [str(uuid.uuid4()) for _ in docs]"
   ]
  },
  {
   "cell_type": "code",
   "execution_count": null,
   "id": "26158345-63c4-4e8b-b4e9-1388bf3394c4",
   "metadata": {
    "id": "26158345-63c4-4e8b-b4e9-1388bf3394c4"
   },
   "outputs": [],
   "source": [
    "# 하위 청크로 쪼개기 위한 child_text_splitter 지정\n",
    "child_text_splitter = RecursiveCharacterTextSplitter(chunk_size=400)\n",
    "# 상위 청크들을 순회하며 하위 청크로 분할한 후 상위 청크 id 상속\n",
    "sub_docs = []\n",
    "for i, doc in enumerate(docs):\n",
    "    _id = doc_ids[i]\n",
    "    _sub_docs = child_text_splitter.split_documents([doc])\n",
    "    for _doc in _sub_docs:\n",
    "        _doc.metadata[id_key] = _id\n",
    "    sub_docs.extend(_sub_docs)\n",
    "#vectorstore에 하위 청크 추가\n",
    "retriever.vectorstore.add_documents(sub_docs)\n",
    "#docstore에 상위청크 저장할 때, doc_ids 지정\n",
    "retriever.docstore.mset(list(zip(doc_ids, docs)))"
   ]
  },
  {
   "cell_type": "code",
   "execution_count": null,
   "id": "2ce2da81-9344-4712-b77c-0314d1c5b1df",
   "metadata": {
    "id": "2ce2da81-9344-4712-b77c-0314d1c5b1df"
   },
   "outputs": [],
   "source": [
    "# Vectorstore alone retrieves the small chunks\n",
    "print(\"[하위 청크] \\n\")\n",
    "print(retriever.vectorstore.similarity_search(\"국민의 권리\")[0].page_content)\n",
    "print(\"-\"*50)\n",
    "print(\"[상위 청크] \\n\")\n",
    "print(retriever.invoke(\"국민의 권리\")[0].page_content)"
   ]
  },
  {
   "cell_type": "markdown",
   "id": "53ed9410-784b-4e1e-9216-31b17ca62679",
   "metadata": {
    "id": "53ed9410-784b-4e1e-9216-31b17ca62679"
   },
   "source": [
    "### **컨텍스트 재정렬, Long-Context Reorder**"
   ]
  },
  {
   "cell_type": "markdown",
   "id": "24de51ff-30e1-4b07-8799-78eddf2fd34e",
   "metadata": {
    "id": "24de51ff-30e1-4b07-8799-78eddf2fd34e"
   },
   "source": [
    "**[Long-Context Reorder 없이 유사 문서 출력]**"
   ]
  },
  {
   "cell_type": "code",
   "execution_count": null,
   "id": "5eedc1d3-2882-4547-90d4-936590b642da",
   "metadata": {
    "id": "5eedc1d3-2882-4547-90d4-936590b642da"
   },
   "outputs": [],
   "source": [
    "#Chroma dimension 관련 에러 발생 시 실행\n",
    "# Chroma().delete_collection()"
   ]
  },
  {
   "cell_type": "code",
   "execution_count": null,
   "id": "c2576e9d-4b09-4b9f-81f7-bf10828a9bd0",
   "metadata": {
    "id": "c2576e9d-4b09-4b9f-81f7-bf10828a9bd0"
   },
   "outputs": [],
   "source": [
    "from langchain.chains import LLMChain, StuffDocumentsChain\n",
    "from langchain_chroma import Chroma\n",
    "from langchain.document_transformers import (\n",
    "    LongContextReorder,\n",
    ")\n",
    "from langchain.embeddings import HuggingFaceEmbeddings\n",
    "from langchain.prompts import PromptTemplate\n",
    "from langchain_openai import OpenAI\n",
    "\n",
    "Chroma().delete_collection()\n",
    "\n",
    "# 한글 임베딩 모델 선언\n",
    "model_name = \"jhgan/ko-sbert-nli\"\n",
    "model_kwargs = {'device': 'cpu'}\n",
    "encode_kwargs = {'normalize_embeddings': True}\n",
    "embedding = HuggingFaceEmbeddings(\n",
    "    model_name=model_name,\n",
    "    model_kwargs=model_kwargs,\n",
    "    encode_kwargs=encode_kwargs\n",
    ")\n",
    "\n",
    "texts = [\n",
    "    \"바스켓볼은 훌륭한 스포츠입니다.\",\n",
    "    \"플라이 미 투 더 문은 제가 가장 좋아하는 노래 중 하나입니다.\",\n",
    "    \"셀틱스는 제가 가장 좋아하는 팀입니다.\",\n",
    "    \"이것은 보스턴 셀틱스에 관한 문서입니다.\"\n",
    "    \"저는 단순히 영화 보러 가는 것을 좋아합니다\",\n",
    "    \"보스턴 셀틱스가 20점차로 이겼어요\",\n",
    "    \"이것은 그냥 임의의 텍스트입니다.\",\n",
    "    \"엘든 링은 지난 15 년 동안 최고의 게임 중 하나입니다.\",\n",
    "    \"L. 코넷은 최고의 셀틱스 선수 중 한 명입니다.\",\n",
    "    \"래리 버드는 상징적인 NBA 선수였습니다.\",\n",
    "]\n",
    "# Chroma Retriever 선언(10개의 유사 문서 출력)\n",
    "retriever = Chroma.from_texts(texts, embedding=embedding).as_retriever(\n",
    "    search_kwargs={\"k\": 10}\n",
    ")\n",
    "query = \"셀틱에 대해 설명해줘\"\n",
    "\n",
    "# 유사도 기준으로 검색 결과 출력\n",
    "docs = retriever.invoke(query)\n",
    "docs"
   ]
  },
  {
   "cell_type": "markdown",
   "id": "da360438-90dd-4a51-9a12-9665f9908be1",
   "metadata": {
    "id": "da360438-90dd-4a51-9a12-9665f9908be1"
   },
   "source": [
    "**[Long-Context Reorder 활용하여 유사 문서 출력]**"
   ]
  },
  {
   "cell_type": "code",
   "execution_count": null,
   "id": "9a56f567-ddf3-427e-9203-7b1957a4afe2",
   "metadata": {
    "id": "9a56f567-ddf3-427e-9203-7b1957a4afe2"
   },
   "outputs": [],
   "source": [
    "#LongContextReorder 선언\n",
    "reordering = LongContextReorder()\n",
    "#검색된 유사문서 중 관련도가 높은 문서를 맨앞과 맨뒤에 재정배치\n",
    "reordered_docs = reordering.transform_documents(docs)\n",
    "reordered_docs"
   ]
  },
  {
   "cell_type": "code",
   "execution_count": null,
   "id": "5348d291-016c-431b-85ce-b87e300655b1",
   "metadata": {
    "id": "5348d291-016c-431b-85ce-b87e300655b1"
   },
   "outputs": [],
   "source": []
  }
 ],
 "metadata": {
  "colab": {
   "provenance": []
  },
  "kernelspec": {
   "display_name": "Python 3 (ipykernel)",
   "language": "python",
   "name": "python3"
  },
  "language_info": {
   "codemirror_mode": {
    "name": "ipython",
    "version": 3
   },
   "file_extension": ".py",
   "mimetype": "text/x-python",
   "name": "python",
   "nbconvert_exporter": "python",
   "pygments_lexer": "ipython3",
   "version": "3.12.7"
  }
 },
 "nbformat": 4,
 "nbformat_minor": 5
}
