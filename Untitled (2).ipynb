{
 "cells": [
  {
   "cell_type": "code",
   "execution_count": 1,
   "id": "9aace1e3-cd79-418e-a21a-69b20c01311e",
   "metadata": {
    "scrolled": true
   },
   "outputs": [
    {
     "name": "stdout",
     "output_type": "stream",
     "text": [
      "Requirement already satisfied: langchain in c:\\users\\문선장\\appdata\\local\\programs\\python\\python313\\lib\\site-packages (0.3.23)\n",
      "Requirement already satisfied: langchain-community in c:\\users\\문선장\\appdata\\local\\programs\\python\\python313\\lib\\site-packages (0.3.21)\n",
      "Collecting langchain_openai\n",
      "  Downloading langchain_openai-0.3.16-py3-none-any.whl.metadata (2.3 kB)\n",
      "Requirement already satisfied: langchain_text_splitters in c:\\users\\문선장\\appdata\\local\\programs\\python\\python313\\lib\\site-packages (0.3.8)\n",
      "Collecting sentence_transformers\n",
      "  Using cached sentence_transformers-4.1.0-py3-none-any.whl.metadata (13 kB)\n",
      "Collecting pypdfium2\n",
      "  Downloading pypdfium2-4.30.1-py3-none-win_amd64.whl.metadata (48 kB)\n",
      "Requirement already satisfied: langchain-core<1.0.0,>=0.3.51 in c:\\users\\문선장\\appdata\\local\\programs\\python\\python313\\lib\\site-packages (from langchain) (0.3.51)\n",
      "Requirement already satisfied: langsmith<0.4,>=0.1.17 in c:\\users\\문선장\\appdata\\local\\programs\\python\\python313\\lib\\site-packages (from langchain) (0.3.30)\n",
      "Requirement already satisfied: pydantic<3.0.0,>=2.7.4 in c:\\users\\문선장\\appdata\\local\\programs\\python\\python313\\lib\\site-packages (from langchain) (2.11.3)\n",
      "Requirement already satisfied: SQLAlchemy<3,>=1.4 in c:\\users\\문선장\\appdata\\local\\programs\\python\\python313\\lib\\site-packages (from langchain) (2.0.40)\n",
      "Requirement already satisfied: requests<3,>=2 in c:\\users\\문선장\\appdata\\local\\programs\\python\\python313\\lib\\site-packages (from langchain) (2.32.3)\n",
      "Requirement already satisfied: PyYAML>=5.3 in c:\\users\\문선장\\appdata\\local\\programs\\python\\python313\\lib\\site-packages (from langchain) (6.0.2)\n",
      "Requirement already satisfied: aiohttp<4.0.0,>=3.8.3 in c:\\users\\문선장\\appdata\\local\\programs\\python\\python313\\lib\\site-packages (from langchain-community) (3.11.16)\n",
      "Requirement already satisfied: tenacity!=8.4.0,<10,>=8.1.0 in c:\\users\\문선장\\appdata\\local\\programs\\python\\python313\\lib\\site-packages (from langchain-community) (9.1.2)\n",
      "Requirement already satisfied: dataclasses-json<0.7,>=0.5.7 in c:\\users\\문선장\\appdata\\local\\programs\\python\\python313\\lib\\site-packages (from langchain-community) (0.6.7)\n",
      "Requirement already satisfied: pydantic-settings<3.0.0,>=2.4.0 in c:\\users\\문선장\\appdata\\local\\programs\\python\\python313\\lib\\site-packages (from langchain-community) (2.8.1)\n",
      "Requirement already satisfied: httpx-sse<1.0.0,>=0.4.0 in c:\\users\\문선장\\appdata\\local\\programs\\python\\python313\\lib\\site-packages (from langchain-community) (0.4.0)\n",
      "Requirement already satisfied: numpy<3,>=1.26.2 in c:\\users\\문선장\\appdata\\local\\programs\\python\\python313\\lib\\site-packages (from langchain-community) (2.2.4)\n",
      "Collecting langchain-core<1.0.0,>=0.3.51 (from langchain)\n",
      "  Downloading langchain_core-0.3.58-py3-none-any.whl.metadata (5.9 kB)\n",
      "Requirement already satisfied: openai<2.0.0,>=1.68.2 in c:\\users\\문선장\\appdata\\local\\programs\\python\\python313\\lib\\site-packages (from langchain_openai) (1.73.0)\n",
      "Requirement already satisfied: tiktoken<1,>=0.7 in c:\\users\\문선장\\appdata\\local\\programs\\python\\python313\\lib\\site-packages (from langchain_openai) (0.9.0)\n",
      "Collecting transformers<5.0.0,>=4.41.0 (from sentence_transformers)\n",
      "  Using cached transformers-4.51.3-py3-none-any.whl.metadata (38 kB)\n",
      "Requirement already satisfied: tqdm in c:\\users\\문선장\\appdata\\local\\programs\\python\\python313\\lib\\site-packages (from sentence_transformers) (4.67.1)\n",
      "Collecting torch>=1.11.0 (from sentence_transformers)\n",
      "  Using cached torch-2.7.0-cp313-cp313-win_amd64.whl.metadata (29 kB)\n",
      "Collecting scikit-learn (from sentence_transformers)\n",
      "  Using cached scikit_learn-1.6.1-cp313-cp313-win_amd64.whl.metadata (15 kB)\n",
      "Collecting scipy (from sentence_transformers)\n",
      "  Using cached scipy-1.15.2-cp313-cp313-win_amd64.whl.metadata (60 kB)\n",
      "Requirement already satisfied: huggingface-hub>=0.20.0 in c:\\users\\문선장\\appdata\\local\\programs\\python\\python313\\lib\\site-packages (from sentence_transformers) (0.30.2)\n",
      "Requirement already satisfied: Pillow in c:\\users\\문선장\\appdata\\local\\programs\\python\\python313\\lib\\site-packages (from sentence_transformers) (11.2.1)\n",
      "Requirement already satisfied: typing_extensions>=4.5.0 in c:\\users\\문선장\\appdata\\local\\programs\\python\\python313\\lib\\site-packages (from sentence_transformers) (4.13.0)\n",
      "Requirement already satisfied: aiohappyeyeballs>=2.3.0 in c:\\users\\문선장\\appdata\\local\\programs\\python\\python313\\lib\\site-packages (from aiohttp<4.0.0,>=3.8.3->langchain-community) (2.6.1)\n",
      "Requirement already satisfied: aiosignal>=1.1.2 in c:\\users\\문선장\\appdata\\local\\programs\\python\\python313\\lib\\site-packages (from aiohttp<4.0.0,>=3.8.3->langchain-community) (1.3.2)\n",
      "Requirement already satisfied: attrs>=17.3.0 in c:\\users\\문선장\\appdata\\local\\programs\\python\\python313\\lib\\site-packages (from aiohttp<4.0.0,>=3.8.3->langchain-community) (25.3.0)\n",
      "Requirement already satisfied: frozenlist>=1.1.1 in c:\\users\\문선장\\appdata\\local\\programs\\python\\python313\\lib\\site-packages (from aiohttp<4.0.0,>=3.8.3->langchain-community) (1.5.0)\n",
      "Requirement already satisfied: multidict<7.0,>=4.5 in c:\\users\\문선장\\appdata\\local\\programs\\python\\python313\\lib\\site-packages (from aiohttp<4.0.0,>=3.8.3->langchain-community) (6.4.3)\n",
      "Requirement already satisfied: propcache>=0.2.0 in c:\\users\\문선장\\appdata\\local\\programs\\python\\python313\\lib\\site-packages (from aiohttp<4.0.0,>=3.8.3->langchain-community) (0.3.1)\n",
      "Requirement already satisfied: yarl<2.0,>=1.17.0 in c:\\users\\문선장\\appdata\\local\\programs\\python\\python313\\lib\\site-packages (from aiohttp<4.0.0,>=3.8.3->langchain-community) (1.19.0)\n",
      "Requirement already satisfied: marshmallow<4.0.0,>=3.18.0 in c:\\users\\문선장\\appdata\\local\\programs\\python\\python313\\lib\\site-packages (from dataclasses-json<0.7,>=0.5.7->langchain-community) (3.26.1)\n",
      "Requirement already satisfied: typing-inspect<1,>=0.4.0 in c:\\users\\문선장\\appdata\\local\\programs\\python\\python313\\lib\\site-packages (from dataclasses-json<0.7,>=0.5.7->langchain-community) (0.9.0)\n",
      "Requirement already satisfied: filelock in c:\\users\\문선장\\appdata\\local\\programs\\python\\python313\\lib\\site-packages (from huggingface-hub>=0.20.0->sentence_transformers) (3.18.0)\n",
      "Requirement already satisfied: fsspec>=2023.5.0 in c:\\users\\문선장\\appdata\\local\\programs\\python\\python313\\lib\\site-packages (from huggingface-hub>=0.20.0->sentence_transformers) (2025.3.2)\n",
      "Requirement already satisfied: packaging>=20.9 in c:\\users\\문선장\\appdata\\local\\programs\\python\\python313\\lib\\site-packages (from huggingface-hub>=0.20.0->sentence_transformers) (24.2)\n",
      "Requirement already satisfied: jsonpatch<2.0,>=1.33 in c:\\users\\문선장\\appdata\\local\\programs\\python\\python313\\lib\\site-packages (from langchain-core<1.0.0,>=0.3.51->langchain) (1.33)\n",
      "Requirement already satisfied: httpx<1,>=0.23.0 in c:\\users\\문선장\\appdata\\local\\programs\\python\\python313\\lib\\site-packages (from langsmith<0.4,>=0.1.17->langchain) (0.28.1)\n",
      "Requirement already satisfied: orjson<4.0.0,>=3.9.14 in c:\\users\\문선장\\appdata\\local\\programs\\python\\python313\\lib\\site-packages (from langsmith<0.4,>=0.1.17->langchain) (3.10.16)\n",
      "Requirement already satisfied: requests-toolbelt<2.0.0,>=1.0.0 in c:\\users\\문선장\\appdata\\local\\programs\\python\\python313\\lib\\site-packages (from langsmith<0.4,>=0.1.17->langchain) (1.0.0)\n",
      "Requirement already satisfied: zstandard<0.24.0,>=0.23.0 in c:\\users\\문선장\\appdata\\local\\programs\\python\\python313\\lib\\site-packages (from langsmith<0.4,>=0.1.17->langchain) (0.23.0)\n",
      "Requirement already satisfied: anyio<5,>=3.5.0 in c:\\users\\문선장\\appdata\\local\\programs\\python\\python313\\lib\\site-packages (from openai<2.0.0,>=1.68.2->langchain_openai) (4.9.0)\n",
      "Requirement already satisfied: distro<2,>=1.7.0 in c:\\users\\문선장\\appdata\\local\\programs\\python\\python313\\lib\\site-packages (from openai<2.0.0,>=1.68.2->langchain_openai) (1.9.0)\n",
      "Requirement already satisfied: jiter<1,>=0.4.0 in c:\\users\\문선장\\appdata\\local\\programs\\python\\python313\\lib\\site-packages (from openai<2.0.0,>=1.68.2->langchain_openai) (0.9.0)\n",
      "Requirement already satisfied: sniffio in c:\\users\\문선장\\appdata\\local\\programs\\python\\python313\\lib\\site-packages (from openai<2.0.0,>=1.68.2->langchain_openai) (1.3.1)\n",
      "Requirement already satisfied: annotated-types>=0.6.0 in c:\\users\\문선장\\appdata\\local\\programs\\python\\python313\\lib\\site-packages (from pydantic<3.0.0,>=2.7.4->langchain) (0.7.0)\n",
      "Requirement already satisfied: pydantic-core==2.33.1 in c:\\users\\문선장\\appdata\\local\\programs\\python\\python313\\lib\\site-packages (from pydantic<3.0.0,>=2.7.4->langchain) (2.33.1)\n",
      "Requirement already satisfied: typing-inspection>=0.4.0 in c:\\users\\문선장\\appdata\\local\\programs\\python\\python313\\lib\\site-packages (from pydantic<3.0.0,>=2.7.4->langchain) (0.4.0)\n",
      "Requirement already satisfied: python-dotenv>=0.21.0 in c:\\users\\문선장\\appdata\\local\\programs\\python\\python313\\lib\\site-packages (from pydantic-settings<3.0.0,>=2.4.0->langchain-community) (1.1.0)\n",
      "Requirement already satisfied: charset-normalizer<4,>=2 in c:\\users\\문선장\\appdata\\local\\programs\\python\\python313\\lib\\site-packages (from requests<3,>=2->langchain) (3.4.1)\n",
      "Requirement already satisfied: idna<4,>=2.5 in c:\\users\\문선장\\appdata\\local\\programs\\python\\python313\\lib\\site-packages (from requests<3,>=2->langchain) (3.10)\n",
      "Requirement already satisfied: urllib3<3,>=1.21.1 in c:\\users\\문선장\\appdata\\local\\programs\\python\\python313\\lib\\site-packages (from requests<3,>=2->langchain) (2.3.0)\n",
      "Requirement already satisfied: certifi>=2017.4.17 in c:\\users\\문선장\\appdata\\local\\programs\\python\\python313\\lib\\site-packages (from requests<3,>=2->langchain) (2025.1.31)\n",
      "Requirement already satisfied: greenlet>=1 in c:\\users\\문선장\\appdata\\local\\programs\\python\\python313\\lib\\site-packages (from SQLAlchemy<3,>=1.4->langchain) (3.1.1)\n",
      "Requirement already satisfied: regex>=2022.1.18 in c:\\users\\문선장\\appdata\\local\\programs\\python\\python313\\lib\\site-packages (from tiktoken<1,>=0.7->langchain_openai) (2024.11.6)\n",
      "Requirement already satisfied: sympy>=1.13.3 in c:\\users\\문선장\\appdata\\local\\programs\\python\\python313\\lib\\site-packages (from torch>=1.11.0->sentence_transformers) (1.13.3)\n",
      "Collecting networkx (from torch>=1.11.0->sentence_transformers)\n",
      "  Using cached networkx-3.4.2-py3-none-any.whl.metadata (6.3 kB)\n",
      "Requirement already satisfied: jinja2 in c:\\users\\문선장\\appdata\\local\\programs\\python\\python313\\lib\\site-packages (from torch>=1.11.0->sentence_transformers) (3.1.6)\n",
      "Requirement already satisfied: setuptools in c:\\users\\문선장\\appdata\\local\\programs\\python\\python313\\lib\\site-packages (from torch>=1.11.0->sentence_transformers) (78.1.0)\n",
      "Requirement already satisfied: colorama in c:\\users\\문선장\\appdata\\local\\programs\\python\\python313\\lib\\site-packages (from tqdm->sentence_transformers) (0.4.6)\n",
      "Requirement already satisfied: tokenizers<0.22,>=0.21 in c:\\users\\문선장\\appdata\\local\\programs\\python\\python313\\lib\\site-packages (from transformers<5.0.0,>=4.41.0->sentence_transformers) (0.21.1)\n",
      "Collecting safetensors>=0.4.3 (from transformers<5.0.0,>=4.41.0->sentence_transformers)\n",
      "  Using cached safetensors-0.5.3-cp38-abi3-win_amd64.whl.metadata (3.9 kB)\n",
      "Collecting joblib>=1.2.0 (from scikit-learn->sentence_transformers)\n",
      "  Downloading joblib-1.5.0-py3-none-any.whl.metadata (5.6 kB)\n",
      "Collecting threadpoolctl>=3.1.0 (from scikit-learn->sentence_transformers)\n",
      "  Using cached threadpoolctl-3.6.0-py3-none-any.whl.metadata (13 kB)\n",
      "Requirement already satisfied: httpcore==1.* in c:\\users\\문선장\\appdata\\local\\programs\\python\\python313\\lib\\site-packages (from httpx<1,>=0.23.0->langsmith<0.4,>=0.1.17->langchain) (1.0.7)\n",
      "Requirement already satisfied: h11<0.15,>=0.13 in c:\\users\\문선장\\appdata\\local\\programs\\python\\python313\\lib\\site-packages (from httpcore==1.*->httpx<1,>=0.23.0->langsmith<0.4,>=0.1.17->langchain) (0.14.0)\n",
      "Requirement already satisfied: jsonpointer>=1.9 in c:\\users\\문선장\\appdata\\local\\programs\\python\\python313\\lib\\site-packages (from jsonpatch<2.0,>=1.33->langchain-core<1.0.0,>=0.3.51->langchain) (3.0.0)\n",
      "Requirement already satisfied: mpmath<1.4,>=1.1.0 in c:\\users\\문선장\\appdata\\local\\programs\\python\\python313\\lib\\site-packages (from sympy>=1.13.3->torch>=1.11.0->sentence_transformers) (1.3.0)\n",
      "Requirement already satisfied: mypy-extensions>=0.3.0 in c:\\users\\문선장\\appdata\\local\\programs\\python\\python313\\lib\\site-packages (from typing-inspect<1,>=0.4.0->dataclasses-json<0.7,>=0.5.7->langchain-community) (1.0.0)\n",
      "Requirement already satisfied: MarkupSafe>=2.0 in c:\\users\\문선장\\appdata\\local\\programs\\python\\python313\\lib\\site-packages (from jinja2->torch>=1.11.0->sentence_transformers) (3.0.2)\n",
      "Downloading langchain_openai-0.3.16-py3-none-any.whl (62 kB)\n",
      "Using cached sentence_transformers-4.1.0-py3-none-any.whl (345 kB)\n",
      "Downloading pypdfium2-4.30.1-py3-none-win_amd64.whl (3.0 MB)\n",
      "   ---------------------------------------- 0.0/3.0 MB ? eta -:--:--\n",
      "   ----------------- ---------------------- 1.3/3.0 MB 7.5 MB/s eta 0:00:01\n",
      "   ----------------------------------- ---- 2.6/3.0 MB 6.8 MB/s eta 0:00:01\n",
      "   ---------------------------------------- 3.0/3.0 MB 6.5 MB/s eta 0:00:00\n",
      "Downloading langchain_core-0.3.58-py3-none-any.whl (437 kB)\n",
      "Using cached torch-2.7.0-cp313-cp313-win_amd64.whl (212.5 MB)\n",
      "Using cached transformers-4.51.3-py3-none-any.whl (10.4 MB)\n",
      "Using cached scikit_learn-1.6.1-cp313-cp313-win_amd64.whl (11.1 MB)\n",
      "Using cached scipy-1.15.2-cp313-cp313-win_amd64.whl (41.0 MB)\n",
      "Downloading joblib-1.5.0-py3-none-any.whl (307 kB)\n",
      "Using cached safetensors-0.5.3-cp38-abi3-win_amd64.whl (308 kB)\n",
      "Using cached threadpoolctl-3.6.0-py3-none-any.whl (18 kB)\n",
      "Using cached networkx-3.4.2-py3-none-any.whl (1.7 MB)\n",
      "Installing collected packages: threadpoolctl, scipy, safetensors, pypdfium2, networkx, joblib, torch, scikit-learn, transformers, langchain-core, sentence_transformers, langchain_openai\n",
      "  Attempting uninstall: langchain-core\n",
      "    Found existing installation: langchain-core 0.3.51\n",
      "    Uninstalling langchain-core-0.3.51:\n",
      "      Successfully uninstalled langchain-core-0.3.51\n",
      "Successfully installed joblib-1.5.0 langchain-core-0.3.58 langchain_openai-0.3.16 networkx-3.4.2 pypdfium2-4.30.1 safetensors-0.5.3 scikit-learn-1.6.1 scipy-1.15.2 sentence_transformers-4.1.0 threadpoolctl-3.6.0 torch-2.7.0 transformers-4.51.3\n",
      "Note: you may need to restart the kernel to use updated packages.\n"
     ]
    },
    {
     "name": "stderr",
     "output_type": "stream",
     "text": [
      "\n",
      "[notice] A new release of pip is available: 25.0.1 -> 25.1.1\n",
      "[notice] To update, run: python.exe -m pip install --upgrade pip\n"
     ]
    }
   ],
   "source": [
    "pip install langchain langchain-community langchain_openai langchain_text_splitters sentence_transformers pypdfium2"
   ]
  },
  {
   "cell_type": "code",
   "execution_count": 9,
   "id": "99357f5f-8500-42ff-bc53-99684e3b4bf8",
   "metadata": {
    "scrolled": true
   },
   "outputs": [
    {
     "name": "stdout",
     "output_type": "stream",
     "text": [
      "Requirement already satisfied: chromadb in c:\\users\\문선장\\appdata\\local\\programs\\python\\python313\\lib\\site-packages (1.0.4)\n",
      "Requirement already satisfied: build>=1.0.3 in c:\\users\\문선장\\appdata\\local\\programs\\python\\python313\\lib\\site-packages (from chromadb) (1.2.2.post1)\n",
      "Requirement already satisfied: pydantic>=1.9 in c:\\users\\문선장\\appdata\\local\\programs\\python\\python313\\lib\\site-packages (from chromadb) (2.11.3)\n",
      "Requirement already satisfied: chroma-hnswlib==0.7.6 in c:\\users\\문선장\\appdata\\local\\programs\\python\\python313\\lib\\site-packages (from chromadb) (0.7.6)\n",
      "Requirement already satisfied: fastapi==0.115.9 in c:\\users\\문선장\\appdata\\local\\programs\\python\\python313\\lib\\site-packages (from chromadb) (0.115.9)\n",
      "Requirement already satisfied: uvicorn>=0.18.3 in c:\\users\\문선장\\appdata\\local\\programs\\python\\python313\\lib\\site-packages (from uvicorn[standard]>=0.18.3->chromadb) (0.34.1)\n",
      "Requirement already satisfied: numpy>=1.22.5 in c:\\users\\문선장\\appdata\\local\\programs\\python\\python313\\lib\\site-packages (from chromadb) (2.2.4)\n",
      "Requirement already satisfied: posthog>=2.4.0 in c:\\users\\문선장\\appdata\\local\\programs\\python\\python313\\lib\\site-packages (from chromadb) (3.24.1)\n",
      "Requirement already satisfied: typing-extensions>=4.5.0 in c:\\users\\문선장\\appdata\\local\\programs\\python\\python313\\lib\\site-packages (from chromadb) (4.13.0)\n",
      "Requirement already satisfied: onnxruntime>=1.14.1 in c:\\users\\문선장\\appdata\\local\\programs\\python\\python313\\lib\\site-packages (from chromadb) (1.21.0)\n",
      "Requirement already satisfied: opentelemetry-api>=1.2.0 in c:\\users\\문선장\\appdata\\local\\programs\\python\\python313\\lib\\site-packages (from chromadb) (1.32.0)\n",
      "Requirement already satisfied: opentelemetry-exporter-otlp-proto-grpc>=1.2.0 in c:\\users\\문선장\\appdata\\local\\programs\\python\\python313\\lib\\site-packages (from chromadb) (1.32.0)\n",
      "Requirement already satisfied: opentelemetry-instrumentation-fastapi>=0.41b0 in c:\\users\\문선장\\appdata\\local\\programs\\python\\python313\\lib\\site-packages (from chromadb) (0.53b0)\n",
      "Requirement already satisfied: opentelemetry-sdk>=1.2.0 in c:\\users\\문선장\\appdata\\local\\programs\\python\\python313\\lib\\site-packages (from chromadb) (1.32.0)\n",
      "Requirement already satisfied: tokenizers>=0.13.2 in c:\\users\\문선장\\appdata\\local\\programs\\python\\python313\\lib\\site-packages (from chromadb) (0.21.1)\n",
      "Requirement already satisfied: pypika>=0.48.9 in c:\\users\\문선장\\appdata\\local\\programs\\python\\python313\\lib\\site-packages (from chromadb) (0.48.9)\n",
      "Requirement already satisfied: tqdm>=4.65.0 in c:\\users\\문선장\\appdata\\local\\programs\\python\\python313\\lib\\site-packages (from chromadb) (4.67.1)\n",
      "Requirement already satisfied: overrides>=7.3.1 in c:\\users\\문선장\\appdata\\local\\programs\\python\\python313\\lib\\site-packages (from chromadb) (7.7.0)\n",
      "Requirement already satisfied: importlib-resources in c:\\users\\문선장\\appdata\\local\\programs\\python\\python313\\lib\\site-packages (from chromadb) (6.5.2)\n",
      "Requirement already satisfied: grpcio>=1.58.0 in c:\\users\\문선장\\appdata\\local\\programs\\python\\python313\\lib\\site-packages (from chromadb) (1.71.0)\n",
      "Requirement already satisfied: bcrypt>=4.0.1 in c:\\users\\문선장\\appdata\\local\\programs\\python\\python313\\lib\\site-packages (from chromadb) (4.3.0)\n",
      "Requirement already satisfied: typer>=0.9.0 in c:\\users\\문선장\\appdata\\local\\programs\\python\\python313\\lib\\site-packages (from chromadb) (0.15.2)\n",
      "Requirement already satisfied: kubernetes>=28.1.0 in c:\\users\\문선장\\appdata\\local\\programs\\python\\python313\\lib\\site-packages (from chromadb) (32.0.1)\n",
      "Requirement already satisfied: tenacity>=8.2.3 in c:\\users\\문선장\\appdata\\local\\programs\\python\\python313\\lib\\site-packages (from chromadb) (9.1.2)\n",
      "Requirement already satisfied: pyyaml>=6.0.0 in c:\\users\\문선장\\appdata\\local\\programs\\python\\python313\\lib\\site-packages (from chromadb) (6.0.2)\n",
      "Requirement already satisfied: mmh3>=4.0.1 in c:\\users\\문선장\\appdata\\local\\programs\\python\\python313\\lib\\site-packages (from chromadb) (5.1.0)\n",
      "Requirement already satisfied: orjson>=3.9.12 in c:\\users\\문선장\\appdata\\local\\programs\\python\\python313\\lib\\site-packages (from chromadb) (3.10.16)\n",
      "Requirement already satisfied: httpx>=0.27.0 in c:\\users\\문선장\\appdata\\local\\programs\\python\\python313\\lib\\site-packages (from chromadb) (0.28.1)\n",
      "Requirement already satisfied: rich>=10.11.0 in c:\\users\\문선장\\appdata\\local\\programs\\python\\python313\\lib\\site-packages (from chromadb) (14.0.0)\n",
      "Requirement already satisfied: jsonschema>=4.19.0 in c:\\users\\문선장\\appdata\\local\\programs\\python\\python313\\lib\\site-packages (from chromadb) (4.23.0)\n",
      "Requirement already satisfied: starlette<0.46.0,>=0.40.0 in c:\\users\\문선장\\appdata\\local\\programs\\python\\python313\\lib\\site-packages (from fastapi==0.115.9->chromadb) (0.45.3)\n",
      "Requirement already satisfied: packaging>=19.1 in c:\\users\\문선장\\appdata\\local\\programs\\python\\python313\\lib\\site-packages (from build>=1.0.3->chromadb) (24.2)\n",
      "Requirement already satisfied: pyproject_hooks in c:\\users\\문선장\\appdata\\local\\programs\\python\\python313\\lib\\site-packages (from build>=1.0.3->chromadb) (1.2.0)\n",
      "Requirement already satisfied: colorama in c:\\users\\문선장\\appdata\\local\\programs\\python\\python313\\lib\\site-packages (from build>=1.0.3->chromadb) (0.4.6)\n",
      "Requirement already satisfied: anyio in c:\\users\\문선장\\appdata\\local\\programs\\python\\python313\\lib\\site-packages (from httpx>=0.27.0->chromadb) (4.9.0)\n",
      "Requirement already satisfied: certifi in c:\\users\\문선장\\appdata\\local\\programs\\python\\python313\\lib\\site-packages (from httpx>=0.27.0->chromadb) (2025.1.31)\n",
      "Requirement already satisfied: httpcore==1.* in c:\\users\\문선장\\appdata\\local\\programs\\python\\python313\\lib\\site-packages (from httpx>=0.27.0->chromadb) (1.0.7)\n",
      "Requirement already satisfied: idna in c:\\users\\문선장\\appdata\\local\\programs\\python\\python313\\lib\\site-packages (from httpx>=0.27.0->chromadb) (3.10)\n",
      "Requirement already satisfied: h11<0.15,>=0.13 in c:\\users\\문선장\\appdata\\local\\programs\\python\\python313\\lib\\site-packages (from httpcore==1.*->httpx>=0.27.0->chromadb) (0.14.0)\n",
      "Requirement already satisfied: attrs>=22.2.0 in c:\\users\\문선장\\appdata\\local\\programs\\python\\python313\\lib\\site-packages (from jsonschema>=4.19.0->chromadb) (25.3.0)\n",
      "Requirement already satisfied: jsonschema-specifications>=2023.03.6 in c:\\users\\문선장\\appdata\\local\\programs\\python\\python313\\lib\\site-packages (from jsonschema>=4.19.0->chromadb) (2024.10.1)\n",
      "Requirement already satisfied: referencing>=0.28.4 in c:\\users\\문선장\\appdata\\local\\programs\\python\\python313\\lib\\site-packages (from jsonschema>=4.19.0->chromadb) (0.36.2)\n",
      "Requirement already satisfied: rpds-py>=0.7.1 in c:\\users\\문선장\\appdata\\local\\programs\\python\\python313\\lib\\site-packages (from jsonschema>=4.19.0->chromadb) (0.24.0)\n",
      "Requirement already satisfied: six>=1.9.0 in c:\\users\\문선장\\appdata\\local\\programs\\python\\python313\\lib\\site-packages (from kubernetes>=28.1.0->chromadb) (1.17.0)\n",
      "Requirement already satisfied: python-dateutil>=2.5.3 in c:\\users\\문선장\\appdata\\local\\programs\\python\\python313\\lib\\site-packages (from kubernetes>=28.1.0->chromadb) (2.9.0.post0)\n",
      "Requirement already satisfied: google-auth>=1.0.1 in c:\\users\\문선장\\appdata\\local\\programs\\python\\python313\\lib\\site-packages (from kubernetes>=28.1.0->chromadb) (2.38.0)\n",
      "Requirement already satisfied: websocket-client!=0.40.0,!=0.41.*,!=0.42.*,>=0.32.0 in c:\\users\\문선장\\appdata\\local\\programs\\python\\python313\\lib\\site-packages (from kubernetes>=28.1.0->chromadb) (1.8.0)\n",
      "Requirement already satisfied: requests in c:\\users\\문선장\\appdata\\local\\programs\\python\\python313\\lib\\site-packages (from kubernetes>=28.1.0->chromadb) (2.32.3)\n",
      "Requirement already satisfied: requests-oauthlib in c:\\users\\문선장\\appdata\\local\\programs\\python\\python313\\lib\\site-packages (from kubernetes>=28.1.0->chromadb) (2.0.0)\n",
      "Requirement already satisfied: oauthlib>=3.2.2 in c:\\users\\문선장\\appdata\\local\\programs\\python\\python313\\lib\\site-packages (from kubernetes>=28.1.0->chromadb) (3.2.2)\n",
      "Requirement already satisfied: urllib3>=1.24.2 in c:\\users\\문선장\\appdata\\local\\programs\\python\\python313\\lib\\site-packages (from kubernetes>=28.1.0->chromadb) (2.3.0)\n",
      "Requirement already satisfied: durationpy>=0.7 in c:\\users\\문선장\\appdata\\local\\programs\\python\\python313\\lib\\site-packages (from kubernetes>=28.1.0->chromadb) (0.9)\n",
      "Requirement already satisfied: coloredlogs in c:\\users\\문선장\\appdata\\local\\programs\\python\\python313\\lib\\site-packages (from onnxruntime>=1.14.1->chromadb) (15.0.1)\n",
      "Requirement already satisfied: flatbuffers in c:\\users\\문선장\\appdata\\local\\programs\\python\\python313\\lib\\site-packages (from onnxruntime>=1.14.1->chromadb) (25.2.10)\n",
      "Requirement already satisfied: protobuf in c:\\users\\문선장\\appdata\\local\\programs\\python\\python313\\lib\\site-packages (from onnxruntime>=1.14.1->chromadb) (5.29.4)\n",
      "Requirement already satisfied: sympy in c:\\users\\문선장\\appdata\\local\\programs\\python\\python313\\lib\\site-packages (from onnxruntime>=1.14.1->chromadb) (1.13.3)\n",
      "Requirement already satisfied: deprecated>=1.2.6 in c:\\users\\문선장\\appdata\\local\\programs\\python\\python313\\lib\\site-packages (from opentelemetry-api>=1.2.0->chromadb) (1.2.18)\n",
      "Requirement already satisfied: importlib-metadata<8.7.0,>=6.0 in c:\\users\\문선장\\appdata\\local\\programs\\python\\python313\\lib\\site-packages (from opentelemetry-api>=1.2.0->chromadb) (8.6.1)\n",
      "Requirement already satisfied: googleapis-common-protos~=1.52 in c:\\users\\문선장\\appdata\\local\\programs\\python\\python313\\lib\\site-packages (from opentelemetry-exporter-otlp-proto-grpc>=1.2.0->chromadb) (1.70.0)\n",
      "Requirement already satisfied: opentelemetry-exporter-otlp-proto-common==1.32.0 in c:\\users\\문선장\\appdata\\local\\programs\\python\\python313\\lib\\site-packages (from opentelemetry-exporter-otlp-proto-grpc>=1.2.0->chromadb) (1.32.0)\n",
      "Requirement already satisfied: opentelemetry-proto==1.32.0 in c:\\users\\문선장\\appdata\\local\\programs\\python\\python313\\lib\\site-packages (from opentelemetry-exporter-otlp-proto-grpc>=1.2.0->chromadb) (1.32.0)\n",
      "Requirement already satisfied: opentelemetry-instrumentation-asgi==0.53b0 in c:\\users\\문선장\\appdata\\local\\programs\\python\\python313\\lib\\site-packages (from opentelemetry-instrumentation-fastapi>=0.41b0->chromadb) (0.53b0)\n",
      "Requirement already satisfied: opentelemetry-instrumentation==0.53b0 in c:\\users\\문선장\\appdata\\local\\programs\\python\\python313\\lib\\site-packages (from opentelemetry-instrumentation-fastapi>=0.41b0->chromadb) (0.53b0)\n",
      "Requirement already satisfied: opentelemetry-semantic-conventions==0.53b0 in c:\\users\\문선장\\appdata\\local\\programs\\python\\python313\\lib\\site-packages (from opentelemetry-instrumentation-fastapi>=0.41b0->chromadb) (0.53b0)\n",
      "Requirement already satisfied: opentelemetry-util-http==0.53b0 in c:\\users\\문선장\\appdata\\local\\programs\\python\\python313\\lib\\site-packages (from opentelemetry-instrumentation-fastapi>=0.41b0->chromadb) (0.53b0)\n",
      "Requirement already satisfied: wrapt<2.0.0,>=1.0.0 in c:\\users\\문선장\\appdata\\local\\programs\\python\\python313\\lib\\site-packages (from opentelemetry-instrumentation==0.53b0->opentelemetry-instrumentation-fastapi>=0.41b0->chromadb) (1.17.2)\n",
      "Requirement already satisfied: asgiref~=3.0 in c:\\users\\문선장\\appdata\\local\\programs\\python\\python313\\lib\\site-packages (from opentelemetry-instrumentation-asgi==0.53b0->opentelemetry-instrumentation-fastapi>=0.41b0->chromadb) (3.8.1)\n",
      "Requirement already satisfied: monotonic>=1.5 in c:\\users\\문선장\\appdata\\local\\programs\\python\\python313\\lib\\site-packages (from posthog>=2.4.0->chromadb) (1.6)\n",
      "Requirement already satisfied: backoff>=1.10.0 in c:\\users\\문선장\\appdata\\local\\programs\\python\\python313\\lib\\site-packages (from posthog>=2.4.0->chromadb) (2.2.1)\n",
      "Requirement already satisfied: distro>=1.5.0 in c:\\users\\문선장\\appdata\\local\\programs\\python\\python313\\lib\\site-packages (from posthog>=2.4.0->chromadb) (1.9.0)\n",
      "Requirement already satisfied: annotated-types>=0.6.0 in c:\\users\\문선장\\appdata\\local\\programs\\python\\python313\\lib\\site-packages (from pydantic>=1.9->chromadb) (0.7.0)\n",
      "Requirement already satisfied: pydantic-core==2.33.1 in c:\\users\\문선장\\appdata\\local\\programs\\python\\python313\\lib\\site-packages (from pydantic>=1.9->chromadb) (2.33.1)\n",
      "Requirement already satisfied: typing-inspection>=0.4.0 in c:\\users\\문선장\\appdata\\local\\programs\\python\\python313\\lib\\site-packages (from pydantic>=1.9->chromadb) (0.4.0)\n",
      "Requirement already satisfied: markdown-it-py>=2.2.0 in c:\\users\\문선장\\appdata\\local\\programs\\python\\python313\\lib\\site-packages (from rich>=10.11.0->chromadb) (3.0.0)\n",
      "Requirement already satisfied: pygments<3.0.0,>=2.13.0 in c:\\users\\문선장\\appdata\\local\\programs\\python\\python313\\lib\\site-packages (from rich>=10.11.0->chromadb) (2.19.1)\n",
      "Requirement already satisfied: huggingface-hub<1.0,>=0.16.4 in c:\\users\\문선장\\appdata\\local\\programs\\python\\python313\\lib\\site-packages (from tokenizers>=0.13.2->chromadb) (0.30.2)\n",
      "Requirement already satisfied: click>=8.0.0 in c:\\users\\문선장\\appdata\\local\\programs\\python\\python313\\lib\\site-packages (from typer>=0.9.0->chromadb) (8.1.8)\n",
      "Requirement already satisfied: shellingham>=1.3.0 in c:\\users\\문선장\\appdata\\local\\programs\\python\\python313\\lib\\site-packages (from typer>=0.9.0->chromadb) (1.5.4)\n",
      "Requirement already satisfied: httptools>=0.6.3 in c:\\users\\문선장\\appdata\\local\\programs\\python\\python313\\lib\\site-packages (from uvicorn[standard]>=0.18.3->chromadb) (0.6.4)\n",
      "Requirement already satisfied: python-dotenv>=0.13 in c:\\users\\문선장\\appdata\\local\\programs\\python\\python313\\lib\\site-packages (from uvicorn[standard]>=0.18.3->chromadb) (1.1.0)\n",
      "Requirement already satisfied: watchfiles>=0.13 in c:\\users\\문선장\\appdata\\local\\programs\\python\\python313\\lib\\site-packages (from uvicorn[standard]>=0.18.3->chromadb) (1.0.5)\n",
      "Requirement already satisfied: websockets>=10.4 in c:\\users\\문선장\\appdata\\local\\programs\\python\\python313\\lib\\site-packages (from uvicorn[standard]>=0.18.3->chromadb) (15.0.1)\n",
      "Requirement already satisfied: cachetools<6.0,>=2.0.0 in c:\\users\\문선장\\appdata\\local\\programs\\python\\python313\\lib\\site-packages (from google-auth>=1.0.1->kubernetes>=28.1.0->chromadb) (5.5.2)\n",
      "Requirement already satisfied: pyasn1-modules>=0.2.1 in c:\\users\\문선장\\appdata\\local\\programs\\python\\python313\\lib\\site-packages (from google-auth>=1.0.1->kubernetes>=28.1.0->chromadb) (0.4.2)\n",
      "Requirement already satisfied: rsa<5,>=3.1.4 in c:\\users\\문선장\\appdata\\local\\programs\\python\\python313\\lib\\site-packages (from google-auth>=1.0.1->kubernetes>=28.1.0->chromadb) (4.9)\n",
      "Requirement already satisfied: filelock in c:\\users\\문선장\\appdata\\local\\programs\\python\\python313\\lib\\site-packages (from huggingface-hub<1.0,>=0.16.4->tokenizers>=0.13.2->chromadb) (3.18.0)\n",
      "Requirement already satisfied: fsspec>=2023.5.0 in c:\\users\\문선장\\appdata\\local\\programs\\python\\python313\\lib\\site-packages (from huggingface-hub<1.0,>=0.16.4->tokenizers>=0.13.2->chromadb) (2025.3.2)\n",
      "Requirement already satisfied: zipp>=3.20 in c:\\users\\문선장\\appdata\\local\\programs\\python\\python313\\lib\\site-packages (from importlib-metadata<8.7.0,>=6.0->opentelemetry-api>=1.2.0->chromadb) (3.21.0)\n",
      "Requirement already satisfied: mdurl~=0.1 in c:\\users\\문선장\\appdata\\local\\programs\\python\\python313\\lib\\site-packages (from markdown-it-py>=2.2.0->rich>=10.11.0->chromadb) (0.1.2)\n",
      "Requirement already satisfied: charset-normalizer<4,>=2 in c:\\users\\문선장\\appdata\\local\\programs\\python\\python313\\lib\\site-packages (from requests->kubernetes>=28.1.0->chromadb) (3.4.1)\n",
      "Requirement already satisfied: sniffio>=1.1 in c:\\users\\문선장\\appdata\\local\\programs\\python\\python313\\lib\\site-packages (from anyio->httpx>=0.27.0->chromadb) (1.3.1)\n",
      "Requirement already satisfied: humanfriendly>=9.1 in c:\\users\\문선장\\appdata\\local\\programs\\python\\python313\\lib\\site-packages (from coloredlogs->onnxruntime>=1.14.1->chromadb) (10.0)\n",
      "Requirement already satisfied: mpmath<1.4,>=1.1.0 in c:\\users\\문선장\\appdata\\local\\programs\\python\\python313\\lib\\site-packages (from sympy->onnxruntime>=1.14.1->chromadb) (1.3.0)\n",
      "Requirement already satisfied: pyreadline3 in c:\\users\\문선장\\appdata\\local\\programs\\python\\python313\\lib\\site-packages (from humanfriendly>=9.1->coloredlogs->onnxruntime>=1.14.1->chromadb) (3.5.4)\n",
      "Requirement already satisfied: pyasn1<0.7.0,>=0.6.1 in c:\\users\\문선장\\appdata\\local\\programs\\python\\python313\\lib\\site-packages (from pyasn1-modules>=0.2.1->google-auth>=1.0.1->kubernetes>=28.1.0->chromadb) (0.6.1)\n"
     ]
    },
    {
     "name": "stderr",
     "output_type": "stream",
     "text": [
      "\n",
      "[notice] A new release of pip is available: 25.0.1 -> 25.1.1\n",
      "[notice] To update, run: python.exe -m pip install --upgrade pip\n"
     ]
    },
    {
     "name": "stdout",
     "output_type": "stream",
     "text": [
      "Requirement already satisfied: langchain in c:\\users\\문선장\\appdata\\local\\programs\\python\\python313\\lib\\site-packages (0.3.23)\n",
      "Requirement already satisfied: langchain-openai in c:\\users\\문선장\\appdata\\local\\programs\\python\\python313\\lib\\site-packages (0.3.16)\n",
      "Requirement already satisfied: langchain-core<1.0.0,>=0.3.51 in c:\\users\\문선장\\appdata\\local\\programs\\python\\python313\\lib\\site-packages (from langchain) (0.3.58)\n",
      "Requirement already satisfied: langchain-text-splitters<1.0.0,>=0.3.8 in c:\\users\\문선장\\appdata\\local\\programs\\python\\python313\\lib\\site-packages (from langchain) (0.3.8)\n",
      "Requirement already satisfied: langsmith<0.4,>=0.1.17 in c:\\users\\문선장\\appdata\\local\\programs\\python\\python313\\lib\\site-packages (from langchain) (0.3.30)\n",
      "Requirement already satisfied: pydantic<3.0.0,>=2.7.4 in c:\\users\\문선장\\appdata\\local\\programs\\python\\python313\\lib\\site-packages (from langchain) (2.11.3)\n",
      "Requirement already satisfied: SQLAlchemy<3,>=1.4 in c:\\users\\문선장\\appdata\\local\\programs\\python\\python313\\lib\\site-packages (from langchain) (2.0.40)\n",
      "Requirement already satisfied: requests<3,>=2 in c:\\users\\문선장\\appdata\\local\\programs\\python\\python313\\lib\\site-packages (from langchain) (2.32.3)\n",
      "Requirement already satisfied: PyYAML>=5.3 in c:\\users\\문선장\\appdata\\local\\programs\\python\\python313\\lib\\site-packages (from langchain) (6.0.2)\n",
      "Requirement already satisfied: openai<2.0.0,>=1.68.2 in c:\\users\\문선장\\appdata\\local\\programs\\python\\python313\\lib\\site-packages (from langchain-openai) (1.73.0)\n",
      "Requirement already satisfied: tiktoken<1,>=0.7 in c:\\users\\문선장\\appdata\\local\\programs\\python\\python313\\lib\\site-packages (from langchain-openai) (0.9.0)\n",
      "Requirement already satisfied: tenacity!=8.4.0,<10.0.0,>=8.1.0 in c:\\users\\문선장\\appdata\\local\\programs\\python\\python313\\lib\\site-packages (from langchain-core<1.0.0,>=0.3.51->langchain) (9.1.2)\n",
      "Requirement already satisfied: jsonpatch<2.0,>=1.33 in c:\\users\\문선장\\appdata\\local\\programs\\python\\python313\\lib\\site-packages (from langchain-core<1.0.0,>=0.3.51->langchain) (1.33)\n",
      "Requirement already satisfied: packaging<25,>=23.2 in c:\\users\\문선장\\appdata\\local\\programs\\python\\python313\\lib\\site-packages (from langchain-core<1.0.0,>=0.3.51->langchain) (24.2)\n",
      "Requirement already satisfied: typing-extensions>=4.7 in c:\\users\\문선장\\appdata\\local\\programs\\python\\python313\\lib\\site-packages (from langchain-core<1.0.0,>=0.3.51->langchain) (4.13.0)\n",
      "Requirement already satisfied: httpx<1,>=0.23.0 in c:\\users\\문선장\\appdata\\local\\programs\\python\\python313\\lib\\site-packages (from langsmith<0.4,>=0.1.17->langchain) (0.28.1)\n",
      "Requirement already satisfied: orjson<4.0.0,>=3.9.14 in c:\\users\\문선장\\appdata\\local\\programs\\python\\python313\\lib\\site-packages (from langsmith<0.4,>=0.1.17->langchain) (3.10.16)\n",
      "Requirement already satisfied: requests-toolbelt<2.0.0,>=1.0.0 in c:\\users\\문선장\\appdata\\local\\programs\\python\\python313\\lib\\site-packages (from langsmith<0.4,>=0.1.17->langchain) (1.0.0)\n",
      "Requirement already satisfied: zstandard<0.24.0,>=0.23.0 in c:\\users\\문선장\\appdata\\local\\programs\\python\\python313\\lib\\site-packages (from langsmith<0.4,>=0.1.17->langchain) (0.23.0)\n",
      "Requirement already satisfied: anyio<5,>=3.5.0 in c:\\users\\문선장\\appdata\\local\\programs\\python\\python313\\lib\\site-packages (from openai<2.0.0,>=1.68.2->langchain-openai) (4.9.0)\n",
      "Requirement already satisfied: distro<2,>=1.7.0 in c:\\users\\문선장\\appdata\\local\\programs\\python\\python313\\lib\\site-packages (from openai<2.0.0,>=1.68.2->langchain-openai) (1.9.0)\n",
      "Requirement already satisfied: jiter<1,>=0.4.0 in c:\\users\\문선장\\appdata\\local\\programs\\python\\python313\\lib\\site-packages (from openai<2.0.0,>=1.68.2->langchain-openai) (0.9.0)\n",
      "Requirement already satisfied: sniffio in c:\\users\\문선장\\appdata\\local\\programs\\python\\python313\\lib\\site-packages (from openai<2.0.0,>=1.68.2->langchain-openai) (1.3.1)\n",
      "Requirement already satisfied: tqdm>4 in c:\\users\\문선장\\appdata\\local\\programs\\python\\python313\\lib\\site-packages (from openai<2.0.0,>=1.68.2->langchain-openai) (4.67.1)\n",
      "Requirement already satisfied: annotated-types>=0.6.0 in c:\\users\\문선장\\appdata\\local\\programs\\python\\python313\\lib\\site-packages (from pydantic<3.0.0,>=2.7.4->langchain) (0.7.0)\n",
      "Requirement already satisfied: pydantic-core==2.33.1 in c:\\users\\문선장\\appdata\\local\\programs\\python\\python313\\lib\\site-packages (from pydantic<3.0.0,>=2.7.4->langchain) (2.33.1)\n",
      "Requirement already satisfied: typing-inspection>=0.4.0 in c:\\users\\문선장\\appdata\\local\\programs\\python\\python313\\lib\\site-packages (from pydantic<3.0.0,>=2.7.4->langchain) (0.4.0)\n",
      "Requirement already satisfied: charset-normalizer<4,>=2 in c:\\users\\문선장\\appdata\\local\\programs\\python\\python313\\lib\\site-packages (from requests<3,>=2->langchain) (3.4.1)\n",
      "Requirement already satisfied: idna<4,>=2.5 in c:\\users\\문선장\\appdata\\local\\programs\\python\\python313\\lib\\site-packages (from requests<3,>=2->langchain) (3.10)\n",
      "Requirement already satisfied: urllib3<3,>=1.21.1 in c:\\users\\문선장\\appdata\\local\\programs\\python\\python313\\lib\\site-packages (from requests<3,>=2->langchain) (2.3.0)\n",
      "Requirement already satisfied: certifi>=2017.4.17 in c:\\users\\문선장\\appdata\\local\\programs\\python\\python313\\lib\\site-packages (from requests<3,>=2->langchain) (2025.1.31)\n",
      "Requirement already satisfied: greenlet>=1 in c:\\users\\문선장\\appdata\\local\\programs\\python\\python313\\lib\\site-packages (from SQLAlchemy<3,>=1.4->langchain) (3.1.1)\n",
      "Requirement already satisfied: regex>=2022.1.18 in c:\\users\\문선장\\appdata\\local\\programs\\python\\python313\\lib\\site-packages (from tiktoken<1,>=0.7->langchain-openai) (2024.11.6)\n",
      "Requirement already satisfied: httpcore==1.* in c:\\users\\문선장\\appdata\\local\\programs\\python\\python313\\lib\\site-packages (from httpx<1,>=0.23.0->langsmith<0.4,>=0.1.17->langchain) (1.0.7)\n",
      "Requirement already satisfied: h11<0.15,>=0.13 in c:\\users\\문선장\\appdata\\local\\programs\\python\\python313\\lib\\site-packages (from httpcore==1.*->httpx<1,>=0.23.0->langsmith<0.4,>=0.1.17->langchain) (0.14.0)\n",
      "Requirement already satisfied: jsonpointer>=1.9 in c:\\users\\문선장\\appdata\\local\\programs\\python\\python313\\lib\\site-packages (from jsonpatch<2.0,>=1.33->langchain-core<1.0.0,>=0.3.51->langchain) (3.0.0)\n",
      "Requirement already satisfied: colorama in c:\\users\\문선장\\appdata\\local\\programs\\python\\python313\\lib\\site-packages (from tqdm>4->openai<2.0.0,>=1.68.2->langchain-openai) (0.4.6)\n"
     ]
    },
    {
     "name": "stderr",
     "output_type": "stream",
     "text": [
      "\n",
      "[notice] A new release of pip is available: 25.0.1 -> 25.1.1\n",
      "[notice] To update, run: python.exe -m pip install --upgrade pip\n"
     ]
    }
   ],
   "source": [
    "!pip install chromadb\n",
    "!pip install langchain langchain-openai"
   ]
  },
  {
   "cell_type": "code",
   "execution_count": 13,
   "id": "15c51c67-6905-431a-b78b-4ab9267f2616",
   "metadata": {
    "scrolled": true
   },
   "outputs": [
    {
     "name": "stdout",
     "output_type": "stream",
     "text": [
      "Collecting langchain-chroma\n",
      "  Using cached langchain_chroma-0.2.3-py3-none-any.whl.metadata (1.1 kB)\n",
      "Requirement already satisfied: langchain-core>=0.3.52 in c:\\users\\문선장\\appdata\\local\\programs\\python\\python313\\lib\\site-packages (from langchain-chroma) (0.3.58)\n",
      "Requirement already satisfied: numpy>=2.1.0 in c:\\users\\문선장\\appdata\\local\\programs\\python\\python313\\lib\\site-packages (from langchain-chroma) (2.2.4)\n",
      "Collecting chromadb!=0.5.10,!=0.5.11,!=0.5.12,!=0.5.4,!=0.5.5,!=0.5.7,!=0.5.9,<0.7.0,>=0.4.0 (from langchain-chroma)\n",
      "  Using cached chromadb-0.6.3-py3-none-any.whl.metadata (6.8 kB)\n",
      "Requirement already satisfied: build>=1.0.3 in c:\\users\\문선장\\appdata\\local\\programs\\python\\python313\\lib\\site-packages (from chromadb!=0.5.10,!=0.5.11,!=0.5.12,!=0.5.4,!=0.5.5,!=0.5.7,!=0.5.9,<0.7.0,>=0.4.0->langchain-chroma) (1.2.2.post1)\n",
      "Requirement already satisfied: pydantic>=1.9 in c:\\users\\문선장\\appdata\\local\\programs\\python\\python313\\lib\\site-packages (from chromadb!=0.5.10,!=0.5.11,!=0.5.12,!=0.5.4,!=0.5.5,!=0.5.7,!=0.5.9,<0.7.0,>=0.4.0->langchain-chroma) (2.11.3)\n",
      "Requirement already satisfied: chroma-hnswlib==0.7.6 in c:\\users\\문선장\\appdata\\local\\programs\\python\\python313\\lib\\site-packages (from chromadb!=0.5.10,!=0.5.11,!=0.5.12,!=0.5.4,!=0.5.5,!=0.5.7,!=0.5.9,<0.7.0,>=0.4.0->langchain-chroma) (0.7.6)\n",
      "Requirement already satisfied: fastapi>=0.95.2 in c:\\users\\문선장\\appdata\\local\\programs\\python\\python313\\lib\\site-packages (from chromadb!=0.5.10,!=0.5.11,!=0.5.12,!=0.5.4,!=0.5.5,!=0.5.7,!=0.5.9,<0.7.0,>=0.4.0->langchain-chroma) (0.115.9)\n",
      "Requirement already satisfied: uvicorn>=0.18.3 in c:\\users\\문선장\\appdata\\local\\programs\\python\\python313\\lib\\site-packages (from uvicorn[standard]>=0.18.3->chromadb!=0.5.10,!=0.5.11,!=0.5.12,!=0.5.4,!=0.5.5,!=0.5.7,!=0.5.9,<0.7.0,>=0.4.0->langchain-chroma) (0.34.1)\n",
      "Requirement already satisfied: posthog>=2.4.0 in c:\\users\\문선장\\appdata\\local\\programs\\python\\python313\\lib\\site-packages (from chromadb!=0.5.10,!=0.5.11,!=0.5.12,!=0.5.4,!=0.5.5,!=0.5.7,!=0.5.9,<0.7.0,>=0.4.0->langchain-chroma) (3.24.1)\n",
      "Requirement already satisfied: typing_extensions>=4.5.0 in c:\\users\\문선장\\appdata\\local\\programs\\python\\python313\\lib\\site-packages (from chromadb!=0.5.10,!=0.5.11,!=0.5.12,!=0.5.4,!=0.5.5,!=0.5.7,!=0.5.9,<0.7.0,>=0.4.0->langchain-chroma) (4.13.0)\n",
      "Requirement already satisfied: onnxruntime>=1.14.1 in c:\\users\\문선장\\appdata\\local\\programs\\python\\python313\\lib\\site-packages (from chromadb!=0.5.10,!=0.5.11,!=0.5.12,!=0.5.4,!=0.5.5,!=0.5.7,!=0.5.9,<0.7.0,>=0.4.0->langchain-chroma) (1.21.0)\n",
      "Requirement already satisfied: opentelemetry-api>=1.2.0 in c:\\users\\문선장\\appdata\\local\\programs\\python\\python313\\lib\\site-packages (from chromadb!=0.5.10,!=0.5.11,!=0.5.12,!=0.5.4,!=0.5.5,!=0.5.7,!=0.5.9,<0.7.0,>=0.4.0->langchain-chroma) (1.32.0)\n",
      "Requirement already satisfied: opentelemetry-exporter-otlp-proto-grpc>=1.2.0 in c:\\users\\문선장\\appdata\\local\\programs\\python\\python313\\lib\\site-packages (from chromadb!=0.5.10,!=0.5.11,!=0.5.12,!=0.5.4,!=0.5.5,!=0.5.7,!=0.5.9,<0.7.0,>=0.4.0->langchain-chroma) (1.32.0)\n",
      "Requirement already satisfied: opentelemetry-instrumentation-fastapi>=0.41b0 in c:\\users\\문선장\\appdata\\local\\programs\\python\\python313\\lib\\site-packages (from chromadb!=0.5.10,!=0.5.11,!=0.5.12,!=0.5.4,!=0.5.5,!=0.5.7,!=0.5.9,<0.7.0,>=0.4.0->langchain-chroma) (0.53b0)\n",
      "Requirement already satisfied: opentelemetry-sdk>=1.2.0 in c:\\users\\문선장\\appdata\\local\\programs\\python\\python313\\lib\\site-packages (from chromadb!=0.5.10,!=0.5.11,!=0.5.12,!=0.5.4,!=0.5.5,!=0.5.7,!=0.5.9,<0.7.0,>=0.4.0->langchain-chroma) (1.32.0)\n",
      "Requirement already satisfied: tokenizers>=0.13.2 in c:\\users\\문선장\\appdata\\local\\programs\\python\\python313\\lib\\site-packages (from chromadb!=0.5.10,!=0.5.11,!=0.5.12,!=0.5.4,!=0.5.5,!=0.5.7,!=0.5.9,<0.7.0,>=0.4.0->langchain-chroma) (0.21.1)\n",
      "Requirement already satisfied: pypika>=0.48.9 in c:\\users\\문선장\\appdata\\local\\programs\\python\\python313\\lib\\site-packages (from chromadb!=0.5.10,!=0.5.11,!=0.5.12,!=0.5.4,!=0.5.5,!=0.5.7,!=0.5.9,<0.7.0,>=0.4.0->langchain-chroma) (0.48.9)\n",
      "Requirement already satisfied: tqdm>=4.65.0 in c:\\users\\문선장\\appdata\\local\\programs\\python\\python313\\lib\\site-packages (from chromadb!=0.5.10,!=0.5.11,!=0.5.12,!=0.5.4,!=0.5.5,!=0.5.7,!=0.5.9,<0.7.0,>=0.4.0->langchain-chroma) (4.67.1)\n",
      "Requirement already satisfied: overrides>=7.3.1 in c:\\users\\문선장\\appdata\\local\\programs\\python\\python313\\lib\\site-packages (from chromadb!=0.5.10,!=0.5.11,!=0.5.12,!=0.5.4,!=0.5.5,!=0.5.7,!=0.5.9,<0.7.0,>=0.4.0->langchain-chroma) (7.7.0)\n",
      "Requirement already satisfied: importlib-resources in c:\\users\\문선장\\appdata\\local\\programs\\python\\python313\\lib\\site-packages (from chromadb!=0.5.10,!=0.5.11,!=0.5.12,!=0.5.4,!=0.5.5,!=0.5.7,!=0.5.9,<0.7.0,>=0.4.0->langchain-chroma) (6.5.2)\n",
      "Requirement already satisfied: grpcio>=1.58.0 in c:\\users\\문선장\\appdata\\local\\programs\\python\\python313\\lib\\site-packages (from chromadb!=0.5.10,!=0.5.11,!=0.5.12,!=0.5.4,!=0.5.5,!=0.5.7,!=0.5.9,<0.7.0,>=0.4.0->langchain-chroma) (1.71.0)\n",
      "Requirement already satisfied: bcrypt>=4.0.1 in c:\\users\\문선장\\appdata\\local\\programs\\python\\python313\\lib\\site-packages (from chromadb!=0.5.10,!=0.5.11,!=0.5.12,!=0.5.4,!=0.5.5,!=0.5.7,!=0.5.9,<0.7.0,>=0.4.0->langchain-chroma) (4.3.0)\n",
      "Requirement already satisfied: typer>=0.9.0 in c:\\users\\문선장\\appdata\\local\\programs\\python\\python313\\lib\\site-packages (from chromadb!=0.5.10,!=0.5.11,!=0.5.12,!=0.5.4,!=0.5.5,!=0.5.7,!=0.5.9,<0.7.0,>=0.4.0->langchain-chroma) (0.15.2)\n",
      "Requirement already satisfied: kubernetes>=28.1.0 in c:\\users\\문선장\\appdata\\local\\programs\\python\\python313\\lib\\site-packages (from chromadb!=0.5.10,!=0.5.11,!=0.5.12,!=0.5.4,!=0.5.5,!=0.5.7,!=0.5.9,<0.7.0,>=0.4.0->langchain-chroma) (32.0.1)\n",
      "Requirement already satisfied: tenacity>=8.2.3 in c:\\users\\문선장\\appdata\\local\\programs\\python\\python313\\lib\\site-packages (from chromadb!=0.5.10,!=0.5.11,!=0.5.12,!=0.5.4,!=0.5.5,!=0.5.7,!=0.5.9,<0.7.0,>=0.4.0->langchain-chroma) (9.1.2)\n",
      "Requirement already satisfied: PyYAML>=6.0.0 in c:\\users\\문선장\\appdata\\local\\programs\\python\\python313\\lib\\site-packages (from chromadb!=0.5.10,!=0.5.11,!=0.5.12,!=0.5.4,!=0.5.5,!=0.5.7,!=0.5.9,<0.7.0,>=0.4.0->langchain-chroma) (6.0.2)\n",
      "Requirement already satisfied: mmh3>=4.0.1 in c:\\users\\문선장\\appdata\\local\\programs\\python\\python313\\lib\\site-packages (from chromadb!=0.5.10,!=0.5.11,!=0.5.12,!=0.5.4,!=0.5.5,!=0.5.7,!=0.5.9,<0.7.0,>=0.4.0->langchain-chroma) (5.1.0)\n",
      "Requirement already satisfied: orjson>=3.9.12 in c:\\users\\문선장\\appdata\\local\\programs\\python\\python313\\lib\\site-packages (from chromadb!=0.5.10,!=0.5.11,!=0.5.12,!=0.5.4,!=0.5.5,!=0.5.7,!=0.5.9,<0.7.0,>=0.4.0->langchain-chroma) (3.10.16)\n",
      "Requirement already satisfied: httpx>=0.27.0 in c:\\users\\문선장\\appdata\\local\\programs\\python\\python313\\lib\\site-packages (from chromadb!=0.5.10,!=0.5.11,!=0.5.12,!=0.5.4,!=0.5.5,!=0.5.7,!=0.5.9,<0.7.0,>=0.4.0->langchain-chroma) (0.28.1)\n",
      "Requirement already satisfied: rich>=10.11.0 in c:\\users\\문선장\\appdata\\local\\programs\\python\\python313\\lib\\site-packages (from chromadb!=0.5.10,!=0.5.11,!=0.5.12,!=0.5.4,!=0.5.5,!=0.5.7,!=0.5.9,<0.7.0,>=0.4.0->langchain-chroma) (14.0.0)\n",
      "Requirement already satisfied: langsmith<0.4,>=0.1.125 in c:\\users\\문선장\\appdata\\local\\programs\\python\\python313\\lib\\site-packages (from langchain-core>=0.3.52->langchain-chroma) (0.3.30)\n",
      "Requirement already satisfied: jsonpatch<2.0,>=1.33 in c:\\users\\문선장\\appdata\\local\\programs\\python\\python313\\lib\\site-packages (from langchain-core>=0.3.52->langchain-chroma) (1.33)\n",
      "Requirement already satisfied: packaging<25,>=23.2 in c:\\users\\문선장\\appdata\\local\\programs\\python\\python313\\lib\\site-packages (from langchain-core>=0.3.52->langchain-chroma) (24.2)\n",
      "Requirement already satisfied: pyproject_hooks in c:\\users\\문선장\\appdata\\local\\programs\\python\\python313\\lib\\site-packages (from build>=1.0.3->chromadb!=0.5.10,!=0.5.11,!=0.5.12,!=0.5.4,!=0.5.5,!=0.5.7,!=0.5.9,<0.7.0,>=0.4.0->langchain-chroma) (1.2.0)\n",
      "Requirement already satisfied: colorama in c:\\users\\문선장\\appdata\\local\\programs\\python\\python313\\lib\\site-packages (from build>=1.0.3->chromadb!=0.5.10,!=0.5.11,!=0.5.12,!=0.5.4,!=0.5.5,!=0.5.7,!=0.5.9,<0.7.0,>=0.4.0->langchain-chroma) (0.4.6)\n",
      "Requirement already satisfied: starlette<0.46.0,>=0.40.0 in c:\\users\\문선장\\appdata\\local\\programs\\python\\python313\\lib\\site-packages (from fastapi>=0.95.2->chromadb!=0.5.10,!=0.5.11,!=0.5.12,!=0.5.4,!=0.5.5,!=0.5.7,!=0.5.9,<0.7.0,>=0.4.0->langchain-chroma) (0.45.3)\n",
      "Requirement already satisfied: anyio in c:\\users\\문선장\\appdata\\local\\programs\\python\\python313\\lib\\site-packages (from httpx>=0.27.0->chromadb!=0.5.10,!=0.5.11,!=0.5.12,!=0.5.4,!=0.5.5,!=0.5.7,!=0.5.9,<0.7.0,>=0.4.0->langchain-chroma) (4.9.0)\n",
      "Requirement already satisfied: certifi in c:\\users\\문선장\\appdata\\local\\programs\\python\\python313\\lib\\site-packages (from httpx>=0.27.0->chromadb!=0.5.10,!=0.5.11,!=0.5.12,!=0.5.4,!=0.5.5,!=0.5.7,!=0.5.9,<0.7.0,>=0.4.0->langchain-chroma) (2025.1.31)\n",
      "Requirement already satisfied: httpcore==1.* in c:\\users\\문선장\\appdata\\local\\programs\\python\\python313\\lib\\site-packages (from httpx>=0.27.0->chromadb!=0.5.10,!=0.5.11,!=0.5.12,!=0.5.4,!=0.5.5,!=0.5.7,!=0.5.9,<0.7.0,>=0.4.0->langchain-chroma) (1.0.7)\n",
      "Requirement already satisfied: idna in c:\\users\\문선장\\appdata\\local\\programs\\python\\python313\\lib\\site-packages (from httpx>=0.27.0->chromadb!=0.5.10,!=0.5.11,!=0.5.12,!=0.5.4,!=0.5.5,!=0.5.7,!=0.5.9,<0.7.0,>=0.4.0->langchain-chroma) (3.10)\n",
      "Requirement already satisfied: h11<0.15,>=0.13 in c:\\users\\문선장\\appdata\\local\\programs\\python\\python313\\lib\\site-packages (from httpcore==1.*->httpx>=0.27.0->chromadb!=0.5.10,!=0.5.11,!=0.5.12,!=0.5.4,!=0.5.5,!=0.5.7,!=0.5.9,<0.7.0,>=0.4.0->langchain-chroma) (0.14.0)\n",
      "Requirement already satisfied: jsonpointer>=1.9 in c:\\users\\문선장\\appdata\\local\\programs\\python\\python313\\lib\\site-packages (from jsonpatch<2.0,>=1.33->langchain-core>=0.3.52->langchain-chroma) (3.0.0)\n",
      "Requirement already satisfied: six>=1.9.0 in c:\\users\\문선장\\appdata\\local\\programs\\python\\python313\\lib\\site-packages (from kubernetes>=28.1.0->chromadb!=0.5.10,!=0.5.11,!=0.5.12,!=0.5.4,!=0.5.5,!=0.5.7,!=0.5.9,<0.7.0,>=0.4.0->langchain-chroma) (1.17.0)\n",
      "Requirement already satisfied: python-dateutil>=2.5.3 in c:\\users\\문선장\\appdata\\local\\programs\\python\\python313\\lib\\site-packages (from kubernetes>=28.1.0->chromadb!=0.5.10,!=0.5.11,!=0.5.12,!=0.5.4,!=0.5.5,!=0.5.7,!=0.5.9,<0.7.0,>=0.4.0->langchain-chroma) (2.9.0.post0)\n",
      "Requirement already satisfied: google-auth>=1.0.1 in c:\\users\\문선장\\appdata\\local\\programs\\python\\python313\\lib\\site-packages (from kubernetes>=28.1.0->chromadb!=0.5.10,!=0.5.11,!=0.5.12,!=0.5.4,!=0.5.5,!=0.5.7,!=0.5.9,<0.7.0,>=0.4.0->langchain-chroma) (2.38.0)\n",
      "Requirement already satisfied: websocket-client!=0.40.0,!=0.41.*,!=0.42.*,>=0.32.0 in c:\\users\\문선장\\appdata\\local\\programs\\python\\python313\\lib\\site-packages (from kubernetes>=28.1.0->chromadb!=0.5.10,!=0.5.11,!=0.5.12,!=0.5.4,!=0.5.5,!=0.5.7,!=0.5.9,<0.7.0,>=0.4.0->langchain-chroma) (1.8.0)\n",
      "Requirement already satisfied: requests in c:\\users\\문선장\\appdata\\local\\programs\\python\\python313\\lib\\site-packages (from kubernetes>=28.1.0->chromadb!=0.5.10,!=0.5.11,!=0.5.12,!=0.5.4,!=0.5.5,!=0.5.7,!=0.5.9,<0.7.0,>=0.4.0->langchain-chroma) (2.32.3)\n",
      "Requirement already satisfied: requests-oauthlib in c:\\users\\문선장\\appdata\\local\\programs\\python\\python313\\lib\\site-packages (from kubernetes>=28.1.0->chromadb!=0.5.10,!=0.5.11,!=0.5.12,!=0.5.4,!=0.5.5,!=0.5.7,!=0.5.9,<0.7.0,>=0.4.0->langchain-chroma) (2.0.0)\n",
      "Requirement already satisfied: oauthlib>=3.2.2 in c:\\users\\문선장\\appdata\\local\\programs\\python\\python313\\lib\\site-packages (from kubernetes>=28.1.0->chromadb!=0.5.10,!=0.5.11,!=0.5.12,!=0.5.4,!=0.5.5,!=0.5.7,!=0.5.9,<0.7.0,>=0.4.0->langchain-chroma) (3.2.2)\n",
      "Requirement already satisfied: urllib3>=1.24.2 in c:\\users\\문선장\\appdata\\local\\programs\\python\\python313\\lib\\site-packages (from kubernetes>=28.1.0->chromadb!=0.5.10,!=0.5.11,!=0.5.12,!=0.5.4,!=0.5.5,!=0.5.7,!=0.5.9,<0.7.0,>=0.4.0->langchain-chroma) (2.3.0)\n",
      "Requirement already satisfied: durationpy>=0.7 in c:\\users\\문선장\\appdata\\local\\programs\\python\\python313\\lib\\site-packages (from kubernetes>=28.1.0->chromadb!=0.5.10,!=0.5.11,!=0.5.12,!=0.5.4,!=0.5.5,!=0.5.7,!=0.5.9,<0.7.0,>=0.4.0->langchain-chroma) (0.9)\n",
      "Requirement already satisfied: requests-toolbelt<2.0.0,>=1.0.0 in c:\\users\\문선장\\appdata\\local\\programs\\python\\python313\\lib\\site-packages (from langsmith<0.4,>=0.1.125->langchain-core>=0.3.52->langchain-chroma) (1.0.0)\n",
      "Requirement already satisfied: zstandard<0.24.0,>=0.23.0 in c:\\users\\문선장\\appdata\\local\\programs\\python\\python313\\lib\\site-packages (from langsmith<0.4,>=0.1.125->langchain-core>=0.3.52->langchain-chroma) (0.23.0)\n",
      "Requirement already satisfied: coloredlogs in c:\\users\\문선장\\appdata\\local\\programs\\python\\python313\\lib\\site-packages (from onnxruntime>=1.14.1->chromadb!=0.5.10,!=0.5.11,!=0.5.12,!=0.5.4,!=0.5.5,!=0.5.7,!=0.5.9,<0.7.0,>=0.4.0->langchain-chroma) (15.0.1)\n",
      "Requirement already satisfied: flatbuffers in c:\\users\\문선장\\appdata\\local\\programs\\python\\python313\\lib\\site-packages (from onnxruntime>=1.14.1->chromadb!=0.5.10,!=0.5.11,!=0.5.12,!=0.5.4,!=0.5.5,!=0.5.7,!=0.5.9,<0.7.0,>=0.4.0->langchain-chroma) (25.2.10)\n",
      "Requirement already satisfied: protobuf in c:\\users\\문선장\\appdata\\local\\programs\\python\\python313\\lib\\site-packages (from onnxruntime>=1.14.1->chromadb!=0.5.10,!=0.5.11,!=0.5.12,!=0.5.4,!=0.5.5,!=0.5.7,!=0.5.9,<0.7.0,>=0.4.0->langchain-chroma) (5.29.4)\n",
      "Requirement already satisfied: sympy in c:\\users\\문선장\\appdata\\local\\programs\\python\\python313\\lib\\site-packages (from onnxruntime>=1.14.1->chromadb!=0.5.10,!=0.5.11,!=0.5.12,!=0.5.4,!=0.5.5,!=0.5.7,!=0.5.9,<0.7.0,>=0.4.0->langchain-chroma) (1.13.3)\n",
      "Requirement already satisfied: deprecated>=1.2.6 in c:\\users\\문선장\\appdata\\local\\programs\\python\\python313\\lib\\site-packages (from opentelemetry-api>=1.2.0->chromadb!=0.5.10,!=0.5.11,!=0.5.12,!=0.5.4,!=0.5.5,!=0.5.7,!=0.5.9,<0.7.0,>=0.4.0->langchain-chroma) (1.2.18)\n",
      "Requirement already satisfied: importlib-metadata<8.7.0,>=6.0 in c:\\users\\문선장\\appdata\\local\\programs\\python\\python313\\lib\\site-packages (from opentelemetry-api>=1.2.0->chromadb!=0.5.10,!=0.5.11,!=0.5.12,!=0.5.4,!=0.5.5,!=0.5.7,!=0.5.9,<0.7.0,>=0.4.0->langchain-chroma) (8.6.1)\n",
      "Requirement already satisfied: googleapis-common-protos~=1.52 in c:\\users\\문선장\\appdata\\local\\programs\\python\\python313\\lib\\site-packages (from opentelemetry-exporter-otlp-proto-grpc>=1.2.0->chromadb!=0.5.10,!=0.5.11,!=0.5.12,!=0.5.4,!=0.5.5,!=0.5.7,!=0.5.9,<0.7.0,>=0.4.0->langchain-chroma) (1.70.0)\n",
      "Requirement already satisfied: opentelemetry-exporter-otlp-proto-common==1.32.0 in c:\\users\\문선장\\appdata\\local\\programs\\python\\python313\\lib\\site-packages (from opentelemetry-exporter-otlp-proto-grpc>=1.2.0->chromadb!=0.5.10,!=0.5.11,!=0.5.12,!=0.5.4,!=0.5.5,!=0.5.7,!=0.5.9,<0.7.0,>=0.4.0->langchain-chroma) (1.32.0)\n",
      "Requirement already satisfied: opentelemetry-proto==1.32.0 in c:\\users\\문선장\\appdata\\local\\programs\\python\\python313\\lib\\site-packages (from opentelemetry-exporter-otlp-proto-grpc>=1.2.0->chromadb!=0.5.10,!=0.5.11,!=0.5.12,!=0.5.4,!=0.5.5,!=0.5.7,!=0.5.9,<0.7.0,>=0.4.0->langchain-chroma) (1.32.0)\n",
      "Requirement already satisfied: opentelemetry-instrumentation-asgi==0.53b0 in c:\\users\\문선장\\appdata\\local\\programs\\python\\python313\\lib\\site-packages (from opentelemetry-instrumentation-fastapi>=0.41b0->chromadb!=0.5.10,!=0.5.11,!=0.5.12,!=0.5.4,!=0.5.5,!=0.5.7,!=0.5.9,<0.7.0,>=0.4.0->langchain-chroma) (0.53b0)\n",
      "Requirement already satisfied: opentelemetry-instrumentation==0.53b0 in c:\\users\\문선장\\appdata\\local\\programs\\python\\python313\\lib\\site-packages (from opentelemetry-instrumentation-fastapi>=0.41b0->chromadb!=0.5.10,!=0.5.11,!=0.5.12,!=0.5.4,!=0.5.5,!=0.5.7,!=0.5.9,<0.7.0,>=0.4.0->langchain-chroma) (0.53b0)\n",
      "Requirement already satisfied: opentelemetry-semantic-conventions==0.53b0 in c:\\users\\문선장\\appdata\\local\\programs\\python\\python313\\lib\\site-packages (from opentelemetry-instrumentation-fastapi>=0.41b0->chromadb!=0.5.10,!=0.5.11,!=0.5.12,!=0.5.4,!=0.5.5,!=0.5.7,!=0.5.9,<0.7.0,>=0.4.0->langchain-chroma) (0.53b0)\n",
      "Requirement already satisfied: opentelemetry-util-http==0.53b0 in c:\\users\\문선장\\appdata\\local\\programs\\python\\python313\\lib\\site-packages (from opentelemetry-instrumentation-fastapi>=0.41b0->chromadb!=0.5.10,!=0.5.11,!=0.5.12,!=0.5.4,!=0.5.5,!=0.5.7,!=0.5.9,<0.7.0,>=0.4.0->langchain-chroma) (0.53b0)\n",
      "Requirement already satisfied: wrapt<2.0.0,>=1.0.0 in c:\\users\\문선장\\appdata\\local\\programs\\python\\python313\\lib\\site-packages (from opentelemetry-instrumentation==0.53b0->opentelemetry-instrumentation-fastapi>=0.41b0->chromadb!=0.5.10,!=0.5.11,!=0.5.12,!=0.5.4,!=0.5.5,!=0.5.7,!=0.5.9,<0.7.0,>=0.4.0->langchain-chroma) (1.17.2)\n",
      "Requirement already satisfied: asgiref~=3.0 in c:\\users\\문선장\\appdata\\local\\programs\\python\\python313\\lib\\site-packages (from opentelemetry-instrumentation-asgi==0.53b0->opentelemetry-instrumentation-fastapi>=0.41b0->chromadb!=0.5.10,!=0.5.11,!=0.5.12,!=0.5.4,!=0.5.5,!=0.5.7,!=0.5.9,<0.7.0,>=0.4.0->langchain-chroma) (3.8.1)\n",
      "Requirement already satisfied: monotonic>=1.5 in c:\\users\\문선장\\appdata\\local\\programs\\python\\python313\\lib\\site-packages (from posthog>=2.4.0->chromadb!=0.5.10,!=0.5.11,!=0.5.12,!=0.5.4,!=0.5.5,!=0.5.7,!=0.5.9,<0.7.0,>=0.4.0->langchain-chroma) (1.6)\n",
      "Requirement already satisfied: backoff>=1.10.0 in c:\\users\\문선장\\appdata\\local\\programs\\python\\python313\\lib\\site-packages (from posthog>=2.4.0->chromadb!=0.5.10,!=0.5.11,!=0.5.12,!=0.5.4,!=0.5.5,!=0.5.7,!=0.5.9,<0.7.0,>=0.4.0->langchain-chroma) (2.2.1)\n",
      "Requirement already satisfied: distro>=1.5.0 in c:\\users\\문선장\\appdata\\local\\programs\\python\\python313\\lib\\site-packages (from posthog>=2.4.0->chromadb!=0.5.10,!=0.5.11,!=0.5.12,!=0.5.4,!=0.5.5,!=0.5.7,!=0.5.9,<0.7.0,>=0.4.0->langchain-chroma) (1.9.0)\n",
      "Requirement already satisfied: annotated-types>=0.6.0 in c:\\users\\문선장\\appdata\\local\\programs\\python\\python313\\lib\\site-packages (from pydantic>=1.9->chromadb!=0.5.10,!=0.5.11,!=0.5.12,!=0.5.4,!=0.5.5,!=0.5.7,!=0.5.9,<0.7.0,>=0.4.0->langchain-chroma) (0.7.0)\n",
      "Requirement already satisfied: pydantic-core==2.33.1 in c:\\users\\문선장\\appdata\\local\\programs\\python\\python313\\lib\\site-packages (from pydantic>=1.9->chromadb!=0.5.10,!=0.5.11,!=0.5.12,!=0.5.4,!=0.5.5,!=0.5.7,!=0.5.9,<0.7.0,>=0.4.0->langchain-chroma) (2.33.1)\n",
      "Requirement already satisfied: typing-inspection>=0.4.0 in c:\\users\\문선장\\appdata\\local\\programs\\python\\python313\\lib\\site-packages (from pydantic>=1.9->chromadb!=0.5.10,!=0.5.11,!=0.5.12,!=0.5.4,!=0.5.5,!=0.5.7,!=0.5.9,<0.7.0,>=0.4.0->langchain-chroma) (0.4.0)\n",
      "Requirement already satisfied: markdown-it-py>=2.2.0 in c:\\users\\문선장\\appdata\\local\\programs\\python\\python313\\lib\\site-packages (from rich>=10.11.0->chromadb!=0.5.10,!=0.5.11,!=0.5.12,!=0.5.4,!=0.5.5,!=0.5.7,!=0.5.9,<0.7.0,>=0.4.0->langchain-chroma) (3.0.0)\n",
      "Requirement already satisfied: pygments<3.0.0,>=2.13.0 in c:\\users\\문선장\\appdata\\local\\programs\\python\\python313\\lib\\site-packages (from rich>=10.11.0->chromadb!=0.5.10,!=0.5.11,!=0.5.12,!=0.5.4,!=0.5.5,!=0.5.7,!=0.5.9,<0.7.0,>=0.4.0->langchain-chroma) (2.19.1)\n",
      "Requirement already satisfied: huggingface-hub<1.0,>=0.16.4 in c:\\users\\문선장\\appdata\\local\\programs\\python\\python313\\lib\\site-packages (from tokenizers>=0.13.2->chromadb!=0.5.10,!=0.5.11,!=0.5.12,!=0.5.4,!=0.5.5,!=0.5.7,!=0.5.9,<0.7.0,>=0.4.0->langchain-chroma) (0.30.2)\n",
      "Requirement already satisfied: click>=8.0.0 in c:\\users\\문선장\\appdata\\local\\programs\\python\\python313\\lib\\site-packages (from typer>=0.9.0->chromadb!=0.5.10,!=0.5.11,!=0.5.12,!=0.5.4,!=0.5.5,!=0.5.7,!=0.5.9,<0.7.0,>=0.4.0->langchain-chroma) (8.1.8)\n",
      "Requirement already satisfied: shellingham>=1.3.0 in c:\\users\\문선장\\appdata\\local\\programs\\python\\python313\\lib\\site-packages (from typer>=0.9.0->chromadb!=0.5.10,!=0.5.11,!=0.5.12,!=0.5.4,!=0.5.5,!=0.5.7,!=0.5.9,<0.7.0,>=0.4.0->langchain-chroma) (1.5.4)\n",
      "Requirement already satisfied: httptools>=0.6.3 in c:\\users\\문선장\\appdata\\local\\programs\\python\\python313\\lib\\site-packages (from uvicorn[standard]>=0.18.3->chromadb!=0.5.10,!=0.5.11,!=0.5.12,!=0.5.4,!=0.5.5,!=0.5.7,!=0.5.9,<0.7.0,>=0.4.0->langchain-chroma) (0.6.4)\n",
      "Requirement already satisfied: python-dotenv>=0.13 in c:\\users\\문선장\\appdata\\local\\programs\\python\\python313\\lib\\site-packages (from uvicorn[standard]>=0.18.3->chromadb!=0.5.10,!=0.5.11,!=0.5.12,!=0.5.4,!=0.5.5,!=0.5.7,!=0.5.9,<0.7.0,>=0.4.0->langchain-chroma) (1.1.0)\n",
      "Requirement already satisfied: watchfiles>=0.13 in c:\\users\\문선장\\appdata\\local\\programs\\python\\python313\\lib\\site-packages (from uvicorn[standard]>=0.18.3->chromadb!=0.5.10,!=0.5.11,!=0.5.12,!=0.5.4,!=0.5.5,!=0.5.7,!=0.5.9,<0.7.0,>=0.4.0->langchain-chroma) (1.0.5)\n",
      "Requirement already satisfied: websockets>=10.4 in c:\\users\\문선장\\appdata\\local\\programs\\python\\python313\\lib\\site-packages (from uvicorn[standard]>=0.18.3->chromadb!=0.5.10,!=0.5.11,!=0.5.12,!=0.5.4,!=0.5.5,!=0.5.7,!=0.5.9,<0.7.0,>=0.4.0->langchain-chroma) (15.0.1)\n",
      "Requirement already satisfied: cachetools<6.0,>=2.0.0 in c:\\users\\문선장\\appdata\\local\\programs\\python\\python313\\lib\\site-packages (from google-auth>=1.0.1->kubernetes>=28.1.0->chromadb!=0.5.10,!=0.5.11,!=0.5.12,!=0.5.4,!=0.5.5,!=0.5.7,!=0.5.9,<0.7.0,>=0.4.0->langchain-chroma) (5.5.2)\n",
      "Requirement already satisfied: pyasn1-modules>=0.2.1 in c:\\users\\문선장\\appdata\\local\\programs\\python\\python313\\lib\\site-packages (from google-auth>=1.0.1->kubernetes>=28.1.0->chromadb!=0.5.10,!=0.5.11,!=0.5.12,!=0.5.4,!=0.5.5,!=0.5.7,!=0.5.9,<0.7.0,>=0.4.0->langchain-chroma) (0.4.2)\n",
      "Requirement already satisfied: rsa<5,>=3.1.4 in c:\\users\\문선장\\appdata\\local\\programs\\python\\python313\\lib\\site-packages (from google-auth>=1.0.1->kubernetes>=28.1.0->chromadb!=0.5.10,!=0.5.11,!=0.5.12,!=0.5.4,!=0.5.5,!=0.5.7,!=0.5.9,<0.7.0,>=0.4.0->langchain-chroma) (4.9)\n",
      "Requirement already satisfied: filelock in c:\\users\\문선장\\appdata\\local\\programs\\python\\python313\\lib\\site-packages (from huggingface-hub<1.0,>=0.16.4->tokenizers>=0.13.2->chromadb!=0.5.10,!=0.5.11,!=0.5.12,!=0.5.4,!=0.5.5,!=0.5.7,!=0.5.9,<0.7.0,>=0.4.0->langchain-chroma) (3.18.0)\n",
      "Requirement already satisfied: fsspec>=2023.5.0 in c:\\users\\문선장\\appdata\\local\\programs\\python\\python313\\lib\\site-packages (from huggingface-hub<1.0,>=0.16.4->tokenizers>=0.13.2->chromadb!=0.5.10,!=0.5.11,!=0.5.12,!=0.5.4,!=0.5.5,!=0.5.7,!=0.5.9,<0.7.0,>=0.4.0->langchain-chroma) (2025.3.2)\n",
      "Requirement already satisfied: zipp>=3.20 in c:\\users\\문선장\\appdata\\local\\programs\\python\\python313\\lib\\site-packages (from importlib-metadata<8.7.0,>=6.0->opentelemetry-api>=1.2.0->chromadb!=0.5.10,!=0.5.11,!=0.5.12,!=0.5.4,!=0.5.5,!=0.5.7,!=0.5.9,<0.7.0,>=0.4.0->langchain-chroma) (3.21.0)\n",
      "Requirement already satisfied: mdurl~=0.1 in c:\\users\\문선장\\appdata\\local\\programs\\python\\python313\\lib\\site-packages (from markdown-it-py>=2.2.0->rich>=10.11.0->chromadb!=0.5.10,!=0.5.11,!=0.5.12,!=0.5.4,!=0.5.5,!=0.5.7,!=0.5.9,<0.7.0,>=0.4.0->langchain-chroma) (0.1.2)\n",
      "Requirement already satisfied: charset-normalizer<4,>=2 in c:\\users\\문선장\\appdata\\local\\programs\\python\\python313\\lib\\site-packages (from requests->kubernetes>=28.1.0->chromadb!=0.5.10,!=0.5.11,!=0.5.12,!=0.5.4,!=0.5.5,!=0.5.7,!=0.5.9,<0.7.0,>=0.4.0->langchain-chroma) (3.4.1)\n",
      "Requirement already satisfied: sniffio>=1.1 in c:\\users\\문선장\\appdata\\local\\programs\\python\\python313\\lib\\site-packages (from anyio->httpx>=0.27.0->chromadb!=0.5.10,!=0.5.11,!=0.5.12,!=0.5.4,!=0.5.5,!=0.5.7,!=0.5.9,<0.7.0,>=0.4.0->langchain-chroma) (1.3.1)\n",
      "Requirement already satisfied: humanfriendly>=9.1 in c:\\users\\문선장\\appdata\\local\\programs\\python\\python313\\lib\\site-packages (from coloredlogs->onnxruntime>=1.14.1->chromadb!=0.5.10,!=0.5.11,!=0.5.12,!=0.5.4,!=0.5.5,!=0.5.7,!=0.5.9,<0.7.0,>=0.4.0->langchain-chroma) (10.0)\n",
      "Requirement already satisfied: mpmath<1.4,>=1.1.0 in c:\\users\\문선장\\appdata\\local\\programs\\python\\python313\\lib\\site-packages (from sympy->onnxruntime>=1.14.1->chromadb!=0.5.10,!=0.5.11,!=0.5.12,!=0.5.4,!=0.5.5,!=0.5.7,!=0.5.9,<0.7.0,>=0.4.0->langchain-chroma) (1.3.0)\n",
      "Requirement already satisfied: pyreadline3 in c:\\users\\문선장\\appdata\\local\\programs\\python\\python313\\lib\\site-packages (from humanfriendly>=9.1->coloredlogs->onnxruntime>=1.14.1->chromadb!=0.5.10,!=0.5.11,!=0.5.12,!=0.5.4,!=0.5.5,!=0.5.7,!=0.5.9,<0.7.0,>=0.4.0->langchain-chroma) (3.5.4)\n",
      "Requirement already satisfied: pyasn1<0.7.0,>=0.6.1 in c:\\users\\문선장\\appdata\\local\\programs\\python\\python313\\lib\\site-packages (from pyasn1-modules>=0.2.1->google-auth>=1.0.1->kubernetes>=28.1.0->chromadb!=0.5.10,!=0.5.11,!=0.5.12,!=0.5.4,!=0.5.5,!=0.5.7,!=0.5.9,<0.7.0,>=0.4.0->langchain-chroma) (0.6.1)\n",
      "Using cached langchain_chroma-0.2.3-py3-none-any.whl (11 kB)\n",
      "Using cached chromadb-0.6.3-py3-none-any.whl (611 kB)\n",
      "Installing collected packages: chromadb, langchain-chroma\n",
      "  Attempting uninstall: chromadb\n",
      "    Found existing installation: chromadb 1.0.4\n",
      "    Uninstalling chromadb-1.0.4:\n",
      "      Successfully uninstalled chromadb-1.0.4\n",
      "Successfully installed chromadb-0.6.3 langchain-chroma-0.2.3\n"
     ]
    },
    {
     "name": "stderr",
     "output_type": "stream",
     "text": [
      "  WARNING: Failed to remove contents in a temporary directory 'C:\\Users\\문선장\\AppData\\Local\\Programs\\Python\\Python313\\Lib\\site-packages\\~hromadb_rust_bindings'.\n",
      "  You can safely remove it manually.\n",
      "\n",
      "[notice] A new release of pip is available: 25.0.1 -> 25.1.1\n",
      "[notice] To update, run: python.exe -m pip install --upgrade pip\n"
     ]
    }
   ],
   "source": [
    "!pip install -U langchain-chroma"
   ]
  },
  {
   "cell_type": "code",
   "execution_count": 1,
   "id": "bbec9233-f614-4d72-8064-d78596f781a4",
   "metadata": {},
   "outputs": [
    {
     "name": "stdout",
     "output_type": "stream",
     "text": [
      "✅ 모든 Chroma DB 경로 완전 삭제 완료 — 커널 재시작 후 계속하세요\n"
     ]
    }
   ],
   "source": [
    "import shutil\n",
    "import os\n",
    "from pathlib import Path\n",
    "\n",
    "# 1. 프로젝트 폴더 내 Chroma 디렉토리 삭제\n",
    "shutil.rmtree(\"./chroma_db\", ignore_errors=True)\n",
    "\n",
    "# 2. 사용자 홈 폴더 아래 Chroma 캐시 삭제\n",
    "shutil.rmtree(Path.home() / \".chromadb\", ignore_errors=True)\n",
    "\n",
    "# 3. Windows LocalAppData 경로 삭제 (숨겨진 문제 흔함)\n",
    "shutil.rmtree(Path.home() / \"AppData\" / \"Local\" / \"chromadb\", ignore_errors=True)\n",
    "\n",
    "print(\"✅ 모든 Chroma DB 경로 완전 삭제 완료 — 커널 재시작 후 계속하세요\")"
   ]
  },
  {
   "cell_type": "code",
   "execution_count": 2,
   "id": "7167c57b-3dd1-41bd-b0e2-429c43cc3fae",
   "metadata": {},
   "outputs": [],
   "source": [
    "import shutil\n",
    "import os\n",
    "from pathlib import Path\n",
    "\n",
    "# 전체 Chroma DB 삭제 (기본 디렉토리와 시스템 캐시 포함)\n",
    "shutil.rmtree(\"./chroma_db\", ignore_errors=True)\n",
    "shutil.rmtree(Path.home() / \".chromadb\", ignore_errors=True)"
   ]
  },
  {
   "cell_type": "code",
   "execution_count": 3,
   "id": "8a9ca161-538f-4dd5-be48-931c738c7780",
   "metadata": {},
   "outputs": [],
   "source": [
    "import os\n",
    "import json\n",
    "from langchain_openai import OpenAIEmbeddings\n",
    "from langchain_core.documents import Document\n",
    "from langchain.text_splitter import RecursiveCharacterTextSplitter\n",
    "from langchain_community.vectorstores import Chroma\n",
    "import chromadb\n",
    "\n",
    "os.environ[\"OPENAI_API_KEY\"] = \"키 넣으세용\"\n",
    "\n",
    "embeddings_model = OpenAIEmbeddings(model=\"text-embedding-3-small\")\n",
    "text_splitter = RecursiveCharacterTextSplitter(chunk_size=500, chunk_overlap=100)\n",
    "client = chromadb.PersistentClient(path=\"./chroma_db\")\n",
    "\n",
    "def load_json_documents(json_files):\n",
    "    docs = []\n",
    "    for file in json_files:\n",
    "        with open(file, \"r\", encoding=\"utf-8\") as f:\n",
    "            data = json.load(f)\n",
    "        for item in data:\n",
    "            if \"Text\" in item and \"Completion\" in item:\n",
    "                docs.append(Document(\n",
    "                    page_content=f\"질문: {item['Text']}\\n답변: {item['Completion']}\",\n",
    "                    metadata={\"카테고리\": item.get(\"카테고리\", \"\")}\n",
    "                ))\n",
    "            elif \"lecture_name\" in item and \"student_id\" in item:\n",
    "                content = (\n",
    "                    f\"학번: {item['student_id']}\\n\"\n",
    "                    f\"과목명: {item['lecture_name']}\\n\"\n",
    "                    f\"학정번호: {item['lecture_id']}\\n\"\n",
    "                    f\"개설 학과: {item['department_offered']}\\n\"\n",
    "                    f\"이수 구분: {item['lecture_course_type']}\\n\"\n",
    "                    f\"학점: {item['lecture_credit']}학점\\n\"\n",
    "                    f\"성적: {item['lecutre_grade']}\"\n",
    "                )\n",
    "                if \"retake_or_delete_status\" in item:\n",
    "                    content += f\"\\n재수강/삭제 여부: {item['retake_or_delete_status']}\"\n",
    "                if \"retake_status\" in item:\n",
    "                    content += f\"\\n재수강 여부: {item['retake_status']}\"\n",
    "\n",
    "                docs.append(Document(page_content=content))\n",
    "    return docs\n"
   ]
  },
  {
   "cell_type": "code",
   "execution_count": 5,
   "id": "282a611e-6e11-47ca-8e97-19eb1b7bc84a",
   "metadata": {},
   "outputs": [
    {
     "name": "stdout",
     "output_type": "stream",
     "text": [
      "[kim] 임베딩 완료 (24건)\n",
      "[hong] 임베딩 완료 (24건)\n",
      "[lecture_search] 임베딩 완료 (48건)\n",
      "[career_counsel] 임베딩 완료 (44건)\n",
      "[academic_status] 임베딩 완료 (40건)\n"
     ]
    }
   ],
   "source": [
    "user_datasets = {\n",
    "    \"kim\": [\"data/kw_chatbot_data - 김브티_수강이력.json\"],\n",
    "    \"hong\": [\"data/kw_chatbot_data - 홍데사_수강이력.json\"]\n",
    "}\n",
    "\n",
    "task_datasets = {\n",
    "    \"lecture_search\": [\n",
    "        \"data/kw_chatbot_data - Student.json\",\n",
    "        \"data/kw_chatbot_data - 강의 평점.json\",\n",
    "        \"data/kw_chatbot_data - 강의계획서.json\",\n",
    "        \"data/kw_chatbot_data - 김브티_성적.json\",\n",
    "        \"data/kw_chatbot_data - 김브티_수강이력.json\",\n",
    "        \"data/kw_chatbot_data - 수강신청자료집.json\",\n",
    "        \"data/kw_chatbot_data - 커리큘럼(DS).json\",\n",
    "        \"data/kw_chatbot_data - 커리큘럼(VT).json\",\n",
    "        \"data/kw_chatbot_data - 홍데사_성적.json\",\n",
    "        \"data/kw_chatbot_data - 홍데사_수강이력.json\"\n",
    "    ],\n",
    "    \"career_counsel\": [\"data/진로상담.json\"],\n",
    "    \"academic_status\": [\"data/학습현황.json\"]\n",
    "}\n",
    "\n",
    "# 사용자별 컬렉션\n",
    "for user_id, files in user_datasets.items():\n",
    "    collection_name = f\"lecture_search_{user_id}\"\n",
    "    try:\n",
    "        client.delete_collection(name=collection_name)\n",
    "    except:\n",
    "        pass\n",
    "    docs = load_json_documents(files)\n",
    "    split_docs = text_splitter.split_documents(docs)\n",
    "    texts = [doc.page_content for doc in split_docs]\n",
    "    embeddings = embeddings_model.embed_documents(texts)\n",
    "    collection = client.create_collection(name=collection_name)\n",
    "    collection.add(\n",
    "        documents=texts,\n",
    "        embeddings=embeddings,\n",
    "        ids=[f\"{collection_name}_{i}\" for i in range(len(texts))]\n",
    "    )\n",
    "    print(f\"[{user_id}] 임베딩 완료 ({len(embeddings)}건)\")\n",
    "\n",
    "# 기능별 컬렉션\n",
    "for task, files in task_datasets.items():\n",
    "    try:\n",
    "        client.delete_collection(name=task)\n",
    "    except:\n",
    "        pass\n",
    "    docs = load_json_documents(files)\n",
    "    split_docs = text_splitter.split_documents(docs)\n",
    "    texts = [doc.page_content for doc in split_docs]\n",
    "    embeddings = embeddings_model.embed_documents(texts)\n",
    "    collection = client.create_collection(name=task)\n",
    "    collection.add(\n",
    "        documents=texts,\n",
    "        embeddings=embeddings,\n",
    "        ids=[f\"{task}_{i}\" for i in range(len(texts))]\n",
    "    )\n",
    "    print(f\"[{task}] 임베딩 완료 ({len(embeddings)}건)\")"
   ]
  },
  {
   "cell_type": "code",
   "execution_count": 35,
   "id": "a21342dc-2533-4b13-84de-dbf1b72ec2a4",
   "metadata": {},
   "outputs": [],
   "source": [
    "from langchain_chroma import Chroma\n",
    "from langchain.chains import RetrievalQA\n",
    "from langchain.prompts import PromptTemplate\n",
    "from langchain_openai import ChatOpenAI\n",
    "\n",
    "llm = ChatOpenAI(model=\"gpt-3.5-turbo\", temperature=0.3)\n",
    "\n",
    "def get_collection_name(user_input: str, user_id: str) -> str:\n",
    "    q = user_input.lower()\n",
    "    if \"진로\" in q or \"상담\" in q:\n",
    "        return \"career_counsel\"\n",
    "    elif \"이수\" in q or \"학점\" in q or \"현황\" in q or \"평균\" in q:\n",
    "        return \"academic_status\"\n",
    "    return f\"lecture_search_{user_id}\"\n",
    "\n",
    "def answer_query(user_input: str, user_id: str = \"kim\"):\n",
    "    collection_name = get_collection_name(user_input, user_id)\n",
    "    vectorstore = Chroma(\n",
    "        persist_directory=\"./chroma_db\",\n",
    "        collection_name=collection_name,\n",
    "        embedding_function=embeddings_model\n",
    "    )\n",
    "    prompt = PromptTemplate(\n",
    "    input_variables=[\"context\", \"question\"],\n",
    "    template=\"\"\"\n",
    "        다음은 사용자의 수강 이력 또는 학업/진로 관련 정보입니다.\n",
    "        질문에 답할 때 반드시 정확한 정보를 바탕으로 하세요.\n",
    "\n",
    "        성적은 A+, A0, B+, B0, C+, C0, F 등의 형식이며, \n",
    "        ❗ 절대 유사한 등급을 포함하거나 추론하지 마세요.\n",
    "        예: \"A+\"를 요청했을 경우, 반드시 성적이 \"A+\"인 과목만 포함하세요. \"A0\"는 포함하면 안 됩니다.\n",
    "\n",
    "        📌 답변 형식 지침:\n",
    "        - 질문에 해당하는 내용이 **여러 개인 경우 빠짐없이 모두 나열**하세요.\n",
    "        - 질문 유형에 따라 말끝을 다르게 쓰세요.\n",
    "          예:\n",
    "            - \"내가 A+ 받은 과목 알려줘\" → \"OOO, OOO 과목에서 A+를 받으셨습니다.\"\n",
    "            - \"자료구조 성적이 뭐야?\" → \"자료구조의 성적은 B+입니다.\"\n",
    "            - \"객체지향프로그래밍이 전선이지?\" → \"네, 객체지향프로그래밍은 전필입니다.\"\n",
    "            - \"전체 평균이 어떻게 돼?\" → \"전체 성적 평균은 3.58입니다.\"\n",
    "        - **절대로 \"답변:\"으로 시작하지 마세요. 문장은 바로 시작하세요.**\n",
    "        - 정중하고 간결하게, 핵심만 자연스럽게 응답하세요.\n",
    "        - 축하 인사, 추가 질문 권유 등은 하지 마세요.\n",
    "\n",
    "        문서:\n",
    "        {context}\n",
    "\n",
    "        질문:\n",
    "        {question}\n",
    "\n",
    "        위 지침을 따라 **답변 접두어 없이** 자연스럽게 말문을 여세요.\n",
    "        \"\"\"\n",
    "    )\n",
    "    qa = RetrievalQA.from_chain_type(\n",
    "        llm=llm,\n",
    "        retriever=vectorstore.as_retriever(search_kwargs={\"k\": 20}),\n",
    "        chain_type=\"stuff\",\n",
    "        chain_type_kwargs={\"prompt\": prompt}\n",
    "    )\n",
    "    return qa.invoke({\"query\": user_input})[\"result\"]"
   ]
  },
  {
   "cell_type": "code",
   "execution_count": 34,
   "id": "dc3a96ab-6c24-499b-bd83-947168e9d72d",
   "metadata": {},
   "outputs": [],
   "source": [
    "##성적추가한 거...아직 정확하진 않은듯..?\n",
    "## 근데 그 성적 따로 올릴거니까 상관없지않나..? 일단 해봄\n",
    "\n",
    "from langchain_chroma import Chroma\n",
    "from langchain.chains import RetrievalQA\n",
    "from langchain.prompts import PromptTemplate\n",
    "from langchain_openai import ChatOpenAI\n",
    "\n",
    "llm = ChatOpenAI(model=\"gpt-3.5-turbo\", temperature=0.3)\n",
    "\n",
    "def get_collection_name(user_input: str, user_id: str) -> str:\n",
    "    q = user_input.lower()\n",
    "    if \"진로\" in q or \"상담\" in q:\n",
    "        return \"career_counsel\"\n",
    "    elif \"이수\" in q or \"학점\" in q or \"현황\" in q or \"평균\" in q:\n",
    "        return \"academic_status\"\n",
    "    return f\"lecture_search_{user_id}\"\n",
    "\n",
    "def answer_query(user_input: str, user_id: str = \"kim\"):\n",
    "    if \"평균\" in user_input or \"전선 성적\" in user_input:\n",
    "        file_path = f\"data/kw_chatbot_data - {'김브티' if user_id == 'kim' else '홍데사'}_수강이력.json\"\n",
    "        with open(file_path, \"r\", encoding=\"utf-8\") as f:\n",
    "            data = json.load(f)\n",
    "\n",
    "        grades = {\n",
    "            \"A+\": 4.5, \"A0\": 4.0,\n",
    "            \"B+\": 3.5, \"B0\": 3.0,\n",
    "            \"C+\": 2.5, \"C0\": 2.0,\n",
    "            \"D+\": 1.5, \"D0\": 1.0,\n",
    "            \"F\": 0.0\n",
    "        }\n",
    "\n",
    "        total_points = 0\n",
    "        total_credits = 0\n",
    "        for item in data:\n",
    "            grade = item.get(\"lecutre_grade\")\n",
    "            credit = item.get(\"lecture_credit\", 0)\n",
    "            is_major = item.get(\"lecture_course_type\") == \"전선\"\n",
    "            if grade in grades and isinstance(credit, (int, float)):\n",
    "                if \"전선\" in user_input:\n",
    "                    if is_major:\n",
    "                        total_points += grades[grade] * credit\n",
    "                        total_credits += credit\n",
    "                else:\n",
    "                    total_points += grades[grade] * credit\n",
    "                    total_credits += credit\n",
    "\n",
    "        if total_credits == 0:\n",
    "            return \"성적 정보가 없습니다.\"\n",
    "\n",
    "        gpa = round(total_points / total_credits, 2)\n",
    "        if \"전선\" in user_input:\n",
    "            return f\"전선 성적 평균은 {gpa}입니다.\"\n",
    "        return f\"전체 성적 평균은 {gpa}입니다.\"\n",
    "\n",
    "    collection_name = get_collection_name(user_input, user_id)\n",
    "    vectorstore = Chroma(\n",
    "        persist_directory=\"./chroma_db\",\n",
    "        collection_name=collection_name,\n",
    "        embedding_function=embeddings_model\n",
    "    )\n",
    "\n",
    "    prompt = PromptTemplate(\n",
    "        input_variables=[\"context\", \"question\"],\n",
    "        template=\"\"\"\n",
    "        다음은 사용자의 수강 이력 또는 학업/진로 관련 정보입니다.\n",
    "        질문에 답할 때 반드시 정확한 정보를 바탕으로 하세요.\n",
    "\n",
    "        성적은 A+, A0, B+, B0, C+, C0, F 등의 형식이며,\n",
    "        ❗ 절대 유사한 등급을 포함하거나 추론하지 마세요.\n",
    "        예: \"A+\"를 요청했을 경우, 반드시 성적이 \"A+\"인 과목만 포함하세요. \"A0\"는 포함하면 안 됩니다.\n",
    "\n",
    "        📌 답변 형식 지침:\n",
    "        - 질문에 해당하는 내용이 **여러 개인 경우 빠짐없이 모두 나열**하세요.\n",
    "        - 질문 유형에 따라 말끝을 다르게 쓰세요.\n",
    "          예:\n",
    "            - \"내가 A+ 받은 과목 알려줘\" → \"OOO, OOO 과목에서 A+를 받으셨습니다.\"\n",
    "            - \"자료구조 성적이 뭐야?\" → \"자료구조의 성적은 B+입니다.\"\n",
    "            - \"객체지향프로그래밍이 전선이지?\" → \"네, 객체지향프로그래밍은 전필입니다.\"\n",
    "            - \"전체 평균이 어떻게 돼?\" → \"전체 성적 평균은 3.58입니다.\"\n",
    "            - \"F 받은 과목은?\" → \"OOO, OOO 과목에서 F를 받으셨습니다.\"\n",
    "            - \"B 이상 받은 과목은?\" → \"OOO, OOO 과목에서 B 이상을 받으셨습니다.\"\n",
    "            - \"C+ 받은 과목은?\" → \"OOO 과목에서 C+를 받으셨습니다.\"\n",
    "            - \"재수강하고 학점이 어떻게 바꼈어?\" → \"OOO 과목은 B0에서 A0로 바뀌었습니다.\"\n",
    "        - **절대로 '답변:'으로 시작하지 마세요. 문장은 바로 시작하세요.**\n",
    "        - 정중하고 간결하게, 핵심만 자연스럽게 응답하세요.\n",
    "        - 축하 인사, 추가 질문 권유 등은 하지 마세요.\n",
    "\n",
    "        문서:\n",
    "        {context}\n",
    "\n",
    "        질문:\n",
    "        {question}\n",
    "\n",
    "        위 지침을 따라 **답변 접두어 없이** 자연스럽게 말문을 여세요.\n",
    "        \"\"\"\n",
    "    )\n",
    "\n",
    "    qa = RetrievalQA.from_chain_type(\n",
    "        llm=llm,\n",
    "        retriever=vectorstore.as_retriever(search_kwargs={\"k\": 20}),\n",
    "        chain_type=\"stuff\",\n",
    "        chain_type_kwargs={\"prompt\": prompt}\n",
    "    )\n",
    "\n",
    "    return qa.invoke({\"query\": user_input})[\"result\"]"
   ]
  },
  {
   "cell_type": "code",
   "execution_count": 36,
   "id": "57cfa943-4574-44fc-bf7a-d28b9398f655",
   "metadata": {},
   "outputs": [
    {
     "data": {
      "text/plain": [
       "'인터랙티브미디어개론의 학점은 B+입니다.'"
      ]
     },
     "execution_count": 36,
     "metadata": {},
     "output_type": "execute_result"
    }
   ],
   "source": [
    "answer_query(\"인터랙티브미디어개론 학점이 어때?\", user_id=\"kim\")"
   ]
  },
  {
   "cell_type": "code",
   "execution_count": 37,
   "id": "8c03bebf-1c8b-437d-9d19-9a72674804f6",
   "metadata": {},
   "outputs": [
    {
     "data": {
      "text/plain": [
       "'인터넷활용, 대학수학및연습2, 경제와경영, 생활속의생명과학 중에서 A+를 받은 과목입니다.'"
      ]
     },
     "execution_count": 37,
     "metadata": {},
     "output_type": "execute_result"
    }
   ],
   "source": [
    "answer_query(\"내가 A+ 받은 과목 알려줘\", user_id=\"kim\")"
   ]
  },
  {
   "cell_type": "code",
   "execution_count": 38,
   "id": "2353b845-ab36-493a-aa5a-ce6a581c9f77",
   "metadata": {},
   "outputs": [
    {
     "data": {
      "text/plain": [
       "'AI수학, 그래픽디자인, 대학수학및연습2, 대학수학및연습1, 컴퓨팅사고, 생활속의생명과학, 화폐와금융의과거,현재그리고미래에서 A+를 받았습니다.'"
      ]
     },
     "execution_count": 38,
     "metadata": {},
     "output_type": "execute_result"
    }
   ],
   "source": [
    "answer_query(\"내가 A+ 받은 과목 알려줘\", user_id=\"hong\")"
   ]
  },
  {
   "cell_type": "code",
   "execution_count": 14,
   "id": "0d15b6a9-79ab-431b-9f36-c570b9ad377e",
   "metadata": {},
   "outputs": [
    {
     "data": {
      "text/plain": [
       "'창의설계입문 과목을 재수강했습니다.'"
      ]
     },
     "execution_count": 14,
     "metadata": {},
     "output_type": "execute_result"
    }
   ],
   "source": [
    "answer_query(\"재수강한 거 뭐있어?\", user_id=\"hong\")"
   ]
  },
  {
   "cell_type": "code",
   "execution_count": 23,
   "id": "64dfa46a-65c3-47c3-8389-34f3938f3585",
   "metadata": {},
   "outputs": [
    {
     "data": {
      "text/plain": [
       "'프로그래밍 기초 과목은 B0에서 A+로 바뀌었습니다.'"
      ]
     },
     "execution_count": 23,
     "metadata": {},
     "output_type": "execute_result"
    }
   ],
   "source": [
    "answer_query(\"재수강하고 학점이 어떻게 바꼈어?\", user_id=\"hong\")"
   ]
  },
  {
   "cell_type": "code",
   "execution_count": 30,
   "id": "75de531c-c12d-40a1-a868-c5ee1d3b2632",
   "metadata": {},
   "outputs": [
    {
     "data": {
      "text/plain": [
       "'재수강한 과목인 프로그래밍 기초는 B0에서 A0로 바뀌어 전체 학점이 상승했습니다.'"
      ]
     },
     "execution_count": 30,
     "metadata": {},
     "output_type": "execute_result"
    }
   ],
   "source": [
    "answer_query(\"재수강하고 전체학점이 어떻게 바꼈어?\", user_id=\"hong\")"
   ]
  },
  {
   "cell_type": "code",
   "execution_count": 24,
   "id": "5c96c1cd-3f88-4f1a-839f-cd2209be46c1",
   "metadata": {},
   "outputs": [
    {
     "data": {
      "text/plain": [
       "'전체 성적 평균은 3.62입니다.'"
      ]
     },
     "execution_count": 24,
     "metadata": {},
     "output_type": "execute_result"
    }
   ],
   "source": [
    "answer_query(\"전체 성적 평균이 어떻게 돼?\", user_id=\"hong\")"
   ]
  },
  {
   "cell_type": "code",
   "execution_count": 26,
   "id": "d4b5140f-9b46-459e-be1a-095a96bc9189",
   "metadata": {},
   "outputs": [
    {
     "data": {
      "text/plain": [
       "'전체 성적 평균은 3.65입니다.'"
      ]
     },
     "execution_count": 26,
     "metadata": {},
     "output_type": "execute_result"
    }
   ],
   "source": [
    "answer_query(\"전체 성적 평균이 어떻게 돼?\", user_id=\"kim\")"
   ]
  },
  {
   "cell_type": "code",
   "execution_count": 31,
   "id": "644bd837-27cc-43a6-bb2f-879919cc1298",
   "metadata": {},
   "outputs": [
    {
     "data": {
      "text/plain": [
       "'전체 성적 평균은 3.65입니다.'"
      ]
     },
     "execution_count": 31,
     "metadata": {},
     "output_type": "execute_result"
    }
   ],
   "source": [
    "answer_query(\"전공 평균이 어떻게 돼?\", user_id=\"kim\")"
   ]
  },
  {
   "cell_type": "code",
   "execution_count": 19,
   "id": "6c4338b2-4347-457f-a9e5-f0453c0f6cc7",
   "metadata": {},
   "outputs": [
    {
     "data": {
      "text/plain": [
       "'창의설계입문 과목을 한 번 재수강했습니다.'"
      ]
     },
     "execution_count": 19,
     "metadata": {},
     "output_type": "execute_result"
    }
   ],
   "source": [
    "answer_query(\"재수강 몇 번 했어?\", user_id=\"hong\")"
   ]
  },
  {
   "cell_type": "code",
   "execution_count": 27,
   "id": "486ed612-f92d-4d13-a6fb-f4bc276e158b",
   "metadata": {},
   "outputs": [
    {
     "data": {
      "text/plain": [
       "'객체지향프로그래밍의 성적은 B0입니다.'"
      ]
     },
     "execution_count": 27,
     "metadata": {},
     "output_type": "execute_result"
    }
   ],
   "source": [
    "answer_query(\"객체지향프로그래밍 성적이 뭐야?\", user_id=\"kim\")"
   ]
  },
  {
   "cell_type": "code",
   "execution_count": null,
   "id": "5a18c02e-d9bb-425a-a264-30f12a6b6145",
   "metadata": {},
   "outputs": [],
   "source": []
  },
  {
   "cell_type": "code",
   "execution_count": null,
   "id": "6a8a71fb-27e7-4445-b17f-c009bd573e49",
   "metadata": {},
   "outputs": [],
   "source": []
  },
  {
   "cell_type": "code",
   "execution_count": null,
   "id": "b7796a01-b1b8-4bd9-8dee-37dc3291f326",
   "metadata": {},
   "outputs": [],
   "source": []
  }
 ],
 "metadata": {
  "kernelspec": {
   "display_name": "Python 3 (ipykernel)",
   "language": "python",
   "name": "python3"
  },
  "language_info": {
   "codemirror_mode": {
    "name": "ipython",
    "version": 3
   },
   "file_extension": ".py",
   "mimetype": "text/x-python",
   "name": "python",
   "nbconvert_exporter": "python",
   "pygments_lexer": "ipython3",
   "version": "3.13.3"
  }
 },
 "nbformat": 4,
 "nbformat_minor": 5
}
